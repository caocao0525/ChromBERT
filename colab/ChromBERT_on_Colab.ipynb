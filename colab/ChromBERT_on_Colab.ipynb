{
  "cells": [
    {
      "cell_type": "markdown",
      "metadata": {
        "id": "10gABVz9VZ4v"
      },
      "source": [
        "![Status](https://img.shields.io/static/v1.svg?label=Status&message=Developing&color=yellow)\n",
        "\n",
        "<!-- ![ChromBERT](https://img.shields.io/static/v1.svg?label=Tutorial&message=Preprocessing&color=salmon) -->\n",
        "\n",
        "\n",
        "# ChromBERT: Uncovering Chromatin State Motifs in the Human Genome Using a BERT-based Approach\n",
        "\n",
        "\n",
        "\n",
        "- Github repository: [![Github](https://img.shields.io/static/v1.svg?logo=github&label=Repo&message=Github&color=olive)](https://github.com/caocao0525/ChromBERT)<br>\n",
        "- Tutorial Notebook: [![Open In Collab](https://colab.research.google.com/assets/colab-badge.svg)](https://colab.research.google.com/github/caocao0525/ChromBERT/blob/chrombert-py311-extended/colab/ChromBERT_on_Colab.ipynb)\n",
        "\n",
        "<br>\n",
        "\n",
        "---\n",
        "📖 **Citation (Preprint)**:<br>\n",
        "\n",
        "- Seohyun Lee, Che Lin, Chien-Yu Chen, and Ryuichiro Nakato* (2024) ChromBERT: Uncovering Chromatin State Motifs in the Human Genome Using a BERT-based Approach, *bioRxiv* [![DOI:10.1101/2024.07.25.605219](http://img.shields.io/badge/DOI-10.1101/2024.07.25.605219-008080.svg)](https://doi.org/10.1101/2024.07.25.605219)\n",
        "<!--**DOI:** [10.1101/2024.07.25.605219](https://doi.org/10.1101/2024.07.25.605219) -->\n",
        "\n",
        "---"
      ]
    },
    {
      "cell_type": "markdown",
      "metadata": {
        "id": "x_wNp6bXJb84"
      },
      "source": [
        "<br>\n",
        "\n",
        "Chromatin states are crucial for gene regulation and cellular identity, defined by unique histone modifications. This tutorial introduces **ChromBERT**, a BERT-based model tailored to analyze chromatin state annotation sequences (Fig. 1). **ChromBERT** efficiently processes these sequences to identify patterns during its pretraining stage, learning general chromatin state patterns across the genome. During fine-tuning, **ChromBERT** distinguishes between promoters associated with high and low gene expression based on their distinctive patterns.\n",
        "\n",
        "Additionally, **ChromBERT** allows users to extract motif-like chromatin state patterns from specific regions, such as highly expressed promoters, utilizing the attention matrix from BERT training. The tool also incorporates motif clustering with Dynamic Time Warping (DTW) to enhance understanding of genomic regions, potentially aiding in the discovery of novel biological functions and enriching our insights into chromatin dynamics.\n",
        "\n",
        "<br>\n",
        "\n",
        "<!-- <figure>\n",
        "<img src=\"https://drive.google.com/uc?export=view&id=12OK_ZjwcjRNIlsPItRbhXy-kKGfEKqsh\" alt=\"ChromBERT Overview\" width=\"800\"/>\n",
        "<figcaption>Fig.1 The Overview of ChromBERT</figcaption>\n",
        "</figure> -->\n",
        "\n",
        "<figure>\n",
        "<img src=\"https://github.com/caocao0525/ChromBERT/blob/chrombert-py311-extended/colab/colab_data/abs_fig.png?raw=true\" alt=\"ChromBERT Overview\" width=\"800\"/>\n",
        "<figcaption>Fig.1 The Overview of ChromBERT</figcaption>\n",
        "</figure>\n",
        "\n",
        "\n",
        "<br><br>\n",
        "\n"
      ]
    },
    {
      "cell_type": "markdown",
      "metadata": {
        "id": "UBsGwJlvZ0fB"
      },
      "source": [
        "---\n",
        "<br>\n",
        "\n",
        "# Objective\n",
        "\n",
        "In this tutorial, we will:\n",
        "\n",
        "<!-- ![ChromBERT](https://img.shields.io/static/v1.svg?label=Tutorial&message=Preprocessing&color=salmon) -->\n",
        "<!-- ![ChromBERT](https://img.shields.io/static/v1.svg?label=Tutorial&message=Preprocessing&color=salmon) -->\n",
        "<!-- - Aim 1. Master Basics of ChromBERT\n",
        "  - 1-1. Understand chromatin state annotation\n",
        "  - 1-2. Learn the alphabetical encoding of chromatin states\n",
        "  - 1-3. Follow the data curation process -->\n",
        "\n",
        "<!-- ![ChromBERT](https://img.shields.io/static/v1.svg?label=Tutorial&message=Preprocessing&color=salmon) -->\n",
        "- 🎯 **Aim**: Master the overall process for **ChromBERT**\n",
        "  1. Prepare input data for **pretraining**\n",
        "  2. Prepare input data for **fine-tuning**\n",
        "  3. Detect and cluster chromatin state **motifs**\n",
        "  \n",
        "\n",
        "Join us as we explore these essential steps in utilizing **ChromBERT** for epigenomic analysis! 🚀✨\n",
        "\n",
        "<!-- ![ChromBERT](https://img.shields.io/static/v1.svg?label=Tutorial&message=Training&color=cornflowerblue) -->\n",
        "<!-- ![ChromBERT](https://img.shields.io/static/v1.svg?label=Tutorial&message=Training&color=cornflowerblue) -->\n",
        "<!-- - Aim 3. Master ChromBERT Training Workflow\n",
        " - 3-1. Explore the pretraining techniques\n",
        " - 3-2. Delve into fine-tuning procedures\n",
        " - 3-3. Analyze results derived from ChromBERT -->\n",
        "\n",
        "\n",
        "<!-- <br> -->\n"
      ]
    },
    {
      "cell_type": "markdown",
      "metadata": {
        "id": "FZxPKCQzixxy"
      },
      "source": [
        "---\n",
        "\n",
        "# 1. Environment Setup\n"
      ]
    },
    {
      "cell_type": "markdown",
      "metadata": {
        "id": "K998-fKUjHBy"
      },
      "source": [
        "## Package Installation\n",
        "\n",
        "Before we dive into the hands-on part of this tutorial, let's equip ourselves with all the necessary tools. Follow these steps to install the required packages, ensuring you have everything you need to seamlessly run **ChromBERT** and explore the intricacies of epigenomic data analysis.\n",
        "\n",
        "\n",
        "- Write the `requirements.txt` file and install the required packages 📦"
      ]
    },
    {
      "cell_type": "code",
      "source": [
        "%%writefile requirements.txt\n",
        "numpy~=2.0\n",
        "pandas~=2.2\n",
        "matplotlib~=3.10\n",
        "networkx~=3.4\n",
        "seaborn~=0.13\n",
        "scipy~=1.14\n",
        "scikit-learn~=1.6\n",
        "tqdm~=4.67\n",
        "wordcloud~=1.9\n",
        "logomaker~=0.8\n",
        "tslearn~=0.6\n",
        "notebook\n",
        "h5py\n",
        "ipywidgets\n",
        "umap-learn~=0.5\n",
        "biopython\n",
        "statsmodels~=0.14\n",
        "seqeval~=1.2\n",
        "pyahocorasick\n",
        "sentencepiece~=0.1.99\n",
        "tensorboardX\n",
        "stylecloud\n",
        "pybedtools~=0.12"
      ],
      "metadata": {
        "colab": {
          "base_uri": "https://localhost:8080/"
        },
        "id": "lX4psGio4Ow3",
        "outputId": "0640fcce-9500-41e0-dcdc-1d52b5282a74"
      },
      "execution_count": 1,
      "outputs": [
        {
          "output_type": "stream",
          "name": "stdout",
          "text": [
            "Writing requirements.txt\n"
          ]
        }
      ]
    },
    {
      "cell_type": "code",
      "execution_count": null,
      "metadata": {
        "colab": {
          "base_uri": "https://localhost:8080/"
        },
        "collapsed": true,
        "id": "IphV6IWIpp2F",
        "outputId": "8d880ea7-07fa-4868-d322-12dd4ec8358a"
      },
      "outputs": [
        {
          "output_type": "stream",
          "name": "stdout",
          "text": [
            "Requirement already satisfied: numpy~=2.0 in /usr/local/lib/python3.11/dist-packages (from -r requirements.txt (line 1)) (2.0.2)\n",
            "Requirement already satisfied: pandas~=2.2 in /usr/local/lib/python3.11/dist-packages (from -r requirements.txt (line 2)) (2.2.2)\n",
            "Requirement already satisfied: matplotlib~=3.10 in /usr/local/lib/python3.11/dist-packages (from -r requirements.txt (line 3)) (3.10.0)\n",
            "Requirement already satisfied: networkx~=3.4 in /usr/local/lib/python3.11/dist-packages (from -r requirements.txt (line 4)) (3.4.2)\n",
            "Requirement already satisfied: seaborn~=0.13 in /usr/local/lib/python3.11/dist-packages (from -r requirements.txt (line 5)) (0.13.2)\n",
            "Requirement already satisfied: scipy~=1.14 in /usr/local/lib/python3.11/dist-packages (from -r requirements.txt (line 6)) (1.14.1)\n",
            "Requirement already satisfied: scikit-learn~=1.6 in /usr/local/lib/python3.11/dist-packages (from -r requirements.txt (line 7)) (1.6.1)\n",
            "Requirement already satisfied: tqdm~=4.67 in /usr/local/lib/python3.11/dist-packages (from -r requirements.txt (line 8)) (4.67.1)\n",
            "Requirement already satisfied: wordcloud~=1.9 in /usr/local/lib/python3.11/dist-packages (from -r requirements.txt (line 9)) (1.9.4)\n",
            "Requirement already satisfied: logomaker~=0.8 in /usr/local/lib/python3.11/dist-packages (from -r requirements.txt (line 10)) (0.8.7)\n",
            "Requirement already satisfied: tslearn~=0.6 in /usr/local/lib/python3.11/dist-packages (from -r requirements.txt (line 11)) (0.6.3)\n",
            "Requirement already satisfied: notebook in /usr/local/lib/python3.11/dist-packages (from -r requirements.txt (line 12)) (6.5.7)\n",
            "Requirement already satisfied: h5py in /usr/local/lib/python3.11/dist-packages (from -r requirements.txt (line 13)) (3.13.0)\n",
            "Requirement already satisfied: ipywidgets in /usr/local/lib/python3.11/dist-packages (from -r requirements.txt (line 14)) (7.7.1)\n",
            "Requirement already satisfied: umap-learn~=0.5 in /usr/local/lib/python3.11/dist-packages (from -r requirements.txt (line 15)) (0.5.7)\n",
            "Requirement already satisfied: biopython in /usr/local/lib/python3.11/dist-packages (from -r requirements.txt (line 16)) (1.85)\n",
            "Requirement already satisfied: statsmodels~=0.14 in /usr/local/lib/python3.11/dist-packages (from -r requirements.txt (line 17)) (0.14.4)\n",
            "Requirement already satisfied: seqeval~=1.2 in /usr/local/lib/python3.11/dist-packages (from -r requirements.txt (line 18)) (1.2.2)\n",
            "Requirement already satisfied: pyahocorasick in /usr/local/lib/python3.11/dist-packages (from -r requirements.txt (line 19)) (2.1.0)\n",
            "Requirement already satisfied: sentencepiece~=0.1.99 in /usr/local/lib/python3.11/dist-packages (from -r requirements.txt (line 20)) (0.1.99)\n",
            "Requirement already satisfied: tensorboardX in /usr/local/lib/python3.11/dist-packages (from -r requirements.txt (line 21)) (2.6.2.2)\n",
            "Requirement already satisfied: stylecloud in /usr/local/lib/python3.11/dist-packages (from -r requirements.txt (line 22)) (0.5.2)\n",
            "Requirement already satisfied: pybedtools~=0.12 in /usr/local/lib/python3.11/dist-packages (from -r requirements.txt (line 23)) (0.12.0)\n",
            "Requirement already satisfied: python-dateutil>=2.8.2 in /usr/local/lib/python3.11/dist-packages (from pandas~=2.2->-r requirements.txt (line 2)) (2.8.2)\n",
            "Requirement already satisfied: pytz>=2020.1 in /usr/local/lib/python3.11/dist-packages (from pandas~=2.2->-r requirements.txt (line 2)) (2025.2)\n",
            "Requirement already satisfied: tzdata>=2022.7 in /usr/local/lib/python3.11/dist-packages (from pandas~=2.2->-r requirements.txt (line 2)) (2025.2)\n",
            "Requirement already satisfied: contourpy>=1.0.1 in /usr/local/lib/python3.11/dist-packages (from matplotlib~=3.10->-r requirements.txt (line 3)) (1.3.2)\n",
            "Requirement already satisfied: cycler>=0.10 in /usr/local/lib/python3.11/dist-packages (from matplotlib~=3.10->-r requirements.txt (line 3)) (0.12.1)\n",
            "Requirement already satisfied: fonttools>=4.22.0 in /usr/local/lib/python3.11/dist-packages (from matplotlib~=3.10->-r requirements.txt (line 3)) (4.57.0)\n",
            "Requirement already satisfied: kiwisolver>=1.3.1 in /usr/local/lib/python3.11/dist-packages (from matplotlib~=3.10->-r requirements.txt (line 3)) (1.4.8)\n",
            "Requirement already satisfied: packaging>=20.0 in /usr/local/lib/python3.11/dist-packages (from matplotlib~=3.10->-r requirements.txt (line 3)) (24.2)\n",
            "Requirement already satisfied: pillow>=8 in /usr/local/lib/python3.11/dist-packages (from matplotlib~=3.10->-r requirements.txt (line 3)) (11.1.0)\n",
            "Requirement already satisfied: pyparsing>=2.3.1 in /usr/local/lib/python3.11/dist-packages (from matplotlib~=3.10->-r requirements.txt (line 3)) (3.2.3)\n",
            "Requirement already satisfied: joblib>=1.2.0 in /usr/local/lib/python3.11/dist-packages (from scikit-learn~=1.6->-r requirements.txt (line 7)) (1.4.2)\n",
            "Requirement already satisfied: threadpoolctl>=3.1.0 in /usr/local/lib/python3.11/dist-packages (from scikit-learn~=1.6->-r requirements.txt (line 7)) (3.6.0)\n",
            "Requirement already satisfied: numba in /usr/local/lib/python3.11/dist-packages (from tslearn~=0.6->-r requirements.txt (line 11)) (0.60.0)\n",
            "Requirement already satisfied: jinja2 in /usr/local/lib/python3.11/dist-packages (from notebook->-r requirements.txt (line 12)) (3.1.6)\n",
            "Requirement already satisfied: tornado>=6.1 in /usr/local/lib/python3.11/dist-packages (from notebook->-r requirements.txt (line 12)) (6.4.2)\n",
            "Requirement already satisfied: pyzmq>=17 in /usr/local/lib/python3.11/dist-packages (from notebook->-r requirements.txt (line 12)) (24.0.1)\n",
            "Requirement already satisfied: argon2-cffi in /usr/local/lib/python3.11/dist-packages (from notebook->-r requirements.txt (line 12)) (23.1.0)\n",
            "Requirement already satisfied: traitlets>=4.2.1 in /usr/local/lib/python3.11/dist-packages (from notebook->-r requirements.txt (line 12)) (5.7.1)\n",
            "Requirement already satisfied: jupyter-core>=4.6.1 in /usr/local/lib/python3.11/dist-packages (from notebook->-r requirements.txt (line 12)) (5.7.2)\n",
            "Requirement already satisfied: jupyter-client<8,>=5.3.4 in /usr/local/lib/python3.11/dist-packages (from notebook->-r requirements.txt (line 12)) (6.1.12)\n",
            "Requirement already satisfied: ipython-genutils in /usr/local/lib/python3.11/dist-packages (from notebook->-r requirements.txt (line 12)) (0.2.0)\n",
            "Requirement already satisfied: nbformat in /usr/local/lib/python3.11/dist-packages (from notebook->-r requirements.txt (line 12)) (5.10.4)\n",
            "Requirement already satisfied: nbconvert>=5 in /usr/local/lib/python3.11/dist-packages (from notebook->-r requirements.txt (line 12)) (7.16.6)\n",
            "Requirement already satisfied: nest-asyncio>=1.5 in /usr/local/lib/python3.11/dist-packages (from notebook->-r requirements.txt (line 12)) (1.6.0)\n",
            "Requirement already satisfied: ipykernel in /usr/local/lib/python3.11/dist-packages (from notebook->-r requirements.txt (line 12)) (6.17.1)\n",
            "Requirement already satisfied: Send2Trash>=1.8.0 in /usr/local/lib/python3.11/dist-packages (from notebook->-r requirements.txt (line 12)) (1.8.3)\n",
            "Requirement already satisfied: terminado>=0.8.3 in /usr/local/lib/python3.11/dist-packages (from notebook->-r requirements.txt (line 12)) (0.18.1)\n",
            "Requirement already satisfied: prometheus-client in /usr/local/lib/python3.11/dist-packages (from notebook->-r requirements.txt (line 12)) (0.21.1)\n",
            "Requirement already satisfied: nbclassic>=0.4.7 in /usr/local/lib/python3.11/dist-packages (from notebook->-r requirements.txt (line 12)) (1.2.0)\n",
            "Requirement already satisfied: widgetsnbextension~=3.6.0 in /usr/local/lib/python3.11/dist-packages (from ipywidgets->-r requirements.txt (line 14)) (3.6.10)\n",
            "Requirement already satisfied: ipython>=4.0.0 in /usr/local/lib/python3.11/dist-packages (from ipywidgets->-r requirements.txt (line 14)) (7.34.0)\n",
            "Requirement already satisfied: jupyterlab-widgets>=1.0.0 in /usr/local/lib/python3.11/dist-packages (from ipywidgets->-r requirements.txt (line 14)) (3.0.14)\n",
            "Requirement already satisfied: pynndescent>=0.5 in /usr/local/lib/python3.11/dist-packages (from umap-learn~=0.5->-r requirements.txt (line 15)) (0.5.13)\n",
            "Requirement already satisfied: patsy>=0.5.6 in /usr/local/lib/python3.11/dist-packages (from statsmodels~=0.14->-r requirements.txt (line 17)) (1.0.1)\n",
            "Requirement already satisfied: protobuf>=3.20 in /usr/local/lib/python3.11/dist-packages (from tensorboardX->-r requirements.txt (line 21)) (5.29.4)\n",
            "Requirement already satisfied: icon-font-to-png in /usr/local/lib/python3.11/dist-packages (from stylecloud->-r requirements.txt (line 22)) (0.4.1)\n",
            "Requirement already satisfied: palettable in /usr/local/lib/python3.11/dist-packages (from stylecloud->-r requirements.txt (line 22)) (3.3.3)\n",
            "Requirement already satisfied: fire in /usr/local/lib/python3.11/dist-packages (from stylecloud->-r requirements.txt (line 22)) (0.7.0)\n",
            "Requirement already satisfied: pysam in /usr/local/lib/python3.11/dist-packages (from pybedtools~=0.12->-r requirements.txt (line 23)) (0.23.0)\n",
            "Requirement already satisfied: debugpy>=1.0 in /usr/local/lib/python3.11/dist-packages (from ipykernel->notebook->-r requirements.txt (line 12)) (1.8.0)\n",
            "Requirement already satisfied: matplotlib-inline>=0.1 in /usr/local/lib/python3.11/dist-packages (from ipykernel->notebook->-r requirements.txt (line 12)) (0.1.7)\n",
            "Requirement already satisfied: psutil in /usr/local/lib/python3.11/dist-packages (from ipykernel->notebook->-r requirements.txt (line 12)) (5.9.5)\n",
            "Requirement already satisfied: setuptools>=18.5 in /usr/local/lib/python3.11/dist-packages (from ipython>=4.0.0->ipywidgets->-r requirements.txt (line 14)) (75.2.0)\n",
            "Requirement already satisfied: jedi>=0.16 in /usr/local/lib/python3.11/dist-packages (from ipython>=4.0.0->ipywidgets->-r requirements.txt (line 14)) (0.19.2)\n",
            "Requirement already satisfied: decorator in /usr/local/lib/python3.11/dist-packages (from ipython>=4.0.0->ipywidgets->-r requirements.txt (line 14)) (4.4.2)\n",
            "Requirement already satisfied: pickleshare in /usr/local/lib/python3.11/dist-packages (from ipython>=4.0.0->ipywidgets->-r requirements.txt (line 14)) (0.7.5)\n",
            "Requirement already satisfied: prompt-toolkit!=3.0.0,!=3.0.1,<3.1.0,>=2.0.0 in /usr/local/lib/python3.11/dist-packages (from ipython>=4.0.0->ipywidgets->-r requirements.txt (line 14)) (3.0.51)\n",
            "Requirement already satisfied: pygments in /usr/local/lib/python3.11/dist-packages (from ipython>=4.0.0->ipywidgets->-r requirements.txt (line 14)) (2.18.0)\n",
            "Requirement already satisfied: backcall in /usr/local/lib/python3.11/dist-packages (from ipython>=4.0.0->ipywidgets->-r requirements.txt (line 14)) (0.2.0)\n",
            "Requirement already satisfied: pexpect>4.3 in /usr/local/lib/python3.11/dist-packages (from ipython>=4.0.0->ipywidgets->-r requirements.txt (line 14)) (4.9.0)\n",
            "Requirement already satisfied: platformdirs>=2.5 in /usr/local/lib/python3.11/dist-packages (from jupyter-core>=4.6.1->notebook->-r requirements.txt (line 12)) (4.3.7)\n",
            "Requirement already satisfied: notebook-shim>=0.2.3 in /usr/local/lib/python3.11/dist-packages (from nbclassic>=0.4.7->notebook->-r requirements.txt (line 12)) (0.2.4)\n",
            "Requirement already satisfied: beautifulsoup4 in /usr/local/lib/python3.11/dist-packages (from nbconvert>=5->notebook->-r requirements.txt (line 12)) (4.13.4)\n",
            "Requirement already satisfied: bleach!=5.0.0 in /usr/local/lib/python3.11/dist-packages (from bleach[css]!=5.0.0->nbconvert>=5->notebook->-r requirements.txt (line 12)) (6.2.0)\n",
            "Requirement already satisfied: defusedxml in /usr/local/lib/python3.11/dist-packages (from nbconvert>=5->notebook->-r requirements.txt (line 12)) (0.7.1)\n",
            "Requirement already satisfied: jupyterlab-pygments in /usr/local/lib/python3.11/dist-packages (from nbconvert>=5->notebook->-r requirements.txt (line 12)) (0.3.0)\n",
            "Requirement already satisfied: markupsafe>=2.0 in /usr/local/lib/python3.11/dist-packages (from nbconvert>=5->notebook->-r requirements.txt (line 12)) (3.0.2)\n",
            "Requirement already satisfied: mistune<4,>=2.0.3 in /usr/local/lib/python3.11/dist-packages (from nbconvert>=5->notebook->-r requirements.txt (line 12)) (3.1.3)\n",
            "Requirement already satisfied: nbclient>=0.5.0 in /usr/local/lib/python3.11/dist-packages (from nbconvert>=5->notebook->-r requirements.txt (line 12)) (0.10.2)\n",
            "Requirement already satisfied: pandocfilters>=1.4.1 in /usr/local/lib/python3.11/dist-packages (from nbconvert>=5->notebook->-r requirements.txt (line 12)) (1.5.1)\n",
            "Requirement already satisfied: fastjsonschema>=2.15 in /usr/local/lib/python3.11/dist-packages (from nbformat->notebook->-r requirements.txt (line 12)) (2.21.1)\n",
            "Requirement already satisfied: jsonschema>=2.6 in /usr/local/lib/python3.11/dist-packages (from nbformat->notebook->-r requirements.txt (line 12)) (4.23.0)\n",
            "Requirement already satisfied: llvmlite<0.44,>=0.43.0dev0 in /usr/local/lib/python3.11/dist-packages (from numba->tslearn~=0.6->-r requirements.txt (line 11)) (0.43.0)\n",
            "Requirement already satisfied: six>=1.5 in /usr/local/lib/python3.11/dist-packages (from python-dateutil>=2.8.2->pandas~=2.2->-r requirements.txt (line 2)) (1.17.0)\n",
            "Requirement already satisfied: ptyprocess in /usr/local/lib/python3.11/dist-packages (from terminado>=0.8.3->notebook->-r requirements.txt (line 12)) (0.7.0)\n",
            "Requirement already satisfied: argon2-cffi-bindings in /usr/local/lib/python3.11/dist-packages (from argon2-cffi->notebook->-r requirements.txt (line 12)) (21.2.0)\n",
            "Requirement already satisfied: termcolor in /usr/local/lib/python3.11/dist-packages (from fire->stylecloud->-r requirements.txt (line 22)) (3.0.1)\n",
            "Requirement already satisfied: requests>=2.12.5 in /usr/local/lib/python3.11/dist-packages (from icon-font-to-png->stylecloud->-r requirements.txt (line 22)) (2.32.3)\n",
            "Requirement already satisfied: tinycss>=0.4 in /usr/local/lib/python3.11/dist-packages (from icon-font-to-png->stylecloud->-r requirements.txt (line 22)) (0.4)\n",
            "Requirement already satisfied: webencodings in /usr/local/lib/python3.11/dist-packages (from bleach!=5.0.0->bleach[css]!=5.0.0->nbconvert>=5->notebook->-r requirements.txt (line 12)) (0.5.1)\n",
            "Requirement already satisfied: tinycss2<1.5,>=1.1.0 in /usr/local/lib/python3.11/dist-packages (from bleach[css]!=5.0.0->nbconvert>=5->notebook->-r requirements.txt (line 12)) (1.4.0)\n",
            "Requirement already satisfied: parso<0.9.0,>=0.8.4 in /usr/local/lib/python3.11/dist-packages (from jedi>=0.16->ipython>=4.0.0->ipywidgets->-r requirements.txt (line 14)) (0.8.4)\n",
            "Requirement already satisfied: attrs>=22.2.0 in /usr/local/lib/python3.11/dist-packages (from jsonschema>=2.6->nbformat->notebook->-r requirements.txt (line 12)) (25.3.0)\n",
            "Requirement already satisfied: jsonschema-specifications>=2023.03.6 in /usr/local/lib/python3.11/dist-packages (from jsonschema>=2.6->nbformat->notebook->-r requirements.txt (line 12)) (2024.10.1)\n",
            "Requirement already satisfied: referencing>=0.28.4 in /usr/local/lib/python3.11/dist-packages (from jsonschema>=2.6->nbformat->notebook->-r requirements.txt (line 12)) (0.36.2)\n",
            "Requirement already satisfied: rpds-py>=0.7.1 in /usr/local/lib/python3.11/dist-packages (from jsonschema>=2.6->nbformat->notebook->-r requirements.txt (line 12)) (0.24.0)\n",
            "Requirement already satisfied: jupyter-server<3,>=1.8 in /usr/local/lib/python3.11/dist-packages (from notebook-shim>=0.2.3->nbclassic>=0.4.7->notebook->-r requirements.txt (line 12)) (1.16.0)\n",
            "Requirement already satisfied: wcwidth in /usr/local/lib/python3.11/dist-packages (from prompt-toolkit!=3.0.0,!=3.0.1,<3.1.0,>=2.0.0->ipython>=4.0.0->ipywidgets->-r requirements.txt (line 14)) (0.2.13)\n",
            "Requirement already satisfied: charset-normalizer<4,>=2 in /usr/local/lib/python3.11/dist-packages (from requests>=2.12.5->icon-font-to-png->stylecloud->-r requirements.txt (line 22)) (3.4.1)\n",
            "Requirement already satisfied: idna<4,>=2.5 in /usr/local/lib/python3.11/dist-packages (from requests>=2.12.5->icon-font-to-png->stylecloud->-r requirements.txt (line 22)) (3.10)\n",
            "Requirement already satisfied: urllib3<3,>=1.21.1 in /usr/local/lib/python3.11/dist-packages (from requests>=2.12.5->icon-font-to-png->stylecloud->-r requirements.txt (line 22)) (2.3.0)\n",
            "Requirement already satisfied: certifi>=2017.4.17 in /usr/local/lib/python3.11/dist-packages (from requests>=2.12.5->icon-font-to-png->stylecloud->-r requirements.txt (line 22)) (2025.1.31)\n",
            "Requirement already satisfied: cffi>=1.0.1 in /usr/local/lib/python3.11/dist-packages (from argon2-cffi-bindings->argon2-cffi->notebook->-r requirements.txt (line 12)) (1.17.1)\n",
            "Requirement already satisfied: soupsieve>1.2 in /usr/local/lib/python3.11/dist-packages (from beautifulsoup4->nbconvert>=5->notebook->-r requirements.txt (line 12)) (2.6)\n",
            "Requirement already satisfied: typing-extensions>=4.0.0 in /usr/local/lib/python3.11/dist-packages (from beautifulsoup4->nbconvert>=5->notebook->-r requirements.txt (line 12)) (4.13.2)\n",
            "Requirement already satisfied: pycparser in /usr/local/lib/python3.11/dist-packages (from cffi>=1.0.1->argon2-cffi-bindings->argon2-cffi->notebook->-r requirements.txt (line 12)) (2.22)\n",
            "Requirement already satisfied: anyio>=3.1.0 in /usr/local/lib/python3.11/dist-packages (from jupyter-server<3,>=1.8->notebook-shim>=0.2.3->nbclassic>=0.4.7->notebook->-r requirements.txt (line 12)) (4.9.0)\n",
            "Requirement already satisfied: websocket-client in /usr/local/lib/python3.11/dist-packages (from jupyter-server<3,>=1.8->notebook-shim>=0.2.3->nbclassic>=0.4.7->notebook->-r requirements.txt (line 12)) (1.8.0)\n",
            "Requirement already satisfied: sniffio>=1.1 in /usr/local/lib/python3.11/dist-packages (from anyio>=3.1.0->jupyter-server<3,>=1.8->notebook-shim>=0.2.3->nbclassic>=0.4.7->notebook->-r requirements.txt (line 12)) (1.3.1)\n"
          ]
        }
      ],
      "source": [
        "!pip install -r requirements.txt"
      ]
    },
    {
      "cell_type": "markdown",
      "metadata": {
        "id": "yV0jGrBitgsp"
      },
      "source": [
        "## Download Utility Files\n",
        "- Download and import the **ChomBERT** utility file 🔧 along with the chromatin annotation data for the H1 cell type."
      ]
    },
    {
      "cell_type": "code",
      "execution_count": null,
      "metadata": {
        "colab": {
          "base_uri": "https://localhost:8080/"
        },
        "collapsed": true,
        "id": "qQl_qA2D51q2",
        "outputId": "a5fa2b66-53aa-4ad5-941f-259359cf6e27"
      },
      "outputs": [
        {
          "output_type": "stream",
          "name": "stdout",
          "text": [
            "--2025-04-24 03:40:04--  https://raw.githubusercontent.com/caocao0525/ChromBERT/chrombert-py311-extended/colab/colab_data/test_files/css_utility_colab_dev.py\n",
            "Resolving raw.githubusercontent.com (raw.githubusercontent.com)... 185.199.108.133, 185.199.109.133, 185.199.110.133, ...\n",
            "Connecting to raw.githubusercontent.com (raw.githubusercontent.com)|185.199.108.133|:443... connected.\n",
            "HTTP request sent, awaiting response... 200 OK\n",
            "Length: 122186 (119K) [text/plain]\n",
            "Saving to: ‘css_utility.py’\n",
            "\n",
            "css_utility.py      100%[===================>] 119.32K  --.-KB/s    in 0.03s   \n",
            "\n",
            "2025-04-24 03:40:05 (4.46 MB/s) - ‘css_utility.py’ saved [122186/122186]\n",
            "\n",
            "--2025-04-24 03:40:05--  https://raw.githubusercontent.com/caocao0525/ChromBERT/chrombert-py311-extended/colab/colab_data/test_files/E003_15_coreMarks_stateno.bed\n",
            "Resolving raw.githubusercontent.com (raw.githubusercontent.com)... 185.199.108.133, 185.199.109.133, 185.199.110.133, ...\n",
            "Connecting to raw.githubusercontent.com (raw.githubusercontent.com)|185.199.108.133|:443... connected.\n",
            "HTTP request sent, awaiting response... 200 OK\n",
            "Length: 11844320 (11M) [text/plain]\n",
            "Saving to: ‘E003_15_coreMarks_stateno.bed’\n",
            "\n",
            "E003_15_coreMarks_s 100%[===================>]  11.29M  --.-KB/s    in 0.1s    \n",
            "\n",
            "2025-04-24 03:40:06 (101 MB/s) - ‘E003_15_coreMarks_stateno.bed’ saved [11844320/11844320]\n",
            "\n"
          ]
        }
      ],
      "source": [
        "# Get the ChromBERT utility file\n",
        "!wget -O css_utility.py https://raw.githubusercontent.com/caocao0525/ChromBERT/chrombert-py311-extended/colab/colab_data/test_files/css_utility_colab_dev.py\n",
        "\n",
        "# Download the BED file for chromatin state annotations of sample cell type E003 (E003_15_coreMarks_stateno.bed)\n",
        "!wget https://raw.githubusercontent.com/caocao0525/ChromBERT/chrombert-py311-extended/colab/colab_data/test_files/E003_15_coreMarks_stateno.bed\n"
      ]
    },
    {
      "cell_type": "code",
      "execution_count": null,
      "metadata": {
        "id": "wzTlLUhzrMuU"
      },
      "outputs": [],
      "source": [
        "# Import ChromBERT utilities\n",
        "import css_utility as crb"
      ]
    },
    {
      "cell_type": "markdown",
      "metadata": {
        "id": "d3vpqE7qtrXe"
      },
      "source": [
        "<br>\n",
        "\n",
        "---\n",
        "\n",
        "# 2. Data curation\n",
        "\n",
        "\n",
        "The ROADMAP project provides chromatin state annotation data for 127 cell types. The file you just downloaded is one of them. Click on the file icon 📂 on the left to see the name of the downloaded file. `E003_15_coreMarks_stateno.bed` is the chromatin state annotation file in BED format. Here, `E003` indicates the cell type, and `15` refers to the number of chromatin states used for the annotation. You can visit <a href=\"https://egg2.wustl.edu/roadmap/web_portal/meta.html\">this page (Metadata for Reprocessed data from 127 Consolidated Epigenomes)</a> to learn more about the cell types in the ROADMAP project.\n",
        "\n",
        "\n"
      ]
    },
    {
      "cell_type": "markdown",
      "metadata": {
        "id": "gu3HK7LOjpOo"
      },
      "source": [
        "<br>\n",
        "\n",
        "## Load Raw Data\n",
        "\n",
        "Now, we will load the raw BED file, which is the chromatin state annotation file from the ROADMAP project. For this first trial, we will use the cell type `E003`. You can check the table below to see what this cell type represents 🔎\n",
        "\n",
        "<br>\n",
        "\n",
        "<!-- <figure>\n",
        "<img src=\"https://drive.google.com/uc?export=view&id=165lpr1WeJosqFVNEVwpg60IufxC-NJwq\" alt=\"ROADMAP cell type information\" width=\"685\"/>\n",
        "<figcaption>Fig.6 Cell type from ROADMAP database</figcaption>\n",
        "</figure>\n",
        "\n",
        "\n",
        "\n",
        "<br> -->"
      ]
    },
    {
      "cell_type": "code",
      "execution_count": null,
      "metadata": {
        "colab": {
          "base_uri": "https://localhost:8080/",
          "height": 204
        },
        "id": "q_gxfK7jtqlK",
        "outputId": "bae1ad04-f90b-45d1-9e14-825e55135e4b"
      },
      "outputs": [
        {
          "output_type": "execute_result",
          "data": {
            "text/plain": [
              "  chromosome   start     end state\n",
              "0       chr1       0    9800    15\n",
              "1       chr1    9800   10800     9\n",
              "2       chr1   10800  136400    15\n",
              "3       chr1  136400  138800     5\n",
              "4       chr1  138800  139600     4"
            ],
            "text/html": [
              "\n",
              "  <div id=\"df-9514ec8f-8a72-492b-bf34-72f20855ce26\" class=\"colab-df-container\">\n",
              "    <div>\n",
              "<style scoped>\n",
              "    .dataframe tbody tr th:only-of-type {\n",
              "        vertical-align: middle;\n",
              "    }\n",
              "\n",
              "    .dataframe tbody tr th {\n",
              "        vertical-align: top;\n",
              "    }\n",
              "\n",
              "    .dataframe thead th {\n",
              "        text-align: right;\n",
              "    }\n",
              "</style>\n",
              "<table border=\"1\" class=\"dataframe\">\n",
              "  <thead>\n",
              "    <tr style=\"text-align: right;\">\n",
              "      <th></th>\n",
              "      <th>chromosome</th>\n",
              "      <th>start</th>\n",
              "      <th>end</th>\n",
              "      <th>state</th>\n",
              "    </tr>\n",
              "  </thead>\n",
              "  <tbody>\n",
              "    <tr>\n",
              "      <th>0</th>\n",
              "      <td>chr1</td>\n",
              "      <td>0</td>\n",
              "      <td>9800</td>\n",
              "      <td>15</td>\n",
              "    </tr>\n",
              "    <tr>\n",
              "      <th>1</th>\n",
              "      <td>chr1</td>\n",
              "      <td>9800</td>\n",
              "      <td>10800</td>\n",
              "      <td>9</td>\n",
              "    </tr>\n",
              "    <tr>\n",
              "      <th>2</th>\n",
              "      <td>chr1</td>\n",
              "      <td>10800</td>\n",
              "      <td>136400</td>\n",
              "      <td>15</td>\n",
              "    </tr>\n",
              "    <tr>\n",
              "      <th>3</th>\n",
              "      <td>chr1</td>\n",
              "      <td>136400</td>\n",
              "      <td>138800</td>\n",
              "      <td>5</td>\n",
              "    </tr>\n",
              "    <tr>\n",
              "      <th>4</th>\n",
              "      <td>chr1</td>\n",
              "      <td>138800</td>\n",
              "      <td>139600</td>\n",
              "      <td>4</td>\n",
              "    </tr>\n",
              "  </tbody>\n",
              "</table>\n",
              "</div>\n",
              "    <div class=\"colab-df-buttons\">\n",
              "\n",
              "  <div class=\"colab-df-container\">\n",
              "    <button class=\"colab-df-convert\" onclick=\"convertToInteractive('df-9514ec8f-8a72-492b-bf34-72f20855ce26')\"\n",
              "            title=\"Convert this dataframe to an interactive table.\"\n",
              "            style=\"display:none;\">\n",
              "\n",
              "  <svg xmlns=\"http://www.w3.org/2000/svg\" height=\"24px\" viewBox=\"0 -960 960 960\">\n",
              "    <path d=\"M120-120v-720h720v720H120Zm60-500h600v-160H180v160Zm220 220h160v-160H400v160Zm0 220h160v-160H400v160ZM180-400h160v-160H180v160Zm440 0h160v-160H620v160ZM180-180h160v-160H180v160Zm440 0h160v-160H620v160Z\"/>\n",
              "  </svg>\n",
              "    </button>\n",
              "\n",
              "  <style>\n",
              "    .colab-df-container {\n",
              "      display:flex;\n",
              "      gap: 12px;\n",
              "    }\n",
              "\n",
              "    .colab-df-convert {\n",
              "      background-color: #E8F0FE;\n",
              "      border: none;\n",
              "      border-radius: 50%;\n",
              "      cursor: pointer;\n",
              "      display: none;\n",
              "      fill: #1967D2;\n",
              "      height: 32px;\n",
              "      padding: 0 0 0 0;\n",
              "      width: 32px;\n",
              "    }\n",
              "\n",
              "    .colab-df-convert:hover {\n",
              "      background-color: #E2EBFA;\n",
              "      box-shadow: 0px 1px 2px rgba(60, 64, 67, 0.3), 0px 1px 3px 1px rgba(60, 64, 67, 0.15);\n",
              "      fill: #174EA6;\n",
              "    }\n",
              "\n",
              "    .colab-df-buttons div {\n",
              "      margin-bottom: 4px;\n",
              "    }\n",
              "\n",
              "    [theme=dark] .colab-df-convert {\n",
              "      background-color: #3B4455;\n",
              "      fill: #D2E3FC;\n",
              "    }\n",
              "\n",
              "    [theme=dark] .colab-df-convert:hover {\n",
              "      background-color: #434B5C;\n",
              "      box-shadow: 0px 1px 3px 1px rgba(0, 0, 0, 0.15);\n",
              "      filter: drop-shadow(0px 1px 2px rgba(0, 0, 0, 0.3));\n",
              "      fill: #FFFFFF;\n",
              "    }\n",
              "  </style>\n",
              "\n",
              "    <script>\n",
              "      const buttonEl =\n",
              "        document.querySelector('#df-9514ec8f-8a72-492b-bf34-72f20855ce26 button.colab-df-convert');\n",
              "      buttonEl.style.display =\n",
              "        google.colab.kernel.accessAllowed ? 'block' : 'none';\n",
              "\n",
              "      async function convertToInteractive(key) {\n",
              "        const element = document.querySelector('#df-9514ec8f-8a72-492b-bf34-72f20855ce26');\n",
              "        const dataTable =\n",
              "          await google.colab.kernel.invokeFunction('convertToInteractive',\n",
              "                                                    [key], {});\n",
              "        if (!dataTable) return;\n",
              "\n",
              "        const docLinkHtml = 'Like what you see? Visit the ' +\n",
              "          '<a target=\"_blank\" href=https://colab.research.google.com/notebooks/data_table.ipynb>data table notebook</a>'\n",
              "          + ' to learn more about interactive tables.';\n",
              "        element.innerHTML = '';\n",
              "        dataTable['output_type'] = 'display_data';\n",
              "        await google.colab.output.renderOutput(dataTable, element);\n",
              "        const docLink = document.createElement('div');\n",
              "        docLink.innerHTML = docLinkHtml;\n",
              "        element.appendChild(docLink);\n",
              "      }\n",
              "    </script>\n",
              "  </div>\n",
              "\n",
              "\n",
              "<div id=\"df-a49fb8ed-b72a-4d84-a79f-e6c9c4b93a24\">\n",
              "  <button class=\"colab-df-quickchart\" onclick=\"quickchart('df-a49fb8ed-b72a-4d84-a79f-e6c9c4b93a24')\"\n",
              "            title=\"Suggest charts\"\n",
              "            style=\"display:none;\">\n",
              "\n",
              "<svg xmlns=\"http://www.w3.org/2000/svg\" height=\"24px\"viewBox=\"0 0 24 24\"\n",
              "     width=\"24px\">\n",
              "    <g>\n",
              "        <path d=\"M19 3H5c-1.1 0-2 .9-2 2v14c0 1.1.9 2 2 2h14c1.1 0 2-.9 2-2V5c0-1.1-.9-2-2-2zM9 17H7v-7h2v7zm4 0h-2V7h2v10zm4 0h-2v-4h2v4z\"/>\n",
              "    </g>\n",
              "</svg>\n",
              "  </button>\n",
              "\n",
              "<style>\n",
              "  .colab-df-quickchart {\n",
              "      --bg-color: #E8F0FE;\n",
              "      --fill-color: #1967D2;\n",
              "      --hover-bg-color: #E2EBFA;\n",
              "      --hover-fill-color: #174EA6;\n",
              "      --disabled-fill-color: #AAA;\n",
              "      --disabled-bg-color: #DDD;\n",
              "  }\n",
              "\n",
              "  [theme=dark] .colab-df-quickchart {\n",
              "      --bg-color: #3B4455;\n",
              "      --fill-color: #D2E3FC;\n",
              "      --hover-bg-color: #434B5C;\n",
              "      --hover-fill-color: #FFFFFF;\n",
              "      --disabled-bg-color: #3B4455;\n",
              "      --disabled-fill-color: #666;\n",
              "  }\n",
              "\n",
              "  .colab-df-quickchart {\n",
              "    background-color: var(--bg-color);\n",
              "    border: none;\n",
              "    border-radius: 50%;\n",
              "    cursor: pointer;\n",
              "    display: none;\n",
              "    fill: var(--fill-color);\n",
              "    height: 32px;\n",
              "    padding: 0;\n",
              "    width: 32px;\n",
              "  }\n",
              "\n",
              "  .colab-df-quickchart:hover {\n",
              "    background-color: var(--hover-bg-color);\n",
              "    box-shadow: 0 1px 2px rgba(60, 64, 67, 0.3), 0 1px 3px 1px rgba(60, 64, 67, 0.15);\n",
              "    fill: var(--button-hover-fill-color);\n",
              "  }\n",
              "\n",
              "  .colab-df-quickchart-complete:disabled,\n",
              "  .colab-df-quickchart-complete:disabled:hover {\n",
              "    background-color: var(--disabled-bg-color);\n",
              "    fill: var(--disabled-fill-color);\n",
              "    box-shadow: none;\n",
              "  }\n",
              "\n",
              "  .colab-df-spinner {\n",
              "    border: 2px solid var(--fill-color);\n",
              "    border-color: transparent;\n",
              "    border-bottom-color: var(--fill-color);\n",
              "    animation:\n",
              "      spin 1s steps(1) infinite;\n",
              "  }\n",
              "\n",
              "  @keyframes spin {\n",
              "    0% {\n",
              "      border-color: transparent;\n",
              "      border-bottom-color: var(--fill-color);\n",
              "      border-left-color: var(--fill-color);\n",
              "    }\n",
              "    20% {\n",
              "      border-color: transparent;\n",
              "      border-left-color: var(--fill-color);\n",
              "      border-top-color: var(--fill-color);\n",
              "    }\n",
              "    30% {\n",
              "      border-color: transparent;\n",
              "      border-left-color: var(--fill-color);\n",
              "      border-top-color: var(--fill-color);\n",
              "      border-right-color: var(--fill-color);\n",
              "    }\n",
              "    40% {\n",
              "      border-color: transparent;\n",
              "      border-right-color: var(--fill-color);\n",
              "      border-top-color: var(--fill-color);\n",
              "    }\n",
              "    60% {\n",
              "      border-color: transparent;\n",
              "      border-right-color: var(--fill-color);\n",
              "    }\n",
              "    80% {\n",
              "      border-color: transparent;\n",
              "      border-right-color: var(--fill-color);\n",
              "      border-bottom-color: var(--fill-color);\n",
              "    }\n",
              "    90% {\n",
              "      border-color: transparent;\n",
              "      border-bottom-color: var(--fill-color);\n",
              "    }\n",
              "  }\n",
              "</style>\n",
              "\n",
              "  <script>\n",
              "    async function quickchart(key) {\n",
              "      const quickchartButtonEl =\n",
              "        document.querySelector('#' + key + ' button');\n",
              "      quickchartButtonEl.disabled = true;  // To prevent multiple clicks.\n",
              "      quickchartButtonEl.classList.add('colab-df-spinner');\n",
              "      try {\n",
              "        const charts = await google.colab.kernel.invokeFunction(\n",
              "            'suggestCharts', [key], {});\n",
              "      } catch (error) {\n",
              "        console.error('Error during call to suggestCharts:', error);\n",
              "      }\n",
              "      quickchartButtonEl.classList.remove('colab-df-spinner');\n",
              "      quickchartButtonEl.classList.add('colab-df-quickchart-complete');\n",
              "    }\n",
              "    (() => {\n",
              "      let quickchartButtonEl =\n",
              "        document.querySelector('#df-a49fb8ed-b72a-4d84-a79f-e6c9c4b93a24 button');\n",
              "      quickchartButtonEl.style.display =\n",
              "        google.colab.kernel.accessAllowed ? 'block' : 'none';\n",
              "    })();\n",
              "  </script>\n",
              "</div>\n",
              "\n",
              "    </div>\n",
              "  </div>\n"
            ],
            "application/vnd.google.colaboratory.intrinsic+json": {
              "type": "dataframe",
              "variable_name": "raw_bed"
            }
          },
          "metadata": {},
          "execution_count": 8
        }
      ],
      "source": [
        "# Verify the content and format of the raw BED file containing chromatin annotations for the H1 cell type.\n",
        "raw_bed_path='/content/E003_15_coreMarks_stateno.bed'\n",
        "raw_bed=crb.pd.read_csv(raw_bed_path, sep='\\t', lineterminator='\\n', header=None, names=['chromosome', 'start', 'end','state'], low_memory=False)\n",
        "raw_bed.head()"
      ]
    },
    {
      "cell_type": "markdown",
      "metadata": {
        "id": "kq41Ux3e8bi_"
      },
      "source": [
        "<br>\n",
        "\n",
        "## Convert to Dataframe\n",
        "\n",
        "- Convert the raw BED file to a dataframe that contains alphabet-encoded chromatin state\n",
        " - Chromatin state is annotated per 200 bps ( `'unit'` )\n",
        " - `state_seq_full` represents the chromatin state sequence representation for the specified region"
      ]
    },
    {
      "cell_type": "code",
      "execution_count": null,
      "metadata": {
        "colab": {
          "base_uri": "https://localhost:8080/",
          "height": 204
        },
        "id": "UK6ciJh2v36O",
        "outputId": "b05fa1f3-ec20-438a-d0b2-ee0f63b0087e"
      },
      "outputs": [
        {
          "output_type": "execute_result",
          "data": {
            "text/plain": [
              "  chromosome   start     end  state  length  unit state_seq  \\\n",
              "0       chr1       0    9800     15    9800    49         O   \n",
              "1       chr1    9800   10800      9    1000     5         I   \n",
              "2       chr1   10800  136400     15  125600   628         O   \n",
              "3       chr1  136400  138800      5    2400    12         E   \n",
              "4       chr1  138800  139600      4     800     4         D   \n",
              "\n",
              "                                      state_seq_full  \n",
              "0  OOOOOOOOOOOOOOOOOOOOOOOOOOOOOOOOOOOOOOOOOOOOOOOOO  \n",
              "1                                              IIIII  \n",
              "2  OOOOOOOOOOOOOOOOOOOOOOOOOOOOOOOOOOOOOOOOOOOOOO...  \n",
              "3                                       EEEEEEEEEEEE  \n",
              "4                                               DDDD  "
            ],
            "text/html": [
              "\n",
              "  <div id=\"df-01fbf035-7784-4243-97b0-6e735221a4c9\" class=\"colab-df-container\">\n",
              "    <div>\n",
              "<style scoped>\n",
              "    .dataframe tbody tr th:only-of-type {\n",
              "        vertical-align: middle;\n",
              "    }\n",
              "\n",
              "    .dataframe tbody tr th {\n",
              "        vertical-align: top;\n",
              "    }\n",
              "\n",
              "    .dataframe thead th {\n",
              "        text-align: right;\n",
              "    }\n",
              "</style>\n",
              "<table border=\"1\" class=\"dataframe\">\n",
              "  <thead>\n",
              "    <tr style=\"text-align: right;\">\n",
              "      <th></th>\n",
              "      <th>chromosome</th>\n",
              "      <th>start</th>\n",
              "      <th>end</th>\n",
              "      <th>state</th>\n",
              "      <th>length</th>\n",
              "      <th>unit</th>\n",
              "      <th>state_seq</th>\n",
              "      <th>state_seq_full</th>\n",
              "    </tr>\n",
              "  </thead>\n",
              "  <tbody>\n",
              "    <tr>\n",
              "      <th>0</th>\n",
              "      <td>chr1</td>\n",
              "      <td>0</td>\n",
              "      <td>9800</td>\n",
              "      <td>15</td>\n",
              "      <td>9800</td>\n",
              "      <td>49</td>\n",
              "      <td>O</td>\n",
              "      <td>OOOOOOOOOOOOOOOOOOOOOOOOOOOOOOOOOOOOOOOOOOOOOOOOO</td>\n",
              "    </tr>\n",
              "    <tr>\n",
              "      <th>1</th>\n",
              "      <td>chr1</td>\n",
              "      <td>9800</td>\n",
              "      <td>10800</td>\n",
              "      <td>9</td>\n",
              "      <td>1000</td>\n",
              "      <td>5</td>\n",
              "      <td>I</td>\n",
              "      <td>IIIII</td>\n",
              "    </tr>\n",
              "    <tr>\n",
              "      <th>2</th>\n",
              "      <td>chr1</td>\n",
              "      <td>10800</td>\n",
              "      <td>136400</td>\n",
              "      <td>15</td>\n",
              "      <td>125600</td>\n",
              "      <td>628</td>\n",
              "      <td>O</td>\n",
              "      <td>OOOOOOOOOOOOOOOOOOOOOOOOOOOOOOOOOOOOOOOOOOOOOO...</td>\n",
              "    </tr>\n",
              "    <tr>\n",
              "      <th>3</th>\n",
              "      <td>chr1</td>\n",
              "      <td>136400</td>\n",
              "      <td>138800</td>\n",
              "      <td>5</td>\n",
              "      <td>2400</td>\n",
              "      <td>12</td>\n",
              "      <td>E</td>\n",
              "      <td>EEEEEEEEEEEE</td>\n",
              "    </tr>\n",
              "    <tr>\n",
              "      <th>4</th>\n",
              "      <td>chr1</td>\n",
              "      <td>138800</td>\n",
              "      <td>139600</td>\n",
              "      <td>4</td>\n",
              "      <td>800</td>\n",
              "      <td>4</td>\n",
              "      <td>D</td>\n",
              "      <td>DDDD</td>\n",
              "    </tr>\n",
              "  </tbody>\n",
              "</table>\n",
              "</div>\n",
              "    <div class=\"colab-df-buttons\">\n",
              "\n",
              "  <div class=\"colab-df-container\">\n",
              "    <button class=\"colab-df-convert\" onclick=\"convertToInteractive('df-01fbf035-7784-4243-97b0-6e735221a4c9')\"\n",
              "            title=\"Convert this dataframe to an interactive table.\"\n",
              "            style=\"display:none;\">\n",
              "\n",
              "  <svg xmlns=\"http://www.w3.org/2000/svg\" height=\"24px\" viewBox=\"0 -960 960 960\">\n",
              "    <path d=\"M120-120v-720h720v720H120Zm60-500h600v-160H180v160Zm220 220h160v-160H400v160Zm0 220h160v-160H400v160ZM180-400h160v-160H180v160Zm440 0h160v-160H620v160ZM180-180h160v-160H180v160Zm440 0h160v-160H620v160Z\"/>\n",
              "  </svg>\n",
              "    </button>\n",
              "\n",
              "  <style>\n",
              "    .colab-df-container {\n",
              "      display:flex;\n",
              "      gap: 12px;\n",
              "    }\n",
              "\n",
              "    .colab-df-convert {\n",
              "      background-color: #E8F0FE;\n",
              "      border: none;\n",
              "      border-radius: 50%;\n",
              "      cursor: pointer;\n",
              "      display: none;\n",
              "      fill: #1967D2;\n",
              "      height: 32px;\n",
              "      padding: 0 0 0 0;\n",
              "      width: 32px;\n",
              "    }\n",
              "\n",
              "    .colab-df-convert:hover {\n",
              "      background-color: #E2EBFA;\n",
              "      box-shadow: 0px 1px 2px rgba(60, 64, 67, 0.3), 0px 1px 3px 1px rgba(60, 64, 67, 0.15);\n",
              "      fill: #174EA6;\n",
              "    }\n",
              "\n",
              "    .colab-df-buttons div {\n",
              "      margin-bottom: 4px;\n",
              "    }\n",
              "\n",
              "    [theme=dark] .colab-df-convert {\n",
              "      background-color: #3B4455;\n",
              "      fill: #D2E3FC;\n",
              "    }\n",
              "\n",
              "    [theme=dark] .colab-df-convert:hover {\n",
              "      background-color: #434B5C;\n",
              "      box-shadow: 0px 1px 3px 1px rgba(0, 0, 0, 0.15);\n",
              "      filter: drop-shadow(0px 1px 2px rgba(0, 0, 0, 0.3));\n",
              "      fill: #FFFFFF;\n",
              "    }\n",
              "  </style>\n",
              "\n",
              "    <script>\n",
              "      const buttonEl =\n",
              "        document.querySelector('#df-01fbf035-7784-4243-97b0-6e735221a4c9 button.colab-df-convert');\n",
              "      buttonEl.style.display =\n",
              "        google.colab.kernel.accessAllowed ? 'block' : 'none';\n",
              "\n",
              "      async function convertToInteractive(key) {\n",
              "        const element = document.querySelector('#df-01fbf035-7784-4243-97b0-6e735221a4c9');\n",
              "        const dataTable =\n",
              "          await google.colab.kernel.invokeFunction('convertToInteractive',\n",
              "                                                    [key], {});\n",
              "        if (!dataTable) return;\n",
              "\n",
              "        const docLinkHtml = 'Like what you see? Visit the ' +\n",
              "          '<a target=\"_blank\" href=https://colab.research.google.com/notebooks/data_table.ipynb>data table notebook</a>'\n",
              "          + ' to learn more about interactive tables.';\n",
              "        element.innerHTML = '';\n",
              "        dataTable['output_type'] = 'display_data';\n",
              "        await google.colab.output.renderOutput(dataTable, element);\n",
              "        const docLink = document.createElement('div');\n",
              "        docLink.innerHTML = docLinkHtml;\n",
              "        element.appendChild(docLink);\n",
              "      }\n",
              "    </script>\n",
              "  </div>\n",
              "\n",
              "\n",
              "<div id=\"df-4b48c3a4-055d-4767-be8d-0105912c0008\">\n",
              "  <button class=\"colab-df-quickchart\" onclick=\"quickchart('df-4b48c3a4-055d-4767-be8d-0105912c0008')\"\n",
              "            title=\"Suggest charts\"\n",
              "            style=\"display:none;\">\n",
              "\n",
              "<svg xmlns=\"http://www.w3.org/2000/svg\" height=\"24px\"viewBox=\"0 0 24 24\"\n",
              "     width=\"24px\">\n",
              "    <g>\n",
              "        <path d=\"M19 3H5c-1.1 0-2 .9-2 2v14c0 1.1.9 2 2 2h14c1.1 0 2-.9 2-2V5c0-1.1-.9-2-2-2zM9 17H7v-7h2v7zm4 0h-2V7h2v10zm4 0h-2v-4h2v4z\"/>\n",
              "    </g>\n",
              "</svg>\n",
              "  </button>\n",
              "\n",
              "<style>\n",
              "  .colab-df-quickchart {\n",
              "      --bg-color: #E8F0FE;\n",
              "      --fill-color: #1967D2;\n",
              "      --hover-bg-color: #E2EBFA;\n",
              "      --hover-fill-color: #174EA6;\n",
              "      --disabled-fill-color: #AAA;\n",
              "      --disabled-bg-color: #DDD;\n",
              "  }\n",
              "\n",
              "  [theme=dark] .colab-df-quickchart {\n",
              "      --bg-color: #3B4455;\n",
              "      --fill-color: #D2E3FC;\n",
              "      --hover-bg-color: #434B5C;\n",
              "      --hover-fill-color: #FFFFFF;\n",
              "      --disabled-bg-color: #3B4455;\n",
              "      --disabled-fill-color: #666;\n",
              "  }\n",
              "\n",
              "  .colab-df-quickchart {\n",
              "    background-color: var(--bg-color);\n",
              "    border: none;\n",
              "    border-radius: 50%;\n",
              "    cursor: pointer;\n",
              "    display: none;\n",
              "    fill: var(--fill-color);\n",
              "    height: 32px;\n",
              "    padding: 0;\n",
              "    width: 32px;\n",
              "  }\n",
              "\n",
              "  .colab-df-quickchart:hover {\n",
              "    background-color: var(--hover-bg-color);\n",
              "    box-shadow: 0 1px 2px rgba(60, 64, 67, 0.3), 0 1px 3px 1px rgba(60, 64, 67, 0.15);\n",
              "    fill: var(--button-hover-fill-color);\n",
              "  }\n",
              "\n",
              "  .colab-df-quickchart-complete:disabled,\n",
              "  .colab-df-quickchart-complete:disabled:hover {\n",
              "    background-color: var(--disabled-bg-color);\n",
              "    fill: var(--disabled-fill-color);\n",
              "    box-shadow: none;\n",
              "  }\n",
              "\n",
              "  .colab-df-spinner {\n",
              "    border: 2px solid var(--fill-color);\n",
              "    border-color: transparent;\n",
              "    border-bottom-color: var(--fill-color);\n",
              "    animation:\n",
              "      spin 1s steps(1) infinite;\n",
              "  }\n",
              "\n",
              "  @keyframes spin {\n",
              "    0% {\n",
              "      border-color: transparent;\n",
              "      border-bottom-color: var(--fill-color);\n",
              "      border-left-color: var(--fill-color);\n",
              "    }\n",
              "    20% {\n",
              "      border-color: transparent;\n",
              "      border-left-color: var(--fill-color);\n",
              "      border-top-color: var(--fill-color);\n",
              "    }\n",
              "    30% {\n",
              "      border-color: transparent;\n",
              "      border-left-color: var(--fill-color);\n",
              "      border-top-color: var(--fill-color);\n",
              "      border-right-color: var(--fill-color);\n",
              "    }\n",
              "    40% {\n",
              "      border-color: transparent;\n",
              "      border-right-color: var(--fill-color);\n",
              "      border-top-color: var(--fill-color);\n",
              "    }\n",
              "    60% {\n",
              "      border-color: transparent;\n",
              "      border-right-color: var(--fill-color);\n",
              "    }\n",
              "    80% {\n",
              "      border-color: transparent;\n",
              "      border-right-color: var(--fill-color);\n",
              "      border-bottom-color: var(--fill-color);\n",
              "    }\n",
              "    90% {\n",
              "      border-color: transparent;\n",
              "      border-bottom-color: var(--fill-color);\n",
              "    }\n",
              "  }\n",
              "</style>\n",
              "\n",
              "  <script>\n",
              "    async function quickchart(key) {\n",
              "      const quickchartButtonEl =\n",
              "        document.querySelector('#' + key + ' button');\n",
              "      quickchartButtonEl.disabled = true;  // To prevent multiple clicks.\n",
              "      quickchartButtonEl.classList.add('colab-df-spinner');\n",
              "      try {\n",
              "        const charts = await google.colab.kernel.invokeFunction(\n",
              "            'suggestCharts', [key], {});\n",
              "      } catch (error) {\n",
              "        console.error('Error during call to suggestCharts:', error);\n",
              "      }\n",
              "      quickchartButtonEl.classList.remove('colab-df-spinner');\n",
              "      quickchartButtonEl.classList.add('colab-df-quickchart-complete');\n",
              "    }\n",
              "    (() => {\n",
              "      let quickchartButtonEl =\n",
              "        document.querySelector('#df-4b48c3a4-055d-4767-be8d-0105912c0008 button');\n",
              "      quickchartButtonEl.style.display =\n",
              "        google.colab.kernel.accessAllowed ? 'block' : 'none';\n",
              "    })();\n",
              "  </script>\n",
              "</div>\n",
              "\n",
              "    </div>\n",
              "  </div>\n"
            ],
            "application/vnd.google.colaboratory.intrinsic+json": {
              "type": "dataframe",
              "variable_name": "df"
            }
          },
          "metadata": {},
          "execution_count": 9
        }
      ],
      "source": [
        "# Convert to dataframe\n",
        "df=crb.bed2df_expanded('/content/E003_15_coreMarks_stateno.bed')\n",
        "df.head()"
      ]
    },
    {
      "cell_type": "markdown",
      "metadata": {
        "id": "vnIob71FEYG8"
      },
      "source": [
        "## Create String Sequences\n",
        "- Extract chromatin state sequences from the DataFrame and concatenate them into string representations."
      ]
    },
    {
      "cell_type": "code",
      "execution_count": null,
      "metadata": {
        "colab": {
          "base_uri": "https://localhost:8080/"
        },
        "id": "Abgy_5qC76cE",
        "outputId": "3fb47f76-5e4a-4161-c3ba-aa08d1db335b"
      },
      "outputs": [
        {
          "output_type": "stream",
          "name": "stdout",
          "text": [
            "Chromatin state sequence for H1 cell (Chromosome 1)\n",
            "---------------------------------------------------\n",
            "1. Total length:  1246253\n",
            "2. Data type:  <class 'str'>\n",
            "3. Looks like (a small piece): \n",
            "\u001b[1m\u001b[38;2;0;128;0mD\u001b[38;2;255;255;255m\u001b[38;2;0;128;0mD\u001b[38;2;255;255;255m\u001b[38;2;0;128;0mD\u001b[38;2;255;255;255m\u001b[38;2;0;128;0mD\u001b[38;2;255;255;255m\u001b[38;2;0;128;0mD\u001b[38;2;255;255;255m\u001b[38;2;0;128;0mD\u001b[38;2;255;255;255m\u001b[38;2;0;128;0mD\u001b[38;2;255;255;255m\u001b[38;2;0;128;0mD\u001b[38;2;255;255;255m\u001b[38;2;0;128;0mD\u001b[38;2;255;255;255m\u001b[38;2;0;128;0mD\u001b[38;2;255;255;255m\u001b[38;2;0;128;0mD\u001b[38;2;255;255;255m\u001b[38;2;0;128;0mD\u001b[38;2;255;255;255m\u001b[38;2;0;128;0mD\u001b[38;2;255;255;255m\u001b[38;2;0;100;0mE\u001b[38;2;255;255;255m\u001b[38;2;0;100;0mE\u001b[38;2;255;255;255m\u001b[38;2;0;100;0mE\u001b[38;2;255;255;255m\u001b[38;2;0;100;0mE\u001b[38;2;255;255;255m\u001b[38;2;0;100;0mE\u001b[38;2;255;255;255m\u001b[38;2;0;100;0mE\u001b[38;2;255;255;255m\u001b[38;2;255;0;0mA\u001b[38;2;255;255;255m\u001b[38;2;255;0;0mA\u001b[38;2;255;255;255m\u001b[38;2;255;0;0mA\u001b[38;2;255;255;255m\u001b[38;2;255;0;0mA\u001b[38;2;255;255;255m\u001b[38;2;255;0;0mA\u001b[38;2;255;255;255m\u001b[38;2;205;92;92mJ\u001b[38;2;255;255;255m\u001b[38;2;128;128;128mM\u001b[38;2;255;255;255m\u001b[38;2;128;128;128mM\u001b[38;2;255;255;255m\u001b[38;2;128;128;128mM\u001b[38;2;255;255;255m\u001b[38;2;205;92;92mJ\u001b[38;2;255;255;255m\u001b[38;2;205;92;92mJ\u001b[38;2;255;255;255m\u001b[38;2;205;92;92mJ\u001b[38;2;255;255;255m\u001b[38;2;205;92;92mJ\u001b[38;2;255;255;255m\u001b[38;2;205;92;92mJ\u001b[38;2;255;255;255m\u001b[38;2;205;92;92mJ\u001b[38;2;255;255;255m\u001b[38;2;233;150;122mK\u001b[38;2;255;255;255m\u001b[38;2;233;150;122mK\u001b[38;2;255;255;255m\u001b[38;2;189;183;107mL\u001b[38;2;255;255;255m\u001b[38;2;0;100;0mE\u001b[38;2;255;255;255m\u001b[38;2;0;100;0mE\u001b[38;2;255;255;255m\u001b[38;2;0;128;0mD\u001b[38;2;255;255;255m\u001b[38;2;0;128;0mD\u001b[38;2;255;255;255m\u001b[38;2;0;128;0mD\u001b[38;2;255;255;255m\u001b[38;2;0;128;0mD\u001b[38;2;255;255;255m\u001b[38;2;0;128;0mD\u001b[38;2;255;255;255m\u001b[38;2;0;128;0mD\u001b[38;2;255;255;255m\u001b[38;2;0;128;0mD\u001b[38;2;255;255;255m\u001b[38;2;0;128;0mD\u001b[38;2;255;255;255m\u001b[38;2;0;128;0mD\u001b[38;2;255;255;255m\u001b[38;2;0;128;0mD\u001b[38;2;255;255;255m\u001b[38;2;0;128;0mD\u001b[38;2;255;255;255m\u001b[38;2;0;128;0mD\u001b[38;2;255;255;255m\u001b[38;2;0;128;0mD\u001b[38;2;255;255;255m\u001b[38;2;0;128;0mD\u001b[38;2;255;255;255m\u001b[38;2;0;128;0mD\u001b[38;2;255;255;255m\u001b[38;2;0;128;0mD\u001b[38;2;255;255;255m\u001b[38;2;189;183;107mL\u001b[38;2;255;255;255m\u001b[38;2;189;183;107mL\u001b[38;2;255;255;255m\u001b[38;2;189;183;107mL\u001b[38;2;255;255;255m\u001b[38;2;189;183;107mL\u001b[38;2;255;255;255m\u001b[38;2;205;92;92mJ\u001b[38;2;255;255;255m\u001b[38;2;205;92;92mJ\u001b[38;2;255;255;255m\u001b[38;2;205;92;92mJ\u001b[38;2;255;255;255m\u001b[38;2;205;92;92mJ\u001b[38;2;255;255;255m\u001b[38;2;189;183;107mL\u001b[38;2;255;255;255m\u001b[38;2;189;183;107mL\u001b[38;2;255;255;255m\u001b[38;2;189;183;107mL\u001b[38;2;255;255;255m\u001b[38;2;128;128;128mM\u001b[38;2;255;255;255m\u001b[38;2;128;128;128mM\u001b[38;2;255;255;255m\u001b[38;2;128;128;128mM\u001b[38;2;255;255;255m\u001b[38;2;128;128;128mM\u001b[38;2;255;255;255m\u001b[38;2;128;128;128mM\u001b[38;2;255;255;255m\u001b[38;2;128;128;128mM\u001b[38;2;255;255;255m\u001b[38;2;128;128;128mM\u001b[38;2;255;255;255m\u001b[38;2;128;128;128mM\u001b[38;2;255;255;255m\u001b[38;2;128;128;128mM\u001b[38;2;255;255;255m\u001b[38;2;128;128;128mM\u001b[38;2;255;255;255m\u001b[38;2;128;128;128mM\u001b[38;2;255;255;255m\u001b[38;2;128;128;128mM\u001b[38;2;255;255;255m\u001b[38;2;128;128;128mM\u001b[38;2;255;255;255m\u001b[38;2;189;183;107mL\u001b[38;2;255;255;255m\u001b[38;2;189;183;107mL\u001b[38;2;255;255;255m\u001b[38;2;189;183;107mL\u001b[38;2;255;255;255m\u001b[38;2;189;183;107mL\u001b[38;2;255;255;255m\u001b[38;2;189;183;107mL\u001b[38;2;255;255;255m\u001b[38;2;128;128;128mM\u001b[38;2;255;255;255m\u001b[38;2;128;128;128mM\u001b[38;2;255;255;255m\u001b[38;2;192;192;192mN\u001b[38;2;255;255;255m\u001b[38;2;192;192;192mN\u001b[38;2;255;255;255m\u001b[38;2;192;192;192mN\u001b[38;2;255;255;255m\u001b[38;2;192;192;192mN\u001b[38;2;255;255;255m\u001b[38;2;192;192;192mN\u001b[38;2;255;255;255m\u001b[38;2;192;192;192mN\u001b[38;2;255;255;255m\u001b[38;2;192;192;192mN\u001b[38;2;255;255;255m\u001b[38;2;192;192;192mN\u001b[38;2;255;255;255m\u001b[38;2;192;192;192mN\u001b[38;2;255;255;255m\u001b[38;2;192;192;192mN\u001b[38;2;255;255;255m\u001b[38;2;192;192;192mN\u001b[38;2;255;255;255m\u001b[38;2;192;192;192mN\u001b[38;2;255;255;255m\u001b[38;2;192;192;192mN\u001b[38;2;255;255;255m\u001b[38;2;192;192;192mN\u001b[38;2;255;255;255m\u001b[38;2;192;192;192mN\u001b[38;2;255;255;255m\u001b[38;2;192;192;192mN\u001b[38;2;255;255;255m\u001b[38;2;192;192;192mN\u001b[38;2;255;255;255m\u001b[38;2;192;192;192mN\u001b[38;2;255;255;255m\u001b[38;2;192;192;192mN\u001b[38;2;255;255;255m\u001b[38;2;189;183;107mL\u001b[38;2;255;255;255m\u001b[38;2;255;69;0mB\u001b[38;2;255;255;255m\u001b[38;2;255;69;0mB\u001b[38;2;255;255;255m\u001b[38;2;255;69;0mB\u001b[38;2;255;255;255m\u001b[38;2;255;255;0mG\u001b[38;2;255;255;255m\u001b[38;2;192;192;192mN\u001b[38;2;255;255;255m\u001b[38;2;192;192;192mN\u001b[38;2;255;255;255m\u001b[38;2;192;192;192mN\u001b[38;2;255;255;255m\u001b[38;2;192;192;192mN\u001b[38;2;255;255;255m\u001b[38;2;192;192;192mN\u001b[38;2;255;255;255m\u001b[38;2;192;192;192mN\u001b[38;2;255;255;255m\u001b[38;2;192;192;192mN\u001b[38;2;255;255;255m\u001b[38;2;192;192;192mN\u001b[38;2;255;255;255m\u001b[38;2;192;192;192mN\u001b[38;2;255;255;255m\u001b[38;2;192;192;192mN\u001b[38;2;255;255;255m\u001b[0;0m\n"
          ]
        }
      ],
      "source": [
        "# convert to string (list of 24 chromosome entries)\n",
        "css = crb.df2unitcss(df)\n",
        "\n",
        "print(\"Chromatin state sequence for H1 cell (Chromosome 1)\")\n",
        "print(\"---------------------------------------------------\")\n",
        "len_css=len(css[0])\n",
        "print(\"1. Total length: \", len_css)\n",
        "type_css=type(css[0])\n",
        "print(\"2. Data type: \", type_css)\n",
        "head_css=css[0][4450:4570]\n",
        "print(\"3. Looks like (a small piece): \")\n",
        "\n",
        "# The 'colored_css_str_as_is' function converts the string into a colored format according to the designated colors for each chromatin state\n",
        "colored_css=crb.colored_css_str_as_is(head_css)\n"
      ]
    },
    {
      "cell_type": "markdown",
      "metadata": {
        "id": "pWEdysZkOgcR"
      },
      "source": [
        "<br>\n",
        "\n",
        "🤔 How can we format long chromatin state sequences for input into BERT?\n",
        "\n",
        " - BERT processes inputs as sequences of tokens, which are essentially subwords extracted from the model's vocabulary. For instance, when inputting the sentence \"<u>ChromBERT heuristically reveals original motifs, BERT's epigenomic research triumph</u>\" into BERT, it is first tokenized into subwords like this:\n",
        " `['[CLS]', 'ChromBERT', 'heuristically', 'reveals', 'original', 'motifs', ',', 'BERT', \"'s\", 'epigenomic', 'research', 'triumph' '[SEP]']`\n",
        "\n",
        " - In computational genomics, k-mer segmentation is used to analyze sequences effectively by breaking down long, complex strings of data, similar to subword tokenization in language processing. For instance, the sequence `NNLBBBGNN`  is segmented into overlapping 4-mers as follows:  `['[CLS]', 'NNLB','NLBB', 'LBBB' , 'BBBG', 'BBGN', 'BGNN', [SEP]]`\n",
        "\n",
        "\n",
        "<br><br>\n",
        "\n",
        "💡 Special Tokens in BERT Input:\n",
        "When formatting chromatin state sequences for BERT, we include special tokens that serve specific roles:\n",
        " - `[CLS]` (Classification Token): Placed at the *beginning* of the sequence, used to aggregate information for downstream classification tasks.\n",
        " - `[SEP]` (Separator Token): Marks the *end* of a sequence or separates two segments in tasks requiring multiple inputs.\n",
        " - `[PAD]` (Padding Token): Used to ensure all sequences in a batch are of uniform length by filling shorter sequences with this token.\n",
        " - `[MASK]` (Masking Token): Used in pretraining for masked language modeling, where certain tokens are replaced with `[MASK]` to train the model to predict them.\n",
        " - `[UNK]` (Unknown Token): Represents tokens that are not found in the model’s vocabulary, such as rare or unseen chromatin states.\n",
        "\n",
        " <br>"
      ]
    },
    {
      "cell_type": "markdown",
      "metadata": {
        "id": "_hVFlwGxlT_s"
      },
      "source": [
        "## K-mer Segmentation"
      ]
    },
    {
      "cell_type": "code",
      "execution_count": null,
      "metadata": {
        "colab": {
          "base_uri": "https://localhost:8080/"
        },
        "id": "2cO8NJJ6F3R_",
        "outputId": "72ab4853-0454-4da6-cf49-0fc562cf8aed"
      },
      "outputs": [
        {
          "output_type": "stream",
          "name": "stdout",
          "text": [
            "* Before k-mer Segmentation\n",
            "\u001b[1m\u001b[38;2;0;128;0mD\u001b[38;2;255;255;255m\u001b[38;2;0;128;0mD\u001b[38;2;255;255;255m\u001b[38;2;0;128;0mD\u001b[38;2;255;255;255m\u001b[38;2;0;128;0mD\u001b[38;2;255;255;255m\u001b[38;2;0;128;0mD\u001b[38;2;255;255;255m\u001b[38;2;0;128;0mD\u001b[38;2;255;255;255m\u001b[38;2;0;128;0mD\u001b[38;2;255;255;255m\u001b[38;2;0;128;0mD\u001b[38;2;255;255;255m\u001b[38;2;0;128;0mD\u001b[38;2;255;255;255m\u001b[38;2;0;128;0mD\u001b[38;2;255;255;255m\u001b[38;2;0;128;0mD\u001b[38;2;255;255;255m\u001b[38;2;0;128;0mD\u001b[38;2;255;255;255m\u001b[38;2;0;128;0mD\u001b[38;2;255;255;255m\u001b[38;2;0;100;0mE\u001b[38;2;255;255;255m\u001b[38;2;0;100;0mE\u001b[38;2;255;255;255m\u001b[38;2;0;100;0mE\u001b[38;2;255;255;255m\u001b[38;2;0;100;0mE\u001b[38;2;255;255;255m\u001b[38;2;0;100;0mE\u001b[38;2;255;255;255m\u001b[38;2;0;100;0mE\u001b[38;2;255;255;255m\u001b[38;2;255;0;0mA\u001b[38;2;255;255;255m\u001b[38;2;255;0;0mA\u001b[38;2;255;255;255m\u001b[38;2;255;0;0mA\u001b[38;2;255;255;255m\u001b[38;2;255;0;0mA\u001b[38;2;255;255;255m\u001b[38;2;255;0;0mA\u001b[38;2;255;255;255m\u001b[38;2;205;92;92mJ\u001b[38;2;255;255;255m\u001b[38;2;128;128;128mM\u001b[38;2;255;255;255m\u001b[38;2;128;128;128mM\u001b[38;2;255;255;255m\u001b[38;2;128;128;128mM\u001b[38;2;255;255;255m\u001b[38;2;205;92;92mJ\u001b[38;2;255;255;255m\u001b[38;2;205;92;92mJ\u001b[38;2;255;255;255m\u001b[38;2;205;92;92mJ\u001b[38;2;255;255;255m\u001b[38;2;205;92;92mJ\u001b[38;2;255;255;255m\u001b[38;2;205;92;92mJ\u001b[38;2;255;255;255m\u001b[38;2;205;92;92mJ\u001b[38;2;255;255;255m\u001b[38;2;233;150;122mK\u001b[38;2;255;255;255m\u001b[38;2;233;150;122mK\u001b[38;2;255;255;255m\u001b[38;2;189;183;107mL\u001b[38;2;255;255;255m\u001b[38;2;0;100;0mE\u001b[38;2;255;255;255m\u001b[38;2;0;100;0mE\u001b[38;2;255;255;255m\u001b[38;2;0;128;0mD\u001b[38;2;255;255;255m\u001b[38;2;0;128;0mD\u001b[38;2;255;255;255m\u001b[38;2;0;128;0mD\u001b[38;2;255;255;255m\u001b[38;2;0;128;0mD\u001b[38;2;255;255;255m\u001b[38;2;0;128;0mD\u001b[38;2;255;255;255m\u001b[38;2;0;128;0mD\u001b[38;2;255;255;255m\u001b[38;2;0;128;0mD\u001b[38;2;255;255;255m\u001b[38;2;0;128;0mD\u001b[38;2;255;255;255m\u001b[38;2;0;128;0mD\u001b[38;2;255;255;255m\u001b[38;2;0;128;0mD\u001b[38;2;255;255;255m\u001b[38;2;0;128;0mD\u001b[38;2;255;255;255m\u001b[38;2;0;128;0mD\u001b[38;2;255;255;255m\u001b[38;2;0;128;0mD\u001b[38;2;255;255;255m\u001b[38;2;0;128;0mD\u001b[38;2;255;255;255m\u001b[38;2;0;128;0mD\u001b[38;2;255;255;255m\u001b[38;2;0;128;0mD\u001b[38;2;255;255;255m\u001b[38;2;189;183;107mL\u001b[38;2;255;255;255m\u001b[38;2;189;183;107mL\u001b[38;2;255;255;255m\u001b[38;2;189;183;107mL\u001b[38;2;255;255;255m\u001b[38;2;189;183;107mL\u001b[38;2;255;255;255m\u001b[38;2;205;92;92mJ\u001b[38;2;255;255;255m\u001b[38;2;205;92;92mJ\u001b[38;2;255;255;255m\u001b[38;2;205;92;92mJ\u001b[38;2;255;255;255m\u001b[38;2;205;92;92mJ\u001b[38;2;255;255;255m\u001b[38;2;189;183;107mL\u001b[38;2;255;255;255m\u001b[38;2;189;183;107mL\u001b[38;2;255;255;255m\u001b[38;2;189;183;107mL\u001b[38;2;255;255;255m\u001b[38;2;128;128;128mM\u001b[38;2;255;255;255m\u001b[38;2;128;128;128mM\u001b[38;2;255;255;255m\u001b[38;2;128;128;128mM\u001b[38;2;255;255;255m\u001b[38;2;128;128;128mM\u001b[38;2;255;255;255m\u001b[38;2;128;128;128mM\u001b[38;2;255;255;255m\u001b[38;2;128;128;128mM\u001b[38;2;255;255;255m\u001b[38;2;128;128;128mM\u001b[38;2;255;255;255m\u001b[38;2;128;128;128mM\u001b[38;2;255;255;255m\u001b[38;2;128;128;128mM\u001b[38;2;255;255;255m\u001b[38;2;128;128;128mM\u001b[38;2;255;255;255m\u001b[38;2;128;128;128mM\u001b[38;2;255;255;255m\u001b[38;2;128;128;128mM\u001b[38;2;255;255;255m\u001b[38;2;128;128;128mM\u001b[38;2;255;255;255m\u001b[38;2;189;183;107mL\u001b[38;2;255;255;255m\u001b[38;2;189;183;107mL\u001b[38;2;255;255;255m\u001b[38;2;189;183;107mL\u001b[38;2;255;255;255m\u001b[38;2;189;183;107mL\u001b[38;2;255;255;255m\u001b[38;2;189;183;107mL\u001b[38;2;255;255;255m\u001b[38;2;128;128;128mM\u001b[38;2;255;255;255m\u001b[38;2;128;128;128mM\u001b[38;2;255;255;255m\u001b[38;2;192;192;192mN\u001b[38;2;255;255;255m\u001b[38;2;192;192;192mN\u001b[38;2;255;255;255m\u001b[38;2;192;192;192mN\u001b[38;2;255;255;255m\u001b[38;2;192;192;192mN\u001b[38;2;255;255;255m\u001b[38;2;192;192;192mN\u001b[38;2;255;255;255m\u001b[38;2;192;192;192mN\u001b[38;2;255;255;255m\u001b[38;2;192;192;192mN\u001b[38;2;255;255;255m\u001b[38;2;192;192;192mN\u001b[38;2;255;255;255m\u001b[38;2;192;192;192mN\u001b[38;2;255;255;255m\u001b[38;2;192;192;192mN\u001b[38;2;255;255;255m\u001b[38;2;192;192;192mN\u001b[38;2;255;255;255m\u001b[38;2;192;192;192mN\u001b[38;2;255;255;255m\u001b[38;2;192;192;192mN\u001b[38;2;255;255;255m\u001b[38;2;192;192;192mN\u001b[38;2;255;255;255m\u001b[38;2;192;192;192mN\u001b[38;2;255;255;255m\u001b[38;2;192;192;192mN\u001b[38;2;255;255;255m\u001b[38;2;192;192;192mN\u001b[38;2;255;255;255m\u001b[38;2;192;192;192mN\u001b[38;2;255;255;255m\u001b[38;2;192;192;192mN\u001b[38;2;255;255;255m\u001b[38;2;189;183;107mL\u001b[38;2;255;255;255m\u001b[38;2;255;69;0mB\u001b[38;2;255;255;255m\u001b[38;2;255;69;0mB\u001b[38;2;255;255;255m\u001b[38;2;255;69;0mB\u001b[38;2;255;255;255m\u001b[38;2;255;255;0mG\u001b[38;2;255;255;255m\u001b[38;2;192;192;192mN\u001b[38;2;255;255;255m\u001b[38;2;192;192;192mN\u001b[38;2;255;255;255m\u001b[38;2;192;192;192mN\u001b[38;2;255;255;255m\u001b[38;2;192;192;192mN\u001b[38;2;255;255;255m\u001b[38;2;192;192;192mN\u001b[38;2;255;255;255m\u001b[38;2;192;192;192mN\u001b[38;2;255;255;255m\u001b[38;2;192;192;192mN\u001b[38;2;255;255;255m\u001b[38;2;192;192;192mN\u001b[38;2;255;255;255m\u001b[38;2;192;192;192mN\u001b[38;2;255;255;255m\u001b[38;2;192;192;192mN\u001b[38;2;255;255;255m\u001b[0;0m\n",
            "---------------------\n",
            "* After 4-mer Segmentation\n",
            "\u001b[1m\u001b[38;2;0;128;0mD\u001b[38;2;255;255;255m\u001b[38;2;0;128;0mD\u001b[38;2;255;255;255m\u001b[38;2;0;128;0mD\u001b[38;2;255;255;255m\u001b[38;2;0;128;0mD\u001b[38;2;255;255;255m \u001b[38;2;0;128;0mD\u001b[38;2;255;255;255m\u001b[38;2;0;128;0mD\u001b[38;2;255;255;255m\u001b[38;2;0;128;0mD\u001b[38;2;255;255;255m\u001b[38;2;0;128;0mD\u001b[38;2;255;255;255m \u001b[38;2;0;128;0mD\u001b[38;2;255;255;255m\u001b[38;2;0;128;0mD\u001b[38;2;255;255;255m\u001b[38;2;0;128;0mD\u001b[38;2;255;255;255m\u001b[38;2;0;128;0mD\u001b[38;2;255;255;255m \u001b[38;2;0;128;0mD\u001b[38;2;255;255;255m\u001b[38;2;0;128;0mD\u001b[38;2;255;255;255m\u001b[38;2;0;128;0mD\u001b[38;2;255;255;255m\u001b[38;2;0;128;0mD\u001b[38;2;255;255;255m \u001b[38;2;0;128;0mD\u001b[38;2;255;255;255m\u001b[38;2;0;128;0mD\u001b[38;2;255;255;255m\u001b[38;2;0;128;0mD\u001b[38;2;255;255;255m\u001b[38;2;0;128;0mD\u001b[38;2;255;255;255m \u001b[38;2;0;128;0mD\u001b[38;2;255;255;255m\u001b[38;2;0;128;0mD\u001b[38;2;255;255;255m\u001b[38;2;0;128;0mD\u001b[38;2;255;255;255m\u001b[38;2;0;128;0mD\u001b[38;2;255;255;255m \u001b[38;2;0;128;0mD\u001b[38;2;255;255;255m\u001b[38;2;0;128;0mD\u001b[38;2;255;255;255m\u001b[38;2;0;128;0mD\u001b[38;2;255;255;255m\u001b[38;2;0;128;0mD\u001b[38;2;255;255;255m \u001b[38;2;0;128;0mD\u001b[38;2;255;255;255m\u001b[38;2;0;128;0mD\u001b[38;2;255;255;255m\u001b[38;2;0;128;0mD\u001b[38;2;255;255;255m\u001b[38;2;0;128;0mD\u001b[38;2;255;255;255m \u001b[38;2;0;128;0mD\u001b[38;2;255;255;255m\u001b[38;2;0;128;0mD\u001b[38;2;255;255;255m\u001b[38;2;0;128;0mD\u001b[38;2;255;255;255m\u001b[38;2;0;128;0mD\u001b[38;2;255;255;255m \u001b[38;2;0;128;0mD\u001b[38;2;255;255;255m\u001b[38;2;0;128;0mD\u001b[38;2;255;255;255m\u001b[38;2;0;128;0mD\u001b[38;2;255;255;255m\u001b[38;2;0;128;0mD\u001b[38;2;255;255;255m \u001b[38;2;0;128;0mD\u001b[38;2;255;255;255m\u001b[38;2;0;128;0mD\u001b[38;2;255;255;255m\u001b[38;2;0;128;0mD\u001b[38;2;255;255;255m\u001b[38;2;0;100;0mE\u001b[38;2;255;255;255m \u001b[38;2;0;128;0mD\u001b[38;2;255;255;255m\u001b[38;2;0;128;0mD\u001b[38;2;255;255;255m\u001b[38;2;0;100;0mE\u001b[38;2;255;255;255m\u001b[38;2;0;100;0mE\u001b[38;2;255;255;255m \u001b[38;2;0;128;0mD\u001b[38;2;255;255;255m\u001b[38;2;0;100;0mE\u001b[38;2;255;255;255m\u001b[38;2;0;100;0mE\u001b[38;2;255;255;255m\u001b[38;2;0;100;0mE\u001b[38;2;255;255;255m \u001b[38;2;0;100;0mE\u001b[38;2;255;255;255m\u001b[38;2;0;100;0mE\u001b[38;2;255;255;255m\u001b[38;2;0;100;0mE\u001b[38;2;255;255;255m\u001b[38;2;0;100;0mE\u001b[38;2;255;255;255m \u001b[38;2;0;100;0mE\u001b[38;2;255;255;255m\u001b[38;2;0;100;0mE\u001b[38;2;255;255;255m\u001b[38;2;0;100;0mE\u001b[38;2;255;255;255m\u001b[38;2;0;100;0mE\u001b[38;2;255;255;255m \u001b[38;2;0;100;0mE\u001b[38;2;255;255;255m\u001b[38;2;0;100;0mE\u001b[38;2;255;255;255m\u001b[38;2;0;100;0mE\u001b[38;2;255;255;255m\u001b[38;2;0;100;0mE\u001b[38;2;255;255;255m \u001b[38;2;0;100;0mE\u001b[38;2;255;255;255m\u001b[38;2;0;100;0mE\u001b[38;2;255;255;255m\u001b[38;2;0;100;0mE\u001b[38;2;255;255;255m\u001b[38;2;255;0;0mA\u001b[38;2;255;255;255m \u001b[38;2;0;100;0mE\u001b[38;2;255;255;255m\u001b[38;2;0;100;0mE\u001b[38;2;255;255;255m\u001b[38;2;255;0;0mA\u001b[38;2;255;255;255m\u001b[38;2;255;0;0mA\u001b[38;2;255;255;255m \u001b[38;2;0;100;0mE\u001b[38;2;255;255;255m\u001b[38;2;255;0;0mA\u001b[38;2;255;255;255m\u001b[38;2;255;0;0mA\u001b[38;2;255;255;255m\u001b[38;2;255;0;0mA\u001b[38;2;255;255;255m \u001b[38;2;255;0;0mA\u001b[38;2;255;255;255m\u001b[38;2;255;0;0mA\u001b[38;2;255;255;255m\u001b[38;2;255;0;0mA\u001b[38;2;255;255;255m\u001b[38;2;255;0;0mA\u001b[38;2;255;255;255m \u001b[38;2;255;0;0mA\u001b[38;2;255;255;255m\u001b[38;2;255;0;0mA\u001b[38;2;255;255;255m\u001b[38;2;255;0;0mA\u001b[38;2;255;255;255m\u001b[38;2;255;0;0mA\u001b[38;2;255;255;255m \u001b[38;2;255;0;0mA\u001b[38;2;255;255;255m\u001b[38;2;255;0;0mA\u001b[38;2;255;255;255m\u001b[38;2;255;0;0mA\u001b[38;2;255;255;255m\u001b[38;2;205;92;92mJ\u001b[38;2;255;255;255m \u001b[38;2;255;0;0mA\u001b[38;2;255;255;255m\u001b[38;2;255;0;0mA\u001b[38;2;255;255;255m\u001b[38;2;205;92;92mJ\u001b[38;2;255;255;255m\u001b[38;2;128;128;128mM\u001b[38;2;255;255;255m \u001b[38;2;255;0;0mA\u001b[38;2;255;255;255m\u001b[38;2;205;92;92mJ\u001b[38;2;255;255;255m\u001b[38;2;128;128;128mM\u001b[38;2;255;255;255m\u001b[38;2;128;128;128mM\u001b[38;2;255;255;255m \u001b[38;2;205;92;92mJ\u001b[38;2;255;255;255m\u001b[38;2;128;128;128mM\u001b[38;2;255;255;255m\u001b[38;2;128;128;128mM\u001b[38;2;255;255;255m\u001b[38;2;128;128;128mM\u001b[38;2;255;255;255m \u001b[38;2;128;128;128mM\u001b[38;2;255;255;255m\u001b[38;2;128;128;128mM\u001b[38;2;255;255;255m\u001b[38;2;128;128;128mM\u001b[38;2;255;255;255m\u001b[38;2;205;92;92mJ\u001b[38;2;255;255;255m \u001b[38;2;128;128;128mM\u001b[38;2;255;255;255m\u001b[38;2;128;128;128mM\u001b[38;2;255;255;255m\u001b[38;2;205;92;92mJ\u001b[38;2;255;255;255m\u001b[38;2;205;92;92mJ\u001b[38;2;255;255;255m \u001b[38;2;128;128;128mM\u001b[38;2;255;255;255m\u001b[38;2;205;92;92mJ\u001b[38;2;255;255;255m\u001b[38;2;205;92;92mJ\u001b[38;2;255;255;255m\u001b[38;2;205;92;92mJ\u001b[38;2;255;255;255m \u001b[38;2;205;92;92mJ\u001b[38;2;255;255;255m\u001b[38;2;205;92;92mJ\u001b[38;2;255;255;255m\u001b[38;2;205;92;92mJ\u001b[38;2;255;255;255m\u001b[38;2;205;92;92mJ\u001b[38;2;255;255;255m \u001b[38;2;205;92;92mJ\u001b[38;2;255;255;255m\u001b[38;2;205;92;92mJ\u001b[38;2;255;255;255m\u001b[38;2;205;92;92mJ\u001b[38;2;255;255;255m\u001b[38;2;205;92;92mJ\u001b[38;2;255;255;255m \u001b[38;2;205;92;92mJ\u001b[38;2;255;255;255m\u001b[38;2;205;92;92mJ\u001b[38;2;255;255;255m\u001b[38;2;205;92;92mJ\u001b[38;2;255;255;255m\u001b[38;2;205;92;92mJ\u001b[38;2;255;255;255m \u001b[38;2;205;92;92mJ\u001b[38;2;255;255;255m\u001b[38;2;205;92;92mJ\u001b[38;2;255;255;255m\u001b[38;2;205;92;92mJ\u001b[38;2;255;255;255m\u001b[38;2;233;150;122mK\u001b[38;2;255;255;255m \u001b[38;2;205;92;92mJ\u001b[38;2;255;255;255m\u001b[38;2;205;92;92mJ\u001b[38;2;255;255;255m\u001b[38;2;233;150;122mK\u001b[38;2;255;255;255m\u001b[38;2;233;150;122mK\u001b[38;2;255;255;255m \u001b[38;2;205;92;92mJ\u001b[38;2;255;255;255m\u001b[38;2;233;150;122mK\u001b[38;2;255;255;255m\u001b[38;2;233;150;122mK\u001b[38;2;255;255;255m\u001b[38;2;189;183;107mL\u001b[38;2;255;255;255m \u001b[38;2;233;150;122mK\u001b[38;2;255;255;255m\u001b[38;2;233;150;122mK\u001b[38;2;255;255;255m\u001b[38;2;189;183;107mL\u001b[38;2;255;255;255m\u001b[38;2;0;100;0mE\u001b[38;2;255;255;255m \u001b[38;2;233;150;122mK\u001b[38;2;255;255;255m\u001b[38;2;189;183;107mL\u001b[38;2;255;255;255m\u001b[38;2;0;100;0mE\u001b[38;2;255;255;255m\u001b[38;2;0;100;0mE\u001b[38;2;255;255;255m \u001b[38;2;189;183;107mL\u001b[38;2;255;255;255m\u001b[38;2;0;100;0mE\u001b[38;2;255;255;255m\u001b[38;2;0;100;0mE\u001b[38;2;255;255;255m\u001b[38;2;0;128;0mD\u001b[38;2;255;255;255m \u001b[38;2;0;100;0mE\u001b[38;2;255;255;255m\u001b[38;2;0;100;0mE\u001b[38;2;255;255;255m\u001b[38;2;0;128;0mD\u001b[38;2;255;255;255m\u001b[38;2;0;128;0mD\u001b[38;2;255;255;255m \u001b[38;2;0;100;0mE\u001b[38;2;255;255;255m\u001b[38;2;0;128;0mD\u001b[38;2;255;255;255m\u001b[38;2;0;128;0mD\u001b[38;2;255;255;255m\u001b[38;2;0;128;0mD\u001b[38;2;255;255;255m \u001b[38;2;0;128;0mD\u001b[38;2;255;255;255m\u001b[38;2;0;128;0mD\u001b[38;2;255;255;255m\u001b[38;2;0;128;0mD\u001b[38;2;255;255;255m\u001b[38;2;0;128;0mD\u001b[38;2;255;255;255m \u001b[38;2;0;128;0mD\u001b[38;2;255;255;255m\u001b[38;2;0;128;0mD\u001b[38;2;255;255;255m\u001b[38;2;0;128;0mD\u001b[38;2;255;255;255m\u001b[38;2;0;128;0mD\u001b[38;2;255;255;255m \u001b[38;2;0;128;0mD\u001b[38;2;255;255;255m\u001b[38;2;0;128;0mD\u001b[38;2;255;255;255m\u001b[38;2;0;128;0mD\u001b[38;2;255;255;255m\u001b[38;2;0;128;0mD\u001b[38;2;255;255;255m \u001b[38;2;0;128;0mD\u001b[38;2;255;255;255m\u001b[38;2;0;128;0mD\u001b[38;2;255;255;255m\u001b[38;2;0;128;0mD\u001b[38;2;255;255;255m\u001b[38;2;0;128;0mD\u001b[38;2;255;255;255m \u001b[38;2;0;128;0mD\u001b[38;2;255;255;255m\u001b[38;2;0;128;0mD\u001b[38;2;255;255;255m\u001b[38;2;0;128;0mD\u001b[38;2;255;255;255m\u001b[38;2;0;128;0mD\u001b[38;2;255;255;255m \u001b[38;2;0;128;0mD\u001b[38;2;255;255;255m\u001b[38;2;0;128;0mD\u001b[38;2;255;255;255m\u001b[38;2;0;128;0mD\u001b[38;2;255;255;255m\u001b[38;2;0;128;0mD\u001b[38;2;255;255;255m \u001b[38;2;0;128;0mD\u001b[38;2;255;255;255m\u001b[38;2;0;128;0mD\u001b[38;2;255;255;255m\u001b[38;2;0;128;0mD\u001b[38;2;255;255;255m\u001b[38;2;0;128;0mD\u001b[38;2;255;255;255m \u001b[38;2;0;128;0mD\u001b[38;2;255;255;255m\u001b[38;2;0;128;0mD\u001b[38;2;255;255;255m\u001b[38;2;0;128;0mD\u001b[38;2;255;255;255m\u001b[38;2;0;128;0mD\u001b[38;2;255;255;255m \u001b[38;2;0;128;0mD\u001b[38;2;255;255;255m\u001b[38;2;0;128;0mD\u001b[38;2;255;255;255m\u001b[38;2;0;128;0mD\u001b[38;2;255;255;255m\u001b[38;2;0;128;0mD\u001b[38;2;255;255;255m \u001b[38;2;0;128;0mD\u001b[38;2;255;255;255m\u001b[38;2;0;128;0mD\u001b[38;2;255;255;255m\u001b[38;2;0;128;0mD\u001b[38;2;255;255;255m\u001b[38;2;0;128;0mD\u001b[38;2;255;255;255m \u001b[38;2;0;128;0mD\u001b[38;2;255;255;255m\u001b[38;2;0;128;0mD\u001b[38;2;255;255;255m\u001b[38;2;0;128;0mD\u001b[38;2;255;255;255m\u001b[38;2;0;128;0mD\u001b[38;2;255;255;255m \u001b[38;2;0;128;0mD\u001b[38;2;255;255;255m\u001b[38;2;0;128;0mD\u001b[38;2;255;255;255m\u001b[38;2;0;128;0mD\u001b[38;2;255;255;255m\u001b[38;2;0;128;0mD\u001b[38;2;255;255;255m \u001b[38;2;0;128;0mD\u001b[38;2;255;255;255m\u001b[38;2;0;128;0mD\u001b[38;2;255;255;255m\u001b[38;2;0;128;0mD\u001b[38;2;255;255;255m\u001b[38;2;0;128;0mD\u001b[38;2;255;255;255m \u001b[38;2;0;128;0mD\u001b[38;2;255;255;255m\u001b[38;2;0;128;0mD\u001b[38;2;255;255;255m\u001b[38;2;0;128;0mD\u001b[38;2;255;255;255m\u001b[38;2;189;183;107mL\u001b[38;2;255;255;255m \u001b[38;2;0;128;0mD\u001b[38;2;255;255;255m\u001b[38;2;0;128;0mD\u001b[38;2;255;255;255m\u001b[38;2;189;183;107mL\u001b[38;2;255;255;255m\u001b[38;2;189;183;107mL\u001b[38;2;255;255;255m \u001b[38;2;0;128;0mD\u001b[38;2;255;255;255m\u001b[38;2;189;183;107mL\u001b[38;2;255;255;255m\u001b[38;2;189;183;107mL\u001b[38;2;255;255;255m\u001b[38;2;189;183;107mL\u001b[38;2;255;255;255m \u001b[38;2;189;183;107mL\u001b[38;2;255;255;255m\u001b[38;2;189;183;107mL\u001b[38;2;255;255;255m\u001b[38;2;189;183;107mL\u001b[38;2;255;255;255m\u001b[38;2;189;183;107mL\u001b[38;2;255;255;255m \u001b[38;2;189;183;107mL\u001b[38;2;255;255;255m\u001b[38;2;189;183;107mL\u001b[38;2;255;255;255m\u001b[38;2;189;183;107mL\u001b[38;2;255;255;255m\u001b[38;2;205;92;92mJ\u001b[38;2;255;255;255m \u001b[38;2;189;183;107mL\u001b[38;2;255;255;255m\u001b[38;2;189;183;107mL\u001b[38;2;255;255;255m\u001b[38;2;205;92;92mJ\u001b[38;2;255;255;255m\u001b[38;2;205;92;92mJ\u001b[38;2;255;255;255m \u001b[38;2;189;183;107mL\u001b[38;2;255;255;255m\u001b[38;2;205;92;92mJ\u001b[38;2;255;255;255m\u001b[38;2;205;92;92mJ\u001b[38;2;255;255;255m\u001b[38;2;205;92;92mJ\u001b[38;2;255;255;255m \u001b[38;2;205;92;92mJ\u001b[38;2;255;255;255m\u001b[38;2;205;92;92mJ\u001b[38;2;255;255;255m\u001b[38;2;205;92;92mJ\u001b[38;2;255;255;255m\u001b[38;2;205;92;92mJ\u001b[38;2;255;255;255m \u001b[38;2;205;92;92mJ\u001b[38;2;255;255;255m\u001b[38;2;205;92;92mJ\u001b[38;2;255;255;255m\u001b[38;2;205;92;92mJ\u001b[38;2;255;255;255m\u001b[38;2;189;183;107mL\u001b[38;2;255;255;255m \u001b[38;2;205;92;92mJ\u001b[38;2;255;255;255m\u001b[38;2;205;92;92mJ\u001b[38;2;255;255;255m\u001b[38;2;189;183;107mL\u001b[38;2;255;255;255m\u001b[38;2;189;183;107mL\u001b[38;2;255;255;255m \u001b[38;2;205;92;92mJ\u001b[38;2;255;255;255m\u001b[38;2;189;183;107mL\u001b[38;2;255;255;255m\u001b[38;2;189;183;107mL\u001b[38;2;255;255;255m\u001b[38;2;189;183;107mL\u001b[38;2;255;255;255m \u001b[38;2;189;183;107mL\u001b[38;2;255;255;255m\u001b[38;2;189;183;107mL\u001b[38;2;255;255;255m\u001b[38;2;189;183;107mL\u001b[38;2;255;255;255m\u001b[38;2;128;128;128mM\u001b[38;2;255;255;255m \u001b[38;2;189;183;107mL\u001b[38;2;255;255;255m\u001b[38;2;189;183;107mL\u001b[38;2;255;255;255m\u001b[38;2;128;128;128mM\u001b[38;2;255;255;255m\u001b[38;2;128;128;128mM\u001b[38;2;255;255;255m \u001b[38;2;189;183;107mL\u001b[38;2;255;255;255m\u001b[38;2;128;128;128mM\u001b[38;2;255;255;255m\u001b[38;2;128;128;128mM\u001b[38;2;255;255;255m\u001b[38;2;128;128;128mM\u001b[38;2;255;255;255m \u001b[38;2;128;128;128mM\u001b[38;2;255;255;255m\u001b[38;2;128;128;128mM\u001b[38;2;255;255;255m\u001b[38;2;128;128;128mM\u001b[38;2;255;255;255m\u001b[38;2;128;128;128mM\u001b[38;2;255;255;255m \u001b[38;2;128;128;128mM\u001b[38;2;255;255;255m\u001b[38;2;128;128;128mM\u001b[38;2;255;255;255m\u001b[38;2;128;128;128mM\u001b[38;2;255;255;255m\u001b[38;2;128;128;128mM\u001b[38;2;255;255;255m \u001b[38;2;128;128;128mM\u001b[38;2;255;255;255m\u001b[38;2;128;128;128mM\u001b[38;2;255;255;255m\u001b[38;2;128;128;128mM\u001b[38;2;255;255;255m\u001b[38;2;128;128;128mM\u001b[38;2;255;255;255m \u001b[38;2;128;128;128mM\u001b[38;2;255;255;255m\u001b[38;2;128;128;128mM\u001b[38;2;255;255;255m\u001b[38;2;128;128;128mM\u001b[38;2;255;255;255m\u001b[38;2;128;128;128mM\u001b[38;2;255;255;255m \u001b[38;2;128;128;128mM\u001b[38;2;255;255;255m\u001b[38;2;128;128;128mM\u001b[38;2;255;255;255m\u001b[38;2;128;128;128mM\u001b[38;2;255;255;255m\u001b[38;2;128;128;128mM\u001b[38;2;255;255;255m \u001b[38;2;128;128;128mM\u001b[38;2;255;255;255m\u001b[38;2;128;128;128mM\u001b[38;2;255;255;255m\u001b[38;2;128;128;128mM\u001b[38;2;255;255;255m\u001b[38;2;128;128;128mM\u001b[38;2;255;255;255m \u001b[38;2;128;128;128mM\u001b[38;2;255;255;255m\u001b[38;2;128;128;128mM\u001b[38;2;255;255;255m\u001b[38;2;128;128;128mM\u001b[38;2;255;255;255m\u001b[38;2;128;128;128mM\u001b[38;2;255;255;255m \u001b[38;2;128;128;128mM\u001b[38;2;255;255;255m\u001b[38;2;128;128;128mM\u001b[38;2;255;255;255m\u001b[38;2;128;128;128mM\u001b[38;2;255;255;255m\u001b[38;2;128;128;128mM\u001b[38;2;255;255;255m \u001b[38;2;128;128;128mM\u001b[38;2;255;255;255m\u001b[38;2;128;128;128mM\u001b[38;2;255;255;255m\u001b[38;2;128;128;128mM\u001b[38;2;255;255;255m\u001b[38;2;128;128;128mM\u001b[38;2;255;255;255m \u001b[38;2;128;128;128mM\u001b[38;2;255;255;255m\u001b[38;2;128;128;128mM\u001b[38;2;255;255;255m\u001b[38;2;128;128;128mM\u001b[38;2;255;255;255m\u001b[38;2;128;128;128mM\u001b[38;2;255;255;255m \u001b[38;2;128;128;128mM\u001b[38;2;255;255;255m\u001b[38;2;128;128;128mM\u001b[38;2;255;255;255m\u001b[38;2;128;128;128mM\u001b[38;2;255;255;255m\u001b[38;2;189;183;107mL\u001b[38;2;255;255;255m \u001b[38;2;128;128;128mM\u001b[38;2;255;255;255m\u001b[38;2;128;128;128mM\u001b[38;2;255;255;255m\u001b[38;2;189;183;107mL\u001b[38;2;255;255;255m\u001b[38;2;189;183;107mL\u001b[38;2;255;255;255m \u001b[38;2;128;128;128mM\u001b[38;2;255;255;255m\u001b[38;2;189;183;107mL\u001b[38;2;255;255;255m\u001b[38;2;189;183;107mL\u001b[38;2;255;255;255m\u001b[38;2;189;183;107mL\u001b[38;2;255;255;255m \u001b[38;2;189;183;107mL\u001b[38;2;255;255;255m\u001b[38;2;189;183;107mL\u001b[38;2;255;255;255m\u001b[38;2;189;183;107mL\u001b[38;2;255;255;255m\u001b[38;2;189;183;107mL\u001b[38;2;255;255;255m \u001b[38;2;189;183;107mL\u001b[38;2;255;255;255m\u001b[38;2;189;183;107mL\u001b[38;2;255;255;255m\u001b[38;2;189;183;107mL\u001b[38;2;255;255;255m\u001b[38;2;189;183;107mL\u001b[38;2;255;255;255m \u001b[38;2;189;183;107mL\u001b[38;2;255;255;255m\u001b[38;2;189;183;107mL\u001b[38;2;255;255;255m\u001b[38;2;189;183;107mL\u001b[38;2;255;255;255m\u001b[38;2;128;128;128mM\u001b[38;2;255;255;255m \u001b[38;2;189;183;107mL\u001b[38;2;255;255;255m\u001b[38;2;189;183;107mL\u001b[38;2;255;255;255m\u001b[38;2;128;128;128mM\u001b[38;2;255;255;255m\u001b[38;2;128;128;128mM\u001b[38;2;255;255;255m \u001b[38;2;189;183;107mL\u001b[38;2;255;255;255m\u001b[38;2;128;128;128mM\u001b[38;2;255;255;255m\u001b[38;2;128;128;128mM\u001b[38;2;255;255;255m\u001b[38;2;192;192;192mN\u001b[38;2;255;255;255m \u001b[38;2;128;128;128mM\u001b[38;2;255;255;255m\u001b[38;2;128;128;128mM\u001b[38;2;255;255;255m\u001b[38;2;192;192;192mN\u001b[38;2;255;255;255m\u001b[38;2;192;192;192mN\u001b[38;2;255;255;255m \u001b[38;2;128;128;128mM\u001b[38;2;255;255;255m\u001b[38;2;192;192;192mN\u001b[38;2;255;255;255m\u001b[38;2;192;192;192mN\u001b[38;2;255;255;255m\u001b[38;2;192;192;192mN\u001b[38;2;255;255;255m \u001b[38;2;192;192;192mN\u001b[38;2;255;255;255m\u001b[38;2;192;192;192mN\u001b[38;2;255;255;255m\u001b[38;2;192;192;192mN\u001b[38;2;255;255;255m\u001b[38;2;192;192;192mN\u001b[38;2;255;255;255m \u001b[38;2;192;192;192mN\u001b[38;2;255;255;255m\u001b[38;2;192;192;192mN\u001b[38;2;255;255;255m\u001b[38;2;192;192;192mN\u001b[38;2;255;255;255m\u001b[38;2;192;192;192mN\u001b[38;2;255;255;255m \u001b[38;2;192;192;192mN\u001b[38;2;255;255;255m\u001b[38;2;192;192;192mN\u001b[38;2;255;255;255m\u001b[38;2;192;192;192mN\u001b[38;2;255;255;255m\u001b[38;2;192;192;192mN\u001b[38;2;255;255;255m \u001b[38;2;192;192;192mN\u001b[38;2;255;255;255m\u001b[38;2;192;192;192mN\u001b[38;2;255;255;255m\u001b[38;2;192;192;192mN\u001b[38;2;255;255;255m\u001b[38;2;192;192;192mN\u001b[38;2;255;255;255m \u001b[38;2;192;192;192mN\u001b[38;2;255;255;255m\u001b[38;2;192;192;192mN\u001b[38;2;255;255;255m\u001b[38;2;192;192;192mN\u001b[38;2;255;255;255m\u001b[38;2;192;192;192mN\u001b[38;2;255;255;255m \u001b[38;2;192;192;192mN\u001b[38;2;255;255;255m\u001b[38;2;192;192;192mN\u001b[38;2;255;255;255m\u001b[38;2;192;192;192mN\u001b[38;2;255;255;255m\u001b[38;2;192;192;192mN\u001b[38;2;255;255;255m \u001b[38;2;192;192;192mN\u001b[38;2;255;255;255m\u001b[38;2;192;192;192mN\u001b[38;2;255;255;255m\u001b[38;2;192;192;192mN\u001b[38;2;255;255;255m\u001b[38;2;192;192;192mN\u001b[38;2;255;255;255m \u001b[38;2;192;192;192mN\u001b[38;2;255;255;255m\u001b[38;2;192;192;192mN\u001b[38;2;255;255;255m\u001b[38;2;192;192;192mN\u001b[38;2;255;255;255m\u001b[38;2;192;192;192mN\u001b[38;2;255;255;255m \u001b[38;2;192;192;192mN\u001b[38;2;255;255;255m\u001b[38;2;192;192;192mN\u001b[38;2;255;255;255m\u001b[38;2;192;192;192mN\u001b[38;2;255;255;255m\u001b[38;2;192;192;192mN\u001b[38;2;255;255;255m \u001b[38;2;192;192;192mN\u001b[38;2;255;255;255m\u001b[38;2;192;192;192mN\u001b[38;2;255;255;255m\u001b[38;2;192;192;192mN\u001b[38;2;255;255;255m\u001b[38;2;192;192;192mN\u001b[38;2;255;255;255m \u001b[38;2;192;192;192mN\u001b[38;2;255;255;255m\u001b[38;2;192;192;192mN\u001b[38;2;255;255;255m\u001b[38;2;192;192;192mN\u001b[38;2;255;255;255m\u001b[38;2;192;192;192mN\u001b[38;2;255;255;255m \u001b[38;2;192;192;192mN\u001b[38;2;255;255;255m\u001b[38;2;192;192;192mN\u001b[38;2;255;255;255m\u001b[38;2;192;192;192mN\u001b[38;2;255;255;255m\u001b[38;2;192;192;192mN\u001b[38;2;255;255;255m \u001b[38;2;192;192;192mN\u001b[38;2;255;255;255m\u001b[38;2;192;192;192mN\u001b[38;2;255;255;255m\u001b[38;2;192;192;192mN\u001b[38;2;255;255;255m\u001b[38;2;192;192;192mN\u001b[38;2;255;255;255m \u001b[38;2;192;192;192mN\u001b[38;2;255;255;255m\u001b[38;2;192;192;192mN\u001b[38;2;255;255;255m\u001b[38;2;192;192;192mN\u001b[38;2;255;255;255m\u001b[38;2;192;192;192mN\u001b[38;2;255;255;255m \u001b[38;2;192;192;192mN\u001b[38;2;255;255;255m\u001b[38;2;192;192;192mN\u001b[38;2;255;255;255m\u001b[38;2;192;192;192mN\u001b[38;2;255;255;255m\u001b[38;2;192;192;192mN\u001b[38;2;255;255;255m \u001b[38;2;192;192;192mN\u001b[38;2;255;255;255m\u001b[38;2;192;192;192mN\u001b[38;2;255;255;255m\u001b[38;2;192;192;192mN\u001b[38;2;255;255;255m\u001b[38;2;192;192;192mN\u001b[38;2;255;255;255m \u001b[38;2;192;192;192mN\u001b[38;2;255;255;255m\u001b[38;2;192;192;192mN\u001b[38;2;255;255;255m\u001b[38;2;192;192;192mN\u001b[38;2;255;255;255m\u001b[38;2;189;183;107mL\u001b[38;2;255;255;255m \u001b[38;2;192;192;192mN\u001b[38;2;255;255;255m\u001b[38;2;192;192;192mN\u001b[38;2;255;255;255m\u001b[38;2;189;183;107mL\u001b[38;2;255;255;255m\u001b[38;2;255;69;0mB\u001b[38;2;255;255;255m \u001b[38;2;192;192;192mN\u001b[38;2;255;255;255m\u001b[38;2;189;183;107mL\u001b[38;2;255;255;255m\u001b[38;2;255;69;0mB\u001b[38;2;255;255;255m\u001b[38;2;255;69;0mB\u001b[38;2;255;255;255m \u001b[38;2;189;183;107mL\u001b[38;2;255;255;255m\u001b[38;2;255;69;0mB\u001b[38;2;255;255;255m\u001b[38;2;255;69;0mB\u001b[38;2;255;255;255m\u001b[38;2;255;69;0mB\u001b[38;2;255;255;255m \u001b[38;2;255;69;0mB\u001b[38;2;255;255;255m\u001b[38;2;255;69;0mB\u001b[38;2;255;255;255m\u001b[38;2;255;69;0mB\u001b[38;2;255;255;255m\u001b[38;2;255;255;0mG\u001b[38;2;255;255;255m \u001b[38;2;255;69;0mB\u001b[38;2;255;255;255m\u001b[38;2;255;69;0mB\u001b[38;2;255;255;255m\u001b[38;2;255;255;0mG\u001b[38;2;255;255;255m\u001b[38;2;192;192;192mN\u001b[38;2;255;255;255m \u001b[38;2;255;69;0mB\u001b[38;2;255;255;255m\u001b[38;2;255;255;0mG\u001b[38;2;255;255;255m\u001b[38;2;192;192;192mN\u001b[38;2;255;255;255m\u001b[38;2;192;192;192mN\u001b[38;2;255;255;255m \u001b[38;2;255;255;0mG\u001b[38;2;255;255;255m\u001b[38;2;192;192;192mN\u001b[38;2;255;255;255m\u001b[38;2;192;192;192mN\u001b[38;2;255;255;255m\u001b[38;2;192;192;192mN\u001b[38;2;255;255;255m \u001b[38;2;192;192;192mN\u001b[38;2;255;255;255m\u001b[38;2;192;192;192mN\u001b[38;2;255;255;255m\u001b[38;2;192;192;192mN\u001b[38;2;255;255;255m\u001b[38;2;192;192;192mN\u001b[38;2;255;255;255m \u001b[38;2;192;192;192mN\u001b[38;2;255;255;255m\u001b[38;2;192;192;192mN\u001b[38;2;255;255;255m\u001b[38;2;192;192;192mN\u001b[38;2;255;255;255m\u001b[38;2;192;192;192mN\u001b[38;2;255;255;255m \u001b[38;2;192;192;192mN\u001b[38;2;255;255;255m\u001b[38;2;192;192;192mN\u001b[38;2;255;255;255m\u001b[38;2;192;192;192mN\u001b[38;2;255;255;255m\u001b[38;2;192;192;192mN\u001b[38;2;255;255;255m \u001b[38;2;192;192;192mN\u001b[38;2;255;255;255m\u001b[38;2;192;192;192mN\u001b[38;2;255;255;255m\u001b[38;2;192;192;192mN\u001b[38;2;255;255;255m\u001b[38;2;192;192;192mN\u001b[38;2;255;255;255m \u001b[38;2;192;192;192mN\u001b[38;2;255;255;255m\u001b[38;2;192;192;192mN\u001b[38;2;255;255;255m\u001b[38;2;192;192;192mN\u001b[38;2;255;255;255m\u001b[38;2;192;192;192mN\u001b[38;2;255;255;255m \u001b[38;2;192;192;192mN\u001b[38;2;255;255;255m\u001b[38;2;192;192;192mN\u001b[38;2;255;255;255m\u001b[38;2;192;192;192mN\u001b[38;2;255;255;255m\u001b[38;2;192;192;192mN\u001b[38;2;255;255;255m \u001b[38;2;192;192;192mN\u001b[38;2;255;255;255m\u001b[38;2;192;192;192mN\u001b[38;2;255;255;255m\u001b[38;2;192;192;192mN\u001b[38;2;255;255;255m\u001b[38;2;192;192;192mN\u001b[38;2;255;255;255m\u001b[0;0m\n"
          ]
        }
      ],
      "source": [
        "print(\"* Before k-mer Segmentation\")\n",
        "colored_css=crb.colored_css_str_as_is(head_css)\n",
        "print(\"---------------------\")\n",
        "print(\"* After 4-mer Segmentation\")\n",
        "crb.colored_css_str_as_is(crb.seq2kmer(head_css,4))"
      ]
    },
    {
      "cell_type": "markdown",
      "metadata": {
        "id": "hpTopMvqbtSd"
      },
      "source": [
        "<br>\n",
        "\n",
        "- Now we have sentence-like chromatin state sequences! These *sentences* will be embedded as input data for a natural language processing model like BERT. The figure below illustrates how these sequences are transformed into BERT-compatible embeddings.\n",
        "\n",
        " - <u>Token Embeddings</u>: Each chromatin state k-mer is converted into a vector representation based on a learned embedding. Special tokens `[CLS]` and `[SEP]` are also assigned unique embeddings.\n",
        " - <u>Positional Embeddings</u>: Since BERT does not inherently understand order,  positional embeddings are added to encode sequence information.\n",
        " - <u>Input Embeddings</u>: The final input to BERT is the sum of the token and positional embeddings, ensuring both content and positional information are incorporated into the model.\"\n",
        "\n",
        " <br>\n",
        "\n",
        "<figure>\n",
        "<img src=\"https://github.com/caocao0525/ChromBERT/blob/chrombert-py311-extended/colab/colab_data/embedding.jpg?raw=true\" alt=\"Input Embedding\" width=\"1020\"/>\n",
        "<figcaption>Fig. Input Embedding</figcaption>\n",
        "</figure>\n",
        "\n",
        "<br><br>\n",
        "\n",
        "\n",
        "🤔 Why 4-mer?\n",
        "\n",
        "- You can experiment with different values for *k*-mer segmentation, but choosing the right *k* is crucial. If *k* is too small, the chromatin state sequence becomes too fragmented, making it difficult for **ChromBERT** to recognize meaningful patterns. On the other hand, a larger *k* results in a significantly larger vocabulary size (we'll explore this in more detail later), leading to longer computation times.\n",
        "\n",
        "- In **ChromBERT**, we recommend 4-mer as an optimal setting, balancing pattern recognition and computational efficiency.\n",
        "\n",
        "<br>"
      ]
    },
    {
      "cell_type": "markdown",
      "metadata": {
        "id": "p9NqIG_Qo3Z6"
      },
      "source": [
        "<br>\n",
        "\n",
        "---\n",
        "\n",
        "\n",
        "<br>\n",
        "<a name=\"Run-Your-Own-Test\"></a>\n",
        "\n",
        "## Run Your Own Test\n",
        "\n",
        "You can download the chromatin state annotation BED file for any cell type you want to investigate! All BED files are available here\n",
        "\n",
        "[![Download Data](https://img.shields.io/static/v1.svg?label=Source&message=ROADMAP&color=salmon)](https://egg2.wustl.edu/roadmap/data/byFileType/chromhmmSegmentations/ChmmModels/coreMarks/jointModel/final/)\n",
        "\n",
        "\n",
        "Follow the instructions below to download them or mount your Google Drive directly in this Google Colab session—whichever you prefer🧑‍💻\n",
        "\n",
        "\n",
        "\n",
        "<br>\n",
        "\n",
        "**Steps to Download and Use a Chromatin State Annotation File**\n",
        "\n",
        "1. Visit the ROADMAP database source above and browse for the cell type you want to investigate.\n",
        "\n",
        "2. Download the selected BED file (ends with **stateno.bed.gz**) to your local directory.\n",
        "\n",
        "  >⚠️ Note that the downloaded file is a zipped BED file (.bed.gz) and is not automatically unzipped if you are using the Safari browser. This may result in an incomplete unzip, so make sure to deselect the box labeled 'Open safe files after downloading' in Safari's preferences.\n",
        "\n",
        "\n",
        "3. Upload your BED file to Colab by clicking file icon 📂 on the left.\n",
        "\n",
        "4. Unzip the file in the Terminal. For example, for cell type `E001`, run:\n",
        "```\n",
        "!gunzip /content/E001_15_coreMarks_stateno.bed.gz\n",
        "```\n",
        "5. Now, you can create chromatin state sequences as input data for the cell type you selected! 🪄✨\n"
      ]
    },
    {
      "cell_type": "markdown",
      "metadata": {
        "id": "OXEsKvSFM-OB"
      },
      "source": [
        "<br><br>\n",
        "\n",
        "---\n",
        "\n",
        "# 3. Pretraining Data Preparation"
      ]
    },
    {
      "cell_type": "markdown",
      "metadata": {
        "id": "q7kd_qv350Mk"
      },
      "source": [
        "\n",
        "\n",
        "## Data Preparation\n",
        "\n",
        "During the pretraining stage, **ChromBERT** learns *general* chromatin state patterns from a diverse set of chromatin state sequences. To prepare pretraining data, you can concatenate chromatin state sequences from various cell types. Ideally, you should combine sequences from all available cell types in the ROADMAP dataset to maximize diversity and improve the model's generalization.\n",
        "\n",
        "<br>\n",
        "\n",
        "Pretraining a model on a large dataset is computationally intensive and can take over a week, even with a powerful GPU. Here, you can test a simpler case as a toy example 🧸 by preparing a pretraining dataset from the promoter regions of a single cell type.\n",
        "\n",
        "💡 If you choose to bypass this initial testing phase and dive straight into fine-tuning, our pretrained model parameters are available for use. These parameters have been trained on whole genome regions or promoter regions from 127 cell types in ROADMAP. You can proceed directly to the fine-tuning section without preparing a separate pretraining dataset: [![DOI](https://zenodo.org/badge/DOI/10.5281/zenodo.10907412.svg)](https://doi.org/10.5281/zenodo.10907412)\n"
      ]
    },
    {
      "cell_type": "markdown",
      "metadata": {
        "id": "vqlx_iT6MiG5"
      },
      "source": [
        "<br>\n",
        "\n",
        "## Promoter regions\n",
        "\n",
        "**Promoter regions** are key regulatory sequences located near the **Transcription Start Site** (TSS), where transcription is initiated. As shown in the figure, promoters are typically found upstream of the transcription unit and play a crucial role in recruiting transcription factors and RNA polymerase to control gene expression.\n",
        "\n",
        "<!-- <br> -->\n",
        "\n",
        "<!-- <figure>\n",
        "<img src=\"https://drive.google.com/uc?export=view&id=1P3Tjq-FtATTEY2e9DZfHYxKmEa3PiGxr\" alt=\"Input Embedding\" width=\"764\"/>\n",
        "<figcaption>Fig.8 Illustration of transcription start site and other gene elements. (image from <a href=\"https://geneticeducation.co.in/what-is-the-transcription-start-site-how-to-find-it/\">Genetic Education</a>)</figcaption>\n",
        "</figure>\n",
        "\n",
        "<br> -->\n",
        "\n",
        "The upstream region influences transcriptional activation, while the downstream region may also contain regulatory elements.\n",
        "\n",
        "In this tutorial, we define promoter regions by default as **2 kb upstream and 4 kb downstream from the TSS**, but you can adjust these boundaries based on your own criteria to suit specific research needs.🧑‍💻\n",
        "\n",
        "\n",
        "\n"
      ]
    },
    {
      "cell_type": "markdown",
      "metadata": {
        "id": "gtCpYhyUpTd2"
      },
      "source": [
        "First of all, download the `RefSeq.WholeGene.bed` file, which is essential to extract the promoter regions. This BED-format file contains `RefSeq` gene annotations, including genomic coordinates, transcript IDs, TSS positions, and exon structures. It enables the identification of promoter regions by defining upstream sequences relative to the TSS, making it useful for transcriptional regulation analysis.\n",
        "\n",
        "<br>"
      ]
    },
    {
      "cell_type": "code",
      "execution_count": null,
      "metadata": {
        "colab": {
          "base_uri": "https://localhost:8080/"
        },
        "collapsed": true,
        "id": "33Vr3eYIoK2f",
        "outputId": "9712d5c3-9ca5-40fd-a7f8-e747868df52d"
      },
      "outputs": [
        {
          "output_type": "stream",
          "name": "stdout",
          "text": [
            "--2025-04-24 03:40:54--  https://raw.githubusercontent.com/caocao0525/ChromBERT/chrombert-py311-extended/colab/colab_data/test_files/RefSeq.WholeGene.bed\n",
            "Resolving raw.githubusercontent.com (raw.githubusercontent.com)... 185.199.108.133, 185.199.109.133, 185.199.110.133, ...\n",
            "Connecting to raw.githubusercontent.com (raw.githubusercontent.com)|185.199.108.133|:443... connected.\n",
            "HTTP request sent, awaiting response... 200 OK\n",
            "Length: 8202955 (7.8M) [text/plain]\n",
            "Saving to: ‘RefSeq.WholeGene.bed’\n",
            "\n",
            "RefSeq.WholeGene.be 100%[===================>]   7.82M  --.-KB/s    in 0.09s   \n",
            "\n",
            "2025-04-24 03:40:55 (82.9 MB/s) - ‘RefSeq.WholeGene.bed’ saved [8202955/8202955]\n",
            "\n"
          ]
        }
      ],
      "source": [
        "# Download 'Ref.WholeGene.bed' file\n",
        "!wget https://raw.githubusercontent.com/caocao0525/ChromBERT/chrombert-py311-extended/colab/colab_data/test_files/RefSeq.WholeGene.bed"
      ]
    },
    {
      "cell_type": "markdown",
      "metadata": {
        "id": "DtsYSRorsWV9"
      },
      "source": [
        "<br>\n",
        "\n",
        "Then, download the cell types you want to include in your pretraining dataset. You can refer to the steps you followed in the \"Run Your Own Test\" section ([Jump to Run Your Own Test](#Run-Your-Own-Test)) for guidance. For your convenience, here is the link to the BED file for all cell types in ROADMAP: [![Download Data](https://img.shields.io/static/v1.svg?label=Source&message=ROADMAP&color=salmon)](https://egg2.wustl.edu/roadmap/data/byFileType/chromhmmSegmentations/ChmmModels/coreMarks/jointModel/final/)\n",
        "\n",
        "<br>"
      ]
    },
    {
      "cell_type": "code",
      "execution_count": null,
      "metadata": {
        "id": "cGLBgy-zsTWz"
      },
      "outputs": [],
      "source": [
        "# # Download, unzip, and upload the cell type of your interest to Colab\n",
        "# # Change the file name and cell ID according to the cell type you want to test\n",
        "\n",
        "#!wget https://path/to/your/cell/type"
      ]
    },
    {
      "cell_type": "code",
      "execution_count": null,
      "metadata": {
        "id": "mTYA3tpM2Rh6"
      },
      "outputs": [],
      "source": [
        "# Create a DataFrame for the chromatin state annotation data of your cell type of interest\n",
        "\n",
        "df=crb.bed2df_expanded('/content/E003_15_coreMarks_stateno.bed') # Change the file name according to your cell ID"
      ]
    },
    {
      "cell_type": "markdown",
      "metadata": {
        "id": "cC2tKUuazj4m"
      },
      "source": [
        "<br>\n",
        "\n",
        "Now, let's prepare a pretraining dataset using **promoter regions**. The process is similar to the one-cell type approach, but to make it easier, we provide simple functions to streamline the workflow! (Of course, you can modify or use your own code if you prefer!✨)\n",
        "\n",
        "<br>\n",
        "\n",
        "The function `save_prom_by_loc_per_cell` extracts chromatin state sequences from promoter regions based on your specified upstream and downstream distances from the TSS."
      ]
    },
    {
      "cell_type": "code",
      "execution_count": null,
      "metadata": {
        "colab": {
          "base_uri": "https://localhost:8080/"
        },
        "id": "OcwY2UnI0l6K",
        "outputId": "116e21a0-01a8-43ad-b151-45fc5ef9023c"
      },
      "outputs": [
        {
          "output_type": "stream",
          "name": "stdout",
          "text": [
            "Extracting the gene file ...\n",
            "Done!\n"
          ]
        }
      ],
      "source": [
        "# Locate the 'RefSeq.WholeGene.bed' file on Colab\n",
        "whole_gene_file='/content/RefSeq.WholeGene.bed'\n",
        "\n",
        "import importlib\n",
        "importlib.reload(crb)\n",
        "# (1) Extract the chromatin state data on Promoter regions\n",
        "# Change 'up_num' and 'down_num' to adjust the upstream and downstream regions and define your own promoter regions\n",
        "# Don't change \"unit=200\" as it represents the default base pair length for chromatin annotation, which remains constant for this test.\n",
        "prom_extracted=crb.save_prom_by_loc_per_cell(whole_gene_file, df, up_num=2000, down_num=4000, unit=200)\n"
      ]
    },
    {
      "cell_type": "markdown",
      "metadata": {
        "id": "sN13CjJhABRN"
      },
      "source": [
        "<br>\n",
        "\n",
        "Examine the chromatin state sequences in the promoter regions 🔎"
      ]
    },
    {
      "cell_type": "code",
      "execution_count": null,
      "metadata": {
        "colab": {
          "base_uri": "https://localhost:8080/"
        },
        "id": "RCs5kmQg_IdA",
        "outputId": "fa907a0f-61f8-4b40-a6dc-975180a46b57"
      },
      "outputs": [
        {
          "output_type": "stream",
          "name": "stdout",
          "text": [
            "\u001b[1m\u001b[38;2;192;192;192mN\u001b[38;2;255;255;255m\u001b[38;2;192;192;192mN\u001b[38;2;255;255;255m\u001b[38;2;192;192;192mN\u001b[38;2;255;255;255m\u001b[38;2;192;192;192mN\u001b[38;2;255;255;255m\u001b[38;2;192;192;192mN\u001b[38;2;255;255;255m\u001b[38;2;192;192;192mN\u001b[38;2;255;255;255m\u001b[38;2;192;192;192mN\u001b[38;2;255;255;255m\u001b[38;2;192;192;192mN\u001b[38;2;255;255;255m\u001b[38;2;192;192;192mN\u001b[38;2;255;255;255m\u001b[38;2;192;192;192mN\u001b[38;2;255;255;255m\u001b[38;2;192;192;192mN\u001b[38;2;255;255;255m\u001b[38;2;192;192;192mN\u001b[38;2;255;255;255m\u001b[38;2;189;183;107mL\u001b[38;2;255;255;255m\u001b[38;2;255;69;0mB\u001b[38;2;255;255;255m\u001b[38;2;255;69;0mB\u001b[38;2;255;255;255m\u001b[38;2;255;69;0mB\u001b[38;2;255;255;255m\u001b[38;2;255;255;0mG\u001b[38;2;255;255;255m\u001b[38;2;192;192;192mN\u001b[38;2;255;255;255m\u001b[38;2;192;192;192mN\u001b[38;2;255;255;255m\u001b[38;2;192;192;192mN\u001b[38;2;255;255;255m\u001b[38;2;192;192;192mN\u001b[38;2;255;255;255m\u001b[38;2;192;192;192mN\u001b[38;2;255;255;255m\u001b[38;2;192;192;192mN\u001b[38;2;255;255;255m\u001b[38;2;192;192;192mN\u001b[38;2;255;255;255m\u001b[38;2;192;192;192mN\u001b[38;2;255;255;255m\u001b[38;2;192;192;192mN\u001b[38;2;255;255;255m\u001b[38;2;192;192;192mN\u001b[38;2;255;255;255m\u001b[38;2;192;192;192mN\u001b[38;2;255;255;255m\u001b[38;2;192;192;192mN\u001b[38;2;255;255;255m\u001b[38;2;192;192;192mN\u001b[38;2;255;255;255m\u001b[0;0m\n",
            "\u001b[1m\u001b[38;2;189;183;107mL\u001b[38;2;255;255;255m\u001b[38;2;189;183;107mL\u001b[38;2;255;255;255m\u001b[38;2;189;183;107mL\u001b[38;2;255;255;255m\u001b[38;2;189;183;107mL\u001b[38;2;255;255;255m\u001b[38;2;128;128;128mM\u001b[38;2;255;255;255m\u001b[38;2;128;128;128mM\u001b[38;2;255;255;255m\u001b[38;2;128;128;128mM\u001b[38;2;255;255;255m\u001b[38;2;205;92;92mJ\u001b[38;2;255;255;255m\u001b[38;2;205;92;92mJ\u001b[38;2;255;255;255m\u001b[38;2;205;92;92mJ\u001b[38;2;255;255;255m\u001b[38;2;205;92;92mJ\u001b[38;2;255;255;255m\u001b[38;2;233;150;122mK\u001b[38;2;255;255;255m\u001b[38;2;233;150;122mK\u001b[38;2;255;255;255m\u001b[38;2;233;150;122mK\u001b[38;2;255;255;255m\u001b[38;2;233;150;122mK\u001b[38;2;255;255;255m\u001b[38;2;205;92;92mJ\u001b[38;2;255;255;255m\u001b[38;2;205;92;92mJ\u001b[38;2;255;255;255m\u001b[38;2;233;150;122mK\u001b[38;2;255;255;255m\u001b[38;2;233;150;122mK\u001b[38;2;255;255;255m\u001b[38;2;205;92;92mJ\u001b[38;2;255;255;255m\u001b[38;2;233;150;122mK\u001b[38;2;255;255;255m\u001b[38;2;205;92;92mJ\u001b[38;2;255;255;255m\u001b[38;2;205;92;92mJ\u001b[38;2;255;255;255m\u001b[38;2;205;92;92mJ\u001b[38;2;255;255;255m\u001b[38;2;205;92;92mJ\u001b[38;2;255;255;255m\u001b[38;2;205;92;92mJ\u001b[38;2;255;255;255m\u001b[38;2;128;128;128mM\u001b[38;2;255;255;255m\u001b[38;2;128;128;128mM\u001b[38;2;255;255;255m\u001b[38;2;128;128;128mM\u001b[38;2;255;255;255m\u001b[38;2;128;128;128mM\u001b[38;2;255;255;255m\u001b[0;0m\n",
            "\u001b[1m\u001b[38;2;192;192;192mN\u001b[38;2;255;255;255m\u001b[38;2;192;192;192mN\u001b[38;2;255;255;255m\u001b[38;2;192;192;192mN\u001b[38;2;255;255;255m\u001b[38;2;192;192;192mN\u001b[38;2;255;255;255m\u001b[38;2;192;192;192mN\u001b[38;2;255;255;255m\u001b[38;2;192;192;192mN\u001b[38;2;255;255;255m\u001b[38;2;192;192;192mN\u001b[38;2;255;255;255m\u001b[38;2;255;255;0mG\u001b[38;2;255;255;255m\u001b[38;2;255;69;0mB\u001b[38;2;255;255;255m\u001b[38;2;255;0;0mA\u001b[38;2;255;255;255m\u001b[38;2;255;0;0mA\u001b[38;2;255;255;255m\u001b[38;2;255;69;0mB\u001b[38;2;255;255;255m\u001b[38;2;255;69;0mB\u001b[38;2;255;255;255m\u001b[38;2;255;69;0mB\u001b[38;2;255;255;255m\u001b[38;2;255;69;0mB\u001b[38;2;255;255;255m\u001b[38;2;255;255;0mG\u001b[38;2;255;255;255m\u001b[38;2;255;255;0mG\u001b[38;2;255;255;255m\u001b[38;2;255;255;0mG\u001b[38;2;255;255;255m\u001b[38;2;255;255;0mG\u001b[38;2;255;255;255m\u001b[38;2;255;255;0mG\u001b[38;2;255;255;255m\u001b[38;2;255;255;0mG\u001b[38;2;255;255;255m\u001b[38;2;0;100;0mE\u001b[38;2;255;255;255m\u001b[38;2;0;100;0mE\u001b[38;2;255;255;255m\u001b[38;2;102;205;170mH\u001b[38;2;255;255;255m\u001b[38;2;102;205;170mH\u001b[38;2;255;255;255m\u001b[38;2;0;100;0mE\u001b[38;2;255;255;255m\u001b[38;2;0;100;0mE\u001b[38;2;255;255;255m\u001b[38;2;0;100;0mE\u001b[38;2;255;255;255m\u001b[38;2;0;100;0mE\u001b[38;2;255;255;255m\u001b[38;2;0;100;0mE\u001b[38;2;255;255;255m\u001b[0;0m\n",
            "\u001b[1m\u001b[38;2;0;100;0mE\u001b[38;2;255;255;255m\u001b[38;2;0;100;0mE\u001b[38;2;255;255;255m\u001b[38;2;0;100;0mE\u001b[38;2;255;255;255m\u001b[38;2;0;100;0mE\u001b[38;2;255;255;255m\u001b[38;2;0;100;0mE\u001b[38;2;255;255;255m\u001b[38;2;255;255;0mG\u001b[38;2;255;255;255m\u001b[38;2;255;0;0mA\u001b[38;2;255;255;255m\u001b[38;2;255;0;0mA\u001b[38;2;255;255;255m\u001b[38;2;255;0;0mA\u001b[38;2;255;255;255m\u001b[38;2;255;0;0mA\u001b[38;2;255;255;255m\u001b[38;2;255;0;0mA\u001b[38;2;255;255;255m\u001b[38;2;255;0;0mA\u001b[38;2;255;255;255m\u001b[38;2;255;0;0mA\u001b[38;2;255;255;255m\u001b[38;2;255;0;0mA\u001b[38;2;255;255;255m\u001b[38;2;255;0;0mA\u001b[38;2;255;255;255m\u001b[38;2;255;69;0mB\u001b[38;2;255;255;255m\u001b[38;2;255;69;0mB\u001b[38;2;255;255;255m\u001b[38;2;255;255;0mG\u001b[38;2;255;255;255m\u001b[38;2;255;255;0mG\u001b[38;2;255;255;255m\u001b[38;2;255;255;0mG\u001b[38;2;255;255;255m\u001b[38;2;255;255;0mG\u001b[38;2;255;255;255m\u001b[38;2;255;255;0mG\u001b[38;2;255;255;255m\u001b[38;2;194;225;5mF\u001b[38;2;255;255;255m\u001b[38;2;194;225;5mF\u001b[38;2;255;255;255m\u001b[38;2;194;225;5mF\u001b[38;2;255;255;255m\u001b[38;2;194;225;5mF\u001b[38;2;255;255;255m\u001b[38;2;194;225;5mF\u001b[38;2;255;255;255m\u001b[38;2;194;225;5mF\u001b[38;2;255;255;255m\u001b[38;2;194;225;5mF\u001b[38;2;255;255;255m\u001b[38;2;194;225;5mF\u001b[38;2;255;255;255m\u001b[0;0m\n",
            "\u001b[1m\u001b[38;2;233;150;122mK\u001b[38;2;255;255;255m\u001b[38;2;189;183;107mL\u001b[38;2;255;255;255m\u001b[38;2;128;128;128mM\u001b[38;2;255;255;255m\u001b[38;2;128;128;128mM\u001b[38;2;255;255;255m\u001b[38;2;192;192;192mN\u001b[38;2;255;255;255m\u001b[38;2;192;192;192mN\u001b[38;2;255;255;255m\u001b[38;2;192;192;192mN\u001b[38;2;255;255;255m\u001b[38;2;192;192;192mN\u001b[38;2;255;255;255m\u001b[38;2;192;192;192mN\u001b[38;2;255;255;255m\u001b[38;2;192;192;192mN\u001b[38;2;255;255;255m\u001b[38;2;192;192;192mN\u001b[38;2;255;255;255m\u001b[38;2;192;192;192mN\u001b[38;2;255;255;255m\u001b[38;2;192;192;192mN\u001b[38;2;255;255;255m\u001b[38;2;192;192;192mN\u001b[38;2;255;255;255m\u001b[38;2;192;192;192mN\u001b[38;2;255;255;255m\u001b[38;2;192;192;192mN\u001b[38;2;255;255;255m\u001b[38;2;192;192;192mN\u001b[38;2;255;255;255m\u001b[38;2;192;192;192mN\u001b[38;2;255;255;255m\u001b[38;2;192;192;192mN\u001b[38;2;255;255;255m\u001b[38;2;192;192;192mN\u001b[38;2;255;255;255m\u001b[38;2;192;192;192mN\u001b[38;2;255;255;255m\u001b[38;2;192;192;192mN\u001b[38;2;255;255;255m\u001b[38;2;192;192;192mN\u001b[38;2;255;255;255m\u001b[38;2;192;192;192mN\u001b[38;2;255;255;255m\u001b[38;2;192;192;192mN\u001b[38;2;255;255;255m\u001b[38;2;192;192;192mN\u001b[38;2;255;255;255m\u001b[38;2;192;192;192mN\u001b[38;2;255;255;255m\u001b[38;2;192;192;192mN\u001b[38;2;255;255;255m\u001b[38;2;192;192;192mN\u001b[38;2;255;255;255m\u001b[38;2;192;192;192mN\u001b[38;2;255;255;255m\u001b[0;0m\n",
            "\u001b[1m\u001b[38;2;255;69;0mB\u001b[38;2;255;255;255m\u001b[38;2;255;69;0mB\u001b[38;2;255;255;255m\u001b[38;2;255;69;0mB\u001b[38;2;255;255;255m\u001b[38;2;255;69;0mB\u001b[38;2;255;255;255m\u001b[38;2;255;255;0mG\u001b[38;2;255;255;255m\u001b[38;2;255;255;0mG\u001b[38;2;255;255;255m\u001b[38;2;255;255;0mG\u001b[38;2;255;255;255m\u001b[38;2;0;100;0mE\u001b[38;2;255;255;255m\u001b[38;2;0;100;0mE\u001b[38;2;255;255;255m\u001b[38;2;0;100;0mE\u001b[38;2;255;255;255m\u001b[38;2;0;100;0mE\u001b[38;2;255;255;255m\u001b[38;2;0;100;0mE\u001b[38;2;255;255;255m\u001b[38;2;0;100;0mE\u001b[38;2;255;255;255m\u001b[38;2;0;100;0mE\u001b[38;2;255;255;255m\u001b[38;2;0;100;0mE\u001b[38;2;255;255;255m\u001b[38;2;0;100;0mE\u001b[38;2;255;255;255m\u001b[38;2;0;100;0mE\u001b[38;2;255;255;255m\u001b[38;2;0;100;0mE\u001b[38;2;255;255;255m\u001b[38;2;0;100;0mE\u001b[38;2;255;255;255m\u001b[38;2;0;100;0mE\u001b[38;2;255;255;255m\u001b[38;2;0;100;0mE\u001b[38;2;255;255;255m\u001b[38;2;0;100;0mE\u001b[38;2;255;255;255m\u001b[38;2;0;100;0mE\u001b[38;2;255;255;255m\u001b[38;2;0;100;0mE\u001b[38;2;255;255;255m\u001b[38;2;0;100;0mE\u001b[38;2;255;255;255m\u001b[38;2;0;100;0mE\u001b[38;2;255;255;255m\u001b[38;2;0;100;0mE\u001b[38;2;255;255;255m\u001b[38;2;0;100;0mE\u001b[38;2;255;255;255m\u001b[38;2;0;100;0mE\u001b[38;2;255;255;255m\u001b[38;2;0;100;0mE\u001b[38;2;255;255;255m\u001b[0;0m\n",
            "\u001b[1m\u001b[38;2;0;100;0mE\u001b[38;2;255;255;255m\u001b[38;2;0;100;0mE\u001b[38;2;255;255;255m\u001b[38;2;0;100;0mE\u001b[38;2;255;255;255m\u001b[38;2;0;100;0mE\u001b[38;2;255;255;255m\u001b[38;2;255;255;0mG\u001b[38;2;255;255;255m\u001b[38;2;255;255;0mG\u001b[38;2;255;255;255m\u001b[38;2;255;255;0mG\u001b[38;2;255;255;255m\u001b[38;2;189;183;107mL\u001b[38;2;255;255;255m\u001b[38;2;233;150;122mK\u001b[38;2;255;255;255m\u001b[38;2;233;150;122mK\u001b[38;2;255;255;255m\u001b[38;2;205;92;92mJ\u001b[38;2;255;255;255m\u001b[38;2;205;92;92mJ\u001b[38;2;255;255;255m\u001b[38;2;233;150;122mK\u001b[38;2;255;255;255m\u001b[38;2;128;128;128mM\u001b[38;2;255;255;255m\u001b[38;2;128;128;128mM\u001b[38;2;255;255;255m\u001b[38;2;128;128;128mM\u001b[38;2;255;255;255m\u001b[38;2;128;128;128mM\u001b[38;2;255;255;255m\u001b[38;2;192;192;192mN\u001b[38;2;255;255;255m\u001b[38;2;192;192;192mN\u001b[38;2;255;255;255m\u001b[38;2;192;192;192mN\u001b[38;2;255;255;255m\u001b[38;2;192;192;192mN\u001b[38;2;255;255;255m\u001b[38;2;192;192;192mN\u001b[38;2;255;255;255m\u001b[38;2;192;192;192mN\u001b[38;2;255;255;255m\u001b[38;2;192;192;192mN\u001b[38;2;255;255;255m\u001b[38;2;192;192;192mN\u001b[38;2;255;255;255m\u001b[38;2;192;192;192mN\u001b[38;2;255;255;255m\u001b[38;2;192;192;192mN\u001b[38;2;255;255;255m\u001b[38;2;192;192;192mN\u001b[38;2;255;255;255m\u001b[38;2;255;255;0mG\u001b[38;2;255;255;255m\u001b[38;2;255;255;0mG\u001b[38;2;255;255;255m\u001b[0;0m\n",
            "\u001b[1m\u001b[38;2;189;183;107mL\u001b[38;2;255;255;255m\u001b[38;2;189;183;107mL\u001b[38;2;255;255;255m\u001b[38;2;255;255;0mG\u001b[38;2;255;255;255m\u001b[38;2;255;255;0mG\u001b[38;2;255;255;255m\u001b[38;2;255;255;0mG\u001b[38;2;255;255;255m\u001b[38;2;255;255;0mG\u001b[38;2;255;255;255m\u001b[38;2;255;255;0mG\u001b[38;2;255;255;255m\u001b[38;2;0;100;0mE\u001b[38;2;255;255;255m\u001b[38;2;0;100;0mE\u001b[38;2;255;255;255m\u001b[38;2;0;100;0mE\u001b[38;2;255;255;255m\u001b[38;2;0;100;0mE\u001b[38;2;255;255;255m\u001b[38;2;0;100;0mE\u001b[38;2;255;255;255m\u001b[38;2;0;100;0mE\u001b[38;2;255;255;255m\u001b[38;2;0;100;0mE\u001b[38;2;255;255;255m\u001b[38;2;0;100;0mE\u001b[38;2;255;255;255m\u001b[38;2;0;100;0mE\u001b[38;2;255;255;255m\u001b[38;2;0;100;0mE\u001b[38;2;255;255;255m\u001b[38;2;0;100;0mE\u001b[38;2;255;255;255m\u001b[38;2;0;100;0mE\u001b[38;2;255;255;255m\u001b[38;2;0;100;0mE\u001b[38;2;255;255;255m\u001b[38;2;0;100;0mE\u001b[38;2;255;255;255m\u001b[38;2;0;100;0mE\u001b[38;2;255;255;255m\u001b[38;2;0;100;0mE\u001b[38;2;255;255;255m\u001b[38;2;0;100;0mE\u001b[38;2;255;255;255m\u001b[38;2;255;255;0mG\u001b[38;2;255;255;255m\u001b[38;2;255;255;0mG\u001b[38;2;255;255;255m\u001b[38;2;255;255;0mG\u001b[38;2;255;255;255m\u001b[38;2;255;255;0mG\u001b[38;2;255;255;255m\u001b[38;2;255;255;0mG\u001b[38;2;255;255;255m\u001b[38;2;255;255;0mG\u001b[38;2;255;255;255m\u001b[0;0m\n",
            "\u001b[1m\u001b[38;2;255;255;0mG\u001b[38;2;255;255;255m\u001b[38;2;255;255;0mG\u001b[38;2;255;255;255m\u001b[38;2;255;255;0mG\u001b[38;2;255;255;255m\u001b[38;2;0;100;0mE\u001b[38;2;255;255;255m\u001b[38;2;0;100;0mE\u001b[38;2;255;255;255m\u001b[38;2;0;100;0mE\u001b[38;2;255;255;255m\u001b[38;2;0;100;0mE\u001b[38;2;255;255;255m\u001b[38;2;0;100;0mE\u001b[38;2;255;255;255m\u001b[38;2;0;100;0mE\u001b[38;2;255;255;255m\u001b[38;2;0;100;0mE\u001b[38;2;255;255;255m\u001b[38;2;0;100;0mE\u001b[38;2;255;255;255m\u001b[38;2;0;100;0mE\u001b[38;2;255;255;255m\u001b[38;2;0;100;0mE\u001b[38;2;255;255;255m\u001b[38;2;0;100;0mE\u001b[38;2;255;255;255m\u001b[38;2;0;100;0mE\u001b[38;2;255;255;255m\u001b[38;2;0;100;0mE\u001b[38;2;255;255;255m\u001b[38;2;0;100;0mE\u001b[38;2;255;255;255m\u001b[38;2;0;100;0mE\u001b[38;2;255;255;255m\u001b[38;2;0;100;0mE\u001b[38;2;255;255;255m\u001b[38;2;0;100;0mE\u001b[38;2;255;255;255m\u001b[38;2;255;255;0mG\u001b[38;2;255;255;255m\u001b[38;2;255;255;0mG\u001b[38;2;255;255;255m\u001b[38;2;255;255;0mG\u001b[38;2;255;255;255m\u001b[38;2;255;255;0mG\u001b[38;2;255;255;255m\u001b[38;2;255;255;0mG\u001b[38;2;255;255;255m\u001b[38;2;255;255;0mG\u001b[38;2;255;255;255m\u001b[38;2;0;100;0mE\u001b[38;2;255;255;255m\u001b[38;2;0;100;0mE\u001b[38;2;255;255;255m\u001b[38;2;0;100;0mE\u001b[38;2;255;255;255m\u001b[38;2;0;100;0mE\u001b[38;2;255;255;255m\u001b[0;0m\n",
            "\u001b[1m\u001b[38;2;0;100;0mE\u001b[38;2;255;255;255m\u001b[38;2;0;100;0mE\u001b[38;2;255;255;255m\u001b[38;2;0;100;0mE\u001b[38;2;255;255;255m\u001b[38;2;0;100;0mE\u001b[38;2;255;255;255m\u001b[38;2;0;100;0mE\u001b[38;2;255;255;255m\u001b[38;2;0;100;0mE\u001b[38;2;255;255;255m\u001b[38;2;0;100;0mE\u001b[38;2;255;255;255m\u001b[38;2;0;100;0mE\u001b[38;2;255;255;255m\u001b[38;2;0;100;0mE\u001b[38;2;255;255;255m\u001b[38;2;0;100;0mE\u001b[38;2;255;255;255m\u001b[38;2;0;100;0mE\u001b[38;2;255;255;255m\u001b[38;2;0;100;0mE\u001b[38;2;255;255;255m\u001b[38;2;0;100;0mE\u001b[38;2;255;255;255m\u001b[38;2;0;100;0mE\u001b[38;2;255;255;255m\u001b[38;2;255;255;0mG\u001b[38;2;255;255;255m\u001b[38;2;255;255;0mG\u001b[38;2;255;255;255m\u001b[38;2;255;255;0mG\u001b[38;2;255;255;255m\u001b[38;2;255;255;0mG\u001b[38;2;255;255;255m\u001b[38;2;255;255;0mG\u001b[38;2;255;255;255m\u001b[38;2;255;255;0mG\u001b[38;2;255;255;255m\u001b[38;2;0;100;0mE\u001b[38;2;255;255;255m\u001b[38;2;0;100;0mE\u001b[38;2;255;255;255m\u001b[38;2;0;100;0mE\u001b[38;2;255;255;255m\u001b[38;2;0;100;0mE\u001b[38;2;255;255;255m\u001b[38;2;0;100;0mE\u001b[38;2;255;255;255m\u001b[38;2;0;100;0mE\u001b[38;2;255;255;255m\u001b[38;2;0;100;0mE\u001b[38;2;255;255;255m\u001b[38;2;0;100;0mE\u001b[38;2;255;255;255m\u001b[38;2;0;100;0mE\u001b[38;2;255;255;255m\u001b[38;2;0;100;0mE\u001b[38;2;255;255;255m\u001b[0;0m\n",
            "\u001b[1m\u001b[38;2;0;100;0mE\u001b[38;2;255;255;255m\u001b[38;2;0;100;0mE\u001b[38;2;255;255;255m\u001b[38;2;0;100;0mE\u001b[38;2;255;255;255m\u001b[38;2;0;100;0mE\u001b[38;2;255;255;255m\u001b[38;2;0;100;0mE\u001b[38;2;255;255;255m\u001b[38;2;0;100;0mE\u001b[38;2;255;255;255m\u001b[38;2;0;100;0mE\u001b[38;2;255;255;255m\u001b[38;2;255;255;0mG\u001b[38;2;255;255;255m\u001b[38;2;255;255;0mG\u001b[38;2;255;255;255m\u001b[38;2;255;69;0mB\u001b[38;2;255;255;255m\u001b[38;2;255;69;0mB\u001b[38;2;255;255;255m\u001b[38;2;255;69;0mB\u001b[38;2;255;255;255m\u001b[38;2;255;255;0mG\u001b[38;2;255;255;255m\u001b[38;2;255;255;0mG\u001b[38;2;255;255;255m\u001b[38;2;192;192;192mN\u001b[38;2;255;255;255m\u001b[38;2;192;192;192mN\u001b[38;2;255;255;255m\u001b[38;2;192;192;192mN\u001b[38;2;255;255;255m\u001b[38;2;192;192;192mN\u001b[38;2;255;255;255m\u001b[38;2;189;183;107mL\u001b[38;2;255;255;255m\u001b[38;2;189;183;107mL\u001b[38;2;255;255;255m\u001b[38;2;255;255;0mG\u001b[38;2;255;255;255m\u001b[38;2;255;255;0mG\u001b[38;2;255;255;255m\u001b[38;2;255;255;0mG\u001b[38;2;255;255;255m\u001b[38;2;255;255;0mG\u001b[38;2;255;255;255m\u001b[38;2;255;255;0mG\u001b[38;2;255;255;255m\u001b[38;2;255;255;0mG\u001b[38;2;255;255;255m\u001b[38;2;255;255;0mG\u001b[38;2;255;255;255m\u001b[38;2;255;255;0mG\u001b[38;2;255;255;255m\u001b[38;2;255;255;0mG\u001b[38;2;255;255;255m\u001b[38;2;255;255;0mG\u001b[38;2;255;255;255m\u001b[0;0m\n",
            "\u001b[1m\u001b[38;2;205;92;92mJ\u001b[38;2;255;255;255m\u001b[38;2;205;92;92mJ\u001b[38;2;255;255;255m\u001b[38;2;192;192;192mN\u001b[38;2;255;255;255m\u001b[38;2;192;192;192mN\u001b[38;2;255;255;255m\u001b[38;2;192;192;192mN\u001b[38;2;255;255;255m\u001b[38;2;192;192;192mN\u001b[38;2;255;255;255m\u001b[38;2;192;192;192mN\u001b[38;2;255;255;255m\u001b[38;2;192;192;192mN\u001b[38;2;255;255;255m\u001b[38;2;192;192;192mN\u001b[38;2;255;255;255m\u001b[38;2;192;192;192mN\u001b[38;2;255;255;255m\u001b[38;2;192;192;192mN\u001b[38;2;255;255;255m\u001b[38;2;192;192;192mN\u001b[38;2;255;255;255m\u001b[38;2;192;192;192mN\u001b[38;2;255;255;255m\u001b[38;2;192;192;192mN\u001b[38;2;255;255;255m\u001b[38;2;192;192;192mN\u001b[38;2;255;255;255m\u001b[38;2;192;192;192mN\u001b[38;2;255;255;255m\u001b[38;2;192;192;192mN\u001b[38;2;255;255;255m\u001b[38;2;128;128;128mM\u001b[38;2;255;255;255m\u001b[38;2;128;128;128mM\u001b[38;2;255;255;255m\u001b[38;2;128;128;128mM\u001b[38;2;255;255;255m\u001b[38;2;128;128;128mM\u001b[38;2;255;255;255m\u001b[38;2;128;128;128mM\u001b[38;2;255;255;255m\u001b[38;2;189;183;107mL\u001b[38;2;255;255;255m\u001b[38;2;233;150;122mK\u001b[38;2;255;255;255m\u001b[38;2;233;150;122mK\u001b[38;2;255;255;255m\u001b[38;2;233;150;122mK\u001b[38;2;255;255;255m\u001b[38;2;233;150;122mK\u001b[38;2;255;255;255m\u001b[38;2;189;183;107mL\u001b[38;2;255;255;255m\u001b[38;2;189;183;107mL\u001b[38;2;255;255;255m\u001b[38;2;0;100;0mE\u001b[38;2;255;255;255m\u001b[0;0m\n",
            "\u001b[1m\u001b[38;2;0;100;0mE\u001b[38;2;255;255;255m\u001b[38;2;0;100;0mE\u001b[38;2;255;255;255m\u001b[38;2;0;100;0mE\u001b[38;2;255;255;255m\u001b[38;2;0;100;0mE\u001b[38;2;255;255;255m\u001b[38;2;0;100;0mE\u001b[38;2;255;255;255m\u001b[38;2;0;100;0mE\u001b[38;2;255;255;255m\u001b[38;2;0;100;0mE\u001b[38;2;255;255;255m\u001b[38;2;0;100;0mE\u001b[38;2;255;255;255m\u001b[38;2;0;100;0mE\u001b[38;2;255;255;255m\u001b[38;2;0;100;0mE\u001b[38;2;255;255;255m\u001b[38;2;0;100;0mE\u001b[38;2;255;255;255m\u001b[38;2;0;100;0mE\u001b[38;2;255;255;255m\u001b[38;2;0;100;0mE\u001b[38;2;255;255;255m\u001b[38;2;0;100;0mE\u001b[38;2;255;255;255m\u001b[38;2;0;100;0mE\u001b[38;2;255;255;255m\u001b[38;2;0;100;0mE\u001b[38;2;255;255;255m\u001b[38;2;0;100;0mE\u001b[38;2;255;255;255m\u001b[38;2;0;100;0mE\u001b[38;2;255;255;255m\u001b[38;2;0;100;0mE\u001b[38;2;255;255;255m\u001b[38;2;0;100;0mE\u001b[38;2;255;255;255m\u001b[38;2;0;100;0mE\u001b[38;2;255;255;255m\u001b[38;2;0;100;0mE\u001b[38;2;255;255;255m\u001b[38;2;0;100;0mE\u001b[38;2;255;255;255m\u001b[38;2;0;100;0mE\u001b[38;2;255;255;255m\u001b[38;2;0;100;0mE\u001b[38;2;255;255;255m\u001b[38;2;0;100;0mE\u001b[38;2;255;255;255m\u001b[38;2;0;100;0mE\u001b[38;2;255;255;255m\u001b[38;2;0;100;0mE\u001b[38;2;255;255;255m\u001b[38;2;0;100;0mE\u001b[38;2;255;255;255m\u001b[38;2;0;100;0mE\u001b[38;2;255;255;255m\u001b[0;0m\n",
            "\u001b[1m\u001b[38;2;0;100;0mE\u001b[38;2;255;255;255m\u001b[38;2;0;100;0mE\u001b[38;2;255;255;255m\u001b[38;2;0;100;0mE\u001b[38;2;255;255;255m\u001b[38;2;0;100;0mE\u001b[38;2;255;255;255m\u001b[38;2;0;100;0mE\u001b[38;2;255;255;255m\u001b[38;2;0;100;0mE\u001b[38;2;255;255;255m\u001b[38;2;0;100;0mE\u001b[38;2;255;255;255m\u001b[38;2;0;100;0mE\u001b[38;2;255;255;255m\u001b[38;2;0;100;0mE\u001b[38;2;255;255;255m\u001b[38;2;0;100;0mE\u001b[38;2;255;255;255m\u001b[38;2;0;100;0mE\u001b[38;2;255;255;255m\u001b[38;2;0;128;0mD\u001b[38;2;255;255;255m\u001b[38;2;0;128;0mD\u001b[38;2;255;255;255m\u001b[38;2;0;128;0mD\u001b[38;2;255;255;255m\u001b[38;2;0;128;0mD\u001b[38;2;255;255;255m\u001b[38;2;0;128;0mD\u001b[38;2;255;255;255m\u001b[38;2;0;128;0mD\u001b[38;2;255;255;255m\u001b[38;2;0;128;0mD\u001b[38;2;255;255;255m\u001b[38;2;0;128;0mD\u001b[38;2;255;255;255m\u001b[38;2;0;128;0mD\u001b[38;2;255;255;255m\u001b[38;2;0;128;0mD\u001b[38;2;255;255;255m\u001b[38;2;0;128;0mD\u001b[38;2;255;255;255m\u001b[38;2;0;128;0mD\u001b[38;2;255;255;255m\u001b[38;2;0;128;0mD\u001b[38;2;255;255;255m\u001b[38;2;0;128;0mD\u001b[38;2;255;255;255m\u001b[38;2;0;128;0mD\u001b[38;2;255;255;255m\u001b[38;2;0;128;0mD\u001b[38;2;255;255;255m\u001b[38;2;0;128;0mD\u001b[38;2;255;255;255m\u001b[38;2;0;128;0mD\u001b[38;2;255;255;255m\u001b[38;2;0;128;0mD\u001b[38;2;255;255;255m\u001b[0;0m\n",
            "\u001b[1m\u001b[38;2;0;100;0mE\u001b[38;2;255;255;255m\u001b[38;2;0;100;0mE\u001b[38;2;255;255;255m\u001b[38;2;0;100;0mE\u001b[38;2;255;255;255m\u001b[38;2;255;0;0mA\u001b[38;2;255;255;255m\u001b[38;2;255;0;0mA\u001b[38;2;255;255;255m\u001b[38;2;255;0;0mA\u001b[38;2;255;255;255m\u001b[38;2;255;0;0mA\u001b[38;2;255;255;255m\u001b[38;2;255;0;0mA\u001b[38;2;255;255;255m\u001b[38;2;255;0;0mA\u001b[38;2;255;255;255m\u001b[38;2;255;0;0mA\u001b[38;2;255;255;255m\u001b[38;2;255;0;0mA\u001b[38;2;255;255;255m\u001b[38;2;255;0;0mA\u001b[38;2;255;255;255m\u001b[38;2;50;205;50mC\u001b[38;2;255;255;255m\u001b[38;2;50;205;50mC\u001b[38;2;255;255;255m\u001b[38;2;194;225;5mF\u001b[38;2;255;255;255m\u001b[38;2;194;225;5mF\u001b[38;2;255;255;255m\u001b[38;2;194;225;5mF\u001b[38;2;255;255;255m\u001b[38;2;0;100;0mE\u001b[38;2;255;255;255m\u001b[38;2;0;100;0mE\u001b[38;2;255;255;255m\u001b[38;2;0;100;0mE\u001b[38;2;255;255;255m\u001b[38;2;0;100;0mE\u001b[38;2;255;255;255m\u001b[38;2;0;100;0mE\u001b[38;2;255;255;255m\u001b[38;2;0;100;0mE\u001b[38;2;255;255;255m\u001b[38;2;0;100;0mE\u001b[38;2;255;255;255m\u001b[38;2;0;100;0mE\u001b[38;2;255;255;255m\u001b[38;2;0;100;0mE\u001b[38;2;255;255;255m\u001b[38;2;0;100;0mE\u001b[38;2;255;255;255m\u001b[38;2;0;100;0mE\u001b[38;2;255;255;255m\u001b[38;2;0;100;0mE\u001b[38;2;255;255;255m\u001b[38;2;0;100;0mE\u001b[38;2;255;255;255m\u001b[0;0m\n",
            "\u001b[1m\u001b[38;2;192;192;192mN\u001b[38;2;255;255;255m\u001b[38;2;192;192;192mN\u001b[38;2;255;255;255m\u001b[38;2;192;192;192mN\u001b[38;2;255;255;255m\u001b[38;2;192;192;192mN\u001b[38;2;255;255;255m\u001b[38;2;192;192;192mN\u001b[38;2;255;255;255m\u001b[38;2;192;192;192mN\u001b[38;2;255;255;255m\u001b[38;2;192;192;192mN\u001b[38;2;255;255;255m\u001b[38;2;192;192;192mN\u001b[38;2;255;255;255m\u001b[38;2;192;192;192mN\u001b[38;2;255;255;255m\u001b[38;2;192;192;192mN\u001b[38;2;255;255;255m\u001b[38;2;192;192;192mN\u001b[38;2;255;255;255m\u001b[38;2;192;192;192mN\u001b[38;2;255;255;255m\u001b[38;2;192;192;192mN\u001b[38;2;255;255;255m\u001b[38;2;192;192;192mN\u001b[38;2;255;255;255m\u001b[38;2;192;192;192mN\u001b[38;2;255;255;255m\u001b[38;2;192;192;192mN\u001b[38;2;255;255;255m\u001b[38;2;192;192;192mN\u001b[38;2;255;255;255m\u001b[38;2;192;192;192mN\u001b[38;2;255;255;255m\u001b[38;2;192;192;192mN\u001b[38;2;255;255;255m\u001b[38;2;192;192;192mN\u001b[38;2;255;255;255m\u001b[38;2;192;192;192mN\u001b[38;2;255;255;255m\u001b[38;2;192;192;192mN\u001b[38;2;255;255;255m\u001b[38;2;192;192;192mN\u001b[38;2;255;255;255m\u001b[38;2;192;192;192mN\u001b[38;2;255;255;255m\u001b[38;2;192;192;192mN\u001b[38;2;255;255;255m\u001b[38;2;192;192;192mN\u001b[38;2;255;255;255m\u001b[38;2;192;192;192mN\u001b[38;2;255;255;255m\u001b[38;2;189;183;107mL\u001b[38;2;255;255;255m\u001b[38;2;189;183;107mL\u001b[38;2;255;255;255m\u001b[38;2;189;183;107mL\u001b[38;2;255;255;255m\u001b[0;0m\n",
            "\u001b[1m\u001b[38;2;0;100;0mE\u001b[38;2;255;255;255m\u001b[38;2;0;100;0mE\u001b[38;2;255;255;255m\u001b[38;2;0;128;0mD\u001b[38;2;255;255;255m\u001b[38;2;0;128;0mD\u001b[38;2;255;255;255m\u001b[38;2;0;128;0mD\u001b[38;2;255;255;255m\u001b[38;2;0;128;0mD\u001b[38;2;255;255;255m\u001b[38;2;0;128;0mD\u001b[38;2;255;255;255m\u001b[38;2;0;128;0mD\u001b[38;2;255;255;255m\u001b[38;2;0;128;0mD\u001b[38;2;255;255;255m\u001b[38;2;0;128;0mD\u001b[38;2;255;255;255m\u001b[38;2;0;128;0mD\u001b[38;2;255;255;255m\u001b[38;2;0;128;0mD\u001b[38;2;255;255;255m\u001b[38;2;0;128;0mD\u001b[38;2;255;255;255m\u001b[38;2;0;128;0mD\u001b[38;2;255;255;255m\u001b[38;2;0;128;0mD\u001b[38;2;255;255;255m\u001b[38;2;0;128;0mD\u001b[38;2;255;255;255m\u001b[38;2;0;128;0mD\u001b[38;2;255;255;255m\u001b[38;2;0;128;0mD\u001b[38;2;255;255;255m\u001b[38;2;0;128;0mD\u001b[38;2;255;255;255m\u001b[38;2;0;128;0mD\u001b[38;2;255;255;255m\u001b[38;2;0;128;0mD\u001b[38;2;255;255;255m\u001b[38;2;0;128;0mD\u001b[38;2;255;255;255m\u001b[38;2;194;225;5mF\u001b[38;2;255;255;255m\u001b[38;2;194;225;5mF\u001b[38;2;255;255;255m\u001b[38;2;194;225;5mF\u001b[38;2;255;255;255m\u001b[38;2;194;225;5mF\u001b[38;2;255;255;255m\u001b[38;2;194;225;5mF\u001b[38;2;255;255;255m\u001b[38;2;194;225;5mF\u001b[38;2;255;255;255m\u001b[38;2;255;255;0mG\u001b[38;2;255;255;255m\u001b[38;2;255;255;0mG\u001b[38;2;255;255;255m\u001b[0;0m\n",
            "\u001b[1m\u001b[38;2;240;240;240mO\u001b[38;2;255;255;255m\u001b[38;2;240;240;240mO\u001b[38;2;255;255;255m\u001b[38;2;240;240;240mO\u001b[38;2;255;255;255m\u001b[38;2;240;240;240mO\u001b[38;2;255;255;255m\u001b[38;2;240;240;240mO\u001b[38;2;255;255;255m\u001b[38;2;240;240;240mO\u001b[38;2;255;255;255m\u001b[38;2;240;240;240mO\u001b[38;2;255;255;255m\u001b[38;2;240;240;240mO\u001b[38;2;255;255;255m\u001b[38;2;240;240;240mO\u001b[38;2;255;255;255m\u001b[38;2;240;240;240mO\u001b[38;2;255;255;255m\u001b[38;2;240;240;240mO\u001b[38;2;255;255;255m\u001b[38;2;240;240;240mO\u001b[38;2;255;255;255m\u001b[38;2;240;240;240mO\u001b[38;2;255;255;255m\u001b[38;2;240;240;240mO\u001b[38;2;255;255;255m\u001b[38;2;240;240;240mO\u001b[38;2;255;255;255m\u001b[38;2;240;240;240mO\u001b[38;2;255;255;255m\u001b[38;2;240;240;240mO\u001b[38;2;255;255;255m\u001b[38;2;240;240;240mO\u001b[38;2;255;255;255m\u001b[38;2;240;240;240mO\u001b[38;2;255;255;255m\u001b[38;2;240;240;240mO\u001b[38;2;255;255;255m\u001b[38;2;240;240;240mO\u001b[38;2;255;255;255m\u001b[38;2;240;240;240mO\u001b[38;2;255;255;255m\u001b[38;2;240;240;240mO\u001b[38;2;255;255;255m\u001b[38;2;192;192;192mN\u001b[38;2;255;255;255m\u001b[38;2;192;192;192mN\u001b[38;2;255;255;255m\u001b[38;2;192;192;192mN\u001b[38;2;255;255;255m\u001b[38;2;192;192;192mN\u001b[38;2;255;255;255m\u001b[38;2;192;192;192mN\u001b[38;2;255;255;255m\u001b[38;2;192;192;192mN\u001b[38;2;255;255;255m\u001b[38;2;192;192;192mN\u001b[38;2;255;255;255m\u001b[0;0m\n",
            "\u001b[1m\u001b[38;2;192;192;192mN\u001b[38;2;255;255;255m\u001b[38;2;192;192;192mN\u001b[38;2;255;255;255m\u001b[38;2;192;192;192mN\u001b[38;2;255;255;255m\u001b[38;2;192;192;192mN\u001b[38;2;255;255;255m\u001b[38;2;192;192;192mN\u001b[38;2;255;255;255m\u001b[38;2;192;192;192mN\u001b[38;2;255;255;255m\u001b[38;2;192;192;192mN\u001b[38;2;255;255;255m\u001b[38;2;192;192;192mN\u001b[38;2;255;255;255m\u001b[38;2;255;255;0mG\u001b[38;2;255;255;255m\u001b[38;2;255;255;0mG\u001b[38;2;255;255;255m\u001b[38;2;0;100;0mE\u001b[38;2;255;255;255m\u001b[38;2;0;100;0mE\u001b[38;2;255;255;255m\u001b[38;2;0;100;0mE\u001b[38;2;255;255;255m\u001b[38;2;0;100;0mE\u001b[38;2;255;255;255m\u001b[38;2;0;100;0mE\u001b[38;2;255;255;255m\u001b[38;2;0;100;0mE\u001b[38;2;255;255;255m\u001b[38;2;255;0;0mA\u001b[38;2;255;255;255m\u001b[38;2;255;0;0mA\u001b[38;2;255;255;255m\u001b[38;2;255;0;0mA\u001b[38;2;255;255;255m\u001b[38;2;0;100;0mE\u001b[38;2;255;255;255m\u001b[38;2;0;100;0mE\u001b[38;2;255;255;255m\u001b[38;2;0;100;0mE\u001b[38;2;255;255;255m\u001b[38;2;0;100;0mE\u001b[38;2;255;255;255m\u001b[38;2;0;100;0mE\u001b[38;2;255;255;255m\u001b[38;2;0;100;0mE\u001b[38;2;255;255;255m\u001b[38;2;0;100;0mE\u001b[38;2;255;255;255m\u001b[38;2;0;100;0mE\u001b[38;2;255;255;255m\u001b[38;2;0;100;0mE\u001b[38;2;255;255;255m\u001b[38;2;0;100;0mE\u001b[38;2;255;255;255m\u001b[38;2;0;100;0mE\u001b[38;2;255;255;255m\u001b[0;0m\n",
            "\u001b[1m\u001b[38;2;255;69;0mB\u001b[38;2;255;255;255m\u001b[38;2;255;69;0mB\u001b[38;2;255;255;255m\u001b[38;2;255;69;0mB\u001b[38;2;255;255;255m\u001b[38;2;255;0;0mA\u001b[38;2;255;255;255m\u001b[38;2;255;0;0mA\u001b[38;2;255;255;255m\u001b[38;2;255;0;0mA\u001b[38;2;255;255;255m\u001b[38;2;255;0;0mA\u001b[38;2;255;255;255m\u001b[38;2;255;0;0mA\u001b[38;2;255;255;255m\u001b[38;2;255;0;0mA\u001b[38;2;255;255;255m\u001b[38;2;255;0;0mA\u001b[38;2;255;255;255m\u001b[38;2;255;0;0mA\u001b[38;2;255;255;255m\u001b[38;2;255;0;0mA\u001b[38;2;255;255;255m\u001b[38;2;255;0;0mA\u001b[38;2;255;255;255m\u001b[38;2;255;69;0mB\u001b[38;2;255;255;255m\u001b[38;2;255;69;0mB\u001b[38;2;255;255;255m\u001b[38;2;50;205;50mC\u001b[38;2;255;255;255m\u001b[38;2;194;225;5mF\u001b[38;2;255;255;255m\u001b[38;2;194;225;5mF\u001b[38;2;255;255;255m\u001b[38;2;194;225;5mF\u001b[38;2;255;255;255m\u001b[38;2;194;225;5mF\u001b[38;2;255;255;255m\u001b[38;2;0;128;0mD\u001b[38;2;255;255;255m\u001b[38;2;0;128;0mD\u001b[38;2;255;255;255m\u001b[38;2;0;128;0mD\u001b[38;2;255;255;255m\u001b[38;2;0;128;0mD\u001b[38;2;255;255;255m\u001b[38;2;0;128;0mD\u001b[38;2;255;255;255m\u001b[38;2;0;128;0mD\u001b[38;2;255;255;255m\u001b[38;2;0;128;0mD\u001b[38;2;255;255;255m\u001b[38;2;0;128;0mD\u001b[38;2;255;255;255m\u001b[38;2;0;128;0mD\u001b[38;2;255;255;255m\u001b[38;2;0;128;0mD\u001b[38;2;255;255;255m\u001b[0;0m\n",
            "\u001b[1m\u001b[38;2;0;100;0mE\u001b[38;2;255;255;255m\u001b[38;2;255;255;0mG\u001b[38;2;255;255;255m\u001b[38;2;255;255;0mG\u001b[38;2;255;255;255m\u001b[38;2;255;255;0mG\u001b[38;2;255;255;255m\u001b[38;2;255;69;0mB\u001b[38;2;255;255;255m\u001b[38;2;255;0;0mA\u001b[38;2;255;255;255m\u001b[38;2;255;0;0mA\u001b[38;2;255;255;255m\u001b[38;2;255;0;0mA\u001b[38;2;255;255;255m\u001b[38;2;255;0;0mA\u001b[38;2;255;255;255m\u001b[38;2;255;0;0mA\u001b[38;2;255;255;255m\u001b[38;2;255;0;0mA\u001b[38;2;255;255;255m\u001b[38;2;255;0;0mA\u001b[38;2;255;255;255m\u001b[38;2;255;0;0mA\u001b[38;2;255;255;255m\u001b[38;2;255;69;0mB\u001b[38;2;255;255;255m\u001b[38;2;255;69;0mB\u001b[38;2;255;255;255m\u001b[38;2;0;100;0mE\u001b[38;2;255;255;255m\u001b[38;2;0;100;0mE\u001b[38;2;255;255;255m\u001b[38;2;0;100;0mE\u001b[38;2;255;255;255m\u001b[38;2;0;100;0mE\u001b[38;2;255;255;255m\u001b[38;2;0;100;0mE\u001b[38;2;255;255;255m\u001b[38;2;0;100;0mE\u001b[38;2;255;255;255m\u001b[38;2;0;100;0mE\u001b[38;2;255;255;255m\u001b[38;2;0;100;0mE\u001b[38;2;255;255;255m\u001b[38;2;0;128;0mD\u001b[38;2;255;255;255m\u001b[38;2;0;128;0mD\u001b[38;2;255;255;255m\u001b[38;2;0;128;0mD\u001b[38;2;255;255;255m\u001b[38;2;0;128;0mD\u001b[38;2;255;255;255m\u001b[38;2;0;100;0mE\u001b[38;2;255;255;255m\u001b[38;2;0;100;0mE\u001b[38;2;255;255;255m\u001b[38;2;0;100;0mE\u001b[38;2;255;255;255m\u001b[0;0m\n",
            "\u001b[1m\u001b[38;2;0;100;0mE\u001b[38;2;255;255;255m\u001b[38;2;102;205;170mH\u001b[38;2;255;255;255m\u001b[38;2;102;205;170mH\u001b[38;2;255;255;255m\u001b[38;2;102;205;170mH\u001b[38;2;255;255;255m\u001b[38;2;0;100;0mE\u001b[38;2;255;255;255m\u001b[38;2;0;100;0mE\u001b[38;2;255;255;255m\u001b[38;2;0;100;0mE\u001b[38;2;255;255;255m\u001b[38;2;0;100;0mE\u001b[38;2;255;255;255m\u001b[38;2;0;100;0mE\u001b[38;2;255;255;255m\u001b[38;2;0;100;0mE\u001b[38;2;255;255;255m\u001b[38;2;0;100;0mE\u001b[38;2;255;255;255m\u001b[38;2;0;100;0mE\u001b[38;2;255;255;255m\u001b[38;2;0;100;0mE\u001b[38;2;255;255;255m\u001b[38;2;0;100;0mE\u001b[38;2;255;255;255m\u001b[38;2;0;100;0mE\u001b[38;2;255;255;255m\u001b[38;2;0;100;0mE\u001b[38;2;255;255;255m\u001b[38;2;0;100;0mE\u001b[38;2;255;255;255m\u001b[38;2;0;100;0mE\u001b[38;2;255;255;255m\u001b[38;2;0;100;0mE\u001b[38;2;255;255;255m\u001b[38;2;0;100;0mE\u001b[38;2;255;255;255m\u001b[38;2;0;100;0mE\u001b[38;2;255;255;255m\u001b[38;2;0;100;0mE\u001b[38;2;255;255;255m\u001b[38;2;0;100;0mE\u001b[38;2;255;255;255m\u001b[38;2;0;100;0mE\u001b[38;2;255;255;255m\u001b[38;2;0;100;0mE\u001b[38;2;255;255;255m\u001b[38;2;0;100;0mE\u001b[38;2;255;255;255m\u001b[38;2;0;100;0mE\u001b[38;2;255;255;255m\u001b[38;2;0;100;0mE\u001b[38;2;255;255;255m\u001b[38;2;0;100;0mE\u001b[38;2;255;255;255m\u001b[38;2;0;100;0mE\u001b[38;2;255;255;255m\u001b[0;0m\n",
            "\u001b[1m\u001b[38;2;0;100;0mE\u001b[38;2;255;255;255m\u001b[38;2;0;100;0mE\u001b[38;2;255;255;255m\u001b[38;2;0;100;0mE\u001b[38;2;255;255;255m\u001b[38;2;0;100;0mE\u001b[38;2;255;255;255m\u001b[38;2;255;69;0mB\u001b[38;2;255;255;255m\u001b[38;2;255;69;0mB\u001b[38;2;255;255;255m\u001b[38;2;255;255;0mG\u001b[38;2;255;255;255m\u001b[38;2;255;255;0mG\u001b[38;2;255;255;255m\u001b[38;2;255;255;0mG\u001b[38;2;255;255;255m\u001b[38;2;255;255;0mG\u001b[38;2;255;255;255m\u001b[38;2;255;255;0mG\u001b[38;2;255;255;255m\u001b[38;2;255;255;0mG\u001b[38;2;255;255;255m\u001b[38;2;255;255;0mG\u001b[38;2;255;255;255m\u001b[38;2;255;255;0mG\u001b[38;2;255;255;255m\u001b[38;2;255;255;0mG\u001b[38;2;255;255;255m\u001b[38;2;255;69;0mB\u001b[38;2;255;255;255m\u001b[38;2;233;150;122mK\u001b[38;2;255;255;255m\u001b[38;2;233;150;122mK\u001b[38;2;255;255;255m\u001b[38;2;233;150;122mK\u001b[38;2;255;255;255m\u001b[38;2;233;150;122mK\u001b[38;2;255;255;255m\u001b[38;2;233;150;122mK\u001b[38;2;255;255;255m\u001b[38;2;233;150;122mK\u001b[38;2;255;255;255m\u001b[38;2;205;92;92mJ\u001b[38;2;255;255;255m\u001b[38;2;205;92;92mJ\u001b[38;2;255;255;255m\u001b[38;2;233;150;122mK\u001b[38;2;255;255;255m\u001b[38;2;233;150;122mK\u001b[38;2;255;255;255m\u001b[38;2;189;183;107mL\u001b[38;2;255;255;255m\u001b[38;2;189;183;107mL\u001b[38;2;255;255;255m\u001b[38;2;255;255;0mG\u001b[38;2;255;255;255m\u001b[38;2;255;255;0mG\u001b[38;2;255;255;255m\u001b[0;0m\n",
            "\u001b[1m\u001b[38;2;255;255;0mG\u001b[38;2;255;255;255m\u001b[38;2;255;255;0mG\u001b[38;2;255;255;255m\u001b[38;2;0;100;0mE\u001b[38;2;255;255;255m\u001b[38;2;0;100;0mE\u001b[38;2;255;255;255m\u001b[38;2;0;100;0mE\u001b[38;2;255;255;255m\u001b[38;2;0;100;0mE\u001b[38;2;255;255;255m\u001b[38;2;0;100;0mE\u001b[38;2;255;255;255m\u001b[38;2;0;128;0mD\u001b[38;2;255;255;255m\u001b[38;2;0;128;0mD\u001b[38;2;255;255;255m\u001b[38;2;194;225;5mF\u001b[38;2;255;255;255m\u001b[38;2;255;69;0mB\u001b[38;2;255;255;255m\u001b[38;2;255;69;0mB\u001b[38;2;255;255;255m\u001b[38;2;255;69;0mB\u001b[38;2;255;255;255m\u001b[38;2;255;0;0mA\u001b[38;2;255;255;255m\u001b[38;2;255;0;0mA\u001b[38;2;255;255;255m\u001b[38;2;255;0;0mA\u001b[38;2;255;255;255m\u001b[38;2;255;0;0mA\u001b[38;2;255;255;255m\u001b[38;2;255;0;0mA\u001b[38;2;255;255;255m\u001b[38;2;255;0;0mA\u001b[38;2;255;255;255m\u001b[38;2;255;0;0mA\u001b[38;2;255;255;255m\u001b[38;2;255;0;0mA\u001b[38;2;255;255;255m\u001b[38;2;255;0;0mA\u001b[38;2;255;255;255m\u001b[38;2;255;0;0mA\u001b[38;2;255;255;255m\u001b[38;2;255;0;0mA\u001b[38;2;255;255;255m\u001b[38;2;0;100;0mE\u001b[38;2;255;255;255m\u001b[38;2;0;100;0mE\u001b[38;2;255;255;255m\u001b[38;2;0;100;0mE\u001b[38;2;255;255;255m\u001b[38;2;0;100;0mE\u001b[38;2;255;255;255m\u001b[38;2;0;100;0mE\u001b[38;2;255;255;255m\u001b[38;2;0;100;0mE\u001b[38;2;255;255;255m\u001b[0;0m\n",
            "\u001b[1m\u001b[38;2;0;100;0mE\u001b[38;2;255;255;255m\u001b[38;2;0;100;0mE\u001b[38;2;255;255;255m\u001b[38;2;0;100;0mE\u001b[38;2;255;255;255m\u001b[38;2;0;100;0mE\u001b[38;2;255;255;255m\u001b[38;2;0;100;0mE\u001b[38;2;255;255;255m\u001b[38;2;0;100;0mE\u001b[38;2;255;255;255m\u001b[38;2;0;100;0mE\u001b[38;2;255;255;255m\u001b[38;2;0;128;0mD\u001b[38;2;255;255;255m\u001b[38;2;0;128;0mD\u001b[38;2;255;255;255m\u001b[38;2;0;128;0mD\u001b[38;2;255;255;255m\u001b[38;2;0;128;0mD\u001b[38;2;255;255;255m\u001b[38;2;0;128;0mD\u001b[38;2;255;255;255m\u001b[38;2;0;128;0mD\u001b[38;2;255;255;255m\u001b[38;2;0;128;0mD\u001b[38;2;255;255;255m\u001b[38;2;0;128;0mD\u001b[38;2;255;255;255m\u001b[38;2;0;128;0mD\u001b[38;2;255;255;255m\u001b[38;2;0;128;0mD\u001b[38;2;255;255;255m\u001b[38;2;0;128;0mD\u001b[38;2;255;255;255m\u001b[38;2;0;128;0mD\u001b[38;2;255;255;255m\u001b[38;2;0;128;0mD\u001b[38;2;255;255;255m\u001b[38;2;0;128;0mD\u001b[38;2;255;255;255m\u001b[38;2;0;128;0mD\u001b[38;2;255;255;255m\u001b[38;2;0;128;0mD\u001b[38;2;255;255;255m\u001b[38;2;0;128;0mD\u001b[38;2;255;255;255m\u001b[38;2;0;128;0mD\u001b[38;2;255;255;255m\u001b[38;2;0;128;0mD\u001b[38;2;255;255;255m\u001b[38;2;0;128;0mD\u001b[38;2;255;255;255m\u001b[38;2;0;128;0mD\u001b[38;2;255;255;255m\u001b[38;2;0;128;0mD\u001b[38;2;255;255;255m\u001b[38;2;0;128;0mD\u001b[38;2;255;255;255m\u001b[0;0m\n",
            "\u001b[1m\u001b[38;2;0;128;0mD\u001b[38;2;255;255;255m\u001b[38;2;194;225;5mF\u001b[38;2;255;255;255m\u001b[38;2;50;205;50mC\u001b[38;2;255;255;255m\u001b[38;2;50;205;50mC\u001b[38;2;255;255;255m\u001b[38;2;50;205;50mC\u001b[38;2;255;255;255m\u001b[38;2;255;0;0mA\u001b[38;2;255;255;255m\u001b[38;2;255;0;0mA\u001b[38;2;255;255;255m\u001b[38;2;255;0;0mA\u001b[38;2;255;255;255m\u001b[38;2;255;0;0mA\u001b[38;2;255;255;255m\u001b[38;2;255;0;0mA\u001b[38;2;255;255;255m\u001b[38;2;255;0;0mA\u001b[38;2;255;255;255m\u001b[38;2;255;0;0mA\u001b[38;2;255;255;255m\u001b[38;2;255;0;0mA\u001b[38;2;255;255;255m\u001b[38;2;255;69;0mB\u001b[38;2;255;255;255m\u001b[38;2;255;69;0mB\u001b[38;2;255;255;255m\u001b[38;2;255;69;0mB\u001b[38;2;255;255;255m\u001b[38;2;194;225;5mF\u001b[38;2;255;255;255m\u001b[38;2;194;225;5mF\u001b[38;2;255;255;255m\u001b[38;2;194;225;5mF\u001b[38;2;255;255;255m\u001b[38;2;194;225;5mF\u001b[38;2;255;255;255m\u001b[38;2;194;225;5mF\u001b[38;2;255;255;255m\u001b[38;2;194;225;5mF\u001b[38;2;255;255;255m\u001b[38;2;194;225;5mF\u001b[38;2;255;255;255m\u001b[38;2;194;225;5mF\u001b[38;2;255;255;255m\u001b[38;2;0;128;0mD\u001b[38;2;255;255;255m\u001b[38;2;0;128;0mD\u001b[38;2;255;255;255m\u001b[38;2;0;128;0mD\u001b[38;2;255;255;255m\u001b[38;2;0;128;0mD\u001b[38;2;255;255;255m\u001b[38;2;0;128;0mD\u001b[38;2;255;255;255m\u001b[38;2;0;128;0mD\u001b[38;2;255;255;255m\u001b[0;0m\n",
            "\u001b[1m\u001b[38;2;0;100;0mE\u001b[38;2;255;255;255m\u001b[38;2;0;100;0mE\u001b[38;2;255;255;255m\u001b[38;2;0;100;0mE\u001b[38;2;255;255;255m\u001b[38;2;0;100;0mE\u001b[38;2;255;255;255m\u001b[38;2;0;100;0mE\u001b[38;2;255;255;255m\u001b[38;2;0;100;0mE\u001b[38;2;255;255;255m\u001b[38;2;0;100;0mE\u001b[38;2;255;255;255m\u001b[38;2;0;100;0mE\u001b[38;2;255;255;255m\u001b[38;2;0;100;0mE\u001b[38;2;255;255;255m\u001b[38;2;0;100;0mE\u001b[38;2;255;255;255m\u001b[38;2;0;100;0mE\u001b[38;2;255;255;255m\u001b[38;2;0;100;0mE\u001b[38;2;255;255;255m\u001b[38;2;0;100;0mE\u001b[38;2;255;255;255m\u001b[38;2;0;100;0mE\u001b[38;2;255;255;255m\u001b[38;2;255;255;0mG\u001b[38;2;255;255;255m\u001b[38;2;255;255;0mG\u001b[38;2;255;255;255m\u001b[38;2;255;255;0mG\u001b[38;2;255;255;255m\u001b[38;2;255;69;0mB\u001b[38;2;255;255;255m\u001b[38;2;255;0;0mA\u001b[38;2;255;255;255m\u001b[38;2;255;0;0mA\u001b[38;2;255;255;255m\u001b[38;2;255;69;0mB\u001b[38;2;255;255;255m\u001b[38;2;255;255;0mG\u001b[38;2;255;255;255m\u001b[38;2;255;255;0mG\u001b[38;2;255;255;255m\u001b[38;2;255;255;0mG\u001b[38;2;255;255;255m\u001b[38;2;255;255;0mG\u001b[38;2;255;255;255m\u001b[38;2;255;255;0mG\u001b[38;2;255;255;255m\u001b[38;2;255;255;0mG\u001b[38;2;255;255;255m\u001b[38;2;255;255;0mG\u001b[38;2;255;255;255m\u001b[38;2;255;255;0mG\u001b[38;2;255;255;255m\u001b[38;2;255;255;0mG\u001b[38;2;255;255;255m\u001b[0;0m\n",
            "\u001b[1m\u001b[38;2;0;100;0mE\u001b[38;2;255;255;255m\u001b[38;2;0;100;0mE\u001b[38;2;255;255;255m\u001b[38;2;0;100;0mE\u001b[38;2;255;255;255m\u001b[38;2;0;100;0mE\u001b[38;2;255;255;255m\u001b[38;2;0;100;0mE\u001b[38;2;255;255;255m\u001b[38;2;0;100;0mE\u001b[38;2;255;255;255m\u001b[38;2;255;255;0mG\u001b[38;2;255;255;255m\u001b[38;2;255;255;0mG\u001b[38;2;255;255;255m\u001b[38;2;255;255;0mG\u001b[38;2;255;255;255m\u001b[38;2;255;255;0mG\u001b[38;2;255;255;255m\u001b[38;2;255;255;0mG\u001b[38;2;255;255;255m\u001b[38;2;255;255;0mG\u001b[38;2;255;255;255m\u001b[38;2;255;255;0mG\u001b[38;2;255;255;255m\u001b[38;2;0;100;0mE\u001b[38;2;255;255;255m\u001b[38;2;0;100;0mE\u001b[38;2;255;255;255m\u001b[38;2;0;100;0mE\u001b[38;2;255;255;255m\u001b[38;2;255;0;0mA\u001b[38;2;255;255;255m\u001b[38;2;255;0;0mA\u001b[38;2;255;255;255m\u001b[38;2;255;0;0mA\u001b[38;2;255;255;255m\u001b[38;2;0;100;0mE\u001b[38;2;255;255;255m\u001b[38;2;102;205;170mH\u001b[38;2;255;255;255m\u001b[38;2;0;100;0mE\u001b[38;2;255;255;255m\u001b[38;2;0;100;0mE\u001b[38;2;255;255;255m\u001b[38;2;0;100;0mE\u001b[38;2;255;255;255m\u001b[38;2;0;100;0mE\u001b[38;2;255;255;255m\u001b[38;2;0;100;0mE\u001b[38;2;255;255;255m\u001b[38;2;0;100;0mE\u001b[38;2;255;255;255m\u001b[38;2;0;100;0mE\u001b[38;2;255;255;255m\u001b[38;2;255;255;0mG\u001b[38;2;255;255;255m\u001b[38;2;255;255;0mG\u001b[38;2;255;255;255m\u001b[0;0m\n",
            "\u001b[1m\u001b[38;2;102;205;170mH\u001b[38;2;255;255;255m\u001b[38;2;0;100;0mE\u001b[38;2;255;255;255m\u001b[38;2;0;100;0mE\u001b[38;2;255;255;255m\u001b[38;2;0;100;0mE\u001b[38;2;255;255;255m\u001b[38;2;0;100;0mE\u001b[38;2;255;255;255m\u001b[38;2;0;100;0mE\u001b[38;2;255;255;255m\u001b[38;2;0;100;0mE\u001b[38;2;255;255;255m\u001b[38;2;0;100;0mE\u001b[38;2;255;255;255m\u001b[38;2;255;255;0mG\u001b[38;2;255;255;255m\u001b[38;2;255;255;0mG\u001b[38;2;255;255;255m\u001b[38;2;255;255;0mG\u001b[38;2;255;255;255m\u001b[38;2;255;255;0mG\u001b[38;2;255;255;255m\u001b[38;2;255;255;0mG\u001b[38;2;255;255;255m\u001b[38;2;255;255;0mG\u001b[38;2;255;255;255m\u001b[38;2;255;255;0mG\u001b[38;2;255;255;255m\u001b[38;2;255;255;0mG\u001b[38;2;255;255;255m\u001b[38;2;255;255;0mG\u001b[38;2;255;255;255m\u001b[38;2;255;255;0mG\u001b[38;2;255;255;255m\u001b[38;2;255;255;0mG\u001b[38;2;255;255;255m\u001b[38;2;255;255;0mG\u001b[38;2;255;255;255m\u001b[38;2;255;255;0mG\u001b[38;2;255;255;255m\u001b[38;2;255;255;0mG\u001b[38;2;255;255;255m\u001b[38;2;255;255;0mG\u001b[38;2;255;255;255m\u001b[38;2;255;255;0mG\u001b[38;2;255;255;255m\u001b[38;2;255;255;0mG\u001b[38;2;255;255;255m\u001b[38;2;255;255;0mG\u001b[38;2;255;255;255m\u001b[38;2;255;255;0mG\u001b[38;2;255;255;255m\u001b[38;2;255;255;0mG\u001b[38;2;255;255;255m\u001b[38;2;255;255;0mG\u001b[38;2;255;255;255m\u001b[38;2;255;69;0mB\u001b[38;2;255;255;255m\u001b[0;0m\n",
            "\u001b[1m\u001b[38;2;255;255;0mG\u001b[38;2;255;255;255m\u001b[38;2;255;255;0mG\u001b[38;2;255;255;255m\u001b[38;2;255;69;0mB\u001b[38;2;255;255;255m\u001b[38;2;255;69;0mB\u001b[38;2;255;255;255m\u001b[38;2;255;69;0mB\u001b[38;2;255;255;255m\u001b[38;2;255;69;0mB\u001b[38;2;255;255;255m\u001b[38;2;255;69;0mB\u001b[38;2;255;255;255m\u001b[38;2;255;69;0mB\u001b[38;2;255;255;255m\u001b[38;2;255;69;0mB\u001b[38;2;255;255;255m\u001b[38;2;255;69;0mB\u001b[38;2;255;255;255m\u001b[38;2;255;0;0mA\u001b[38;2;255;255;255m\u001b[38;2;255;0;0mA\u001b[38;2;255;255;255m\u001b[38;2;255;0;0mA\u001b[38;2;255;255;255m\u001b[38;2;255;69;0mB\u001b[38;2;255;255;255m\u001b[38;2;233;150;122mK\u001b[38;2;255;255;255m\u001b[38;2;233;150;122mK\u001b[38;2;255;255;255m\u001b[38;2;255;255;0mG\u001b[38;2;255;255;255m\u001b[38;2;0;100;0mE\u001b[38;2;255;255;255m\u001b[38;2;0;100;0mE\u001b[38;2;255;255;255m\u001b[38;2;0;100;0mE\u001b[38;2;255;255;255m\u001b[38;2;0;100;0mE\u001b[38;2;255;255;255m\u001b[38;2;0;100;0mE\u001b[38;2;255;255;255m\u001b[38;2;0;100;0mE\u001b[38;2;255;255;255m\u001b[38;2;0;100;0mE\u001b[38;2;255;255;255m\u001b[38;2;0;100;0mE\u001b[38;2;255;255;255m\u001b[38;2;0;100;0mE\u001b[38;2;255;255;255m\u001b[38;2;0;128;0mD\u001b[38;2;255;255;255m\u001b[38;2;0;128;0mD\u001b[38;2;255;255;255m\u001b[38;2;0;128;0mD\u001b[38;2;255;255;255m\u001b[38;2;0;128;0mD\u001b[38;2;255;255;255m\u001b[0;0m\n"
          ]
        }
      ],
      "source": [
        "# Print the chromatin state patterns of 30 promoters on chromosome 1 for your cell type of interest\n",
        "for i in range(30):\n",
        "  entry=prom_extracted[0][i+20]\n",
        "  crb.colored_css_str_as_is(entry)"
      ]
    },
    {
      "cell_type": "markdown",
      "metadata": {
        "id": "pTrf_JiiBSLG"
      },
      "source": [
        "<br>\n",
        "\n",
        "Already noticed some patterns? 🕵️✨\n",
        "\n",
        "You may observe that some entries consist entirely of the `\"O\"` sequence or low-signal states. Since these do not contribute meaningful patterns for training, we will exclude them. Next, we'll k-merize the sequences (recommended `k=4`) and save the processed data in Colab.\n",
        "\n",
        "<br>"
      ]
    },
    {
      "cell_type": "code",
      "execution_count": null,
      "metadata": {
        "colab": {
          "base_uri": "https://localhost:8080/"
        },
        "id": "aKEcHoyD3zW1",
        "outputId": "b027b285-85e4-471a-d5a7-514cdf883de0"
      },
      "outputs": [
        {
          "output_type": "stream",
          "name": "stdout",
          "text": [
            "Finalizing the list...\n",
            "Done!\n"
          ]
        }
      ],
      "source": [
        "# (2) K-merize the data and exclude entries containing \"OOOO\"\n",
        "final_prom_extracted=crb.process_prom_list(prom_extracted, k=4, low_signal=\"O\")"
      ]
    },
    {
      "cell_type": "markdown",
      "source": [
        "💾 Now we can save the created file as a pretraining dataset."
      ],
      "metadata": {
        "id": "ETJsei8phyUy"
      }
    },
    {
      "cell_type": "code",
      "execution_count": null,
      "metadata": {
        "colab": {
          "base_uri": "https://localhost:8080/"
        },
        "id": "20pa96TEJdqz",
        "outputId": "3eb51e1e-ffa0-49d1-bd5a-e0f4088263cc"
      },
      "outputs": [
        {
          "output_type": "stream",
          "name": "stdout",
          "text": [
            "File saved as /content/pretraining_promoters.txt\n"
          ]
        }
      ],
      "source": [
        "# Save to a file\n",
        "with open(\"/content/pretraining_promoters.txt\", \"w\") as f:\n",
        "    f.write(\"\\n\".join(final_prom_extracted))\n",
        "print(\"File saved as /content/pretraining_promoters.txt\")"
      ]
    },
    {
      "cell_type": "markdown",
      "metadata": {
        "id": "wsqwbnrJNo0K"
      },
      "source": [
        "<br>\n",
        "\n",
        "## Run Pretraining\n",
        "\n",
        "For pretraining, we recommend using your local machine rather than Colab to avoid any compatibility issues or version conflicts during installation. If you want to test your own pretraining data created above, make sure to download your file by clicking on the file icon 📂 on the left and save it locally.\n",
        "\n",
        "Once your data is ready, proceed to the pretraining section in the **ChromBERT** GitHub repository linked below. Follow the instructions there to continue with pretraining! 🚀✨\n",
        "\n",
        "<br>\n",
        "\n",
        "- Github repository: [![Github](https://img.shields.io/static/v1.svg?logo=github&label=Repo&message=Github&color=olive)](https://github.com/caocao0525/ChromBERT)\n",
        "\n",
        "\n",
        "<br>\n",
        "\n",
        "\n",
        "\n",
        "<!-- <p align=\"center\">\n",
        "  <a href=\"https://colab.research.google.com/drive/1X725dCfi9m8IZNW_42IrgI04TlQebyCb?usp=sharing#scrollTo=10gABVz9VZ4v\">\n",
        "    <img src=\"https://colab.research.google.com/assets/colab-badge.svg\" alt=\"Open In Colab\">\n",
        "  </a>\n",
        "</p> -->\n",
        "\n",
        "<!-- <p align=\"center\">\n",
        "  <a href=\"https://colab.research.google.com/drive/1DF_1JoAFrJEmDN45B25v-PJfArpHrcSD#scrollTo=rB90JG-X0Jiv\">\n",
        "    <img src=\"https://colab.research.google.com/assets/colab-badge.svg\" alt=\"Open In Colab\">\n",
        "  </a>\n",
        "</p> -->\n",
        "\n",
        "\n",
        "<!--\n",
        "<br>\n",
        "\n",
        "🤔 Why a Separate Training Page?\n",
        "\n",
        "We have prepared a separate Colab page for training to ensure a smoother workflow and better resource management. Keeping preprocessing and training in separate notebooks prevents unnecessary GPU usage warnings🚨 and avoids long reload times⏳ if the session disconnects. This also allows you to complete preprocessing independently and upload only the necessary data when switching to the training phase.\n",
        " -->\n"
      ]
    },
    {
      "cell_type": "markdown",
      "metadata": {
        "id": "B7pxE2JiNdfO"
      },
      "source": [
        "<br>\n",
        "\n",
        "---\n",
        "\n",
        "# 4. Fine-tuning Data Preparation\n",
        "\n",
        "Fine-tuning is an essential step to adapt our pre-trained **ChromBERT** model to a specific downstream task. While the pretraining phase allows the model to learn general patterns from chromatin state sequences, fine-tuning enables it to make more task-specific predictions using labeled data.\n"
      ]
    },
    {
      "cell_type": "markdown",
      "metadata": {
        "id": "mS6rJpA-A8yw"
      },
      "source": [
        "## Data Preparation\n",
        "\n",
        "\n",
        "In this tutorial, we will perform promoter region classification, aiming to predict whether a gene has high expression based on its chromatin state sequence.\n",
        "\n",
        "We need to create a dataset where each sample consists of:\n",
        "\n",
        "- Chromatin state sequences (formatted similarly to pretraining data).\n",
        "\n",
        "- Expression labels based on RPKM (Reads Per Kilobase of transcript per Million mapped reads).\n",
        "\n",
        "- We will define two classes:\n",
        " - ❌ No-expression (`RPKM = 0`) ➡️ Label 0\n",
        " - ✅ High-expression (`RPKM > 50`) ➡️ Label 1\n",
        "\n",
        "This classification task helps train **ChromBERT** to recognize chromatin patterns associated with highly expressed genes.\n",
        "\n",
        "<br>"
      ]
    },
    {
      "cell_type": "markdown",
      "metadata": {
        "id": "dGEz1J1udP8m"
      },
      "source": [
        "💡**Check This!**\n",
        "\n",
        "The ROADMAP project provides **RNA-seq data** for only **57 different cell types**, meaning that gene expression information (RPKM values) is available for this limited set of cell types.\n",
        "\n",
        "To check which cell types are included, you can download and open the file `EG.name.txt`, which contains the list of available cell names."
      ]
    },
    {
      "cell_type": "code",
      "execution_count": null,
      "metadata": {
        "colab": {
          "base_uri": "https://localhost:8080/"
        },
        "collapsed": true,
        "id": "IHnhHjp9dPS_",
        "outputId": "16c8bf03-dc2f-40b5-a223-438ea1989bf6"
      },
      "outputs": [
        {
          "output_type": "stream",
          "name": "stdout",
          "text": [
            "--2025-04-24 04:05:42--  https://raw.githubusercontent.com/caocao0525/ChromBERT/chrombert-py311-extended/colab/colab_data/test_files/EG.name.txt\n",
            "Resolving raw.githubusercontent.com (raw.githubusercontent.com)... 185.199.108.133, 185.199.109.133, 185.199.110.133, ...\n",
            "Connecting to raw.githubusercontent.com (raw.githubusercontent.com)|185.199.108.133|:443... connected.\n",
            "HTTP request sent, awaiting response... 200 OK\n",
            "Length: 1529 (1.5K) [text/plain]\n",
            "Saving to: ‘EG.name.txt’\n",
            "\n",
            "EG.name.txt         100%[===================>]   1.49K  --.-KB/s    in 0s      \n",
            "\n",
            "2025-04-24 04:05:42 (21.2 MB/s) - ‘EG.name.txt’ saved [1529/1529]\n",
            "\n"
          ]
        }
      ],
      "source": [
        "# Download 'EG.name.txt'\n",
        "!wget https://raw.githubusercontent.com/caocao0525/ChromBERT/chrombert-py311-extended/colab/colab_data/test_files/EG.name.txt"
      ]
    },
    {
      "cell_type": "code",
      "execution_count": null,
      "metadata": {
        "colab": {
          "base_uri": "https://localhost:8080/"
        },
        "id": "Xz19XS4ud1tl",
        "outputId": "82afdb16-2ed9-4b35-9c87-646cab922452"
      },
      "outputs": [
        {
          "output_type": "stream",
          "name": "stdout",
          "text": [
            "E003\tH1_Cell_Line\n",
            "E004\tH1_BMP4_Derived_Mesendoderm_Cultured_Cells\n",
            "E005\tH1_BMP4_Derived_Trophoblast_Cultured_Cells\n",
            "E006\tH1_Derived_Mesenchymal_Stem_Cells\n",
            "E007\tH1_Derived_Neuronal_Progenitor_Cultured_Cells\n",
            "E011\thESC_Derived_CD184+_Endoderm_Cultured_Cells\n",
            "E012\thESC_Derived_CD56+_Ectoderm_Cultured_Cells\n",
            "E013\thESC_Derived_CD56+_Mesoderm_Cultured_Cells\n",
            "E016\tHUES64_Cell_Line\n",
            "E024\t4star\n",
            "E027\tBreast_Myoepithelial_Cells\n",
            "E028\tBreast_vHMEC\n",
            "E037\tCD4_Memory_Primary_Cells\n",
            "E038\tCD4_Naive_Primary_Cells\n",
            "E047\tCD8_Naive_Primary_Cells\n",
            "E050\tMobilized_CD34_Primary_Cells_Female\n",
            "E053\tNeurosphere_Cultured_Cells_Cortex_Derived\n",
            "E054\tNeurosphere_Cultured_Cells_Ganglionic_Eminence_Derived\n",
            "E055\tPenis_Foreskin_Fibroblast_Primary_Cells_skin01\n",
            "E056\tPenis_Foreskin_Fibroblast_Primary_Cells_skin02\n",
            "E057\tPenis_Foreskin_Keratinocyte_Primary_Cells_skin02\n",
            "E058\tPenis_Foreskin_Keratinocyte_Primary_Cells_skin03\n",
            "E059\tPenis_Foreskin_Melanocyte_Primary_Cells_skin01\n",
            "E061\tPenis_Foreskin_Melanocyte_Primary_Cells_skin03\n",
            "E062\tPeripheral_Blood_Mononuclear_Primary_Cells\n",
            "E065\tAorta\n",
            "E066\tAdult_Liver\n",
            "E070\tBrain_Germinal_Matrix\n",
            "E071\tBrain_Hippocampus_Middle\n",
            "E079\tEsophagus\n",
            "E082\tFetal_Brain_Female\n",
            "E084\tFetal_Intestine_Large\n",
            "E085\tFetal_Intestine_Small\n",
            "E087\tPancreatic_Islets\n",
            "E094\tGastric\n",
            "E095\tLeft_Ventricle\n",
            "E096\tLung\n",
            "E097\tOvary\n",
            "E098\tPancreas\n",
            "E100\tPsoas_Muscle\n",
            "E104\tRight_Atrium\n",
            "E105\tRight_Ventricle\n",
            "E106\tSigmoid_Colon\n",
            "E109\tSmall_Intestine\n",
            "E112\tThymus\n",
            "E113\tSpleen\n",
            "E114\tA549\n",
            "E116\tGM12878\n",
            "E117\tHELA\n",
            "E118\tHEPG2\n",
            "E119\tHMEC\n",
            "E120\tHSMM\n",
            "E122\tHUVEC\n",
            "E123\tK562\n",
            "E127\tNHEK\n",
            "E128\tNHLF\n",
            "\t\n"
          ]
        }
      ],
      "source": [
        "!cat /content/EG.name.txt"
      ]
    },
    {
      "cell_type": "markdown",
      "metadata": {
        "id": "TdfggLX0wggy"
      },
      "source": [
        "<br>\n",
        "\n",
        "## Download Required Files\n",
        "\n",
        "To fine-tune our model for classifying promoter regions linked to ✅ **highly-expressed** genes (e.g. `RPKM > 50`) and ❌ **not-expressed** (e.g. `RPKM = 0`), we first need to prepare labeled data. This requires the following files:\n",
        "\n",
        "1. 📊 RPKM Matrix (`57epigenomes.RPKM.pc.tsv`)\n",
        "  - Contains gene expression levels (RPKM values) for different cell types.\n",
        "\n",
        "<br>\n",
        "\n"
      ]
    },
    {
      "cell_type": "code",
      "execution_count": null,
      "metadata": {
        "colab": {
          "base_uri": "https://localhost:8080/"
        },
        "collapsed": true,
        "id": "NDqaViGiA_ri",
        "outputId": "d9150dc5-4846-4468-a8d3-333b3cb4f115"
      },
      "outputs": [
        {
          "output_type": "stream",
          "name": "stdout",
          "text": [
            "--2025-04-24 04:05:46--  https://raw.githubusercontent.com/caocao0525/ChromBERT/chrombert-py311-extended/colab/colab_data/test_files/57epigenomes.RPKM.pc.tsv\n",
            "Resolving raw.githubusercontent.com (raw.githubusercontent.com)... 185.199.108.133, 185.199.109.133, 185.199.110.133, ...\n",
            "Connecting to raw.githubusercontent.com (raw.githubusercontent.com)|185.199.108.133|:443... connected.\n",
            "HTTP request sent, awaiting response... 200 OK\n",
            "Length: 7481493 (7.1M) [text/plain]\n",
            "Saving to: ‘57epigenomes.RPKM.pc.tsv’\n",
            "\n",
            "57epigenomes.RPKM.p 100%[===================>]   7.13M  --.-KB/s    in 0.09s   \n",
            "\n",
            "2025-04-24 04:05:47 (75.6 MB/s) - ‘57epigenomes.RPKM.pc.tsv’ saved [7481493/7481493]\n",
            "\n"
          ]
        }
      ],
      "source": [
        "# Download '57epigenomes.RPKM.pc.tsv'\n",
        "!wget https://raw.githubusercontent.com/caocao0525/ChromBERT/chrombert-py311-extended/colab/colab_data/test_files/57epigenomes.RPKM.pc.tsv"
      ]
    },
    {
      "cell_type": "code",
      "execution_count": null,
      "metadata": {
        "colab": {
          "base_uri": "https://localhost:8080/"
        },
        "id": "SOWwGuyugf7L",
        "outputId": "8d83360d-e1bb-489a-cb60-9ff10eb5adda"
      },
      "outputs": [
        {
          "output_type": "stream",
          "name": "stdout",
          "text": [
            "gene_id\tE000\tE003\tE004\tE005\tE006\tE007\tE011\tE012\tE013\tE016\tE024\tE027\tE028\tE037\tE038\tE047\tE050\tE053\tE054\tE055\tE056\tE057\tE058\tE059\tE061\tE062\tE065\tE066\tE070\tE071\tE079\tE082\tE084\tE085\tE087\tE094\tE095\tE096\tE097\tE098\tE100\tE104\tE105\tE106\tE109\tE112\tE113\tE114\tE116\tE117\tE118\tE119\tE120\tE122\tE123\tE127\tE128\n",
            "ENSG00000000003\t23.265\t43.985\t37.413\t29.459\t21.864\t55.649\t52.940\t71.629\t61.292\t44.280\t63.184\t7.490\t8.541\t0.576\t1.393\t1.235\t5.544\t15.933\t27.150\t6.433\t3.812\t6.257\t10.151\t8.898\t14.658\t0.298\t5.605\t73.205\t20.954\t7.645\t35.083\t6.265\t53.039\t64.971\t9.594\t14.460\t3.122\t13.463\t54.677\t13.735\t2.435\t8.833\t4.494\t36.012\t19.252\t11.928\t5.637\t37.989\t0.038\t42.639\t49.983\t11.554\t11.847\t43.723\t0.267\t13.758\t15.818\t\n",
            "ENSG00000000005\t0.872\t1.642\t6.498\t0.000\t0.157\t0.003\t0.115\t0.087\t0.055\t1.577\t0.726\t0.000\t0.000\t0.000\t0.000\t0.029\t0.000\t0.051\t0.070\t0.000\t0.000\t0.000\t0.000\t0.000\t0.006\t0.000\t0.000\t0.191\t0.000\t0.018\t0.251\t0.000\t0.566\t0.336\t0.030\t0.000\t0.070\t0.000\t10.670\t0.424\t0.032\t0.524\t0.092\t0.205\t0.134\t0.678\t0.121\t0.000\t0.000\t0.000\t0.000\t0.000\t0.018\t0.000\t0.006\t0.000\t0.000\t\n",
            "ENSG00000000419\t55.208\t35.259\t58.308\t48.208\t37.477\t45.923\t44.959\t40.438\t41.970\t51.515\t35.129\t63.304\t47.743\t45.394\t47.041\t38.384\t37.351\t11.078\t12.225\t27.126\t21.572\t28.648\t44.444\t13.179\t22.421\t28.648\t52.753\t52.609\t15.701\t21.769\t26.467\t7.879\t29.927\t30.095\t32.469\t56.167\t32.202\t26.051\t42.731\t19.683\t67.684\t46.172\t33.687\t39.226\t47.562\t61.359\t54.866\t52.215\t79.197\t107.098\t62.811\t42.386\t54.869\t16.652\t73.719\t56.578\t56.371\t\n",
            "ENSG00000000457\t3.237\t2.596\t2.345\t8.775\t2.723\t3.700\t3.912\t5.011\t4.158\t3.292\t3.160\t3.683\t2.532\t7.409\t8.577\t7.853\t17.602\t3.295\t4.301\t3.706\t1.523\t1.602\t3.933\t1.877\t4.641\t5.433\t3.417\t4.733\t3.349\t2.222\t5.325\t2.977\t8.497\t9.679\t5.593\t5.731\t2.622\t3.907\t7.649\t5.455\t10.873\t2.529\t2.811\t6.044\t4.526\t8.791\t5.484\t4.829\t11.082\t8.814\t2.646\t2.483\t2.527\t2.549\t7.651\t4.967\t3.714\t\n",
            "ENSG00000000460\t7.299\t6.649\t7.838\t7.324\t0.830\t5.354\t5.940\t5.704\t6.213\t7.551\t7.705\t1.040\t1.213\t3.459\t3.813\t3.424\t6.910\t3.855\t4.401\t2.896\t3.246\t3.310\t6.491\t2.782\t2.799\t2.292\t1.137\t0.942\t4.716\t1.120\t1.487\t1.611\t3.408\t3.580\t0.806\t1.250\t0.470\t1.134\t1.690\t1.126\t0.518\t0.717\t0.694\t1.893\t1.952\t3.137\t1.631\t8.001\t13.743\t25.369\t3.373\t4.646\t2.179\t4.099\t22.103\t3.290\t2.491\t\n",
            "ENSG00000000938\t0.052\t0.211\t0.059\t0.009\t0.012\t0.013\t0.012\t0.012\t0.013\t0.094\t0.135\t3.153\t0.447\t3.815\t3.211\t8.146\t5.088\t0.056\t0.011\t0.016\t0.009\t0.010\t0.003\t0.000\t0.015\t220.329\t12.977\t4.572\t0.544\t6.421\t5.390\t0.443\t1.488\t0.787\t1.748\t10.879\t3.646\t91.639\t3.179\t4.080\t1.168\t2.428\t4.935\t8.702\t9.252\t26.992\t77.711\t0.003\t98.303\t0.016\t0.008\t0.052\t0.001\t0.137\t0.016\t0.047\t0.000\t\n",
            "ENSG00000000971\t3.000\t0.000\t0.003\t0.009\t41.909\t0.002\t0.011\t0.018\t0.121\t0.004\t0.002\t0.448\t0.268\t4.674\t0.148\t0.538\t15.838\t0.000\t0.000\t1.931\t0.766\t0.020\t0.058\t0.397\t0.164\t1.414\t38.900\t566.609\t0.544\t8.279\t59.786\t0.198\t4.428\t2.362\t5.455\t11.680\t5.925\t13.383\t143.061\t2.264\t7.393\t56.378\t14.760\t11.687\t21.540\t10.673\t4.086\t26.622\t0.002\t124.801\t0.007\t0.419\t39.724\t8.464\t41.504\t1.348\t32.725\t\n",
            "ENSG00000001036\t58.371\t49.337\t25.066\t25.679\t86.255\t21.922\t33.225\t22.268\t37.503\t35.061\t46.317\t3.177\t10.108\t4.437\t3.315\t3.084\t17.086\t29.602\t24.595\t45.053\t47.230\t13.892\t21.126\t29.155\t43.029\t12.815\t23.684\t43.631\t9.694\t12.456\t20.230\t4.320\t71.468\t105.662\t46.359\t35.581\t33.092\t32.312\t35.341\t24.756\t9.493\t23.452\t41.298\t41.846\t51.012\t11.514\t17.117\t40.334\t18.191\t53.641\t74.928\t12.045\t45.419\t27.254\t59.833\t11.164\t82.445\t\n",
            "ENSG00000001084\t7.077\t6.966\t10.110\t4.609\t5.870\t6.440\t5.431\t6.838\t3.018\t9.897\t6.480\t8.282\t37.643\t5.002\t4.517\t5.849\t11.592\t2.875\t3.332\t2.108\t1.161\t4.488\t13.698\t2.521\t6.308\t5.601\t5.399\t25.767\t1.740\t7.165\t8.593\t1.715\t13.653\t17.715\t6.526\t11.021\t3.926\t7.957\t4.189\t4.403\t5.083\t4.207\t3.759\t6.183\t12.005\t8.048\t16.529\t46.023\t4.571\t10.435\t10.065\t18.571\t1.547\t2.588\t2.750\t22.945\t5.273\t\n"
          ]
        }
      ],
      "source": [
        "!head 57epigenomes.RPKM.pc.tsv"
      ]
    },
    {
      "cell_type": "markdown",
      "metadata": {
        "id": "OwLV3FwTIY_7"
      },
      "source": [
        "<br>\n",
        "\n",
        "2. 🏷️ Gene Annotation File (`chr.gene.refFlat`)\n",
        "  - Provides gene locations and structure, including transcription start sites (TSS).\n",
        "\n",
        "  - Essential for mapping genes from the RPKM matrix and extracting promoter regions.\n",
        "  \n",
        "  - Ensures that only genes present in both the RPKM matrix and this file are used for classification.\n",
        "\n",
        "<br>"
      ]
    },
    {
      "cell_type": "code",
      "execution_count": null,
      "metadata": {
        "colab": {
          "base_uri": "https://localhost:8080/"
        },
        "collapsed": true,
        "id": "bKjEtlargre3",
        "outputId": "420ae436-0f3f-4d7a-ae5e-5b60ec0aed65"
      },
      "outputs": [
        {
          "output_type": "stream",
          "name": "stdout",
          "text": [
            "--2025-04-24 04:05:52--  https://raw.githubusercontent.com/caocao0525/ChromBERT/chrombert-py311-extended/colab/colab_data/test_files/chr.gene.refFlat\n",
            "Resolving raw.githubusercontent.com (raw.githubusercontent.com)... 185.199.108.133, 185.199.109.133, 185.199.110.133, ...\n",
            "Connecting to raw.githubusercontent.com (raw.githubusercontent.com)|185.199.108.133|:443... connected.\n",
            "HTTP request sent, awaiting response... 200 OK\n",
            "Length: 12593058 (12M) [text/plain]\n",
            "Saving to: ‘chr.gene.refFlat’\n",
            "\n",
            "chr.gene.refFlat    100%[===================>]  12.01M  --.-KB/s    in 0.1s    \n",
            "\n",
            "2025-04-24 04:05:52 (111 MB/s) - ‘chr.gene.refFlat’ saved [12593058/12593058]\n",
            "\n"
          ]
        }
      ],
      "source": [
        "# Download 'chr.gene.refFlat'\n",
        "!wget https://raw.githubusercontent.com/caocao0525/ChromBERT/chrombert-py311-extended/colab/colab_data/test_files/chr.gene.refFlat"
      ]
    },
    {
      "cell_type": "code",
      "execution_count": null,
      "metadata": {
        "colab": {
          "base_uri": "https://localhost:8080/"
        },
        "id": "YJgOIJaeg-fv",
        "outputId": "a39c70dd-7d93-463f-c84b-f3b237887003"
      },
      "outputs": [
        {
          "output_type": "stream",
          "name": "stdout",
          "text": [
            "#geneName\tname\tchrom\tstrand\ttxStart\ttxEnd\tcdsStart\tcdsEnd\texonCount\texonStarts\texonEnds\tgene type\ttranscript type\treference transcript name\treference transcript id\n",
            "RP11-216P16.6\tENSG00000223538\tchr12\t+\t121545022\t121545293\t121545022\t121545293\t1\t121545022,\t121545293,\tpseudogene\tprocessed_pseudogene\tRP11-216P16.6-001\tENST00000412750\n",
            "RP11-216P16.2\tENSG00000271769\tchr12\t-\t121438288\t121439071\t121438288\t121439071\t1\t121438288,\t121439071,\tantisense\tantisense\tRP11-216P16.2-001\tENST00000606238\n",
            "AC079602.1\tENSG00000272214\tchr12\t-\t121407640\t121410095\t121409318\t121409723\t1\t121407640,\t121410095,\tprotein_coding\tprotein_coding\tAC079602.1-201\tENST00000539163\n",
            "RPL12P33\tENSG00000244585\tchr12\t+\t121354547\t121355039\t121354547\t121355039\t1\t121354547,\t121355039,\tpseudogene\tprocessed_pseudogene\tRPL12P33-001\tENST00000485633\n",
            "RP11-173P15.7\tENSG00000255946\tchr12\t-\t121178272\t121199395\t121178272\t121199395\t3\t121178272,121179014,121199193,\t121178346,121179321,121199395,\tantisense\tantisense\tRP11-173P15.7-001\tENST00000542620\n",
            "ACADS\tENSG00000122971\tchr12\t+\t121163537\t121177811\t121163688\t121177251\t10\t121163537,121164828,121174788,121175158,121175639,121176082,121176335,121176622,121176942,121177098,\t121163734,121164992,121174938,121175270,121175791,121176253,121176473,121176718,121176999,121177811,\tprotein_coding\tprotein_coding\tACADS-001\tENST00000242592\n",
            "MIR4700\tENSG00000265455\tchr12\t+\t121160995\t121161069\t121160995\t121161069\t1\t121160995,\t121161069,\tmiRNA\tmiRNA\tMIR4700-201\tENST00000578311\n",
            "MANSC4\tENSG00000205693\tchr12\t-\t27915670\t27924209\t27915670\t27924209\t3\t27915670,27919597,27923980,\t27916329,27919732,27924209,\tprotein_coding\tprotein_coding\tMANSC4-001\tENST00000381273\n",
            "RP11-349K16.1\tENSG00000256643\tchr12\t-\t128508332\t128511711\t128508332\t128511711\t3\t128508332,128510403,128511535,\t128508367,128510744,128511711,\tlincRNA\tlincRNA\tRP11-349K16.1-001\tENST00000543651\n"
          ]
        }
      ],
      "source": [
        "!head chr.gene.refFlat"
      ]
    },
    {
      "cell_type": "markdown",
      "metadata": {
        "id": "OJSW9j1GIZG0"
      },
      "source": [
        "<br>\n",
        "\n",
        "3. 📝 Classification Script (`classifygenes_ROADMAP_RPKM_colab.py`)\n",
        "   - Processes the RPKM matrix and gene annotation file to label genes as:\n",
        "\n",
        "    - ✅ Highly-expressed (high RPKM)\n",
        "    - ❌ Not-expressed (zero RPKM)\n",
        "    \n",
        "\n",
        "<br>"
      ]
    },
    {
      "cell_type": "code",
      "execution_count": null,
      "metadata": {
        "colab": {
          "base_uri": "https://localhost:8080/"
        },
        "collapsed": true,
        "id": "MLzEKVq1oQkm",
        "outputId": "0de416ff-797b-467e-c606-b4118f810a57"
      },
      "outputs": [
        {
          "output_type": "stream",
          "name": "stdout",
          "text": [
            "--2025-04-24 04:05:57--  https://raw.githubusercontent.com/caocao0525/ChromBERT/chrombert-py311-extended/colab/colab_data/test_files/classifygenes_ROADMAP_RPKM_colab.py\n",
            "Resolving raw.githubusercontent.com (raw.githubusercontent.com)... 185.199.108.133, 185.199.109.133, 185.199.111.133, ...\n",
            "Connecting to raw.githubusercontent.com (raw.githubusercontent.com)|185.199.108.133|:443... connected.\n",
            "HTTP request sent, awaiting response... 200 OK\n",
            "Length: 2466 (2.4K) [text/plain]\n",
            "Saving to: ‘classifygenes_ROADMAP_RPKM_colab.py’\n",
            "\n",
            "classifygenes_ROADM 100%[===================>]   2.41K  --.-KB/s    in 0s      \n",
            "\n",
            "2025-04-24 04:05:57 (35.9 MB/s) - ‘classifygenes_ROADMAP_RPKM_colab.py’ saved [2466/2466]\n",
            "\n"
          ]
        }
      ],
      "source": [
        "# Download 'classifygenes_ROADMAP_RPKM_colab.py'\n",
        "!wget https://raw.githubusercontent.com/caocao0525/ChromBERT/chrombert-py311-extended/colab/colab_data/test_files/classifygenes_ROADMAP_RPKM_colab.py"
      ]
    },
    {
      "cell_type": "markdown",
      "metadata": {
        "id": "MlefkNOxiCO8"
      },
      "source": [
        "Once you have downloaded the required files, you can now classify genes based on their expression levels using the `classifygenes_ROADMAP_RPKM.py` script.\n",
        "This step is essential for identifying genes as not expressed or highly expressed, which will later be used for extracting promoter regions."
      ]
    },
    {
      "cell_type": "code",
      "execution_count": null,
      "metadata": {
        "colab": {
          "base_uri": "https://localhost:8080/"
        },
        "id": "CynQG5fal6YY",
        "outputId": "3b32fe9e-358b-459c-90fc-047c64d42d18"
      },
      "outputs": [
        {
          "output_type": "stream",
          "name": "stdout",
          "text": [
            "Processing gene classification for cell type: E003\n",
            "Using RPKM matrix: 57epigenomes.RPKM.pc.tsv\n",
            "Using gene annotation file: chr.gene.refFlat\n",
            "Generated: gene_not_expressed.refFlat\n",
            " - Contains genes with RPKM = 0, meaning they are not expressed in this cell type.\n",
            "Generated: gene_highly_expressed.refFlat\n",
            " - Contains genes with RPKM > 50, meaning they are highly expressed in this cell type.\n",
            "Processing complete!\n"
          ]
        }
      ],
      "source": [
        "# !python classifygenes_ROADMAP_RPKM_colab.py <RPKM_matrix> <cell_id> <refFlat_file> --thre_highlyexpressed <value>\n",
        "# Customize the cell ID and RPKM threshold to define highly expressed genes.\n",
        "!python classifygenes_ROADMAP_RPKM_colab.py 57epigenomes.RPKM.pc.tsv E003 chr.gene.refFlat --thre_highlyexpressed 50"
      ]
    },
    {
      "cell_type": "markdown",
      "metadata": {
        "id": "xUkpTSMzl9Fo"
      },
      "source": [
        "\n",
        "<br>\n",
        "\n",
        "💡**Explanation of the Arguments**\n",
        "\n",
        "- `57epigenomes.RPKM.pc.tsv` ➡️ The RPKM gene expression matrix for 57 cell types.\n",
        "\n",
        "- `E003` ➡️ The cell type ID for which you want to classify genes.\n",
        "\n",
        "- `chr.gene.refFlat` ➡️ The gene annotation file in refFlat format, which provides gene locations and structure.\n",
        "\n",
        "- `--thre_highlyexpressed 50` ➡️ Defines genes with RPKM greater than 50 as highly expressed.\n",
        "\n",
        "<br>"
      ]
    },
    {
      "cell_type": "code",
      "execution_count": null,
      "metadata": {
        "colab": {
          "base_uri": "https://localhost:8080/"
        },
        "id": "TLc97MbypoY4",
        "outputId": "21e98f63-2aa3-41b4-92d8-81b5ee54657e"
      },
      "outputs": [
        {
          "output_type": "stream",
          "name": "stdout",
          "text": [
            "\t#geneName\tname\tchrom\tstrand\ttxStart\ttxEnd\tcdsStart\tcdsEnd\texonCount\texonStarts\texonEnds\tgene type\ttranscript type\treference transcript name\treference transcript id\n",
            "ENSG00000001630\tCYP51A1\tENSG00000001630\tchr7\t-\t91741464\t91763844\t91742978\t91763678\t10\t[91741464, 91746357, 91747833, 91752433, 91753047, 91755566, 91756818, 91758193, 91761087, 91763486]\t[91743157, 91746526, 91747929, 91752629, 91753167, 91755741, 91756945, 91758370, 91761186, 91763844]\tprotein_coding\tprotein_coding\tCYP51A1-001\tENST00000003100\n",
            "ENSG00000002834\tLASP1\tENSG00000002834\tchr17\t+\t37026111\t37078023\t37026442\t37075031\t7\t[37026111, 37034338, 37046672, 37054664, 37070577, 37071295, 37074857]\t[37026511, 37034433, 37046757, 37054772, 37070728, 37071399, 37078023]\tprotein_coding\tprotein_coding\tLASP1-001\tENST00000318008\n",
            "ENSG00000003056\tM6PR\tENSG00000003056\tchr12\t-\t9092960\t9102551\t9094413\t9099000\t7\t[9092960, 9095011, 9096000, 9096396, 9098013, 9098824, 9102083]\t[9094536, 9095138, 9096131, 9096506, 9098180, 9099001, 9102551]\tprotein_coding\tprotein_coding\tM6PR-001\tENST00000000412\n",
            "ENSG00000004059\tARF5\tENSG00000004059\tchr7\t+\t127228398\t127231759\t127228552\t127231353\t6\t[127228398, 127229136, 127229538, 127230119, 127231016, 127231266]\t[127228619, 127229217, 127229648, 127230191, 127231142, 127231759]\tprotein_coding\tprotein_coding\tARF5-001\tENST00000000233\n",
            "ENSG00000004478\tFKBP4\tENSG00000004478\tchr12\t+\t2904118\t2913124\t2904305\t2912424\t10\t[2904118, 2906303, 2906894, 2907871, 2908253, 2909015, 2909204, 2909557, 2910282, 2912316]\t[2904410, 2906448, 2907037, 2907992, 2908410, 2909106, 2909288, 2909743, 2910522, 2913124]\tprotein_coding\tprotein_coding\tFKBP4-001\tENST00000001008\n",
            "ENSG00000004487\tKDM1A\tENSG00000004487\tchr1\t+\t23345940\t23410182\t23346089\t23409857\t19\t[23345940, 23356961, 23376879, 23380253, 23381561, 23382424, 23383976, 23385565, 23395031, 23395553, 23397717, 23398616, 23399784, 23403720, 23405482, 23406045, 23407938, 23408712, 23409671]\t[23346440, 23357127, 23377013, 23380332, 23381654, 23382531, 23384058, 23385660, 23395174, 23395644, 23397852, 23398690, 23399896, 23403853, 23405670, 23406160, 23408066, 23408859, 23410182]\tprotein_coding\tprotein_coding\tKDM1A-001\tENST00000356634\n",
            "ENSG00000004779\tNDUFAB1\tENSG00000004779\tchr16\t-\t23592322\t23607677\t23593604\t23607611\t5\t[23592322, 23593596, 23596656, 23598517, 23607443]\t[23592494, 23593696, 23596744, 23598640, 23607677]\tprotein_coding\tprotein_coding\tNDUFAB1-001\tENST00000007516\n",
            "ENSG00000005022\tSLC25A5\tENSG00000005022\tchrX\t+\t118602362\t118605282\t118602478\t118605021\t4\t[118602362, 118603623, 118604335, 118604863]\t[118602589, 118604110, 118604476, 118605282]\tprotein_coding\tprotein_coding\tSLC25A5-001\tENST00000317881\n",
            "ENSG00000005075\tPOLR2J\tENSG00000005075\tchr7\t-\t102113564\t102119354\t102114095\t102119307\t4\t[102113564, 102114807, 102116627, 102119254]\t[102114131, 102114982, 102116717, 102119354]\tprotein_coding\tprotein_coding\tPOLR2J-001\tENST00000292614\n"
          ]
        }
      ],
      "source": [
        "# Preview the first few lines of the highly-expressed gene list\n",
        "!head /content/gene_highly_expressed.refFlat"
      ]
    },
    {
      "cell_type": "code",
      "execution_count": null,
      "metadata": {
        "colab": {
          "base_uri": "https://localhost:8080/"
        },
        "id": "zocbI4HRpuSD",
        "outputId": "164a4b45-b848-400a-cd1d-943fe3d7fb6a"
      },
      "outputs": [
        {
          "output_type": "stream",
          "name": "stdout",
          "text": [
            "\t#geneName\tname\tchrom\tstrand\ttxStart\ttxEnd\tcdsStart\tcdsEnd\texonCount\texonStarts\texonEnds\tgene type\ttranscript type\treference transcript name\treference transcript id\n",
            "ENSG00000000971\tCFH\tENSG00000000971\tchr1\t+\t196621007\t196716634\t196621247\t196716443\t22\t[196621007, 196642107, 196642986, 196645118, 196646605, 196648752, 196654193, 196658549, 196659192, 196682864, 196684722, 196694250, 196695599, 196695890, 196697475, 196705953, 196706604, 196709748, 196711004, 196712581, 196714946, 196716240]\t[196621305, 196642293, 196643092, 196645195, 196646797, 196648923, 196654367, 196658744, 196659369, 196683047, 196684899, 196694427, 196695782, 196696070, 196697652, 196706136, 196706790, 196709922, 196711181, 196712758, 196715129, 196716634]\tprotein_coding\tprotein_coding\tCFH-001\tENST00000367429\n",
            "ENSG00000005073\tHOXA11\tENSG00000005073\tchr7\t-\t27221133\t27224835\t27222414\t27224763\t2\t[27221133, 27224054]\t[27222647, 27224835]\tprotein_coding\tprotein_coding\tHOXA11-001\tENST00000006015\n",
            "ENSG00000006059\tKRT33A\tENSG00000006059\tchr17\t-\t39502343\t39507064\t39502370\t39507019\t7\t[39502343, 39502699, 39503095, 39503312, 39504734, 39505597, 39506671]\t[39502488, 39502920, 39503221, 39503474, 39504891, 39505680, 39507064]\tprotein_coding\tprotein_coding\tKRT33A-001\tENST00000007735\n",
            "ENSG00000006074\tCCL18\tENSG00000006074\tchr17\t+\t34391639\t34399392\t34391702\t34398401\t3\t[34391639, 34397806, 34398310]\t[34391769, 34397918, 34399392]\tprotein_coding\tprotein_coding\tCCL18-001\tENST00000004921\n",
            "ENSG00000006075\tCCL3\tENSG00000006075\tchr17\t-\t34415601\t34417515\t34415601\t34417515\t2\t[34415601, 34416528]\t[34416108, 34417515]\tprotein_coding\tretained_intron\tCCL3-002\tENST00000470334\n",
            "ENSG00000007001\tUPP2\tENSG00000007001\tchr2\t+\t158733213\t158992666\t158851710\t158991402\t10\t[158733213, 158851691, 158872312, 158958551, 158962610, 158971612, 158974335, 158977920, 158980260, 158991259]\t[158733240, 158851771, 158872398, 158958637, 158962728, 158971771, 158974450, 158978130, 158980407, 158992666]\tprotein_coding\tprotein_coding\tUPP2-002\tENST00000605860\n",
            "ENSG00000007216\tSLC13A2\tENSG00000007216\tchr17\t+\t26800310\t26824799\t26800730\t26824287\t12\t[26800310, 26816231, 26817471, 26817718, 26818454, 26818747, 26820588, 26821034, 26821408, 26822672, 26823467, 26824116]\t[26800832, 26816360, 26817608, 26817924, 26818635, 26818870, 26820807, 26821123, 26821530, 26822834, 26823605, 26824799]\tprotein_coding\tprotein_coding\tSLC13A2-001\tENST00000314669\n",
            "ENSG00000007306\tCEACAM7\tENSG00000007306\tchr19\t-\t42177234\t42192296\t42181339\t42192094\t5\t[42177234, 42181303, 42187715, 42190789, 42192030]\t[42178687, 42181431, 42187994, 42191152, 42192296]\tprotein_coding\tprotein_coding\tCEACAM7-001\tENST00000006724\n",
            "ENSG00000007908\tSELE\tENSG00000007908\tchr1\t-\t169691781\t169703203\t169694884\t169702753\t14\t[169691781, 169694869, 169695047, 169695839, 169696489, 169696879, 169697198, 169698326, 169698628, 169699572, 169700975, 169701755, 169702716, 169703111]\t[169693650, 169694942, 169695069, 169695947, 169696666, 169697068, 169697387, 169698515, 169698814, 169699758, 169701083, 169702139, 169702801, 169703203]\tprotein_coding\tprotein_coding\tSELE-001\tENST00000333360\n"
          ]
        }
      ],
      "source": [
        "# Preview the first few lines of the not-expressed gene list\n",
        "!head /content/gene_not_expressed.refFlat"
      ]
    },
    {
      "cell_type": "markdown",
      "metadata": {
        "id": "H3p0MNhOxzNq"
      },
      "source": [
        "<br>\n",
        "\n",
        "Now let's create a simple table to sort gene locations using `Gexp_Gene2GLChr`. This function processes a `.refFlat` file, removes overlapping genes, and sorts them based on their transcription start sites (`TxStart`) for each chromosome.\n",
        "\n",
        "This ensures a clean, non-redundant gene list, making it easier to analyze genomic regions such as promoters and transcription start sites (`TSS`).\n",
        "\n"
      ]
    },
    {
      "cell_type": "code",
      "execution_count": null,
      "metadata": {
        "colab": {
          "base_uri": "https://localhost:8080/"
        },
        "id": "dI62yfm2r9gh",
        "outputId": "6fd8968e-1d03-4cd0-f383-bdc17c6068bf"
      },
      "outputs": [
        {
          "output_type": "stream",
          "name": "stdout",
          "text": [
            "Extracting the gene file ...\n",
            "Done!\n"
          ]
        }
      ],
      "source": [
        "gene_table_highly_expressed=crb.Gexp_Gene2GLChr(exp_gene_file='/content/gene_highly_expressed.refFlat')"
      ]
    },
    {
      "cell_type": "code",
      "execution_count": null,
      "metadata": {
        "colab": {
          "base_uri": "https://localhost:8080/",
          "height": 204
        },
        "id": "9z1RWvjdsPra",
        "outputId": "adbeba8d-7600-4f27-8085-1e5bebcd9c2e"
      },
      "outputs": [
        {
          "output_type": "execute_result",
          "data": {
            "text/plain": [
              "   TxStart    TxEnd\n",
              "0   955502   991496\n",
              "1  1716728  1822495\n",
              "2  6281252  6296000\n",
              "3  8021751  8045565\n",
              "4  8921060  8938749"
            ],
            "text/html": [
              "\n",
              "  <div id=\"df-b2170999-9cd9-4925-8171-66cbf94ce9c7\" class=\"colab-df-container\">\n",
              "    <div>\n",
              "<style scoped>\n",
              "    .dataframe tbody tr th:only-of-type {\n",
              "        vertical-align: middle;\n",
              "    }\n",
              "\n",
              "    .dataframe tbody tr th {\n",
              "        vertical-align: top;\n",
              "    }\n",
              "\n",
              "    .dataframe thead th {\n",
              "        text-align: right;\n",
              "    }\n",
              "</style>\n",
              "<table border=\"1\" class=\"dataframe\">\n",
              "  <thead>\n",
              "    <tr style=\"text-align: right;\">\n",
              "      <th></th>\n",
              "      <th>TxStart</th>\n",
              "      <th>TxEnd</th>\n",
              "    </tr>\n",
              "  </thead>\n",
              "  <tbody>\n",
              "    <tr>\n",
              "      <th>0</th>\n",
              "      <td>955502</td>\n",
              "      <td>991496</td>\n",
              "    </tr>\n",
              "    <tr>\n",
              "      <th>1</th>\n",
              "      <td>1716728</td>\n",
              "      <td>1822495</td>\n",
              "    </tr>\n",
              "    <tr>\n",
              "      <th>2</th>\n",
              "      <td>6281252</td>\n",
              "      <td>6296000</td>\n",
              "    </tr>\n",
              "    <tr>\n",
              "      <th>3</th>\n",
              "      <td>8021751</td>\n",
              "      <td>8045565</td>\n",
              "    </tr>\n",
              "    <tr>\n",
              "      <th>4</th>\n",
              "      <td>8921060</td>\n",
              "      <td>8938749</td>\n",
              "    </tr>\n",
              "  </tbody>\n",
              "</table>\n",
              "</div>\n",
              "    <div class=\"colab-df-buttons\">\n",
              "\n",
              "  <div class=\"colab-df-container\">\n",
              "    <button class=\"colab-df-convert\" onclick=\"convertToInteractive('df-b2170999-9cd9-4925-8171-66cbf94ce9c7')\"\n",
              "            title=\"Convert this dataframe to an interactive table.\"\n",
              "            style=\"display:none;\">\n",
              "\n",
              "  <svg xmlns=\"http://www.w3.org/2000/svg\" height=\"24px\" viewBox=\"0 -960 960 960\">\n",
              "    <path d=\"M120-120v-720h720v720H120Zm60-500h600v-160H180v160Zm220 220h160v-160H400v160Zm0 220h160v-160H400v160ZM180-400h160v-160H180v160Zm440 0h160v-160H620v160ZM180-180h160v-160H180v160Zm440 0h160v-160H620v160Z\"/>\n",
              "  </svg>\n",
              "    </button>\n",
              "\n",
              "  <style>\n",
              "    .colab-df-container {\n",
              "      display:flex;\n",
              "      gap: 12px;\n",
              "    }\n",
              "\n",
              "    .colab-df-convert {\n",
              "      background-color: #E8F0FE;\n",
              "      border: none;\n",
              "      border-radius: 50%;\n",
              "      cursor: pointer;\n",
              "      display: none;\n",
              "      fill: #1967D2;\n",
              "      height: 32px;\n",
              "      padding: 0 0 0 0;\n",
              "      width: 32px;\n",
              "    }\n",
              "\n",
              "    .colab-df-convert:hover {\n",
              "      background-color: #E2EBFA;\n",
              "      box-shadow: 0px 1px 2px rgba(60, 64, 67, 0.3), 0px 1px 3px 1px rgba(60, 64, 67, 0.15);\n",
              "      fill: #174EA6;\n",
              "    }\n",
              "\n",
              "    .colab-df-buttons div {\n",
              "      margin-bottom: 4px;\n",
              "    }\n",
              "\n",
              "    [theme=dark] .colab-df-convert {\n",
              "      background-color: #3B4455;\n",
              "      fill: #D2E3FC;\n",
              "    }\n",
              "\n",
              "    [theme=dark] .colab-df-convert:hover {\n",
              "      background-color: #434B5C;\n",
              "      box-shadow: 0px 1px 3px 1px rgba(0, 0, 0, 0.15);\n",
              "      filter: drop-shadow(0px 1px 2px rgba(0, 0, 0, 0.3));\n",
              "      fill: #FFFFFF;\n",
              "    }\n",
              "  </style>\n",
              "\n",
              "    <script>\n",
              "      const buttonEl =\n",
              "        document.querySelector('#df-b2170999-9cd9-4925-8171-66cbf94ce9c7 button.colab-df-convert');\n",
              "      buttonEl.style.display =\n",
              "        google.colab.kernel.accessAllowed ? 'block' : 'none';\n",
              "\n",
              "      async function convertToInteractive(key) {\n",
              "        const element = document.querySelector('#df-b2170999-9cd9-4925-8171-66cbf94ce9c7');\n",
              "        const dataTable =\n",
              "          await google.colab.kernel.invokeFunction('convertToInteractive',\n",
              "                                                    [key], {});\n",
              "        if (!dataTable) return;\n",
              "\n",
              "        const docLinkHtml = 'Like what you see? Visit the ' +\n",
              "          '<a target=\"_blank\" href=https://colab.research.google.com/notebooks/data_table.ipynb>data table notebook</a>'\n",
              "          + ' to learn more about interactive tables.';\n",
              "        element.innerHTML = '';\n",
              "        dataTable['output_type'] = 'display_data';\n",
              "        await google.colab.output.renderOutput(dataTable, element);\n",
              "        const docLink = document.createElement('div');\n",
              "        docLink.innerHTML = docLinkHtml;\n",
              "        element.appendChild(docLink);\n",
              "      }\n",
              "    </script>\n",
              "  </div>\n",
              "\n",
              "\n",
              "<div id=\"df-7c97e273-79e1-4afb-b7a4-7480b2484ac6\">\n",
              "  <button class=\"colab-df-quickchart\" onclick=\"quickchart('df-7c97e273-79e1-4afb-b7a4-7480b2484ac6')\"\n",
              "            title=\"Suggest charts\"\n",
              "            style=\"display:none;\">\n",
              "\n",
              "<svg xmlns=\"http://www.w3.org/2000/svg\" height=\"24px\"viewBox=\"0 0 24 24\"\n",
              "     width=\"24px\">\n",
              "    <g>\n",
              "        <path d=\"M19 3H5c-1.1 0-2 .9-2 2v14c0 1.1.9 2 2 2h14c1.1 0 2-.9 2-2V5c0-1.1-.9-2-2-2zM9 17H7v-7h2v7zm4 0h-2V7h2v10zm4 0h-2v-4h2v4z\"/>\n",
              "    </g>\n",
              "</svg>\n",
              "  </button>\n",
              "\n",
              "<style>\n",
              "  .colab-df-quickchart {\n",
              "      --bg-color: #E8F0FE;\n",
              "      --fill-color: #1967D2;\n",
              "      --hover-bg-color: #E2EBFA;\n",
              "      --hover-fill-color: #174EA6;\n",
              "      --disabled-fill-color: #AAA;\n",
              "      --disabled-bg-color: #DDD;\n",
              "  }\n",
              "\n",
              "  [theme=dark] .colab-df-quickchart {\n",
              "      --bg-color: #3B4455;\n",
              "      --fill-color: #D2E3FC;\n",
              "      --hover-bg-color: #434B5C;\n",
              "      --hover-fill-color: #FFFFFF;\n",
              "      --disabled-bg-color: #3B4455;\n",
              "      --disabled-fill-color: #666;\n",
              "  }\n",
              "\n",
              "  .colab-df-quickchart {\n",
              "    background-color: var(--bg-color);\n",
              "    border: none;\n",
              "    border-radius: 50%;\n",
              "    cursor: pointer;\n",
              "    display: none;\n",
              "    fill: var(--fill-color);\n",
              "    height: 32px;\n",
              "    padding: 0;\n",
              "    width: 32px;\n",
              "  }\n",
              "\n",
              "  .colab-df-quickchart:hover {\n",
              "    background-color: var(--hover-bg-color);\n",
              "    box-shadow: 0 1px 2px rgba(60, 64, 67, 0.3), 0 1px 3px 1px rgba(60, 64, 67, 0.15);\n",
              "    fill: var(--button-hover-fill-color);\n",
              "  }\n",
              "\n",
              "  .colab-df-quickchart-complete:disabled,\n",
              "  .colab-df-quickchart-complete:disabled:hover {\n",
              "    background-color: var(--disabled-bg-color);\n",
              "    fill: var(--disabled-fill-color);\n",
              "    box-shadow: none;\n",
              "  }\n",
              "\n",
              "  .colab-df-spinner {\n",
              "    border: 2px solid var(--fill-color);\n",
              "    border-color: transparent;\n",
              "    border-bottom-color: var(--fill-color);\n",
              "    animation:\n",
              "      spin 1s steps(1) infinite;\n",
              "  }\n",
              "\n",
              "  @keyframes spin {\n",
              "    0% {\n",
              "      border-color: transparent;\n",
              "      border-bottom-color: var(--fill-color);\n",
              "      border-left-color: var(--fill-color);\n",
              "    }\n",
              "    20% {\n",
              "      border-color: transparent;\n",
              "      border-left-color: var(--fill-color);\n",
              "      border-top-color: var(--fill-color);\n",
              "    }\n",
              "    30% {\n",
              "      border-color: transparent;\n",
              "      border-left-color: var(--fill-color);\n",
              "      border-top-color: var(--fill-color);\n",
              "      border-right-color: var(--fill-color);\n",
              "    }\n",
              "    40% {\n",
              "      border-color: transparent;\n",
              "      border-right-color: var(--fill-color);\n",
              "      border-top-color: var(--fill-color);\n",
              "    }\n",
              "    60% {\n",
              "      border-color: transparent;\n",
              "      border-right-color: var(--fill-color);\n",
              "    }\n",
              "    80% {\n",
              "      border-color: transparent;\n",
              "      border-right-color: var(--fill-color);\n",
              "      border-bottom-color: var(--fill-color);\n",
              "    }\n",
              "    90% {\n",
              "      border-color: transparent;\n",
              "      border-bottom-color: var(--fill-color);\n",
              "    }\n",
              "  }\n",
              "</style>\n",
              "\n",
              "  <script>\n",
              "    async function quickchart(key) {\n",
              "      const quickchartButtonEl =\n",
              "        document.querySelector('#' + key + ' button');\n",
              "      quickchartButtonEl.disabled = true;  // To prevent multiple clicks.\n",
              "      quickchartButtonEl.classList.add('colab-df-spinner');\n",
              "      try {\n",
              "        const charts = await google.colab.kernel.invokeFunction(\n",
              "            'suggestCharts', [key], {});\n",
              "      } catch (error) {\n",
              "        console.error('Error during call to suggestCharts:', error);\n",
              "      }\n",
              "      quickchartButtonEl.classList.remove('colab-df-spinner');\n",
              "      quickchartButtonEl.classList.add('colab-df-quickchart-complete');\n",
              "    }\n",
              "    (() => {\n",
              "      let quickchartButtonEl =\n",
              "        document.querySelector('#df-7c97e273-79e1-4afb-b7a4-7480b2484ac6 button');\n",
              "      quickchartButtonEl.style.display =\n",
              "        google.colab.kernel.accessAllowed ? 'block' : 'none';\n",
              "    })();\n",
              "  </script>\n",
              "</div>\n",
              "\n",
              "    </div>\n",
              "  </div>\n"
            ],
            "application/vnd.google.colaboratory.intrinsic+json": {
              "type": "dataframe",
              "summary": "{\n  \"name\": \"gene_table_highly_expressed[0][:5]\",\n  \"rows\": 5,\n  \"fields\": [\n    {\n      \"column\": \"TxStart\",\n      \"properties\": {\n        \"dtype\": \"number\",\n        \"std\": 3644326,\n        \"min\": 955502,\n        \"max\": 8921060,\n        \"num_unique_values\": 5,\n        \"samples\": [\n          1716728,\n          8921060,\n          6281252\n        ],\n        \"semantic_type\": \"\",\n        \"description\": \"\"\n      }\n    },\n    {\n      \"column\": \"TxEnd\",\n      \"properties\": {\n        \"dtype\": \"number\",\n        \"std\": 3619183,\n        \"min\": 991496,\n        \"max\": 8938749,\n        \"num_unique_values\": 5,\n        \"samples\": [\n          1822495,\n          8938749,\n          6296000\n        ],\n        \"semantic_type\": \"\",\n        \"description\": \"\"\n      }\n    }\n  ]\n}"
            }
          },
          "metadata": {},
          "execution_count": 29
        }
      ],
      "source": [
        "# Preview the first few lines of 'gene_table_highly_expressed'\n",
        "gene_table_highly_expressed[0][:5]"
      ]
    },
    {
      "cell_type": "markdown",
      "metadata": {
        "id": "5GZ-vMy9zVmc"
      },
      "source": [
        "Also, take a look at the sorted gene table for not-expressed genes."
      ]
    },
    {
      "cell_type": "code",
      "execution_count": null,
      "metadata": {
        "colab": {
          "base_uri": "https://localhost:8080/"
        },
        "id": "Ccj1X3RqzkYz",
        "outputId": "4321b646-7d32-417f-b069-4abe6cc9b01d"
      },
      "outputs": [
        {
          "output_type": "stream",
          "name": "stdout",
          "text": [
            "Extracting the gene file ...\n",
            "Done!\n"
          ]
        }
      ],
      "source": [
        "gene_table_not_expressed=crb.Gexp_Gene2GLChr(exp_gene_file='/content/gene_not_expressed.refFlat')"
      ]
    },
    {
      "cell_type": "code",
      "execution_count": null,
      "metadata": {
        "colab": {
          "base_uri": "https://localhost:8080/",
          "height": 204
        },
        "id": "HGt0_e4HzoiD",
        "outputId": "7266e159-c035-4c65-8be3-b3dc27e69820"
      },
      "outputs": [
        {
          "output_type": "execute_result",
          "data": {
            "text/plain": [
              "    TxStart     TxEnd\n",
              "0     69090     70008\n",
              "1    621058    622053\n",
              "2    910578    917497\n",
              "3   9712667   9714644\n",
              "4  11249397  11256038"
            ],
            "text/html": [
              "\n",
              "  <div id=\"df-ffb89273-6af0-4e24-bc77-b16071533214\" class=\"colab-df-container\">\n",
              "    <div>\n",
              "<style scoped>\n",
              "    .dataframe tbody tr th:only-of-type {\n",
              "        vertical-align: middle;\n",
              "    }\n",
              "\n",
              "    .dataframe tbody tr th {\n",
              "        vertical-align: top;\n",
              "    }\n",
              "\n",
              "    .dataframe thead th {\n",
              "        text-align: right;\n",
              "    }\n",
              "</style>\n",
              "<table border=\"1\" class=\"dataframe\">\n",
              "  <thead>\n",
              "    <tr style=\"text-align: right;\">\n",
              "      <th></th>\n",
              "      <th>TxStart</th>\n",
              "      <th>TxEnd</th>\n",
              "    </tr>\n",
              "  </thead>\n",
              "  <tbody>\n",
              "    <tr>\n",
              "      <th>0</th>\n",
              "      <td>69090</td>\n",
              "      <td>70008</td>\n",
              "    </tr>\n",
              "    <tr>\n",
              "      <th>1</th>\n",
              "      <td>621058</td>\n",
              "      <td>622053</td>\n",
              "    </tr>\n",
              "    <tr>\n",
              "      <th>2</th>\n",
              "      <td>910578</td>\n",
              "      <td>917497</td>\n",
              "    </tr>\n",
              "    <tr>\n",
              "      <th>3</th>\n",
              "      <td>9712667</td>\n",
              "      <td>9714644</td>\n",
              "    </tr>\n",
              "    <tr>\n",
              "      <th>4</th>\n",
              "      <td>11249397</td>\n",
              "      <td>11256038</td>\n",
              "    </tr>\n",
              "  </tbody>\n",
              "</table>\n",
              "</div>\n",
              "    <div class=\"colab-df-buttons\">\n",
              "\n",
              "  <div class=\"colab-df-container\">\n",
              "    <button class=\"colab-df-convert\" onclick=\"convertToInteractive('df-ffb89273-6af0-4e24-bc77-b16071533214')\"\n",
              "            title=\"Convert this dataframe to an interactive table.\"\n",
              "            style=\"display:none;\">\n",
              "\n",
              "  <svg xmlns=\"http://www.w3.org/2000/svg\" height=\"24px\" viewBox=\"0 -960 960 960\">\n",
              "    <path d=\"M120-120v-720h720v720H120Zm60-500h600v-160H180v160Zm220 220h160v-160H400v160Zm0 220h160v-160H400v160ZM180-400h160v-160H180v160Zm440 0h160v-160H620v160ZM180-180h160v-160H180v160Zm440 0h160v-160H620v160Z\"/>\n",
              "  </svg>\n",
              "    </button>\n",
              "\n",
              "  <style>\n",
              "    .colab-df-container {\n",
              "      display:flex;\n",
              "      gap: 12px;\n",
              "    }\n",
              "\n",
              "    .colab-df-convert {\n",
              "      background-color: #E8F0FE;\n",
              "      border: none;\n",
              "      border-radius: 50%;\n",
              "      cursor: pointer;\n",
              "      display: none;\n",
              "      fill: #1967D2;\n",
              "      height: 32px;\n",
              "      padding: 0 0 0 0;\n",
              "      width: 32px;\n",
              "    }\n",
              "\n",
              "    .colab-df-convert:hover {\n",
              "      background-color: #E2EBFA;\n",
              "      box-shadow: 0px 1px 2px rgba(60, 64, 67, 0.3), 0px 1px 3px 1px rgba(60, 64, 67, 0.15);\n",
              "      fill: #174EA6;\n",
              "    }\n",
              "\n",
              "    .colab-df-buttons div {\n",
              "      margin-bottom: 4px;\n",
              "    }\n",
              "\n",
              "    [theme=dark] .colab-df-convert {\n",
              "      background-color: #3B4455;\n",
              "      fill: #D2E3FC;\n",
              "    }\n",
              "\n",
              "    [theme=dark] .colab-df-convert:hover {\n",
              "      background-color: #434B5C;\n",
              "      box-shadow: 0px 1px 3px 1px rgba(0, 0, 0, 0.15);\n",
              "      filter: drop-shadow(0px 1px 2px rgba(0, 0, 0, 0.3));\n",
              "      fill: #FFFFFF;\n",
              "    }\n",
              "  </style>\n",
              "\n",
              "    <script>\n",
              "      const buttonEl =\n",
              "        document.querySelector('#df-ffb89273-6af0-4e24-bc77-b16071533214 button.colab-df-convert');\n",
              "      buttonEl.style.display =\n",
              "        google.colab.kernel.accessAllowed ? 'block' : 'none';\n",
              "\n",
              "      async function convertToInteractive(key) {\n",
              "        const element = document.querySelector('#df-ffb89273-6af0-4e24-bc77-b16071533214');\n",
              "        const dataTable =\n",
              "          await google.colab.kernel.invokeFunction('convertToInteractive',\n",
              "                                                    [key], {});\n",
              "        if (!dataTable) return;\n",
              "\n",
              "        const docLinkHtml = 'Like what you see? Visit the ' +\n",
              "          '<a target=\"_blank\" href=https://colab.research.google.com/notebooks/data_table.ipynb>data table notebook</a>'\n",
              "          + ' to learn more about interactive tables.';\n",
              "        element.innerHTML = '';\n",
              "        dataTable['output_type'] = 'display_data';\n",
              "        await google.colab.output.renderOutput(dataTable, element);\n",
              "        const docLink = document.createElement('div');\n",
              "        docLink.innerHTML = docLinkHtml;\n",
              "        element.appendChild(docLink);\n",
              "      }\n",
              "    </script>\n",
              "  </div>\n",
              "\n",
              "\n",
              "<div id=\"df-8f9db7b6-98cb-4889-a7bc-cff50e1aa881\">\n",
              "  <button class=\"colab-df-quickchart\" onclick=\"quickchart('df-8f9db7b6-98cb-4889-a7bc-cff50e1aa881')\"\n",
              "            title=\"Suggest charts\"\n",
              "            style=\"display:none;\">\n",
              "\n",
              "<svg xmlns=\"http://www.w3.org/2000/svg\" height=\"24px\"viewBox=\"0 0 24 24\"\n",
              "     width=\"24px\">\n",
              "    <g>\n",
              "        <path d=\"M19 3H5c-1.1 0-2 .9-2 2v14c0 1.1.9 2 2 2h14c1.1 0 2-.9 2-2V5c0-1.1-.9-2-2-2zM9 17H7v-7h2v7zm4 0h-2V7h2v10zm4 0h-2v-4h2v4z\"/>\n",
              "    </g>\n",
              "</svg>\n",
              "  </button>\n",
              "\n",
              "<style>\n",
              "  .colab-df-quickchart {\n",
              "      --bg-color: #E8F0FE;\n",
              "      --fill-color: #1967D2;\n",
              "      --hover-bg-color: #E2EBFA;\n",
              "      --hover-fill-color: #174EA6;\n",
              "      --disabled-fill-color: #AAA;\n",
              "      --disabled-bg-color: #DDD;\n",
              "  }\n",
              "\n",
              "  [theme=dark] .colab-df-quickchart {\n",
              "      --bg-color: #3B4455;\n",
              "      --fill-color: #D2E3FC;\n",
              "      --hover-bg-color: #434B5C;\n",
              "      --hover-fill-color: #FFFFFF;\n",
              "      --disabled-bg-color: #3B4455;\n",
              "      --disabled-fill-color: #666;\n",
              "  }\n",
              "\n",
              "  .colab-df-quickchart {\n",
              "    background-color: var(--bg-color);\n",
              "    border: none;\n",
              "    border-radius: 50%;\n",
              "    cursor: pointer;\n",
              "    display: none;\n",
              "    fill: var(--fill-color);\n",
              "    height: 32px;\n",
              "    padding: 0;\n",
              "    width: 32px;\n",
              "  }\n",
              "\n",
              "  .colab-df-quickchart:hover {\n",
              "    background-color: var(--hover-bg-color);\n",
              "    box-shadow: 0 1px 2px rgba(60, 64, 67, 0.3), 0 1px 3px 1px rgba(60, 64, 67, 0.15);\n",
              "    fill: var(--button-hover-fill-color);\n",
              "  }\n",
              "\n",
              "  .colab-df-quickchart-complete:disabled,\n",
              "  .colab-df-quickchart-complete:disabled:hover {\n",
              "    background-color: var(--disabled-bg-color);\n",
              "    fill: var(--disabled-fill-color);\n",
              "    box-shadow: none;\n",
              "  }\n",
              "\n",
              "  .colab-df-spinner {\n",
              "    border: 2px solid var(--fill-color);\n",
              "    border-color: transparent;\n",
              "    border-bottom-color: var(--fill-color);\n",
              "    animation:\n",
              "      spin 1s steps(1) infinite;\n",
              "  }\n",
              "\n",
              "  @keyframes spin {\n",
              "    0% {\n",
              "      border-color: transparent;\n",
              "      border-bottom-color: var(--fill-color);\n",
              "      border-left-color: var(--fill-color);\n",
              "    }\n",
              "    20% {\n",
              "      border-color: transparent;\n",
              "      border-left-color: var(--fill-color);\n",
              "      border-top-color: var(--fill-color);\n",
              "    }\n",
              "    30% {\n",
              "      border-color: transparent;\n",
              "      border-left-color: var(--fill-color);\n",
              "      border-top-color: var(--fill-color);\n",
              "      border-right-color: var(--fill-color);\n",
              "    }\n",
              "    40% {\n",
              "      border-color: transparent;\n",
              "      border-right-color: var(--fill-color);\n",
              "      border-top-color: var(--fill-color);\n",
              "    }\n",
              "    60% {\n",
              "      border-color: transparent;\n",
              "      border-right-color: var(--fill-color);\n",
              "    }\n",
              "    80% {\n",
              "      border-color: transparent;\n",
              "      border-right-color: var(--fill-color);\n",
              "      border-bottom-color: var(--fill-color);\n",
              "    }\n",
              "    90% {\n",
              "      border-color: transparent;\n",
              "      border-bottom-color: var(--fill-color);\n",
              "    }\n",
              "  }\n",
              "</style>\n",
              "\n",
              "  <script>\n",
              "    async function quickchart(key) {\n",
              "      const quickchartButtonEl =\n",
              "        document.querySelector('#' + key + ' button');\n",
              "      quickchartButtonEl.disabled = true;  // To prevent multiple clicks.\n",
              "      quickchartButtonEl.classList.add('colab-df-spinner');\n",
              "      try {\n",
              "        const charts = await google.colab.kernel.invokeFunction(\n",
              "            'suggestCharts', [key], {});\n",
              "      } catch (error) {\n",
              "        console.error('Error during call to suggestCharts:', error);\n",
              "      }\n",
              "      quickchartButtonEl.classList.remove('colab-df-spinner');\n",
              "      quickchartButtonEl.classList.add('colab-df-quickchart-complete');\n",
              "    }\n",
              "    (() => {\n",
              "      let quickchartButtonEl =\n",
              "        document.querySelector('#df-8f9db7b6-98cb-4889-a7bc-cff50e1aa881 button');\n",
              "      quickchartButtonEl.style.display =\n",
              "        google.colab.kernel.accessAllowed ? 'block' : 'none';\n",
              "    })();\n",
              "  </script>\n",
              "</div>\n",
              "\n",
              "    </div>\n",
              "  </div>\n"
            ],
            "application/vnd.google.colaboratory.intrinsic+json": {
              "type": "dataframe",
              "summary": "{\n  \"name\": \"gene_table_not_expressed[0][:5]\",\n  \"rows\": 5,\n  \"fields\": [\n    {\n      \"column\": \"TxStart\",\n      \"properties\": {\n        \"dtype\": \"number\",\n        \"std\": 5483807,\n        \"min\": 69090,\n        \"max\": 11249397,\n        \"num_unique_values\": 5,\n        \"samples\": [\n          621058,\n          11249397,\n          910578\n        ],\n        \"semantic_type\": \"\",\n        \"description\": \"\"\n      }\n    },\n    {\n      \"column\": \"TxEnd\",\n      \"properties\": {\n        \"dtype\": \"number\",\n        \"std\": 5484817,\n        \"min\": 70008,\n        \"max\": 11256038,\n        \"num_unique_values\": 5,\n        \"samples\": [\n          622053,\n          11256038,\n          917497\n        ],\n        \"semantic_type\": \"\",\n        \"description\": \"\"\n      }\n    }\n  ]\n}"
            }
          },
          "metadata": {},
          "execution_count": 31
        }
      ],
      "source": [
        "# Preview the first few lines of 'gene_table_not_expressed'\n",
        "gene_table_not_expressed[0][:5]"
      ]
    },
    {
      "cell_type": "markdown",
      "metadata": {
        "id": "fLaBTIsK091A"
      },
      "source": [
        "<br>\n",
        "\n",
        "Now, let's extract the chromatin state sequences from promoter regions associated with highly expressed and not-expressed genes.\n"
      ]
    },
    {
      "cell_type": "code",
      "execution_count": null,
      "metadata": {
        "colab": {
          "base_uri": "https://localhost:8080/"
        },
        "id": "7xEBSGSLvTbJ",
        "outputId": "ad9ed805-7445-4971-ede2-c222c8efa8cc"
      },
      "outputs": [
        {
          "output_type": "stream",
          "name": "stdout",
          "text": [
            "Extracting the gene file ...\n",
            "Done!\n",
            "Matching to the chromatin state sequence data ...\n",
            "Done!\n",
            "Extracting the gene file ...\n",
            "Done!\n",
            "Matching to the chromatin state sequence data ...\n",
            "Done!\n"
          ]
        }
      ],
      "source": [
        "# Locate the refFlat files for highly-expressed and not-expressed genes on Colab\n",
        "highly_exp_gene_file='/content/gene_highly_expressed.refFlat'\n",
        "not_exp_gene_file='/content/gene_not_expressed.refFlat'\n",
        "\n",
        "# Change 'up_num' and 'down_num' to adjust the upstream and downstream regions and define your own promoter regions\n",
        "# Don't change \"unit=200\" as it represents the default base pair length for chromatin annotation, which remains constant for this test.\n",
        "prom_highly_expressed=crb.extProm_wrt_g_exp(highly_exp_gene_file, df, up_num=2000, down_num=4000,unit=200)\n",
        "prom_not_expressed=crb.extProm_wrt_g_exp(not_exp_gene_file, df, up_num=2000, down_num=4000,unit=200)"
      ]
    },
    {
      "cell_type": "markdown",
      "metadata": {
        "id": "o8FO9j592Ndq"
      },
      "source": [
        "<br>\n",
        "\n",
        "🤩 We can't wait to explore how chromatin state sequence patterns differ between promoter regions of ✅ **highly expressed genes** (`RPKM > 50`) and ❌ **not-expressed genes** (`RPKM = 0`)! Let's dive in! 🌊🤿🌊\n",
        "\n",
        "<br>"
      ]
    },
    {
      "cell_type": "code",
      "execution_count": null,
      "metadata": {
        "colab": {
          "base_uri": "https://localhost:8080/"
        },
        "id": "xr1DbdjQ1u6d",
        "outputId": "a12d147a-a567-44cc-e8c6-eadb21828065"
      },
      "outputs": [
        {
          "output_type": "stream",
          "name": "stdout",
          "text": [
            "\u001b[1m\u001b[38;2;0;100;0mE\u001b[38;2;255;255;255m\u001b[38;2;0;100;0mE\u001b[38;2;255;255;255m\u001b[38;2;0;100;0mE\u001b[38;2;255;255;255m\u001b[38;2;0;100;0mE\u001b[38;2;255;255;255m\u001b[38;2;0;100;0mE\u001b[38;2;255;255;255m\u001b[38;2;255;255;0mG\u001b[38;2;255;255;255m\u001b[38;2;255;0;0mA\u001b[38;2;255;255;255m\u001b[38;2;255;0;0mA\u001b[38;2;255;255;255m\u001b[38;2;255;0;0mA\u001b[38;2;255;255;255m\u001b[38;2;255;0;0mA\u001b[38;2;255;255;255m\u001b[38;2;255;0;0mA\u001b[38;2;255;255;255m\u001b[38;2;255;0;0mA\u001b[38;2;255;255;255m\u001b[38;2;255;0;0mA\u001b[38;2;255;255;255m\u001b[38;2;255;0;0mA\u001b[38;2;255;255;255m\u001b[38;2;255;0;0mA\u001b[38;2;255;255;255m\u001b[38;2;255;69;0mB\u001b[38;2;255;255;255m\u001b[38;2;255;69;0mB\u001b[38;2;255;255;255m\u001b[38;2;255;255;0mG\u001b[38;2;255;255;255m\u001b[38;2;255;255;0mG\u001b[38;2;255;255;255m\u001b[38;2;255;255;0mG\u001b[38;2;255;255;255m\u001b[38;2;255;255;0mG\u001b[38;2;255;255;255m\u001b[38;2;255;255;0mG\u001b[38;2;255;255;255m\u001b[38;2;194;225;5mF\u001b[38;2;255;255;255m\u001b[38;2;194;225;5mF\u001b[38;2;255;255;255m\u001b[38;2;194;225;5mF\u001b[38;2;255;255;255m\u001b[38;2;194;225;5mF\u001b[38;2;255;255;255m\u001b[38;2;194;225;5mF\u001b[38;2;255;255;255m\u001b[38;2;194;225;5mF\u001b[38;2;255;255;255m\u001b[38;2;194;225;5mF\u001b[38;2;255;255;255m\u001b[38;2;194;225;5mF\u001b[38;2;255;255;255m\u001b[0;0m\n",
            "\u001b[1m\u001b[38;2;255;255;0mG\u001b[38;2;255;255;255m\u001b[38;2;255;255;0mG\u001b[38;2;255;255;255m\u001b[38;2;0;100;0mE\u001b[38;2;255;255;255m\u001b[38;2;0;100;0mE\u001b[38;2;255;255;255m\u001b[38;2;0;100;0mE\u001b[38;2;255;255;255m\u001b[38;2;0;100;0mE\u001b[38;2;255;255;255m\u001b[38;2;0;100;0mE\u001b[38;2;255;255;255m\u001b[38;2;0;100;0mE\u001b[38;2;255;255;255m\u001b[38;2;0;128;0mD\u001b[38;2;255;255;255m\u001b[38;2;0;128;0mD\u001b[38;2;255;255;255m\u001b[38;2;0;128;0mD\u001b[38;2;255;255;255m\u001b[38;2;0;128;0mD\u001b[38;2;255;255;255m\u001b[38;2;0;128;0mD\u001b[38;2;255;255;255m\u001b[38;2;0;128;0mD\u001b[38;2;255;255;255m\u001b[38;2;0;128;0mD\u001b[38;2;255;255;255m\u001b[38;2;0;128;0mD\u001b[38;2;255;255;255m\u001b[38;2;0;128;0mD\u001b[38;2;255;255;255m\u001b[38;2;0;128;0mD\u001b[38;2;255;255;255m\u001b[38;2;0;128;0mD\u001b[38;2;255;255;255m\u001b[38;2;0;128;0mD\u001b[38;2;255;255;255m\u001b[38;2;0;128;0mD\u001b[38;2;255;255;255m\u001b[38;2;0;128;0mD\u001b[38;2;255;255;255m\u001b[38;2;0;128;0mD\u001b[38;2;255;255;255m\u001b[38;2;0;128;0mD\u001b[38;2;255;255;255m\u001b[38;2;0;128;0mD\u001b[38;2;255;255;255m\u001b[38;2;0;128;0mD\u001b[38;2;255;255;255m\u001b[38;2;0;128;0mD\u001b[38;2;255;255;255m\u001b[38;2;0;128;0mD\u001b[38;2;255;255;255m\u001b[38;2;0;128;0mD\u001b[38;2;255;255;255m\u001b[38;2;0;128;0mD\u001b[38;2;255;255;255m\u001b[0;0m\n",
            "\u001b[1m\u001b[38;2;0;100;0mE\u001b[38;2;255;255;255m\u001b[38;2;0;100;0mE\u001b[38;2;255;255;255m\u001b[38;2;0;100;0mE\u001b[38;2;255;255;255m\u001b[38;2;0;100;0mE\u001b[38;2;255;255;255m\u001b[38;2;0;100;0mE\u001b[38;2;255;255;255m\u001b[38;2;0;100;0mE\u001b[38;2;255;255;255m\u001b[38;2;0;100;0mE\u001b[38;2;255;255;255m\u001b[38;2;0;100;0mE\u001b[38;2;255;255;255m\u001b[38;2;0;100;0mE\u001b[38;2;255;255;255m\u001b[38;2;0;100;0mE\u001b[38;2;255;255;255m\u001b[38;2;0;100;0mE\u001b[38;2;255;255;255m\u001b[38;2;0;128;0mD\u001b[38;2;255;255;255m\u001b[38;2;0;128;0mD\u001b[38;2;255;255;255m\u001b[38;2;0;128;0mD\u001b[38;2;255;255;255m\u001b[38;2;0;128;0mD\u001b[38;2;255;255;255m\u001b[38;2;0;128;0mD\u001b[38;2;255;255;255m\u001b[38;2;0;128;0mD\u001b[38;2;255;255;255m\u001b[38;2;0;128;0mD\u001b[38;2;255;255;255m\u001b[38;2;0;128;0mD\u001b[38;2;255;255;255m\u001b[38;2;0;128;0mD\u001b[38;2;255;255;255m\u001b[38;2;0;128;0mD\u001b[38;2;255;255;255m\u001b[38;2;0;128;0mD\u001b[38;2;255;255;255m\u001b[38;2;0;128;0mD\u001b[38;2;255;255;255m\u001b[38;2;0;128;0mD\u001b[38;2;255;255;255m\u001b[38;2;0;128;0mD\u001b[38;2;255;255;255m\u001b[38;2;0;128;0mD\u001b[38;2;255;255;255m\u001b[38;2;0;128;0mD\u001b[38;2;255;255;255m\u001b[38;2;0;128;0mD\u001b[38;2;255;255;255m\u001b[38;2;0;128;0mD\u001b[38;2;255;255;255m\u001b[38;2;0;128;0mD\u001b[38;2;255;255;255m\u001b[0;0m\n",
            "\u001b[1m\u001b[38;2;240;240;240mO\u001b[38;2;255;255;255m\u001b[38;2;240;240;240mO\u001b[38;2;255;255;255m\u001b[38;2;240;240;240mO\u001b[38;2;255;255;255m\u001b[38;2;240;240;240mO\u001b[38;2;255;255;255m\u001b[38;2;240;240;240mO\u001b[38;2;255;255;255m\u001b[38;2;255;0;0mA\u001b[38;2;255;255;255m\u001b[38;2;255;0;0mA\u001b[38;2;255;255;255m\u001b[38;2;255;0;0mA\u001b[38;2;255;255;255m\u001b[38;2;255;0;0mA\u001b[38;2;255;255;255m\u001b[38;2;255;0;0mA\u001b[38;2;255;255;255m\u001b[38;2;255;0;0mA\u001b[38;2;255;255;255m\u001b[38;2;255;0;0mA\u001b[38;2;255;255;255m\u001b[38;2;255;0;0mA\u001b[38;2;255;255;255m\u001b[38;2;255;0;0mA\u001b[38;2;255;255;255m\u001b[38;2;255;0;0mA\u001b[38;2;255;255;255m\u001b[38;2;0;100;0mE\u001b[38;2;255;255;255m\u001b[38;2;0;100;0mE\u001b[38;2;255;255;255m\u001b[38;2;0;128;0mD\u001b[38;2;255;255;255m\u001b[38;2;0;128;0mD\u001b[38;2;255;255;255m\u001b[38;2;0;128;0mD\u001b[38;2;255;255;255m\u001b[38;2;0;128;0mD\u001b[38;2;255;255;255m\u001b[38;2;0;128;0mD\u001b[38;2;255;255;255m\u001b[38;2;0;128;0mD\u001b[38;2;255;255;255m\u001b[38;2;0;128;0mD\u001b[38;2;255;255;255m\u001b[38;2;0;128;0mD\u001b[38;2;255;255;255m\u001b[38;2;0;128;0mD\u001b[38;2;255;255;255m\u001b[38;2;0;128;0mD\u001b[38;2;255;255;255m\u001b[38;2;0;128;0mD\u001b[38;2;255;255;255m\u001b[38;2;0;128;0mD\u001b[38;2;255;255;255m\u001b[38;2;0;128;0mD\u001b[38;2;255;255;255m\u001b[0;0m\n",
            "\u001b[1m\u001b[38;2;0;128;0mD\u001b[38;2;255;255;255m\u001b[38;2;0;128;0mD\u001b[38;2;255;255;255m\u001b[38;2;0;128;0mD\u001b[38;2;255;255;255m\u001b[38;2;0;128;0mD\u001b[38;2;255;255;255m\u001b[38;2;0;128;0mD\u001b[38;2;255;255;255m\u001b[38;2;0;128;0mD\u001b[38;2;255;255;255m\u001b[38;2;0;128;0mD\u001b[38;2;255;255;255m\u001b[38;2;0;128;0mD\u001b[38;2;255;255;255m\u001b[38;2;0;128;0mD\u001b[38;2;255;255;255m\u001b[38;2;0;128;0mD\u001b[38;2;255;255;255m\u001b[38;2;0;128;0mD\u001b[38;2;255;255;255m\u001b[38;2;0;128;0mD\u001b[38;2;255;255;255m\u001b[38;2;0;128;0mD\u001b[38;2;255;255;255m\u001b[38;2;0;128;0mD\u001b[38;2;255;255;255m\u001b[38;2;0;128;0mD\u001b[38;2;255;255;255m\u001b[38;2;0;128;0mD\u001b[38;2;255;255;255m\u001b[38;2;0;128;0mD\u001b[38;2;255;255;255m\u001b[38;2;0;128;0mD\u001b[38;2;255;255;255m\u001b[38;2;0;128;0mD\u001b[38;2;255;255;255m\u001b[38;2;0;128;0mD\u001b[38;2;255;255;255m\u001b[38;2;0;128;0mD\u001b[38;2;255;255;255m\u001b[38;2;0;128;0mD\u001b[38;2;255;255;255m\u001b[38;2;0;128;0mD\u001b[38;2;255;255;255m\u001b[38;2;0;128;0mD\u001b[38;2;255;255;255m\u001b[38;2;0;128;0mD\u001b[38;2;255;255;255m\u001b[38;2;0;128;0mD\u001b[38;2;255;255;255m\u001b[38;2;0;128;0mD\u001b[38;2;255;255;255m\u001b[38;2;0;128;0mD\u001b[38;2;255;255;255m\u001b[38;2;0;128;0mD\u001b[38;2;255;255;255m\u001b[38;2;0;128;0mD\u001b[38;2;255;255;255m\u001b[0;0m\n",
            "\u001b[1m\u001b[38;2;0;128;0mD\u001b[38;2;255;255;255m\u001b[38;2;0;128;0mD\u001b[38;2;255;255;255m\u001b[38;2;0;128;0mD\u001b[38;2;255;255;255m\u001b[38;2;0;128;0mD\u001b[38;2;255;255;255m\u001b[38;2;0;128;0mD\u001b[38;2;255;255;255m\u001b[38;2;0;128;0mD\u001b[38;2;255;255;255m\u001b[38;2;0;128;0mD\u001b[38;2;255;255;255m\u001b[38;2;0;128;0mD\u001b[38;2;255;255;255m\u001b[38;2;0;128;0mD\u001b[38;2;255;255;255m\u001b[38;2;0;128;0mD\u001b[38;2;255;255;255m\u001b[38;2;0;128;0mD\u001b[38;2;255;255;255m\u001b[38;2;0;128;0mD\u001b[38;2;255;255;255m\u001b[38;2;0;128;0mD\u001b[38;2;255;255;255m\u001b[38;2;0;128;0mD\u001b[38;2;255;255;255m\u001b[38;2;0;128;0mD\u001b[38;2;255;255;255m\u001b[38;2;0;128;0mD\u001b[38;2;255;255;255m\u001b[38;2;0;128;0mD\u001b[38;2;255;255;255m\u001b[38;2;0;128;0mD\u001b[38;2;255;255;255m\u001b[38;2;0;128;0mD\u001b[38;2;255;255;255m\u001b[38;2;0;128;0mD\u001b[38;2;255;255;255m\u001b[38;2;0;128;0mD\u001b[38;2;255;255;255m\u001b[38;2;0;128;0mD\u001b[38;2;255;255;255m\u001b[38;2;0;128;0mD\u001b[38;2;255;255;255m\u001b[38;2;0;128;0mD\u001b[38;2;255;255;255m\u001b[38;2;0;128;0mD\u001b[38;2;255;255;255m\u001b[38;2;0;128;0mD\u001b[38;2;255;255;255m\u001b[38;2;0;128;0mD\u001b[38;2;255;255;255m\u001b[38;2;0;128;0mD\u001b[38;2;255;255;255m\u001b[38;2;0;128;0mD\u001b[38;2;255;255;255m\u001b[38;2;0;128;0mD\u001b[38;2;255;255;255m\u001b[0;0m\n",
            "\u001b[1m\u001b[38;2;0;100;0mE\u001b[38;2;255;255;255m\u001b[38;2;0;100;0mE\u001b[38;2;255;255;255m\u001b[38;2;0;100;0mE\u001b[38;2;255;255;255m\u001b[38;2;0;100;0mE\u001b[38;2;255;255;255m\u001b[38;2;0;100;0mE\u001b[38;2;255;255;255m\u001b[38;2;255;0;0mA\u001b[38;2;255;255;255m\u001b[38;2;255;0;0mA\u001b[38;2;255;255;255m\u001b[38;2;255;0;0mA\u001b[38;2;255;255;255m\u001b[38;2;255;0;0mA\u001b[38;2;255;255;255m\u001b[38;2;255;0;0mA\u001b[38;2;255;255;255m\u001b[38;2;255;0;0mA\u001b[38;2;255;255;255m\u001b[38;2;255;0;0mA\u001b[38;2;255;255;255m\u001b[38;2;255;0;0mA\u001b[38;2;255;255;255m\u001b[38;2;255;0;0mA\u001b[38;2;255;255;255m\u001b[38;2;255;0;0mA\u001b[38;2;255;255;255m\u001b[38;2;50;205;50mC\u001b[38;2;255;255;255m\u001b[38;2;50;205;50mC\u001b[38;2;255;255;255m\u001b[38;2;0;128;0mD\u001b[38;2;255;255;255m\u001b[38;2;0;128;0mD\u001b[38;2;255;255;255m\u001b[38;2;0;128;0mD\u001b[38;2;255;255;255m\u001b[38;2;0;128;0mD\u001b[38;2;255;255;255m\u001b[38;2;0;128;0mD\u001b[38;2;255;255;255m\u001b[38;2;0;128;0mD\u001b[38;2;255;255;255m\u001b[38;2;0;128;0mD\u001b[38;2;255;255;255m\u001b[38;2;0;128;0mD\u001b[38;2;255;255;255m\u001b[38;2;0;128;0mD\u001b[38;2;255;255;255m\u001b[38;2;0;128;0mD\u001b[38;2;255;255;255m\u001b[38;2;0;128;0mD\u001b[38;2;255;255;255m\u001b[38;2;0;128;0mD\u001b[38;2;255;255;255m\u001b[38;2;0;128;0mD\u001b[38;2;255;255;255m\u001b[0;0m\n",
            "\u001b[1m\u001b[38;2;240;240;240mO\u001b[38;2;255;255;255m\u001b[38;2;240;240;240mO\u001b[38;2;255;255;255m\u001b[38;2;240;240;240mO\u001b[38;2;255;255;255m\u001b[38;2;240;240;240mO\u001b[38;2;255;255;255m\u001b[38;2;240;240;240mO\u001b[38;2;255;255;255m\u001b[38;2;240;240;240mO\u001b[38;2;255;255;255m\u001b[38;2;255;255;0mG\u001b[38;2;255;255;255m\u001b[38;2;255;69;0mB\u001b[38;2;255;255;255m\u001b[38;2;255;0;0mA\u001b[38;2;255;255;255m\u001b[38;2;255;0;0mA\u001b[38;2;255;255;255m\u001b[38;2;255;0;0mA\u001b[38;2;255;255;255m\u001b[38;2;255;0;0mA\u001b[38;2;255;255;255m\u001b[38;2;255;0;0mA\u001b[38;2;255;255;255m\u001b[38;2;255;0;0mA\u001b[38;2;255;255;255m\u001b[38;2;255;0;0mA\u001b[38;2;255;255;255m\u001b[38;2;255;0;0mA\u001b[38;2;255;255;255m\u001b[38;2;50;205;50mC\u001b[38;2;255;255;255m\u001b[38;2;50;205;50mC\u001b[38;2;255;255;255m\u001b[38;2;0;128;0mD\u001b[38;2;255;255;255m\u001b[38;2;0;128;0mD\u001b[38;2;255;255;255m\u001b[38;2;0;128;0mD\u001b[38;2;255;255;255m\u001b[38;2;0;128;0mD\u001b[38;2;255;255;255m\u001b[38;2;0;128;0mD\u001b[38;2;255;255;255m\u001b[38;2;0;128;0mD\u001b[38;2;255;255;255m\u001b[38;2;0;128;0mD\u001b[38;2;255;255;255m\u001b[38;2;0;128;0mD\u001b[38;2;255;255;255m\u001b[38;2;0;128;0mD\u001b[38;2;255;255;255m\u001b[38;2;0;128;0mD\u001b[38;2;255;255;255m\u001b[38;2;0;128;0mD\u001b[38;2;255;255;255m\u001b[38;2;0;128;0mD\u001b[38;2;255;255;255m\u001b[0;0m\n",
            "\u001b[1m\u001b[38;2;255;255;0mG\u001b[38;2;255;255;255m\u001b[38;2;255;255;0mG\u001b[38;2;255;255;255m\u001b[38;2;255;255;0mG\u001b[38;2;255;255;255m\u001b[38;2;255;255;0mG\u001b[38;2;255;255;255m\u001b[38;2;255;255;0mG\u001b[38;2;255;255;255m\u001b[38;2;255;255;0mG\u001b[38;2;255;255;255m\u001b[38;2;255;255;0mG\u001b[38;2;255;255;255m\u001b[38;2;255;255;0mG\u001b[38;2;255;255;255m\u001b[38;2;255;255;0mG\u001b[38;2;255;255;255m\u001b[38;2;194;225;5mF\u001b[38;2;255;255;255m\u001b[38;2;0;128;0mD\u001b[38;2;255;255;255m\u001b[38;2;0;128;0mD\u001b[38;2;255;255;255m\u001b[38;2;0;128;0mD\u001b[38;2;255;255;255m\u001b[38;2;0;128;0mD\u001b[38;2;255;255;255m\u001b[38;2;0;128;0mD\u001b[38;2;255;255;255m\u001b[38;2;0;128;0mD\u001b[38;2;255;255;255m\u001b[38;2;0;128;0mD\u001b[38;2;255;255;255m\u001b[38;2;0;128;0mD\u001b[38;2;255;255;255m\u001b[38;2;0;128;0mD\u001b[38;2;255;255;255m\u001b[38;2;0;128;0mD\u001b[38;2;255;255;255m\u001b[38;2;0;128;0mD\u001b[38;2;255;255;255m\u001b[38;2;0;128;0mD\u001b[38;2;255;255;255m\u001b[38;2;0;128;0mD\u001b[38;2;255;255;255m\u001b[38;2;0;128;0mD\u001b[38;2;255;255;255m\u001b[38;2;0;128;0mD\u001b[38;2;255;255;255m\u001b[38;2;0;128;0mD\u001b[38;2;255;255;255m\u001b[38;2;0;128;0mD\u001b[38;2;255;255;255m\u001b[38;2;0;128;0mD\u001b[38;2;255;255;255m\u001b[38;2;194;225;5mF\u001b[38;2;255;255;255m\u001b[38;2;194;225;5mF\u001b[38;2;255;255;255m\u001b[0;0m\n",
            "\u001b[1m\u001b[38;2;0;128;0mD\u001b[38;2;255;255;255m\u001b[38;2;0;128;0mD\u001b[38;2;255;255;255m\u001b[38;2;0;128;0mD\u001b[38;2;255;255;255m\u001b[38;2;0;128;0mD\u001b[38;2;255;255;255m\u001b[38;2;0;128;0mD\u001b[38;2;255;255;255m\u001b[38;2;0;128;0mD\u001b[38;2;255;255;255m\u001b[38;2;0;128;0mD\u001b[38;2;255;255;255m\u001b[38;2;0;128;0mD\u001b[38;2;255;255;255m\u001b[38;2;0;128;0mD\u001b[38;2;255;255;255m\u001b[38;2;0;128;0mD\u001b[38;2;255;255;255m\u001b[38;2;0;128;0mD\u001b[38;2;255;255;255m\u001b[38;2;0;128;0mD\u001b[38;2;255;255;255m\u001b[38;2;0;128;0mD\u001b[38;2;255;255;255m\u001b[38;2;0;128;0mD\u001b[38;2;255;255;255m\u001b[38;2;0;128;0mD\u001b[38;2;255;255;255m\u001b[38;2;0;128;0mD\u001b[38;2;255;255;255m\u001b[38;2;0;128;0mD\u001b[38;2;255;255;255m\u001b[38;2;0;128;0mD\u001b[38;2;255;255;255m\u001b[38;2;0;128;0mD\u001b[38;2;255;255;255m\u001b[38;2;0;128;0mD\u001b[38;2;255;255;255m\u001b[38;2;0;128;0mD\u001b[38;2;255;255;255m\u001b[38;2;0;128;0mD\u001b[38;2;255;255;255m\u001b[38;2;0;128;0mD\u001b[38;2;255;255;255m\u001b[38;2;0;128;0mD\u001b[38;2;255;255;255m\u001b[38;2;0;128;0mD\u001b[38;2;255;255;255m\u001b[38;2;0;128;0mD\u001b[38;2;255;255;255m\u001b[38;2;0;128;0mD\u001b[38;2;255;255;255m\u001b[38;2;0;128;0mD\u001b[38;2;255;255;255m\u001b[38;2;0;128;0mD\u001b[38;2;255;255;255m\u001b[38;2;0;128;0mD\u001b[38;2;255;255;255m\u001b[0;0m\n",
            "\u001b[1m\u001b[38;2;255;255;0mG\u001b[38;2;255;255;255m\u001b[38;2;189;183;107mL\u001b[38;2;255;255;255m\u001b[38;2;189;183;107mL\u001b[38;2;255;255;255m\u001b[38;2;189;183;107mL\u001b[38;2;255;255;255m\u001b[38;2;189;183;107mL\u001b[38;2;255;255;255m\u001b[38;2;189;183;107mL\u001b[38;2;255;255;255m\u001b[38;2;189;183;107mL\u001b[38;2;255;255;255m\u001b[38;2;255;69;0mB\u001b[38;2;255;255;255m\u001b[38;2;255;69;0mB\u001b[38;2;255;255;255m\u001b[38;2;255;0;0mA\u001b[38;2;255;255;255m\u001b[38;2;255;0;0mA\u001b[38;2;255;255;255m\u001b[38;2;255;0;0mA\u001b[38;2;255;255;255m\u001b[38;2;255;0;0mA\u001b[38;2;255;255;255m\u001b[38;2;255;0;0mA\u001b[38;2;255;255;255m\u001b[38;2;255;0;0mA\u001b[38;2;255;255;255m\u001b[38;2;255;0;0mA\u001b[38;2;255;255;255m\u001b[38;2;255;0;0mA\u001b[38;2;255;255;255m\u001b[38;2;255;0;0mA\u001b[38;2;255;255;255m\u001b[38;2;255;69;0mB\u001b[38;2;255;255;255m\u001b[38;2;255;0;0mA\u001b[38;2;255;255;255m\u001b[38;2;255;69;0mB\u001b[38;2;255;255;255m\u001b[38;2;255;69;0mB\u001b[38;2;255;255;255m\u001b[38;2;255;69;0mB\u001b[38;2;255;255;255m\u001b[38;2;255;69;0mB\u001b[38;2;255;255;255m\u001b[38;2;255;255;0mG\u001b[38;2;255;255;255m\u001b[38;2;255;255;0mG\u001b[38;2;255;255;255m\u001b[38;2;255;255;0mG\u001b[38;2;255;255;255m\u001b[38;2;255;255;0mG\u001b[38;2;255;255;255m\u001b[38;2;255;255;0mG\u001b[38;2;255;255;255m\u001b[38;2;255;255;0mG\u001b[38;2;255;255;255m\u001b[0;0m\n",
            "\u001b[1m\u001b[38;2;0;100;0mE\u001b[38;2;255;255;255m\u001b[38;2;0;100;0mE\u001b[38;2;255;255;255m\u001b[38;2;0;100;0mE\u001b[38;2;255;255;255m\u001b[38;2;0;100;0mE\u001b[38;2;255;255;255m\u001b[38;2;0;100;0mE\u001b[38;2;255;255;255m\u001b[38;2;0;100;0mE\u001b[38;2;255;255;255m\u001b[38;2;0;100;0mE\u001b[38;2;255;255;255m\u001b[38;2;0;100;0mE\u001b[38;2;255;255;255m\u001b[38;2;0;100;0mE\u001b[38;2;255;255;255m\u001b[38;2;0;100;0mE\u001b[38;2;255;255;255m\u001b[38;2;0;100;0mE\u001b[38;2;255;255;255m\u001b[38;2;0;100;0mE\u001b[38;2;255;255;255m\u001b[38;2;0;100;0mE\u001b[38;2;255;255;255m\u001b[38;2;194;225;5mF\u001b[38;2;255;255;255m\u001b[38;2;194;225;5mF\u001b[38;2;255;255;255m\u001b[38;2;194;225;5mF\u001b[38;2;255;255;255m\u001b[38;2;0;128;0mD\u001b[38;2;255;255;255m\u001b[38;2;0;128;0mD\u001b[38;2;255;255;255m\u001b[38;2;0;128;0mD\u001b[38;2;255;255;255m\u001b[38;2;0;128;0mD\u001b[38;2;255;255;255m\u001b[38;2;0;128;0mD\u001b[38;2;255;255;255m\u001b[38;2;0;128;0mD\u001b[38;2;255;255;255m\u001b[38;2;0;128;0mD\u001b[38;2;255;255;255m\u001b[38;2;0;128;0mD\u001b[38;2;255;255;255m\u001b[38;2;0;128;0mD\u001b[38;2;255;255;255m\u001b[38;2;0;128;0mD\u001b[38;2;255;255;255m\u001b[38;2;0;128;0mD\u001b[38;2;255;255;255m\u001b[38;2;0;128;0mD\u001b[38;2;255;255;255m\u001b[38;2;0;128;0mD\u001b[38;2;255;255;255m\u001b[38;2;0;128;0mD\u001b[38;2;255;255;255m\u001b[0;0m\n",
            "\u001b[1m\u001b[38;2;0;100;0mE\u001b[38;2;255;255;255m\u001b[38;2;255;255;0mG\u001b[38;2;255;255;255m\u001b[38;2;0;100;0mE\u001b[38;2;255;255;255m\u001b[38;2;0;100;0mE\u001b[38;2;255;255;255m\u001b[38;2;0;100;0mE\u001b[38;2;255;255;255m\u001b[38;2;0;100;0mE\u001b[38;2;255;255;255m\u001b[38;2;194;225;5mF\u001b[38;2;255;255;255m\u001b[38;2;194;225;5mF\u001b[38;2;255;255;255m\u001b[38;2;0;100;0mE\u001b[38;2;255;255;255m\u001b[38;2;0;100;0mE\u001b[38;2;255;255;255m\u001b[38;2;0;128;0mD\u001b[38;2;255;255;255m\u001b[38;2;0;128;0mD\u001b[38;2;255;255;255m\u001b[38;2;0;128;0mD\u001b[38;2;255;255;255m\u001b[38;2;0;128;0mD\u001b[38;2;255;255;255m\u001b[38;2;0;128;0mD\u001b[38;2;255;255;255m\u001b[38;2;0;128;0mD\u001b[38;2;255;255;255m\u001b[38;2;0;128;0mD\u001b[38;2;255;255;255m\u001b[38;2;0;128;0mD\u001b[38;2;255;255;255m\u001b[38;2;0;128;0mD\u001b[38;2;255;255;255m\u001b[38;2;0;128;0mD\u001b[38;2;255;255;255m\u001b[38;2;0;128;0mD\u001b[38;2;255;255;255m\u001b[38;2;0;128;0mD\u001b[38;2;255;255;255m\u001b[38;2;0;128;0mD\u001b[38;2;255;255;255m\u001b[38;2;0;128;0mD\u001b[38;2;255;255;255m\u001b[38;2;194;225;5mF\u001b[38;2;255;255;255m\u001b[38;2;194;225;5mF\u001b[38;2;255;255;255m\u001b[38;2;194;225;5mF\u001b[38;2;255;255;255m\u001b[38;2;0;128;0mD\u001b[38;2;255;255;255m\u001b[38;2;0;128;0mD\u001b[38;2;255;255;255m\u001b[38;2;0;128;0mD\u001b[38;2;255;255;255m\u001b[0;0m\n",
            "\u001b[1m\u001b[38;2;0;100;0mE\u001b[38;2;255;255;255m\u001b[38;2;0;100;0mE\u001b[38;2;255;255;255m\u001b[38;2;0;100;0mE\u001b[38;2;255;255;255m\u001b[38;2;0;100;0mE\u001b[38;2;255;255;255m\u001b[38;2;0;100;0mE\u001b[38;2;255;255;255m\u001b[38;2;255;255;0mG\u001b[38;2;255;255;255m\u001b[38;2;255;255;0mG\u001b[38;2;255;255;255m\u001b[38;2;255;255;0mG\u001b[38;2;255;255;255m\u001b[38;2;255;255;0mG\u001b[38;2;255;255;255m\u001b[38;2;255;255;0mG\u001b[38;2;255;255;255m\u001b[38;2;255;255;0mG\u001b[38;2;255;255;255m\u001b[38;2;0;100;0mE\u001b[38;2;255;255;255m\u001b[38;2;0;100;0mE\u001b[38;2;255;255;255m\u001b[38;2;0;100;0mE\u001b[38;2;255;255;255m\u001b[38;2;255;255;0mG\u001b[38;2;255;255;255m\u001b[38;2;255;255;0mG\u001b[38;2;255;255;255m\u001b[38;2;255;255;0mG\u001b[38;2;255;255;255m\u001b[38;2;194;225;5mF\u001b[38;2;255;255;255m\u001b[38;2;194;225;5mF\u001b[38;2;255;255;255m\u001b[38;2;0;100;0mE\u001b[38;2;255;255;255m\u001b[38;2;0;100;0mE\u001b[38;2;255;255;255m\u001b[38;2;0;100;0mE\u001b[38;2;255;255;255m\u001b[38;2;255;255;0mG\u001b[38;2;255;255;255m\u001b[38;2;255;255;0mG\u001b[38;2;255;255;255m\u001b[38;2;255;255;0mG\u001b[38;2;255;255;255m\u001b[38;2;255;255;0mG\u001b[38;2;255;255;255m\u001b[38;2;255;255;0mG\u001b[38;2;255;255;255m\u001b[38;2;0;100;0mE\u001b[38;2;255;255;255m\u001b[38;2;0;100;0mE\u001b[38;2;255;255;255m\u001b[38;2;0;128;0mD\u001b[38;2;255;255;255m\u001b[0;0m\n",
            "\u001b[1m\u001b[38;2;0;128;0mD\u001b[38;2;255;255;255m\u001b[38;2;0;128;0mD\u001b[38;2;255;255;255m\u001b[38;2;0;128;0mD\u001b[38;2;255;255;255m\u001b[38;2;0;128;0mD\u001b[38;2;255;255;255m\u001b[38;2;0;128;0mD\u001b[38;2;255;255;255m\u001b[38;2;0;128;0mD\u001b[38;2;255;255;255m\u001b[38;2;0;128;0mD\u001b[38;2;255;255;255m\u001b[38;2;0;128;0mD\u001b[38;2;255;255;255m\u001b[38;2;0;128;0mD\u001b[38;2;255;255;255m\u001b[38;2;0;128;0mD\u001b[38;2;255;255;255m\u001b[38;2;0;128;0mD\u001b[38;2;255;255;255m\u001b[38;2;0;128;0mD\u001b[38;2;255;255;255m\u001b[38;2;0;128;0mD\u001b[38;2;255;255;255m\u001b[38;2;0;128;0mD\u001b[38;2;255;255;255m\u001b[38;2;0;128;0mD\u001b[38;2;255;255;255m\u001b[38;2;0;128;0mD\u001b[38;2;255;255;255m\u001b[38;2;0;128;0mD\u001b[38;2;255;255;255m\u001b[38;2;0;128;0mD\u001b[38;2;255;255;255m\u001b[38;2;0;128;0mD\u001b[38;2;255;255;255m\u001b[38;2;0;128;0mD\u001b[38;2;255;255;255m\u001b[38;2;0;128;0mD\u001b[38;2;255;255;255m\u001b[38;2;0;128;0mD\u001b[38;2;255;255;255m\u001b[38;2;0;128;0mD\u001b[38;2;255;255;255m\u001b[38;2;0;128;0mD\u001b[38;2;255;255;255m\u001b[38;2;0;128;0mD\u001b[38;2;255;255;255m\u001b[38;2;0;128;0mD\u001b[38;2;255;255;255m\u001b[38;2;0;128;0mD\u001b[38;2;255;255;255m\u001b[38;2;0;128;0mD\u001b[38;2;255;255;255m\u001b[38;2;0;128;0mD\u001b[38;2;255;255;255m\u001b[38;2;0;128;0mD\u001b[38;2;255;255;255m\u001b[0;0m\n",
            "\u001b[1m\u001b[38;2;192;192;192mN\u001b[38;2;255;255;255m\u001b[38;2;128;128;128mM\u001b[38;2;255;255;255m\u001b[38;2;128;128;128mM\u001b[38;2;255;255;255m\u001b[38;2;128;128;128mM\u001b[38;2;255;255;255m\u001b[38;2;128;128;128mM\u001b[38;2;255;255;255m\u001b[38;2;189;183;107mL\u001b[38;2;255;255;255m\u001b[38;2;189;183;107mL\u001b[38;2;255;255;255m\u001b[38;2;233;150;122mK\u001b[38;2;255;255;255m\u001b[38;2;233;150;122mK\u001b[38;2;255;255;255m\u001b[38;2;205;92;92mJ\u001b[38;2;255;255;255m\u001b[38;2;255;0;0mA\u001b[38;2;255;255;255m\u001b[38;2;255;0;0mA\u001b[38;2;255;255;255m\u001b[38;2;255;0;0mA\u001b[38;2;255;255;255m\u001b[38;2;255;0;0mA\u001b[38;2;255;255;255m\u001b[38;2;255;0;0mA\u001b[38;2;255;255;255m\u001b[38;2;255;0;0mA\u001b[38;2;255;255;255m\u001b[38;2;255;69;0mB\u001b[38;2;255;255;255m\u001b[38;2;255;69;0mB\u001b[38;2;255;255;255m\u001b[38;2;255;255;0mG\u001b[38;2;255;255;255m\u001b[38;2;255;255;0mG\u001b[38;2;255;255;255m\u001b[38;2;255;255;0mG\u001b[38;2;255;255;255m\u001b[38;2;255;255;0mG\u001b[38;2;255;255;255m\u001b[38;2;255;255;0mG\u001b[38;2;255;255;255m\u001b[38;2;255;255;0mG\u001b[38;2;255;255;255m\u001b[38;2;255;255;0mG\u001b[38;2;255;255;255m\u001b[38;2;255;255;0mG\u001b[38;2;255;255;255m\u001b[38;2;255;255;0mG\u001b[38;2;255;255;255m\u001b[38;2;255;255;0mG\u001b[38;2;255;255;255m\u001b[38;2;0;100;0mE\u001b[38;2;255;255;255m\u001b[38;2;0;100;0mE\u001b[38;2;255;255;255m\u001b[0;0m\n",
            "\u001b[1m\u001b[38;2;0;100;0mE\u001b[38;2;255;255;255m\u001b[38;2;0;100;0mE\u001b[38;2;255;255;255m\u001b[38;2;0;100;0mE\u001b[38;2;255;255;255m\u001b[38;2;0;100;0mE\u001b[38;2;255;255;255m\u001b[38;2;0;100;0mE\u001b[38;2;255;255;255m\u001b[38;2;0;100;0mE\u001b[38;2;255;255;255m\u001b[38;2;0;100;0mE\u001b[38;2;255;255;255m\u001b[38;2;255;255;0mG\u001b[38;2;255;255;255m\u001b[38;2;255;0;0mA\u001b[38;2;255;255;255m\u001b[38;2;255;0;0mA\u001b[38;2;255;255;255m\u001b[38;2;255;0;0mA\u001b[38;2;255;255;255m\u001b[38;2;255;0;0mA\u001b[38;2;255;255;255m\u001b[38;2;255;0;0mA\u001b[38;2;255;255;255m\u001b[38;2;255;0;0mA\u001b[38;2;255;255;255m\u001b[38;2;255;0;0mA\u001b[38;2;255;255;255m\u001b[38;2;255;0;0mA\u001b[38;2;255;255;255m\u001b[38;2;255;0;0mA\u001b[38;2;255;255;255m\u001b[38;2;255;0;0mA\u001b[38;2;255;255;255m\u001b[38;2;255;0;0mA\u001b[38;2;255;255;255m\u001b[38;2;0;100;0mE\u001b[38;2;255;255;255m\u001b[38;2;0;100;0mE\u001b[38;2;255;255;255m\u001b[38;2;0;100;0mE\u001b[38;2;255;255;255m\u001b[38;2;0;100;0mE\u001b[38;2;255;255;255m\u001b[38;2;0;100;0mE\u001b[38;2;255;255;255m\u001b[38;2;0;100;0mE\u001b[38;2;255;255;255m\u001b[38;2;0;100;0mE\u001b[38;2;255;255;255m\u001b[38;2;0;100;0mE\u001b[38;2;255;255;255m\u001b[38;2;0;100;0mE\u001b[38;2;255;255;255m\u001b[38;2;0;100;0mE\u001b[38;2;255;255;255m\u001b[38;2;0;100;0mE\u001b[38;2;255;255;255m\u001b[0;0m\n",
            "\u001b[1m\u001b[38;2;240;240;240mO\u001b[38;2;255;255;255m\u001b[38;2;240;240;240mO\u001b[38;2;255;255;255m\u001b[38;2;0;100;0mE\u001b[38;2;255;255;255m\u001b[38;2;0;100;0mE\u001b[38;2;255;255;255m\u001b[38;2;240;240;240mO\u001b[38;2;255;255;255m\u001b[38;2;255;0;0mA\u001b[38;2;255;255;255m\u001b[38;2;255;0;0mA\u001b[38;2;255;255;255m\u001b[38;2;255;0;0mA\u001b[38;2;255;255;255m\u001b[38;2;255;0;0mA\u001b[38;2;255;255;255m\u001b[38;2;255;0;0mA\u001b[38;2;255;255;255m\u001b[38;2;255;0;0mA\u001b[38;2;255;255;255m\u001b[38;2;255;0;0mA\u001b[38;2;255;255;255m\u001b[38;2;255;0;0mA\u001b[38;2;255;255;255m\u001b[38;2;255;0;0mA\u001b[38;2;255;255;255m\u001b[38;2;255;0;0mA\u001b[38;2;255;255;255m\u001b[38;2;255;0;0mA\u001b[38;2;255;255;255m\u001b[38;2;255;0;0mA\u001b[38;2;255;255;255m\u001b[38;2;255;0;0mA\u001b[38;2;255;255;255m\u001b[38;2;255;0;0mA\u001b[38;2;255;255;255m\u001b[38;2;255;0;0mA\u001b[38;2;255;255;255m\u001b[38;2;255;0;0mA\u001b[38;2;255;255;255m\u001b[38;2;102;205;170mH\u001b[38;2;255;255;255m\u001b[38;2;102;205;170mH\u001b[38;2;255;255;255m\u001b[38;2;102;205;170mH\u001b[38;2;255;255;255m\u001b[38;2;102;205;170mH\u001b[38;2;255;255;255m\u001b[38;2;102;205;170mH\u001b[38;2;255;255;255m\u001b[38;2;102;205;170mH\u001b[38;2;255;255;255m\u001b[38;2;0;100;0mE\u001b[38;2;255;255;255m\u001b[38;2;0;100;0mE\u001b[38;2;255;255;255m\u001b[38;2;0;100;0mE\u001b[38;2;255;255;255m\u001b[0;0m\n",
            "\u001b[1m\u001b[38;2;255;69;0mB\u001b[38;2;255;255;255m\u001b[38;2;255;69;0mB\u001b[38;2;255;255;255m\u001b[38;2;255;69;0mB\u001b[38;2;255;255;255m\u001b[38;2;255;69;0mB\u001b[38;2;255;255;255m\u001b[38;2;255;69;0mB\u001b[38;2;255;255;255m\u001b[38;2;255;69;0mB\u001b[38;2;255;255;255m\u001b[38;2;255;69;0mB\u001b[38;2;255;255;255m\u001b[38;2;50;205;50mC\u001b[38;2;255;255;255m\u001b[38;2;50;205;50mC\u001b[38;2;255;255;255m\u001b[38;2;50;205;50mC\u001b[38;2;255;255;255m\u001b[38;2;50;205;50mC\u001b[38;2;255;255;255m\u001b[38;2;50;205;50mC\u001b[38;2;255;255;255m\u001b[38;2;50;205;50mC\u001b[38;2;255;255;255m\u001b[38;2;255;0;0mA\u001b[38;2;255;255;255m\u001b[38;2;255;0;0mA\u001b[38;2;255;255;255m\u001b[38;2;255;0;0mA\u001b[38;2;255;255;255m\u001b[38;2;255;0;0mA\u001b[38;2;255;255;255m\u001b[38;2;255;0;0mA\u001b[38;2;255;255;255m\u001b[38;2;255;0;0mA\u001b[38;2;255;255;255m\u001b[0;0m\n",
            "\u001b[1m\u001b[38;2;0;128;0mD\u001b[38;2;255;255;255m\u001b[38;2;0;128;0mD\u001b[38;2;255;255;255m\u001b[38;2;0;100;0mE\u001b[38;2;255;255;255m\u001b[38;2;0;100;0mE\u001b[38;2;255;255;255m\u001b[38;2;0;100;0mE\u001b[38;2;255;255;255m\u001b[38;2;0;100;0mE\u001b[38;2;255;255;255m\u001b[38;2;0;100;0mE\u001b[38;2;255;255;255m\u001b[38;2;0;100;0mE\u001b[38;2;255;255;255m\u001b[38;2;255;69;0mB\u001b[38;2;255;255;255m\u001b[38;2;255;69;0mB\u001b[38;2;255;255;255m\u001b[38;2;255;69;0mB\u001b[38;2;255;255;255m\u001b[38;2;255;0;0mA\u001b[38;2;255;255;255m\u001b[38;2;255;0;0mA\u001b[38;2;255;255;255m\u001b[38;2;255;0;0mA\u001b[38;2;255;255;255m\u001b[38;2;255;0;0mA\u001b[38;2;255;255;255m\u001b[38;2;255;0;0mA\u001b[38;2;255;255;255m\u001b[38;2;255;0;0mA\u001b[38;2;255;255;255m\u001b[38;2;255;69;0mB\u001b[38;2;255;255;255m\u001b[38;2;255;69;0mB\u001b[38;2;255;255;255m\u001b[38;2;255;255;0mG\u001b[38;2;255;255;255m\u001b[38;2;194;225;5mF\u001b[38;2;255;255;255m\u001b[38;2;194;225;5mF\u001b[38;2;255;255;255m\u001b[38;2;194;225;5mF\u001b[38;2;255;255;255m\u001b[38;2;194;225;5mF\u001b[38;2;255;255;255m\u001b[38;2;0;128;0mD\u001b[38;2;255;255;255m\u001b[38;2;0;128;0mD\u001b[38;2;255;255;255m\u001b[38;2;0;128;0mD\u001b[38;2;255;255;255m\u001b[38;2;0;128;0mD\u001b[38;2;255;255;255m\u001b[38;2;0;128;0mD\u001b[38;2;255;255;255m\u001b[38;2;0;100;0mE\u001b[38;2;255;255;255m\u001b[0;0m\n",
            "\u001b[1m\u001b[38;2;0;100;0mE\u001b[38;2;255;255;255m\u001b[38;2;255;255;0mG\u001b[38;2;255;255;255m\u001b[38;2;255;69;0mB\u001b[38;2;255;255;255m\u001b[38;2;255;69;0mB\u001b[38;2;255;255;255m\u001b[38;2;255;69;0mB\u001b[38;2;255;255;255m\u001b[38;2;255;0;0mA\u001b[38;2;255;255;255m\u001b[38;2;255;0;0mA\u001b[38;2;255;255;255m\u001b[38;2;255;0;0mA\u001b[38;2;255;255;255m\u001b[38;2;255;0;0mA\u001b[38;2;255;255;255m\u001b[38;2;255;0;0mA\u001b[38;2;255;255;255m\u001b[38;2;255;0;0mA\u001b[38;2;255;255;255m\u001b[38;2;255;0;0mA\u001b[38;2;255;255;255m\u001b[38;2;255;0;0mA\u001b[38;2;255;255;255m\u001b[38;2;255;0;0mA\u001b[38;2;255;255;255m\u001b[38;2;255;0;0mA\u001b[38;2;255;255;255m\u001b[38;2;255;0;0mA\u001b[38;2;255;255;255m\u001b[38;2;255;0;0mA\u001b[38;2;255;255;255m\u001b[38;2;255;0;0mA\u001b[38;2;255;255;255m\u001b[38;2;255;0;0mA\u001b[38;2;255;255;255m\u001b[38;2;255;0;0mA\u001b[38;2;255;255;255m\u001b[38;2;255;69;0mB\u001b[38;2;255;255;255m\u001b[38;2;0;100;0mE\u001b[38;2;255;255;255m\u001b[38;2;0;128;0mD\u001b[38;2;255;255;255m\u001b[38;2;0;128;0mD\u001b[38;2;255;255;255m\u001b[38;2;0;128;0mD\u001b[38;2;255;255;255m\u001b[38;2;0;128;0mD\u001b[38;2;255;255;255m\u001b[38;2;0;128;0mD\u001b[38;2;255;255;255m\u001b[38;2;0;128;0mD\u001b[38;2;255;255;255m\u001b[38;2;0;128;0mD\u001b[38;2;255;255;255m\u001b[38;2;0;128;0mD\u001b[38;2;255;255;255m\u001b[0;0m\n",
            "\u001b[1m\u001b[38;2;255;255;0mG\u001b[38;2;255;255;255m\u001b[38;2;255;255;0mG\u001b[38;2;255;255;255m\u001b[38;2;255;255;0mG\u001b[38;2;255;255;255m\u001b[38;2;255;255;0mG\u001b[38;2;255;255;255m\u001b[38;2;255;255;0mG\u001b[38;2;255;255;255m\u001b[38;2;255;255;0mG\u001b[38;2;255;255;255m\u001b[38;2;255;255;0mG\u001b[38;2;255;255;255m\u001b[38;2;255;0;0mA\u001b[38;2;255;255;255m\u001b[38;2;255;0;0mA\u001b[38;2;255;255;255m\u001b[38;2;255;0;0mA\u001b[38;2;255;255;255m\u001b[38;2;255;0;0mA\u001b[38;2;255;255;255m\u001b[38;2;255;0;0mA\u001b[38;2;255;255;255m\u001b[38;2;255;0;0mA\u001b[38;2;255;255;255m\u001b[38;2;255;0;0mA\u001b[38;2;255;255;255m\u001b[38;2;255;0;0mA\u001b[38;2;255;255;255m\u001b[38;2;255;0;0mA\u001b[38;2;255;255;255m\u001b[38;2;255;0;0mA\u001b[38;2;255;255;255m\u001b[38;2;255;0;0mA\u001b[38;2;255;255;255m\u001b[38;2;255;0;0mA\u001b[38;2;255;255;255m\u001b[38;2;255;0;0mA\u001b[38;2;255;255;255m\u001b[38;2;255;0;0mA\u001b[38;2;255;255;255m\u001b[38;2;255;0;0mA\u001b[38;2;255;255;255m\u001b[38;2;255;69;0mB\u001b[38;2;255;255;255m\u001b[38;2;255;0;0mA\u001b[38;2;255;255;255m\u001b[38;2;255;0;0mA\u001b[38;2;255;255;255m\u001b[38;2;255;255;0mG\u001b[38;2;255;255;255m\u001b[38;2;255;255;0mG\u001b[38;2;255;255;255m\u001b[38;2;255;255;0mG\u001b[38;2;255;255;255m\u001b[38;2;255;255;0mG\u001b[38;2;255;255;255m\u001b[38;2;255;255;0mG\u001b[38;2;255;255;255m\u001b[0;0m\n",
            "\u001b[1m\u001b[38;2;192;192;192mN\u001b[38;2;255;255;255m\u001b[38;2;192;192;192mN\u001b[38;2;255;255;255m\u001b[38;2;192;192;192mN\u001b[38;2;255;255;255m\u001b[38;2;192;192;192mN\u001b[38;2;255;255;255m\u001b[38;2;192;192;192mN\u001b[38;2;255;255;255m\u001b[38;2;192;192;192mN\u001b[38;2;255;255;255m\u001b[38;2;189;183;107mL\u001b[38;2;255;255;255m\u001b[38;2;189;183;107mL\u001b[38;2;255;255;255m\u001b[38;2;255;69;0mB\u001b[38;2;255;255;255m\u001b[38;2;255;0;0mA\u001b[38;2;255;255;255m\u001b[38;2;255;0;0mA\u001b[38;2;255;255;255m\u001b[38;2;255;0;0mA\u001b[38;2;255;255;255m\u001b[38;2;255;0;0mA\u001b[38;2;255;255;255m\u001b[38;2;255;0;0mA\u001b[38;2;255;255;255m\u001b[38;2;255;0;0mA\u001b[38;2;255;255;255m\u001b[38;2;255;0;0mA\u001b[38;2;255;255;255m\u001b[38;2;0;100;0mE\u001b[38;2;255;255;255m\u001b[38;2;0;100;0mE\u001b[38;2;255;255;255m\u001b[38;2;0;100;0mE\u001b[38;2;255;255;255m\u001b[38;2;0;100;0mE\u001b[38;2;255;255;255m\u001b[38;2;0;100;0mE\u001b[38;2;255;255;255m\u001b[38;2;0;100;0mE\u001b[38;2;255;255;255m\u001b[38;2;0;100;0mE\u001b[38;2;255;255;255m\u001b[38;2;0;100;0mE\u001b[38;2;255;255;255m\u001b[38;2;0;100;0mE\u001b[38;2;255;255;255m\u001b[38;2;0;100;0mE\u001b[38;2;255;255;255m\u001b[38;2;0;100;0mE\u001b[38;2;255;255;255m\u001b[38;2;0;100;0mE\u001b[38;2;255;255;255m\u001b[38;2;0;100;0mE\u001b[38;2;255;255;255m\u001b[38;2;0;100;0mE\u001b[38;2;255;255;255m\u001b[0;0m\n",
            "\u001b[1m\u001b[38;2;240;240;240mO\u001b[38;2;255;255;255m\u001b[38;2;240;240;240mO\u001b[38;2;255;255;255m\u001b[38;2;240;240;240mO\u001b[38;2;255;255;255m\u001b[38;2;240;240;240mO\u001b[38;2;255;255;255m\u001b[38;2;240;240;240mO\u001b[38;2;255;255;255m\u001b[38;2;240;240;240mO\u001b[38;2;255;255;255m\u001b[38;2;240;240;240mO\u001b[38;2;255;255;255m\u001b[38;2;240;240;240mO\u001b[38;2;255;255;255m\u001b[38;2;240;240;240mO\u001b[38;2;255;255;255m\u001b[38;2;240;240;240mO\u001b[38;2;255;255;255m\u001b[38;2;240;240;240mO\u001b[38;2;255;255;255m\u001b[38;2;240;240;240mO\u001b[38;2;255;255;255m\u001b[38;2;240;240;240mO\u001b[38;2;255;255;255m\u001b[38;2;240;240;240mO\u001b[38;2;255;255;255m\u001b[38;2;240;240;240mO\u001b[38;2;255;255;255m\u001b[38;2;240;240;240mO\u001b[38;2;255;255;255m\u001b[38;2;240;240;240mO\u001b[38;2;255;255;255m\u001b[38;2;240;240;240mO\u001b[38;2;255;255;255m\u001b[38;2;240;240;240mO\u001b[38;2;255;255;255m\u001b[38;2;240;240;240mO\u001b[38;2;255;255;255m\u001b[38;2;240;240;240mO\u001b[38;2;255;255;255m\u001b[38;2;240;240;240mO\u001b[38;2;255;255;255m\u001b[38;2;240;240;240mO\u001b[38;2;255;255;255m\u001b[38;2;240;240;240mO\u001b[38;2;255;255;255m\u001b[38;2;240;240;240mO\u001b[38;2;255;255;255m\u001b[38;2;240;240;240mO\u001b[38;2;255;255;255m\u001b[38;2;240;240;240mO\u001b[38;2;255;255;255m\u001b[38;2;240;240;240mO\u001b[38;2;255;255;255m\u001b[38;2;240;240;240mO\u001b[38;2;255;255;255m\u001b[38;2;240;240;240mO\u001b[38;2;255;255;255m\u001b[0;0m\n",
            "\u001b[1m\u001b[38;2;0;128;0mD\u001b[38;2;255;255;255m\u001b[38;2;0;128;0mD\u001b[38;2;255;255;255m\u001b[38;2;0;128;0mD\u001b[38;2;255;255;255m\u001b[38;2;0;128;0mD\u001b[38;2;255;255;255m\u001b[38;2;0;128;0mD\u001b[38;2;255;255;255m\u001b[38;2;0;128;0mD\u001b[38;2;255;255;255m\u001b[38;2;0;128;0mD\u001b[38;2;255;255;255m\u001b[38;2;0;128;0mD\u001b[38;2;255;255;255m\u001b[38;2;0;100;0mE\u001b[38;2;255;255;255m\u001b[38;2;0;100;0mE\u001b[38;2;255;255;255m\u001b[38;2;255;255;0mG\u001b[38;2;255;255;255m\u001b[38;2;255;69;0mB\u001b[38;2;255;255;255m\u001b[38;2;255;69;0mB\u001b[38;2;255;255;255m\u001b[38;2;255;0;0mA\u001b[38;2;255;255;255m\u001b[38;2;255;0;0mA\u001b[38;2;255;255;255m\u001b[38;2;255;0;0mA\u001b[38;2;255;255;255m\u001b[38;2;255;0;0mA\u001b[38;2;255;255;255m\u001b[38;2;255;0;0mA\u001b[38;2;255;255;255m\u001b[38;2;255;69;0mB\u001b[38;2;255;255;255m\u001b[38;2;255;255;0mG\u001b[38;2;255;255;255m\u001b[38;2;255;255;0mG\u001b[38;2;255;255;255m\u001b[38;2;255;255;0mG\u001b[38;2;255;255;255m\u001b[0;0m\n"
          ]
        }
      ],
      "source": [
        "# Print the chromatin state patterns of the first 25 promoters associated with highly-expressed genes on chromosome 1\n",
        "for i in range(25):\n",
        "  entry_high=prom_highly_expressed[0][i]\n",
        "  crb.colored_css_str_as_is(entry_high)"
      ]
    },
    {
      "cell_type": "code",
      "execution_count": null,
      "metadata": {
        "colab": {
          "base_uri": "https://localhost:8080/"
        },
        "id": "TSfDB2z516lC",
        "outputId": "83e4f622-3070-4fa0-987b-334a140fd7a7"
      },
      "outputs": [
        {
          "output_type": "stream",
          "name": "stdout",
          "text": [
            "\u001b[1m\u001b[38;2;240;240;240mO\u001b[38;2;255;255;255m\u001b[38;2;240;240;240mO\u001b[38;2;255;255;255m\u001b[38;2;240;240;240mO\u001b[38;2;255;255;255m\u001b[38;2;240;240;240mO\u001b[38;2;255;255;255m\u001b[38;2;240;240;240mO\u001b[38;2;255;255;255m\u001b[38;2;240;240;240mO\u001b[38;2;255;255;255m\u001b[38;2;240;240;240mO\u001b[38;2;255;255;255m\u001b[38;2;240;240;240mO\u001b[38;2;255;255;255m\u001b[38;2;240;240;240mO\u001b[38;2;255;255;255m\u001b[38;2;240;240;240mO\u001b[38;2;255;255;255m\u001b[38;2;240;240;240mO\u001b[38;2;255;255;255m\u001b[38;2;240;240;240mO\u001b[38;2;255;255;255m\u001b[38;2;240;240;240mO\u001b[38;2;255;255;255m\u001b[38;2;240;240;240mO\u001b[38;2;255;255;255m\u001b[38;2;240;240;240mO\u001b[38;2;255;255;255m\u001b[0;0m\n",
            "\u001b[1m\u001b[38;2;240;240;240mO\u001b[38;2;255;255;255m\u001b[38;2;240;240;240mO\u001b[38;2;255;255;255m\u001b[38;2;240;240;240mO\u001b[38;2;255;255;255m\u001b[38;2;240;240;240mO\u001b[38;2;255;255;255m\u001b[38;2;240;240;240mO\u001b[38;2;255;255;255m\u001b[38;2;240;240;240mO\u001b[38;2;255;255;255m\u001b[38;2;240;240;240mO\u001b[38;2;255;255;255m\u001b[38;2;240;240;240mO\u001b[38;2;255;255;255m\u001b[38;2;240;240;240mO\u001b[38;2;255;255;255m\u001b[38;2;240;240;240mO\u001b[38;2;255;255;255m\u001b[38;2;240;240;240mO\u001b[38;2;255;255;255m\u001b[38;2;240;240;240mO\u001b[38;2;255;255;255m\u001b[38;2;240;240;240mO\u001b[38;2;255;255;255m\u001b[38;2;240;240;240mO\u001b[38;2;255;255;255m\u001b[38;2;240;240;240mO\u001b[38;2;255;255;255m\u001b[0;0m\n",
            "\u001b[1m\u001b[38;2;192;192;192mN\u001b[38;2;255;255;255m\u001b[38;2;192;192;192mN\u001b[38;2;255;255;255m\u001b[38;2;192;192;192mN\u001b[38;2;255;255;255m\u001b[38;2;192;192;192mN\u001b[38;2;255;255;255m\u001b[38;2;192;192;192mN\u001b[38;2;255;255;255m\u001b[38;2;192;192;192mN\u001b[38;2;255;255;255m\u001b[38;2;192;192;192mN\u001b[38;2;255;255;255m\u001b[38;2;192;192;192mN\u001b[38;2;255;255;255m\u001b[38;2;192;192;192mN\u001b[38;2;255;255;255m\u001b[38;2;192;192;192mN\u001b[38;2;255;255;255m\u001b[38;2;192;192;192mN\u001b[38;2;255;255;255m\u001b[38;2;192;192;192mN\u001b[38;2;255;255;255m\u001b[38;2;189;183;107mL\u001b[38;2;255;255;255m\u001b[38;2;255;69;0mB\u001b[38;2;255;255;255m\u001b[38;2;255;69;0mB\u001b[38;2;255;255;255m\u001b[38;2;255;69;0mB\u001b[38;2;255;255;255m\u001b[38;2;255;255;0mG\u001b[38;2;255;255;255m\u001b[38;2;192;192;192mN\u001b[38;2;255;255;255m\u001b[38;2;192;192;192mN\u001b[38;2;255;255;255m\u001b[38;2;192;192;192mN\u001b[38;2;255;255;255m\u001b[38;2;192;192;192mN\u001b[38;2;255;255;255m\u001b[38;2;192;192;192mN\u001b[38;2;255;255;255m\u001b[38;2;192;192;192mN\u001b[38;2;255;255;255m\u001b[38;2;192;192;192mN\u001b[38;2;255;255;255m\u001b[38;2;192;192;192mN\u001b[38;2;255;255;255m\u001b[38;2;192;192;192mN\u001b[38;2;255;255;255m\u001b[38;2;192;192;192mN\u001b[38;2;255;255;255m\u001b[38;2;192;192;192mN\u001b[38;2;255;255;255m\u001b[38;2;192;192;192mN\u001b[38;2;255;255;255m\u001b[38;2;192;192;192mN\u001b[38;2;255;255;255m\u001b[0;0m\n",
            "\u001b[1m\u001b[38;2;128;128;128mM\u001b[38;2;255;255;255m\u001b[38;2;128;128;128mM\u001b[38;2;255;255;255m\u001b[38;2;128;128;128mM\u001b[38;2;255;255;255m\u001b[38;2;128;128;128mM\u001b[38;2;255;255;255m\u001b[38;2;205;92;92mJ\u001b[38;2;255;255;255m\u001b[38;2;205;92;92mJ\u001b[38;2;255;255;255m\u001b[38;2;205;92;92mJ\u001b[38;2;255;255;255m\u001b[38;2;205;92;92mJ\u001b[38;2;255;255;255m\u001b[38;2;205;92;92mJ\u001b[38;2;255;255;255m\u001b[38;2;205;92;92mJ\u001b[38;2;255;255;255m\u001b[38;2;205;92;92mJ\u001b[38;2;255;255;255m\u001b[38;2;233;150;122mK\u001b[38;2;255;255;255m\u001b[38;2;233;150;122mK\u001b[38;2;255;255;255m\u001b[38;2;128;128;128mM\u001b[38;2;255;255;255m\u001b[38;2;128;128;128mM\u001b[38;2;255;255;255m\u001b[38;2;128;128;128mM\u001b[38;2;255;255;255m\u001b[38;2;128;128;128mM\u001b[38;2;255;255;255m\u001b[38;2;128;128;128mM\u001b[38;2;255;255;255m\u001b[38;2;128;128;128mM\u001b[38;2;255;255;255m\u001b[38;2;128;128;128mM\u001b[38;2;255;255;255m\u001b[0;0m\n",
            "\u001b[1m\u001b[38;2;0;100;0mE\u001b[38;2;255;255;255m\u001b[38;2;0;100;0mE\u001b[38;2;255;255;255m\u001b[38;2;0;100;0mE\u001b[38;2;255;255;255m\u001b[38;2;0;100;0mE\u001b[38;2;255;255;255m\u001b[38;2;0;100;0mE\u001b[38;2;255;255;255m\u001b[38;2;0;100;0mE\u001b[38;2;255;255;255m\u001b[38;2;0;100;0mE\u001b[38;2;255;255;255m\u001b[38;2;0;100;0mE\u001b[38;2;255;255;255m\u001b[38;2;0;100;0mE\u001b[38;2;255;255;255m\u001b[38;2;0;100;0mE\u001b[38;2;255;255;255m\u001b[38;2;0;100;0mE\u001b[38;2;255;255;255m\u001b[38;2;0;100;0mE\u001b[38;2;255;255;255m\u001b[38;2;0;128;0mD\u001b[38;2;255;255;255m\u001b[38;2;0;128;0mD\u001b[38;2;255;255;255m\u001b[38;2;0;128;0mD\u001b[38;2;255;255;255m\u001b[38;2;0;128;0mD\u001b[38;2;255;255;255m\u001b[38;2;0;128;0mD\u001b[38;2;255;255;255m\u001b[38;2;0;128;0mD\u001b[38;2;255;255;255m\u001b[38;2;0;128;0mD\u001b[38;2;255;255;255m\u001b[38;2;0;128;0mD\u001b[38;2;255;255;255m\u001b[38;2;0;128;0mD\u001b[38;2;255;255;255m\u001b[38;2;0;128;0mD\u001b[38;2;255;255;255m\u001b[38;2;0;128;0mD\u001b[38;2;255;255;255m\u001b[38;2;0;128;0mD\u001b[38;2;255;255;255m\u001b[38;2;0;128;0mD\u001b[38;2;255;255;255m\u001b[38;2;0;128;0mD\u001b[38;2;255;255;255m\u001b[38;2;0;128;0mD\u001b[38;2;255;255;255m\u001b[38;2;0;128;0mD\u001b[38;2;255;255;255m\u001b[38;2;0;128;0mD\u001b[38;2;255;255;255m\u001b[38;2;0;128;0mD\u001b[38;2;255;255;255m\u001b[0;0m\n",
            "\u001b[1m\u001b[38;2;0;128;0mD\u001b[38;2;255;255;255m\u001b[38;2;0;128;0mD\u001b[38;2;255;255;255m\u001b[38;2;0;128;0mD\u001b[38;2;255;255;255m\u001b[38;2;0;128;0mD\u001b[38;2;255;255;255m\u001b[38;2;0;128;0mD\u001b[38;2;255;255;255m\u001b[38;2;0;128;0mD\u001b[38;2;255;255;255m\u001b[38;2;0;128;0mD\u001b[38;2;255;255;255m\u001b[38;2;0;128;0mD\u001b[38;2;255;255;255m\u001b[38;2;0;128;0mD\u001b[38;2;255;255;255m\u001b[38;2;0;128;0mD\u001b[38;2;255;255;255m\u001b[38;2;0;128;0mD\u001b[38;2;255;255;255m\u001b[38;2;0;128;0mD\u001b[38;2;255;255;255m\u001b[38;2;0;128;0mD\u001b[38;2;255;255;255m\u001b[38;2;0;128;0mD\u001b[38;2;255;255;255m\u001b[38;2;0;128;0mD\u001b[38;2;255;255;255m\u001b[38;2;0;128;0mD\u001b[38;2;255;255;255m\u001b[38;2;0;128;0mD\u001b[38;2;255;255;255m\u001b[38;2;0;128;0mD\u001b[38;2;255;255;255m\u001b[38;2;0;128;0mD\u001b[38;2;255;255;255m\u001b[38;2;0;128;0mD\u001b[38;2;255;255;255m\u001b[0;0m\n",
            "\u001b[1m\u001b[38;2;240;240;240mO\u001b[38;2;255;255;255m\u001b[38;2;240;240;240mO\u001b[38;2;255;255;255m\u001b[38;2;240;240;240mO\u001b[38;2;255;255;255m\u001b[38;2;240;240;240mO\u001b[38;2;255;255;255m\u001b[38;2;240;240;240mO\u001b[38;2;255;255;255m\u001b[38;2;240;240;240mO\u001b[38;2;255;255;255m\u001b[38;2;240;240;240mO\u001b[38;2;255;255;255m\u001b[38;2;240;240;240mO\u001b[38;2;255;255;255m\u001b[38;2;240;240;240mO\u001b[38;2;255;255;255m\u001b[38;2;240;240;240mO\u001b[38;2;255;255;255m\u001b[38;2;240;240;240mO\u001b[38;2;255;255;255m\u001b[38;2;240;240;240mO\u001b[38;2;255;255;255m\u001b[38;2;138;145;208mI\u001b[38;2;255;255;255m\u001b[38;2;138;145;208mI\u001b[38;2;255;255;255m\u001b[38;2;138;145;208mI\u001b[38;2;255;255;255m\u001b[38;2;138;145;208mI\u001b[38;2;255;255;255m\u001b[38;2;138;145;208mI\u001b[38;2;255;255;255m\u001b[38;2;138;145;208mI\u001b[38;2;255;255;255m\u001b[38;2;138;145;208mI\u001b[38;2;255;255;255m\u001b[38;2;138;145;208mI\u001b[38;2;255;255;255m\u001b[38;2;138;145;208mI\u001b[38;2;255;255;255m\u001b[38;2;138;145;208mI\u001b[38;2;255;255;255m\u001b[38;2;138;145;208mI\u001b[38;2;255;255;255m\u001b[38;2;138;145;208mI\u001b[38;2;255;255;255m\u001b[38;2;138;145;208mI\u001b[38;2;255;255;255m\u001b[38;2;138;145;208mI\u001b[38;2;255;255;255m\u001b[38;2;138;145;208mI\u001b[38;2;255;255;255m\u001b[38;2;138;145;208mI\u001b[38;2;255;255;255m\u001b[38;2;138;145;208mI\u001b[38;2;255;255;255m\u001b[38;2;138;145;208mI\u001b[38;2;255;255;255m\u001b[0;0m\n",
            "\u001b[1m\u001b[38;2;240;240;240mO\u001b[38;2;255;255;255m\u001b[38;2;240;240;240mO\u001b[38;2;255;255;255m\u001b[38;2;240;240;240mO\u001b[38;2;255;255;255m\u001b[38;2;240;240;240mO\u001b[38;2;255;255;255m\u001b[38;2;240;240;240mO\u001b[38;2;255;255;255m\u001b[38;2;240;240;240mO\u001b[38;2;255;255;255m\u001b[38;2;240;240;240mO\u001b[38;2;255;255;255m\u001b[38;2;240;240;240mO\u001b[38;2;255;255;255m\u001b[38;2;240;240;240mO\u001b[38;2;255;255;255m\u001b[38;2;240;240;240mO\u001b[38;2;255;255;255m\u001b[38;2;240;240;240mO\u001b[38;2;255;255;255m\u001b[38;2;240;240;240mO\u001b[38;2;255;255;255m\u001b[38;2;240;240;240mO\u001b[38;2;255;255;255m\u001b[38;2;240;240;240mO\u001b[38;2;255;255;255m\u001b[38;2;240;240;240mO\u001b[38;2;255;255;255m\u001b[38;2;240;240;240mO\u001b[38;2;255;255;255m\u001b[38;2;138;145;208mI\u001b[38;2;255;255;255m\u001b[38;2;138;145;208mI\u001b[38;2;255;255;255m\u001b[38;2;138;145;208mI\u001b[38;2;255;255;255m\u001b[38;2;138;145;208mI\u001b[38;2;255;255;255m\u001b[38;2;138;145;208mI\u001b[38;2;255;255;255m\u001b[38;2;138;145;208mI\u001b[38;2;255;255;255m\u001b[38;2;138;145;208mI\u001b[38;2;255;255;255m\u001b[38;2;138;145;208mI\u001b[38;2;255;255;255m\u001b[38;2;138;145;208mI\u001b[38;2;255;255;255m\u001b[38;2;138;145;208mI\u001b[38;2;255;255;255m\u001b[38;2;138;145;208mI\u001b[38;2;255;255;255m\u001b[38;2;138;145;208mI\u001b[38;2;255;255;255m\u001b[38;2;138;145;208mI\u001b[38;2;255;255;255m\u001b[38;2;138;145;208mI\u001b[38;2;255;255;255m\u001b[0;0m\n",
            "\u001b[1m\u001b[38;2;138;145;208mI\u001b[38;2;255;255;255m\u001b[38;2;138;145;208mI\u001b[38;2;255;255;255m\u001b[38;2;138;145;208mI\u001b[38;2;255;255;255m\u001b[38;2;240;240;240mO\u001b[38;2;255;255;255m\u001b[38;2;240;240;240mO\u001b[38;2;255;255;255m\u001b[38;2;240;240;240mO\u001b[38;2;255;255;255m\u001b[38;2;240;240;240mO\u001b[38;2;255;255;255m\u001b[38;2;240;240;240mO\u001b[38;2;255;255;255m\u001b[38;2;240;240;240mO\u001b[38;2;255;255;255m\u001b[38;2;240;240;240mO\u001b[38;2;255;255;255m\u001b[38;2;240;240;240mO\u001b[38;2;255;255;255m\u001b[38;2;138;145;208mI\u001b[38;2;255;255;255m\u001b[38;2;138;145;208mI\u001b[38;2;255;255;255m\u001b[38;2;138;145;208mI\u001b[38;2;255;255;255m\u001b[38;2;138;145;208mI\u001b[38;2;255;255;255m\u001b[38;2;138;145;208mI\u001b[38;2;255;255;255m\u001b[38;2;138;145;208mI\u001b[38;2;255;255;255m\u001b[0;0m\n",
            "\u001b[1m\u001b[38;2;138;145;208mI\u001b[38;2;255;255;255m\u001b[38;2;138;145;208mI\u001b[38;2;255;255;255m\u001b[38;2;138;145;208mI\u001b[38;2;255;255;255m\u001b[38;2;138;145;208mI\u001b[38;2;255;255;255m\u001b[38;2;138;145;208mI\u001b[38;2;255;255;255m\u001b[38;2;138;145;208mI\u001b[38;2;255;255;255m\u001b[38;2;138;145;208mI\u001b[38;2;255;255;255m\u001b[38;2;138;145;208mI\u001b[38;2;255;255;255m\u001b[38;2;138;145;208mI\u001b[38;2;255;255;255m\u001b[38;2;138;145;208mI\u001b[38;2;255;255;255m\u001b[38;2;138;145;208mI\u001b[38;2;255;255;255m\u001b[38;2;138;145;208mI\u001b[38;2;255;255;255m\u001b[38;2;138;145;208mI\u001b[38;2;255;255;255m\u001b[38;2;138;145;208mI\u001b[38;2;255;255;255m\u001b[38;2;138;145;208mI\u001b[38;2;255;255;255m\u001b[38;2;138;145;208mI\u001b[38;2;255;255;255m\u001b[38;2;138;145;208mI\u001b[38;2;255;255;255m\u001b[38;2;138;145;208mI\u001b[38;2;255;255;255m\u001b[38;2;138;145;208mI\u001b[38;2;255;255;255m\u001b[38;2;138;145;208mI\u001b[38;2;255;255;255m\u001b[38;2;138;145;208mI\u001b[38;2;255;255;255m\u001b[38;2;138;145;208mI\u001b[38;2;255;255;255m\u001b[38;2;138;145;208mI\u001b[38;2;255;255;255m\u001b[38;2;138;145;208mI\u001b[38;2;255;255;255m\u001b[38;2;138;145;208mI\u001b[38;2;255;255;255m\u001b[38;2;138;145;208mI\u001b[38;2;255;255;255m\u001b[38;2;138;145;208mI\u001b[38;2;255;255;255m\u001b[38;2;138;145;208mI\u001b[38;2;255;255;255m\u001b[38;2;138;145;208mI\u001b[38;2;255;255;255m\u001b[38;2;138;145;208mI\u001b[38;2;255;255;255m\u001b[0;0m\n",
            "\u001b[1m\u001b[38;2;240;240;240mO\u001b[38;2;255;255;255m\u001b[38;2;240;240;240mO\u001b[38;2;255;255;255m\u001b[38;2;240;240;240mO\u001b[38;2;255;255;255m\u001b[38;2;240;240;240mO\u001b[38;2;255;255;255m\u001b[38;2;240;240;240mO\u001b[38;2;255;255;255m\u001b[38;2;240;240;240mO\u001b[38;2;255;255;255m\u001b[38;2;240;240;240mO\u001b[38;2;255;255;255m\u001b[38;2;240;240;240mO\u001b[38;2;255;255;255m\u001b[38;2;240;240;240mO\u001b[38;2;255;255;255m\u001b[38;2;240;240;240mO\u001b[38;2;255;255;255m\u001b[38;2;240;240;240mO\u001b[38;2;255;255;255m\u001b[38;2;240;240;240mO\u001b[38;2;255;255;255m\u001b[38;2;138;145;208mI\u001b[38;2;255;255;255m\u001b[38;2;138;145;208mI\u001b[38;2;255;255;255m\u001b[38;2;138;145;208mI\u001b[38;2;255;255;255m\u001b[38;2;138;145;208mI\u001b[38;2;255;255;255m\u001b[38;2;138;145;208mI\u001b[38;2;255;255;255m\u001b[38;2;138;145;208mI\u001b[38;2;255;255;255m\u001b[38;2;138;145;208mI\u001b[38;2;255;255;255m\u001b[38;2;138;145;208mI\u001b[38;2;255;255;255m\u001b[38;2;138;145;208mI\u001b[38;2;255;255;255m\u001b[38;2;138;145;208mI\u001b[38;2;255;255;255m\u001b[38;2;138;145;208mI\u001b[38;2;255;255;255m\u001b[38;2;138;145;208mI\u001b[38;2;255;255;255m\u001b[38;2;138;145;208mI\u001b[38;2;255;255;255m\u001b[38;2;138;145;208mI\u001b[38;2;255;255;255m\u001b[38;2;138;145;208mI\u001b[38;2;255;255;255m\u001b[38;2;138;145;208mI\u001b[38;2;255;255;255m\u001b[38;2;138;145;208mI\u001b[38;2;255;255;255m\u001b[38;2;138;145;208mI\u001b[38;2;255;255;255m\u001b[0;0m\n",
            "\u001b[1m\u001b[38;2;240;240;240mO\u001b[38;2;255;255;255m\u001b[38;2;240;240;240mO\u001b[38;2;255;255;255m\u001b[38;2;240;240;240mO\u001b[38;2;255;255;255m\u001b[38;2;240;240;240mO\u001b[38;2;255;255;255m\u001b[38;2;240;240;240mO\u001b[38;2;255;255;255m\u001b[38;2;240;240;240mO\u001b[38;2;255;255;255m\u001b[38;2;240;240;240mO\u001b[38;2;255;255;255m\u001b[38;2;240;240;240mO\u001b[38;2;255;255;255m\u001b[38;2;240;240;240mO\u001b[38;2;255;255;255m\u001b[38;2;240;240;240mO\u001b[38;2;255;255;255m\u001b[38;2;240;240;240mO\u001b[38;2;255;255;255m\u001b[38;2;240;240;240mO\u001b[38;2;255;255;255m\u001b[38;2;240;240;240mO\u001b[38;2;255;255;255m\u001b[38;2;240;240;240mO\u001b[38;2;255;255;255m\u001b[38;2;240;240;240mO\u001b[38;2;255;255;255m\u001b[38;2;240;240;240mO\u001b[38;2;255;255;255m\u001b[38;2;240;240;240mO\u001b[38;2;255;255;255m\u001b[38;2;240;240;240mO\u001b[38;2;255;255;255m\u001b[38;2;240;240;240mO\u001b[38;2;255;255;255m\u001b[38;2;240;240;240mO\u001b[38;2;255;255;255m\u001b[38;2;240;240;240mO\u001b[38;2;255;255;255m\u001b[38;2;240;240;240mO\u001b[38;2;255;255;255m\u001b[38;2;240;240;240mO\u001b[38;2;255;255;255m\u001b[38;2;240;240;240mO\u001b[38;2;255;255;255m\u001b[38;2;240;240;240mO\u001b[38;2;255;255;255m\u001b[38;2;240;240;240mO\u001b[38;2;255;255;255m\u001b[38;2;240;240;240mO\u001b[38;2;255;255;255m\u001b[38;2;240;240;240mO\u001b[38;2;255;255;255m\u001b[38;2;240;240;240mO\u001b[38;2;255;255;255m\u001b[38;2;240;240;240mO\u001b[38;2;255;255;255m\u001b[0;0m\n",
            "\u001b[1m\u001b[38;2;240;240;240mO\u001b[38;2;255;255;255m\u001b[38;2;240;240;240mO\u001b[38;2;255;255;255m\u001b[38;2;240;240;240mO\u001b[38;2;255;255;255m\u001b[38;2;240;240;240mO\u001b[38;2;255;255;255m\u001b[38;2;240;240;240mO\u001b[38;2;255;255;255m\u001b[38;2;240;240;240mO\u001b[38;2;255;255;255m\u001b[38;2;240;240;240mO\u001b[38;2;255;255;255m\u001b[38;2;240;240;240mO\u001b[38;2;255;255;255m\u001b[38;2;240;240;240mO\u001b[38;2;255;255;255m\u001b[38;2;240;240;240mO\u001b[38;2;255;255;255m\u001b[38;2;240;240;240mO\u001b[38;2;255;255;255m\u001b[38;2;240;240;240mO\u001b[38;2;255;255;255m\u001b[38;2;240;240;240mO\u001b[38;2;255;255;255m\u001b[38;2;240;240;240mO\u001b[38;2;255;255;255m\u001b[38;2;240;240;240mO\u001b[38;2;255;255;255m\u001b[38;2;240;240;240mO\u001b[38;2;255;255;255m\u001b[38;2;240;240;240mO\u001b[38;2;255;255;255m\u001b[38;2;240;240;240mO\u001b[38;2;255;255;255m\u001b[38;2;240;240;240mO\u001b[38;2;255;255;255m\u001b[38;2;240;240;240mO\u001b[38;2;255;255;255m\u001b[38;2;240;240;240mO\u001b[38;2;255;255;255m\u001b[38;2;240;240;240mO\u001b[38;2;255;255;255m\u001b[38;2;240;240;240mO\u001b[38;2;255;255;255m\u001b[38;2;240;240;240mO\u001b[38;2;255;255;255m\u001b[38;2;240;240;240mO\u001b[38;2;255;255;255m\u001b[38;2;138;145;208mI\u001b[38;2;255;255;255m\u001b[38;2;138;145;208mI\u001b[38;2;255;255;255m\u001b[38;2;138;145;208mI\u001b[38;2;255;255;255m\u001b[38;2;138;145;208mI\u001b[38;2;255;255;255m\u001b[38;2;240;240;240mO\u001b[38;2;255;255;255m\u001b[0;0m\n",
            "\u001b[1m\u001b[38;2;240;240;240mO\u001b[38;2;255;255;255m\u001b[38;2;240;240;240mO\u001b[38;2;255;255;255m\u001b[38;2;240;240;240mO\u001b[38;2;255;255;255m\u001b[38;2;240;240;240mO\u001b[38;2;255;255;255m\u001b[38;2;240;240;240mO\u001b[38;2;255;255;255m\u001b[38;2;240;240;240mO\u001b[38;2;255;255;255m\u001b[38;2;240;240;240mO\u001b[38;2;255;255;255m\u001b[38;2;240;240;240mO\u001b[38;2;255;255;255m\u001b[38;2;240;240;240mO\u001b[38;2;255;255;255m\u001b[38;2;240;240;240mO\u001b[38;2;255;255;255m\u001b[38;2;240;240;240mO\u001b[38;2;255;255;255m\u001b[38;2;240;240;240mO\u001b[38;2;255;255;255m\u001b[38;2;240;240;240mO\u001b[38;2;255;255;255m\u001b[38;2;240;240;240mO\u001b[38;2;255;255;255m\u001b[38;2;240;240;240mO\u001b[38;2;255;255;255m\u001b[38;2;240;240;240mO\u001b[38;2;255;255;255m\u001b[38;2;240;240;240mO\u001b[38;2;255;255;255m\u001b[38;2;240;240;240mO\u001b[38;2;255;255;255m\u001b[38;2;240;240;240mO\u001b[38;2;255;255;255m\u001b[38;2;240;240;240mO\u001b[38;2;255;255;255m\u001b[38;2;240;240;240mO\u001b[38;2;255;255;255m\u001b[38;2;240;240;240mO\u001b[38;2;255;255;255m\u001b[38;2;240;240;240mO\u001b[38;2;255;255;255m\u001b[38;2;240;240;240mO\u001b[38;2;255;255;255m\u001b[38;2;240;240;240mO\u001b[38;2;255;255;255m\u001b[38;2;240;240;240mO\u001b[38;2;255;255;255m\u001b[38;2;240;240;240mO\u001b[38;2;255;255;255m\u001b[38;2;240;240;240mO\u001b[38;2;255;255;255m\u001b[38;2;240;240;240mO\u001b[38;2;255;255;255m\u001b[38;2;240;240;240mO\u001b[38;2;255;255;255m\u001b[0;0m\n",
            "\u001b[1m\u001b[38;2;240;240;240mO\u001b[38;2;255;255;255m\u001b[38;2;240;240;240mO\u001b[38;2;255;255;255m\u001b[38;2;240;240;240mO\u001b[38;2;255;255;255m\u001b[38;2;240;240;240mO\u001b[38;2;255;255;255m\u001b[38;2;240;240;240mO\u001b[38;2;255;255;255m\u001b[38;2;240;240;240mO\u001b[38;2;255;255;255m\u001b[38;2;240;240;240mO\u001b[38;2;255;255;255m\u001b[38;2;240;240;240mO\u001b[38;2;255;255;255m\u001b[38;2;240;240;240mO\u001b[38;2;255;255;255m\u001b[38;2;240;240;240mO\u001b[38;2;255;255;255m\u001b[38;2;240;240;240mO\u001b[38;2;255;255;255m\u001b[38;2;240;240;240mO\u001b[38;2;255;255;255m\u001b[38;2;240;240;240mO\u001b[38;2;255;255;255m\u001b[38;2;240;240;240mO\u001b[38;2;255;255;255m\u001b[38;2;240;240;240mO\u001b[38;2;255;255;255m\u001b[38;2;240;240;240mO\u001b[38;2;255;255;255m\u001b[38;2;240;240;240mO\u001b[38;2;255;255;255m\u001b[38;2;240;240;240mO\u001b[38;2;255;255;255m\u001b[38;2;240;240;240mO\u001b[38;2;255;255;255m\u001b[38;2;240;240;240mO\u001b[38;2;255;255;255m\u001b[38;2;240;240;240mO\u001b[38;2;255;255;255m\u001b[38;2;240;240;240mO\u001b[38;2;255;255;255m\u001b[38;2;240;240;240mO\u001b[38;2;255;255;255m\u001b[38;2;240;240;240mO\u001b[38;2;255;255;255m\u001b[0;0m\n",
            "\u001b[1m\u001b[38;2;240;240;240mO\u001b[38;2;255;255;255m\u001b[38;2;240;240;240mO\u001b[38;2;255;255;255m\u001b[38;2;240;240;240mO\u001b[38;2;255;255;255m\u001b[38;2;240;240;240mO\u001b[38;2;255;255;255m\u001b[38;2;240;240;240mO\u001b[38;2;255;255;255m\u001b[38;2;240;240;240mO\u001b[38;2;255;255;255m\u001b[38;2;240;240;240mO\u001b[38;2;255;255;255m\u001b[38;2;240;240;240mO\u001b[38;2;255;255;255m\u001b[38;2;240;240;240mO\u001b[38;2;255;255;255m\u001b[38;2;240;240;240mO\u001b[38;2;255;255;255m\u001b[38;2;240;240;240mO\u001b[38;2;255;255;255m\u001b[38;2;240;240;240mO\u001b[38;2;255;255;255m\u001b[38;2;240;240;240mO\u001b[38;2;255;255;255m\u001b[0;0m\n",
            "\u001b[1m\u001b[38;2;240;240;240mO\u001b[38;2;255;255;255m\u001b[38;2;240;240;240mO\u001b[38;2;255;255;255m\u001b[38;2;240;240;240mO\u001b[38;2;255;255;255m\u001b[38;2;240;240;240mO\u001b[38;2;255;255;255m\u001b[38;2;240;240;240mO\u001b[38;2;255;255;255m\u001b[38;2;240;240;240mO\u001b[38;2;255;255;255m\u001b[38;2;240;240;240mO\u001b[38;2;255;255;255m\u001b[38;2;240;240;240mO\u001b[38;2;255;255;255m\u001b[38;2;240;240;240mO\u001b[38;2;255;255;255m\u001b[38;2;240;240;240mO\u001b[38;2;255;255;255m\u001b[38;2;240;240;240mO\u001b[38;2;255;255;255m\u001b[38;2;240;240;240mO\u001b[38;2;255;255;255m\u001b[38;2;240;240;240mO\u001b[38;2;255;255;255m\u001b[38;2;240;240;240mO\u001b[38;2;255;255;255m\u001b[38;2;240;240;240mO\u001b[38;2;255;255;255m\u001b[38;2;240;240;240mO\u001b[38;2;255;255;255m\u001b[38;2;240;240;240mO\u001b[38;2;255;255;255m\u001b[38;2;138;145;208mI\u001b[38;2;255;255;255m\u001b[38;2;138;145;208mI\u001b[38;2;255;255;255m\u001b[38;2;138;145;208mI\u001b[38;2;255;255;255m\u001b[38;2;138;145;208mI\u001b[38;2;255;255;255m\u001b[38;2;138;145;208mI\u001b[38;2;255;255;255m\u001b[38;2;138;145;208mI\u001b[38;2;255;255;255m\u001b[38;2;138;145;208mI\u001b[38;2;255;255;255m\u001b[38;2;138;145;208mI\u001b[38;2;255;255;255m\u001b[38;2;138;145;208mI\u001b[38;2;255;255;255m\u001b[0;0m\n",
            "\u001b[1m\u001b[38;2;240;240;240mO\u001b[38;2;255;255;255m\u001b[38;2;240;240;240mO\u001b[38;2;255;255;255m\u001b[38;2;240;240;240mO\u001b[38;2;255;255;255m\u001b[38;2;240;240;240mO\u001b[38;2;255;255;255m\u001b[38;2;240;240;240mO\u001b[38;2;255;255;255m\u001b[38;2;240;240;240mO\u001b[38;2;255;255;255m\u001b[38;2;240;240;240mO\u001b[38;2;255;255;255m\u001b[38;2;240;240;240mO\u001b[38;2;255;255;255m\u001b[38;2;240;240;240mO\u001b[38;2;255;255;255m\u001b[38;2;240;240;240mO\u001b[38;2;255;255;255m\u001b[38;2;240;240;240mO\u001b[38;2;255;255;255m\u001b[38;2;240;240;240mO\u001b[38;2;255;255;255m\u001b[38;2;240;240;240mO\u001b[38;2;255;255;255m\u001b[38;2;240;240;240mO\u001b[38;2;255;255;255m\u001b[38;2;240;240;240mO\u001b[38;2;255;255;255m\u001b[38;2;240;240;240mO\u001b[38;2;255;255;255m\u001b[38;2;240;240;240mO\u001b[38;2;255;255;255m\u001b[38;2;240;240;240mO\u001b[38;2;255;255;255m\u001b[38;2;240;240;240mO\u001b[38;2;255;255;255m\u001b[38;2;240;240;240mO\u001b[38;2;255;255;255m\u001b[38;2;240;240;240mO\u001b[38;2;255;255;255m\u001b[38;2;240;240;240mO\u001b[38;2;255;255;255m\u001b[38;2;240;240;240mO\u001b[38;2;255;255;255m\u001b[38;2;240;240;240mO\u001b[38;2;255;255;255m\u001b[38;2;240;240;240mO\u001b[38;2;255;255;255m\u001b[38;2;240;240;240mO\u001b[38;2;255;255;255m\u001b[38;2;240;240;240mO\u001b[38;2;255;255;255m\u001b[0;0m\n",
            "\u001b[1m\u001b[38;2;240;240;240mO\u001b[38;2;255;255;255m\u001b[38;2;240;240;240mO\u001b[38;2;255;255;255m\u001b[38;2;240;240;240mO\u001b[38;2;255;255;255m\u001b[38;2;240;240;240mO\u001b[38;2;255;255;255m\u001b[38;2;240;240;240mO\u001b[38;2;255;255;255m\u001b[38;2;240;240;240mO\u001b[38;2;255;255;255m\u001b[38;2;240;240;240mO\u001b[38;2;255;255;255m\u001b[38;2;240;240;240mO\u001b[38;2;255;255;255m\u001b[38;2;240;240;240mO\u001b[38;2;255;255;255m\u001b[38;2;240;240;240mO\u001b[38;2;255;255;255m\u001b[38;2;240;240;240mO\u001b[38;2;255;255;255m\u001b[38;2;240;240;240mO\u001b[38;2;255;255;255m\u001b[38;2;240;240;240mO\u001b[38;2;255;255;255m\u001b[38;2;240;240;240mO\u001b[38;2;255;255;255m\u001b[38;2;240;240;240mO\u001b[38;2;255;255;255m\u001b[38;2;240;240;240mO\u001b[38;2;255;255;255m\u001b[38;2;240;240;240mO\u001b[38;2;255;255;255m\u001b[38;2;240;240;240mO\u001b[38;2;255;255;255m\u001b[38;2;240;240;240mO\u001b[38;2;255;255;255m\u001b[38;2;240;240;240mO\u001b[38;2;255;255;255m\u001b[38;2;240;240;240mO\u001b[38;2;255;255;255m\u001b[38;2;240;240;240mO\u001b[38;2;255;255;255m\u001b[38;2;240;240;240mO\u001b[38;2;255;255;255m\u001b[38;2;240;240;240mO\u001b[38;2;255;255;255m\u001b[38;2;240;240;240mO\u001b[38;2;255;255;255m\u001b[38;2;240;240;240mO\u001b[38;2;255;255;255m\u001b[38;2;240;240;240mO\u001b[38;2;255;255;255m\u001b[38;2;240;240;240mO\u001b[38;2;255;255;255m\u001b[38;2;240;240;240mO\u001b[38;2;255;255;255m\u001b[38;2;240;240;240mO\u001b[38;2;255;255;255m\u001b[0;0m\n",
            "\u001b[1m\u001b[38;2;240;240;240mO\u001b[38;2;255;255;255m\u001b[38;2;240;240;240mO\u001b[38;2;255;255;255m\u001b[38;2;240;240;240mO\u001b[38;2;255;255;255m\u001b[38;2;240;240;240mO\u001b[38;2;255;255;255m\u001b[38;2;240;240;240mO\u001b[38;2;255;255;255m\u001b[38;2;240;240;240mO\u001b[38;2;255;255;255m\u001b[38;2;240;240;240mO\u001b[38;2;255;255;255m\u001b[38;2;240;240;240mO\u001b[38;2;255;255;255m\u001b[38;2;240;240;240mO\u001b[38;2;255;255;255m\u001b[38;2;240;240;240mO\u001b[38;2;255;255;255m\u001b[38;2;240;240;240mO\u001b[38;2;255;255;255m\u001b[38;2;240;240;240mO\u001b[38;2;255;255;255m\u001b[38;2;240;240;240mO\u001b[38;2;255;255;255m\u001b[38;2;240;240;240mO\u001b[38;2;255;255;255m\u001b[38;2;240;240;240mO\u001b[38;2;255;255;255m\u001b[38;2;240;240;240mO\u001b[38;2;255;255;255m\u001b[38;2;240;240;240mO\u001b[38;2;255;255;255m\u001b[38;2;240;240;240mO\u001b[38;2;255;255;255m\u001b[38;2;240;240;240mO\u001b[38;2;255;255;255m\u001b[38;2;240;240;240mO\u001b[38;2;255;255;255m\u001b[38;2;240;240;240mO\u001b[38;2;255;255;255m\u001b[38;2;240;240;240mO\u001b[38;2;255;255;255m\u001b[38;2;240;240;240mO\u001b[38;2;255;255;255m\u001b[38;2;240;240;240mO\u001b[38;2;255;255;255m\u001b[38;2;240;240;240mO\u001b[38;2;255;255;255m\u001b[38;2;240;240;240mO\u001b[38;2;255;255;255m\u001b[38;2;240;240;240mO\u001b[38;2;255;255;255m\u001b[38;2;240;240;240mO\u001b[38;2;255;255;255m\u001b[38;2;240;240;240mO\u001b[38;2;255;255;255m\u001b[38;2;240;240;240mO\u001b[38;2;255;255;255m\u001b[0;0m\n",
            "\u001b[1m\u001b[38;2;240;240;240mO\u001b[38;2;255;255;255m\u001b[38;2;240;240;240mO\u001b[38;2;255;255;255m\u001b[38;2;240;240;240mO\u001b[38;2;255;255;255m\u001b[38;2;240;240;240mO\u001b[38;2;255;255;255m\u001b[38;2;240;240;240mO\u001b[38;2;255;255;255m\u001b[38;2;240;240;240mO\u001b[38;2;255;255;255m\u001b[38;2;240;240;240mO\u001b[38;2;255;255;255m\u001b[38;2;240;240;240mO\u001b[38;2;255;255;255m\u001b[38;2;240;240;240mO\u001b[38;2;255;255;255m\u001b[38;2;240;240;240mO\u001b[38;2;255;255;255m\u001b[38;2;240;240;240mO\u001b[38;2;255;255;255m\u001b[38;2;240;240;240mO\u001b[38;2;255;255;255m\u001b[38;2;240;240;240mO\u001b[38;2;255;255;255m\u001b[38;2;240;240;240mO\u001b[38;2;255;255;255m\u001b[38;2;240;240;240mO\u001b[38;2;255;255;255m\u001b[38;2;240;240;240mO\u001b[38;2;255;255;255m\u001b[38;2;240;240;240mO\u001b[38;2;255;255;255m\u001b[38;2;240;240;240mO\u001b[38;2;255;255;255m\u001b[38;2;240;240;240mO\u001b[38;2;255;255;255m\u001b[38;2;240;240;240mO\u001b[38;2;255;255;255m\u001b[38;2;240;240;240mO\u001b[38;2;255;255;255m\u001b[38;2;240;240;240mO\u001b[38;2;255;255;255m\u001b[38;2;240;240;240mO\u001b[38;2;255;255;255m\u001b[38;2;240;240;240mO\u001b[38;2;255;255;255m\u001b[38;2;240;240;240mO\u001b[38;2;255;255;255m\u001b[38;2;240;240;240mO\u001b[38;2;255;255;255m\u001b[38;2;240;240;240mO\u001b[38;2;255;255;255m\u001b[38;2;240;240;240mO\u001b[38;2;255;255;255m\u001b[38;2;240;240;240mO\u001b[38;2;255;255;255m\u001b[38;2;240;240;240mO\u001b[38;2;255;255;255m\u001b[0;0m\n",
            "\u001b[1m\u001b[38;2;240;240;240mO\u001b[38;2;255;255;255m\u001b[38;2;240;240;240mO\u001b[38;2;255;255;255m\u001b[38;2;240;240;240mO\u001b[38;2;255;255;255m\u001b[38;2;240;240;240mO\u001b[38;2;255;255;255m\u001b[38;2;240;240;240mO\u001b[38;2;255;255;255m\u001b[38;2;240;240;240mO\u001b[38;2;255;255;255m\u001b[38;2;240;240;240mO\u001b[38;2;255;255;255m\u001b[38;2;240;240;240mO\u001b[38;2;255;255;255m\u001b[38;2;240;240;240mO\u001b[38;2;255;255;255m\u001b[38;2;240;240;240mO\u001b[38;2;255;255;255m\u001b[38;2;240;240;240mO\u001b[38;2;255;255;255m\u001b[38;2;240;240;240mO\u001b[38;2;255;255;255m\u001b[38;2;240;240;240mO\u001b[38;2;255;255;255m\u001b[38;2;240;240;240mO\u001b[38;2;255;255;255m\u001b[38;2;240;240;240mO\u001b[38;2;255;255;255m\u001b[38;2;240;240;240mO\u001b[38;2;255;255;255m\u001b[38;2;240;240;240mO\u001b[38;2;255;255;255m\u001b[38;2;240;240;240mO\u001b[38;2;255;255;255m\u001b[38;2;240;240;240mO\u001b[38;2;255;255;255m\u001b[38;2;240;240;240mO\u001b[38;2;255;255;255m\u001b[38;2;240;240;240mO\u001b[38;2;255;255;255m\u001b[38;2;240;240;240mO\u001b[38;2;255;255;255m\u001b[38;2;240;240;240mO\u001b[38;2;255;255;255m\u001b[38;2;240;240;240mO\u001b[38;2;255;255;255m\u001b[38;2;240;240;240mO\u001b[38;2;255;255;255m\u001b[38;2;240;240;240mO\u001b[38;2;255;255;255m\u001b[38;2;240;240;240mO\u001b[38;2;255;255;255m\u001b[38;2;240;240;240mO\u001b[38;2;255;255;255m\u001b[38;2;240;240;240mO\u001b[38;2;255;255;255m\u001b[38;2;240;240;240mO\u001b[38;2;255;255;255m\u001b[0;0m\n",
            "\u001b[1m\u001b[38;2;240;240;240mO\u001b[38;2;255;255;255m\u001b[38;2;240;240;240mO\u001b[38;2;255;255;255m\u001b[38;2;240;240;240mO\u001b[38;2;255;255;255m\u001b[38;2;240;240;240mO\u001b[38;2;255;255;255m\u001b[38;2;240;240;240mO\u001b[38;2;255;255;255m\u001b[38;2;240;240;240mO\u001b[38;2;255;255;255m\u001b[38;2;240;240;240mO\u001b[38;2;255;255;255m\u001b[38;2;240;240;240mO\u001b[38;2;255;255;255m\u001b[38;2;240;240;240mO\u001b[38;2;255;255;255m\u001b[38;2;240;240;240mO\u001b[38;2;255;255;255m\u001b[38;2;240;240;240mO\u001b[38;2;255;255;255m\u001b[38;2;240;240;240mO\u001b[38;2;255;255;255m\u001b[38;2;240;240;240mO\u001b[38;2;255;255;255m\u001b[38;2;240;240;240mO\u001b[38;2;255;255;255m\u001b[38;2;240;240;240mO\u001b[38;2;255;255;255m\u001b[38;2;240;240;240mO\u001b[38;2;255;255;255m\u001b[38;2;240;240;240mO\u001b[38;2;255;255;255m\u001b[38;2;240;240;240mO\u001b[38;2;255;255;255m\u001b[38;2;240;240;240mO\u001b[38;2;255;255;255m\u001b[38;2;240;240;240mO\u001b[38;2;255;255;255m\u001b[38;2;240;240;240mO\u001b[38;2;255;255;255m\u001b[38;2;240;240;240mO\u001b[38;2;255;255;255m\u001b[38;2;240;240;240mO\u001b[38;2;255;255;255m\u001b[38;2;240;240;240mO\u001b[38;2;255;255;255m\u001b[0;0m\n",
            "\u001b[1m\u001b[38;2;240;240;240mO\u001b[38;2;255;255;255m\u001b[38;2;240;240;240mO\u001b[38;2;255;255;255m\u001b[38;2;240;240;240mO\u001b[38;2;255;255;255m\u001b[38;2;240;240;240mO\u001b[38;2;255;255;255m\u001b[38;2;240;240;240mO\u001b[38;2;255;255;255m\u001b[38;2;240;240;240mO\u001b[38;2;255;255;255m\u001b[38;2;240;240;240mO\u001b[38;2;255;255;255m\u001b[38;2;240;240;240mO\u001b[38;2;255;255;255m\u001b[38;2;240;240;240mO\u001b[38;2;255;255;255m\u001b[38;2;240;240;240mO\u001b[38;2;255;255;255m\u001b[38;2;240;240;240mO\u001b[38;2;255;255;255m\u001b[38;2;240;240;240mO\u001b[38;2;255;255;255m\u001b[38;2;240;240;240mO\u001b[38;2;255;255;255m\u001b[38;2;240;240;240mO\u001b[38;2;255;255;255m\u001b[38;2;240;240;240mO\u001b[38;2;255;255;255m\u001b[38;2;240;240;240mO\u001b[38;2;255;255;255m\u001b[38;2;240;240;240mO\u001b[38;2;255;255;255m\u001b[38;2;240;240;240mO\u001b[38;2;255;255;255m\u001b[38;2;240;240;240mO\u001b[38;2;255;255;255m\u001b[38;2;240;240;240mO\u001b[38;2;255;255;255m\u001b[38;2;240;240;240mO\u001b[38;2;255;255;255m\u001b[38;2;240;240;240mO\u001b[38;2;255;255;255m\u001b[38;2;240;240;240mO\u001b[38;2;255;255;255m\u001b[38;2;240;240;240mO\u001b[38;2;255;255;255m\u001b[38;2;240;240;240mO\u001b[38;2;255;255;255m\u001b[0;0m\n",
            "\u001b[1m\u001b[38;2;240;240;240mO\u001b[38;2;255;255;255m\u001b[38;2;240;240;240mO\u001b[38;2;255;255;255m\u001b[38;2;240;240;240mO\u001b[38;2;255;255;255m\u001b[38;2;240;240;240mO\u001b[38;2;255;255;255m\u001b[38;2;240;240;240mO\u001b[38;2;255;255;255m\u001b[38;2;240;240;240mO\u001b[38;2;255;255;255m\u001b[38;2;240;240;240mO\u001b[38;2;255;255;255m\u001b[38;2;240;240;240mO\u001b[38;2;255;255;255m\u001b[38;2;240;240;240mO\u001b[38;2;255;255;255m\u001b[38;2;240;240;240mO\u001b[38;2;255;255;255m\u001b[38;2;240;240;240mO\u001b[38;2;255;255;255m\u001b[38;2;240;240;240mO\u001b[38;2;255;255;255m\u001b[38;2;240;240;240mO\u001b[38;2;255;255;255m\u001b[38;2;240;240;240mO\u001b[38;2;255;255;255m\u001b[38;2;240;240;240mO\u001b[38;2;255;255;255m\u001b[38;2;240;240;240mO\u001b[38;2;255;255;255m\u001b[38;2;240;240;240mO\u001b[38;2;255;255;255m\u001b[38;2;240;240;240mO\u001b[38;2;255;255;255m\u001b[38;2;240;240;240mO\u001b[38;2;255;255;255m\u001b[38;2;240;240;240mO\u001b[38;2;255;255;255m\u001b[38;2;240;240;240mO\u001b[38;2;255;255;255m\u001b[38;2;240;240;240mO\u001b[38;2;255;255;255m\u001b[38;2;240;240;240mO\u001b[38;2;255;255;255m\u001b[38;2;240;240;240mO\u001b[38;2;255;255;255m\u001b[38;2;240;240;240mO\u001b[38;2;255;255;255m\u001b[38;2;240;240;240mO\u001b[38;2;255;255;255m\u001b[38;2;240;240;240mO\u001b[38;2;255;255;255m\u001b[38;2;240;240;240mO\u001b[38;2;255;255;255m\u001b[38;2;240;240;240mO\u001b[38;2;255;255;255m\u001b[38;2;240;240;240mO\u001b[38;2;255;255;255m\u001b[0;0m\n"
          ]
        }
      ],
      "source": [
        "# Print the chromatin state patterns of the first 25 promoters associated with not-expressed genes on chromosome 1\n",
        "for i in range(25):\n",
        "  entry_not=prom_not_expressed[0][i]\n",
        "  crb.colored_css_str_as_is(entry_not)"
      ]
    },
    {
      "cell_type": "markdown",
      "metadata": {
        "id": "Q__Tw-SopnQf"
      },
      "source": [
        "\n",
        "Can you spot any differences? 🕵️✨\n",
        "\n",
        "<br>\n",
        "\n",
        "🤔 What do you think the key differences are? Which chromatin state predominantly appears in the promoter regions of ✅ **highly expressed** and ❌ **not-expressed genes**, respectively?\n",
        "\n",
        "<br>\n",
        "\n",
        "⚠️️️️ Note that the promoter region can be shorter than the designated length when the transcription end site (`TxEnd`) is too close to the transcription start site (`TxStart`).\n",
        "\n",
        "In such cases, instead of extending the full 2kb upstream and 4kb downstream (or your customized distances), the function adjusts the promoter boundary to stay within the gene body. This prevents extracting sequences beyond the gene's annotated region, which can happen when genes have shorter intergenic distances or overlapping genes nearby.\n",
        "\n"
      ]
    },
    {
      "cell_type": "markdown",
      "metadata": {
        "id": "P3oEpB8H9enc"
      },
      "source": [
        "Now, we process the data to prepare it for fine-tuning **ChromBERT**🪄✨\n",
        "\n",
        "First, finalize the lists and save them to files."
      ]
    },
    {
      "cell_type": "code",
      "execution_count": null,
      "metadata": {
        "colab": {
          "base_uri": "https://localhost:8080/"
        },
        "id": "XL9rMYVI88YH",
        "outputId": "1b661b4d-a0c0-4acb-d5e1-c523aba37262"
      },
      "outputs": [
        {
          "output_type": "stream",
          "name": "stdout",
          "text": [
            "Finalizing the list...\n",
            "Done!\n",
            "Finalizing the list...\n",
            "Done!\n"
          ]
        }
      ],
      "source": [
        "# K-merize the data and exclude entries containing \"OOOO\"\n",
        "high_exp_final_prom_extracted=crb.process_prom_list(prom_highly_expressed, k=4, low_signal=\"O\")\n",
        "not_exp_final_prom_extracted=crb.process_prom_list(prom_not_expressed, k=4, low_signal=\"O\")"
      ]
    },
    {
      "cell_type": "code",
      "execution_count": null,
      "metadata": {
        "colab": {
          "base_uri": "https://localhost:8080/"
        },
        "id": "OjbQt82H_Fnw",
        "outputId": "577c28dc-87d9-4c36-d4ae-32ae63107256"
      },
      "outputs": [
        {
          "output_type": "stream",
          "name": "stdout",
          "text": [
            "File saved as /content/high_exp_prom.txt\n",
            "File saved as /content/not_exp_prom.txt\n"
          ]
        }
      ],
      "source": [
        "# Save to a file\n",
        "with open(\"/content/high_exp_prom.txt\", \"w\") as f1:\n",
        "    f1.write(\"\\n\".join(high_exp_final_prom_extracted))\n",
        "print(\"File saved as /content/high_exp_prom.txt\")\n",
        "\n",
        "with open(\"/content/not_exp_prom.txt\", \"w\") as f2:\n",
        "    f2.write(\"\\n\".join(not_exp_final_prom_extracted))\n",
        "print(\"File saved as /content/not_exp_prom.txt\")"
      ]
    },
    {
      "cell_type": "markdown",
      "metadata": {
        "id": "jg1nMYlCBCvI"
      },
      "source": [
        "<br>\n",
        "\n",
        "Second, we will use the `process_save_TF` function to generate fine-tuning data for **ChromBERT**. This function processes k-merized chromatin state sequences from two classes (e.g., ✅ `highly expressed` vs. ❌ `not-expressed`), balances the dataset, and shuffles it before splitting into training (`train.tsv`) and validation (`dev.tsv`) files.\n",
        "\n",
        "<br>\n",
        "\n",
        "⚠️️️️ **Important Note**\n",
        "\n",
        "The **order of input paths** matters! The first file should be the promoter region of interest, and the second file should be the comparison group.\n",
        "\n",
        "- Example: If you want to analyze the chromatin state sequence patterns in the promoter regions of ✅ `highly expressed genes`, place `/content/high_exp_prom.txt` first and ❌ `not-expressed genes` `/content/not_exp_prom.txt` second.\n",
        "\n",
        "<br>"
      ]
    },
    {
      "cell_type": "code",
      "execution_count": null,
      "metadata": {
        "colab": {
          "base_uri": "https://localhost:8080/"
        },
        "id": "yTiqcq82APuE",
        "outputId": "7001a022-198f-49bc-bd04-cb30b8a20536"
      },
      "outputs": [
        {
          "output_type": "stream",
          "name": "stdout",
          "text": [
            "class 1 has 1206 elements.\n",
            "class 2 has 797 elements.\n",
            "Fine-tuning data are saved at /content/.\n"
          ]
        }
      ],
      "source": [
        "# Create fine tuning data\n",
        "# <len_tr> determines the length of 'train.tsv', while <len_dev> determines the length of 'dev.tsv'.\n",
        "crb.process_save_TF('/content/high_exp_prom.txt', '/content/not_exp_prom.txt', '/content/', k=4, len_tr=1000, len_dev=100)"
      ]
    },
    {
      "cell_type": "markdown",
      "metadata": {
        "id": "UWz7CVtSFBVZ"
      },
      "source": [
        " 🔎 Click on the file icon on the left 📂 to check if the fine-tuning data files, `train.tsv` and `dev.tsv`, have been generated.\n"
      ]
    },
    {
      "cell_type": "markdown",
      "metadata": {
        "id": "7w5wp0Y5IZM0"
      },
      "source": [
        "<br>\n",
        "\n",
        "⛳ **Customizing Your Own Fine-Tuning Dataset**🏌️\n",
        "\n",
        "The classification task presented here is just one possible approach to fine-tuning **ChromBERT**. If you want to fine-tune the model for a different task, you can prepare your own dataset. For example:\n",
        "\n",
        "- 🧪🫧 Cell Type-Specific Classification ➡️ Train a model to distinguish between **cell type 1** vs. **cell type 2** based on chromatin state sequences.\n",
        "\n",
        "- 🧪🫧 Differential Gene Expression ➡️ Define expression categories with different RPKM thresholds for fine-tuning (e.g., **low** (`RPKM>1`) vs. **high expression** (`RPKM>50`)).\n",
        "\n",
        "If you choose to create your own fine-tuning dataset, ensure that it follows the same sequence-label format so it can be used directly with **ChromBERT**.\n",
        "\n",
        "<br>"
      ]
    },
    {
      "cell_type": "markdown",
      "metadata": {
        "id": "Zmm07uDBOtDM"
      },
      "source": [
        "## Run Fine-tuning\n",
        "\n",
        "For fine-tuning, we recommend using your local machine rather than Colab, for the same reasons as pretraining. If you want to test your own fine-tuning data created above, make sure to download your file by clicking on the file icon 📂 on the left and save it locally.\n",
        "\n",
        "Once your data is ready, proceed to the fine-tuning section in the **ChromBERT** GitHub repository linked below. Follow the instructions there to continue with fine-tuning! 🚀✨\n",
        "\n",
        "<br>\n",
        "\n",
        "- Github repository: [![Github](https://img.shields.io/static/v1.svg?logo=github&label=Repo&message=Github&color=olive)](https://github.com/caocao0525/ChromBERT)\n",
        "\n",
        "\n",
        "<br>\n",
        "\n",
        "<!-- <p align=\"center\">\n",
        "  <a href=\"https://colab.research.google.com/drive/1X725dCfi9m8IZNW_42IrgI04TlQebyCb?usp=sharing#scrollTo=10gABVz9VZ4v\">\n",
        "    <img src=\"https://colab.research.google.com/assets/colab-badge.svg\" alt=\"Open In Colab\">\n",
        "  </a>\n",
        "</p> -->\n",
        "\n",
        "<!-- <p align=\"center\">\n",
        "  <a href=\"https://colab.research.google.com/drive/1DF_1JoAFrJEmDN45B25v-PJfArpHrcSD#scrollTo=rB90JG-X0Jiv\">\n",
        "    <img src=\"https://colab.research.google.com/assets/colab-badge.svg\" alt=\"Open In Colab\">\n",
        "  </a>\n",
        "</p>\n",
        "\n",
        "<br><br> -->"
      ]
    },
    {
      "cell_type": "markdown",
      "source": [
        "<br>\n",
        "\n",
        "---\n",
        "\n",
        "# 5. Motif Detection and Clustering\n",
        "\n",
        "One of the most notable features of **ChromBERT** is its ability to detect motif-like patterns in chromatin state sequences within regions of interest. This allows for the identification of specific patterns that uniquely appear in certain classes during classification tasks by focusing on the areas with high attention scores in the attention matrix produced during the prediction process.\n",
        "\n",
        "Unlike static DNA sequences, chromatin state sequences can vary in position and length. **ChromBERT** addresses this with a Dynamic Time Warping (DTW) scheme to cluster the motifs with similar characteristics, providing a more consolidated insight for users."
      ],
      "metadata": {
        "id": "bvVMqF0roTH-"
      }
    },
    {
      "cell_type": "markdown",
      "source": [
        "## Motif Detection\n",
        "\n",
        "To proceed with motif detection, first complete fine-tuning for classification and run prediction on your local machine by following the instructions in the GitHub repository below:\n",
        "\n",
        "<br>\n",
        "\n",
        "- Github repository: [![Github](https://img.shields.io/static/v1.svg?logo=github&label=Repo&message=Github&color=olive)](https://github.com/caocao0525/ChromBERT)\n",
        "\n",
        "\n",
        "<br>\n",
        "\n",
        "\n",
        "\n",
        "<!-- Like DNA motifs in DNABERT <small>(Y. Ji, et al., 2021)</small>, chromatin state motifs in our study are identified as recurring patterns of chromatin states distinct to a certain category in binary classification. We used the same parameters as DNABERT to detect these motifs.\n",
        "\n",
        "- First, we identified regions with high attention scores from the attention matrix. We set a threshold defined as a score above the matrix's mean and more than ten times the minimum score. These high-scoring regions were considered motif candidates and further filtered using a p-value of `0.05` to confirm significant enrichment in one class.\n",
        "\n",
        "- Motifs are defined as sequences longer than four chromatin states (around `800` bps) and appear at least three times exclusively in the target class. Unlike DNA motifs, which are compared with existing libraries, our chromatin state motifs were collected without such comparisons due to the absence of a relevant library. -->"
      ],
      "metadata": {
        "id": "KoNJSoO2oY-3"
      }
    },
    {
      "cell_type": "markdown",
      "source": [
        "## Motif Clustering\n",
        "\n",
        "In this tutorial, we demonstrate the motif clustering process using pre-generated data as an example. This data corresponds to the output you would obtain in the `training/examples/prom/predict_result` and `training/motif/prom/result` directories after completing your own training, prediction, and motif detection steps. You are encouraged to apply the same analysis to your own results.\n",
        "\n",
        "  💡 To upload your files to Colab, click the file icon 📂 on the left sidebar. Once uploaded, your files will appear under the `/content/` directory.\n",
        "\n",
        "<!-- Here, we identify and analyze representative chromatin state sequence motifs using Dynamic Time Warping (DTW) and agglomerative clustering. These techniques are well-suited for handling variations in sequence length, which is crucial given the dynamic nature of chromatin states. -->\n",
        "\n",
        "<br>\n",
        "\n",
        "* 📥 Download `pred_results.npy` and `atten.npy`"
      ],
      "metadata": {
        "id": "elq34S_Ho4yQ"
      }
    },
    {
      "cell_type": "code",
      "source": [
        "# These are pre-generated files from prediction. You are encouraged to apply to your own results.\n",
        "# pred_results.npy\n",
        "!wget https://raw.githubusercontent.com/caocao0525/ChromBERT/chrombert-py311-extended/colab/colab_data/test_files/pred_results.npy\n",
        "# atten.npy\n",
        "!wget https://raw.githubusercontent.com/caocao0525/ChromBERT/chrombert-py311-extended/colab/colab_data/test_files/atten.npy"
      ],
      "metadata": {
        "colab": {
          "base_uri": "https://localhost:8080/"
        },
        "collapsed": true,
        "id": "Z-TEz8mc_cy3",
        "outputId": "b10c07c2-cb1d-4249-ddc6-d7d380acaf1b"
      },
      "execution_count": null,
      "outputs": [
        {
          "output_type": "stream",
          "name": "stdout",
          "text": [
            "--2025-04-24 04:07:46--  https://raw.githubusercontent.com/caocao0525/ChromBERT/chrombert-py311-extended/colab/colab_data/test_files/pred_results.npy\n",
            "Resolving raw.githubusercontent.com (raw.githubusercontent.com)... 185.199.108.133, 185.199.109.133, 185.199.110.133, ...\n",
            "Connecting to raw.githubusercontent.com (raw.githubusercontent.com)|185.199.108.133|:443... connected.\n",
            "HTTP request sent, awaiting response... 200 OK\n",
            "Length: 528 [application/octet-stream]\n",
            "Saving to: ‘pred_results.npy’\n",
            "\n",
            "pred_results.npy    100%[===================>]     528  --.-KB/s    in 0s      \n",
            "\n",
            "2025-04-24 04:07:46 (23.6 MB/s) - ‘pred_results.npy’ saved [528/528]\n",
            "\n",
            "--2025-04-24 04:07:46--  https://raw.githubusercontent.com/caocao0525/ChromBERT/chrombert-py311-extended/colab/colab_data/test_files/atten.npy\n",
            "Resolving raw.githubusercontent.com (raw.githubusercontent.com)... 185.199.108.133, 185.199.109.133, 185.199.110.133, ...\n",
            "Connecting to raw.githubusercontent.com (raw.githubusercontent.com)|185.199.108.133|:443... connected.\n",
            "HTTP request sent, awaiting response... 200 OK\n",
            "Length: 64928 (63K) [application/octet-stream]\n",
            "Saving to: ‘atten.npy’\n",
            "\n",
            "atten.npy           100%[===================>]  63.41K  --.-KB/s    in 0.02s   \n",
            "\n",
            "2025-04-24 04:07:47 (2.97 MB/s) - ‘atten.npy’ saved [64928/64928]\n",
            "\n"
          ]
        }
      ]
    },
    {
      "cell_type": "markdown",
      "source": [
        "<br>\n",
        "\n",
        "* 📥 Download the detected motif file `init_df.csv`\n",
        "\n",
        "You can find your generated `init_df.csv` at `/training/motif/result`"
      ],
      "metadata": {
        "id": "3m9CfpLenKpE"
      }
    },
    {
      "cell_type": "code",
      "source": [
        "# motif csv\n",
        "!wget -O init_df.csv https://raw.githubusercontent.com/caocao0525/ChromBERT/chrombert-py311-extended/colab/colab_data/test_files/init_concat.csv"
      ],
      "metadata": {
        "collapsed": true,
        "id": "phcff9h3DoJR",
        "outputId": "5d32edf0-251a-4638-e9e0-2d3ae574df84",
        "colab": {
          "base_uri": "https://localhost:8080/"
        }
      },
      "execution_count": null,
      "outputs": [
        {
          "output_type": "stream",
          "name": "stdout",
          "text": [
            "--2025-04-24 04:07:50--  https://raw.githubusercontent.com/caocao0525/ChromBERT/chrombert-py311-extended/colab/colab_data/test_files/init_concat.csv\n",
            "Resolving raw.githubusercontent.com (raw.githubusercontent.com)... 185.199.108.133, 185.199.109.133, 185.199.110.133, ...\n",
            "Connecting to raw.githubusercontent.com (raw.githubusercontent.com)|185.199.108.133|:443... connected.\n",
            "HTTP request sent, awaiting response... 200 OK\n",
            "Length: 5513 (5.4K) [text/plain]\n",
            "Saving to: ‘init_df.csv’\n",
            "\n",
            "init_df.csv         100%[===================>]   5.38K  --.-KB/s    in 0s      \n",
            "\n",
            "2025-04-24 04:07:51 (51.1 MB/s) - ‘init_df.csv’ saved [5513/5513]\n",
            "\n"
          ]
        }
      ]
    },
    {
      "cell_type": "markdown",
      "source": [
        "First, users can create a matrix to serve as the foundational data structure for motif clustering by executing the following code:"
      ],
      "metadata": {
        "id": "2uIKKk1In5XL"
      }
    },
    {
      "cell_type": "code",
      "source": [
        "df_sequences=crb.motif_init2df(input_path='/content/init_df.csv')"
      ],
      "metadata": {
        "id": "VJbr8E8Fnrjw"
      },
      "execution_count": null,
      "outputs": []
    },
    {
      "cell_type": "markdown",
      "source": [
        "<br>\n",
        "\n",
        "The created DataFrame contains the positions of chromatin states within each detected motif, with each column representing a motif instance. To apply DTW, chromatin states `A` to `O` have been numerically converted to values from `1` to `15`.\n",
        "\n",
        "<br>"
      ],
      "metadata": {
        "id": "KS0gG1HFsNLq"
      }
    },
    {
      "cell_type": "code",
      "source": [
        "df_sequences"
      ],
      "metadata": {
        "id": "XpTlzYefnxXD",
        "outputId": "7c8ec221-49fc-49b5-8759-e8598cdb0274",
        "colab": {
          "base_uri": "https://localhost:8080/",
          "height": 450
        }
      },
      "execution_count": null,
      "outputs": [
        {
          "output_type": "execute_result",
          "data": {
            "text/plain": [
              "   position     0     1     2     3     4     5     6     7     8  ...   106  \\\n",
              "0     Pos 1     5     4     5     2     5     1     4     1     5  ...     7   \n",
              "1     Pos 2     5     4     5     2     5     1     5     2     5  ...     2   \n",
              "2     Pos 3     5     4     5     7     5     1     5     2     5  ...     1   \n",
              "3     Pos 4     5     5     5     7     5     1     5     2     5  ...     1   \n",
              "4     Pos 5     5     5     5     7     5     1     5     2     5  ...     1   \n",
              "5     Pos 6     5     5  <NA>  <NA>     5  <NA>     5  <NA>     5  ...     1   \n",
              "6     Pos 7  <NA>  <NA>  <NA>  <NA>     5  <NA>  <NA>  <NA>     5  ...  <NA>   \n",
              "7     Pos 8  <NA>  <NA>  <NA>  <NA>  <NA>  <NA>  <NA>  <NA>     5  ...  <NA>   \n",
              "8     Pos 9  <NA>  <NA>  <NA>  <NA>  <NA>  <NA>  <NA>  <NA>     5  ...  <NA>   \n",
              "9    Pos 10  <NA>  <NA>  <NA>  <NA>  <NA>  <NA>  <NA>  <NA>  <NA>  ...  <NA>   \n",
              "10   Pos 11  <NA>  <NA>  <NA>  <NA>  <NA>  <NA>  <NA>  <NA>  <NA>  ...  <NA>   \n",
              "11   Pos 12  <NA>  <NA>  <NA>  <NA>  <NA>  <NA>  <NA>  <NA>  <NA>  ...  <NA>   \n",
              "\n",
              "     107   108   109   110   111   112   113   114   115  \n",
              "0      3     7     2     1     6     6     1     2     1  \n",
              "1      3     7     2     1     6     6     1     2     1  \n",
              "2      3     2     1     1     4     3     1     1     1  \n",
              "3      3     1     1     1     4     3     1     1     1  \n",
              "4      3     1     1     1     4     3     1     1     1  \n",
              "5      6     1  <NA>     5  <NA>  <NA>     3     1     1  \n",
              "6   <NA>  <NA>  <NA>     5  <NA>  <NA>     3  <NA>     1  \n",
              "7   <NA>  <NA>  <NA>     5  <NA>  <NA>     3  <NA>  <NA>  \n",
              "8   <NA>  <NA>  <NA>  <NA>  <NA>  <NA>     3  <NA>  <NA>  \n",
              "9   <NA>  <NA>  <NA>  <NA>  <NA>  <NA>     3  <NA>  <NA>  \n",
              "10  <NA>  <NA>  <NA>  <NA>  <NA>  <NA>  <NA>  <NA>  <NA>  \n",
              "11  <NA>  <NA>  <NA>  <NA>  <NA>  <NA>  <NA>  <NA>  <NA>  \n",
              "\n",
              "[12 rows x 117 columns]"
            ],
            "text/html": [
              "\n",
              "  <div id=\"df-f73ac633-b943-4d22-a563-11de6686d1d0\" class=\"colab-df-container\">\n",
              "    <div>\n",
              "<style scoped>\n",
              "    .dataframe tbody tr th:only-of-type {\n",
              "        vertical-align: middle;\n",
              "    }\n",
              "\n",
              "    .dataframe tbody tr th {\n",
              "        vertical-align: top;\n",
              "    }\n",
              "\n",
              "    .dataframe thead th {\n",
              "        text-align: right;\n",
              "    }\n",
              "</style>\n",
              "<table border=\"1\" class=\"dataframe\">\n",
              "  <thead>\n",
              "    <tr style=\"text-align: right;\">\n",
              "      <th></th>\n",
              "      <th>position</th>\n",
              "      <th>0</th>\n",
              "      <th>1</th>\n",
              "      <th>2</th>\n",
              "      <th>3</th>\n",
              "      <th>4</th>\n",
              "      <th>5</th>\n",
              "      <th>6</th>\n",
              "      <th>7</th>\n",
              "      <th>8</th>\n",
              "      <th>...</th>\n",
              "      <th>106</th>\n",
              "      <th>107</th>\n",
              "      <th>108</th>\n",
              "      <th>109</th>\n",
              "      <th>110</th>\n",
              "      <th>111</th>\n",
              "      <th>112</th>\n",
              "      <th>113</th>\n",
              "      <th>114</th>\n",
              "      <th>115</th>\n",
              "    </tr>\n",
              "  </thead>\n",
              "  <tbody>\n",
              "    <tr>\n",
              "      <th>0</th>\n",
              "      <td>Pos 1</td>\n",
              "      <td>5</td>\n",
              "      <td>4</td>\n",
              "      <td>5</td>\n",
              "      <td>2</td>\n",
              "      <td>5</td>\n",
              "      <td>1</td>\n",
              "      <td>4</td>\n",
              "      <td>1</td>\n",
              "      <td>5</td>\n",
              "      <td>...</td>\n",
              "      <td>7</td>\n",
              "      <td>3</td>\n",
              "      <td>7</td>\n",
              "      <td>2</td>\n",
              "      <td>1</td>\n",
              "      <td>6</td>\n",
              "      <td>6</td>\n",
              "      <td>1</td>\n",
              "      <td>2</td>\n",
              "      <td>1</td>\n",
              "    </tr>\n",
              "    <tr>\n",
              "      <th>1</th>\n",
              "      <td>Pos 2</td>\n",
              "      <td>5</td>\n",
              "      <td>4</td>\n",
              "      <td>5</td>\n",
              "      <td>2</td>\n",
              "      <td>5</td>\n",
              "      <td>1</td>\n",
              "      <td>5</td>\n",
              "      <td>2</td>\n",
              "      <td>5</td>\n",
              "      <td>...</td>\n",
              "      <td>2</td>\n",
              "      <td>3</td>\n",
              "      <td>7</td>\n",
              "      <td>2</td>\n",
              "      <td>1</td>\n",
              "      <td>6</td>\n",
              "      <td>6</td>\n",
              "      <td>1</td>\n",
              "      <td>2</td>\n",
              "      <td>1</td>\n",
              "    </tr>\n",
              "    <tr>\n",
              "      <th>2</th>\n",
              "      <td>Pos 3</td>\n",
              "      <td>5</td>\n",
              "      <td>4</td>\n",
              "      <td>5</td>\n",
              "      <td>7</td>\n",
              "      <td>5</td>\n",
              "      <td>1</td>\n",
              "      <td>5</td>\n",
              "      <td>2</td>\n",
              "      <td>5</td>\n",
              "      <td>...</td>\n",
              "      <td>1</td>\n",
              "      <td>3</td>\n",
              "      <td>2</td>\n",
              "      <td>1</td>\n",
              "      <td>1</td>\n",
              "      <td>4</td>\n",
              "      <td>3</td>\n",
              "      <td>1</td>\n",
              "      <td>1</td>\n",
              "      <td>1</td>\n",
              "    </tr>\n",
              "    <tr>\n",
              "      <th>3</th>\n",
              "      <td>Pos 4</td>\n",
              "      <td>5</td>\n",
              "      <td>5</td>\n",
              "      <td>5</td>\n",
              "      <td>7</td>\n",
              "      <td>5</td>\n",
              "      <td>1</td>\n",
              "      <td>5</td>\n",
              "      <td>2</td>\n",
              "      <td>5</td>\n",
              "      <td>...</td>\n",
              "      <td>1</td>\n",
              "      <td>3</td>\n",
              "      <td>1</td>\n",
              "      <td>1</td>\n",
              "      <td>1</td>\n",
              "      <td>4</td>\n",
              "      <td>3</td>\n",
              "      <td>1</td>\n",
              "      <td>1</td>\n",
              "      <td>1</td>\n",
              "    </tr>\n",
              "    <tr>\n",
              "      <th>4</th>\n",
              "      <td>Pos 5</td>\n",
              "      <td>5</td>\n",
              "      <td>5</td>\n",
              "      <td>5</td>\n",
              "      <td>7</td>\n",
              "      <td>5</td>\n",
              "      <td>1</td>\n",
              "      <td>5</td>\n",
              "      <td>2</td>\n",
              "      <td>5</td>\n",
              "      <td>...</td>\n",
              "      <td>1</td>\n",
              "      <td>3</td>\n",
              "      <td>1</td>\n",
              "      <td>1</td>\n",
              "      <td>1</td>\n",
              "      <td>4</td>\n",
              "      <td>3</td>\n",
              "      <td>1</td>\n",
              "      <td>1</td>\n",
              "      <td>1</td>\n",
              "    </tr>\n",
              "    <tr>\n",
              "      <th>5</th>\n",
              "      <td>Pos 6</td>\n",
              "      <td>5</td>\n",
              "      <td>5</td>\n",
              "      <td>&lt;NA&gt;</td>\n",
              "      <td>&lt;NA&gt;</td>\n",
              "      <td>5</td>\n",
              "      <td>&lt;NA&gt;</td>\n",
              "      <td>5</td>\n",
              "      <td>&lt;NA&gt;</td>\n",
              "      <td>5</td>\n",
              "      <td>...</td>\n",
              "      <td>1</td>\n",
              "      <td>6</td>\n",
              "      <td>1</td>\n",
              "      <td>&lt;NA&gt;</td>\n",
              "      <td>5</td>\n",
              "      <td>&lt;NA&gt;</td>\n",
              "      <td>&lt;NA&gt;</td>\n",
              "      <td>3</td>\n",
              "      <td>1</td>\n",
              "      <td>1</td>\n",
              "    </tr>\n",
              "    <tr>\n",
              "      <th>6</th>\n",
              "      <td>Pos 7</td>\n",
              "      <td>&lt;NA&gt;</td>\n",
              "      <td>&lt;NA&gt;</td>\n",
              "      <td>&lt;NA&gt;</td>\n",
              "      <td>&lt;NA&gt;</td>\n",
              "      <td>5</td>\n",
              "      <td>&lt;NA&gt;</td>\n",
              "      <td>&lt;NA&gt;</td>\n",
              "      <td>&lt;NA&gt;</td>\n",
              "      <td>5</td>\n",
              "      <td>...</td>\n",
              "      <td>&lt;NA&gt;</td>\n",
              "      <td>&lt;NA&gt;</td>\n",
              "      <td>&lt;NA&gt;</td>\n",
              "      <td>&lt;NA&gt;</td>\n",
              "      <td>5</td>\n",
              "      <td>&lt;NA&gt;</td>\n",
              "      <td>&lt;NA&gt;</td>\n",
              "      <td>3</td>\n",
              "      <td>&lt;NA&gt;</td>\n",
              "      <td>1</td>\n",
              "    </tr>\n",
              "    <tr>\n",
              "      <th>7</th>\n",
              "      <td>Pos 8</td>\n",
              "      <td>&lt;NA&gt;</td>\n",
              "      <td>&lt;NA&gt;</td>\n",
              "      <td>&lt;NA&gt;</td>\n",
              "      <td>&lt;NA&gt;</td>\n",
              "      <td>&lt;NA&gt;</td>\n",
              "      <td>&lt;NA&gt;</td>\n",
              "      <td>&lt;NA&gt;</td>\n",
              "      <td>&lt;NA&gt;</td>\n",
              "      <td>5</td>\n",
              "      <td>...</td>\n",
              "      <td>&lt;NA&gt;</td>\n",
              "      <td>&lt;NA&gt;</td>\n",
              "      <td>&lt;NA&gt;</td>\n",
              "      <td>&lt;NA&gt;</td>\n",
              "      <td>5</td>\n",
              "      <td>&lt;NA&gt;</td>\n",
              "      <td>&lt;NA&gt;</td>\n",
              "      <td>3</td>\n",
              "      <td>&lt;NA&gt;</td>\n",
              "      <td>&lt;NA&gt;</td>\n",
              "    </tr>\n",
              "    <tr>\n",
              "      <th>8</th>\n",
              "      <td>Pos 9</td>\n",
              "      <td>&lt;NA&gt;</td>\n",
              "      <td>&lt;NA&gt;</td>\n",
              "      <td>&lt;NA&gt;</td>\n",
              "      <td>&lt;NA&gt;</td>\n",
              "      <td>&lt;NA&gt;</td>\n",
              "      <td>&lt;NA&gt;</td>\n",
              "      <td>&lt;NA&gt;</td>\n",
              "      <td>&lt;NA&gt;</td>\n",
              "      <td>5</td>\n",
              "      <td>...</td>\n",
              "      <td>&lt;NA&gt;</td>\n",
              "      <td>&lt;NA&gt;</td>\n",
              "      <td>&lt;NA&gt;</td>\n",
              "      <td>&lt;NA&gt;</td>\n",
              "      <td>&lt;NA&gt;</td>\n",
              "      <td>&lt;NA&gt;</td>\n",
              "      <td>&lt;NA&gt;</td>\n",
              "      <td>3</td>\n",
              "      <td>&lt;NA&gt;</td>\n",
              "      <td>&lt;NA&gt;</td>\n",
              "    </tr>\n",
              "    <tr>\n",
              "      <th>9</th>\n",
              "      <td>Pos 10</td>\n",
              "      <td>&lt;NA&gt;</td>\n",
              "      <td>&lt;NA&gt;</td>\n",
              "      <td>&lt;NA&gt;</td>\n",
              "      <td>&lt;NA&gt;</td>\n",
              "      <td>&lt;NA&gt;</td>\n",
              "      <td>&lt;NA&gt;</td>\n",
              "      <td>&lt;NA&gt;</td>\n",
              "      <td>&lt;NA&gt;</td>\n",
              "      <td>&lt;NA&gt;</td>\n",
              "      <td>...</td>\n",
              "      <td>&lt;NA&gt;</td>\n",
              "      <td>&lt;NA&gt;</td>\n",
              "      <td>&lt;NA&gt;</td>\n",
              "      <td>&lt;NA&gt;</td>\n",
              "      <td>&lt;NA&gt;</td>\n",
              "      <td>&lt;NA&gt;</td>\n",
              "      <td>&lt;NA&gt;</td>\n",
              "      <td>3</td>\n",
              "      <td>&lt;NA&gt;</td>\n",
              "      <td>&lt;NA&gt;</td>\n",
              "    </tr>\n",
              "    <tr>\n",
              "      <th>10</th>\n",
              "      <td>Pos 11</td>\n",
              "      <td>&lt;NA&gt;</td>\n",
              "      <td>&lt;NA&gt;</td>\n",
              "      <td>&lt;NA&gt;</td>\n",
              "      <td>&lt;NA&gt;</td>\n",
              "      <td>&lt;NA&gt;</td>\n",
              "      <td>&lt;NA&gt;</td>\n",
              "      <td>&lt;NA&gt;</td>\n",
              "      <td>&lt;NA&gt;</td>\n",
              "      <td>&lt;NA&gt;</td>\n",
              "      <td>...</td>\n",
              "      <td>&lt;NA&gt;</td>\n",
              "      <td>&lt;NA&gt;</td>\n",
              "      <td>&lt;NA&gt;</td>\n",
              "      <td>&lt;NA&gt;</td>\n",
              "      <td>&lt;NA&gt;</td>\n",
              "      <td>&lt;NA&gt;</td>\n",
              "      <td>&lt;NA&gt;</td>\n",
              "      <td>&lt;NA&gt;</td>\n",
              "      <td>&lt;NA&gt;</td>\n",
              "      <td>&lt;NA&gt;</td>\n",
              "    </tr>\n",
              "    <tr>\n",
              "      <th>11</th>\n",
              "      <td>Pos 12</td>\n",
              "      <td>&lt;NA&gt;</td>\n",
              "      <td>&lt;NA&gt;</td>\n",
              "      <td>&lt;NA&gt;</td>\n",
              "      <td>&lt;NA&gt;</td>\n",
              "      <td>&lt;NA&gt;</td>\n",
              "      <td>&lt;NA&gt;</td>\n",
              "      <td>&lt;NA&gt;</td>\n",
              "      <td>&lt;NA&gt;</td>\n",
              "      <td>&lt;NA&gt;</td>\n",
              "      <td>...</td>\n",
              "      <td>&lt;NA&gt;</td>\n",
              "      <td>&lt;NA&gt;</td>\n",
              "      <td>&lt;NA&gt;</td>\n",
              "      <td>&lt;NA&gt;</td>\n",
              "      <td>&lt;NA&gt;</td>\n",
              "      <td>&lt;NA&gt;</td>\n",
              "      <td>&lt;NA&gt;</td>\n",
              "      <td>&lt;NA&gt;</td>\n",
              "      <td>&lt;NA&gt;</td>\n",
              "      <td>&lt;NA&gt;</td>\n",
              "    </tr>\n",
              "  </tbody>\n",
              "</table>\n",
              "<p>12 rows × 117 columns</p>\n",
              "</div>\n",
              "    <div class=\"colab-df-buttons\">\n",
              "\n",
              "  <div class=\"colab-df-container\">\n",
              "    <button class=\"colab-df-convert\" onclick=\"convertToInteractive('df-f73ac633-b943-4d22-a563-11de6686d1d0')\"\n",
              "            title=\"Convert this dataframe to an interactive table.\"\n",
              "            style=\"display:none;\">\n",
              "\n",
              "  <svg xmlns=\"http://www.w3.org/2000/svg\" height=\"24px\" viewBox=\"0 -960 960 960\">\n",
              "    <path d=\"M120-120v-720h720v720H120Zm60-500h600v-160H180v160Zm220 220h160v-160H400v160Zm0 220h160v-160H400v160ZM180-400h160v-160H180v160Zm440 0h160v-160H620v160ZM180-180h160v-160H180v160Zm440 0h160v-160H620v160Z\"/>\n",
              "  </svg>\n",
              "    </button>\n",
              "\n",
              "  <style>\n",
              "    .colab-df-container {\n",
              "      display:flex;\n",
              "      gap: 12px;\n",
              "    }\n",
              "\n",
              "    .colab-df-convert {\n",
              "      background-color: #E8F0FE;\n",
              "      border: none;\n",
              "      border-radius: 50%;\n",
              "      cursor: pointer;\n",
              "      display: none;\n",
              "      fill: #1967D2;\n",
              "      height: 32px;\n",
              "      padding: 0 0 0 0;\n",
              "      width: 32px;\n",
              "    }\n",
              "\n",
              "    .colab-df-convert:hover {\n",
              "      background-color: #E2EBFA;\n",
              "      box-shadow: 0px 1px 2px rgba(60, 64, 67, 0.3), 0px 1px 3px 1px rgba(60, 64, 67, 0.15);\n",
              "      fill: #174EA6;\n",
              "    }\n",
              "\n",
              "    .colab-df-buttons div {\n",
              "      margin-bottom: 4px;\n",
              "    }\n",
              "\n",
              "    [theme=dark] .colab-df-convert {\n",
              "      background-color: #3B4455;\n",
              "      fill: #D2E3FC;\n",
              "    }\n",
              "\n",
              "    [theme=dark] .colab-df-convert:hover {\n",
              "      background-color: #434B5C;\n",
              "      box-shadow: 0px 1px 3px 1px rgba(0, 0, 0, 0.15);\n",
              "      filter: drop-shadow(0px 1px 2px rgba(0, 0, 0, 0.3));\n",
              "      fill: #FFFFFF;\n",
              "    }\n",
              "  </style>\n",
              "\n",
              "    <script>\n",
              "      const buttonEl =\n",
              "        document.querySelector('#df-f73ac633-b943-4d22-a563-11de6686d1d0 button.colab-df-convert');\n",
              "      buttonEl.style.display =\n",
              "        google.colab.kernel.accessAllowed ? 'block' : 'none';\n",
              "\n",
              "      async function convertToInteractive(key) {\n",
              "        const element = document.querySelector('#df-f73ac633-b943-4d22-a563-11de6686d1d0');\n",
              "        const dataTable =\n",
              "          await google.colab.kernel.invokeFunction('convertToInteractive',\n",
              "                                                    [key], {});\n",
              "        if (!dataTable) return;\n",
              "\n",
              "        const docLinkHtml = 'Like what you see? Visit the ' +\n",
              "          '<a target=\"_blank\" href=https://colab.research.google.com/notebooks/data_table.ipynb>data table notebook</a>'\n",
              "          + ' to learn more about interactive tables.';\n",
              "        element.innerHTML = '';\n",
              "        dataTable['output_type'] = 'display_data';\n",
              "        await google.colab.output.renderOutput(dataTable, element);\n",
              "        const docLink = document.createElement('div');\n",
              "        docLink.innerHTML = docLinkHtml;\n",
              "        element.appendChild(docLink);\n",
              "      }\n",
              "    </script>\n",
              "  </div>\n",
              "\n",
              "\n",
              "<div id=\"df-41cc7266-ee7b-4d18-956c-4dc415e1e396\">\n",
              "  <button class=\"colab-df-quickchart\" onclick=\"quickchart('df-41cc7266-ee7b-4d18-956c-4dc415e1e396')\"\n",
              "            title=\"Suggest charts\"\n",
              "            style=\"display:none;\">\n",
              "\n",
              "<svg xmlns=\"http://www.w3.org/2000/svg\" height=\"24px\"viewBox=\"0 0 24 24\"\n",
              "     width=\"24px\">\n",
              "    <g>\n",
              "        <path d=\"M19 3H5c-1.1 0-2 .9-2 2v14c0 1.1.9 2 2 2h14c1.1 0 2-.9 2-2V5c0-1.1-.9-2-2-2zM9 17H7v-7h2v7zm4 0h-2V7h2v10zm4 0h-2v-4h2v4z\"/>\n",
              "    </g>\n",
              "</svg>\n",
              "  </button>\n",
              "\n",
              "<style>\n",
              "  .colab-df-quickchart {\n",
              "      --bg-color: #E8F0FE;\n",
              "      --fill-color: #1967D2;\n",
              "      --hover-bg-color: #E2EBFA;\n",
              "      --hover-fill-color: #174EA6;\n",
              "      --disabled-fill-color: #AAA;\n",
              "      --disabled-bg-color: #DDD;\n",
              "  }\n",
              "\n",
              "  [theme=dark] .colab-df-quickchart {\n",
              "      --bg-color: #3B4455;\n",
              "      --fill-color: #D2E3FC;\n",
              "      --hover-bg-color: #434B5C;\n",
              "      --hover-fill-color: #FFFFFF;\n",
              "      --disabled-bg-color: #3B4455;\n",
              "      --disabled-fill-color: #666;\n",
              "  }\n",
              "\n",
              "  .colab-df-quickchart {\n",
              "    background-color: var(--bg-color);\n",
              "    border: none;\n",
              "    border-radius: 50%;\n",
              "    cursor: pointer;\n",
              "    display: none;\n",
              "    fill: var(--fill-color);\n",
              "    height: 32px;\n",
              "    padding: 0;\n",
              "    width: 32px;\n",
              "  }\n",
              "\n",
              "  .colab-df-quickchart:hover {\n",
              "    background-color: var(--hover-bg-color);\n",
              "    box-shadow: 0 1px 2px rgba(60, 64, 67, 0.3), 0 1px 3px 1px rgba(60, 64, 67, 0.15);\n",
              "    fill: var(--button-hover-fill-color);\n",
              "  }\n",
              "\n",
              "  .colab-df-quickchart-complete:disabled,\n",
              "  .colab-df-quickchart-complete:disabled:hover {\n",
              "    background-color: var(--disabled-bg-color);\n",
              "    fill: var(--disabled-fill-color);\n",
              "    box-shadow: none;\n",
              "  }\n",
              "\n",
              "  .colab-df-spinner {\n",
              "    border: 2px solid var(--fill-color);\n",
              "    border-color: transparent;\n",
              "    border-bottom-color: var(--fill-color);\n",
              "    animation:\n",
              "      spin 1s steps(1) infinite;\n",
              "  }\n",
              "\n",
              "  @keyframes spin {\n",
              "    0% {\n",
              "      border-color: transparent;\n",
              "      border-bottom-color: var(--fill-color);\n",
              "      border-left-color: var(--fill-color);\n",
              "    }\n",
              "    20% {\n",
              "      border-color: transparent;\n",
              "      border-left-color: var(--fill-color);\n",
              "      border-top-color: var(--fill-color);\n",
              "    }\n",
              "    30% {\n",
              "      border-color: transparent;\n",
              "      border-left-color: var(--fill-color);\n",
              "      border-top-color: var(--fill-color);\n",
              "      border-right-color: var(--fill-color);\n",
              "    }\n",
              "    40% {\n",
              "      border-color: transparent;\n",
              "      border-right-color: var(--fill-color);\n",
              "      border-top-color: var(--fill-color);\n",
              "    }\n",
              "    60% {\n",
              "      border-color: transparent;\n",
              "      border-right-color: var(--fill-color);\n",
              "    }\n",
              "    80% {\n",
              "      border-color: transparent;\n",
              "      border-right-color: var(--fill-color);\n",
              "      border-bottom-color: var(--fill-color);\n",
              "    }\n",
              "    90% {\n",
              "      border-color: transparent;\n",
              "      border-bottom-color: var(--fill-color);\n",
              "    }\n",
              "  }\n",
              "</style>\n",
              "\n",
              "  <script>\n",
              "    async function quickchart(key) {\n",
              "      const quickchartButtonEl =\n",
              "        document.querySelector('#' + key + ' button');\n",
              "      quickchartButtonEl.disabled = true;  // To prevent multiple clicks.\n",
              "      quickchartButtonEl.classList.add('colab-df-spinner');\n",
              "      try {\n",
              "        const charts = await google.colab.kernel.invokeFunction(\n",
              "            'suggestCharts', [key], {});\n",
              "      } catch (error) {\n",
              "        console.error('Error during call to suggestCharts:', error);\n",
              "      }\n",
              "      quickchartButtonEl.classList.remove('colab-df-spinner');\n",
              "      quickchartButtonEl.classList.add('colab-df-quickchart-complete');\n",
              "    }\n",
              "    (() => {\n",
              "      let quickchartButtonEl =\n",
              "        document.querySelector('#df-41cc7266-ee7b-4d18-956c-4dc415e1e396 button');\n",
              "      quickchartButtonEl.style.display =\n",
              "        google.colab.kernel.accessAllowed ? 'block' : 'none';\n",
              "    })();\n",
              "  </script>\n",
              "</div>\n",
              "\n",
              "  <div id=\"id_55afd951-80d5-4cd5-9e7f-4c7e6df132bc\">\n",
              "    <style>\n",
              "      .colab-df-generate {\n",
              "        background-color: #E8F0FE;\n",
              "        border: none;\n",
              "        border-radius: 50%;\n",
              "        cursor: pointer;\n",
              "        display: none;\n",
              "        fill: #1967D2;\n",
              "        height: 32px;\n",
              "        padding: 0 0 0 0;\n",
              "        width: 32px;\n",
              "      }\n",
              "\n",
              "      .colab-df-generate:hover {\n",
              "        background-color: #E2EBFA;\n",
              "        box-shadow: 0px 1px 2px rgba(60, 64, 67, 0.3), 0px 1px 3px 1px rgba(60, 64, 67, 0.15);\n",
              "        fill: #174EA6;\n",
              "      }\n",
              "\n",
              "      [theme=dark] .colab-df-generate {\n",
              "        background-color: #3B4455;\n",
              "        fill: #D2E3FC;\n",
              "      }\n",
              "\n",
              "      [theme=dark] .colab-df-generate:hover {\n",
              "        background-color: #434B5C;\n",
              "        box-shadow: 0px 1px 3px 1px rgba(0, 0, 0, 0.15);\n",
              "        filter: drop-shadow(0px 1px 2px rgba(0, 0, 0, 0.3));\n",
              "        fill: #FFFFFF;\n",
              "      }\n",
              "    </style>\n",
              "    <button class=\"colab-df-generate\" onclick=\"generateWithVariable('df_sequences')\"\n",
              "            title=\"Generate code using this dataframe.\"\n",
              "            style=\"display:none;\">\n",
              "\n",
              "  <svg xmlns=\"http://www.w3.org/2000/svg\" height=\"24px\"viewBox=\"0 0 24 24\"\n",
              "       width=\"24px\">\n",
              "    <path d=\"M7,19H8.4L18.45,9,17,7.55,7,17.6ZM5,21V16.75L18.45,3.32a2,2,0,0,1,2.83,0l1.4,1.43a1.91,1.91,0,0,1,.58,1.4,1.91,1.91,0,0,1-.58,1.4L9.25,21ZM18.45,9,17,7.55Zm-12,3A5.31,5.31,0,0,0,4.9,8.1,5.31,5.31,0,0,0,1,6.5,5.31,5.31,0,0,0,4.9,4.9,5.31,5.31,0,0,0,6.5,1,5.31,5.31,0,0,0,8.1,4.9,5.31,5.31,0,0,0,12,6.5,5.46,5.46,0,0,0,6.5,12Z\"/>\n",
              "  </svg>\n",
              "    </button>\n",
              "    <script>\n",
              "      (() => {\n",
              "      const buttonEl =\n",
              "        document.querySelector('#id_55afd951-80d5-4cd5-9e7f-4c7e6df132bc button.colab-df-generate');\n",
              "      buttonEl.style.display =\n",
              "        google.colab.kernel.accessAllowed ? 'block' : 'none';\n",
              "\n",
              "      buttonEl.onclick = () => {\n",
              "        google.colab.notebook.generateWithVariable('df_sequences');\n",
              "      }\n",
              "      })();\n",
              "    </script>\n",
              "  </div>\n",
              "\n",
              "    </div>\n",
              "  </div>\n"
            ],
            "application/vnd.google.colaboratory.intrinsic+json": {
              "type": "dataframe",
              "variable_name": "df_sequences"
            }
          },
          "metadata": {},
          "execution_count": 41
        }
      ]
    },
    {
      "cell_type": "markdown",
      "source": [
        "<br>\n",
        "\n",
        "To explore similarities among motifs, we use **Dynamic Time Warping (DTW)** to measure distances between chromatin state sequences and apply **agglomerative clustering** to build a dendrogram.\n",
        "\n",
        "<br>\n",
        "\n",
        "The arguments for the function below are:\n",
        "\n",
        "* `categorical`:\n",
        "  * If `True`, treats chromatin states as categorical labels—differences between any two distinct values are treated equally.\n",
        "\n",
        "  * If `False`, treats values as numeric, so closer numbers (e.g., 1 and 2) are considered more similar than distant ones (e.g., 1 and 15).\n",
        "\n",
        "* `fillna_method`: How to handle NaN values caused by padding shorter sequences. Use `ffill` to forward-fill or `0` to fill with zeros.\n",
        "\n",
        "* `linkage_method`: The linkage criterion used in agglomerative clustering. Common options include `complete`, `average`, `ward`, etc. See [SciPy documentation](https://docs.scipy.org/doc/scipy/reference/generated/scipy.cluster.hierarchy.linkage.html) for details.\n",
        "\n",
        "* `threshold`: The distance threshold for cutting the dendrogram to estimate the number of clusters. A higher value merges more branches; a lower value splits more finely."
      ],
      "metadata": {
        "id": "S2f_PJT-G94b"
      }
    },
    {
      "cell_type": "code",
      "source": [
        "# dendrogram\n",
        "y_pred= crb.motif_init2pred_with_dendrogram(input_path='/content/init_df.csv', categorical=False, fillna_method='ffill', linkage_method='complete', threshold=35)"
      ],
      "metadata": {
        "id": "lIY8-PveEZJC"
      },
      "execution_count": null,
      "outputs": []
    },
    {
      "cell_type": "markdown",
      "source": [
        "<br>\n",
        "\n",
        "Since the ideal number of clusters is unknown, the **dendrogram** provides a visual guide for estimating cluster structure. The threshold value (e.g., 35) controls how high we cut the tree 🪚🌲: a higher threshold results in fewer, larger clusters, while a lower threshold creates more, smaller clusters. This step is a preliminary guide for cluster selection before applying final clustering.\n",
        "\n",
        "<br>\n",
        "\n",
        "📊 **Clustering Output**: `y_pred`\n",
        "\n",
        "The variable `y_pred` contains the predicted cluster labels for each motif, returned as a NumPy array. Each number corresponds to a cluster index assigned based on DTW-based agglomerative clustering.\n",
        "\n",
        "<br>"
      ],
      "metadata": {
        "id": "yW3p989HWJrN"
      }
    },
    {
      "cell_type": "code",
      "source": [
        "y_pred"
      ],
      "metadata": {
        "id": "ije-EZorWCzb",
        "outputId": "37f64a45-eef7-4cd4-be59-a412341b8d35",
        "colab": {
          "base_uri": "https://localhost:8080/"
        }
      },
      "execution_count": null,
      "outputs": [
        {
          "output_type": "execute_result",
          "data": {
            "text/plain": [
              "array([ 3,  5,  3,  7,  3,  8,  5,  9,  3,  5,  9,  5,  3,  3,  6,  3,  5,\n",
              "        5, 12,  5,  3,  5,  3,  5,  3, 13,  9,  5, 12, 11, 10,  3, 11,  3,\n",
              "        5,  6,  3, 10,  5,  1,  5,  5, 13, 13,  9,  3,  5, 10,  5,  6,  6,\n",
              "        6,  5,  9,  5,  1, 11,  9,  5,  3,  3,  3,  9,  3,  9,  9,  5, 13,\n",
              "        8,  5,  6, 11,  5,  9, 11,  3,  9,  9,  8, 10,  5,  9,  5,  6,  6,\n",
              "        8, 13,  5,  3,  3,  5,  5,  9,  2,  9, 10, 11,  5, 10,  9,  5, 10,\n",
              "        3,  4,  6, 10, 11,  4, 11,  9, 10,  3,  4,  9,  9,  8],\n",
              "      dtype=int32)"
            ]
          },
          "metadata": {},
          "execution_count": 64
        }
      ]
    },
    {
      "cell_type": "markdown",
      "source": [
        "<br>\n",
        "\n",
        "**DTW Distance Matrix**\n",
        "\n",
        "🏃‍➡️ If you want to quickly obtain the `dtw_distance_matrix` and `y_pred` after deciding on the number of clusters from the dendrogram, run `motif_init2pred_test` to generate them.\n"
      ],
      "metadata": {
        "id": "X6Pbr8nXjLm7"
      }
    },
    {
      "cell_type": "code",
      "source": [
        "dtw_distance_matrix, y_pred=crb.motif_init2pred(input_path='/content/init_df.csv', categorical=False, fillna_method=\"ffill\", n_clusters=13, linkage_method=\"complete\")\n",
        "dtw_distance_matrix"
      ],
      "metadata": {
        "id": "1ePEz-rIagmt",
        "outputId": "3053a564-627d-4286-9a89-50cb7b75d253",
        "colab": {
          "base_uri": "https://localhost:8080/"
        }
      },
      "execution_count": null,
      "outputs": [
        {
          "output_type": "stream",
          "name": "stdout",
          "text": [
            "DTW computation time: 10.121694326400757 seconds\n",
            "Clustering Duration: 0:00:00.001508\n"
          ]
        },
        {
          "output_type": "execute_result",
          "data": {
            "text/plain": [
              "array([[ 0.        ,  1.73205081,  0.        , ..., 10.39230485,\n",
              "        11.66190379, 13.85640646],\n",
              "       [ 1.73205081,  0.        ,  1.73205081, ...,  9.        ,\n",
              "        10.72380529, 13.07669683],\n",
              "       [ 0.        ,  1.73205081,  0.        , ..., 10.39230485,\n",
              "        11.66190379, 13.85640646],\n",
              "       ...,\n",
              "       [10.39230485,  9.        , 10.39230485, ...,  0.        ,\n",
              "         2.82842712,  5.29150262],\n",
              "       [11.66190379, 10.72380529, 11.66190379, ...,  2.82842712,\n",
              "         0.        ,  1.41421356],\n",
              "       [13.85640646, 13.07669683, 13.85640646, ...,  5.29150262,\n",
              "         1.41421356,  0.        ]])"
            ]
          },
          "metadata": {},
          "execution_count": 88
        }
      ]
    },
    {
      "cell_type": "markdown",
      "source": [
        "🎨 Also, if you're interested in how motifs group together based on similarity, this heatmap shows their DTW distances — darker areas mean more similar motifs, and the order reflects clustering structure."
      ],
      "metadata": {
        "id": "FkeIKCC-bIoq"
      }
    },
    {
      "cell_type": "code",
      "source": [
        "from scipy.cluster.hierarchy import leaves_list\n",
        "with warnings.catch_warnings():\n",
        "    warnings.simplefilter(\"ignore\", category=ClusterWarning)\n",
        "    linkage_matrix = linkage(dtw_distance_matrix, method='complete')\n",
        "    ordered_indices = leaves_list(linkage_matrix)\n",
        "    reordered_matrix = dtw_distance_matrix[ordered_indices][:, ordered_indices]\n",
        "\n",
        "plt.figure(figsize=(6, 5))\n",
        "sns.heatmap(reordered_matrix, cmap='viridis', square=True)\n",
        "plt.title('Cluster-Reordered DTW Distance Matrix')\n",
        "plt.xlabel('Motif Index (reordered)')\n",
        "plt.ylabel('Motif Index (reordered)')\n",
        "plt.show()"
      ],
      "metadata": {
        "id": "YSoOEcIDbRGs",
        "outputId": "414711d1-eb33-4bfe-c132-bf0b93055e53",
        "colab": {
          "base_uri": "https://localhost:8080/",
          "height": 496
        }
      },
      "execution_count": null,
      "outputs": [
        {
          "output_type": "display_data",
          "data": {
            "text/plain": [
              "<Figure size 600x500 with 2 Axes>"
            ],
            "image/png": "[encoded data removed]"
          },
          "metadata": {}
        }
      ]
    },
    {
      "cell_type": "markdown",
      "source": [
        "Here, each value indicates the cluster assignment of a motif (i.e., the column in the input matrix). Motifs with the same number belong to the same cluster and are considered to share similar chromatin state transition patterns.\n",
        "\n",
        "\n",
        "<br>"
      ],
      "metadata": {
        "id": "ARP061MuWare"
      }
    },
    {
      "cell_type": "code",
      "source": [
        "!wget -O css_utility_test.py https://raw.githubusercontent.com/caocao0525/NSP/main/css_utility_colab_dev_working.py\n",
        "# https://github.com/caocao0525/NSP/blob/main/css_utility_colab_dev_working.py\n",
        "\n"
      ],
      "metadata": {
        "collapsed": true,
        "id": "OwqsXQhdk4OZ",
        "outputId": "1e85976b-f5d8-4f88-d8bb-459d8b323053",
        "colab": {
          "base_uri": "https://localhost:8080/"
        }
      },
      "execution_count": null,
      "outputs": [
        {
          "output_type": "stream",
          "name": "stdout",
          "text": [
            "--2025-04-24 08:45:15--  https://raw.githubusercontent.com/caocao0525/NSP/main/css_utility_colab_dev_working.py\n",
            "Resolving raw.githubusercontent.com (raw.githubusercontent.com)... 185.199.111.133, 185.199.109.133, 185.199.110.133, ...\n",
            "Connecting to raw.githubusercontent.com (raw.githubusercontent.com)|185.199.111.133|:443... connected.\n",
            "HTTP request sent, awaiting response... 200 OK\n",
            "Length: 121508 (119K) [text/plain]\n",
            "Saving to: ‘css_utility_test.py’\n",
            "\n",
            "\rcss_utility_test.py   0%[                    ]       0  --.-KB/s               \rcss_utility_test.py 100%[===================>] 118.66K  --.-KB/s    in 0.03s   \n",
            "\n",
            "2025-04-24 08:45:15 (4.46 MB/s) - ‘css_utility_test.py’ saved [121508/121508]\n",
            "\n"
          ]
        }
      ]
    },
    {
      "cell_type": "code",
      "source": [
        "import css_utility_test as crb_test"
      ],
      "metadata": {
        "id": "8um42iPOnzB3"
      },
      "execution_count": null,
      "outputs": []
    },
    {
      "cell_type": "markdown",
      "source": [
        "<br>\n",
        "\n",
        "**🎨 Cluster Visualization**\n",
        "\n",
        "This graph-based view shows how chromatin state motifs are grouped based on their similarity. Each node represents a motif, and motifs assigned to the same cluster are visualized together within a colored bubble. The letters show the chromatin state sequences, and their position in the layout reflects the result of similarity-based clustering.\n",
        "\n",
        "The result image is automatically saved as `cluster_result.pdf`. You can view it by clicking the file icon on the left sidebar.\n",
        "\n",
        "<br>"
      ],
      "metadata": {
        "id": "yieNL22c27mB"
      }
    },
    {
      "cell_type": "code",
      "source": [
        "crb.motif_init2cluster_vis(input_path='/content/init_df.csv', categorical=False, n_clusters=11, fillna_method=\"ffill\", linkage_method=\"complete\", random_state=2, font_scale=0.0035,font_v_scale=10, fig_w=12, fig_h=8, node_size=1000, node_dist=0.05)"
      ],
      "metadata": {
        "id": "MMI_qeUUv-S0",
        "outputId": "ab6794d3-bff3-492e-a963-9ed17df72f01",
        "colab": {
          "base_uri": "https://localhost:8080/",
          "height": 704
        }
      },
      "execution_count": null,
      "outputs": [
        {
          "output_type": "stream",
          "name": "stdout",
          "text": [
            "DTW computation time: 8.550109386444092 seconds\n",
            "Clustering Duration: 0:00:00.001552\n",
            "11\n"
          ]
        },
        {
          "output_type": "display_data",
          "data": {
            "text/plain": [
              "<Figure size 1200x800 with 1 Axes>"
            ],
            "image/png": "[encoded data removed]"
          },
          "metadata": {}
        }
      ]
    },
    {
      "cell_type": "markdown",
      "source": [
        "🔧 You can adjust the visualization parameters below to improve clarity or explore different clustering outcomes:\n",
        "\n",
        "* Visualization Parameters Overview\n",
        "\n",
        "  - `input_path`: Path to input motif CSV\n",
        "  - `categorical`: Set to `True` for categorical comparison, `False` for numerical.\n",
        "  - `n_clusters`: Number of clusters to form\n",
        "  - `fillna_method`: Fill method for missing values (e.g., `\"ffill\"`)\n",
        "  - `linkage_method`: Clustering method like `\"complete\"` or `\"average\"`\n",
        "  - `random_state`: Controls layout reproducibility\n",
        "  - `font_scale`: Controls motif letter size in nodes\n",
        "  - `font_v_scale`: Adjusts vertical spacing of letters\n",
        "  - `fig_w`, `fig_h`: Size of the entire figure\n",
        "  - `node_size`: Base size of nodes\n",
        "  - `node_dist`: Controls node spacing in the layout\n",
        "\n",
        "\n",
        "<br><br>\n",
        "\n",
        "**🎨 UMAP-Based Cluster Visualization**\n",
        "\n",
        "To explore the overall structure of motif clusters in a more intuitive 2D layout, we use UMAP (Uniform Manifold Approximation and Projection). This reduces the high-dimensional DTW distance matrix to two dimensions while preserving meaningful relationships between motifs.\n",
        "\n",
        "Each point represents a motif, and colors indicate the cluster assignments from agglomerative clustering. This plot helps you visually assess how distinct (or overlapping) the clusters are."
      ],
      "metadata": {
        "id": "My4mJjDEWSU-"
      }
    },
    {
      "cell_type": "code",
      "execution_count": null,
      "metadata": {
        "id": "W7oHvL9XOu8X",
        "colab": {
          "base_uri": "https://localhost:8080/",
          "height": 527
        },
        "outputId": "2db43f8b-1b30-49d1-feee-b2fffd898fa0"
      },
      "outputs": [
        {
          "output_type": "stream",
          "name": "stdout",
          "text": [
            "DTW computation time: 8.806169986724854 seconds\n",
            "Clustering Duration: 0:00:00.002768\n"
          ]
        },
        {
          "output_type": "display_data",
          "data": {
            "text/plain": [
              "<Figure size 800x500 with 2 Axes>"
            ],
            "image/png": "[encoded data removed]"
          },
          "metadata": {}
        }
      ],
      "source": [
        "crb_test.motif_init2umap(input_path='/content/init_df.csv', categorical=False,  n_clusters=11, fillna_method=\"ffill\", linkage_method=\"complete\", n_neighbors=5, min_dist=0.3, random_state=2)"
      ]
    },
    {
      "cell_type": "markdown",
      "source": [
        "* 🔧 Key Parameters\n",
        "\n",
        "  * `n_neighbors`: Controls how local or global the structure of the data is.\n",
        "Smaller values emphasize local cluster shape; larger values highlight global patterns.\n",
        "\n",
        "  * `min_dist`: Controls how tightly UMAP is allowed to pack points together.\n",
        "Smaller values reveal finer substructures, while larger values spread out the clusters.\n",
        "\n",
        "  * `n_clusters`: Number of clusters from hierarchical clustering (used for coloring).\n"
      ],
      "metadata": {
        "id": "qE3GGwoR_Sgx"
      }
    },
    {
      "cell_type": "markdown",
      "source": [
        "<br><br>\n",
        "\n",
        "----\n",
        "\n",
        "\n",
        "<br><br>\n",
        "\n",
        "\n",
        "**💫 Wrapping Up**\n",
        "\n",
        "🥳 Congratulations on completing the tutorial! 🎉\n",
        "\n",
        "You've now walked through the full pipeline — from data download and curation, to sequence preprocessing for pretraining, followed by fine-tuning, and finally visualizing motifs and their clustering.\n",
        "\n",
        "This end-to-end workflow empowers you to explore chromatin state patterns in a structured and interpretable way.\n",
        "\n",
        "Feel free to adjust parameters, test on your own datasets, or extend the pipeline with custom modules. Whether you're aiming for predictive modeling or biological insight, you're now equipped to take ChromBERT further.\n",
        "\n",
        "Thanks for exploring with us — and happy clustering! 🧬✨\n",
        "\n",
        "\n",
        "💮\n",
        "\n",
        "<br>\n",
        "\n",
        "-----"
      ],
      "metadata": {
        "id": "3XARoDGhBSfE"
      }
    }
  ],
  "metadata": {
    "colab": {
      "provenance": [],
      "authorship_tag": "ABX9TyMk26o/h54uS8cRjgwLJ1F0"
    },
    "kernelspec": {
      "display_name": "Python 3",
      "name": "python3"
    },
    "language_info": {
      "name": "python"
    }
  },
  "nbformat": 4,
  "nbformat_minor": 0
}