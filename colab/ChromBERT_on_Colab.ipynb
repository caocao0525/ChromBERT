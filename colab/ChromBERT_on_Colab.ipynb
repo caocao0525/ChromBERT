{
  "cells": [
    {
      "cell_type": "markdown",
      "metadata": {
        "id": "10gABVz9VZ4v"
      },
      "source": [
        "\n",
        "![Status](https://img.shields.io/static/v1.svg?label=Status&message=Developing&color=yellow)\n",
        "\n",
        "\n",
        "<p align=\"center\">\n",
        "  <img src=\"https://github.com/caocao0525/ChromBERT/blob/chrombert-py311-extended/colab/colab_data/chrombert_logo_fin.png?raw=true\" alt=\"ChromBERT logo\" width=\"200\">\n",
        "</p>\n",
        "\n",
        "# ChromBERT: Uncovering Chromatin State Motifs in the Human Genome Using a BERT-based Approach\n",
        "\n",
        "\n",
        "- Github repository: [![Github](https://img.shields.io/static/v1.svg?logo=github&label=Repo&message=Github&color=olive)](https://github.com/caocao0525/ChromBERT)<br>\n",
        "- Tutorial Notebook: [![Open In Collab](https://colab.research.google.com/assets/colab-badge.svg)](https://colab.research.google.com/github/caocao0525/ChromBERT/blob/chrombert-py311-extended/colab/ChromBERT_on_Colab.ipynb)\n",
        "\n",
        "<br>\n",
        "\n",
        "\n",
        "\n",
        "---\n",
        "📖 **Citation (Preprint)**:<br>\n",
        "\n",
        "- Seohyun Lee, Che Lin, Chien-Yu Chen, and Ryuichiro Nakato* (2024) ChromBERT: Uncovering Chromatin State Motifs in the Human Genome Using a BERT-based Approach, *bioRxiv* [![DOI:10.1101/2024.07.25.605219](http://img.shields.io/badge/DOI-10.1101/2024.07.25.605219-008080.svg)](https://doi.org/10.1101/2024.07.25.605219)\n",
        "<!--**DOI:** [10.1101/2024.07.25.605219](https://doi.org/10.1101/2024.07.25.605219) -->\n",
        "\n",
        "---"
      ]
    },
    {
      "cell_type": "markdown",
      "metadata": {
        "id": "x_wNp6bXJb84"
      },
      "source": [
        "<br>\n",
        "\n",
        "Chromatin states are crucial for gene regulation and cellular identity, defined by unique histone modifications. This tutorial introduces **ChromBERT**, a BERT-based model tailored to analyze chromatin state annotation sequences (Fig. 1). **ChromBERT** efficiently processes these sequences to identify patterns during its pretraining stage, learning general chromatin state patterns across the genome. During fine-tuning, **ChromBERT** distinguishes between promoters associated with high and low gene expression based on their distinctive patterns.\n",
        "\n",
        "Additionally, **ChromBERT** allows users to extract motif-like chromatin state patterns from specific regions, such as highly expressed promoters, utilizing the attention matrix from BERT training. The tool also incorporates motif clustering with Dynamic Time Warping (DTW) to enhance understanding of genomic regions, potentially aiding in the discovery of novel biological functions and enriching our insights into chromatin dynamics.\n",
        "\n",
        "<br>\n",
        "\n",
        "<!-- <figure>\n",
        "<img src=\"https://drive.google.com/uc?export=view&id=12OK_ZjwcjRNIlsPItRbhXy-kKGfEKqsh\" alt=\"ChromBERT Overview\" width=\"800\"/>\n",
        "<figcaption>Fig.1 The Overview of ChromBERT</figcaption>\n",
        "</figure> -->\n",
        "\n",
        "<figure>\n",
        "<img src=\"https://github.com/caocao0525/ChromBERT/blob/chrombert-py311-extended/colab/colab_data/abs_fig.png?raw=true\" alt=\"ChromBERT Overview\" width=\"800\"/>\n",
        "<figcaption>Fig. 1: The Overview of ChromBERT</figcaption>\n",
        "</figure>\n",
        "\n",
        "\n",
        "<br><br>\n",
        "\n"
      ]
    },
    {
      "cell_type": "markdown",
      "metadata": {
        "id": "UBsGwJlvZ0fB"
      },
      "source": [
        "---\n",
        "<br>\n",
        "\n",
        "# Objective\n",
        "\n",
        "In this tutorial, we will:\n",
        "\n",
        "<!-- ![ChromBERT](https://img.shields.io/static/v1.svg?label=Tutorial&message=Preprocessing&color=salmon) -->\n",
        "<!-- ![ChromBERT](https://img.shields.io/static/v1.svg?label=Tutorial&message=Preprocessing&color=salmon) -->\n",
        "<!-- - Aim 1. Master Basics of ChromBERT\n",
        "  - 1-1. Understand chromatin state annotation\n",
        "  - 1-2. Learn the alphabetical encoding of chromatin states\n",
        "  - 1-3. Follow the data curation process -->\n",
        "\n",
        "<!-- ![ChromBERT](https://img.shields.io/static/v1.svg?label=Tutorial&message=Preprocessing&color=salmon) -->\n",
        "- 🎯 **Aim**: Master the overall process for **ChromBERT**\n",
        "  1. Prepare input data for **pretraining**\n",
        "  2. Prepare input data for **fine-tuning**\n",
        "  3. Cluster the detected chromatin state **motifs**\n",
        "  \n",
        "\n",
        "Join us as we explore these essential steps in utilizing **ChromBERT** for epigenomic analysis! 🚀✨\n",
        "\n",
        "<!-- ![ChromBERT](https://img.shields.io/static/v1.svg?label=Tutorial&message=Training&color=cornflowerblue) -->\n",
        "<!-- ![ChromBERT](https://img.shields.io/static/v1.svg?label=Tutorial&message=Training&color=cornflowerblue) -->\n",
        "<!-- - Aim 3. Master ChromBERT Training Workflow\n",
        " - 3-1. Explore the pretraining techniques\n",
        " - 3-2. Delve into fine-tuning procedures\n",
        " - 3-3. Analyze results derived from ChromBERT -->\n",
        "\n",
        "\n",
        "<!-- <br> -->\n"
      ]
    },
    {
      "cell_type": "markdown",
      "metadata": {
        "id": "FZxPKCQzixxy"
      },
      "source": [
        "---\n",
        "\n",
        "# 1. Environment Setup\n"
      ]
    },
    {
      "cell_type": "markdown",
      "metadata": {
        "id": "K998-fKUjHBy"
      },
      "source": [
        "## Package Installation\n",
        "\n",
        "Before we dive into the hands-on part of this tutorial, let's equip ourselves with all the necessary tools. Follow these steps to install the required packages, ensuring you have everything you need to seamlessly run **ChromBERT** and explore the intricacies of epigenomic data analysis.\n",
        "\n",
        "\n",
        "- Write the `requirements.txt` file and install the required packages 📦"
      ]
    },
    {
      "cell_type": "code",
      "source": [
        "%%writefile requirements.txt\n",
        "numpy~=2.0\n",
        "pandas~=2.2\n",
        "matplotlib~=3.10\n",
        "networkx~=3.4\n",
        "seaborn~=0.13\n",
        "scipy~=1.14\n",
        "scikit-learn~=1.6\n",
        "tqdm~=4.67\n",
        "wordcloud~=1.9\n",
        "logomaker~=0.8\n",
        "tslearn~=0.6\n",
        "notebook\n",
        "h5py\n",
        "ipywidgets\n",
        "umap-learn~=0.5\n",
        "biopython\n",
        "statsmodels~=0.14\n",
        "seqeval~=1.2\n",
        "pyahocorasick\n",
        "sentencepiece~=0.1.99\n",
        "tensorboardX\n",
        "stylecloud\n",
        "pybedtools~=0.12"
      ],
      "metadata": {
        "colab": {
          "base_uri": "https://localhost:8080/"
        },
        "id": "lX4psGio4Ow3",
        "outputId": "bdf4a5fa-62b4-4470-cec7-411705d9391f"
      },
      "execution_count": 1,
      "outputs": [
        {
          "output_type": "stream",
          "name": "stdout",
          "text": [
            "Writing requirements.txt\n"
          ]
        }
      ]
    },
    {
      "cell_type": "code",
      "execution_count": 3,
      "metadata": {
        "colab": {
          "base_uri": "https://localhost:8080/"
        },
        "collapsed": true,
        "id": "IphV6IWIpp2F",
        "outputId": "32825f56-73e7-4624-da1a-cdbe31bd6cd0"
      },
      "outputs": [
        {
          "output_type": "stream",
          "name": "stdout",
          "text": [
            "Requirement already satisfied: numpy~=2.0 in /usr/local/lib/python3.11/dist-packages (from -r requirements.txt (line 1)) (2.0.2)\n",
            "Requirement already satisfied: pandas~=2.2 in /usr/local/lib/python3.11/dist-packages (from -r requirements.txt (line 2)) (2.2.2)\n",
            "Requirement already satisfied: matplotlib~=3.10 in /usr/local/lib/python3.11/dist-packages (from -r requirements.txt (line 3)) (3.10.0)\n",
            "Requirement already satisfied: networkx~=3.4 in /usr/local/lib/python3.11/dist-packages (from -r requirements.txt (line 4)) (3.4.2)\n",
            "Requirement already satisfied: seaborn~=0.13 in /usr/local/lib/python3.11/dist-packages (from -r requirements.txt (line 5)) (0.13.2)\n",
            "Requirement already satisfied: scipy~=1.14 in /usr/local/lib/python3.11/dist-packages (from -r requirements.txt (line 6)) (1.15.3)\n",
            "Requirement already satisfied: scikit-learn~=1.6 in /usr/local/lib/python3.11/dist-packages (from -r requirements.txt (line 7)) (1.6.1)\n",
            "Requirement already satisfied: tqdm~=4.67 in /usr/local/lib/python3.11/dist-packages (from -r requirements.txt (line 8)) (4.67.1)\n",
            "Requirement already satisfied: wordcloud~=1.9 in /usr/local/lib/python3.11/dist-packages (from -r requirements.txt (line 9)) (1.9.4)\n",
            "Collecting logomaker~=0.8 (from -r requirements.txt (line 10))\n",
            "  Downloading logomaker-0.8.7-py3-none-any.whl.metadata (2.6 kB)\n",
            "Collecting tslearn~=0.6 (from -r requirements.txt (line 11))\n",
            "  Downloading tslearn-0.6.3-py3-none-any.whl.metadata (14 kB)\n",
            "Requirement already satisfied: notebook in /usr/local/lib/python3.11/dist-packages (from -r requirements.txt (line 12)) (6.5.7)\n",
            "Requirement already satisfied: h5py in /usr/local/lib/python3.11/dist-packages (from -r requirements.txt (line 13)) (3.13.0)\n",
            "Requirement already satisfied: ipywidgets in /usr/local/lib/python3.11/dist-packages (from -r requirements.txt (line 14)) (7.7.1)\n",
            "Requirement already satisfied: umap-learn~=0.5 in /usr/local/lib/python3.11/dist-packages (from -r requirements.txt (line 15)) (0.5.7)\n",
            "Collecting biopython (from -r requirements.txt (line 16))\n",
            "  Downloading biopython-1.85-cp311-cp311-manylinux_2_17_x86_64.manylinux2014_x86_64.whl.metadata (13 kB)\n",
            "Requirement already satisfied: statsmodels~=0.14 in /usr/local/lib/python3.11/dist-packages (from -r requirements.txt (line 17)) (0.14.4)\n",
            "Collecting seqeval~=1.2 (from -r requirements.txt (line 18))\n",
            "  Downloading seqeval-1.2.2.tar.gz (43 kB)\n",
            "\u001b[2K     \u001b[90m━━━━━━━━━━━━━━━━━━━━━━━━━━━━━━━━━━━━━━━━\u001b[0m \u001b[32m43.6/43.6 kB\u001b[0m \u001b[31m1.8 MB/s\u001b[0m eta \u001b[36m0:00:00\u001b[0m\n",
            "\u001b[?25h  Preparing metadata (setup.py) ... \u001b[?25l\u001b[?25hdone\n",
            "Collecting pyahocorasick (from -r requirements.txt (line 19))\n",
            "  Downloading pyahocorasick-2.1.0-cp311-cp311-manylinux_2_17_x86_64.manylinux2014_x86_64.whl.metadata (13 kB)\n",
            "Collecting sentencepiece~=0.1.99 (from -r requirements.txt (line 20))\n",
            "  Downloading sentencepiece-0.1.99-cp311-cp311-manylinux_2_17_x86_64.manylinux2014_x86_64.whl.metadata (7.7 kB)\n",
            "Collecting tensorboardX (from -r requirements.txt (line 21))\n",
            "  Downloading tensorboardX-2.6.2.2-py2.py3-none-any.whl.metadata (5.8 kB)\n",
            "Collecting stylecloud (from -r requirements.txt (line 22))\n",
            "  Downloading stylecloud-0.5.2.tar.gz (262 kB)\n",
            "\u001b[2K     \u001b[90m━━━━━━━━━━━━━━━━━━━━━━━━━━━━━━━━━━━━━━━\u001b[0m \u001b[32m262.1/262.1 kB\u001b[0m \u001b[31m8.5 MB/s\u001b[0m eta \u001b[36m0:00:00\u001b[0m\n",
            "\u001b[?25h  Preparing metadata (setup.py) ... \u001b[?25l\u001b[?25hdone\n",
            "Collecting pybedtools~=0.12 (from -r requirements.txt (line 23))\n",
            "  Downloading pybedtools-0.12.0.tar.gz (12.6 MB)\n",
            "\u001b[2K     \u001b[90m━━━━━━━━━━━━━━━━━━━━━━━━━━━━━━━━━━━━━━━━\u001b[0m \u001b[32m12.6/12.6 MB\u001b[0m \u001b[31m60.6 MB/s\u001b[0m eta \u001b[36m0:00:00\u001b[0m\n",
            "\u001b[?25h  Installing build dependencies ... \u001b[?25l\u001b[?25hdone\n",
            "  Getting requirements to build wheel ... \u001b[?25l\u001b[?25hdone\n",
            "  Preparing metadata (pyproject.toml) ... \u001b[?25l\u001b[?25hdone\n",
            "Requirement already satisfied: python-dateutil>=2.8.2 in /usr/local/lib/python3.11/dist-packages (from pandas~=2.2->-r requirements.txt (line 2)) (2.9.0.post0)\n",
            "Requirement already satisfied: pytz>=2020.1 in /usr/local/lib/python3.11/dist-packages (from pandas~=2.2->-r requirements.txt (line 2)) (2025.2)\n",
            "Requirement already satisfied: tzdata>=2022.7 in /usr/local/lib/python3.11/dist-packages (from pandas~=2.2->-r requirements.txt (line 2)) (2025.2)\n",
            "Requirement already satisfied: contourpy>=1.0.1 in /usr/local/lib/python3.11/dist-packages (from matplotlib~=3.10->-r requirements.txt (line 3)) (1.3.2)\n",
            "Requirement already satisfied: cycler>=0.10 in /usr/local/lib/python3.11/dist-packages (from matplotlib~=3.10->-r requirements.txt (line 3)) (0.12.1)\n",
            "Requirement already satisfied: fonttools>=4.22.0 in /usr/local/lib/python3.11/dist-packages (from matplotlib~=3.10->-r requirements.txt (line 3)) (4.58.0)\n",
            "Requirement already satisfied: kiwisolver>=1.3.1 in /usr/local/lib/python3.11/dist-packages (from matplotlib~=3.10->-r requirements.txt (line 3)) (1.4.8)\n",
            "Requirement already satisfied: packaging>=20.0 in /usr/local/lib/python3.11/dist-packages (from matplotlib~=3.10->-r requirements.txt (line 3)) (24.2)\n",
            "Requirement already satisfied: pillow>=8 in /usr/local/lib/python3.11/dist-packages (from matplotlib~=3.10->-r requirements.txt (line 3)) (11.2.1)\n",
            "Requirement already satisfied: pyparsing>=2.3.1 in /usr/local/lib/python3.11/dist-packages (from matplotlib~=3.10->-r requirements.txt (line 3)) (3.2.3)\n",
            "Requirement already satisfied: joblib>=1.2.0 in /usr/local/lib/python3.11/dist-packages (from scikit-learn~=1.6->-r requirements.txt (line 7)) (1.5.0)\n",
            "Requirement already satisfied: threadpoolctl>=3.1.0 in /usr/local/lib/python3.11/dist-packages (from scikit-learn~=1.6->-r requirements.txt (line 7)) (3.6.0)\n",
            "Requirement already satisfied: numba in /usr/local/lib/python3.11/dist-packages (from tslearn~=0.6->-r requirements.txt (line 11)) (0.60.0)\n",
            "Requirement already satisfied: jinja2 in /usr/local/lib/python3.11/dist-packages (from notebook->-r requirements.txt (line 12)) (3.1.6)\n",
            "Requirement already satisfied: tornado>=6.1 in /usr/local/lib/python3.11/dist-packages (from notebook->-r requirements.txt (line 12)) (6.4.2)\n",
            "Requirement already satisfied: pyzmq>=17 in /usr/local/lib/python3.11/dist-packages (from notebook->-r requirements.txt (line 12)) (24.0.1)\n",
            "Requirement already satisfied: argon2-cffi in /usr/local/lib/python3.11/dist-packages (from notebook->-r requirements.txt (line 12)) (23.1.0)\n",
            "Requirement already satisfied: traitlets>=4.2.1 in /usr/local/lib/python3.11/dist-packages (from notebook->-r requirements.txt (line 12)) (5.7.1)\n",
            "Requirement already satisfied: jupyter-core>=4.6.1 in /usr/local/lib/python3.11/dist-packages (from notebook->-r requirements.txt (line 12)) (5.7.2)\n",
            "Requirement already satisfied: jupyter-client<8,>=5.3.4 in /usr/local/lib/python3.11/dist-packages (from notebook->-r requirements.txt (line 12)) (6.1.12)\n",
            "Requirement already satisfied: ipython-genutils in /usr/local/lib/python3.11/dist-packages (from notebook->-r requirements.txt (line 12)) (0.2.0)\n",
            "Requirement already satisfied: nbformat in /usr/local/lib/python3.11/dist-packages (from notebook->-r requirements.txt (line 12)) (5.10.4)\n",
            "Requirement already satisfied: nbconvert>=5 in /usr/local/lib/python3.11/dist-packages (from notebook->-r requirements.txt (line 12)) (7.16.6)\n",
            "Requirement already satisfied: nest-asyncio>=1.5 in /usr/local/lib/python3.11/dist-packages (from notebook->-r requirements.txt (line 12)) (1.6.0)\n",
            "Requirement already satisfied: ipykernel in /usr/local/lib/python3.11/dist-packages (from notebook->-r requirements.txt (line 12)) (6.17.1)\n",
            "Requirement already satisfied: Send2Trash>=1.8.0 in /usr/local/lib/python3.11/dist-packages (from notebook->-r requirements.txt (line 12)) (1.8.3)\n",
            "Requirement already satisfied: terminado>=0.8.3 in /usr/local/lib/python3.11/dist-packages (from notebook->-r requirements.txt (line 12)) (0.18.1)\n",
            "Requirement already satisfied: prometheus-client in /usr/local/lib/python3.11/dist-packages (from notebook->-r requirements.txt (line 12)) (0.21.1)\n",
            "Requirement already satisfied: nbclassic>=0.4.7 in /usr/local/lib/python3.11/dist-packages (from notebook->-r requirements.txt (line 12)) (1.3.1)\n",
            "Requirement already satisfied: widgetsnbextension~=3.6.0 in /usr/local/lib/python3.11/dist-packages (from ipywidgets->-r requirements.txt (line 14)) (3.6.10)\n",
            "Requirement already satisfied: ipython>=4.0.0 in /usr/local/lib/python3.11/dist-packages (from ipywidgets->-r requirements.txt (line 14)) (7.34.0)\n",
            "Requirement already satisfied: jupyterlab-widgets>=1.0.0 in /usr/local/lib/python3.11/dist-packages (from ipywidgets->-r requirements.txt (line 14)) (3.0.15)\n",
            "Requirement already satisfied: pynndescent>=0.5 in /usr/local/lib/python3.11/dist-packages (from umap-learn~=0.5->-r requirements.txt (line 15)) (0.5.13)\n",
            "Requirement already satisfied: patsy>=0.5.6 in /usr/local/lib/python3.11/dist-packages (from statsmodels~=0.14->-r requirements.txt (line 17)) (1.0.1)\n",
            "Requirement already satisfied: protobuf>=3.20 in /usr/local/lib/python3.11/dist-packages (from tensorboardX->-r requirements.txt (line 21)) (5.29.4)\n",
            "Collecting icon-font-to-png (from stylecloud->-r requirements.txt (line 22))\n",
            "  Downloading icon_font_to_png-0.4.1-py2.py3-none-any.whl.metadata (6.7 kB)\n",
            "Collecting palettable (from stylecloud->-r requirements.txt (line 22))\n",
            "  Downloading palettable-3.3.3-py2.py3-none-any.whl.metadata (3.3 kB)\n",
            "Collecting fire (from stylecloud->-r requirements.txt (line 22))\n",
            "  Downloading fire-0.7.0.tar.gz (87 kB)\n",
            "\u001b[2K     \u001b[90m━━━━━━━━━━━━━━━━━━━━━━━━━━━━━━━━━━━━━━━━\u001b[0m \u001b[32m87.2/87.2 kB\u001b[0m \u001b[31m6.4 MB/s\u001b[0m eta \u001b[36m0:00:00\u001b[0m\n",
            "\u001b[?25h  Preparing metadata (setup.py) ... \u001b[?25l\u001b[?25hdone\n",
            "Collecting pysam (from pybedtools~=0.12->-r requirements.txt (line 23))\n",
            "  Downloading pysam-0.23.0-cp311-cp311-manylinux_2_28_x86_64.whl.metadata (1.6 kB)\n",
            "Requirement already satisfied: debugpy>=1.0 in /usr/local/lib/python3.11/dist-packages (from ipykernel->notebook->-r requirements.txt (line 12)) (1.8.0)\n",
            "Requirement already satisfied: matplotlib-inline>=0.1 in /usr/local/lib/python3.11/dist-packages (from ipykernel->notebook->-r requirements.txt (line 12)) (0.1.7)\n",
            "Requirement already satisfied: psutil in /usr/local/lib/python3.11/dist-packages (from ipykernel->notebook->-r requirements.txt (line 12)) (5.9.5)\n",
            "Requirement already satisfied: setuptools>=18.5 in /usr/local/lib/python3.11/dist-packages (from ipython>=4.0.0->ipywidgets->-r requirements.txt (line 14)) (75.2.0)\n",
            "Collecting jedi>=0.16 (from ipython>=4.0.0->ipywidgets->-r requirements.txt (line 14))\n",
            "  Downloading jedi-0.19.2-py2.py3-none-any.whl.metadata (22 kB)\n",
            "Requirement already satisfied: decorator in /usr/local/lib/python3.11/dist-packages (from ipython>=4.0.0->ipywidgets->-r requirements.txt (line 14)) (4.4.2)\n",
            "Requirement already satisfied: pickleshare in /usr/local/lib/python3.11/dist-packages (from ipython>=4.0.0->ipywidgets->-r requirements.txt (line 14)) (0.7.5)\n",
            "Requirement already satisfied: prompt-toolkit!=3.0.0,!=3.0.1,<3.1.0,>=2.0.0 in /usr/local/lib/python3.11/dist-packages (from ipython>=4.0.0->ipywidgets->-r requirements.txt (line 14)) (3.0.51)\n",
            "Requirement already satisfied: pygments in /usr/local/lib/python3.11/dist-packages (from ipython>=4.0.0->ipywidgets->-r requirements.txt (line 14)) (2.19.1)\n",
            "Requirement already satisfied: backcall in /usr/local/lib/python3.11/dist-packages (from ipython>=4.0.0->ipywidgets->-r requirements.txt (line 14)) (0.2.0)\n",
            "Requirement already satisfied: pexpect>4.3 in /usr/local/lib/python3.11/dist-packages (from ipython>=4.0.0->ipywidgets->-r requirements.txt (line 14)) (4.9.0)\n",
            "Requirement already satisfied: platformdirs>=2.5 in /usr/local/lib/python3.11/dist-packages (from jupyter-core>=4.6.1->notebook->-r requirements.txt (line 12)) (4.3.8)\n",
            "Requirement already satisfied: notebook-shim>=0.2.3 in /usr/local/lib/python3.11/dist-packages (from nbclassic>=0.4.7->notebook->-r requirements.txt (line 12)) (0.2.4)\n",
            "Requirement already satisfied: beautifulsoup4 in /usr/local/lib/python3.11/dist-packages (from nbconvert>=5->notebook->-r requirements.txt (line 12)) (4.13.4)\n",
            "Requirement already satisfied: bleach!=5.0.0 in /usr/local/lib/python3.11/dist-packages (from bleach[css]!=5.0.0->nbconvert>=5->notebook->-r requirements.txt (line 12)) (6.2.0)\n",
            "Requirement already satisfied: defusedxml in /usr/local/lib/python3.11/dist-packages (from nbconvert>=5->notebook->-r requirements.txt (line 12)) (0.7.1)\n",
            "Requirement already satisfied: jupyterlab-pygments in /usr/local/lib/python3.11/dist-packages (from nbconvert>=5->notebook->-r requirements.txt (line 12)) (0.3.0)\n",
            "Requirement already satisfied: markupsafe>=2.0 in /usr/local/lib/python3.11/dist-packages (from nbconvert>=5->notebook->-r requirements.txt (line 12)) (3.0.2)\n",
            "Requirement already satisfied: mistune<4,>=2.0.3 in /usr/local/lib/python3.11/dist-packages (from nbconvert>=5->notebook->-r requirements.txt (line 12)) (3.1.3)\n",
            "Requirement already satisfied: nbclient>=0.5.0 in /usr/local/lib/python3.11/dist-packages (from nbconvert>=5->notebook->-r requirements.txt (line 12)) (0.10.2)\n",
            "Requirement already satisfied: pandocfilters>=1.4.1 in /usr/local/lib/python3.11/dist-packages (from nbconvert>=5->notebook->-r requirements.txt (line 12)) (1.5.1)\n",
            "Requirement already satisfied: fastjsonschema>=2.15 in /usr/local/lib/python3.11/dist-packages (from nbformat->notebook->-r requirements.txt (line 12)) (2.21.1)\n",
            "Requirement already satisfied: jsonschema>=2.6 in /usr/local/lib/python3.11/dist-packages (from nbformat->notebook->-r requirements.txt (line 12)) (4.23.0)\n",
            "Requirement already satisfied: llvmlite<0.44,>=0.43.0dev0 in /usr/local/lib/python3.11/dist-packages (from numba->tslearn~=0.6->-r requirements.txt (line 11)) (0.43.0)\n",
            "Requirement already satisfied: six>=1.5 in /usr/local/lib/python3.11/dist-packages (from python-dateutil>=2.8.2->pandas~=2.2->-r requirements.txt (line 2)) (1.17.0)\n",
            "Requirement already satisfied: ptyprocess in /usr/local/lib/python3.11/dist-packages (from terminado>=0.8.3->notebook->-r requirements.txt (line 12)) (0.7.0)\n",
            "Requirement already satisfied: argon2-cffi-bindings in /usr/local/lib/python3.11/dist-packages (from argon2-cffi->notebook->-r requirements.txt (line 12)) (21.2.0)\n",
            "Requirement already satisfied: termcolor in /usr/local/lib/python3.11/dist-packages (from fire->stylecloud->-r requirements.txt (line 22)) (3.1.0)\n",
            "Requirement already satisfied: requests>=2.12.5 in /usr/local/lib/python3.11/dist-packages (from icon-font-to-png->stylecloud->-r requirements.txt (line 22)) (2.32.3)\n",
            "Collecting tinycss>=0.4 (from icon-font-to-png->stylecloud->-r requirements.txt (line 22))\n",
            "  Downloading tinycss-0.4.tar.gz (87 kB)\n",
            "\u001b[2K     \u001b[90m━━━━━━━━━━━━━━━━━━━━━━━━━━━━━━━━━━━━━━━━\u001b[0m \u001b[32m87.8/87.8 kB\u001b[0m \u001b[31m8.0 MB/s\u001b[0m eta \u001b[36m0:00:00\u001b[0m\n",
            "\u001b[?25h  Preparing metadata (setup.py) ... \u001b[?25l\u001b[?25hdone\n",
            "Requirement already satisfied: webencodings in /usr/local/lib/python3.11/dist-packages (from bleach!=5.0.0->bleach[css]!=5.0.0->nbconvert>=5->notebook->-r requirements.txt (line 12)) (0.5.1)\n",
            "Requirement already satisfied: tinycss2<1.5,>=1.1.0 in /usr/local/lib/python3.11/dist-packages (from bleach[css]!=5.0.0->nbconvert>=5->notebook->-r requirements.txt (line 12)) (1.4.0)\n",
            "Requirement already satisfied: parso<0.9.0,>=0.8.4 in /usr/local/lib/python3.11/dist-packages (from jedi>=0.16->ipython>=4.0.0->ipywidgets->-r requirements.txt (line 14)) (0.8.4)\n",
            "Requirement already satisfied: attrs>=22.2.0 in /usr/local/lib/python3.11/dist-packages (from jsonschema>=2.6->nbformat->notebook->-r requirements.txt (line 12)) (25.3.0)\n",
            "Requirement already satisfied: jsonschema-specifications>=2023.03.6 in /usr/local/lib/python3.11/dist-packages (from jsonschema>=2.6->nbformat->notebook->-r requirements.txt (line 12)) (2025.4.1)\n",
            "Requirement already satisfied: referencing>=0.28.4 in /usr/local/lib/python3.11/dist-packages (from jsonschema>=2.6->nbformat->notebook->-r requirements.txt (line 12)) (0.36.2)\n",
            "Requirement already satisfied: rpds-py>=0.7.1 in /usr/local/lib/python3.11/dist-packages (from jsonschema>=2.6->nbformat->notebook->-r requirements.txt (line 12)) (0.24.0)\n",
            "Requirement already satisfied: jupyter-server<3,>=1.8 in /usr/local/lib/python3.11/dist-packages (from notebook-shim>=0.2.3->nbclassic>=0.4.7->notebook->-r requirements.txt (line 12)) (1.16.0)\n",
            "Requirement already satisfied: wcwidth in /usr/local/lib/python3.11/dist-packages (from prompt-toolkit!=3.0.0,!=3.0.1,<3.1.0,>=2.0.0->ipython>=4.0.0->ipywidgets->-r requirements.txt (line 14)) (0.2.13)\n",
            "Requirement already satisfied: charset-normalizer<4,>=2 in /usr/local/lib/python3.11/dist-packages (from requests>=2.12.5->icon-font-to-png->stylecloud->-r requirements.txt (line 22)) (3.4.2)\n",
            "Requirement already satisfied: idna<4,>=2.5 in /usr/local/lib/python3.11/dist-packages (from requests>=2.12.5->icon-font-to-png->stylecloud->-r requirements.txt (line 22)) (3.10)\n",
            "Requirement already satisfied: urllib3<3,>=1.21.1 in /usr/local/lib/python3.11/dist-packages (from requests>=2.12.5->icon-font-to-png->stylecloud->-r requirements.txt (line 22)) (2.4.0)\n",
            "Requirement already satisfied: certifi>=2017.4.17 in /usr/local/lib/python3.11/dist-packages (from requests>=2.12.5->icon-font-to-png->stylecloud->-r requirements.txt (line 22)) (2025.4.26)\n",
            "Requirement already satisfied: cffi>=1.0.1 in /usr/local/lib/python3.11/dist-packages (from argon2-cffi-bindings->argon2-cffi->notebook->-r requirements.txt (line 12)) (1.17.1)\n",
            "Requirement already satisfied: soupsieve>1.2 in /usr/local/lib/python3.11/dist-packages (from beautifulsoup4->nbconvert>=5->notebook->-r requirements.txt (line 12)) (2.7)\n",
            "Requirement already satisfied: typing-extensions>=4.0.0 in /usr/local/lib/python3.11/dist-packages (from beautifulsoup4->nbconvert>=5->notebook->-r requirements.txt (line 12)) (4.13.2)\n",
            "Requirement already satisfied: pycparser in /usr/local/lib/python3.11/dist-packages (from cffi>=1.0.1->argon2-cffi-bindings->argon2-cffi->notebook->-r requirements.txt (line 12)) (2.22)\n",
            "Requirement already satisfied: anyio>=3.1.0 in /usr/local/lib/python3.11/dist-packages (from jupyter-server<3,>=1.8->notebook-shim>=0.2.3->nbclassic>=0.4.7->notebook->-r requirements.txt (line 12)) (4.9.0)\n",
            "Requirement already satisfied: websocket-client in /usr/local/lib/python3.11/dist-packages (from jupyter-server<3,>=1.8->notebook-shim>=0.2.3->nbclassic>=0.4.7->notebook->-r requirements.txt (line 12)) (1.8.0)\n",
            "Requirement already satisfied: sniffio>=1.1 in /usr/local/lib/python3.11/dist-packages (from anyio>=3.1.0->jupyter-server<3,>=1.8->notebook-shim>=0.2.3->nbclassic>=0.4.7->notebook->-r requirements.txt (line 12)) (1.3.1)\n",
            "Downloading logomaker-0.8.7-py3-none-any.whl (13.2 MB)\n",
            "\u001b[2K   \u001b[90m━━━━━━━━━━━━━━━━━━━━━━━━━━━━━━━━━━━━━━━━\u001b[0m \u001b[32m13.2/13.2 MB\u001b[0m \u001b[31m103.9 MB/s\u001b[0m eta \u001b[36m0:00:00\u001b[0m\n",
            "\u001b[?25hDownloading tslearn-0.6.3-py3-none-any.whl (374 kB)\n",
            "\u001b[2K   \u001b[90m━━━━━━━━━━━━━━━━━━━━━━━━━━━━━━━━━━━━━━━━\u001b[0m \u001b[32m374.4/374.4 kB\u001b[0m \u001b[31m25.7 MB/s\u001b[0m eta \u001b[36m0:00:00\u001b[0m\n",
            "\u001b[?25hDownloading biopython-1.85-cp311-cp311-manylinux_2_17_x86_64.manylinux2014_x86_64.whl (3.3 MB)\n",
            "\u001b[2K   \u001b[90m━━━━━━━━━━━━━━━━━━━━━━━━━━━━━━━━━━━━━━━━\u001b[0m \u001b[32m3.3/3.3 MB\u001b[0m \u001b[31m88.9 MB/s\u001b[0m eta \u001b[36m0:00:00\u001b[0m\n",
            "\u001b[?25hDownloading pyahocorasick-2.1.0-cp311-cp311-manylinux_2_17_x86_64.manylinux2014_x86_64.whl (118 kB)\n",
            "\u001b[2K   \u001b[90m━━━━━━━━━━━━━━━━━━━━━━━━━━━━━━━━━━━━━━━━\u001b[0m \u001b[32m118.3/118.3 kB\u001b[0m \u001b[31m9.8 MB/s\u001b[0m eta \u001b[36m0:00:00\u001b[0m\n",
            "\u001b[?25hDownloading sentencepiece-0.1.99-cp311-cp311-manylinux_2_17_x86_64.manylinux2014_x86_64.whl (1.3 MB)\n",
            "\u001b[2K   \u001b[90m━━━━━━━━━━━━━━━━━━━━━━━━━━━━━━━━━━━━━━━━\u001b[0m \u001b[32m1.3/1.3 MB\u001b[0m \u001b[31m64.0 MB/s\u001b[0m eta \u001b[36m0:00:00\u001b[0m\n",
            "\u001b[?25hDownloading tensorboardX-2.6.2.2-py2.py3-none-any.whl (101 kB)\n",
            "\u001b[2K   \u001b[90m━━━━━━━━━━━━━━━━━━━━━━━━━━━━━━━━━━━━━━━━\u001b[0m \u001b[32m101.7/101.7 kB\u001b[0m \u001b[31m7.3 MB/s\u001b[0m eta \u001b[36m0:00:00\u001b[0m\n",
            "\u001b[?25hDownloading icon_font_to_png-0.4.1-py2.py3-none-any.whl (161 kB)\n",
            "\u001b[2K   \u001b[90m━━━━━━━━━━━━━━━━━━━━━━━━━━━━━━━━━━━━━━━━\u001b[0m \u001b[32m161.4/161.4 kB\u001b[0m \u001b[31m10.3 MB/s\u001b[0m eta \u001b[36m0:00:00\u001b[0m\n",
            "\u001b[?25hDownloading palettable-3.3.3-py2.py3-none-any.whl (332 kB)\n",
            "\u001b[2K   \u001b[90m━━━━━━━━━━━━━━━━━━━━━━━━━━━━━━━━━━━━━━━━\u001b[0m \u001b[32m332.3/332.3 kB\u001b[0m \u001b[31m23.1 MB/s\u001b[0m eta \u001b[36m0:00:00\u001b[0m\n",
            "\u001b[?25hDownloading pysam-0.23.0-cp311-cp311-manylinux_2_28_x86_64.whl (26.0 MB)\n",
            "\u001b[2K   \u001b[90m━━━━━━━━━━━━━━━━━━━━━━━━━━━━━━━━━━━━━━━━\u001b[0m \u001b[32m26.0/26.0 MB\u001b[0m \u001b[31m75.5 MB/s\u001b[0m eta \u001b[36m0:00:00\u001b[0m\n",
            "\u001b[?25hDownloading jedi-0.19.2-py2.py3-none-any.whl (1.6 MB)\n",
            "\u001b[2K   \u001b[90m━━━━━━━━━━━━━━━━━━━━━━━━━━━━━━━━━━━━━━━━\u001b[0m \u001b[32m1.6/1.6 MB\u001b[0m \u001b[31m62.4 MB/s\u001b[0m eta \u001b[36m0:00:00\u001b[0m\n",
            "\u001b[?25hBuilding wheels for collected packages: seqeval, stylecloud, pybedtools, fire, tinycss\n",
            "  Building wheel for seqeval (setup.py) ... \u001b[?25l\u001b[?25hdone\n",
            "  Created wheel for seqeval: filename=seqeval-1.2.2-py3-none-any.whl size=16162 sha256=eda2cdf37d0be447a280b820f2e529a457d94ea6c4d4853d538260f9eec4b266\n",
            "  Stored in directory: /root/.cache/pip/wheels/bc/92/f0/243288f899c2eacdfa8c5f9aede4c71a9bad0ee26a01dc5ead\n",
            "  Building wheel for stylecloud (setup.py) ... \u001b[?25l\u001b[?25hdone\n",
            "  Created wheel for stylecloud: filename=stylecloud-0.5.2-py3-none-any.whl size=259492 sha256=e5e1daa9de3719dada7317cd353fac57c36d69ec61ea2e178561939ca7cc1157\n",
            "  Stored in directory: /root/.cache/pip/wheels/25/62/2d/cbce408faa397b47b726645863be3e26b70de6c4d9b720c522\n",
            "  Building wheel for pybedtools (pyproject.toml) ... \u001b[?25l\u001b[?25hdone\n",
            "  Created wheel for pybedtools: filename=pybedtools-0.12.0-cp311-cp311-linux_x86_64.whl size=14261430 sha256=91f897166889f4e6104df7435bd354ce4b3fdf0aec903222e1b1323f23c5f974\n",
            "  Stored in directory: /root/.cache/pip/wheels/95/62/57/e8c47c2a43884227b6644cf1d2dabf3162a0f40b9c1493c1f5\n",
            "  Building wheel for fire (setup.py) ... \u001b[?25l\u001b[?25hdone\n",
            "  Created wheel for fire: filename=fire-0.7.0-py3-none-any.whl size=114249 sha256=7327666f0ac5d1e20410d50da542d92273d1cfee2485e0f22f3759b41f813a8b\n",
            "  Stored in directory: /root/.cache/pip/wheels/46/54/24/1624fd5b8674eb1188623f7e8e17cdf7c0f6c24b609dfb8a89\n",
            "  Building wheel for tinycss (setup.py) ... \u001b[?25l\u001b[?25hdone\n",
            "  Created wheel for tinycss: filename=tinycss-0.4-cp311-cp311-linux_x86_64.whl size=328278 sha256=3999fc6d18bdbc0a7c22d068283a251c9654c839d0fc0b989192b18196f5b88e\n",
            "  Stored in directory: /root/.cache/pip/wheels/57/c0/0f/7ed6f1bfca35d165d4979934ee25cf1273ab20a62e72325dfd\n",
            "Successfully built seqeval stylecloud pybedtools fire tinycss\n",
            "Installing collected packages: tinycss, sentencepiece, tensorboardX, pysam, pyahocorasick, palettable, jedi, fire, biopython, icon-font-to-png, tslearn, seqeval, pybedtools, logomaker, stylecloud\n",
            "  Attempting uninstall: sentencepiece\n",
            "    Found existing installation: sentencepiece 0.2.0\n",
            "    Uninstalling sentencepiece-0.2.0:\n",
            "      Successfully uninstalled sentencepiece-0.2.0\n",
            "Successfully installed biopython-1.85 fire-0.7.0 icon-font-to-png-0.4.1 jedi-0.19.2 logomaker-0.8.7 palettable-3.3.3 pyahocorasick-2.1.0 pybedtools-0.12.0 pysam-0.23.0 sentencepiece-0.1.99 seqeval-1.2.2 stylecloud-0.5.2 tensorboardX-2.6.2.2 tinycss-0.4 tslearn-0.6.3\n"
          ]
        }
      ],
      "source": [
        "!pip install -r requirements.txt"
      ]
    },
    {
      "cell_type": "markdown",
      "metadata": {
        "id": "yV0jGrBitgsp"
      },
      "source": [
        "## Download Utility Files\n",
        "- Download and import the **ChomBERT** utility file 🔧 along with the chromatin annotation data for the H1 cell type."
      ]
    },
    {
      "cell_type": "code",
      "execution_count": 4,
      "metadata": {
        "colab": {
          "base_uri": "https://localhost:8080/"
        },
        "collapsed": true,
        "id": "qQl_qA2D51q2",
        "outputId": "7ee84fb1-02a4-46be-afda-eab4e806e998"
      },
      "outputs": [
        {
          "output_type": "stream",
          "name": "stdout",
          "text": [
            "--2025-05-16 08:47:43--  https://raw.githubusercontent.com/caocao0525/ChromBERT/refs/heads/chrombert-py311-extended/processing/chrombert_utils/css_utility.py\n",
            "Resolving raw.githubusercontent.com (raw.githubusercontent.com)... 185.199.108.133, 185.199.109.133, 185.199.110.133, ...\n",
            "Connecting to raw.githubusercontent.com (raw.githubusercontent.com)|185.199.108.133|:443... connected.\n",
            "HTTP request sent, awaiting response... 200 OK\n",
            "Length: 124467 (122K) [text/plain]\n",
            "Saving to: ‘css_utility.py’\n",
            "\n",
            "\rcss_utility.py        0%[                    ]       0  --.-KB/s               \rcss_utility.py      100%[===================>] 121.55K  --.-KB/s    in 0.03s   \n",
            "\n",
            "2025-05-16 08:47:43 (4.53 MB/s) - ‘css_utility.py’ saved [124467/124467]\n",
            "\n",
            "--2025-05-16 08:47:43--  https://raw.githubusercontent.com/caocao0525/ChromBERT/chrombert-py311-extended/colab/colab_data/test_files/E003_15_coreMarks_stateno.bed\n",
            "Resolving raw.githubusercontent.com (raw.githubusercontent.com)... 185.199.111.133, 185.199.108.133, 185.199.109.133, ...\n",
            "Connecting to raw.githubusercontent.com (raw.githubusercontent.com)|185.199.111.133|:443... connected.\n",
            "HTTP request sent, awaiting response... 200 OK\n",
            "Length: 11844320 (11M) [text/plain]\n",
            "Saving to: ‘E003_15_coreMarks_stateno.bed’\n",
            "\n",
            "E003_15_coreMarks_s 100%[===================>]  11.29M  --.-KB/s    in 0.1s    \n",
            "\n",
            "2025-05-16 08:47:44 (107 MB/s) - ‘E003_15_coreMarks_stateno.bed’ saved [11844320/11844320]\n",
            "\n"
          ]
        }
      ],
      "source": [
        "# Get the ChromBERT utility file\n",
        "# !wget -O css_utility.py https://raw.githubusercontent.com/caocao0525/ChromBERT/chrombert-py311-extended/colab/colab_data/test_files/css_utility_colab_dev.py\n",
        "!wget -O css_utility.py https://raw.githubusercontent.com/caocao0525/ChromBERT/refs/heads/chrombert-py311-extended/processing/chrombert_utils/css_utility.py\n",
        "\n",
        "# Download the BED file for chromatin state annotations of sample cell type E003 (E003_15_coreMarks_stateno.bed)\n",
        "!wget https://raw.githubusercontent.com/caocao0525/ChromBERT/chrombert-py311-extended/colab/colab_data/test_files/E003_15_coreMarks_stateno.bed\n"
      ]
    },
    {
      "cell_type": "code",
      "execution_count": 5,
      "metadata": {
        "id": "wzTlLUhzrMuU"
      },
      "outputs": [],
      "source": [
        "# Import ChromBERT utilities\n",
        "import css_utility as crb"
      ]
    },
    {
      "cell_type": "markdown",
      "metadata": {
        "id": "d3vpqE7qtrXe"
      },
      "source": [
        "<br>\n",
        "\n",
        "---\n",
        "\n",
        "# 2. Data curation\n",
        "\n",
        "\n",
        "The ROADMAP project provides chromatin state annotation data for 127 cell types. The file you just downloaded is one of them. Click on the file icon 📂 on the left to see the name of the downloaded file. `E003_15_coreMarks_stateno.bed` is the chromatin state annotation file in BED format. Here, `E003` indicates the cell type, and `15` refers to the number of chromatin states used for the annotation. You can visit <a href=\"https://egg2.wustl.edu/roadmap/web_portal/meta.html\">this page (Metadata for Reprocessed data from 127 Consolidated Epigenomes)</a> to learn more about the cell types in the ROADMAP project.\n",
        "\n",
        "\n"
      ]
    },
    {
      "cell_type": "markdown",
      "metadata": {
        "id": "gu3HK7LOjpOo"
      },
      "source": [
        "<br>\n",
        "\n",
        "## Load Raw Data\n",
        "\n",
        "Now, we will load the raw BED file, which is the chromatin state annotation file from the ROADMAP project. For this first trial, we will use the cell type `E003`. You can check the table below to see what this cell type represents 🔎\n",
        "\n",
        "<br>\n",
        "\n",
        "<!-- <figure>\n",
        "<img src=\"https://drive.google.com/uc?export=view&id=165lpr1WeJosqFVNEVwpg60IufxC-NJwq\" alt=\"ROADMAP cell type information\" width=\"685\"/>\n",
        "<figcaption>Fig.6 Cell type from ROADMAP database</figcaption>\n",
        "</figure>\n",
        "\n",
        "\n",
        "\n",
        "<br> -->"
      ]
    },
    {
      "cell_type": "code",
      "execution_count": 6,
      "metadata": {
        "colab": {
          "base_uri": "https://localhost:8080/",
          "height": 204
        },
        "id": "q_gxfK7jtqlK",
        "outputId": "15f4241b-82e8-4873-c9f4-8bc98841d365"
      },
      "outputs": [
        {
          "output_type": "execute_result",
          "data": {
            "text/plain": [
              "  chromosome   start     end state\n",
              "0       chr1       0    9800    15\n",
              "1       chr1    9800   10800     9\n",
              "2       chr1   10800  136400    15\n",
              "3       chr1  136400  138800     5\n",
              "4       chr1  138800  139600     4"
            ],
            "text/html": [
              "\n",
              "  <div id=\"df-ecd2e898-2288-4f32-9404-f640ec0f7d5e\" class=\"colab-df-container\">\n",
              "    <div>\n",
              "<style scoped>\n",
              "    .dataframe tbody tr th:only-of-type {\n",
              "        vertical-align: middle;\n",
              "    }\n",
              "\n",
              "    .dataframe tbody tr th {\n",
              "        vertical-align: top;\n",
              "    }\n",
              "\n",
              "    .dataframe thead th {\n",
              "        text-align: right;\n",
              "    }\n",
              "</style>\n",
              "<table border=\"1\" class=\"dataframe\">\n",
              "  <thead>\n",
              "    <tr style=\"text-align: right;\">\n",
              "      <th></th>\n",
              "      <th>chromosome</th>\n",
              "      <th>start</th>\n",
              "      <th>end</th>\n",
              "      <th>state</th>\n",
              "    </tr>\n",
              "  </thead>\n",
              "  <tbody>\n",
              "    <tr>\n",
              "      <th>0</th>\n",
              "      <td>chr1</td>\n",
              "      <td>0</td>\n",
              "      <td>9800</td>\n",
              "      <td>15</td>\n",
              "    </tr>\n",
              "    <tr>\n",
              "      <th>1</th>\n",
              "      <td>chr1</td>\n",
              "      <td>9800</td>\n",
              "      <td>10800</td>\n",
              "      <td>9</td>\n",
              "    </tr>\n",
              "    <tr>\n",
              "      <th>2</th>\n",
              "      <td>chr1</td>\n",
              "      <td>10800</td>\n",
              "      <td>136400</td>\n",
              "      <td>15</td>\n",
              "    </tr>\n",
              "    <tr>\n",
              "      <th>3</th>\n",
              "      <td>chr1</td>\n",
              "      <td>136400</td>\n",
              "      <td>138800</td>\n",
              "      <td>5</td>\n",
              "    </tr>\n",
              "    <tr>\n",
              "      <th>4</th>\n",
              "      <td>chr1</td>\n",
              "      <td>138800</td>\n",
              "      <td>139600</td>\n",
              "      <td>4</td>\n",
              "    </tr>\n",
              "  </tbody>\n",
              "</table>\n",
              "</div>\n",
              "    <div class=\"colab-df-buttons\">\n",
              "\n",
              "  <div class=\"colab-df-container\">\n",
              "    <button class=\"colab-df-convert\" onclick=\"convertToInteractive('df-ecd2e898-2288-4f32-9404-f640ec0f7d5e')\"\n",
              "            title=\"Convert this dataframe to an interactive table.\"\n",
              "            style=\"display:none;\">\n",
              "\n",
              "  <svg xmlns=\"http://www.w3.org/2000/svg\" height=\"24px\" viewBox=\"0 -960 960 960\">\n",
              "    <path d=\"M120-120v-720h720v720H120Zm60-500h600v-160H180v160Zm220 220h160v-160H400v160Zm0 220h160v-160H400v160ZM180-400h160v-160H180v160Zm440 0h160v-160H620v160ZM180-180h160v-160H180v160Zm440 0h160v-160H620v160Z\"/>\n",
              "  </svg>\n",
              "    </button>\n",
              "\n",
              "  <style>\n",
              "    .colab-df-container {\n",
              "      display:flex;\n",
              "      gap: 12px;\n",
              "    }\n",
              "\n",
              "    .colab-df-convert {\n",
              "      background-color: #E8F0FE;\n",
              "      border: none;\n",
              "      border-radius: 50%;\n",
              "      cursor: pointer;\n",
              "      display: none;\n",
              "      fill: #1967D2;\n",
              "      height: 32px;\n",
              "      padding: 0 0 0 0;\n",
              "      width: 32px;\n",
              "    }\n",
              "\n",
              "    .colab-df-convert:hover {\n",
              "      background-color: #E2EBFA;\n",
              "      box-shadow: 0px 1px 2px rgba(60, 64, 67, 0.3), 0px 1px 3px 1px rgba(60, 64, 67, 0.15);\n",
              "      fill: #174EA6;\n",
              "    }\n",
              "\n",
              "    .colab-df-buttons div {\n",
              "      margin-bottom: 4px;\n",
              "    }\n",
              "\n",
              "    [theme=dark] .colab-df-convert {\n",
              "      background-color: #3B4455;\n",
              "      fill: #D2E3FC;\n",
              "    }\n",
              "\n",
              "    [theme=dark] .colab-df-convert:hover {\n",
              "      background-color: #434B5C;\n",
              "      box-shadow: 0px 1px 3px 1px rgba(0, 0, 0, 0.15);\n",
              "      filter: drop-shadow(0px 1px 2px rgba(0, 0, 0, 0.3));\n",
              "      fill: #FFFFFF;\n",
              "    }\n",
              "  </style>\n",
              "\n",
              "    <script>\n",
              "      const buttonEl =\n",
              "        document.querySelector('#df-ecd2e898-2288-4f32-9404-f640ec0f7d5e button.colab-df-convert');\n",
              "      buttonEl.style.display =\n",
              "        google.colab.kernel.accessAllowed ? 'block' : 'none';\n",
              "\n",
              "      async function convertToInteractive(key) {\n",
              "        const element = document.querySelector('#df-ecd2e898-2288-4f32-9404-f640ec0f7d5e');\n",
              "        const dataTable =\n",
              "          await google.colab.kernel.invokeFunction('convertToInteractive',\n",
              "                                                    [key], {});\n",
              "        if (!dataTable) return;\n",
              "\n",
              "        const docLinkHtml = 'Like what you see? Visit the ' +\n",
              "          '<a target=\"_blank\" href=https://colab.research.google.com/notebooks/data_table.ipynb>data table notebook</a>'\n",
              "          + ' to learn more about interactive tables.';\n",
              "        element.innerHTML = '';\n",
              "        dataTable['output_type'] = 'display_data';\n",
              "        await google.colab.output.renderOutput(dataTable, element);\n",
              "        const docLink = document.createElement('div');\n",
              "        docLink.innerHTML = docLinkHtml;\n",
              "        element.appendChild(docLink);\n",
              "      }\n",
              "    </script>\n",
              "  </div>\n",
              "\n",
              "\n",
              "    <div id=\"df-e7faaa67-fac8-460b-a3df-2f82f41e2482\">\n",
              "      <button class=\"colab-df-quickchart\" onclick=\"quickchart('df-e7faaa67-fac8-460b-a3df-2f82f41e2482')\"\n",
              "                title=\"Suggest charts\"\n",
              "                style=\"display:none;\">\n",
              "\n",
              "<svg xmlns=\"http://www.w3.org/2000/svg\" height=\"24px\"viewBox=\"0 0 24 24\"\n",
              "     width=\"24px\">\n",
              "    <g>\n",
              "        <path d=\"M19 3H5c-1.1 0-2 .9-2 2v14c0 1.1.9 2 2 2h14c1.1 0 2-.9 2-2V5c0-1.1-.9-2-2-2zM9 17H7v-7h2v7zm4 0h-2V7h2v10zm4 0h-2v-4h2v4z\"/>\n",
              "    </g>\n",
              "</svg>\n",
              "      </button>\n",
              "\n",
              "<style>\n",
              "  .colab-df-quickchart {\n",
              "      --bg-color: #E8F0FE;\n",
              "      --fill-color: #1967D2;\n",
              "      --hover-bg-color: #E2EBFA;\n",
              "      --hover-fill-color: #174EA6;\n",
              "      --disabled-fill-color: #AAA;\n",
              "      --disabled-bg-color: #DDD;\n",
              "  }\n",
              "\n",
              "  [theme=dark] .colab-df-quickchart {\n",
              "      --bg-color: #3B4455;\n",
              "      --fill-color: #D2E3FC;\n",
              "      --hover-bg-color: #434B5C;\n",
              "      --hover-fill-color: #FFFFFF;\n",
              "      --disabled-bg-color: #3B4455;\n",
              "      --disabled-fill-color: #666;\n",
              "  }\n",
              "\n",
              "  .colab-df-quickchart {\n",
              "    background-color: var(--bg-color);\n",
              "    border: none;\n",
              "    border-radius: 50%;\n",
              "    cursor: pointer;\n",
              "    display: none;\n",
              "    fill: var(--fill-color);\n",
              "    height: 32px;\n",
              "    padding: 0;\n",
              "    width: 32px;\n",
              "  }\n",
              "\n",
              "  .colab-df-quickchart:hover {\n",
              "    background-color: var(--hover-bg-color);\n",
              "    box-shadow: 0 1px 2px rgba(60, 64, 67, 0.3), 0 1px 3px 1px rgba(60, 64, 67, 0.15);\n",
              "    fill: var(--button-hover-fill-color);\n",
              "  }\n",
              "\n",
              "  .colab-df-quickchart-complete:disabled,\n",
              "  .colab-df-quickchart-complete:disabled:hover {\n",
              "    background-color: var(--disabled-bg-color);\n",
              "    fill: var(--disabled-fill-color);\n",
              "    box-shadow: none;\n",
              "  }\n",
              "\n",
              "  .colab-df-spinner {\n",
              "    border: 2px solid var(--fill-color);\n",
              "    border-color: transparent;\n",
              "    border-bottom-color: var(--fill-color);\n",
              "    animation:\n",
              "      spin 1s steps(1) infinite;\n",
              "  }\n",
              "\n",
              "  @keyframes spin {\n",
              "    0% {\n",
              "      border-color: transparent;\n",
              "      border-bottom-color: var(--fill-color);\n",
              "      border-left-color: var(--fill-color);\n",
              "    }\n",
              "    20% {\n",
              "      border-color: transparent;\n",
              "      border-left-color: var(--fill-color);\n",
              "      border-top-color: var(--fill-color);\n",
              "    }\n",
              "    30% {\n",
              "      border-color: transparent;\n",
              "      border-left-color: var(--fill-color);\n",
              "      border-top-color: var(--fill-color);\n",
              "      border-right-color: var(--fill-color);\n",
              "    }\n",
              "    40% {\n",
              "      border-color: transparent;\n",
              "      border-right-color: var(--fill-color);\n",
              "      border-top-color: var(--fill-color);\n",
              "    }\n",
              "    60% {\n",
              "      border-color: transparent;\n",
              "      border-right-color: var(--fill-color);\n",
              "    }\n",
              "    80% {\n",
              "      border-color: transparent;\n",
              "      border-right-color: var(--fill-color);\n",
              "      border-bottom-color: var(--fill-color);\n",
              "    }\n",
              "    90% {\n",
              "      border-color: transparent;\n",
              "      border-bottom-color: var(--fill-color);\n",
              "    }\n",
              "  }\n",
              "</style>\n",
              "\n",
              "      <script>\n",
              "        async function quickchart(key) {\n",
              "          const quickchartButtonEl =\n",
              "            document.querySelector('#' + key + ' button');\n",
              "          quickchartButtonEl.disabled = true;  // To prevent multiple clicks.\n",
              "          quickchartButtonEl.classList.add('colab-df-spinner');\n",
              "          try {\n",
              "            const charts = await google.colab.kernel.invokeFunction(\n",
              "                'suggestCharts', [key], {});\n",
              "          } catch (error) {\n",
              "            console.error('Error during call to suggestCharts:', error);\n",
              "          }\n",
              "          quickchartButtonEl.classList.remove('colab-df-spinner');\n",
              "          quickchartButtonEl.classList.add('colab-df-quickchart-complete');\n",
              "        }\n",
              "        (() => {\n",
              "          let quickchartButtonEl =\n",
              "            document.querySelector('#df-e7faaa67-fac8-460b-a3df-2f82f41e2482 button');\n",
              "          quickchartButtonEl.style.display =\n",
              "            google.colab.kernel.accessAllowed ? 'block' : 'none';\n",
              "        })();\n",
              "      </script>\n",
              "    </div>\n",
              "\n",
              "    </div>\n",
              "  </div>\n"
            ],
            "application/vnd.google.colaboratory.intrinsic+json": {
              "type": "dataframe",
              "variable_name": "raw_bed"
            }
          },
          "metadata": {},
          "execution_count": 6
        }
      ],
      "source": [
        "# Verify the content and format of the raw BED file containing chromatin annotations for the H1 cell type.\n",
        "raw_bed_path='/content/E003_15_coreMarks_stateno.bed'\n",
        "raw_bed=crb.pd.read_csv(raw_bed_path, sep='\\t', lineterminator='\\n', header=None, names=['chromosome', 'start', 'end','state'], low_memory=False)\n",
        "raw_bed.head()"
      ]
    },
    {
      "cell_type": "markdown",
      "metadata": {
        "id": "kq41Ux3e8bi_"
      },
      "source": [
        "<br>\n",
        "\n",
        "## Convert to Dataframe\n",
        "\n",
        "- Convert the raw BED file to a dataframe that contains alphabet-encoded chromatin state\n",
        " - Chromatin state is annotated per 200 bps ( `'unit'` )\n",
        " - `state_seq_full` represents the chromatin state sequence representation for the specified region"
      ]
    },
    {
      "cell_type": "code",
      "execution_count": 7,
      "metadata": {
        "colab": {
          "base_uri": "https://localhost:8080/",
          "height": 204
        },
        "id": "UK6ciJh2v36O",
        "outputId": "2e227579-0ff0-4bda-e7ef-60d6b15771da"
      },
      "outputs": [
        {
          "output_type": "execute_result",
          "data": {
            "text/plain": [
              "  chromosome   start     end  state  length  unit state_seq  \\\n",
              "0       chr1       0    9800     15    9800    49         O   \n",
              "1       chr1    9800   10800      9    1000     5         I   \n",
              "2       chr1   10800  136400     15  125600   628         O   \n",
              "3       chr1  136400  138800      5    2400    12         E   \n",
              "4       chr1  138800  139600      4     800     4         D   \n",
              "\n",
              "                                      state_seq_full  \n",
              "0  OOOOOOOOOOOOOOOOOOOOOOOOOOOOOOOOOOOOOOOOOOOOOOOOO  \n",
              "1                                              IIIII  \n",
              "2  OOOOOOOOOOOOOOOOOOOOOOOOOOOOOOOOOOOOOOOOOOOOOO...  \n",
              "3                                       EEEEEEEEEEEE  \n",
              "4                                               DDDD  "
            ],
            "text/html": [
              "\n",
              "  <div id=\"df-035d0399-8c9e-40b8-84ca-1480ecaa66d2\" class=\"colab-df-container\">\n",
              "    <div>\n",
              "<style scoped>\n",
              "    .dataframe tbody tr th:only-of-type {\n",
              "        vertical-align: middle;\n",
              "    }\n",
              "\n",
              "    .dataframe tbody tr th {\n",
              "        vertical-align: top;\n",
              "    }\n",
              "\n",
              "    .dataframe thead th {\n",
              "        text-align: right;\n",
              "    }\n",
              "</style>\n",
              "<table border=\"1\" class=\"dataframe\">\n",
              "  <thead>\n",
              "    <tr style=\"text-align: right;\">\n",
              "      <th></th>\n",
              "      <th>chromosome</th>\n",
              "      <th>start</th>\n",
              "      <th>end</th>\n",
              "      <th>state</th>\n",
              "      <th>length</th>\n",
              "      <th>unit</th>\n",
              "      <th>state_seq</th>\n",
              "      <th>state_seq_full</th>\n",
              "    </tr>\n",
              "  </thead>\n",
              "  <tbody>\n",
              "    <tr>\n",
              "      <th>0</th>\n",
              "      <td>chr1</td>\n",
              "      <td>0</td>\n",
              "      <td>9800</td>\n",
              "      <td>15</td>\n",
              "      <td>9800</td>\n",
              "      <td>49</td>\n",
              "      <td>O</td>\n",
              "      <td>OOOOOOOOOOOOOOOOOOOOOOOOOOOOOOOOOOOOOOOOOOOOOOOOO</td>\n",
              "    </tr>\n",
              "    <tr>\n",
              "      <th>1</th>\n",
              "      <td>chr1</td>\n",
              "      <td>9800</td>\n",
              "      <td>10800</td>\n",
              "      <td>9</td>\n",
              "      <td>1000</td>\n",
              "      <td>5</td>\n",
              "      <td>I</td>\n",
              "      <td>IIIII</td>\n",
              "    </tr>\n",
              "    <tr>\n",
              "      <th>2</th>\n",
              "      <td>chr1</td>\n",
              "      <td>10800</td>\n",
              "      <td>136400</td>\n",
              "      <td>15</td>\n",
              "      <td>125600</td>\n",
              "      <td>628</td>\n",
              "      <td>O</td>\n",
              "      <td>OOOOOOOOOOOOOOOOOOOOOOOOOOOOOOOOOOOOOOOOOOOOOO...</td>\n",
              "    </tr>\n",
              "    <tr>\n",
              "      <th>3</th>\n",
              "      <td>chr1</td>\n",
              "      <td>136400</td>\n",
              "      <td>138800</td>\n",
              "      <td>5</td>\n",
              "      <td>2400</td>\n",
              "      <td>12</td>\n",
              "      <td>E</td>\n",
              "      <td>EEEEEEEEEEEE</td>\n",
              "    </tr>\n",
              "    <tr>\n",
              "      <th>4</th>\n",
              "      <td>chr1</td>\n",
              "      <td>138800</td>\n",
              "      <td>139600</td>\n",
              "      <td>4</td>\n",
              "      <td>800</td>\n",
              "      <td>4</td>\n",
              "      <td>D</td>\n",
              "      <td>DDDD</td>\n",
              "    </tr>\n",
              "  </tbody>\n",
              "</table>\n",
              "</div>\n",
              "    <div class=\"colab-df-buttons\">\n",
              "\n",
              "  <div class=\"colab-df-container\">\n",
              "    <button class=\"colab-df-convert\" onclick=\"convertToInteractive('df-035d0399-8c9e-40b8-84ca-1480ecaa66d2')\"\n",
              "            title=\"Convert this dataframe to an interactive table.\"\n",
              "            style=\"display:none;\">\n",
              "\n",
              "  <svg xmlns=\"http://www.w3.org/2000/svg\" height=\"24px\" viewBox=\"0 -960 960 960\">\n",
              "    <path d=\"M120-120v-720h720v720H120Zm60-500h600v-160H180v160Zm220 220h160v-160H400v160Zm0 220h160v-160H400v160ZM180-400h160v-160H180v160Zm440 0h160v-160H620v160ZM180-180h160v-160H180v160Zm440 0h160v-160H620v160Z\"/>\n",
              "  </svg>\n",
              "    </button>\n",
              "\n",
              "  <style>\n",
              "    .colab-df-container {\n",
              "      display:flex;\n",
              "      gap: 12px;\n",
              "    }\n",
              "\n",
              "    .colab-df-convert {\n",
              "      background-color: #E8F0FE;\n",
              "      border: none;\n",
              "      border-radius: 50%;\n",
              "      cursor: pointer;\n",
              "      display: none;\n",
              "      fill: #1967D2;\n",
              "      height: 32px;\n",
              "      padding: 0 0 0 0;\n",
              "      width: 32px;\n",
              "    }\n",
              "\n",
              "    .colab-df-convert:hover {\n",
              "      background-color: #E2EBFA;\n",
              "      box-shadow: 0px 1px 2px rgba(60, 64, 67, 0.3), 0px 1px 3px 1px rgba(60, 64, 67, 0.15);\n",
              "      fill: #174EA6;\n",
              "    }\n",
              "\n",
              "    .colab-df-buttons div {\n",
              "      margin-bottom: 4px;\n",
              "    }\n",
              "\n",
              "    [theme=dark] .colab-df-convert {\n",
              "      background-color: #3B4455;\n",
              "      fill: #D2E3FC;\n",
              "    }\n",
              "\n",
              "    [theme=dark] .colab-df-convert:hover {\n",
              "      background-color: #434B5C;\n",
              "      box-shadow: 0px 1px 3px 1px rgba(0, 0, 0, 0.15);\n",
              "      filter: drop-shadow(0px 1px 2px rgba(0, 0, 0, 0.3));\n",
              "      fill: #FFFFFF;\n",
              "    }\n",
              "  </style>\n",
              "\n",
              "    <script>\n",
              "      const buttonEl =\n",
              "        document.querySelector('#df-035d0399-8c9e-40b8-84ca-1480ecaa66d2 button.colab-df-convert');\n",
              "      buttonEl.style.display =\n",
              "        google.colab.kernel.accessAllowed ? 'block' : 'none';\n",
              "\n",
              "      async function convertToInteractive(key) {\n",
              "        const element = document.querySelector('#df-035d0399-8c9e-40b8-84ca-1480ecaa66d2');\n",
              "        const dataTable =\n",
              "          await google.colab.kernel.invokeFunction('convertToInteractive',\n",
              "                                                    [key], {});\n",
              "        if (!dataTable) return;\n",
              "\n",
              "        const docLinkHtml = 'Like what you see? Visit the ' +\n",
              "          '<a target=\"_blank\" href=https://colab.research.google.com/notebooks/data_table.ipynb>data table notebook</a>'\n",
              "          + ' to learn more about interactive tables.';\n",
              "        element.innerHTML = '';\n",
              "        dataTable['output_type'] = 'display_data';\n",
              "        await google.colab.output.renderOutput(dataTable, element);\n",
              "        const docLink = document.createElement('div');\n",
              "        docLink.innerHTML = docLinkHtml;\n",
              "        element.appendChild(docLink);\n",
              "      }\n",
              "    </script>\n",
              "  </div>\n",
              "\n",
              "\n",
              "    <div id=\"df-29b5fe79-bd2f-4d47-be30-08c0d63ec23d\">\n",
              "      <button class=\"colab-df-quickchart\" onclick=\"quickchart('df-29b5fe79-bd2f-4d47-be30-08c0d63ec23d')\"\n",
              "                title=\"Suggest charts\"\n",
              "                style=\"display:none;\">\n",
              "\n",
              "<svg xmlns=\"http://www.w3.org/2000/svg\" height=\"24px\"viewBox=\"0 0 24 24\"\n",
              "     width=\"24px\">\n",
              "    <g>\n",
              "        <path d=\"M19 3H5c-1.1 0-2 .9-2 2v14c0 1.1.9 2 2 2h14c1.1 0 2-.9 2-2V5c0-1.1-.9-2-2-2zM9 17H7v-7h2v7zm4 0h-2V7h2v10zm4 0h-2v-4h2v4z\"/>\n",
              "    </g>\n",
              "</svg>\n",
              "      </button>\n",
              "\n",
              "<style>\n",
              "  .colab-df-quickchart {\n",
              "      --bg-color: #E8F0FE;\n",
              "      --fill-color: #1967D2;\n",
              "      --hover-bg-color: #E2EBFA;\n",
              "      --hover-fill-color: #174EA6;\n",
              "      --disabled-fill-color: #AAA;\n",
              "      --disabled-bg-color: #DDD;\n",
              "  }\n",
              "\n",
              "  [theme=dark] .colab-df-quickchart {\n",
              "      --bg-color: #3B4455;\n",
              "      --fill-color: #D2E3FC;\n",
              "      --hover-bg-color: #434B5C;\n",
              "      --hover-fill-color: #FFFFFF;\n",
              "      --disabled-bg-color: #3B4455;\n",
              "      --disabled-fill-color: #666;\n",
              "  }\n",
              "\n",
              "  .colab-df-quickchart {\n",
              "    background-color: var(--bg-color);\n",
              "    border: none;\n",
              "    border-radius: 50%;\n",
              "    cursor: pointer;\n",
              "    display: none;\n",
              "    fill: var(--fill-color);\n",
              "    height: 32px;\n",
              "    padding: 0;\n",
              "    width: 32px;\n",
              "  }\n",
              "\n",
              "  .colab-df-quickchart:hover {\n",
              "    background-color: var(--hover-bg-color);\n",
              "    box-shadow: 0 1px 2px rgba(60, 64, 67, 0.3), 0 1px 3px 1px rgba(60, 64, 67, 0.15);\n",
              "    fill: var(--button-hover-fill-color);\n",
              "  }\n",
              "\n",
              "  .colab-df-quickchart-complete:disabled,\n",
              "  .colab-df-quickchart-complete:disabled:hover {\n",
              "    background-color: var(--disabled-bg-color);\n",
              "    fill: var(--disabled-fill-color);\n",
              "    box-shadow: none;\n",
              "  }\n",
              "\n",
              "  .colab-df-spinner {\n",
              "    border: 2px solid var(--fill-color);\n",
              "    border-color: transparent;\n",
              "    border-bottom-color: var(--fill-color);\n",
              "    animation:\n",
              "      spin 1s steps(1) infinite;\n",
              "  }\n",
              "\n",
              "  @keyframes spin {\n",
              "    0% {\n",
              "      border-color: transparent;\n",
              "      border-bottom-color: var(--fill-color);\n",
              "      border-left-color: var(--fill-color);\n",
              "    }\n",
              "    20% {\n",
              "      border-color: transparent;\n",
              "      border-left-color: var(--fill-color);\n",
              "      border-top-color: var(--fill-color);\n",
              "    }\n",
              "    30% {\n",
              "      border-color: transparent;\n",
              "      border-left-color: var(--fill-color);\n",
              "      border-top-color: var(--fill-color);\n",
              "      border-right-color: var(--fill-color);\n",
              "    }\n",
              "    40% {\n",
              "      border-color: transparent;\n",
              "      border-right-color: var(--fill-color);\n",
              "      border-top-color: var(--fill-color);\n",
              "    }\n",
              "    60% {\n",
              "      border-color: transparent;\n",
              "      border-right-color: var(--fill-color);\n",
              "    }\n",
              "    80% {\n",
              "      border-color: transparent;\n",
              "      border-right-color: var(--fill-color);\n",
              "      border-bottom-color: var(--fill-color);\n",
              "    }\n",
              "    90% {\n",
              "      border-color: transparent;\n",
              "      border-bottom-color: var(--fill-color);\n",
              "    }\n",
              "  }\n",
              "</style>\n",
              "\n",
              "      <script>\n",
              "        async function quickchart(key) {\n",
              "          const quickchartButtonEl =\n",
              "            document.querySelector('#' + key + ' button');\n",
              "          quickchartButtonEl.disabled = true;  // To prevent multiple clicks.\n",
              "          quickchartButtonEl.classList.add('colab-df-spinner');\n",
              "          try {\n",
              "            const charts = await google.colab.kernel.invokeFunction(\n",
              "                'suggestCharts', [key], {});\n",
              "          } catch (error) {\n",
              "            console.error('Error during call to suggestCharts:', error);\n",
              "          }\n",
              "          quickchartButtonEl.classList.remove('colab-df-spinner');\n",
              "          quickchartButtonEl.classList.add('colab-df-quickchart-complete');\n",
              "        }\n",
              "        (() => {\n",
              "          let quickchartButtonEl =\n",
              "            document.querySelector('#df-29b5fe79-bd2f-4d47-be30-08c0d63ec23d button');\n",
              "          quickchartButtonEl.style.display =\n",
              "            google.colab.kernel.accessAllowed ? 'block' : 'none';\n",
              "        })();\n",
              "      </script>\n",
              "    </div>\n",
              "\n",
              "    </div>\n",
              "  </div>\n"
            ],
            "application/vnd.google.colaboratory.intrinsic+json": {
              "type": "dataframe",
              "variable_name": "df"
            }
          },
          "metadata": {},
          "execution_count": 7
        }
      ],
      "source": [
        "# Convert to dataframe\n",
        "df=crb.bed2df_expanded('/content/E003_15_coreMarks_stateno.bed')\n",
        "df.head()"
      ]
    },
    {
      "cell_type": "markdown",
      "metadata": {
        "id": "vnIob71FEYG8"
      },
      "source": [
        "## Create String Sequences\n",
        "- Extract chromatin state sequences from the DataFrame and concatenate them into string representations."
      ]
    },
    {
      "cell_type": "code",
      "execution_count": 8,
      "metadata": {
        "colab": {
          "base_uri": "https://localhost:8080/"
        },
        "id": "Abgy_5qC76cE",
        "outputId": "e36bdf85-570a-4b53-9a4f-3700f2710a3e"
      },
      "outputs": [
        {
          "output_type": "stream",
          "name": "stdout",
          "text": [
            "Chromatin state sequence for H1 cell (Chromosome 1)\n",
            "---------------------------------------------------\n",
            "1. Total length:  1246253\n",
            "2. Data type:  <class 'str'>\n",
            "3. Looks like (a small piece): \n",
            "\u001b[1m\u001b[38;2;0;128;0mD\u001b[38;2;255;255;255m\u001b[38;2;0;128;0mD\u001b[38;2;255;255;255m\u001b[38;2;0;128;0mD\u001b[38;2;255;255;255m\u001b[38;2;0;128;0mD\u001b[38;2;255;255;255m\u001b[38;2;0;128;0mD\u001b[38;2;255;255;255m\u001b[38;2;0;128;0mD\u001b[38;2;255;255;255m\u001b[38;2;0;128;0mD\u001b[38;2;255;255;255m\u001b[38;2;0;128;0mD\u001b[38;2;255;255;255m\u001b[38;2;0;128;0mD\u001b[38;2;255;255;255m\u001b[38;2;0;128;0mD\u001b[38;2;255;255;255m\u001b[38;2;0;128;0mD\u001b[38;2;255;255;255m\u001b[38;2;0;128;0mD\u001b[38;2;255;255;255m\u001b[38;2;0;128;0mD\u001b[38;2;255;255;255m\u001b[38;2;0;100;0mE\u001b[38;2;255;255;255m\u001b[38;2;0;100;0mE\u001b[38;2;255;255;255m\u001b[38;2;0;100;0mE\u001b[38;2;255;255;255m\u001b[38;2;0;100;0mE\u001b[38;2;255;255;255m\u001b[38;2;0;100;0mE\u001b[38;2;255;255;255m\u001b[38;2;0;100;0mE\u001b[38;2;255;255;255m\u001b[38;2;255;0;0mA\u001b[38;2;255;255;255m\u001b[38;2;255;0;0mA\u001b[38;2;255;255;255m\u001b[38;2;255;0;0mA\u001b[38;2;255;255;255m\u001b[38;2;255;0;0mA\u001b[38;2;255;255;255m\u001b[38;2;255;0;0mA\u001b[38;2;255;255;255m\u001b[38;2;205;92;92mJ\u001b[38;2;255;255;255m\u001b[38;2;128;128;128mM\u001b[38;2;255;255;255m\u001b[38;2;128;128;128mM\u001b[38;2;255;255;255m\u001b[38;2;128;128;128mM\u001b[38;2;255;255;255m\u001b[38;2;205;92;92mJ\u001b[38;2;255;255;255m\u001b[38;2;205;92;92mJ\u001b[38;2;255;255;255m\u001b[38;2;205;92;92mJ\u001b[38;2;255;255;255m\u001b[38;2;205;92;92mJ\u001b[38;2;255;255;255m\u001b[38;2;205;92;92mJ\u001b[38;2;255;255;255m\u001b[38;2;205;92;92mJ\u001b[38;2;255;255;255m\u001b[38;2;233;150;122mK\u001b[38;2;255;255;255m\u001b[38;2;233;150;122mK\u001b[38;2;255;255;255m\u001b[38;2;189;183;107mL\u001b[38;2;255;255;255m\u001b[38;2;0;100;0mE\u001b[38;2;255;255;255m\u001b[38;2;0;100;0mE\u001b[38;2;255;255;255m\u001b[38;2;0;128;0mD\u001b[38;2;255;255;255m\u001b[38;2;0;128;0mD\u001b[38;2;255;255;255m\u001b[38;2;0;128;0mD\u001b[38;2;255;255;255m\u001b[38;2;0;128;0mD\u001b[38;2;255;255;255m\u001b[38;2;0;128;0mD\u001b[38;2;255;255;255m\u001b[38;2;0;128;0mD\u001b[38;2;255;255;255m\u001b[38;2;0;128;0mD\u001b[38;2;255;255;255m\u001b[38;2;0;128;0mD\u001b[38;2;255;255;255m\u001b[38;2;0;128;0mD\u001b[38;2;255;255;255m\u001b[38;2;0;128;0mD\u001b[38;2;255;255;255m\u001b[38;2;0;128;0mD\u001b[38;2;255;255;255m\u001b[38;2;0;128;0mD\u001b[38;2;255;255;255m\u001b[38;2;0;128;0mD\u001b[38;2;255;255;255m\u001b[38;2;0;128;0mD\u001b[38;2;255;255;255m\u001b[38;2;0;128;0mD\u001b[38;2;255;255;255m\u001b[38;2;0;128;0mD\u001b[38;2;255;255;255m\u001b[38;2;189;183;107mL\u001b[38;2;255;255;255m\u001b[38;2;189;183;107mL\u001b[38;2;255;255;255m\u001b[38;2;189;183;107mL\u001b[38;2;255;255;255m\u001b[38;2;189;183;107mL\u001b[38;2;255;255;255m\u001b[38;2;205;92;92mJ\u001b[38;2;255;255;255m\u001b[38;2;205;92;92mJ\u001b[38;2;255;255;255m\u001b[38;2;205;92;92mJ\u001b[38;2;255;255;255m\u001b[38;2;205;92;92mJ\u001b[38;2;255;255;255m\u001b[38;2;189;183;107mL\u001b[38;2;255;255;255m\u001b[38;2;189;183;107mL\u001b[38;2;255;255;255m\u001b[38;2;189;183;107mL\u001b[38;2;255;255;255m\u001b[38;2;128;128;128mM\u001b[38;2;255;255;255m\u001b[38;2;128;128;128mM\u001b[38;2;255;255;255m\u001b[38;2;128;128;128mM\u001b[38;2;255;255;255m\u001b[38;2;128;128;128mM\u001b[38;2;255;255;255m\u001b[38;2;128;128;128mM\u001b[38;2;255;255;255m\u001b[38;2;128;128;128mM\u001b[38;2;255;255;255m\u001b[38;2;128;128;128mM\u001b[38;2;255;255;255m\u001b[38;2;128;128;128mM\u001b[38;2;255;255;255m\u001b[38;2;128;128;128mM\u001b[38;2;255;255;255m\u001b[38;2;128;128;128mM\u001b[38;2;255;255;255m\u001b[38;2;128;128;128mM\u001b[38;2;255;255;255m\u001b[38;2;128;128;128mM\u001b[38;2;255;255;255m\u001b[38;2;128;128;128mM\u001b[38;2;255;255;255m\u001b[38;2;189;183;107mL\u001b[38;2;255;255;255m\u001b[38;2;189;183;107mL\u001b[38;2;255;255;255m\u001b[38;2;189;183;107mL\u001b[38;2;255;255;255m\u001b[38;2;189;183;107mL\u001b[38;2;255;255;255m\u001b[38;2;189;183;107mL\u001b[38;2;255;255;255m\u001b[38;2;128;128;128mM\u001b[38;2;255;255;255m\u001b[38;2;128;128;128mM\u001b[38;2;255;255;255m\u001b[38;2;192;192;192mN\u001b[38;2;255;255;255m\u001b[38;2;192;192;192mN\u001b[38;2;255;255;255m\u001b[38;2;192;192;192mN\u001b[38;2;255;255;255m\u001b[38;2;192;192;192mN\u001b[38;2;255;255;255m\u001b[38;2;192;192;192mN\u001b[38;2;255;255;255m\u001b[38;2;192;192;192mN\u001b[38;2;255;255;255m\u001b[38;2;192;192;192mN\u001b[38;2;255;255;255m\u001b[38;2;192;192;192mN\u001b[38;2;255;255;255m\u001b[38;2;192;192;192mN\u001b[38;2;255;255;255m\u001b[38;2;192;192;192mN\u001b[38;2;255;255;255m\u001b[38;2;192;192;192mN\u001b[38;2;255;255;255m\u001b[38;2;192;192;192mN\u001b[38;2;255;255;255m\u001b[38;2;192;192;192mN\u001b[38;2;255;255;255m\u001b[38;2;192;192;192mN\u001b[38;2;255;255;255m\u001b[38;2;192;192;192mN\u001b[38;2;255;255;255m\u001b[38;2;192;192;192mN\u001b[38;2;255;255;255m\u001b[38;2;192;192;192mN\u001b[38;2;255;255;255m\u001b[38;2;192;192;192mN\u001b[38;2;255;255;255m\u001b[38;2;192;192;192mN\u001b[38;2;255;255;255m\u001b[38;2;189;183;107mL\u001b[38;2;255;255;255m\u001b[38;2;255;69;0mB\u001b[38;2;255;255;255m\u001b[38;2;255;69;0mB\u001b[38;2;255;255;255m\u001b[38;2;255;69;0mB\u001b[38;2;255;255;255m\u001b[38;2;255;255;0mG\u001b[38;2;255;255;255m\u001b[38;2;192;192;192mN\u001b[38;2;255;255;255m\u001b[38;2;192;192;192mN\u001b[38;2;255;255;255m\u001b[38;2;192;192;192mN\u001b[38;2;255;255;255m\u001b[38;2;192;192;192mN\u001b[38;2;255;255;255m\u001b[38;2;192;192;192mN\u001b[38;2;255;255;255m\u001b[38;2;192;192;192mN\u001b[38;2;255;255;255m\u001b[38;2;192;192;192mN\u001b[38;2;255;255;255m\u001b[38;2;192;192;192mN\u001b[38;2;255;255;255m\u001b[38;2;192;192;192mN\u001b[38;2;255;255;255m\u001b[38;2;192;192;192mN\u001b[38;2;255;255;255m\u001b[0;0m\n"
          ]
        }
      ],
      "source": [
        "# convert to string (list of 24 chromosome entries)\n",
        "css = crb.df2unitcss(df)\n",
        "\n",
        "print(\"Chromatin state sequence for H1 cell (Chromosome 1)\")\n",
        "print(\"---------------------------------------------------\")\n",
        "len_css=len(css[0])\n",
        "print(\"1. Total length: \", len_css)\n",
        "type_css=type(css[0])\n",
        "print(\"2. Data type: \", type_css)\n",
        "head_css=css[0][4450:4570]\n",
        "print(\"3. Looks like (a small piece): \")\n",
        "\n",
        "# The 'colored_css_str_as_is' function converts the string into a colored format according to the designated colors for each chromatin state\n",
        "colored_css=crb.colored_css_str_as_is(head_css)\n"
      ]
    },
    {
      "cell_type": "markdown",
      "metadata": {
        "id": "pWEdysZkOgcR"
      },
      "source": [
        "<br>\n",
        "\n",
        "🤔 How can we format long chromatin state sequences for input into BERT?\n",
        "\n",
        " - BERT processes inputs as sequences of tokens, which are essentially subwords extracted from the model's vocabulary. For instance, when inputting the sentence \"<u>ChromBERT heuristically reveals original motifs, BERT's epigenomic research triumph</u>\" into BERT, it is first tokenized into subwords like this:\n",
        " `['[CLS]', 'ChromBERT', 'heuristically', 'reveals', 'original', 'motifs', ',', 'BERT', \"'s\", 'epigenomic', 'research', 'triumph' '[SEP]']`\n",
        "\n",
        " - In computational genomics, k-mer segmentation is used to analyze sequences effectively by breaking down long, complex strings of data, similar to subword tokenization in language processing. For instance, the sequence `NNLBBBGNN`  is segmented into overlapping 4-mers as follows:  `['[CLS]', 'NNLB','NLBB', 'LBBB' , 'BBBG', 'BBGN', 'BGNN', [SEP]]`\n",
        "\n",
        "\n",
        "<br><br>\n",
        "\n",
        "💡 Special Tokens in BERT Input:\n",
        "When formatting chromatin state sequences for BERT, we include special tokens that serve specific roles:\n",
        " - `[CLS]` (Classification Token): Placed at the *beginning* of the sequence, used to aggregate information for downstream classification tasks.\n",
        " - `[SEP]` (Separator Token): Marks the *end* of a sequence or separates two segments in tasks requiring multiple inputs.\n",
        " - `[PAD]` (Padding Token): Used to ensure all sequences in a batch are of uniform length by filling shorter sequences with this token.\n",
        " - `[MASK]` (Masking Token): Used in pretraining for masked language modeling, where certain tokens are replaced with `[MASK]` to train the model to predict them.\n",
        " - `[UNK]` (Unknown Token): Represents tokens that are not found in the model’s vocabulary, such as rare or unseen chromatin states.\n",
        "\n",
        " <br>"
      ]
    },
    {
      "cell_type": "markdown",
      "metadata": {
        "id": "_hVFlwGxlT_s"
      },
      "source": [
        "## K-mer Segmentation"
      ]
    },
    {
      "cell_type": "code",
      "execution_count": 9,
      "metadata": {
        "colab": {
          "base_uri": "https://localhost:8080/"
        },
        "id": "2cO8NJJ6F3R_",
        "outputId": "b36fdea7-e4a5-442c-9793-080914022136"
      },
      "outputs": [
        {
          "output_type": "stream",
          "name": "stdout",
          "text": [
            "* Before k-mer Segmentation\n",
            "\u001b[1m\u001b[38;2;0;128;0mD\u001b[38;2;255;255;255m\u001b[38;2;0;128;0mD\u001b[38;2;255;255;255m\u001b[38;2;0;128;0mD\u001b[38;2;255;255;255m\u001b[38;2;0;128;0mD\u001b[38;2;255;255;255m\u001b[38;2;0;128;0mD\u001b[38;2;255;255;255m\u001b[38;2;0;128;0mD\u001b[38;2;255;255;255m\u001b[38;2;0;128;0mD\u001b[38;2;255;255;255m\u001b[38;2;0;128;0mD\u001b[38;2;255;255;255m\u001b[38;2;0;128;0mD\u001b[38;2;255;255;255m\u001b[38;2;0;128;0mD\u001b[38;2;255;255;255m\u001b[38;2;0;128;0mD\u001b[38;2;255;255;255m\u001b[38;2;0;128;0mD\u001b[38;2;255;255;255m\u001b[38;2;0;128;0mD\u001b[38;2;255;255;255m\u001b[38;2;0;100;0mE\u001b[38;2;255;255;255m\u001b[38;2;0;100;0mE\u001b[38;2;255;255;255m\u001b[38;2;0;100;0mE\u001b[38;2;255;255;255m\u001b[38;2;0;100;0mE\u001b[38;2;255;255;255m\u001b[38;2;0;100;0mE\u001b[38;2;255;255;255m\u001b[38;2;0;100;0mE\u001b[38;2;255;255;255m\u001b[38;2;255;0;0mA\u001b[38;2;255;255;255m\u001b[38;2;255;0;0mA\u001b[38;2;255;255;255m\u001b[38;2;255;0;0mA\u001b[38;2;255;255;255m\u001b[38;2;255;0;0mA\u001b[38;2;255;255;255m\u001b[38;2;255;0;0mA\u001b[38;2;255;255;255m\u001b[38;2;205;92;92mJ\u001b[38;2;255;255;255m\u001b[38;2;128;128;128mM\u001b[38;2;255;255;255m\u001b[38;2;128;128;128mM\u001b[38;2;255;255;255m\u001b[38;2;128;128;128mM\u001b[38;2;255;255;255m\u001b[38;2;205;92;92mJ\u001b[38;2;255;255;255m\u001b[38;2;205;92;92mJ\u001b[38;2;255;255;255m\u001b[38;2;205;92;92mJ\u001b[38;2;255;255;255m\u001b[38;2;205;92;92mJ\u001b[38;2;255;255;255m\u001b[38;2;205;92;92mJ\u001b[38;2;255;255;255m\u001b[38;2;205;92;92mJ\u001b[38;2;255;255;255m\u001b[38;2;233;150;122mK\u001b[38;2;255;255;255m\u001b[38;2;233;150;122mK\u001b[38;2;255;255;255m\u001b[38;2;189;183;107mL\u001b[38;2;255;255;255m\u001b[38;2;0;100;0mE\u001b[38;2;255;255;255m\u001b[38;2;0;100;0mE\u001b[38;2;255;255;255m\u001b[38;2;0;128;0mD\u001b[38;2;255;255;255m\u001b[38;2;0;128;0mD\u001b[38;2;255;255;255m\u001b[38;2;0;128;0mD\u001b[38;2;255;255;255m\u001b[38;2;0;128;0mD\u001b[38;2;255;255;255m\u001b[38;2;0;128;0mD\u001b[38;2;255;255;255m\u001b[38;2;0;128;0mD\u001b[38;2;255;255;255m\u001b[38;2;0;128;0mD\u001b[38;2;255;255;255m\u001b[38;2;0;128;0mD\u001b[38;2;255;255;255m\u001b[38;2;0;128;0mD\u001b[38;2;255;255;255m\u001b[38;2;0;128;0mD\u001b[38;2;255;255;255m\u001b[38;2;0;128;0mD\u001b[38;2;255;255;255m\u001b[38;2;0;128;0mD\u001b[38;2;255;255;255m\u001b[38;2;0;128;0mD\u001b[38;2;255;255;255m\u001b[38;2;0;128;0mD\u001b[38;2;255;255;255m\u001b[38;2;0;128;0mD\u001b[38;2;255;255;255m\u001b[38;2;0;128;0mD\u001b[38;2;255;255;255m\u001b[38;2;189;183;107mL\u001b[38;2;255;255;255m\u001b[38;2;189;183;107mL\u001b[38;2;255;255;255m\u001b[38;2;189;183;107mL\u001b[38;2;255;255;255m\u001b[38;2;189;183;107mL\u001b[38;2;255;255;255m\u001b[38;2;205;92;92mJ\u001b[38;2;255;255;255m\u001b[38;2;205;92;92mJ\u001b[38;2;255;255;255m\u001b[38;2;205;92;92mJ\u001b[38;2;255;255;255m\u001b[38;2;205;92;92mJ\u001b[38;2;255;255;255m\u001b[38;2;189;183;107mL\u001b[38;2;255;255;255m\u001b[38;2;189;183;107mL\u001b[38;2;255;255;255m\u001b[38;2;189;183;107mL\u001b[38;2;255;255;255m\u001b[38;2;128;128;128mM\u001b[38;2;255;255;255m\u001b[38;2;128;128;128mM\u001b[38;2;255;255;255m\u001b[38;2;128;128;128mM\u001b[38;2;255;255;255m\u001b[38;2;128;128;128mM\u001b[38;2;255;255;255m\u001b[38;2;128;128;128mM\u001b[38;2;255;255;255m\u001b[38;2;128;128;128mM\u001b[38;2;255;255;255m\u001b[38;2;128;128;128mM\u001b[38;2;255;255;255m\u001b[38;2;128;128;128mM\u001b[38;2;255;255;255m\u001b[38;2;128;128;128mM\u001b[38;2;255;255;255m\u001b[38;2;128;128;128mM\u001b[38;2;255;255;255m\u001b[38;2;128;128;128mM\u001b[38;2;255;255;255m\u001b[38;2;128;128;128mM\u001b[38;2;255;255;255m\u001b[38;2;128;128;128mM\u001b[38;2;255;255;255m\u001b[38;2;189;183;107mL\u001b[38;2;255;255;255m\u001b[38;2;189;183;107mL\u001b[38;2;255;255;255m\u001b[38;2;189;183;107mL\u001b[38;2;255;255;255m\u001b[38;2;189;183;107mL\u001b[38;2;255;255;255m\u001b[38;2;189;183;107mL\u001b[38;2;255;255;255m\u001b[38;2;128;128;128mM\u001b[38;2;255;255;255m\u001b[38;2;128;128;128mM\u001b[38;2;255;255;255m\u001b[38;2;192;192;192mN\u001b[38;2;255;255;255m\u001b[38;2;192;192;192mN\u001b[38;2;255;255;255m\u001b[38;2;192;192;192mN\u001b[38;2;255;255;255m\u001b[38;2;192;192;192mN\u001b[38;2;255;255;255m\u001b[38;2;192;192;192mN\u001b[38;2;255;255;255m\u001b[38;2;192;192;192mN\u001b[38;2;255;255;255m\u001b[38;2;192;192;192mN\u001b[38;2;255;255;255m\u001b[38;2;192;192;192mN\u001b[38;2;255;255;255m\u001b[38;2;192;192;192mN\u001b[38;2;255;255;255m\u001b[38;2;192;192;192mN\u001b[38;2;255;255;255m\u001b[38;2;192;192;192mN\u001b[38;2;255;255;255m\u001b[38;2;192;192;192mN\u001b[38;2;255;255;255m\u001b[38;2;192;192;192mN\u001b[38;2;255;255;255m\u001b[38;2;192;192;192mN\u001b[38;2;255;255;255m\u001b[38;2;192;192;192mN\u001b[38;2;255;255;255m\u001b[38;2;192;192;192mN\u001b[38;2;255;255;255m\u001b[38;2;192;192;192mN\u001b[38;2;255;255;255m\u001b[38;2;192;192;192mN\u001b[38;2;255;255;255m\u001b[38;2;192;192;192mN\u001b[38;2;255;255;255m\u001b[38;2;189;183;107mL\u001b[38;2;255;255;255m\u001b[38;2;255;69;0mB\u001b[38;2;255;255;255m\u001b[38;2;255;69;0mB\u001b[38;2;255;255;255m\u001b[38;2;255;69;0mB\u001b[38;2;255;255;255m\u001b[38;2;255;255;0mG\u001b[38;2;255;255;255m\u001b[38;2;192;192;192mN\u001b[38;2;255;255;255m\u001b[38;2;192;192;192mN\u001b[38;2;255;255;255m\u001b[38;2;192;192;192mN\u001b[38;2;255;255;255m\u001b[38;2;192;192;192mN\u001b[38;2;255;255;255m\u001b[38;2;192;192;192mN\u001b[38;2;255;255;255m\u001b[38;2;192;192;192mN\u001b[38;2;255;255;255m\u001b[38;2;192;192;192mN\u001b[38;2;255;255;255m\u001b[38;2;192;192;192mN\u001b[38;2;255;255;255m\u001b[38;2;192;192;192mN\u001b[38;2;255;255;255m\u001b[38;2;192;192;192mN\u001b[38;2;255;255;255m\u001b[0;0m\n",
            "---------------------\n",
            "* After 4-mer Segmentation\n",
            "\u001b[1m\u001b[38;2;0;128;0mD\u001b[38;2;255;255;255m\u001b[38;2;0;128;0mD\u001b[38;2;255;255;255m\u001b[38;2;0;128;0mD\u001b[38;2;255;255;255m\u001b[38;2;0;128;0mD\u001b[38;2;255;255;255m \u001b[38;2;0;128;0mD\u001b[38;2;255;255;255m\u001b[38;2;0;128;0mD\u001b[38;2;255;255;255m\u001b[38;2;0;128;0mD\u001b[38;2;255;255;255m\u001b[38;2;0;128;0mD\u001b[38;2;255;255;255m \u001b[38;2;0;128;0mD\u001b[38;2;255;255;255m\u001b[38;2;0;128;0mD\u001b[38;2;255;255;255m\u001b[38;2;0;128;0mD\u001b[38;2;255;255;255m\u001b[38;2;0;128;0mD\u001b[38;2;255;255;255m \u001b[38;2;0;128;0mD\u001b[38;2;255;255;255m\u001b[38;2;0;128;0mD\u001b[38;2;255;255;255m\u001b[38;2;0;128;0mD\u001b[38;2;255;255;255m\u001b[38;2;0;128;0mD\u001b[38;2;255;255;255m \u001b[38;2;0;128;0mD\u001b[38;2;255;255;255m\u001b[38;2;0;128;0mD\u001b[38;2;255;255;255m\u001b[38;2;0;128;0mD\u001b[38;2;255;255;255m\u001b[38;2;0;128;0mD\u001b[38;2;255;255;255m \u001b[38;2;0;128;0mD\u001b[38;2;255;255;255m\u001b[38;2;0;128;0mD\u001b[38;2;255;255;255m\u001b[38;2;0;128;0mD\u001b[38;2;255;255;255m\u001b[38;2;0;128;0mD\u001b[38;2;255;255;255m \u001b[38;2;0;128;0mD\u001b[38;2;255;255;255m\u001b[38;2;0;128;0mD\u001b[38;2;255;255;255m\u001b[38;2;0;128;0mD\u001b[38;2;255;255;255m\u001b[38;2;0;128;0mD\u001b[38;2;255;255;255m \u001b[38;2;0;128;0mD\u001b[38;2;255;255;255m\u001b[38;2;0;128;0mD\u001b[38;2;255;255;255m\u001b[38;2;0;128;0mD\u001b[38;2;255;255;255m\u001b[38;2;0;128;0mD\u001b[38;2;255;255;255m \u001b[38;2;0;128;0mD\u001b[38;2;255;255;255m\u001b[38;2;0;128;0mD\u001b[38;2;255;255;255m\u001b[38;2;0;128;0mD\u001b[38;2;255;255;255m\u001b[38;2;0;128;0mD\u001b[38;2;255;255;255m \u001b[38;2;0;128;0mD\u001b[38;2;255;255;255m\u001b[38;2;0;128;0mD\u001b[38;2;255;255;255m\u001b[38;2;0;128;0mD\u001b[38;2;255;255;255m\u001b[38;2;0;128;0mD\u001b[38;2;255;255;255m \u001b[38;2;0;128;0mD\u001b[38;2;255;255;255m\u001b[38;2;0;128;0mD\u001b[38;2;255;255;255m\u001b[38;2;0;128;0mD\u001b[38;2;255;255;255m\u001b[38;2;0;100;0mE\u001b[38;2;255;255;255m \u001b[38;2;0;128;0mD\u001b[38;2;255;255;255m\u001b[38;2;0;128;0mD\u001b[38;2;255;255;255m\u001b[38;2;0;100;0mE\u001b[38;2;255;255;255m\u001b[38;2;0;100;0mE\u001b[38;2;255;255;255m \u001b[38;2;0;128;0mD\u001b[38;2;255;255;255m\u001b[38;2;0;100;0mE\u001b[38;2;255;255;255m\u001b[38;2;0;100;0mE\u001b[38;2;255;255;255m\u001b[38;2;0;100;0mE\u001b[38;2;255;255;255m \u001b[38;2;0;100;0mE\u001b[38;2;255;255;255m\u001b[38;2;0;100;0mE\u001b[38;2;255;255;255m\u001b[38;2;0;100;0mE\u001b[38;2;255;255;255m\u001b[38;2;0;100;0mE\u001b[38;2;255;255;255m \u001b[38;2;0;100;0mE\u001b[38;2;255;255;255m\u001b[38;2;0;100;0mE\u001b[38;2;255;255;255m\u001b[38;2;0;100;0mE\u001b[38;2;255;255;255m\u001b[38;2;0;100;0mE\u001b[38;2;255;255;255m \u001b[38;2;0;100;0mE\u001b[38;2;255;255;255m\u001b[38;2;0;100;0mE\u001b[38;2;255;255;255m\u001b[38;2;0;100;0mE\u001b[38;2;255;255;255m\u001b[38;2;0;100;0mE\u001b[38;2;255;255;255m \u001b[38;2;0;100;0mE\u001b[38;2;255;255;255m\u001b[38;2;0;100;0mE\u001b[38;2;255;255;255m\u001b[38;2;0;100;0mE\u001b[38;2;255;255;255m\u001b[38;2;255;0;0mA\u001b[38;2;255;255;255m \u001b[38;2;0;100;0mE\u001b[38;2;255;255;255m\u001b[38;2;0;100;0mE\u001b[38;2;255;255;255m\u001b[38;2;255;0;0mA\u001b[38;2;255;255;255m\u001b[38;2;255;0;0mA\u001b[38;2;255;255;255m \u001b[38;2;0;100;0mE\u001b[38;2;255;255;255m\u001b[38;2;255;0;0mA\u001b[38;2;255;255;255m\u001b[38;2;255;0;0mA\u001b[38;2;255;255;255m\u001b[38;2;255;0;0mA\u001b[38;2;255;255;255m \u001b[38;2;255;0;0mA\u001b[38;2;255;255;255m\u001b[38;2;255;0;0mA\u001b[38;2;255;255;255m\u001b[38;2;255;0;0mA\u001b[38;2;255;255;255m\u001b[38;2;255;0;0mA\u001b[38;2;255;255;255m \u001b[38;2;255;0;0mA\u001b[38;2;255;255;255m\u001b[38;2;255;0;0mA\u001b[38;2;255;255;255m\u001b[38;2;255;0;0mA\u001b[38;2;255;255;255m\u001b[38;2;255;0;0mA\u001b[38;2;255;255;255m \u001b[38;2;255;0;0mA\u001b[38;2;255;255;255m\u001b[38;2;255;0;0mA\u001b[38;2;255;255;255m\u001b[38;2;255;0;0mA\u001b[38;2;255;255;255m\u001b[38;2;205;92;92mJ\u001b[38;2;255;255;255m \u001b[38;2;255;0;0mA\u001b[38;2;255;255;255m\u001b[38;2;255;0;0mA\u001b[38;2;255;255;255m\u001b[38;2;205;92;92mJ\u001b[38;2;255;255;255m\u001b[38;2;128;128;128mM\u001b[38;2;255;255;255m \u001b[38;2;255;0;0mA\u001b[38;2;255;255;255m\u001b[38;2;205;92;92mJ\u001b[38;2;255;255;255m\u001b[38;2;128;128;128mM\u001b[38;2;255;255;255m\u001b[38;2;128;128;128mM\u001b[38;2;255;255;255m \u001b[38;2;205;92;92mJ\u001b[38;2;255;255;255m\u001b[38;2;128;128;128mM\u001b[38;2;255;255;255m\u001b[38;2;128;128;128mM\u001b[38;2;255;255;255m\u001b[38;2;128;128;128mM\u001b[38;2;255;255;255m \u001b[38;2;128;128;128mM\u001b[38;2;255;255;255m\u001b[38;2;128;128;128mM\u001b[38;2;255;255;255m\u001b[38;2;128;128;128mM\u001b[38;2;255;255;255m\u001b[38;2;205;92;92mJ\u001b[38;2;255;255;255m \u001b[38;2;128;128;128mM\u001b[38;2;255;255;255m\u001b[38;2;128;128;128mM\u001b[38;2;255;255;255m\u001b[38;2;205;92;92mJ\u001b[38;2;255;255;255m\u001b[38;2;205;92;92mJ\u001b[38;2;255;255;255m \u001b[38;2;128;128;128mM\u001b[38;2;255;255;255m\u001b[38;2;205;92;92mJ\u001b[38;2;255;255;255m\u001b[38;2;205;92;92mJ\u001b[38;2;255;255;255m\u001b[38;2;205;92;92mJ\u001b[38;2;255;255;255m \u001b[38;2;205;92;92mJ\u001b[38;2;255;255;255m\u001b[38;2;205;92;92mJ\u001b[38;2;255;255;255m\u001b[38;2;205;92;92mJ\u001b[38;2;255;255;255m\u001b[38;2;205;92;92mJ\u001b[38;2;255;255;255m \u001b[38;2;205;92;92mJ\u001b[38;2;255;255;255m\u001b[38;2;205;92;92mJ\u001b[38;2;255;255;255m\u001b[38;2;205;92;92mJ\u001b[38;2;255;255;255m\u001b[38;2;205;92;92mJ\u001b[38;2;255;255;255m \u001b[38;2;205;92;92mJ\u001b[38;2;255;255;255m\u001b[38;2;205;92;92mJ\u001b[38;2;255;255;255m\u001b[38;2;205;92;92mJ\u001b[38;2;255;255;255m\u001b[38;2;205;92;92mJ\u001b[38;2;255;255;255m \u001b[38;2;205;92;92mJ\u001b[38;2;255;255;255m\u001b[38;2;205;92;92mJ\u001b[38;2;255;255;255m\u001b[38;2;205;92;92mJ\u001b[38;2;255;255;255m\u001b[38;2;233;150;122mK\u001b[38;2;255;255;255m \u001b[38;2;205;92;92mJ\u001b[38;2;255;255;255m\u001b[38;2;205;92;92mJ\u001b[38;2;255;255;255m\u001b[38;2;233;150;122mK\u001b[38;2;255;255;255m\u001b[38;2;233;150;122mK\u001b[38;2;255;255;255m \u001b[38;2;205;92;92mJ\u001b[38;2;255;255;255m\u001b[38;2;233;150;122mK\u001b[38;2;255;255;255m\u001b[38;2;233;150;122mK\u001b[38;2;255;255;255m\u001b[38;2;189;183;107mL\u001b[38;2;255;255;255m \u001b[38;2;233;150;122mK\u001b[38;2;255;255;255m\u001b[38;2;233;150;122mK\u001b[38;2;255;255;255m\u001b[38;2;189;183;107mL\u001b[38;2;255;255;255m\u001b[38;2;0;100;0mE\u001b[38;2;255;255;255m \u001b[38;2;233;150;122mK\u001b[38;2;255;255;255m\u001b[38;2;189;183;107mL\u001b[38;2;255;255;255m\u001b[38;2;0;100;0mE\u001b[38;2;255;255;255m\u001b[38;2;0;100;0mE\u001b[38;2;255;255;255m \u001b[38;2;189;183;107mL\u001b[38;2;255;255;255m\u001b[38;2;0;100;0mE\u001b[38;2;255;255;255m\u001b[38;2;0;100;0mE\u001b[38;2;255;255;255m\u001b[38;2;0;128;0mD\u001b[38;2;255;255;255m \u001b[38;2;0;100;0mE\u001b[38;2;255;255;255m\u001b[38;2;0;100;0mE\u001b[38;2;255;255;255m\u001b[38;2;0;128;0mD\u001b[38;2;255;255;255m\u001b[38;2;0;128;0mD\u001b[38;2;255;255;255m \u001b[38;2;0;100;0mE\u001b[38;2;255;255;255m\u001b[38;2;0;128;0mD\u001b[38;2;255;255;255m\u001b[38;2;0;128;0mD\u001b[38;2;255;255;255m\u001b[38;2;0;128;0mD\u001b[38;2;255;255;255m \u001b[38;2;0;128;0mD\u001b[38;2;255;255;255m\u001b[38;2;0;128;0mD\u001b[38;2;255;255;255m\u001b[38;2;0;128;0mD\u001b[38;2;255;255;255m\u001b[38;2;0;128;0mD\u001b[38;2;255;255;255m \u001b[38;2;0;128;0mD\u001b[38;2;255;255;255m\u001b[38;2;0;128;0mD\u001b[38;2;255;255;255m\u001b[38;2;0;128;0mD\u001b[38;2;255;255;255m\u001b[38;2;0;128;0mD\u001b[38;2;255;255;255m \u001b[38;2;0;128;0mD\u001b[38;2;255;255;255m\u001b[38;2;0;128;0mD\u001b[38;2;255;255;255m\u001b[38;2;0;128;0mD\u001b[38;2;255;255;255m\u001b[38;2;0;128;0mD\u001b[38;2;255;255;255m \u001b[38;2;0;128;0mD\u001b[38;2;255;255;255m\u001b[38;2;0;128;0mD\u001b[38;2;255;255;255m\u001b[38;2;0;128;0mD\u001b[38;2;255;255;255m\u001b[38;2;0;128;0mD\u001b[38;2;255;255;255m \u001b[38;2;0;128;0mD\u001b[38;2;255;255;255m\u001b[38;2;0;128;0mD\u001b[38;2;255;255;255m\u001b[38;2;0;128;0mD\u001b[38;2;255;255;255m\u001b[38;2;0;128;0mD\u001b[38;2;255;255;255m \u001b[38;2;0;128;0mD\u001b[38;2;255;255;255m\u001b[38;2;0;128;0mD\u001b[38;2;255;255;255m\u001b[38;2;0;128;0mD\u001b[38;2;255;255;255m\u001b[38;2;0;128;0mD\u001b[38;2;255;255;255m \u001b[38;2;0;128;0mD\u001b[38;2;255;255;255m\u001b[38;2;0;128;0mD\u001b[38;2;255;255;255m\u001b[38;2;0;128;0mD\u001b[38;2;255;255;255m\u001b[38;2;0;128;0mD\u001b[38;2;255;255;255m \u001b[38;2;0;128;0mD\u001b[38;2;255;255;255m\u001b[38;2;0;128;0mD\u001b[38;2;255;255;255m\u001b[38;2;0;128;0mD\u001b[38;2;255;255;255m\u001b[38;2;0;128;0mD\u001b[38;2;255;255;255m \u001b[38;2;0;128;0mD\u001b[38;2;255;255;255m\u001b[38;2;0;128;0mD\u001b[38;2;255;255;255m\u001b[38;2;0;128;0mD\u001b[38;2;255;255;255m\u001b[38;2;0;128;0mD\u001b[38;2;255;255;255m \u001b[38;2;0;128;0mD\u001b[38;2;255;255;255m\u001b[38;2;0;128;0mD\u001b[38;2;255;255;255m\u001b[38;2;0;128;0mD\u001b[38;2;255;255;255m\u001b[38;2;0;128;0mD\u001b[38;2;255;255;255m \u001b[38;2;0;128;0mD\u001b[38;2;255;255;255m\u001b[38;2;0;128;0mD\u001b[38;2;255;255;255m\u001b[38;2;0;128;0mD\u001b[38;2;255;255;255m\u001b[38;2;0;128;0mD\u001b[38;2;255;255;255m \u001b[38;2;0;128;0mD\u001b[38;2;255;255;255m\u001b[38;2;0;128;0mD\u001b[38;2;255;255;255m\u001b[38;2;0;128;0mD\u001b[38;2;255;255;255m\u001b[38;2;0;128;0mD\u001b[38;2;255;255;255m \u001b[38;2;0;128;0mD\u001b[38;2;255;255;255m\u001b[38;2;0;128;0mD\u001b[38;2;255;255;255m\u001b[38;2;0;128;0mD\u001b[38;2;255;255;255m\u001b[38;2;0;128;0mD\u001b[38;2;255;255;255m \u001b[38;2;0;128;0mD\u001b[38;2;255;255;255m\u001b[38;2;0;128;0mD\u001b[38;2;255;255;255m\u001b[38;2;0;128;0mD\u001b[38;2;255;255;255m\u001b[38;2;189;183;107mL\u001b[38;2;255;255;255m \u001b[38;2;0;128;0mD\u001b[38;2;255;255;255m\u001b[38;2;0;128;0mD\u001b[38;2;255;255;255m\u001b[38;2;189;183;107mL\u001b[38;2;255;255;255m\u001b[38;2;189;183;107mL\u001b[38;2;255;255;255m \u001b[38;2;0;128;0mD\u001b[38;2;255;255;255m\u001b[38;2;189;183;107mL\u001b[38;2;255;255;255m\u001b[38;2;189;183;107mL\u001b[38;2;255;255;255m\u001b[38;2;189;183;107mL\u001b[38;2;255;255;255m \u001b[38;2;189;183;107mL\u001b[38;2;255;255;255m\u001b[38;2;189;183;107mL\u001b[38;2;255;255;255m\u001b[38;2;189;183;107mL\u001b[38;2;255;255;255m\u001b[38;2;189;183;107mL\u001b[38;2;255;255;255m \u001b[38;2;189;183;107mL\u001b[38;2;255;255;255m\u001b[38;2;189;183;107mL\u001b[38;2;255;255;255m\u001b[38;2;189;183;107mL\u001b[38;2;255;255;255m\u001b[38;2;205;92;92mJ\u001b[38;2;255;255;255m \u001b[38;2;189;183;107mL\u001b[38;2;255;255;255m\u001b[38;2;189;183;107mL\u001b[38;2;255;255;255m\u001b[38;2;205;92;92mJ\u001b[38;2;255;255;255m\u001b[38;2;205;92;92mJ\u001b[38;2;255;255;255m \u001b[38;2;189;183;107mL\u001b[38;2;255;255;255m\u001b[38;2;205;92;92mJ\u001b[38;2;255;255;255m\u001b[38;2;205;92;92mJ\u001b[38;2;255;255;255m\u001b[38;2;205;92;92mJ\u001b[38;2;255;255;255m \u001b[38;2;205;92;92mJ\u001b[38;2;255;255;255m\u001b[38;2;205;92;92mJ\u001b[38;2;255;255;255m\u001b[38;2;205;92;92mJ\u001b[38;2;255;255;255m\u001b[38;2;205;92;92mJ\u001b[38;2;255;255;255m \u001b[38;2;205;92;92mJ\u001b[38;2;255;255;255m\u001b[38;2;205;92;92mJ\u001b[38;2;255;255;255m\u001b[38;2;205;92;92mJ\u001b[38;2;255;255;255m\u001b[38;2;189;183;107mL\u001b[38;2;255;255;255m \u001b[38;2;205;92;92mJ\u001b[38;2;255;255;255m\u001b[38;2;205;92;92mJ\u001b[38;2;255;255;255m\u001b[38;2;189;183;107mL\u001b[38;2;255;255;255m\u001b[38;2;189;183;107mL\u001b[38;2;255;255;255m \u001b[38;2;205;92;92mJ\u001b[38;2;255;255;255m\u001b[38;2;189;183;107mL\u001b[38;2;255;255;255m\u001b[38;2;189;183;107mL\u001b[38;2;255;255;255m\u001b[38;2;189;183;107mL\u001b[38;2;255;255;255m \u001b[38;2;189;183;107mL\u001b[38;2;255;255;255m\u001b[38;2;189;183;107mL\u001b[38;2;255;255;255m\u001b[38;2;189;183;107mL\u001b[38;2;255;255;255m\u001b[38;2;128;128;128mM\u001b[38;2;255;255;255m \u001b[38;2;189;183;107mL\u001b[38;2;255;255;255m\u001b[38;2;189;183;107mL\u001b[38;2;255;255;255m\u001b[38;2;128;128;128mM\u001b[38;2;255;255;255m\u001b[38;2;128;128;128mM\u001b[38;2;255;255;255m \u001b[38;2;189;183;107mL\u001b[38;2;255;255;255m\u001b[38;2;128;128;128mM\u001b[38;2;255;255;255m\u001b[38;2;128;128;128mM\u001b[38;2;255;255;255m\u001b[38;2;128;128;128mM\u001b[38;2;255;255;255m \u001b[38;2;128;128;128mM\u001b[38;2;255;255;255m\u001b[38;2;128;128;128mM\u001b[38;2;255;255;255m\u001b[38;2;128;128;128mM\u001b[38;2;255;255;255m\u001b[38;2;128;128;128mM\u001b[38;2;255;255;255m \u001b[38;2;128;128;128mM\u001b[38;2;255;255;255m\u001b[38;2;128;128;128mM\u001b[38;2;255;255;255m\u001b[38;2;128;128;128mM\u001b[38;2;255;255;255m\u001b[38;2;128;128;128mM\u001b[38;2;255;255;255m \u001b[38;2;128;128;128mM\u001b[38;2;255;255;255m\u001b[38;2;128;128;128mM\u001b[38;2;255;255;255m\u001b[38;2;128;128;128mM\u001b[38;2;255;255;255m\u001b[38;2;128;128;128mM\u001b[38;2;255;255;255m \u001b[38;2;128;128;128mM\u001b[38;2;255;255;255m\u001b[38;2;128;128;128mM\u001b[38;2;255;255;255m\u001b[38;2;128;128;128mM\u001b[38;2;255;255;255m\u001b[38;2;128;128;128mM\u001b[38;2;255;255;255m \u001b[38;2;128;128;128mM\u001b[38;2;255;255;255m\u001b[38;2;128;128;128mM\u001b[38;2;255;255;255m\u001b[38;2;128;128;128mM\u001b[38;2;255;255;255m\u001b[38;2;128;128;128mM\u001b[38;2;255;255;255m \u001b[38;2;128;128;128mM\u001b[38;2;255;255;255m\u001b[38;2;128;128;128mM\u001b[38;2;255;255;255m\u001b[38;2;128;128;128mM\u001b[38;2;255;255;255m\u001b[38;2;128;128;128mM\u001b[38;2;255;255;255m \u001b[38;2;128;128;128mM\u001b[38;2;255;255;255m\u001b[38;2;128;128;128mM\u001b[38;2;255;255;255m\u001b[38;2;128;128;128mM\u001b[38;2;255;255;255m\u001b[38;2;128;128;128mM\u001b[38;2;255;255;255m \u001b[38;2;128;128;128mM\u001b[38;2;255;255;255m\u001b[38;2;128;128;128mM\u001b[38;2;255;255;255m\u001b[38;2;128;128;128mM\u001b[38;2;255;255;255m\u001b[38;2;128;128;128mM\u001b[38;2;255;255;255m \u001b[38;2;128;128;128mM\u001b[38;2;255;255;255m\u001b[38;2;128;128;128mM\u001b[38;2;255;255;255m\u001b[38;2;128;128;128mM\u001b[38;2;255;255;255m\u001b[38;2;128;128;128mM\u001b[38;2;255;255;255m \u001b[38;2;128;128;128mM\u001b[38;2;255;255;255m\u001b[38;2;128;128;128mM\u001b[38;2;255;255;255m\u001b[38;2;128;128;128mM\u001b[38;2;255;255;255m\u001b[38;2;128;128;128mM\u001b[38;2;255;255;255m \u001b[38;2;128;128;128mM\u001b[38;2;255;255;255m\u001b[38;2;128;128;128mM\u001b[38;2;255;255;255m\u001b[38;2;128;128;128mM\u001b[38;2;255;255;255m\u001b[38;2;189;183;107mL\u001b[38;2;255;255;255m \u001b[38;2;128;128;128mM\u001b[38;2;255;255;255m\u001b[38;2;128;128;128mM\u001b[38;2;255;255;255m\u001b[38;2;189;183;107mL\u001b[38;2;255;255;255m\u001b[38;2;189;183;107mL\u001b[38;2;255;255;255m \u001b[38;2;128;128;128mM\u001b[38;2;255;255;255m\u001b[38;2;189;183;107mL\u001b[38;2;255;255;255m\u001b[38;2;189;183;107mL\u001b[38;2;255;255;255m\u001b[38;2;189;183;107mL\u001b[38;2;255;255;255m \u001b[38;2;189;183;107mL\u001b[38;2;255;255;255m\u001b[38;2;189;183;107mL\u001b[38;2;255;255;255m\u001b[38;2;189;183;107mL\u001b[38;2;255;255;255m\u001b[38;2;189;183;107mL\u001b[38;2;255;255;255m \u001b[38;2;189;183;107mL\u001b[38;2;255;255;255m\u001b[38;2;189;183;107mL\u001b[38;2;255;255;255m\u001b[38;2;189;183;107mL\u001b[38;2;255;255;255m\u001b[38;2;189;183;107mL\u001b[38;2;255;255;255m \u001b[38;2;189;183;107mL\u001b[38;2;255;255;255m\u001b[38;2;189;183;107mL\u001b[38;2;255;255;255m\u001b[38;2;189;183;107mL\u001b[38;2;255;255;255m\u001b[38;2;128;128;128mM\u001b[38;2;255;255;255m \u001b[38;2;189;183;107mL\u001b[38;2;255;255;255m\u001b[38;2;189;183;107mL\u001b[38;2;255;255;255m\u001b[38;2;128;128;128mM\u001b[38;2;255;255;255m\u001b[38;2;128;128;128mM\u001b[38;2;255;255;255m \u001b[38;2;189;183;107mL\u001b[38;2;255;255;255m\u001b[38;2;128;128;128mM\u001b[38;2;255;255;255m\u001b[38;2;128;128;128mM\u001b[38;2;255;255;255m\u001b[38;2;192;192;192mN\u001b[38;2;255;255;255m \u001b[38;2;128;128;128mM\u001b[38;2;255;255;255m\u001b[38;2;128;128;128mM\u001b[38;2;255;255;255m\u001b[38;2;192;192;192mN\u001b[38;2;255;255;255m\u001b[38;2;192;192;192mN\u001b[38;2;255;255;255m \u001b[38;2;128;128;128mM\u001b[38;2;255;255;255m\u001b[38;2;192;192;192mN\u001b[38;2;255;255;255m\u001b[38;2;192;192;192mN\u001b[38;2;255;255;255m\u001b[38;2;192;192;192mN\u001b[38;2;255;255;255m \u001b[38;2;192;192;192mN\u001b[38;2;255;255;255m\u001b[38;2;192;192;192mN\u001b[38;2;255;255;255m\u001b[38;2;192;192;192mN\u001b[38;2;255;255;255m\u001b[38;2;192;192;192mN\u001b[38;2;255;255;255m \u001b[38;2;192;192;192mN\u001b[38;2;255;255;255m\u001b[38;2;192;192;192mN\u001b[38;2;255;255;255m\u001b[38;2;192;192;192mN\u001b[38;2;255;255;255m\u001b[38;2;192;192;192mN\u001b[38;2;255;255;255m \u001b[38;2;192;192;192mN\u001b[38;2;255;255;255m\u001b[38;2;192;192;192mN\u001b[38;2;255;255;255m\u001b[38;2;192;192;192mN\u001b[38;2;255;255;255m\u001b[38;2;192;192;192mN\u001b[38;2;255;255;255m \u001b[38;2;192;192;192mN\u001b[38;2;255;255;255m\u001b[38;2;192;192;192mN\u001b[38;2;255;255;255m\u001b[38;2;192;192;192mN\u001b[38;2;255;255;255m\u001b[38;2;192;192;192mN\u001b[38;2;255;255;255m \u001b[38;2;192;192;192mN\u001b[38;2;255;255;255m\u001b[38;2;192;192;192mN\u001b[38;2;255;255;255m\u001b[38;2;192;192;192mN\u001b[38;2;255;255;255m\u001b[38;2;192;192;192mN\u001b[38;2;255;255;255m \u001b[38;2;192;192;192mN\u001b[38;2;255;255;255m\u001b[38;2;192;192;192mN\u001b[38;2;255;255;255m\u001b[38;2;192;192;192mN\u001b[38;2;255;255;255m\u001b[38;2;192;192;192mN\u001b[38;2;255;255;255m \u001b[38;2;192;192;192mN\u001b[38;2;255;255;255m\u001b[38;2;192;192;192mN\u001b[38;2;255;255;255m\u001b[38;2;192;192;192mN\u001b[38;2;255;255;255m\u001b[38;2;192;192;192mN\u001b[38;2;255;255;255m \u001b[38;2;192;192;192mN\u001b[38;2;255;255;255m\u001b[38;2;192;192;192mN\u001b[38;2;255;255;255m\u001b[38;2;192;192;192mN\u001b[38;2;255;255;255m\u001b[38;2;192;192;192mN\u001b[38;2;255;255;255m \u001b[38;2;192;192;192mN\u001b[38;2;255;255;255m\u001b[38;2;192;192;192mN\u001b[38;2;255;255;255m\u001b[38;2;192;192;192mN\u001b[38;2;255;255;255m\u001b[38;2;192;192;192mN\u001b[38;2;255;255;255m \u001b[38;2;192;192;192mN\u001b[38;2;255;255;255m\u001b[38;2;192;192;192mN\u001b[38;2;255;255;255m\u001b[38;2;192;192;192mN\u001b[38;2;255;255;255m\u001b[38;2;192;192;192mN\u001b[38;2;255;255;255m \u001b[38;2;192;192;192mN\u001b[38;2;255;255;255m\u001b[38;2;192;192;192mN\u001b[38;2;255;255;255m\u001b[38;2;192;192;192mN\u001b[38;2;255;255;255m\u001b[38;2;192;192;192mN\u001b[38;2;255;255;255m \u001b[38;2;192;192;192mN\u001b[38;2;255;255;255m\u001b[38;2;192;192;192mN\u001b[38;2;255;255;255m\u001b[38;2;192;192;192mN\u001b[38;2;255;255;255m\u001b[38;2;192;192;192mN\u001b[38;2;255;255;255m \u001b[38;2;192;192;192mN\u001b[38;2;255;255;255m\u001b[38;2;192;192;192mN\u001b[38;2;255;255;255m\u001b[38;2;192;192;192mN\u001b[38;2;255;255;255m\u001b[38;2;192;192;192mN\u001b[38;2;255;255;255m \u001b[38;2;192;192;192mN\u001b[38;2;255;255;255m\u001b[38;2;192;192;192mN\u001b[38;2;255;255;255m\u001b[38;2;192;192;192mN\u001b[38;2;255;255;255m\u001b[38;2;192;192;192mN\u001b[38;2;255;255;255m \u001b[38;2;192;192;192mN\u001b[38;2;255;255;255m\u001b[38;2;192;192;192mN\u001b[38;2;255;255;255m\u001b[38;2;192;192;192mN\u001b[38;2;255;255;255m\u001b[38;2;192;192;192mN\u001b[38;2;255;255;255m \u001b[38;2;192;192;192mN\u001b[38;2;255;255;255m\u001b[38;2;192;192;192mN\u001b[38;2;255;255;255m\u001b[38;2;192;192;192mN\u001b[38;2;255;255;255m\u001b[38;2;192;192;192mN\u001b[38;2;255;255;255m \u001b[38;2;192;192;192mN\u001b[38;2;255;255;255m\u001b[38;2;192;192;192mN\u001b[38;2;255;255;255m\u001b[38;2;192;192;192mN\u001b[38;2;255;255;255m\u001b[38;2;189;183;107mL\u001b[38;2;255;255;255m \u001b[38;2;192;192;192mN\u001b[38;2;255;255;255m\u001b[38;2;192;192;192mN\u001b[38;2;255;255;255m\u001b[38;2;189;183;107mL\u001b[38;2;255;255;255m\u001b[38;2;255;69;0mB\u001b[38;2;255;255;255m \u001b[38;2;192;192;192mN\u001b[38;2;255;255;255m\u001b[38;2;189;183;107mL\u001b[38;2;255;255;255m\u001b[38;2;255;69;0mB\u001b[38;2;255;255;255m\u001b[38;2;255;69;0mB\u001b[38;2;255;255;255m \u001b[38;2;189;183;107mL\u001b[38;2;255;255;255m\u001b[38;2;255;69;0mB\u001b[38;2;255;255;255m\u001b[38;2;255;69;0mB\u001b[38;2;255;255;255m\u001b[38;2;255;69;0mB\u001b[38;2;255;255;255m \u001b[38;2;255;69;0mB\u001b[38;2;255;255;255m\u001b[38;2;255;69;0mB\u001b[38;2;255;255;255m\u001b[38;2;255;69;0mB\u001b[38;2;255;255;255m\u001b[38;2;255;255;0mG\u001b[38;2;255;255;255m \u001b[38;2;255;69;0mB\u001b[38;2;255;255;255m\u001b[38;2;255;69;0mB\u001b[38;2;255;255;255m\u001b[38;2;255;255;0mG\u001b[38;2;255;255;255m\u001b[38;2;192;192;192mN\u001b[38;2;255;255;255m \u001b[38;2;255;69;0mB\u001b[38;2;255;255;255m\u001b[38;2;255;255;0mG\u001b[38;2;255;255;255m\u001b[38;2;192;192;192mN\u001b[38;2;255;255;255m\u001b[38;2;192;192;192mN\u001b[38;2;255;255;255m \u001b[38;2;255;255;0mG\u001b[38;2;255;255;255m\u001b[38;2;192;192;192mN\u001b[38;2;255;255;255m\u001b[38;2;192;192;192mN\u001b[38;2;255;255;255m\u001b[38;2;192;192;192mN\u001b[38;2;255;255;255m \u001b[38;2;192;192;192mN\u001b[38;2;255;255;255m\u001b[38;2;192;192;192mN\u001b[38;2;255;255;255m\u001b[38;2;192;192;192mN\u001b[38;2;255;255;255m\u001b[38;2;192;192;192mN\u001b[38;2;255;255;255m \u001b[38;2;192;192;192mN\u001b[38;2;255;255;255m\u001b[38;2;192;192;192mN\u001b[38;2;255;255;255m\u001b[38;2;192;192;192mN\u001b[38;2;255;255;255m\u001b[38;2;192;192;192mN\u001b[38;2;255;255;255m \u001b[38;2;192;192;192mN\u001b[38;2;255;255;255m\u001b[38;2;192;192;192mN\u001b[38;2;255;255;255m\u001b[38;2;192;192;192mN\u001b[38;2;255;255;255m\u001b[38;2;192;192;192mN\u001b[38;2;255;255;255m \u001b[38;2;192;192;192mN\u001b[38;2;255;255;255m\u001b[38;2;192;192;192mN\u001b[38;2;255;255;255m\u001b[38;2;192;192;192mN\u001b[38;2;255;255;255m\u001b[38;2;192;192;192mN\u001b[38;2;255;255;255m \u001b[38;2;192;192;192mN\u001b[38;2;255;255;255m\u001b[38;2;192;192;192mN\u001b[38;2;255;255;255m\u001b[38;2;192;192;192mN\u001b[38;2;255;255;255m\u001b[38;2;192;192;192mN\u001b[38;2;255;255;255m \u001b[38;2;192;192;192mN\u001b[38;2;255;255;255m\u001b[38;2;192;192;192mN\u001b[38;2;255;255;255m\u001b[38;2;192;192;192mN\u001b[38;2;255;255;255m\u001b[38;2;192;192;192mN\u001b[38;2;255;255;255m \u001b[38;2;192;192;192mN\u001b[38;2;255;255;255m\u001b[38;2;192;192;192mN\u001b[38;2;255;255;255m\u001b[38;2;192;192;192mN\u001b[38;2;255;255;255m\u001b[38;2;192;192;192mN\u001b[38;2;255;255;255m\u001b[0;0m\n"
          ]
        }
      ],
      "source": [
        "print(\"* Before k-mer Segmentation\")\n",
        "colored_css=crb.colored_css_str_as_is(head_css)\n",
        "print(\"---------------------\")\n",
        "print(\"* After 4-mer Segmentation\")\n",
        "crb.colored_css_str_as_is(crb.seq2kmer(head_css,4))"
      ]
    },
    {
      "cell_type": "markdown",
      "metadata": {
        "id": "hpTopMvqbtSd"
      },
      "source": [
        "<br>\n",
        "\n",
        "- Now we have sentence-like chromatin state sequences! These *sentences* will be embedded as input data for a natural language processing model like BERT. The figure below illustrates how these sequences are transformed into BERT-compatible embeddings.\n",
        "\n",
        " - <u>Token Embeddings</u>: Each chromatin state k-mer is converted into a vector representation based on a learned embedding. Special tokens `[CLS]` and `[SEP]` are also assigned unique embeddings.\n",
        " - <u>Positional Embeddings</u>: Since BERT does not inherently understand order,  positional embeddings are added to encode sequence information.\n",
        " - <u>Input Embeddings</u>: The final input to BERT is the sum of the token and positional embeddings, ensuring both content and positional information are incorporated into the model.\"\n",
        "\n",
        " <br>\n",
        "\n",
        "<figure>\n",
        "<img src=\"https://github.com/caocao0525/ChromBERT/blob/chrombert-py311-extended/colab/colab_data/embedding.jpg?raw=true\" alt=\"Input Embedding\" width=\"1020\"/>\n",
        "<figcaption>Fig. 2: Input Embedding</figcaption>\n",
        "</figure>\n",
        "\n",
        "<br><br>\n",
        "\n",
        "\n",
        "🤔 Why 4-mer?\n",
        "\n",
        "- You can experiment with different values for *k*-mer segmentation, but choosing the right *k* is crucial. If *k* is too small, the chromatin state sequence becomes too fragmented, making it difficult for **ChromBERT** to recognize meaningful patterns. On the other hand, a larger *k* results in a significantly larger vocabulary size (we'll explore this in more detail later), leading to longer computation times.\n",
        "\n",
        "- In **ChromBERT**, we recommend 4-mer as an optimal setting, balancing pattern recognition and computational efficiency.\n",
        "\n",
        "<br>"
      ]
    },
    {
      "cell_type": "markdown",
      "metadata": {
        "id": "p9NqIG_Qo3Z6"
      },
      "source": [
        "<br>\n",
        "\n",
        "---\n",
        "\n",
        "\n",
        "<br>\n",
        "<a name=\"Run-Your-Own-Test\"></a>\n",
        "\n",
        "## Run Your Own Test\n",
        "\n",
        "You can download the chromatin state annotation BED file for any cell type you want to investigate! All BED files are available here\n",
        "\n",
        "[![Download Data](https://img.shields.io/static/v1.svg?label=Source&message=ROADMAP&color=salmon)](https://egg2.wustl.edu/roadmap/data/byFileType/chromhmmSegmentations/ChmmModels/coreMarks/jointModel/final/)\n",
        "\n",
        "\n",
        "Follow the instructions below to download them or mount your Google Drive directly in this Google Colab session—whichever you prefer🧑‍💻\n",
        "\n",
        "\n",
        "\n",
        "<br>\n",
        "\n",
        "**Steps to Download and Use a Chromatin State Annotation File**\n",
        "\n",
        "1. Visit the ROADMAP database source above and browse for the cell type you want to investigate.\n",
        "\n",
        "2. Download the selected BED file (ends with **stateno.bed.gz**) to your local directory.\n",
        "\n",
        "  >⚠️ Note that the downloaded file is a zipped BED file (.bed.gz) and is not automatically unzipped if you are using the Safari browser. This may result in an incomplete unzip, so make sure to deselect the box labeled 'Open safe files after downloading' in Safari's preferences.\n",
        "\n",
        "\n",
        "3. Upload your BED file to Colab by clicking file icon 📂 on the left.\n",
        "\n",
        "4. Unzip the file in the Terminal. For example, for cell type `E001`, run:\n",
        "```\n",
        "!gunzip /content/E001_15_coreMarks_stateno.bed.gz\n",
        "```\n",
        "5. Now, you can create chromatin state sequences as input data for the cell type you selected! 🪄✨\n"
      ]
    },
    {
      "cell_type": "markdown",
      "metadata": {
        "id": "OXEsKvSFM-OB"
      },
      "source": [
        "<br><br>\n",
        "\n",
        "---\n",
        "\n",
        "# 3. Pretraining Data Preparation"
      ]
    },
    {
      "cell_type": "markdown",
      "metadata": {
        "id": "q7kd_qv350Mk"
      },
      "source": [
        "\n",
        "\n",
        "## Data Preparation\n",
        "\n",
        "During the pretraining stage, **ChromBERT** learns *general* chromatin state patterns from a diverse set of chromatin state sequences. To prepare pretraining data, you can concatenate chromatin state sequences from various cell types. Ideally, you should combine sequences from all available cell types in the ROADMAP dataset to maximize diversity and improve the model's generalization.\n",
        "\n",
        "<br>\n",
        "\n",
        "Pretraining a model on a large dataset is computationally intensive and can take over a week, even with a powerful GPU. Here, you can test a simpler case as a toy example 🧸 by preparing a pretraining dataset from the promoter regions of a single cell type.\n",
        "\n",
        "💡 If you choose to bypass this initial testing phase and dive straight into fine-tuning, our pretrained model parameters are available for use. These parameters have been trained on whole genome regions or promoter regions from 127 cell types in ROADMAP. You can proceed directly to the fine-tuning section without preparing a separate pretraining dataset: [![DOI](https://zenodo.org/badge/DOI/10.5281/zenodo.10907412.svg)](https://doi.org/10.5281/zenodo.10907412)\n"
      ]
    },
    {
      "cell_type": "markdown",
      "metadata": {
        "id": "vqlx_iT6MiG5"
      },
      "source": [
        "<br>\n",
        "\n",
        "## Promoter regions\n",
        "\n",
        "<figure>\n",
        "<img src=\"https://github.com/caocao0525/ChromBERT/blob/chrombert-py311-extended/colab/colab_data/promoter.png?raw=true\" alt=\"Input Embedding\" width=\"480\"/>\n",
        "<figcaption>Fig. 3: Promoter region</figcaption>\n",
        "</figure>\n",
        "\n",
        "<br>\n",
        "\n",
        "\n",
        "**Promoter regions** are key regulatory sequences located near the **Transcription Start Site** (TSS), where transcription is initiated. As shown in the figure, promoters are typically found upstream of the transcription unit and play a crucial role in recruiting transcription factors and RNA polymerase to control gene expression.\n",
        "\n",
        "\n",
        "<!-- <figure>\n",
        "<img src=\"https://drive.google.com/uc?export=view&id=1P3Tjq-FtATTEY2e9DZfHYxKmEa3PiGxr\" alt=\"Input Embedding\" width=\"764\"/>\n",
        "<figcaption>Fig.8 Illustration of transcription start site and other gene elements. (image from <a href=\"https://geneticeducation.co.in/what-is-the-transcription-start-site-how-to-find-it/\">Genetic Education</a>)</figcaption>\n",
        "</figure>\n",
        "\n",
        "<br> -->\n",
        "\n",
        "The upstream region influences transcriptional activation, while the downstream region may also contain regulatory elements.\n",
        "\n",
        "In this tutorial, we define promoter regions by default as **2 kb upstream and 4 kb downstream from the TSS**, but you can adjust these boundaries based on your own criteria to suit specific research needs.🧑‍💻\n",
        "\n",
        "\n",
        "\n"
      ]
    },
    {
      "cell_type": "markdown",
      "metadata": {
        "id": "gtCpYhyUpTd2"
      },
      "source": [
        "First of all, download the `RefSeq.WholeGene.bed` file, which is essential to extract the promoter regions. This BED-format file contains `RefSeq` gene annotations, including genomic coordinates, transcript IDs, TSS positions, and exon structures. It enables the identification of promoter regions by defining upstream sequences relative to the TSS, making it useful for transcriptional regulation analysis.\n",
        "\n",
        "<br>"
      ]
    },
    {
      "cell_type": "code",
      "execution_count": 10,
      "metadata": {
        "colab": {
          "base_uri": "https://localhost:8080/"
        },
        "collapsed": true,
        "id": "33Vr3eYIoK2f",
        "outputId": "1854992d-e514-4556-81e6-aa0cb0b13dcb"
      },
      "outputs": [
        {
          "output_type": "stream",
          "name": "stdout",
          "text": [
            "--2025-05-16 08:48:33--  https://raw.githubusercontent.com/caocao0525/ChromBERT/chrombert-py311-extended/colab/colab_data/test_files/RefSeq.WholeGene.bed\n",
            "Resolving raw.githubusercontent.com (raw.githubusercontent.com)... 185.199.108.133, 185.199.111.133, 185.199.109.133, ...\n",
            "Connecting to raw.githubusercontent.com (raw.githubusercontent.com)|185.199.108.133|:443... connected.\n",
            "HTTP request sent, awaiting response... 200 OK\n",
            "Length: 8202955 (7.8M) [text/plain]\n",
            "Saving to: ‘RefSeq.WholeGene.bed’\n",
            "\n",
            "RefSeq.WholeGene.be 100%[===================>]   7.82M  --.-KB/s    in 0.1s    \n",
            "\n",
            "2025-05-16 08:48:34 (82.3 MB/s) - ‘RefSeq.WholeGene.bed’ saved [8202955/8202955]\n",
            "\n"
          ]
        }
      ],
      "source": [
        "# Download 'Ref.WholeGene.bed' file\n",
        "!wget https://raw.githubusercontent.com/caocao0525/ChromBERT/chrombert-py311-extended/colab/colab_data/test_files/RefSeq.WholeGene.bed"
      ]
    },
    {
      "cell_type": "markdown",
      "metadata": {
        "id": "DtsYSRorsWV9"
      },
      "source": [
        "<br>\n",
        "\n",
        "Then, download the cell types you want to include in your pretraining dataset. You can refer to the steps you followed in the \"Run Your Own Test\" section ([Jump to Run Your Own Test](#Run-Your-Own-Test)) for guidance. For your convenience, here is the link to the BED file for all cell types in ROADMAP: [![Download Data](https://img.shields.io/static/v1.svg?label=Source&message=ROADMAP&color=salmon)](https://egg2.wustl.edu/roadmap/data/byFileType/chromhmmSegmentations/ChmmModels/coreMarks/jointModel/final/)\n",
        "\n",
        "<br>"
      ]
    },
    {
      "cell_type": "code",
      "execution_count": 11,
      "metadata": {
        "id": "cGLBgy-zsTWz"
      },
      "outputs": [],
      "source": [
        "# # Download, unzip, and upload the cell type of your interest to Colab\n",
        "# # Change the file name and cell ID according to the cell type you want to test\n",
        "\n",
        "#!wget https://path/to/your/cell/type"
      ]
    },
    {
      "cell_type": "code",
      "execution_count": 12,
      "metadata": {
        "id": "mTYA3tpM2Rh6"
      },
      "outputs": [],
      "source": [
        "# Create a DataFrame for the chromatin state annotation data of your cell type of interest\n",
        "\n",
        "df=crb.bed2df_expanded('/content/E003_15_coreMarks_stateno.bed') # Change the file name according to your cell ID"
      ]
    },
    {
      "cell_type": "markdown",
      "metadata": {
        "id": "cC2tKUuazj4m"
      },
      "source": [
        "<br>\n",
        "\n",
        "Now, let's prepare a pretraining dataset using **promoter regions**. The process is similar to the one-cell type approach, but to make it easier, we provide simple functions to streamline the workflow! (Of course, you can modify or use your own code if you prefer!✨)\n",
        "\n",
        "<br>\n",
        "\n",
        "The function `save_prom_by_loc_per_cell` extracts chromatin state sequences from promoter regions based on your specified upstream and downstream distances from the TSS."
      ]
    },
    {
      "cell_type": "code",
      "execution_count": 13,
      "metadata": {
        "colab": {
          "base_uri": "https://localhost:8080/"
        },
        "id": "OcwY2UnI0l6K",
        "outputId": "7e948a9e-a7d7-4477-b7fd-971f7e74e542"
      },
      "outputs": [
        {
          "output_type": "stream",
          "name": "stdout",
          "text": [
            "Extracting the gene file ...\n",
            "Done!\n"
          ]
        }
      ],
      "source": [
        "# Locate the 'RefSeq.WholeGene.bed' file on Colab\n",
        "whole_gene_file='/content/RefSeq.WholeGene.bed'\n",
        "\n",
        "import importlib\n",
        "importlib.reload(crb)\n",
        "# (1) Extract the chromatin state data on Promoter regions\n",
        "# Change 'up_num' and 'down_num' to adjust the upstream and downstream regions and define your own promoter regions\n",
        "# Don't change \"unit=200\" as it represents the default base pair length for chromatin annotation, which remains constant for this test.\n",
        "prom_extracted=crb.save_prom_by_loc_per_cell(whole_gene_file, df, up_num=2000, down_num=4000, unit=200)\n"
      ]
    },
    {
      "cell_type": "markdown",
      "metadata": {
        "id": "sN13CjJhABRN"
      },
      "source": [
        "<br>\n",
        "\n",
        "Examine the chromatin state sequences in the promoter regions 🔎"
      ]
    },
    {
      "cell_type": "code",
      "execution_count": 14,
      "metadata": {
        "colab": {
          "base_uri": "https://localhost:8080/"
        },
        "id": "RCs5kmQg_IdA",
        "outputId": "406d5fa1-1d02-4ccb-a6f7-1bde33fdaa85"
      },
      "outputs": [
        {
          "output_type": "stream",
          "name": "stdout",
          "text": [
            "\u001b[1m\u001b[38;2;192;192;192mN\u001b[38;2;255;255;255m\u001b[38;2;192;192;192mN\u001b[38;2;255;255;255m\u001b[38;2;192;192;192mN\u001b[38;2;255;255;255m\u001b[38;2;192;192;192mN\u001b[38;2;255;255;255m\u001b[38;2;192;192;192mN\u001b[38;2;255;255;255m\u001b[38;2;192;192;192mN\u001b[38;2;255;255;255m\u001b[38;2;192;192;192mN\u001b[38;2;255;255;255m\u001b[38;2;192;192;192mN\u001b[38;2;255;255;255m\u001b[38;2;192;192;192mN\u001b[38;2;255;255;255m\u001b[38;2;192;192;192mN\u001b[38;2;255;255;255m\u001b[38;2;192;192;192mN\u001b[38;2;255;255;255m\u001b[38;2;192;192;192mN\u001b[38;2;255;255;255m\u001b[38;2;189;183;107mL\u001b[38;2;255;255;255m\u001b[38;2;255;69;0mB\u001b[38;2;255;255;255m\u001b[38;2;255;69;0mB\u001b[38;2;255;255;255m\u001b[38;2;255;69;0mB\u001b[38;2;255;255;255m\u001b[38;2;255;255;0mG\u001b[38;2;255;255;255m\u001b[38;2;192;192;192mN\u001b[38;2;255;255;255m\u001b[38;2;192;192;192mN\u001b[38;2;255;255;255m\u001b[38;2;192;192;192mN\u001b[38;2;255;255;255m\u001b[38;2;192;192;192mN\u001b[38;2;255;255;255m\u001b[38;2;192;192;192mN\u001b[38;2;255;255;255m\u001b[38;2;192;192;192mN\u001b[38;2;255;255;255m\u001b[38;2;192;192;192mN\u001b[38;2;255;255;255m\u001b[38;2;192;192;192mN\u001b[38;2;255;255;255m\u001b[38;2;192;192;192mN\u001b[38;2;255;255;255m\u001b[38;2;192;192;192mN\u001b[38;2;255;255;255m\u001b[38;2;192;192;192mN\u001b[38;2;255;255;255m\u001b[38;2;192;192;192mN\u001b[38;2;255;255;255m\u001b[38;2;192;192;192mN\u001b[38;2;255;255;255m\u001b[0;0m\n",
            "\u001b[1m\u001b[38;2;189;183;107mL\u001b[38;2;255;255;255m\u001b[38;2;189;183;107mL\u001b[38;2;255;255;255m\u001b[38;2;189;183;107mL\u001b[38;2;255;255;255m\u001b[38;2;189;183;107mL\u001b[38;2;255;255;255m\u001b[38;2;128;128;128mM\u001b[38;2;255;255;255m\u001b[38;2;128;128;128mM\u001b[38;2;255;255;255m\u001b[38;2;128;128;128mM\u001b[38;2;255;255;255m\u001b[38;2;205;92;92mJ\u001b[38;2;255;255;255m\u001b[38;2;205;92;92mJ\u001b[38;2;255;255;255m\u001b[38;2;205;92;92mJ\u001b[38;2;255;255;255m\u001b[38;2;205;92;92mJ\u001b[38;2;255;255;255m\u001b[38;2;233;150;122mK\u001b[38;2;255;255;255m\u001b[38;2;233;150;122mK\u001b[38;2;255;255;255m\u001b[38;2;233;150;122mK\u001b[38;2;255;255;255m\u001b[38;2;233;150;122mK\u001b[38;2;255;255;255m\u001b[38;2;205;92;92mJ\u001b[38;2;255;255;255m\u001b[38;2;205;92;92mJ\u001b[38;2;255;255;255m\u001b[38;2;233;150;122mK\u001b[38;2;255;255;255m\u001b[38;2;233;150;122mK\u001b[38;2;255;255;255m\u001b[38;2;205;92;92mJ\u001b[38;2;255;255;255m\u001b[38;2;233;150;122mK\u001b[38;2;255;255;255m\u001b[38;2;205;92;92mJ\u001b[38;2;255;255;255m\u001b[38;2;205;92;92mJ\u001b[38;2;255;255;255m\u001b[38;2;205;92;92mJ\u001b[38;2;255;255;255m\u001b[38;2;205;92;92mJ\u001b[38;2;255;255;255m\u001b[38;2;205;92;92mJ\u001b[38;2;255;255;255m\u001b[38;2;128;128;128mM\u001b[38;2;255;255;255m\u001b[38;2;128;128;128mM\u001b[38;2;255;255;255m\u001b[38;2;128;128;128mM\u001b[38;2;255;255;255m\u001b[38;2;128;128;128mM\u001b[38;2;255;255;255m\u001b[0;0m\n",
            "\u001b[1m\u001b[38;2;192;192;192mN\u001b[38;2;255;255;255m\u001b[38;2;192;192;192mN\u001b[38;2;255;255;255m\u001b[38;2;192;192;192mN\u001b[38;2;255;255;255m\u001b[38;2;192;192;192mN\u001b[38;2;255;255;255m\u001b[38;2;192;192;192mN\u001b[38;2;255;255;255m\u001b[38;2;192;192;192mN\u001b[38;2;255;255;255m\u001b[38;2;192;192;192mN\u001b[38;2;255;255;255m\u001b[38;2;255;255;0mG\u001b[38;2;255;255;255m\u001b[38;2;255;69;0mB\u001b[38;2;255;255;255m\u001b[38;2;255;0;0mA\u001b[38;2;255;255;255m\u001b[38;2;255;0;0mA\u001b[38;2;255;255;255m\u001b[38;2;255;69;0mB\u001b[38;2;255;255;255m\u001b[38;2;255;69;0mB\u001b[38;2;255;255;255m\u001b[38;2;255;69;0mB\u001b[38;2;255;255;255m\u001b[38;2;255;69;0mB\u001b[38;2;255;255;255m\u001b[38;2;255;255;0mG\u001b[38;2;255;255;255m\u001b[38;2;255;255;0mG\u001b[38;2;255;255;255m\u001b[38;2;255;255;0mG\u001b[38;2;255;255;255m\u001b[38;2;255;255;0mG\u001b[38;2;255;255;255m\u001b[38;2;255;255;0mG\u001b[38;2;255;255;255m\u001b[38;2;255;255;0mG\u001b[38;2;255;255;255m\u001b[38;2;0;100;0mE\u001b[38;2;255;255;255m\u001b[38;2;0;100;0mE\u001b[38;2;255;255;255m\u001b[38;2;102;205;170mH\u001b[38;2;255;255;255m\u001b[38;2;102;205;170mH\u001b[38;2;255;255;255m\u001b[38;2;0;100;0mE\u001b[38;2;255;255;255m\u001b[38;2;0;100;0mE\u001b[38;2;255;255;255m\u001b[38;2;0;100;0mE\u001b[38;2;255;255;255m\u001b[38;2;0;100;0mE\u001b[38;2;255;255;255m\u001b[38;2;0;100;0mE\u001b[38;2;255;255;255m\u001b[0;0m\n",
            "\u001b[1m\u001b[38;2;0;100;0mE\u001b[38;2;255;255;255m\u001b[38;2;0;100;0mE\u001b[38;2;255;255;255m\u001b[38;2;0;100;0mE\u001b[38;2;255;255;255m\u001b[38;2;0;100;0mE\u001b[38;2;255;255;255m\u001b[38;2;0;100;0mE\u001b[38;2;255;255;255m\u001b[38;2;255;255;0mG\u001b[38;2;255;255;255m\u001b[38;2;255;0;0mA\u001b[38;2;255;255;255m\u001b[38;2;255;0;0mA\u001b[38;2;255;255;255m\u001b[38;2;255;0;0mA\u001b[38;2;255;255;255m\u001b[38;2;255;0;0mA\u001b[38;2;255;255;255m\u001b[38;2;255;0;0mA\u001b[38;2;255;255;255m\u001b[38;2;255;0;0mA\u001b[38;2;255;255;255m\u001b[38;2;255;0;0mA\u001b[38;2;255;255;255m\u001b[38;2;255;0;0mA\u001b[38;2;255;255;255m\u001b[38;2;255;0;0mA\u001b[38;2;255;255;255m\u001b[38;2;255;69;0mB\u001b[38;2;255;255;255m\u001b[38;2;255;69;0mB\u001b[38;2;255;255;255m\u001b[38;2;255;255;0mG\u001b[38;2;255;255;255m\u001b[38;2;255;255;0mG\u001b[38;2;255;255;255m\u001b[38;2;255;255;0mG\u001b[38;2;255;255;255m\u001b[38;2;255;255;0mG\u001b[38;2;255;255;255m\u001b[38;2;255;255;0mG\u001b[38;2;255;255;255m\u001b[38;2;194;225;5mF\u001b[38;2;255;255;255m\u001b[38;2;194;225;5mF\u001b[38;2;255;255;255m\u001b[38;2;194;225;5mF\u001b[38;2;255;255;255m\u001b[38;2;194;225;5mF\u001b[38;2;255;255;255m\u001b[38;2;194;225;5mF\u001b[38;2;255;255;255m\u001b[38;2;194;225;5mF\u001b[38;2;255;255;255m\u001b[38;2;194;225;5mF\u001b[38;2;255;255;255m\u001b[38;2;194;225;5mF\u001b[38;2;255;255;255m\u001b[0;0m\n",
            "\u001b[1m\u001b[38;2;233;150;122mK\u001b[38;2;255;255;255m\u001b[38;2;189;183;107mL\u001b[38;2;255;255;255m\u001b[38;2;128;128;128mM\u001b[38;2;255;255;255m\u001b[38;2;128;128;128mM\u001b[38;2;255;255;255m\u001b[38;2;192;192;192mN\u001b[38;2;255;255;255m\u001b[38;2;192;192;192mN\u001b[38;2;255;255;255m\u001b[38;2;192;192;192mN\u001b[38;2;255;255;255m\u001b[38;2;192;192;192mN\u001b[38;2;255;255;255m\u001b[38;2;192;192;192mN\u001b[38;2;255;255;255m\u001b[38;2;192;192;192mN\u001b[38;2;255;255;255m\u001b[38;2;192;192;192mN\u001b[38;2;255;255;255m\u001b[38;2;192;192;192mN\u001b[38;2;255;255;255m\u001b[38;2;192;192;192mN\u001b[38;2;255;255;255m\u001b[38;2;192;192;192mN\u001b[38;2;255;255;255m\u001b[38;2;192;192;192mN\u001b[38;2;255;255;255m\u001b[38;2;192;192;192mN\u001b[38;2;255;255;255m\u001b[38;2;192;192;192mN\u001b[38;2;255;255;255m\u001b[38;2;192;192;192mN\u001b[38;2;255;255;255m\u001b[38;2;192;192;192mN\u001b[38;2;255;255;255m\u001b[38;2;192;192;192mN\u001b[38;2;255;255;255m\u001b[38;2;192;192;192mN\u001b[38;2;255;255;255m\u001b[38;2;192;192;192mN\u001b[38;2;255;255;255m\u001b[38;2;192;192;192mN\u001b[38;2;255;255;255m\u001b[38;2;192;192;192mN\u001b[38;2;255;255;255m\u001b[38;2;192;192;192mN\u001b[38;2;255;255;255m\u001b[38;2;192;192;192mN\u001b[38;2;255;255;255m\u001b[38;2;192;192;192mN\u001b[38;2;255;255;255m\u001b[38;2;192;192;192mN\u001b[38;2;255;255;255m\u001b[38;2;192;192;192mN\u001b[38;2;255;255;255m\u001b[38;2;192;192;192mN\u001b[38;2;255;255;255m\u001b[0;0m\n",
            "\u001b[1m\u001b[38;2;255;69;0mB\u001b[38;2;255;255;255m\u001b[38;2;255;69;0mB\u001b[38;2;255;255;255m\u001b[38;2;255;69;0mB\u001b[38;2;255;255;255m\u001b[38;2;255;69;0mB\u001b[38;2;255;255;255m\u001b[38;2;255;255;0mG\u001b[38;2;255;255;255m\u001b[38;2;255;255;0mG\u001b[38;2;255;255;255m\u001b[38;2;255;255;0mG\u001b[38;2;255;255;255m\u001b[38;2;0;100;0mE\u001b[38;2;255;255;255m\u001b[38;2;0;100;0mE\u001b[38;2;255;255;255m\u001b[38;2;0;100;0mE\u001b[38;2;255;255;255m\u001b[38;2;0;100;0mE\u001b[38;2;255;255;255m\u001b[38;2;0;100;0mE\u001b[38;2;255;255;255m\u001b[38;2;0;100;0mE\u001b[38;2;255;255;255m\u001b[38;2;0;100;0mE\u001b[38;2;255;255;255m\u001b[38;2;0;100;0mE\u001b[38;2;255;255;255m\u001b[38;2;0;100;0mE\u001b[38;2;255;255;255m\u001b[38;2;0;100;0mE\u001b[38;2;255;255;255m\u001b[38;2;0;100;0mE\u001b[38;2;255;255;255m\u001b[38;2;0;100;0mE\u001b[38;2;255;255;255m\u001b[38;2;0;100;0mE\u001b[38;2;255;255;255m\u001b[38;2;0;100;0mE\u001b[38;2;255;255;255m\u001b[38;2;0;100;0mE\u001b[38;2;255;255;255m\u001b[38;2;0;100;0mE\u001b[38;2;255;255;255m\u001b[38;2;0;100;0mE\u001b[38;2;255;255;255m\u001b[38;2;0;100;0mE\u001b[38;2;255;255;255m\u001b[38;2;0;100;0mE\u001b[38;2;255;255;255m\u001b[38;2;0;100;0mE\u001b[38;2;255;255;255m\u001b[38;2;0;100;0mE\u001b[38;2;255;255;255m\u001b[38;2;0;100;0mE\u001b[38;2;255;255;255m\u001b[38;2;0;100;0mE\u001b[38;2;255;255;255m\u001b[0;0m\n",
            "\u001b[1m\u001b[38;2;0;100;0mE\u001b[38;2;255;255;255m\u001b[38;2;0;100;0mE\u001b[38;2;255;255;255m\u001b[38;2;0;100;0mE\u001b[38;2;255;255;255m\u001b[38;2;0;100;0mE\u001b[38;2;255;255;255m\u001b[38;2;255;255;0mG\u001b[38;2;255;255;255m\u001b[38;2;255;255;0mG\u001b[38;2;255;255;255m\u001b[38;2;255;255;0mG\u001b[38;2;255;255;255m\u001b[38;2;189;183;107mL\u001b[38;2;255;255;255m\u001b[38;2;233;150;122mK\u001b[38;2;255;255;255m\u001b[38;2;233;150;122mK\u001b[38;2;255;255;255m\u001b[38;2;205;92;92mJ\u001b[38;2;255;255;255m\u001b[38;2;205;92;92mJ\u001b[38;2;255;255;255m\u001b[38;2;233;150;122mK\u001b[38;2;255;255;255m\u001b[38;2;128;128;128mM\u001b[38;2;255;255;255m\u001b[38;2;128;128;128mM\u001b[38;2;255;255;255m\u001b[38;2;128;128;128mM\u001b[38;2;255;255;255m\u001b[38;2;128;128;128mM\u001b[38;2;255;255;255m\u001b[38;2;192;192;192mN\u001b[38;2;255;255;255m\u001b[38;2;192;192;192mN\u001b[38;2;255;255;255m\u001b[38;2;192;192;192mN\u001b[38;2;255;255;255m\u001b[38;2;192;192;192mN\u001b[38;2;255;255;255m\u001b[38;2;192;192;192mN\u001b[38;2;255;255;255m\u001b[38;2;192;192;192mN\u001b[38;2;255;255;255m\u001b[38;2;192;192;192mN\u001b[38;2;255;255;255m\u001b[38;2;192;192;192mN\u001b[38;2;255;255;255m\u001b[38;2;192;192;192mN\u001b[38;2;255;255;255m\u001b[38;2;192;192;192mN\u001b[38;2;255;255;255m\u001b[38;2;192;192;192mN\u001b[38;2;255;255;255m\u001b[38;2;255;255;0mG\u001b[38;2;255;255;255m\u001b[38;2;255;255;0mG\u001b[38;2;255;255;255m\u001b[0;0m\n",
            "\u001b[1m\u001b[38;2;189;183;107mL\u001b[38;2;255;255;255m\u001b[38;2;189;183;107mL\u001b[38;2;255;255;255m\u001b[38;2;255;255;0mG\u001b[38;2;255;255;255m\u001b[38;2;255;255;0mG\u001b[38;2;255;255;255m\u001b[38;2;255;255;0mG\u001b[38;2;255;255;255m\u001b[38;2;255;255;0mG\u001b[38;2;255;255;255m\u001b[38;2;255;255;0mG\u001b[38;2;255;255;255m\u001b[38;2;0;100;0mE\u001b[38;2;255;255;255m\u001b[38;2;0;100;0mE\u001b[38;2;255;255;255m\u001b[38;2;0;100;0mE\u001b[38;2;255;255;255m\u001b[38;2;0;100;0mE\u001b[38;2;255;255;255m\u001b[38;2;0;100;0mE\u001b[38;2;255;255;255m\u001b[38;2;0;100;0mE\u001b[38;2;255;255;255m\u001b[38;2;0;100;0mE\u001b[38;2;255;255;255m\u001b[38;2;0;100;0mE\u001b[38;2;255;255;255m\u001b[38;2;0;100;0mE\u001b[38;2;255;255;255m\u001b[38;2;0;100;0mE\u001b[38;2;255;255;255m\u001b[38;2;0;100;0mE\u001b[38;2;255;255;255m\u001b[38;2;0;100;0mE\u001b[38;2;255;255;255m\u001b[38;2;0;100;0mE\u001b[38;2;255;255;255m\u001b[38;2;0;100;0mE\u001b[38;2;255;255;255m\u001b[38;2;0;100;0mE\u001b[38;2;255;255;255m\u001b[38;2;0;100;0mE\u001b[38;2;255;255;255m\u001b[38;2;0;100;0mE\u001b[38;2;255;255;255m\u001b[38;2;255;255;0mG\u001b[38;2;255;255;255m\u001b[38;2;255;255;0mG\u001b[38;2;255;255;255m\u001b[38;2;255;255;0mG\u001b[38;2;255;255;255m\u001b[38;2;255;255;0mG\u001b[38;2;255;255;255m\u001b[38;2;255;255;0mG\u001b[38;2;255;255;255m\u001b[38;2;255;255;0mG\u001b[38;2;255;255;255m\u001b[0;0m\n",
            "\u001b[1m\u001b[38;2;255;255;0mG\u001b[38;2;255;255;255m\u001b[38;2;255;255;0mG\u001b[38;2;255;255;255m\u001b[38;2;255;255;0mG\u001b[38;2;255;255;255m\u001b[38;2;0;100;0mE\u001b[38;2;255;255;255m\u001b[38;2;0;100;0mE\u001b[38;2;255;255;255m\u001b[38;2;0;100;0mE\u001b[38;2;255;255;255m\u001b[38;2;0;100;0mE\u001b[38;2;255;255;255m\u001b[38;2;0;100;0mE\u001b[38;2;255;255;255m\u001b[38;2;0;100;0mE\u001b[38;2;255;255;255m\u001b[38;2;0;100;0mE\u001b[38;2;255;255;255m\u001b[38;2;0;100;0mE\u001b[38;2;255;255;255m\u001b[38;2;0;100;0mE\u001b[38;2;255;255;255m\u001b[38;2;0;100;0mE\u001b[38;2;255;255;255m\u001b[38;2;0;100;0mE\u001b[38;2;255;255;255m\u001b[38;2;0;100;0mE\u001b[38;2;255;255;255m\u001b[38;2;0;100;0mE\u001b[38;2;255;255;255m\u001b[38;2;0;100;0mE\u001b[38;2;255;255;255m\u001b[38;2;0;100;0mE\u001b[38;2;255;255;255m\u001b[38;2;0;100;0mE\u001b[38;2;255;255;255m\u001b[38;2;0;100;0mE\u001b[38;2;255;255;255m\u001b[38;2;255;255;0mG\u001b[38;2;255;255;255m\u001b[38;2;255;255;0mG\u001b[38;2;255;255;255m\u001b[38;2;255;255;0mG\u001b[38;2;255;255;255m\u001b[38;2;255;255;0mG\u001b[38;2;255;255;255m\u001b[38;2;255;255;0mG\u001b[38;2;255;255;255m\u001b[38;2;255;255;0mG\u001b[38;2;255;255;255m\u001b[38;2;0;100;0mE\u001b[38;2;255;255;255m\u001b[38;2;0;100;0mE\u001b[38;2;255;255;255m\u001b[38;2;0;100;0mE\u001b[38;2;255;255;255m\u001b[38;2;0;100;0mE\u001b[38;2;255;255;255m\u001b[0;0m\n",
            "\u001b[1m\u001b[38;2;0;100;0mE\u001b[38;2;255;255;255m\u001b[38;2;0;100;0mE\u001b[38;2;255;255;255m\u001b[38;2;0;100;0mE\u001b[38;2;255;255;255m\u001b[38;2;0;100;0mE\u001b[38;2;255;255;255m\u001b[38;2;0;100;0mE\u001b[38;2;255;255;255m\u001b[38;2;0;100;0mE\u001b[38;2;255;255;255m\u001b[38;2;0;100;0mE\u001b[38;2;255;255;255m\u001b[38;2;0;100;0mE\u001b[38;2;255;255;255m\u001b[38;2;0;100;0mE\u001b[38;2;255;255;255m\u001b[38;2;0;100;0mE\u001b[38;2;255;255;255m\u001b[38;2;0;100;0mE\u001b[38;2;255;255;255m\u001b[38;2;0;100;0mE\u001b[38;2;255;255;255m\u001b[38;2;0;100;0mE\u001b[38;2;255;255;255m\u001b[38;2;0;100;0mE\u001b[38;2;255;255;255m\u001b[38;2;255;255;0mG\u001b[38;2;255;255;255m\u001b[38;2;255;255;0mG\u001b[38;2;255;255;255m\u001b[38;2;255;255;0mG\u001b[38;2;255;255;255m\u001b[38;2;255;255;0mG\u001b[38;2;255;255;255m\u001b[38;2;255;255;0mG\u001b[38;2;255;255;255m\u001b[38;2;255;255;0mG\u001b[38;2;255;255;255m\u001b[38;2;0;100;0mE\u001b[38;2;255;255;255m\u001b[38;2;0;100;0mE\u001b[38;2;255;255;255m\u001b[38;2;0;100;0mE\u001b[38;2;255;255;255m\u001b[38;2;0;100;0mE\u001b[38;2;255;255;255m\u001b[38;2;0;100;0mE\u001b[38;2;255;255;255m\u001b[38;2;0;100;0mE\u001b[38;2;255;255;255m\u001b[38;2;0;100;0mE\u001b[38;2;255;255;255m\u001b[38;2;0;100;0mE\u001b[38;2;255;255;255m\u001b[38;2;0;100;0mE\u001b[38;2;255;255;255m\u001b[38;2;0;100;0mE\u001b[38;2;255;255;255m\u001b[0;0m\n",
            "\u001b[1m\u001b[38;2;0;100;0mE\u001b[38;2;255;255;255m\u001b[38;2;0;100;0mE\u001b[38;2;255;255;255m\u001b[38;2;0;100;0mE\u001b[38;2;255;255;255m\u001b[38;2;0;100;0mE\u001b[38;2;255;255;255m\u001b[38;2;0;100;0mE\u001b[38;2;255;255;255m\u001b[38;2;0;100;0mE\u001b[38;2;255;255;255m\u001b[38;2;0;100;0mE\u001b[38;2;255;255;255m\u001b[38;2;255;255;0mG\u001b[38;2;255;255;255m\u001b[38;2;255;255;0mG\u001b[38;2;255;255;255m\u001b[38;2;255;69;0mB\u001b[38;2;255;255;255m\u001b[38;2;255;69;0mB\u001b[38;2;255;255;255m\u001b[38;2;255;69;0mB\u001b[38;2;255;255;255m\u001b[38;2;255;255;0mG\u001b[38;2;255;255;255m\u001b[38;2;255;255;0mG\u001b[38;2;255;255;255m\u001b[38;2;192;192;192mN\u001b[38;2;255;255;255m\u001b[38;2;192;192;192mN\u001b[38;2;255;255;255m\u001b[38;2;192;192;192mN\u001b[38;2;255;255;255m\u001b[38;2;192;192;192mN\u001b[38;2;255;255;255m\u001b[38;2;189;183;107mL\u001b[38;2;255;255;255m\u001b[38;2;189;183;107mL\u001b[38;2;255;255;255m\u001b[38;2;255;255;0mG\u001b[38;2;255;255;255m\u001b[38;2;255;255;0mG\u001b[38;2;255;255;255m\u001b[38;2;255;255;0mG\u001b[38;2;255;255;255m\u001b[38;2;255;255;0mG\u001b[38;2;255;255;255m\u001b[38;2;255;255;0mG\u001b[38;2;255;255;255m\u001b[38;2;255;255;0mG\u001b[38;2;255;255;255m\u001b[38;2;255;255;0mG\u001b[38;2;255;255;255m\u001b[38;2;255;255;0mG\u001b[38;2;255;255;255m\u001b[38;2;255;255;0mG\u001b[38;2;255;255;255m\u001b[38;2;255;255;0mG\u001b[38;2;255;255;255m\u001b[0;0m\n",
            "\u001b[1m\u001b[38;2;205;92;92mJ\u001b[38;2;255;255;255m\u001b[38;2;205;92;92mJ\u001b[38;2;255;255;255m\u001b[38;2;192;192;192mN\u001b[38;2;255;255;255m\u001b[38;2;192;192;192mN\u001b[38;2;255;255;255m\u001b[38;2;192;192;192mN\u001b[38;2;255;255;255m\u001b[38;2;192;192;192mN\u001b[38;2;255;255;255m\u001b[38;2;192;192;192mN\u001b[38;2;255;255;255m\u001b[38;2;192;192;192mN\u001b[38;2;255;255;255m\u001b[38;2;192;192;192mN\u001b[38;2;255;255;255m\u001b[38;2;192;192;192mN\u001b[38;2;255;255;255m\u001b[38;2;192;192;192mN\u001b[38;2;255;255;255m\u001b[38;2;192;192;192mN\u001b[38;2;255;255;255m\u001b[38;2;192;192;192mN\u001b[38;2;255;255;255m\u001b[38;2;192;192;192mN\u001b[38;2;255;255;255m\u001b[38;2;192;192;192mN\u001b[38;2;255;255;255m\u001b[38;2;192;192;192mN\u001b[38;2;255;255;255m\u001b[38;2;192;192;192mN\u001b[38;2;255;255;255m\u001b[38;2;128;128;128mM\u001b[38;2;255;255;255m\u001b[38;2;128;128;128mM\u001b[38;2;255;255;255m\u001b[38;2;128;128;128mM\u001b[38;2;255;255;255m\u001b[38;2;128;128;128mM\u001b[38;2;255;255;255m\u001b[38;2;128;128;128mM\u001b[38;2;255;255;255m\u001b[38;2;189;183;107mL\u001b[38;2;255;255;255m\u001b[38;2;233;150;122mK\u001b[38;2;255;255;255m\u001b[38;2;233;150;122mK\u001b[38;2;255;255;255m\u001b[38;2;233;150;122mK\u001b[38;2;255;255;255m\u001b[38;2;233;150;122mK\u001b[38;2;255;255;255m\u001b[38;2;189;183;107mL\u001b[38;2;255;255;255m\u001b[38;2;189;183;107mL\u001b[38;2;255;255;255m\u001b[38;2;0;100;0mE\u001b[38;2;255;255;255m\u001b[0;0m\n",
            "\u001b[1m\u001b[38;2;0;100;0mE\u001b[38;2;255;255;255m\u001b[38;2;0;100;0mE\u001b[38;2;255;255;255m\u001b[38;2;0;100;0mE\u001b[38;2;255;255;255m\u001b[38;2;0;100;0mE\u001b[38;2;255;255;255m\u001b[38;2;0;100;0mE\u001b[38;2;255;255;255m\u001b[38;2;0;100;0mE\u001b[38;2;255;255;255m\u001b[38;2;0;100;0mE\u001b[38;2;255;255;255m\u001b[38;2;0;100;0mE\u001b[38;2;255;255;255m\u001b[38;2;0;100;0mE\u001b[38;2;255;255;255m\u001b[38;2;0;100;0mE\u001b[38;2;255;255;255m\u001b[38;2;0;100;0mE\u001b[38;2;255;255;255m\u001b[38;2;0;100;0mE\u001b[38;2;255;255;255m\u001b[38;2;0;100;0mE\u001b[38;2;255;255;255m\u001b[38;2;0;100;0mE\u001b[38;2;255;255;255m\u001b[38;2;0;100;0mE\u001b[38;2;255;255;255m\u001b[38;2;0;100;0mE\u001b[38;2;255;255;255m\u001b[38;2;0;100;0mE\u001b[38;2;255;255;255m\u001b[38;2;0;100;0mE\u001b[38;2;255;255;255m\u001b[38;2;0;100;0mE\u001b[38;2;255;255;255m\u001b[38;2;0;100;0mE\u001b[38;2;255;255;255m\u001b[38;2;0;100;0mE\u001b[38;2;255;255;255m\u001b[38;2;0;100;0mE\u001b[38;2;255;255;255m\u001b[38;2;0;100;0mE\u001b[38;2;255;255;255m\u001b[38;2;0;100;0mE\u001b[38;2;255;255;255m\u001b[38;2;0;100;0mE\u001b[38;2;255;255;255m\u001b[38;2;0;100;0mE\u001b[38;2;255;255;255m\u001b[38;2;0;100;0mE\u001b[38;2;255;255;255m\u001b[38;2;0;100;0mE\u001b[38;2;255;255;255m\u001b[38;2;0;100;0mE\u001b[38;2;255;255;255m\u001b[38;2;0;100;0mE\u001b[38;2;255;255;255m\u001b[0;0m\n",
            "\u001b[1m\u001b[38;2;0;100;0mE\u001b[38;2;255;255;255m\u001b[38;2;0;100;0mE\u001b[38;2;255;255;255m\u001b[38;2;0;100;0mE\u001b[38;2;255;255;255m\u001b[38;2;0;100;0mE\u001b[38;2;255;255;255m\u001b[38;2;0;100;0mE\u001b[38;2;255;255;255m\u001b[38;2;0;100;0mE\u001b[38;2;255;255;255m\u001b[38;2;0;100;0mE\u001b[38;2;255;255;255m\u001b[38;2;0;100;0mE\u001b[38;2;255;255;255m\u001b[38;2;0;100;0mE\u001b[38;2;255;255;255m\u001b[38;2;0;100;0mE\u001b[38;2;255;255;255m\u001b[38;2;0;100;0mE\u001b[38;2;255;255;255m\u001b[38;2;0;128;0mD\u001b[38;2;255;255;255m\u001b[38;2;0;128;0mD\u001b[38;2;255;255;255m\u001b[38;2;0;128;0mD\u001b[38;2;255;255;255m\u001b[38;2;0;128;0mD\u001b[38;2;255;255;255m\u001b[38;2;0;128;0mD\u001b[38;2;255;255;255m\u001b[38;2;0;128;0mD\u001b[38;2;255;255;255m\u001b[38;2;0;128;0mD\u001b[38;2;255;255;255m\u001b[38;2;0;128;0mD\u001b[38;2;255;255;255m\u001b[38;2;0;128;0mD\u001b[38;2;255;255;255m\u001b[38;2;0;128;0mD\u001b[38;2;255;255;255m\u001b[38;2;0;128;0mD\u001b[38;2;255;255;255m\u001b[38;2;0;128;0mD\u001b[38;2;255;255;255m\u001b[38;2;0;128;0mD\u001b[38;2;255;255;255m\u001b[38;2;0;128;0mD\u001b[38;2;255;255;255m\u001b[38;2;0;128;0mD\u001b[38;2;255;255;255m\u001b[38;2;0;128;0mD\u001b[38;2;255;255;255m\u001b[38;2;0;128;0mD\u001b[38;2;255;255;255m\u001b[38;2;0;128;0mD\u001b[38;2;255;255;255m\u001b[38;2;0;128;0mD\u001b[38;2;255;255;255m\u001b[0;0m\n",
            "\u001b[1m\u001b[38;2;0;100;0mE\u001b[38;2;255;255;255m\u001b[38;2;0;100;0mE\u001b[38;2;255;255;255m\u001b[38;2;0;100;0mE\u001b[38;2;255;255;255m\u001b[38;2;255;0;0mA\u001b[38;2;255;255;255m\u001b[38;2;255;0;0mA\u001b[38;2;255;255;255m\u001b[38;2;255;0;0mA\u001b[38;2;255;255;255m\u001b[38;2;255;0;0mA\u001b[38;2;255;255;255m\u001b[38;2;255;0;0mA\u001b[38;2;255;255;255m\u001b[38;2;255;0;0mA\u001b[38;2;255;255;255m\u001b[38;2;255;0;0mA\u001b[38;2;255;255;255m\u001b[38;2;255;0;0mA\u001b[38;2;255;255;255m\u001b[38;2;255;0;0mA\u001b[38;2;255;255;255m\u001b[38;2;50;205;50mC\u001b[38;2;255;255;255m\u001b[38;2;50;205;50mC\u001b[38;2;255;255;255m\u001b[38;2;194;225;5mF\u001b[38;2;255;255;255m\u001b[38;2;194;225;5mF\u001b[38;2;255;255;255m\u001b[38;2;194;225;5mF\u001b[38;2;255;255;255m\u001b[38;2;0;100;0mE\u001b[38;2;255;255;255m\u001b[38;2;0;100;0mE\u001b[38;2;255;255;255m\u001b[38;2;0;100;0mE\u001b[38;2;255;255;255m\u001b[38;2;0;100;0mE\u001b[38;2;255;255;255m\u001b[38;2;0;100;0mE\u001b[38;2;255;255;255m\u001b[38;2;0;100;0mE\u001b[38;2;255;255;255m\u001b[38;2;0;100;0mE\u001b[38;2;255;255;255m\u001b[38;2;0;100;0mE\u001b[38;2;255;255;255m\u001b[38;2;0;100;0mE\u001b[38;2;255;255;255m\u001b[38;2;0;100;0mE\u001b[38;2;255;255;255m\u001b[38;2;0;100;0mE\u001b[38;2;255;255;255m\u001b[38;2;0;100;0mE\u001b[38;2;255;255;255m\u001b[38;2;0;100;0mE\u001b[38;2;255;255;255m\u001b[0;0m\n",
            "\u001b[1m\u001b[38;2;192;192;192mN\u001b[38;2;255;255;255m\u001b[38;2;192;192;192mN\u001b[38;2;255;255;255m\u001b[38;2;192;192;192mN\u001b[38;2;255;255;255m\u001b[38;2;192;192;192mN\u001b[38;2;255;255;255m\u001b[38;2;192;192;192mN\u001b[38;2;255;255;255m\u001b[38;2;192;192;192mN\u001b[38;2;255;255;255m\u001b[38;2;192;192;192mN\u001b[38;2;255;255;255m\u001b[38;2;192;192;192mN\u001b[38;2;255;255;255m\u001b[38;2;192;192;192mN\u001b[38;2;255;255;255m\u001b[38;2;192;192;192mN\u001b[38;2;255;255;255m\u001b[38;2;192;192;192mN\u001b[38;2;255;255;255m\u001b[38;2;192;192;192mN\u001b[38;2;255;255;255m\u001b[38;2;192;192;192mN\u001b[38;2;255;255;255m\u001b[38;2;192;192;192mN\u001b[38;2;255;255;255m\u001b[38;2;192;192;192mN\u001b[38;2;255;255;255m\u001b[38;2;192;192;192mN\u001b[38;2;255;255;255m\u001b[38;2;192;192;192mN\u001b[38;2;255;255;255m\u001b[38;2;192;192;192mN\u001b[38;2;255;255;255m\u001b[38;2;192;192;192mN\u001b[38;2;255;255;255m\u001b[38;2;192;192;192mN\u001b[38;2;255;255;255m\u001b[38;2;192;192;192mN\u001b[38;2;255;255;255m\u001b[38;2;192;192;192mN\u001b[38;2;255;255;255m\u001b[38;2;192;192;192mN\u001b[38;2;255;255;255m\u001b[38;2;192;192;192mN\u001b[38;2;255;255;255m\u001b[38;2;192;192;192mN\u001b[38;2;255;255;255m\u001b[38;2;192;192;192mN\u001b[38;2;255;255;255m\u001b[38;2;192;192;192mN\u001b[38;2;255;255;255m\u001b[38;2;189;183;107mL\u001b[38;2;255;255;255m\u001b[38;2;189;183;107mL\u001b[38;2;255;255;255m\u001b[38;2;189;183;107mL\u001b[38;2;255;255;255m\u001b[0;0m\n",
            "\u001b[1m\u001b[38;2;0;100;0mE\u001b[38;2;255;255;255m\u001b[38;2;0;100;0mE\u001b[38;2;255;255;255m\u001b[38;2;0;128;0mD\u001b[38;2;255;255;255m\u001b[38;2;0;128;0mD\u001b[38;2;255;255;255m\u001b[38;2;0;128;0mD\u001b[38;2;255;255;255m\u001b[38;2;0;128;0mD\u001b[38;2;255;255;255m\u001b[38;2;0;128;0mD\u001b[38;2;255;255;255m\u001b[38;2;0;128;0mD\u001b[38;2;255;255;255m\u001b[38;2;0;128;0mD\u001b[38;2;255;255;255m\u001b[38;2;0;128;0mD\u001b[38;2;255;255;255m\u001b[38;2;0;128;0mD\u001b[38;2;255;255;255m\u001b[38;2;0;128;0mD\u001b[38;2;255;255;255m\u001b[38;2;0;128;0mD\u001b[38;2;255;255;255m\u001b[38;2;0;128;0mD\u001b[38;2;255;255;255m\u001b[38;2;0;128;0mD\u001b[38;2;255;255;255m\u001b[38;2;0;128;0mD\u001b[38;2;255;255;255m\u001b[38;2;0;128;0mD\u001b[38;2;255;255;255m\u001b[38;2;0;128;0mD\u001b[38;2;255;255;255m\u001b[38;2;0;128;0mD\u001b[38;2;255;255;255m\u001b[38;2;0;128;0mD\u001b[38;2;255;255;255m\u001b[38;2;0;128;0mD\u001b[38;2;255;255;255m\u001b[38;2;0;128;0mD\u001b[38;2;255;255;255m\u001b[38;2;194;225;5mF\u001b[38;2;255;255;255m\u001b[38;2;194;225;5mF\u001b[38;2;255;255;255m\u001b[38;2;194;225;5mF\u001b[38;2;255;255;255m\u001b[38;2;194;225;5mF\u001b[38;2;255;255;255m\u001b[38;2;194;225;5mF\u001b[38;2;255;255;255m\u001b[38;2;194;225;5mF\u001b[38;2;255;255;255m\u001b[38;2;255;255;0mG\u001b[38;2;255;255;255m\u001b[38;2;255;255;0mG\u001b[38;2;255;255;255m\u001b[0;0m\n",
            "\u001b[1m\u001b[38;2;240;240;240mO\u001b[38;2;255;255;255m\u001b[38;2;240;240;240mO\u001b[38;2;255;255;255m\u001b[38;2;240;240;240mO\u001b[38;2;255;255;255m\u001b[38;2;240;240;240mO\u001b[38;2;255;255;255m\u001b[38;2;240;240;240mO\u001b[38;2;255;255;255m\u001b[38;2;240;240;240mO\u001b[38;2;255;255;255m\u001b[38;2;240;240;240mO\u001b[38;2;255;255;255m\u001b[38;2;240;240;240mO\u001b[38;2;255;255;255m\u001b[38;2;240;240;240mO\u001b[38;2;255;255;255m\u001b[38;2;240;240;240mO\u001b[38;2;255;255;255m\u001b[38;2;240;240;240mO\u001b[38;2;255;255;255m\u001b[38;2;240;240;240mO\u001b[38;2;255;255;255m\u001b[38;2;240;240;240mO\u001b[38;2;255;255;255m\u001b[38;2;240;240;240mO\u001b[38;2;255;255;255m\u001b[38;2;240;240;240mO\u001b[38;2;255;255;255m\u001b[38;2;240;240;240mO\u001b[38;2;255;255;255m\u001b[38;2;240;240;240mO\u001b[38;2;255;255;255m\u001b[38;2;240;240;240mO\u001b[38;2;255;255;255m\u001b[38;2;240;240;240mO\u001b[38;2;255;255;255m\u001b[38;2;240;240;240mO\u001b[38;2;255;255;255m\u001b[38;2;240;240;240mO\u001b[38;2;255;255;255m\u001b[38;2;240;240;240mO\u001b[38;2;255;255;255m\u001b[38;2;240;240;240mO\u001b[38;2;255;255;255m\u001b[38;2;192;192;192mN\u001b[38;2;255;255;255m\u001b[38;2;192;192;192mN\u001b[38;2;255;255;255m\u001b[38;2;192;192;192mN\u001b[38;2;255;255;255m\u001b[38;2;192;192;192mN\u001b[38;2;255;255;255m\u001b[38;2;192;192;192mN\u001b[38;2;255;255;255m\u001b[38;2;192;192;192mN\u001b[38;2;255;255;255m\u001b[38;2;192;192;192mN\u001b[38;2;255;255;255m\u001b[0;0m\n",
            "\u001b[1m\u001b[38;2;192;192;192mN\u001b[38;2;255;255;255m\u001b[38;2;192;192;192mN\u001b[38;2;255;255;255m\u001b[38;2;192;192;192mN\u001b[38;2;255;255;255m\u001b[38;2;192;192;192mN\u001b[38;2;255;255;255m\u001b[38;2;192;192;192mN\u001b[38;2;255;255;255m\u001b[38;2;192;192;192mN\u001b[38;2;255;255;255m\u001b[38;2;192;192;192mN\u001b[38;2;255;255;255m\u001b[38;2;192;192;192mN\u001b[38;2;255;255;255m\u001b[38;2;255;255;0mG\u001b[38;2;255;255;255m\u001b[38;2;255;255;0mG\u001b[38;2;255;255;255m\u001b[38;2;0;100;0mE\u001b[38;2;255;255;255m\u001b[38;2;0;100;0mE\u001b[38;2;255;255;255m\u001b[38;2;0;100;0mE\u001b[38;2;255;255;255m\u001b[38;2;0;100;0mE\u001b[38;2;255;255;255m\u001b[38;2;0;100;0mE\u001b[38;2;255;255;255m\u001b[38;2;0;100;0mE\u001b[38;2;255;255;255m\u001b[38;2;255;0;0mA\u001b[38;2;255;255;255m\u001b[38;2;255;0;0mA\u001b[38;2;255;255;255m\u001b[38;2;255;0;0mA\u001b[38;2;255;255;255m\u001b[38;2;0;100;0mE\u001b[38;2;255;255;255m\u001b[38;2;0;100;0mE\u001b[38;2;255;255;255m\u001b[38;2;0;100;0mE\u001b[38;2;255;255;255m\u001b[38;2;0;100;0mE\u001b[38;2;255;255;255m\u001b[38;2;0;100;0mE\u001b[38;2;255;255;255m\u001b[38;2;0;100;0mE\u001b[38;2;255;255;255m\u001b[38;2;0;100;0mE\u001b[38;2;255;255;255m\u001b[38;2;0;100;0mE\u001b[38;2;255;255;255m\u001b[38;2;0;100;0mE\u001b[38;2;255;255;255m\u001b[38;2;0;100;0mE\u001b[38;2;255;255;255m\u001b[38;2;0;100;0mE\u001b[38;2;255;255;255m\u001b[0;0m\n",
            "\u001b[1m\u001b[38;2;255;69;0mB\u001b[38;2;255;255;255m\u001b[38;2;255;69;0mB\u001b[38;2;255;255;255m\u001b[38;2;255;69;0mB\u001b[38;2;255;255;255m\u001b[38;2;255;0;0mA\u001b[38;2;255;255;255m\u001b[38;2;255;0;0mA\u001b[38;2;255;255;255m\u001b[38;2;255;0;0mA\u001b[38;2;255;255;255m\u001b[38;2;255;0;0mA\u001b[38;2;255;255;255m\u001b[38;2;255;0;0mA\u001b[38;2;255;255;255m\u001b[38;2;255;0;0mA\u001b[38;2;255;255;255m\u001b[38;2;255;0;0mA\u001b[38;2;255;255;255m\u001b[38;2;255;0;0mA\u001b[38;2;255;255;255m\u001b[38;2;255;0;0mA\u001b[38;2;255;255;255m\u001b[38;2;255;0;0mA\u001b[38;2;255;255;255m\u001b[38;2;255;69;0mB\u001b[38;2;255;255;255m\u001b[38;2;255;69;0mB\u001b[38;2;255;255;255m\u001b[38;2;50;205;50mC\u001b[38;2;255;255;255m\u001b[38;2;194;225;5mF\u001b[38;2;255;255;255m\u001b[38;2;194;225;5mF\u001b[38;2;255;255;255m\u001b[38;2;194;225;5mF\u001b[38;2;255;255;255m\u001b[38;2;194;225;5mF\u001b[38;2;255;255;255m\u001b[38;2;0;128;0mD\u001b[38;2;255;255;255m\u001b[38;2;0;128;0mD\u001b[38;2;255;255;255m\u001b[38;2;0;128;0mD\u001b[38;2;255;255;255m\u001b[38;2;0;128;0mD\u001b[38;2;255;255;255m\u001b[38;2;0;128;0mD\u001b[38;2;255;255;255m\u001b[38;2;0;128;0mD\u001b[38;2;255;255;255m\u001b[38;2;0;128;0mD\u001b[38;2;255;255;255m\u001b[38;2;0;128;0mD\u001b[38;2;255;255;255m\u001b[38;2;0;128;0mD\u001b[38;2;255;255;255m\u001b[38;2;0;128;0mD\u001b[38;2;255;255;255m\u001b[0;0m\n",
            "\u001b[1m\u001b[38;2;0;100;0mE\u001b[38;2;255;255;255m\u001b[38;2;255;255;0mG\u001b[38;2;255;255;255m\u001b[38;2;255;255;0mG\u001b[38;2;255;255;255m\u001b[38;2;255;255;0mG\u001b[38;2;255;255;255m\u001b[38;2;255;69;0mB\u001b[38;2;255;255;255m\u001b[38;2;255;0;0mA\u001b[38;2;255;255;255m\u001b[38;2;255;0;0mA\u001b[38;2;255;255;255m\u001b[38;2;255;0;0mA\u001b[38;2;255;255;255m\u001b[38;2;255;0;0mA\u001b[38;2;255;255;255m\u001b[38;2;255;0;0mA\u001b[38;2;255;255;255m\u001b[38;2;255;0;0mA\u001b[38;2;255;255;255m\u001b[38;2;255;0;0mA\u001b[38;2;255;255;255m\u001b[38;2;255;0;0mA\u001b[38;2;255;255;255m\u001b[38;2;255;69;0mB\u001b[38;2;255;255;255m\u001b[38;2;255;69;0mB\u001b[38;2;255;255;255m\u001b[38;2;0;100;0mE\u001b[38;2;255;255;255m\u001b[38;2;0;100;0mE\u001b[38;2;255;255;255m\u001b[38;2;0;100;0mE\u001b[38;2;255;255;255m\u001b[38;2;0;100;0mE\u001b[38;2;255;255;255m\u001b[38;2;0;100;0mE\u001b[38;2;255;255;255m\u001b[38;2;0;100;0mE\u001b[38;2;255;255;255m\u001b[38;2;0;100;0mE\u001b[38;2;255;255;255m\u001b[38;2;0;100;0mE\u001b[38;2;255;255;255m\u001b[38;2;0;128;0mD\u001b[38;2;255;255;255m\u001b[38;2;0;128;0mD\u001b[38;2;255;255;255m\u001b[38;2;0;128;0mD\u001b[38;2;255;255;255m\u001b[38;2;0;128;0mD\u001b[38;2;255;255;255m\u001b[38;2;0;100;0mE\u001b[38;2;255;255;255m\u001b[38;2;0;100;0mE\u001b[38;2;255;255;255m\u001b[38;2;0;100;0mE\u001b[38;2;255;255;255m\u001b[0;0m\n",
            "\u001b[1m\u001b[38;2;0;100;0mE\u001b[38;2;255;255;255m\u001b[38;2;102;205;170mH\u001b[38;2;255;255;255m\u001b[38;2;102;205;170mH\u001b[38;2;255;255;255m\u001b[38;2;102;205;170mH\u001b[38;2;255;255;255m\u001b[38;2;0;100;0mE\u001b[38;2;255;255;255m\u001b[38;2;0;100;0mE\u001b[38;2;255;255;255m\u001b[38;2;0;100;0mE\u001b[38;2;255;255;255m\u001b[38;2;0;100;0mE\u001b[38;2;255;255;255m\u001b[38;2;0;100;0mE\u001b[38;2;255;255;255m\u001b[38;2;0;100;0mE\u001b[38;2;255;255;255m\u001b[38;2;0;100;0mE\u001b[38;2;255;255;255m\u001b[38;2;0;100;0mE\u001b[38;2;255;255;255m\u001b[38;2;0;100;0mE\u001b[38;2;255;255;255m\u001b[38;2;0;100;0mE\u001b[38;2;255;255;255m\u001b[38;2;0;100;0mE\u001b[38;2;255;255;255m\u001b[38;2;0;100;0mE\u001b[38;2;255;255;255m\u001b[38;2;0;100;0mE\u001b[38;2;255;255;255m\u001b[38;2;0;100;0mE\u001b[38;2;255;255;255m\u001b[38;2;0;100;0mE\u001b[38;2;255;255;255m\u001b[38;2;0;100;0mE\u001b[38;2;255;255;255m\u001b[38;2;0;100;0mE\u001b[38;2;255;255;255m\u001b[38;2;0;100;0mE\u001b[38;2;255;255;255m\u001b[38;2;0;100;0mE\u001b[38;2;255;255;255m\u001b[38;2;0;100;0mE\u001b[38;2;255;255;255m\u001b[38;2;0;100;0mE\u001b[38;2;255;255;255m\u001b[38;2;0;100;0mE\u001b[38;2;255;255;255m\u001b[38;2;0;100;0mE\u001b[38;2;255;255;255m\u001b[38;2;0;100;0mE\u001b[38;2;255;255;255m\u001b[38;2;0;100;0mE\u001b[38;2;255;255;255m\u001b[38;2;0;100;0mE\u001b[38;2;255;255;255m\u001b[0;0m\n",
            "\u001b[1m\u001b[38;2;0;100;0mE\u001b[38;2;255;255;255m\u001b[38;2;0;100;0mE\u001b[38;2;255;255;255m\u001b[38;2;0;100;0mE\u001b[38;2;255;255;255m\u001b[38;2;0;100;0mE\u001b[38;2;255;255;255m\u001b[38;2;255;69;0mB\u001b[38;2;255;255;255m\u001b[38;2;255;69;0mB\u001b[38;2;255;255;255m\u001b[38;2;255;255;0mG\u001b[38;2;255;255;255m\u001b[38;2;255;255;0mG\u001b[38;2;255;255;255m\u001b[38;2;255;255;0mG\u001b[38;2;255;255;255m\u001b[38;2;255;255;0mG\u001b[38;2;255;255;255m\u001b[38;2;255;255;0mG\u001b[38;2;255;255;255m\u001b[38;2;255;255;0mG\u001b[38;2;255;255;255m\u001b[38;2;255;255;0mG\u001b[38;2;255;255;255m\u001b[38;2;255;255;0mG\u001b[38;2;255;255;255m\u001b[38;2;255;255;0mG\u001b[38;2;255;255;255m\u001b[38;2;255;69;0mB\u001b[38;2;255;255;255m\u001b[38;2;233;150;122mK\u001b[38;2;255;255;255m\u001b[38;2;233;150;122mK\u001b[38;2;255;255;255m\u001b[38;2;233;150;122mK\u001b[38;2;255;255;255m\u001b[38;2;233;150;122mK\u001b[38;2;255;255;255m\u001b[38;2;233;150;122mK\u001b[38;2;255;255;255m\u001b[38;2;233;150;122mK\u001b[38;2;255;255;255m\u001b[38;2;205;92;92mJ\u001b[38;2;255;255;255m\u001b[38;2;205;92;92mJ\u001b[38;2;255;255;255m\u001b[38;2;233;150;122mK\u001b[38;2;255;255;255m\u001b[38;2;233;150;122mK\u001b[38;2;255;255;255m\u001b[38;2;189;183;107mL\u001b[38;2;255;255;255m\u001b[38;2;189;183;107mL\u001b[38;2;255;255;255m\u001b[38;2;255;255;0mG\u001b[38;2;255;255;255m\u001b[38;2;255;255;0mG\u001b[38;2;255;255;255m\u001b[0;0m\n",
            "\u001b[1m\u001b[38;2;255;255;0mG\u001b[38;2;255;255;255m\u001b[38;2;255;255;0mG\u001b[38;2;255;255;255m\u001b[38;2;0;100;0mE\u001b[38;2;255;255;255m\u001b[38;2;0;100;0mE\u001b[38;2;255;255;255m\u001b[38;2;0;100;0mE\u001b[38;2;255;255;255m\u001b[38;2;0;100;0mE\u001b[38;2;255;255;255m\u001b[38;2;0;100;0mE\u001b[38;2;255;255;255m\u001b[38;2;0;128;0mD\u001b[38;2;255;255;255m\u001b[38;2;0;128;0mD\u001b[38;2;255;255;255m\u001b[38;2;194;225;5mF\u001b[38;2;255;255;255m\u001b[38;2;255;69;0mB\u001b[38;2;255;255;255m\u001b[38;2;255;69;0mB\u001b[38;2;255;255;255m\u001b[38;2;255;69;0mB\u001b[38;2;255;255;255m\u001b[38;2;255;0;0mA\u001b[38;2;255;255;255m\u001b[38;2;255;0;0mA\u001b[38;2;255;255;255m\u001b[38;2;255;0;0mA\u001b[38;2;255;255;255m\u001b[38;2;255;0;0mA\u001b[38;2;255;255;255m\u001b[38;2;255;0;0mA\u001b[38;2;255;255;255m\u001b[38;2;255;0;0mA\u001b[38;2;255;255;255m\u001b[38;2;255;0;0mA\u001b[38;2;255;255;255m\u001b[38;2;255;0;0mA\u001b[38;2;255;255;255m\u001b[38;2;255;0;0mA\u001b[38;2;255;255;255m\u001b[38;2;255;0;0mA\u001b[38;2;255;255;255m\u001b[38;2;255;0;0mA\u001b[38;2;255;255;255m\u001b[38;2;0;100;0mE\u001b[38;2;255;255;255m\u001b[38;2;0;100;0mE\u001b[38;2;255;255;255m\u001b[38;2;0;100;0mE\u001b[38;2;255;255;255m\u001b[38;2;0;100;0mE\u001b[38;2;255;255;255m\u001b[38;2;0;100;0mE\u001b[38;2;255;255;255m\u001b[38;2;0;100;0mE\u001b[38;2;255;255;255m\u001b[0;0m\n",
            "\u001b[1m\u001b[38;2;0;100;0mE\u001b[38;2;255;255;255m\u001b[38;2;0;100;0mE\u001b[38;2;255;255;255m\u001b[38;2;0;100;0mE\u001b[38;2;255;255;255m\u001b[38;2;0;100;0mE\u001b[38;2;255;255;255m\u001b[38;2;0;100;0mE\u001b[38;2;255;255;255m\u001b[38;2;0;100;0mE\u001b[38;2;255;255;255m\u001b[38;2;0;100;0mE\u001b[38;2;255;255;255m\u001b[38;2;0;128;0mD\u001b[38;2;255;255;255m\u001b[38;2;0;128;0mD\u001b[38;2;255;255;255m\u001b[38;2;0;128;0mD\u001b[38;2;255;255;255m\u001b[38;2;0;128;0mD\u001b[38;2;255;255;255m\u001b[38;2;0;128;0mD\u001b[38;2;255;255;255m\u001b[38;2;0;128;0mD\u001b[38;2;255;255;255m\u001b[38;2;0;128;0mD\u001b[38;2;255;255;255m\u001b[38;2;0;128;0mD\u001b[38;2;255;255;255m\u001b[38;2;0;128;0mD\u001b[38;2;255;255;255m\u001b[38;2;0;128;0mD\u001b[38;2;255;255;255m\u001b[38;2;0;128;0mD\u001b[38;2;255;255;255m\u001b[38;2;0;128;0mD\u001b[38;2;255;255;255m\u001b[38;2;0;128;0mD\u001b[38;2;255;255;255m\u001b[38;2;0;128;0mD\u001b[38;2;255;255;255m\u001b[38;2;0;128;0mD\u001b[38;2;255;255;255m\u001b[38;2;0;128;0mD\u001b[38;2;255;255;255m\u001b[38;2;0;128;0mD\u001b[38;2;255;255;255m\u001b[38;2;0;128;0mD\u001b[38;2;255;255;255m\u001b[38;2;0;128;0mD\u001b[38;2;255;255;255m\u001b[38;2;0;128;0mD\u001b[38;2;255;255;255m\u001b[38;2;0;128;0mD\u001b[38;2;255;255;255m\u001b[38;2;0;128;0mD\u001b[38;2;255;255;255m\u001b[38;2;0;128;0mD\u001b[38;2;255;255;255m\u001b[0;0m\n",
            "\u001b[1m\u001b[38;2;0;128;0mD\u001b[38;2;255;255;255m\u001b[38;2;194;225;5mF\u001b[38;2;255;255;255m\u001b[38;2;50;205;50mC\u001b[38;2;255;255;255m\u001b[38;2;50;205;50mC\u001b[38;2;255;255;255m\u001b[38;2;50;205;50mC\u001b[38;2;255;255;255m\u001b[38;2;255;0;0mA\u001b[38;2;255;255;255m\u001b[38;2;255;0;0mA\u001b[38;2;255;255;255m\u001b[38;2;255;0;0mA\u001b[38;2;255;255;255m\u001b[38;2;255;0;0mA\u001b[38;2;255;255;255m\u001b[38;2;255;0;0mA\u001b[38;2;255;255;255m\u001b[38;2;255;0;0mA\u001b[38;2;255;255;255m\u001b[38;2;255;0;0mA\u001b[38;2;255;255;255m\u001b[38;2;255;0;0mA\u001b[38;2;255;255;255m\u001b[38;2;255;69;0mB\u001b[38;2;255;255;255m\u001b[38;2;255;69;0mB\u001b[38;2;255;255;255m\u001b[38;2;255;69;0mB\u001b[38;2;255;255;255m\u001b[38;2;194;225;5mF\u001b[38;2;255;255;255m\u001b[38;2;194;225;5mF\u001b[38;2;255;255;255m\u001b[38;2;194;225;5mF\u001b[38;2;255;255;255m\u001b[38;2;194;225;5mF\u001b[38;2;255;255;255m\u001b[38;2;194;225;5mF\u001b[38;2;255;255;255m\u001b[38;2;194;225;5mF\u001b[38;2;255;255;255m\u001b[38;2;194;225;5mF\u001b[38;2;255;255;255m\u001b[38;2;194;225;5mF\u001b[38;2;255;255;255m\u001b[38;2;0;128;0mD\u001b[38;2;255;255;255m\u001b[38;2;0;128;0mD\u001b[38;2;255;255;255m\u001b[38;2;0;128;0mD\u001b[38;2;255;255;255m\u001b[38;2;0;128;0mD\u001b[38;2;255;255;255m\u001b[38;2;0;128;0mD\u001b[38;2;255;255;255m\u001b[38;2;0;128;0mD\u001b[38;2;255;255;255m\u001b[0;0m\n",
            "\u001b[1m\u001b[38;2;0;100;0mE\u001b[38;2;255;255;255m\u001b[38;2;0;100;0mE\u001b[38;2;255;255;255m\u001b[38;2;0;100;0mE\u001b[38;2;255;255;255m\u001b[38;2;0;100;0mE\u001b[38;2;255;255;255m\u001b[38;2;0;100;0mE\u001b[38;2;255;255;255m\u001b[38;2;0;100;0mE\u001b[38;2;255;255;255m\u001b[38;2;0;100;0mE\u001b[38;2;255;255;255m\u001b[38;2;0;100;0mE\u001b[38;2;255;255;255m\u001b[38;2;0;100;0mE\u001b[38;2;255;255;255m\u001b[38;2;0;100;0mE\u001b[38;2;255;255;255m\u001b[38;2;0;100;0mE\u001b[38;2;255;255;255m\u001b[38;2;0;100;0mE\u001b[38;2;255;255;255m\u001b[38;2;0;100;0mE\u001b[38;2;255;255;255m\u001b[38;2;0;100;0mE\u001b[38;2;255;255;255m\u001b[38;2;255;255;0mG\u001b[38;2;255;255;255m\u001b[38;2;255;255;0mG\u001b[38;2;255;255;255m\u001b[38;2;255;255;0mG\u001b[38;2;255;255;255m\u001b[38;2;255;69;0mB\u001b[38;2;255;255;255m\u001b[38;2;255;0;0mA\u001b[38;2;255;255;255m\u001b[38;2;255;0;0mA\u001b[38;2;255;255;255m\u001b[38;2;255;69;0mB\u001b[38;2;255;255;255m\u001b[38;2;255;255;0mG\u001b[38;2;255;255;255m\u001b[38;2;255;255;0mG\u001b[38;2;255;255;255m\u001b[38;2;255;255;0mG\u001b[38;2;255;255;255m\u001b[38;2;255;255;0mG\u001b[38;2;255;255;255m\u001b[38;2;255;255;0mG\u001b[38;2;255;255;255m\u001b[38;2;255;255;0mG\u001b[38;2;255;255;255m\u001b[38;2;255;255;0mG\u001b[38;2;255;255;255m\u001b[38;2;255;255;0mG\u001b[38;2;255;255;255m\u001b[38;2;255;255;0mG\u001b[38;2;255;255;255m\u001b[0;0m\n",
            "\u001b[1m\u001b[38;2;0;100;0mE\u001b[38;2;255;255;255m\u001b[38;2;0;100;0mE\u001b[38;2;255;255;255m\u001b[38;2;0;100;0mE\u001b[38;2;255;255;255m\u001b[38;2;0;100;0mE\u001b[38;2;255;255;255m\u001b[38;2;0;100;0mE\u001b[38;2;255;255;255m\u001b[38;2;0;100;0mE\u001b[38;2;255;255;255m\u001b[38;2;255;255;0mG\u001b[38;2;255;255;255m\u001b[38;2;255;255;0mG\u001b[38;2;255;255;255m\u001b[38;2;255;255;0mG\u001b[38;2;255;255;255m\u001b[38;2;255;255;0mG\u001b[38;2;255;255;255m\u001b[38;2;255;255;0mG\u001b[38;2;255;255;255m\u001b[38;2;255;255;0mG\u001b[38;2;255;255;255m\u001b[38;2;255;255;0mG\u001b[38;2;255;255;255m\u001b[38;2;0;100;0mE\u001b[38;2;255;255;255m\u001b[38;2;0;100;0mE\u001b[38;2;255;255;255m\u001b[38;2;0;100;0mE\u001b[38;2;255;255;255m\u001b[38;2;255;0;0mA\u001b[38;2;255;255;255m\u001b[38;2;255;0;0mA\u001b[38;2;255;255;255m\u001b[38;2;255;0;0mA\u001b[38;2;255;255;255m\u001b[38;2;0;100;0mE\u001b[38;2;255;255;255m\u001b[38;2;102;205;170mH\u001b[38;2;255;255;255m\u001b[38;2;0;100;0mE\u001b[38;2;255;255;255m\u001b[38;2;0;100;0mE\u001b[38;2;255;255;255m\u001b[38;2;0;100;0mE\u001b[38;2;255;255;255m\u001b[38;2;0;100;0mE\u001b[38;2;255;255;255m\u001b[38;2;0;100;0mE\u001b[38;2;255;255;255m\u001b[38;2;0;100;0mE\u001b[38;2;255;255;255m\u001b[38;2;0;100;0mE\u001b[38;2;255;255;255m\u001b[38;2;255;255;0mG\u001b[38;2;255;255;255m\u001b[38;2;255;255;0mG\u001b[38;2;255;255;255m\u001b[0;0m\n",
            "\u001b[1m\u001b[38;2;102;205;170mH\u001b[38;2;255;255;255m\u001b[38;2;0;100;0mE\u001b[38;2;255;255;255m\u001b[38;2;0;100;0mE\u001b[38;2;255;255;255m\u001b[38;2;0;100;0mE\u001b[38;2;255;255;255m\u001b[38;2;0;100;0mE\u001b[38;2;255;255;255m\u001b[38;2;0;100;0mE\u001b[38;2;255;255;255m\u001b[38;2;0;100;0mE\u001b[38;2;255;255;255m\u001b[38;2;0;100;0mE\u001b[38;2;255;255;255m\u001b[38;2;255;255;0mG\u001b[38;2;255;255;255m\u001b[38;2;255;255;0mG\u001b[38;2;255;255;255m\u001b[38;2;255;255;0mG\u001b[38;2;255;255;255m\u001b[38;2;255;255;0mG\u001b[38;2;255;255;255m\u001b[38;2;255;255;0mG\u001b[38;2;255;255;255m\u001b[38;2;255;255;0mG\u001b[38;2;255;255;255m\u001b[38;2;255;255;0mG\u001b[38;2;255;255;255m\u001b[38;2;255;255;0mG\u001b[38;2;255;255;255m\u001b[38;2;255;255;0mG\u001b[38;2;255;255;255m\u001b[38;2;255;255;0mG\u001b[38;2;255;255;255m\u001b[38;2;255;255;0mG\u001b[38;2;255;255;255m\u001b[38;2;255;255;0mG\u001b[38;2;255;255;255m\u001b[38;2;255;255;0mG\u001b[38;2;255;255;255m\u001b[38;2;255;255;0mG\u001b[38;2;255;255;255m\u001b[38;2;255;255;0mG\u001b[38;2;255;255;255m\u001b[38;2;255;255;0mG\u001b[38;2;255;255;255m\u001b[38;2;255;255;0mG\u001b[38;2;255;255;255m\u001b[38;2;255;255;0mG\u001b[38;2;255;255;255m\u001b[38;2;255;255;0mG\u001b[38;2;255;255;255m\u001b[38;2;255;255;0mG\u001b[38;2;255;255;255m\u001b[38;2;255;255;0mG\u001b[38;2;255;255;255m\u001b[38;2;255;69;0mB\u001b[38;2;255;255;255m\u001b[0;0m\n",
            "\u001b[1m\u001b[38;2;255;255;0mG\u001b[38;2;255;255;255m\u001b[38;2;255;255;0mG\u001b[38;2;255;255;255m\u001b[38;2;255;69;0mB\u001b[38;2;255;255;255m\u001b[38;2;255;69;0mB\u001b[38;2;255;255;255m\u001b[38;2;255;69;0mB\u001b[38;2;255;255;255m\u001b[38;2;255;69;0mB\u001b[38;2;255;255;255m\u001b[38;2;255;69;0mB\u001b[38;2;255;255;255m\u001b[38;2;255;69;0mB\u001b[38;2;255;255;255m\u001b[38;2;255;69;0mB\u001b[38;2;255;255;255m\u001b[38;2;255;69;0mB\u001b[38;2;255;255;255m\u001b[38;2;255;0;0mA\u001b[38;2;255;255;255m\u001b[38;2;255;0;0mA\u001b[38;2;255;255;255m\u001b[38;2;255;0;0mA\u001b[38;2;255;255;255m\u001b[38;2;255;69;0mB\u001b[38;2;255;255;255m\u001b[38;2;233;150;122mK\u001b[38;2;255;255;255m\u001b[38;2;233;150;122mK\u001b[38;2;255;255;255m\u001b[38;2;255;255;0mG\u001b[38;2;255;255;255m\u001b[38;2;0;100;0mE\u001b[38;2;255;255;255m\u001b[38;2;0;100;0mE\u001b[38;2;255;255;255m\u001b[38;2;0;100;0mE\u001b[38;2;255;255;255m\u001b[38;2;0;100;0mE\u001b[38;2;255;255;255m\u001b[38;2;0;100;0mE\u001b[38;2;255;255;255m\u001b[38;2;0;100;0mE\u001b[38;2;255;255;255m\u001b[38;2;0;100;0mE\u001b[38;2;255;255;255m\u001b[38;2;0;100;0mE\u001b[38;2;255;255;255m\u001b[38;2;0;100;0mE\u001b[38;2;255;255;255m\u001b[38;2;0;128;0mD\u001b[38;2;255;255;255m\u001b[38;2;0;128;0mD\u001b[38;2;255;255;255m\u001b[38;2;0;128;0mD\u001b[38;2;255;255;255m\u001b[38;2;0;128;0mD\u001b[38;2;255;255;255m\u001b[0;0m\n"
          ]
        }
      ],
      "source": [
        "# Print the chromatin state patterns of 30 promoters on chromosome 1 for your cell type of interest\n",
        "for i in range(30):\n",
        "  entry=prom_extracted[0][i+20]\n",
        "  crb.colored_css_str_as_is(entry)"
      ]
    },
    {
      "cell_type": "markdown",
      "metadata": {
        "id": "pTrf_JiiBSLG"
      },
      "source": [
        "<br>\n",
        "\n",
        "Already noticed some patterns? 🕵️✨\n",
        "\n",
        "You may observe that some entries consist entirely of the `\"O\"` sequence or low-signal states. Since these do not contribute meaningful patterns for training, we will exclude them. Next, we'll k-merize the sequences (recommended `k=4`) and save the processed data in Colab.\n",
        "\n",
        "<br>"
      ]
    },
    {
      "cell_type": "code",
      "execution_count": 15,
      "metadata": {
        "colab": {
          "base_uri": "https://localhost:8080/"
        },
        "id": "aKEcHoyD3zW1",
        "outputId": "6292838e-b825-4295-93a0-0332e9dabd4f"
      },
      "outputs": [
        {
          "output_type": "stream",
          "name": "stdout",
          "text": [
            "Finalizing the list ...\n",
            "Done!\n"
          ]
        }
      ],
      "source": [
        "# (2) K-merize the data and exclude entries containing \"OOOO\"\n",
        "final_prom_extracted=crb.process_prom_list(prom_extracted, k=4, low_signal=\"O\")"
      ]
    },
    {
      "cell_type": "markdown",
      "source": [
        "💾 Now we can save the created file as a pretraining dataset."
      ],
      "metadata": {
        "id": "ETJsei8phyUy"
      }
    },
    {
      "cell_type": "code",
      "execution_count": 16,
      "metadata": {
        "colab": {
          "base_uri": "https://localhost:8080/"
        },
        "id": "20pa96TEJdqz",
        "outputId": "8e43ca3f-2113-4003-9d08-85ef768a78a2"
      },
      "outputs": [
        {
          "output_type": "stream",
          "name": "stdout",
          "text": [
            "File saved as /content/pretraining_promoters.txt\n"
          ]
        }
      ],
      "source": [
        "# Save to a file\n",
        "with open(\"/content/pretraining_promoters.txt\", \"w\") as f:\n",
        "    f.write(\"\\n\".join(final_prom_extracted))\n",
        "print(\"File saved as /content/pretraining_promoters.txt\")"
      ]
    },
    {
      "cell_type": "markdown",
      "metadata": {
        "id": "wsqwbnrJNo0K"
      },
      "source": [
        "<br>\n",
        "\n",
        "## Run Pretraining\n",
        "\n",
        "For pretraining, we recommend using your local machine rather than Colab to avoid any compatibility issues or version conflicts during installation. If you want to test your own pretraining data created above, make sure to download your file by clicking on the file icon 📂 on the left and save it locally.\n",
        "\n",
        "Once your data is ready, proceed to the pretraining section in the **ChromBERT** GitHub repository linked below. Follow the instructions there to continue with pretraining! 🚀✨\n",
        "\n",
        "<br>\n",
        "\n",
        "- Github repository: [![Github](https://img.shields.io/static/v1.svg?logo=github&label=Repo&message=Github&color=olive)](https://github.com/caocao0525/ChromBERT)\n",
        "\n",
        "\n",
        "<br>\n",
        "\n",
        "\n",
        "\n",
        "<!-- <p align=\"center\">\n",
        "  <a href=\"https://colab.research.google.com/drive/1X725dCfi9m8IZNW_42IrgI04TlQebyCb?usp=sharing#scrollTo=10gABVz9VZ4v\">\n",
        "    <img src=\"https://colab.research.google.com/assets/colab-badge.svg\" alt=\"Open In Colab\">\n",
        "  </a>\n",
        "</p> -->\n",
        "\n",
        "<!-- <p align=\"center\">\n",
        "  <a href=\"https://colab.research.google.com/drive/1DF_1JoAFrJEmDN45B25v-PJfArpHrcSD#scrollTo=rB90JG-X0Jiv\">\n",
        "    <img src=\"https://colab.research.google.com/assets/colab-badge.svg\" alt=\"Open In Colab\">\n",
        "  </a>\n",
        "</p> -->\n",
        "\n",
        "\n",
        "<!--\n",
        "<br>\n",
        "\n",
        "🤔 Why a Separate Training Page?\n",
        "\n",
        "We have prepared a separate Colab page for training to ensure a smoother workflow and better resource management. Keeping preprocessing and training in separate notebooks prevents unnecessary GPU usage warnings🚨 and avoids long reload times⏳ if the session disconnects. This also allows you to complete preprocessing independently and upload only the necessary data when switching to the training phase.\n",
        " -->\n"
      ]
    },
    {
      "cell_type": "markdown",
      "metadata": {
        "id": "B7pxE2JiNdfO"
      },
      "source": [
        "<br>\n",
        "\n",
        "---\n",
        "\n",
        "# 4. Fine-tuning Data Preparation\n",
        "\n",
        "Fine-tuning is an essential step to adapt our pre-trained **ChromBERT** model to a specific downstream task. While the pretraining phase allows the model to learn general patterns from chromatin state sequences, fine-tuning enables it to make more task-specific predictions using labeled data.\n",
        "\n",
        "The diagram below illustrates a typical classification pipeline using a BERT-based model. In our case, **ChromBERT** processes chromatin state sequences and outputs a probability for each class — such as predicting whether a gene is highly expressed or not.\n",
        "\n",
        "<br>\n",
        "\n",
        "<figure>\n",
        "<img src=\"https://github.com/caocao0525/ChromBERT/blob/chrombert-py311-extended/colab/colab_data/fine_tuning.jpg?raw=true\" alt=\"Input Embedding\" width=\"1020\"/>\n",
        "<figcaption>Fig. 4: BERT for binary classification</figcaption>\n",
        "</figure>\n",
        "\n",
        "<br>\n"
      ]
    },
    {
      "cell_type": "markdown",
      "metadata": {
        "id": "mS6rJpA-A8yw"
      },
      "source": [
        "## Data Preparation\n",
        "\n",
        "\n",
        "In this tutorial, we will perform promoter region classification, aiming to predict whether a gene has high expression based on its chromatin state sequence.\n",
        "\n",
        "We need to create a dataset where each sample consists of:\n",
        "\n",
        "- Chromatin state sequences (formatted similarly to pretraining data).\n",
        "\n",
        "- Expression labels based on RPKM (Reads Per Kilobase of transcript per Million mapped reads).\n",
        "\n",
        "- We will define two classes:\n",
        " - ❌ No-expression (`RPKM = 0`) ➡️ Label 0\n",
        " - ✅ High-expression (`RPKM > 50`) ➡️ Label 1\n",
        "\n",
        "This classification task helps train **ChromBERT** to recognize chromatin patterns associated with highly expressed genes.\n",
        "\n",
        "<br>"
      ]
    },
    {
      "cell_type": "markdown",
      "metadata": {
        "id": "dGEz1J1udP8m"
      },
      "source": [
        "💡**Check This!**\n",
        "\n",
        "The ROADMAP project provides **RNA-seq data** for only **57 different cell types**, meaning that gene expression information (RPKM values) is available for this limited set of cell types.\n",
        "\n",
        "To check which cell types are included, you can download and open the file `EG.name.txt`, which contains the list of available cell names."
      ]
    },
    {
      "cell_type": "code",
      "execution_count": 17,
      "metadata": {
        "colab": {
          "base_uri": "https://localhost:8080/"
        },
        "collapsed": true,
        "id": "IHnhHjp9dPS_",
        "outputId": "5da212c6-046f-4bbe-85d8-43921db6b3e8"
      },
      "outputs": [
        {
          "output_type": "stream",
          "name": "stdout",
          "text": [
            "--2025-05-16 08:49:45--  https://raw.githubusercontent.com/caocao0525/ChromBERT/chrombert-py311-extended/colab/colab_data/test_files/EG.name.txt\n",
            "Resolving raw.githubusercontent.com (raw.githubusercontent.com)... 185.199.108.133, 185.199.109.133, 185.199.110.133, ...\n",
            "Connecting to raw.githubusercontent.com (raw.githubusercontent.com)|185.199.108.133|:443... connected.\n",
            "HTTP request sent, awaiting response... 200 OK\n",
            "Length: 1529 (1.5K) [text/plain]\n",
            "Saving to: ‘EG.name.txt’\n",
            "\n",
            "EG.name.txt         100%[===================>]   1.49K  --.-KB/s    in 0s      \n",
            "\n",
            "2025-05-16 08:49:45 (23.5 MB/s) - ‘EG.name.txt’ saved [1529/1529]\n",
            "\n"
          ]
        }
      ],
      "source": [
        "# Download 'EG.name.txt'\n",
        "!wget https://raw.githubusercontent.com/caocao0525/ChromBERT/chrombert-py311-extended/colab/colab_data/test_files/EG.name.txt"
      ]
    },
    {
      "cell_type": "code",
      "execution_count": 18,
      "metadata": {
        "colab": {
          "base_uri": "https://localhost:8080/"
        },
        "id": "Xz19XS4ud1tl",
        "outputId": "d4f5b443-cf63-4f08-98a4-aeeaf590bd31"
      },
      "outputs": [
        {
          "output_type": "stream",
          "name": "stdout",
          "text": [
            "E003\tH1_Cell_Line\n",
            "E004\tH1_BMP4_Derived_Mesendoderm_Cultured_Cells\n",
            "E005\tH1_BMP4_Derived_Trophoblast_Cultured_Cells\n",
            "E006\tH1_Derived_Mesenchymal_Stem_Cells\n",
            "E007\tH1_Derived_Neuronal_Progenitor_Cultured_Cells\n",
            "E011\thESC_Derived_CD184+_Endoderm_Cultured_Cells\n",
            "E012\thESC_Derived_CD56+_Ectoderm_Cultured_Cells\n",
            "E013\thESC_Derived_CD56+_Mesoderm_Cultured_Cells\n",
            "E016\tHUES64_Cell_Line\n",
            "E024\t4star\n",
            "E027\tBreast_Myoepithelial_Cells\n",
            "E028\tBreast_vHMEC\n",
            "E037\tCD4_Memory_Primary_Cells\n",
            "E038\tCD4_Naive_Primary_Cells\n",
            "E047\tCD8_Naive_Primary_Cells\n",
            "E050\tMobilized_CD34_Primary_Cells_Female\n",
            "E053\tNeurosphere_Cultured_Cells_Cortex_Derived\n",
            "E054\tNeurosphere_Cultured_Cells_Ganglionic_Eminence_Derived\n",
            "E055\tPenis_Foreskin_Fibroblast_Primary_Cells_skin01\n",
            "E056\tPenis_Foreskin_Fibroblast_Primary_Cells_skin02\n",
            "E057\tPenis_Foreskin_Keratinocyte_Primary_Cells_skin02\n",
            "E058\tPenis_Foreskin_Keratinocyte_Primary_Cells_skin03\n",
            "E059\tPenis_Foreskin_Melanocyte_Primary_Cells_skin01\n",
            "E061\tPenis_Foreskin_Melanocyte_Primary_Cells_skin03\n",
            "E062\tPeripheral_Blood_Mononuclear_Primary_Cells\n",
            "E065\tAorta\n",
            "E066\tAdult_Liver\n",
            "E070\tBrain_Germinal_Matrix\n",
            "E071\tBrain_Hippocampus_Middle\n",
            "E079\tEsophagus\n",
            "E082\tFetal_Brain_Female\n",
            "E084\tFetal_Intestine_Large\n",
            "E085\tFetal_Intestine_Small\n",
            "E087\tPancreatic_Islets\n",
            "E094\tGastric\n",
            "E095\tLeft_Ventricle\n",
            "E096\tLung\n",
            "E097\tOvary\n",
            "E098\tPancreas\n",
            "E100\tPsoas_Muscle\n",
            "E104\tRight_Atrium\n",
            "E105\tRight_Ventricle\n",
            "E106\tSigmoid_Colon\n",
            "E109\tSmall_Intestine\n",
            "E112\tThymus\n",
            "E113\tSpleen\n",
            "E114\tA549\n",
            "E116\tGM12878\n",
            "E117\tHELA\n",
            "E118\tHEPG2\n",
            "E119\tHMEC\n",
            "E120\tHSMM\n",
            "E122\tHUVEC\n",
            "E123\tK562\n",
            "E127\tNHEK\n",
            "E128\tNHLF\n",
            "\t\n"
          ]
        }
      ],
      "source": [
        "!cat /content/EG.name.txt"
      ]
    },
    {
      "cell_type": "markdown",
      "metadata": {
        "id": "TdfggLX0wggy"
      },
      "source": [
        "<br>\n",
        "\n",
        "## Download Required Files\n",
        "\n",
        "To fine-tune our model for classifying promoter regions linked to ✅ **highly-expressed** genes (e.g. `RPKM > 50`) and ❌ **not-expressed** (e.g. `RPKM = 0`), we first need to prepare labeled data. This requires the following files:\n",
        "\n",
        "1. 📊 RPKM Matrix (`57epigenomes.RPKM.pc.tsv`)\n",
        "  - Contains gene expression levels (RPKM values) for different cell types.\n",
        "\n",
        "<br>\n",
        "\n"
      ]
    },
    {
      "cell_type": "code",
      "execution_count": 19,
      "metadata": {
        "colab": {
          "base_uri": "https://localhost:8080/"
        },
        "collapsed": true,
        "id": "NDqaViGiA_ri",
        "outputId": "612492fb-4a30-46f5-bad2-d2778a38d252"
      },
      "outputs": [
        {
          "output_type": "stream",
          "name": "stdout",
          "text": [
            "--2025-05-16 08:49:54--  https://raw.githubusercontent.com/caocao0525/ChromBERT/chrombert-py311-extended/colab/colab_data/test_files/57epigenomes.RPKM.pc.tsv\n",
            "Resolving raw.githubusercontent.com (raw.githubusercontent.com)... 185.199.108.133, 185.199.109.133, 185.199.110.133, ...\n",
            "Connecting to raw.githubusercontent.com (raw.githubusercontent.com)|185.199.108.133|:443... connected.\n",
            "HTTP request sent, awaiting response... 200 OK\n",
            "Length: 7481493 (7.1M) [text/plain]\n",
            "Saving to: ‘57epigenomes.RPKM.pc.tsv’\n",
            "\n",
            "57epigenomes.RPKM.p 100%[===================>]   7.13M  --.-KB/s    in 0.1s    \n",
            "\n",
            "2025-05-16 08:49:54 (74.9 MB/s) - ‘57epigenomes.RPKM.pc.tsv’ saved [7481493/7481493]\n",
            "\n"
          ]
        }
      ],
      "source": [
        "# Download '57epigenomes.RPKM.pc.tsv'\n",
        "!wget https://raw.githubusercontent.com/caocao0525/ChromBERT/chrombert-py311-extended/colab/colab_data/test_files/57epigenomes.RPKM.pc.tsv"
      ]
    },
    {
      "cell_type": "code",
      "execution_count": 20,
      "metadata": {
        "colab": {
          "base_uri": "https://localhost:8080/"
        },
        "id": "SOWwGuyugf7L",
        "outputId": "5f629705-23f2-4446-c394-d415a62d9fd6"
      },
      "outputs": [
        {
          "output_type": "stream",
          "name": "stdout",
          "text": [
            "gene_id\tE000\tE003\tE004\tE005\tE006\tE007\tE011\tE012\tE013\tE016\tE024\tE027\tE028\tE037\tE038\tE047\tE050\tE053\tE054\tE055\tE056\tE057\tE058\tE059\tE061\tE062\tE065\tE066\tE070\tE071\tE079\tE082\tE084\tE085\tE087\tE094\tE095\tE096\tE097\tE098\tE100\tE104\tE105\tE106\tE109\tE112\tE113\tE114\tE116\tE117\tE118\tE119\tE120\tE122\tE123\tE127\tE128\n",
            "ENSG00000000003\t23.265\t43.985\t37.413\t29.459\t21.864\t55.649\t52.940\t71.629\t61.292\t44.280\t63.184\t7.490\t8.541\t0.576\t1.393\t1.235\t5.544\t15.933\t27.150\t6.433\t3.812\t6.257\t10.151\t8.898\t14.658\t0.298\t5.605\t73.205\t20.954\t7.645\t35.083\t6.265\t53.039\t64.971\t9.594\t14.460\t3.122\t13.463\t54.677\t13.735\t2.435\t8.833\t4.494\t36.012\t19.252\t11.928\t5.637\t37.989\t0.038\t42.639\t49.983\t11.554\t11.847\t43.723\t0.267\t13.758\t15.818\t\n",
            "ENSG00000000005\t0.872\t1.642\t6.498\t0.000\t0.157\t0.003\t0.115\t0.087\t0.055\t1.577\t0.726\t0.000\t0.000\t0.000\t0.000\t0.029\t0.000\t0.051\t0.070\t0.000\t0.000\t0.000\t0.000\t0.000\t0.006\t0.000\t0.000\t0.191\t0.000\t0.018\t0.251\t0.000\t0.566\t0.336\t0.030\t0.000\t0.070\t0.000\t10.670\t0.424\t0.032\t0.524\t0.092\t0.205\t0.134\t0.678\t0.121\t0.000\t0.000\t0.000\t0.000\t0.000\t0.018\t0.000\t0.006\t0.000\t0.000\t\n",
            "ENSG00000000419\t55.208\t35.259\t58.308\t48.208\t37.477\t45.923\t44.959\t40.438\t41.970\t51.515\t35.129\t63.304\t47.743\t45.394\t47.041\t38.384\t37.351\t11.078\t12.225\t27.126\t21.572\t28.648\t44.444\t13.179\t22.421\t28.648\t52.753\t52.609\t15.701\t21.769\t26.467\t7.879\t29.927\t30.095\t32.469\t56.167\t32.202\t26.051\t42.731\t19.683\t67.684\t46.172\t33.687\t39.226\t47.562\t61.359\t54.866\t52.215\t79.197\t107.098\t62.811\t42.386\t54.869\t16.652\t73.719\t56.578\t56.371\t\n",
            "ENSG00000000457\t3.237\t2.596\t2.345\t8.775\t2.723\t3.700\t3.912\t5.011\t4.158\t3.292\t3.160\t3.683\t2.532\t7.409\t8.577\t7.853\t17.602\t3.295\t4.301\t3.706\t1.523\t1.602\t3.933\t1.877\t4.641\t5.433\t3.417\t4.733\t3.349\t2.222\t5.325\t2.977\t8.497\t9.679\t5.593\t5.731\t2.622\t3.907\t7.649\t5.455\t10.873\t2.529\t2.811\t6.044\t4.526\t8.791\t5.484\t4.829\t11.082\t8.814\t2.646\t2.483\t2.527\t2.549\t7.651\t4.967\t3.714\t\n",
            "ENSG00000000460\t7.299\t6.649\t7.838\t7.324\t0.830\t5.354\t5.940\t5.704\t6.213\t7.551\t7.705\t1.040\t1.213\t3.459\t3.813\t3.424\t6.910\t3.855\t4.401\t2.896\t3.246\t3.310\t6.491\t2.782\t2.799\t2.292\t1.137\t0.942\t4.716\t1.120\t1.487\t1.611\t3.408\t3.580\t0.806\t1.250\t0.470\t1.134\t1.690\t1.126\t0.518\t0.717\t0.694\t1.893\t1.952\t3.137\t1.631\t8.001\t13.743\t25.369\t3.373\t4.646\t2.179\t4.099\t22.103\t3.290\t2.491\t\n",
            "ENSG00000000938\t0.052\t0.211\t0.059\t0.009\t0.012\t0.013\t0.012\t0.012\t0.013\t0.094\t0.135\t3.153\t0.447\t3.815\t3.211\t8.146\t5.088\t0.056\t0.011\t0.016\t0.009\t0.010\t0.003\t0.000\t0.015\t220.329\t12.977\t4.572\t0.544\t6.421\t5.390\t0.443\t1.488\t0.787\t1.748\t10.879\t3.646\t91.639\t3.179\t4.080\t1.168\t2.428\t4.935\t8.702\t9.252\t26.992\t77.711\t0.003\t98.303\t0.016\t0.008\t0.052\t0.001\t0.137\t0.016\t0.047\t0.000\t\n",
            "ENSG00000000971\t3.000\t0.000\t0.003\t0.009\t41.909\t0.002\t0.011\t0.018\t0.121\t0.004\t0.002\t0.448\t0.268\t4.674\t0.148\t0.538\t15.838\t0.000\t0.000\t1.931\t0.766\t0.020\t0.058\t0.397\t0.164\t1.414\t38.900\t566.609\t0.544\t8.279\t59.786\t0.198\t4.428\t2.362\t5.455\t11.680\t5.925\t13.383\t143.061\t2.264\t7.393\t56.378\t14.760\t11.687\t21.540\t10.673\t4.086\t26.622\t0.002\t124.801\t0.007\t0.419\t39.724\t8.464\t41.504\t1.348\t32.725\t\n",
            "ENSG00000001036\t58.371\t49.337\t25.066\t25.679\t86.255\t21.922\t33.225\t22.268\t37.503\t35.061\t46.317\t3.177\t10.108\t4.437\t3.315\t3.084\t17.086\t29.602\t24.595\t45.053\t47.230\t13.892\t21.126\t29.155\t43.029\t12.815\t23.684\t43.631\t9.694\t12.456\t20.230\t4.320\t71.468\t105.662\t46.359\t35.581\t33.092\t32.312\t35.341\t24.756\t9.493\t23.452\t41.298\t41.846\t51.012\t11.514\t17.117\t40.334\t18.191\t53.641\t74.928\t12.045\t45.419\t27.254\t59.833\t11.164\t82.445\t\n",
            "ENSG00000001084\t7.077\t6.966\t10.110\t4.609\t5.870\t6.440\t5.431\t6.838\t3.018\t9.897\t6.480\t8.282\t37.643\t5.002\t4.517\t5.849\t11.592\t2.875\t3.332\t2.108\t1.161\t4.488\t13.698\t2.521\t6.308\t5.601\t5.399\t25.767\t1.740\t7.165\t8.593\t1.715\t13.653\t17.715\t6.526\t11.021\t3.926\t7.957\t4.189\t4.403\t5.083\t4.207\t3.759\t6.183\t12.005\t8.048\t16.529\t46.023\t4.571\t10.435\t10.065\t18.571\t1.547\t2.588\t2.750\t22.945\t5.273\t\n"
          ]
        }
      ],
      "source": [
        "!head 57epigenomes.RPKM.pc.tsv"
      ]
    },
    {
      "cell_type": "markdown",
      "metadata": {
        "id": "OwLV3FwTIY_7"
      },
      "source": [
        "<br>\n",
        "\n",
        "2. 🏷️ Gene Annotation File (`chr.gene.refFlat`)\n",
        "  - Provides gene locations and structure, including transcription start sites (TSS).\n",
        "\n",
        "  - Essential for mapping genes from the RPKM matrix and extracting promoter regions.\n",
        "  \n",
        "  - Ensures that only genes present in both the RPKM matrix and this file are used for classification.\n",
        "\n",
        "<br>"
      ]
    },
    {
      "cell_type": "code",
      "execution_count": 21,
      "metadata": {
        "colab": {
          "base_uri": "https://localhost:8080/"
        },
        "collapsed": true,
        "id": "bKjEtlargre3",
        "outputId": "c5b46081-84da-443f-c955-c20818bb9582"
      },
      "outputs": [
        {
          "output_type": "stream",
          "name": "stdout",
          "text": [
            "--2025-05-16 08:50:00--  https://raw.githubusercontent.com/caocao0525/ChromBERT/chrombert-py311-extended/colab/colab_data/test_files/chr.gene.refFlat\n",
            "Resolving raw.githubusercontent.com (raw.githubusercontent.com)... 185.199.108.133, 185.199.109.133, 185.199.110.133, ...\n",
            "Connecting to raw.githubusercontent.com (raw.githubusercontent.com)|185.199.108.133|:443... connected.\n",
            "HTTP request sent, awaiting response... 200 OK\n",
            "Length: 12593058 (12M) [text/plain]\n",
            "Saving to: ‘chr.gene.refFlat’\n",
            "\n",
            "chr.gene.refFlat    100%[===================>]  12.01M  --.-KB/s    in 0.1s    \n",
            "\n",
            "2025-05-16 08:50:00 (109 MB/s) - ‘chr.gene.refFlat’ saved [12593058/12593058]\n",
            "\n"
          ]
        }
      ],
      "source": [
        "# Download 'chr.gene.refFlat'\n",
        "!wget https://raw.githubusercontent.com/caocao0525/ChromBERT/chrombert-py311-extended/colab/colab_data/test_files/chr.gene.refFlat"
      ]
    },
    {
      "cell_type": "code",
      "execution_count": 22,
      "metadata": {
        "colab": {
          "base_uri": "https://localhost:8080/"
        },
        "id": "YJgOIJaeg-fv",
        "outputId": "888ba9ac-7527-488c-d3e0-01a0e04e0bed"
      },
      "outputs": [
        {
          "output_type": "stream",
          "name": "stdout",
          "text": [
            "#geneName\tname\tchrom\tstrand\ttxStart\ttxEnd\tcdsStart\tcdsEnd\texonCount\texonStarts\texonEnds\tgene type\ttranscript type\treference transcript name\treference transcript id\n",
            "RP11-216P16.6\tENSG00000223538\tchr12\t+\t121545022\t121545293\t121545022\t121545293\t1\t121545022,\t121545293,\tpseudogene\tprocessed_pseudogene\tRP11-216P16.6-001\tENST00000412750\n",
            "RP11-216P16.2\tENSG00000271769\tchr12\t-\t121438288\t121439071\t121438288\t121439071\t1\t121438288,\t121439071,\tantisense\tantisense\tRP11-216P16.2-001\tENST00000606238\n",
            "AC079602.1\tENSG00000272214\tchr12\t-\t121407640\t121410095\t121409318\t121409723\t1\t121407640,\t121410095,\tprotein_coding\tprotein_coding\tAC079602.1-201\tENST00000539163\n",
            "RPL12P33\tENSG00000244585\tchr12\t+\t121354547\t121355039\t121354547\t121355039\t1\t121354547,\t121355039,\tpseudogene\tprocessed_pseudogene\tRPL12P33-001\tENST00000485633\n",
            "RP11-173P15.7\tENSG00000255946\tchr12\t-\t121178272\t121199395\t121178272\t121199395\t3\t121178272,121179014,121199193,\t121178346,121179321,121199395,\tantisense\tantisense\tRP11-173P15.7-001\tENST00000542620\n",
            "ACADS\tENSG00000122971\tchr12\t+\t121163537\t121177811\t121163688\t121177251\t10\t121163537,121164828,121174788,121175158,121175639,121176082,121176335,121176622,121176942,121177098,\t121163734,121164992,121174938,121175270,121175791,121176253,121176473,121176718,121176999,121177811,\tprotein_coding\tprotein_coding\tACADS-001\tENST00000242592\n",
            "MIR4700\tENSG00000265455\tchr12\t+\t121160995\t121161069\t121160995\t121161069\t1\t121160995,\t121161069,\tmiRNA\tmiRNA\tMIR4700-201\tENST00000578311\n",
            "MANSC4\tENSG00000205693\tchr12\t-\t27915670\t27924209\t27915670\t27924209\t3\t27915670,27919597,27923980,\t27916329,27919732,27924209,\tprotein_coding\tprotein_coding\tMANSC4-001\tENST00000381273\n",
            "RP11-349K16.1\tENSG00000256643\tchr12\t-\t128508332\t128511711\t128508332\t128511711\t3\t128508332,128510403,128511535,\t128508367,128510744,128511711,\tlincRNA\tlincRNA\tRP11-349K16.1-001\tENST00000543651\n"
          ]
        }
      ],
      "source": [
        "!head chr.gene.refFlat"
      ]
    },
    {
      "cell_type": "markdown",
      "metadata": {
        "id": "OJSW9j1GIZG0"
      },
      "source": [
        "<br>\n",
        "\n",
        "3. 📝 Classification Script (`classifygenes_ROADMAP_RPKM_colab.py`)\n",
        "   - Processes the RPKM matrix and gene annotation file to label genes as:\n",
        "\n",
        "    - ✅ Highly-expressed (high RPKM)\n",
        "    - ❌ Not-expressed (zero RPKM)\n",
        "    \n",
        "\n",
        "<br>"
      ]
    },
    {
      "cell_type": "code",
      "execution_count": 23,
      "metadata": {
        "colab": {
          "base_uri": "https://localhost:8080/"
        },
        "collapsed": true,
        "id": "MLzEKVq1oQkm",
        "outputId": "562fd836-4232-4251-a517-d9e3bbc1e089"
      },
      "outputs": [
        {
          "output_type": "stream",
          "name": "stdout",
          "text": [
            "--2025-05-16 08:50:04--  https://raw.githubusercontent.com/caocao0525/ChromBERT/chrombert-py311-extended/colab/colab_data/test_files/classifygenes_ROADMAP_RPKM_colab.py\n",
            "Resolving raw.githubusercontent.com (raw.githubusercontent.com)... 185.199.108.133, 185.199.109.133, 185.199.110.133, ...\n",
            "Connecting to raw.githubusercontent.com (raw.githubusercontent.com)|185.199.108.133|:443... connected.\n",
            "HTTP request sent, awaiting response... 200 OK\n",
            "Length: 2466 (2.4K) [text/plain]\n",
            "Saving to: ‘classifygenes_ROADMAP_RPKM_colab.py’\n",
            "\n",
            "\r          classifyg   0%[                    ]       0  --.-KB/s               \rclassifygenes_ROADM 100%[===================>]   2.41K  --.-KB/s    in 0s      \n",
            "\n",
            "2025-05-16 08:50:04 (33.9 MB/s) - ‘classifygenes_ROADMAP_RPKM_colab.py’ saved [2466/2466]\n",
            "\n"
          ]
        }
      ],
      "source": [
        "# Download 'classifygenes_ROADMAP_RPKM_colab.py'\n",
        "!wget https://raw.githubusercontent.com/caocao0525/ChromBERT/chrombert-py311-extended/colab/colab_data/test_files/classifygenes_ROADMAP_RPKM_colab.py"
      ]
    },
    {
      "cell_type": "markdown",
      "metadata": {
        "id": "MlefkNOxiCO8"
      },
      "source": [
        "Once you have downloaded the required files, you can now classify genes based on their expression levels using the `classifygenes_ROADMAP_RPKM.py` script.\n",
        "This step is essential for identifying genes as not expressed or highly expressed, which will later be used for extracting promoter regions."
      ]
    },
    {
      "cell_type": "code",
      "execution_count": 24,
      "metadata": {
        "colab": {
          "base_uri": "https://localhost:8080/"
        },
        "id": "CynQG5fal6YY",
        "outputId": "03a099e4-5b75-444c-830d-5f6f646b8dde"
      },
      "outputs": [
        {
          "output_type": "stream",
          "name": "stdout",
          "text": [
            "Processing gene classification for cell type: E003\n",
            "Using RPKM matrix: 57epigenomes.RPKM.pc.tsv\n",
            "Using gene annotation file: chr.gene.refFlat\n",
            "Generated: gene_not_expressed.refFlat\n",
            " - Contains genes with RPKM = 0, meaning they are not expressed in this cell type.\n",
            "Generated: gene_highly_expressed.refFlat\n",
            " - Contains genes with RPKM > 50, meaning they are highly expressed in this cell type.\n",
            "Processing complete!\n"
          ]
        }
      ],
      "source": [
        "# !python classifygenes_ROADMAP_RPKM_colab.py <RPKM_matrix> <cell_id> <refFlat_file> --thre_highlyexpressed <value>\n",
        "# Customize the cell ID and RPKM threshold to define highly expressed genes.\n",
        "!python classifygenes_ROADMAP_RPKM_colab.py 57epigenomes.RPKM.pc.tsv E003 chr.gene.refFlat --thre_highlyexpressed 50"
      ]
    },
    {
      "cell_type": "markdown",
      "metadata": {
        "id": "xUkpTSMzl9Fo"
      },
      "source": [
        "\n",
        "<br>\n",
        "\n",
        "💡**Explanation of the Arguments**\n",
        "\n",
        "- `57epigenomes.RPKM.pc.tsv` ➡️ The RPKM gene expression matrix for 57 cell types.\n",
        "\n",
        "- `E003` ➡️ The cell type ID for which you want to classify genes.\n",
        "\n",
        "- `chr.gene.refFlat` ➡️ The gene annotation file in refFlat format, which provides gene locations and structure.\n",
        "\n",
        "- `--thre_highlyexpressed 50` ➡️ Defines genes with RPKM greater than 50 as highly expressed.\n",
        "\n",
        "<br>"
      ]
    },
    {
      "cell_type": "code",
      "execution_count": 25,
      "metadata": {
        "colab": {
          "base_uri": "https://localhost:8080/"
        },
        "id": "TLc97MbypoY4",
        "outputId": "1a4daa88-6792-4183-8911-610407c4a145"
      },
      "outputs": [
        {
          "output_type": "stream",
          "name": "stdout",
          "text": [
            "\t#geneName\tname\tchrom\tstrand\ttxStart\ttxEnd\tcdsStart\tcdsEnd\texonCount\texonStarts\texonEnds\tgene type\ttranscript type\treference transcript name\treference transcript id\n",
            "ENSG00000001630\tCYP51A1\tENSG00000001630\tchr7\t-\t91741464\t91763844\t91742978\t91763678\t10\t[91741464, 91746357, 91747833, 91752433, 91753047, 91755566, 91756818, 91758193, 91761087, 91763486]\t[91743157, 91746526, 91747929, 91752629, 91753167, 91755741, 91756945, 91758370, 91761186, 91763844]\tprotein_coding\tprotein_coding\tCYP51A1-001\tENST00000003100\n",
            "ENSG00000002834\tLASP1\tENSG00000002834\tchr17\t+\t37026111\t37078023\t37026442\t37075031\t7\t[37026111, 37034338, 37046672, 37054664, 37070577, 37071295, 37074857]\t[37026511, 37034433, 37046757, 37054772, 37070728, 37071399, 37078023]\tprotein_coding\tprotein_coding\tLASP1-001\tENST00000318008\n",
            "ENSG00000003056\tM6PR\tENSG00000003056\tchr12\t-\t9092960\t9102551\t9094413\t9099000\t7\t[9092960, 9095011, 9096000, 9096396, 9098013, 9098824, 9102083]\t[9094536, 9095138, 9096131, 9096506, 9098180, 9099001, 9102551]\tprotein_coding\tprotein_coding\tM6PR-001\tENST00000000412\n",
            "ENSG00000004059\tARF5\tENSG00000004059\tchr7\t+\t127228398\t127231759\t127228552\t127231353\t6\t[127228398, 127229136, 127229538, 127230119, 127231016, 127231266]\t[127228619, 127229217, 127229648, 127230191, 127231142, 127231759]\tprotein_coding\tprotein_coding\tARF5-001\tENST00000000233\n",
            "ENSG00000004478\tFKBP4\tENSG00000004478\tchr12\t+\t2904118\t2913124\t2904305\t2912424\t10\t[2904118, 2906303, 2906894, 2907871, 2908253, 2909015, 2909204, 2909557, 2910282, 2912316]\t[2904410, 2906448, 2907037, 2907992, 2908410, 2909106, 2909288, 2909743, 2910522, 2913124]\tprotein_coding\tprotein_coding\tFKBP4-001\tENST00000001008\n",
            "ENSG00000004487\tKDM1A\tENSG00000004487\tchr1\t+\t23345940\t23410182\t23346089\t23409857\t19\t[23345940, 23356961, 23376879, 23380253, 23381561, 23382424, 23383976, 23385565, 23395031, 23395553, 23397717, 23398616, 23399784, 23403720, 23405482, 23406045, 23407938, 23408712, 23409671]\t[23346440, 23357127, 23377013, 23380332, 23381654, 23382531, 23384058, 23385660, 23395174, 23395644, 23397852, 23398690, 23399896, 23403853, 23405670, 23406160, 23408066, 23408859, 23410182]\tprotein_coding\tprotein_coding\tKDM1A-001\tENST00000356634\n",
            "ENSG00000004779\tNDUFAB1\tENSG00000004779\tchr16\t-\t23592322\t23607677\t23593604\t23607611\t5\t[23592322, 23593596, 23596656, 23598517, 23607443]\t[23592494, 23593696, 23596744, 23598640, 23607677]\tprotein_coding\tprotein_coding\tNDUFAB1-001\tENST00000007516\n",
            "ENSG00000005022\tSLC25A5\tENSG00000005022\tchrX\t+\t118602362\t118605282\t118602478\t118605021\t4\t[118602362, 118603623, 118604335, 118604863]\t[118602589, 118604110, 118604476, 118605282]\tprotein_coding\tprotein_coding\tSLC25A5-001\tENST00000317881\n",
            "ENSG00000005075\tPOLR2J\tENSG00000005075\tchr7\t-\t102113564\t102119354\t102114095\t102119307\t4\t[102113564, 102114807, 102116627, 102119254]\t[102114131, 102114982, 102116717, 102119354]\tprotein_coding\tprotein_coding\tPOLR2J-001\tENST00000292614\n"
          ]
        }
      ],
      "source": [
        "# Preview the first few lines of the highly-expressed gene list\n",
        "!head /content/gene_highly_expressed.refFlat"
      ]
    },
    {
      "cell_type": "code",
      "execution_count": 26,
      "metadata": {
        "colab": {
          "base_uri": "https://localhost:8080/"
        },
        "id": "zocbI4HRpuSD",
        "outputId": "eb35b2f0-ec8f-40a5-eae3-8560b7387a04"
      },
      "outputs": [
        {
          "output_type": "stream",
          "name": "stdout",
          "text": [
            "\t#geneName\tname\tchrom\tstrand\ttxStart\ttxEnd\tcdsStart\tcdsEnd\texonCount\texonStarts\texonEnds\tgene type\ttranscript type\treference transcript name\treference transcript id\n",
            "ENSG00000000971\tCFH\tENSG00000000971\tchr1\t+\t196621007\t196716634\t196621247\t196716443\t22\t[196621007, 196642107, 196642986, 196645118, 196646605, 196648752, 196654193, 196658549, 196659192, 196682864, 196684722, 196694250, 196695599, 196695890, 196697475, 196705953, 196706604, 196709748, 196711004, 196712581, 196714946, 196716240]\t[196621305, 196642293, 196643092, 196645195, 196646797, 196648923, 196654367, 196658744, 196659369, 196683047, 196684899, 196694427, 196695782, 196696070, 196697652, 196706136, 196706790, 196709922, 196711181, 196712758, 196715129, 196716634]\tprotein_coding\tprotein_coding\tCFH-001\tENST00000367429\n",
            "ENSG00000005073\tHOXA11\tENSG00000005073\tchr7\t-\t27221133\t27224835\t27222414\t27224763\t2\t[27221133, 27224054]\t[27222647, 27224835]\tprotein_coding\tprotein_coding\tHOXA11-001\tENST00000006015\n",
            "ENSG00000006059\tKRT33A\tENSG00000006059\tchr17\t-\t39502343\t39507064\t39502370\t39507019\t7\t[39502343, 39502699, 39503095, 39503312, 39504734, 39505597, 39506671]\t[39502488, 39502920, 39503221, 39503474, 39504891, 39505680, 39507064]\tprotein_coding\tprotein_coding\tKRT33A-001\tENST00000007735\n",
            "ENSG00000006074\tCCL18\tENSG00000006074\tchr17\t+\t34391639\t34399392\t34391702\t34398401\t3\t[34391639, 34397806, 34398310]\t[34391769, 34397918, 34399392]\tprotein_coding\tprotein_coding\tCCL18-001\tENST00000004921\n",
            "ENSG00000006075\tCCL3\tENSG00000006075\tchr17\t-\t34415601\t34417515\t34415601\t34417515\t2\t[34415601, 34416528]\t[34416108, 34417515]\tprotein_coding\tretained_intron\tCCL3-002\tENST00000470334\n",
            "ENSG00000007001\tUPP2\tENSG00000007001\tchr2\t+\t158733213\t158992666\t158851710\t158991402\t10\t[158733213, 158851691, 158872312, 158958551, 158962610, 158971612, 158974335, 158977920, 158980260, 158991259]\t[158733240, 158851771, 158872398, 158958637, 158962728, 158971771, 158974450, 158978130, 158980407, 158992666]\tprotein_coding\tprotein_coding\tUPP2-002\tENST00000605860\n",
            "ENSG00000007216\tSLC13A2\tENSG00000007216\tchr17\t+\t26800310\t26824799\t26800730\t26824287\t12\t[26800310, 26816231, 26817471, 26817718, 26818454, 26818747, 26820588, 26821034, 26821408, 26822672, 26823467, 26824116]\t[26800832, 26816360, 26817608, 26817924, 26818635, 26818870, 26820807, 26821123, 26821530, 26822834, 26823605, 26824799]\tprotein_coding\tprotein_coding\tSLC13A2-001\tENST00000314669\n",
            "ENSG00000007306\tCEACAM7\tENSG00000007306\tchr19\t-\t42177234\t42192296\t42181339\t42192094\t5\t[42177234, 42181303, 42187715, 42190789, 42192030]\t[42178687, 42181431, 42187994, 42191152, 42192296]\tprotein_coding\tprotein_coding\tCEACAM7-001\tENST00000006724\n",
            "ENSG00000007908\tSELE\tENSG00000007908\tchr1\t-\t169691781\t169703203\t169694884\t169702753\t14\t[169691781, 169694869, 169695047, 169695839, 169696489, 169696879, 169697198, 169698326, 169698628, 169699572, 169700975, 169701755, 169702716, 169703111]\t[169693650, 169694942, 169695069, 169695947, 169696666, 169697068, 169697387, 169698515, 169698814, 169699758, 169701083, 169702139, 169702801, 169703203]\tprotein_coding\tprotein_coding\tSELE-001\tENST00000333360\n"
          ]
        }
      ],
      "source": [
        "# Preview the first few lines of the not-expressed gene list\n",
        "!head /content/gene_not_expressed.refFlat"
      ]
    },
    {
      "cell_type": "markdown",
      "metadata": {
        "id": "H3p0MNhOxzNq"
      },
      "source": [
        "<br>\n",
        "\n",
        "Now let's create a simple table to sort gene locations using `Gexp_Gene2GLChr`. This function processes a `.refFlat` file, removes overlapping genes, and sorts them based on their transcription start sites (`TxStart`) for each chromosome.\n",
        "\n",
        "This ensures a clean, non-redundant gene list, making it easier to analyze genomic regions such as promoters and transcription start sites (`TSS`).\n",
        "\n"
      ]
    },
    {
      "cell_type": "code",
      "execution_count": 27,
      "metadata": {
        "colab": {
          "base_uri": "https://localhost:8080/"
        },
        "id": "dI62yfm2r9gh",
        "outputId": "fb5f2ac7-98b9-4ff4-e951-b6123d24380f"
      },
      "outputs": [
        {
          "output_type": "stream",
          "name": "stdout",
          "text": [
            "Extracting the gene file ...\n",
            "Done!\n"
          ]
        }
      ],
      "source": [
        "gene_table_highly_expressed=crb.Gexp_Gene2GLChr(exp_gene_file='/content/gene_highly_expressed.refFlat')"
      ]
    },
    {
      "cell_type": "code",
      "execution_count": 28,
      "metadata": {
        "colab": {
          "base_uri": "https://localhost:8080/",
          "height": 204
        },
        "id": "9z1RWvjdsPra",
        "outputId": "8d7de00f-d89f-4fd0-b59b-ca4b2cc73d65"
      },
      "outputs": [
        {
          "output_type": "execute_result",
          "data": {
            "text/plain": [
              "   TxStart    TxEnd\n",
              "0   955502   991496\n",
              "1  1716728  1822495\n",
              "2  6281252  6296000\n",
              "3  8021751  8045565\n",
              "4  8921060  8938749"
            ],
            "text/html": [
              "\n",
              "  <div id=\"df-60f71e69-da82-4c13-85d2-b54d813e43f6\" class=\"colab-df-container\">\n",
              "    <div>\n",
              "<style scoped>\n",
              "    .dataframe tbody tr th:only-of-type {\n",
              "        vertical-align: middle;\n",
              "    }\n",
              "\n",
              "    .dataframe tbody tr th {\n",
              "        vertical-align: top;\n",
              "    }\n",
              "\n",
              "    .dataframe thead th {\n",
              "        text-align: right;\n",
              "    }\n",
              "</style>\n",
              "<table border=\"1\" class=\"dataframe\">\n",
              "  <thead>\n",
              "    <tr style=\"text-align: right;\">\n",
              "      <th></th>\n",
              "      <th>TxStart</th>\n",
              "      <th>TxEnd</th>\n",
              "    </tr>\n",
              "  </thead>\n",
              "  <tbody>\n",
              "    <tr>\n",
              "      <th>0</th>\n",
              "      <td>955502</td>\n",
              "      <td>991496</td>\n",
              "    </tr>\n",
              "    <tr>\n",
              "      <th>1</th>\n",
              "      <td>1716728</td>\n",
              "      <td>1822495</td>\n",
              "    </tr>\n",
              "    <tr>\n",
              "      <th>2</th>\n",
              "      <td>6281252</td>\n",
              "      <td>6296000</td>\n",
              "    </tr>\n",
              "    <tr>\n",
              "      <th>3</th>\n",
              "      <td>8021751</td>\n",
              "      <td>8045565</td>\n",
              "    </tr>\n",
              "    <tr>\n",
              "      <th>4</th>\n",
              "      <td>8921060</td>\n",
              "      <td>8938749</td>\n",
              "    </tr>\n",
              "  </tbody>\n",
              "</table>\n",
              "</div>\n",
              "    <div class=\"colab-df-buttons\">\n",
              "\n",
              "  <div class=\"colab-df-container\">\n",
              "    <button class=\"colab-df-convert\" onclick=\"convertToInteractive('df-60f71e69-da82-4c13-85d2-b54d813e43f6')\"\n",
              "            title=\"Convert this dataframe to an interactive table.\"\n",
              "            style=\"display:none;\">\n",
              "\n",
              "  <svg xmlns=\"http://www.w3.org/2000/svg\" height=\"24px\" viewBox=\"0 -960 960 960\">\n",
              "    <path d=\"M120-120v-720h720v720H120Zm60-500h600v-160H180v160Zm220 220h160v-160H400v160Zm0 220h160v-160H400v160ZM180-400h160v-160H180v160Zm440 0h160v-160H620v160ZM180-180h160v-160H180v160Zm440 0h160v-160H620v160Z\"/>\n",
              "  </svg>\n",
              "    </button>\n",
              "\n",
              "  <style>\n",
              "    .colab-df-container {\n",
              "      display:flex;\n",
              "      gap: 12px;\n",
              "    }\n",
              "\n",
              "    .colab-df-convert {\n",
              "      background-color: #E8F0FE;\n",
              "      border: none;\n",
              "      border-radius: 50%;\n",
              "      cursor: pointer;\n",
              "      display: none;\n",
              "      fill: #1967D2;\n",
              "      height: 32px;\n",
              "      padding: 0 0 0 0;\n",
              "      width: 32px;\n",
              "    }\n",
              "\n",
              "    .colab-df-convert:hover {\n",
              "      background-color: #E2EBFA;\n",
              "      box-shadow: 0px 1px 2px rgba(60, 64, 67, 0.3), 0px 1px 3px 1px rgba(60, 64, 67, 0.15);\n",
              "      fill: #174EA6;\n",
              "    }\n",
              "\n",
              "    .colab-df-buttons div {\n",
              "      margin-bottom: 4px;\n",
              "    }\n",
              "\n",
              "    [theme=dark] .colab-df-convert {\n",
              "      background-color: #3B4455;\n",
              "      fill: #D2E3FC;\n",
              "    }\n",
              "\n",
              "    [theme=dark] .colab-df-convert:hover {\n",
              "      background-color: #434B5C;\n",
              "      box-shadow: 0px 1px 3px 1px rgba(0, 0, 0, 0.15);\n",
              "      filter: drop-shadow(0px 1px 2px rgba(0, 0, 0, 0.3));\n",
              "      fill: #FFFFFF;\n",
              "    }\n",
              "  </style>\n",
              "\n",
              "    <script>\n",
              "      const buttonEl =\n",
              "        document.querySelector('#df-60f71e69-da82-4c13-85d2-b54d813e43f6 button.colab-df-convert');\n",
              "      buttonEl.style.display =\n",
              "        google.colab.kernel.accessAllowed ? 'block' : 'none';\n",
              "\n",
              "      async function convertToInteractive(key) {\n",
              "        const element = document.querySelector('#df-60f71e69-da82-4c13-85d2-b54d813e43f6');\n",
              "        const dataTable =\n",
              "          await google.colab.kernel.invokeFunction('convertToInteractive',\n",
              "                                                    [key], {});\n",
              "        if (!dataTable) return;\n",
              "\n",
              "        const docLinkHtml = 'Like what you see? Visit the ' +\n",
              "          '<a target=\"_blank\" href=https://colab.research.google.com/notebooks/data_table.ipynb>data table notebook</a>'\n",
              "          + ' to learn more about interactive tables.';\n",
              "        element.innerHTML = '';\n",
              "        dataTable['output_type'] = 'display_data';\n",
              "        await google.colab.output.renderOutput(dataTable, element);\n",
              "        const docLink = document.createElement('div');\n",
              "        docLink.innerHTML = docLinkHtml;\n",
              "        element.appendChild(docLink);\n",
              "      }\n",
              "    </script>\n",
              "  </div>\n",
              "\n",
              "\n",
              "    <div id=\"df-943ceb10-b07b-4531-8c4b-1efdd5977011\">\n",
              "      <button class=\"colab-df-quickchart\" onclick=\"quickchart('df-943ceb10-b07b-4531-8c4b-1efdd5977011')\"\n",
              "                title=\"Suggest charts\"\n",
              "                style=\"display:none;\">\n",
              "\n",
              "<svg xmlns=\"http://www.w3.org/2000/svg\" height=\"24px\"viewBox=\"0 0 24 24\"\n",
              "     width=\"24px\">\n",
              "    <g>\n",
              "        <path d=\"M19 3H5c-1.1 0-2 .9-2 2v14c0 1.1.9 2 2 2h14c1.1 0 2-.9 2-2V5c0-1.1-.9-2-2-2zM9 17H7v-7h2v7zm4 0h-2V7h2v10zm4 0h-2v-4h2v4z\"/>\n",
              "    </g>\n",
              "</svg>\n",
              "      </button>\n",
              "\n",
              "<style>\n",
              "  .colab-df-quickchart {\n",
              "      --bg-color: #E8F0FE;\n",
              "      --fill-color: #1967D2;\n",
              "      --hover-bg-color: #E2EBFA;\n",
              "      --hover-fill-color: #174EA6;\n",
              "      --disabled-fill-color: #AAA;\n",
              "      --disabled-bg-color: #DDD;\n",
              "  }\n",
              "\n",
              "  [theme=dark] .colab-df-quickchart {\n",
              "      --bg-color: #3B4455;\n",
              "      --fill-color: #D2E3FC;\n",
              "      --hover-bg-color: #434B5C;\n",
              "      --hover-fill-color: #FFFFFF;\n",
              "      --disabled-bg-color: #3B4455;\n",
              "      --disabled-fill-color: #666;\n",
              "  }\n",
              "\n",
              "  .colab-df-quickchart {\n",
              "    background-color: var(--bg-color);\n",
              "    border: none;\n",
              "    border-radius: 50%;\n",
              "    cursor: pointer;\n",
              "    display: none;\n",
              "    fill: var(--fill-color);\n",
              "    height: 32px;\n",
              "    padding: 0;\n",
              "    width: 32px;\n",
              "  }\n",
              "\n",
              "  .colab-df-quickchart:hover {\n",
              "    background-color: var(--hover-bg-color);\n",
              "    box-shadow: 0 1px 2px rgba(60, 64, 67, 0.3), 0 1px 3px 1px rgba(60, 64, 67, 0.15);\n",
              "    fill: var(--button-hover-fill-color);\n",
              "  }\n",
              "\n",
              "  .colab-df-quickchart-complete:disabled,\n",
              "  .colab-df-quickchart-complete:disabled:hover {\n",
              "    background-color: var(--disabled-bg-color);\n",
              "    fill: var(--disabled-fill-color);\n",
              "    box-shadow: none;\n",
              "  }\n",
              "\n",
              "  .colab-df-spinner {\n",
              "    border: 2px solid var(--fill-color);\n",
              "    border-color: transparent;\n",
              "    border-bottom-color: var(--fill-color);\n",
              "    animation:\n",
              "      spin 1s steps(1) infinite;\n",
              "  }\n",
              "\n",
              "  @keyframes spin {\n",
              "    0% {\n",
              "      border-color: transparent;\n",
              "      border-bottom-color: var(--fill-color);\n",
              "      border-left-color: var(--fill-color);\n",
              "    }\n",
              "    20% {\n",
              "      border-color: transparent;\n",
              "      border-left-color: var(--fill-color);\n",
              "      border-top-color: var(--fill-color);\n",
              "    }\n",
              "    30% {\n",
              "      border-color: transparent;\n",
              "      border-left-color: var(--fill-color);\n",
              "      border-top-color: var(--fill-color);\n",
              "      border-right-color: var(--fill-color);\n",
              "    }\n",
              "    40% {\n",
              "      border-color: transparent;\n",
              "      border-right-color: var(--fill-color);\n",
              "      border-top-color: var(--fill-color);\n",
              "    }\n",
              "    60% {\n",
              "      border-color: transparent;\n",
              "      border-right-color: var(--fill-color);\n",
              "    }\n",
              "    80% {\n",
              "      border-color: transparent;\n",
              "      border-right-color: var(--fill-color);\n",
              "      border-bottom-color: var(--fill-color);\n",
              "    }\n",
              "    90% {\n",
              "      border-color: transparent;\n",
              "      border-bottom-color: var(--fill-color);\n",
              "    }\n",
              "  }\n",
              "</style>\n",
              "\n",
              "      <script>\n",
              "        async function quickchart(key) {\n",
              "          const quickchartButtonEl =\n",
              "            document.querySelector('#' + key + ' button');\n",
              "          quickchartButtonEl.disabled = true;  // To prevent multiple clicks.\n",
              "          quickchartButtonEl.classList.add('colab-df-spinner');\n",
              "          try {\n",
              "            const charts = await google.colab.kernel.invokeFunction(\n",
              "                'suggestCharts', [key], {});\n",
              "          } catch (error) {\n",
              "            console.error('Error during call to suggestCharts:', error);\n",
              "          }\n",
              "          quickchartButtonEl.classList.remove('colab-df-spinner');\n",
              "          quickchartButtonEl.classList.add('colab-df-quickchart-complete');\n",
              "        }\n",
              "        (() => {\n",
              "          let quickchartButtonEl =\n",
              "            document.querySelector('#df-943ceb10-b07b-4531-8c4b-1efdd5977011 button');\n",
              "          quickchartButtonEl.style.display =\n",
              "            google.colab.kernel.accessAllowed ? 'block' : 'none';\n",
              "        })();\n",
              "      </script>\n",
              "    </div>\n",
              "\n",
              "    </div>\n",
              "  </div>\n"
            ],
            "application/vnd.google.colaboratory.intrinsic+json": {
              "type": "dataframe",
              "summary": "{\n  \"name\": \"gene_table_highly_expressed[0][:5]\",\n  \"rows\": 5,\n  \"fields\": [\n    {\n      \"column\": \"TxStart\",\n      \"properties\": {\n        \"dtype\": \"number\",\n        \"std\": 3644326,\n        \"min\": 955502,\n        \"max\": 8921060,\n        \"num_unique_values\": 5,\n        \"samples\": [\n          1716728,\n          8921060,\n          6281252\n        ],\n        \"semantic_type\": \"\",\n        \"description\": \"\"\n      }\n    },\n    {\n      \"column\": \"TxEnd\",\n      \"properties\": {\n        \"dtype\": \"number\",\n        \"std\": 3619183,\n        \"min\": 991496,\n        \"max\": 8938749,\n        \"num_unique_values\": 5,\n        \"samples\": [\n          1822495,\n          8938749,\n          6296000\n        ],\n        \"semantic_type\": \"\",\n        \"description\": \"\"\n      }\n    }\n  ]\n}"
            }
          },
          "metadata": {},
          "execution_count": 28
        }
      ],
      "source": [
        "# Preview the first few lines of 'gene_table_highly_expressed'\n",
        "gene_table_highly_expressed[0][:5]"
      ]
    },
    {
      "cell_type": "markdown",
      "metadata": {
        "id": "5GZ-vMy9zVmc"
      },
      "source": [
        "Also, take a look at the sorted gene table for not-expressed genes."
      ]
    },
    {
      "cell_type": "code",
      "execution_count": 29,
      "metadata": {
        "colab": {
          "base_uri": "https://localhost:8080/"
        },
        "id": "Ccj1X3RqzkYz",
        "outputId": "39ffbae4-c2a1-48d4-f244-767974b04a74"
      },
      "outputs": [
        {
          "output_type": "stream",
          "name": "stdout",
          "text": [
            "Extracting the gene file ...\n",
            "Done!\n"
          ]
        }
      ],
      "source": [
        "gene_table_not_expressed=crb.Gexp_Gene2GLChr(exp_gene_file='/content/gene_not_expressed.refFlat')"
      ]
    },
    {
      "cell_type": "code",
      "execution_count": 30,
      "metadata": {
        "colab": {
          "base_uri": "https://localhost:8080/",
          "height": 204
        },
        "id": "HGt0_e4HzoiD",
        "outputId": "aea38048-8ce1-4cfb-d896-b8be3b05f623"
      },
      "outputs": [
        {
          "output_type": "execute_result",
          "data": {
            "text/plain": [
              "    TxStart     TxEnd\n",
              "0     69090     70008\n",
              "1    621058    622053\n",
              "2    910578    917497\n",
              "3   9712667   9714644\n",
              "4  11249397  11256038"
            ],
            "text/html": [
              "\n",
              "  <div id=\"df-c23480d6-931b-452c-81bb-0e726a921f04\" class=\"colab-df-container\">\n",
              "    <div>\n",
              "<style scoped>\n",
              "    .dataframe tbody tr th:only-of-type {\n",
              "        vertical-align: middle;\n",
              "    }\n",
              "\n",
              "    .dataframe tbody tr th {\n",
              "        vertical-align: top;\n",
              "    }\n",
              "\n",
              "    .dataframe thead th {\n",
              "        text-align: right;\n",
              "    }\n",
              "</style>\n",
              "<table border=\"1\" class=\"dataframe\">\n",
              "  <thead>\n",
              "    <tr style=\"text-align: right;\">\n",
              "      <th></th>\n",
              "      <th>TxStart</th>\n",
              "      <th>TxEnd</th>\n",
              "    </tr>\n",
              "  </thead>\n",
              "  <tbody>\n",
              "    <tr>\n",
              "      <th>0</th>\n",
              "      <td>69090</td>\n",
              "      <td>70008</td>\n",
              "    </tr>\n",
              "    <tr>\n",
              "      <th>1</th>\n",
              "      <td>621058</td>\n",
              "      <td>622053</td>\n",
              "    </tr>\n",
              "    <tr>\n",
              "      <th>2</th>\n",
              "      <td>910578</td>\n",
              "      <td>917497</td>\n",
              "    </tr>\n",
              "    <tr>\n",
              "      <th>3</th>\n",
              "      <td>9712667</td>\n",
              "      <td>9714644</td>\n",
              "    </tr>\n",
              "    <tr>\n",
              "      <th>4</th>\n",
              "      <td>11249397</td>\n",
              "      <td>11256038</td>\n",
              "    </tr>\n",
              "  </tbody>\n",
              "</table>\n",
              "</div>\n",
              "    <div class=\"colab-df-buttons\">\n",
              "\n",
              "  <div class=\"colab-df-container\">\n",
              "    <button class=\"colab-df-convert\" onclick=\"convertToInteractive('df-c23480d6-931b-452c-81bb-0e726a921f04')\"\n",
              "            title=\"Convert this dataframe to an interactive table.\"\n",
              "            style=\"display:none;\">\n",
              "\n",
              "  <svg xmlns=\"http://www.w3.org/2000/svg\" height=\"24px\" viewBox=\"0 -960 960 960\">\n",
              "    <path d=\"M120-120v-720h720v720H120Zm60-500h600v-160H180v160Zm220 220h160v-160H400v160Zm0 220h160v-160H400v160ZM180-400h160v-160H180v160Zm440 0h160v-160H620v160ZM180-180h160v-160H180v160Zm440 0h160v-160H620v160Z\"/>\n",
              "  </svg>\n",
              "    </button>\n",
              "\n",
              "  <style>\n",
              "    .colab-df-container {\n",
              "      display:flex;\n",
              "      gap: 12px;\n",
              "    }\n",
              "\n",
              "    .colab-df-convert {\n",
              "      background-color: #E8F0FE;\n",
              "      border: none;\n",
              "      border-radius: 50%;\n",
              "      cursor: pointer;\n",
              "      display: none;\n",
              "      fill: #1967D2;\n",
              "      height: 32px;\n",
              "      padding: 0 0 0 0;\n",
              "      width: 32px;\n",
              "    }\n",
              "\n",
              "    .colab-df-convert:hover {\n",
              "      background-color: #E2EBFA;\n",
              "      box-shadow: 0px 1px 2px rgba(60, 64, 67, 0.3), 0px 1px 3px 1px rgba(60, 64, 67, 0.15);\n",
              "      fill: #174EA6;\n",
              "    }\n",
              "\n",
              "    .colab-df-buttons div {\n",
              "      margin-bottom: 4px;\n",
              "    }\n",
              "\n",
              "    [theme=dark] .colab-df-convert {\n",
              "      background-color: #3B4455;\n",
              "      fill: #D2E3FC;\n",
              "    }\n",
              "\n",
              "    [theme=dark] .colab-df-convert:hover {\n",
              "      background-color: #434B5C;\n",
              "      box-shadow: 0px 1px 3px 1px rgba(0, 0, 0, 0.15);\n",
              "      filter: drop-shadow(0px 1px 2px rgba(0, 0, 0, 0.3));\n",
              "      fill: #FFFFFF;\n",
              "    }\n",
              "  </style>\n",
              "\n",
              "    <script>\n",
              "      const buttonEl =\n",
              "        document.querySelector('#df-c23480d6-931b-452c-81bb-0e726a921f04 button.colab-df-convert');\n",
              "      buttonEl.style.display =\n",
              "        google.colab.kernel.accessAllowed ? 'block' : 'none';\n",
              "\n",
              "      async function convertToInteractive(key) {\n",
              "        const element = document.querySelector('#df-c23480d6-931b-452c-81bb-0e726a921f04');\n",
              "        const dataTable =\n",
              "          await google.colab.kernel.invokeFunction('convertToInteractive',\n",
              "                                                    [key], {});\n",
              "        if (!dataTable) return;\n",
              "\n",
              "        const docLinkHtml = 'Like what you see? Visit the ' +\n",
              "          '<a target=\"_blank\" href=https://colab.research.google.com/notebooks/data_table.ipynb>data table notebook</a>'\n",
              "          + ' to learn more about interactive tables.';\n",
              "        element.innerHTML = '';\n",
              "        dataTable['output_type'] = 'display_data';\n",
              "        await google.colab.output.renderOutput(dataTable, element);\n",
              "        const docLink = document.createElement('div');\n",
              "        docLink.innerHTML = docLinkHtml;\n",
              "        element.appendChild(docLink);\n",
              "      }\n",
              "    </script>\n",
              "  </div>\n",
              "\n",
              "\n",
              "    <div id=\"df-44815ef5-f29f-42c0-ba14-c47898426050\">\n",
              "      <button class=\"colab-df-quickchart\" onclick=\"quickchart('df-44815ef5-f29f-42c0-ba14-c47898426050')\"\n",
              "                title=\"Suggest charts\"\n",
              "                style=\"display:none;\">\n",
              "\n",
              "<svg xmlns=\"http://www.w3.org/2000/svg\" height=\"24px\"viewBox=\"0 0 24 24\"\n",
              "     width=\"24px\">\n",
              "    <g>\n",
              "        <path d=\"M19 3H5c-1.1 0-2 .9-2 2v14c0 1.1.9 2 2 2h14c1.1 0 2-.9 2-2V5c0-1.1-.9-2-2-2zM9 17H7v-7h2v7zm4 0h-2V7h2v10zm4 0h-2v-4h2v4z\"/>\n",
              "    </g>\n",
              "</svg>\n",
              "      </button>\n",
              "\n",
              "<style>\n",
              "  .colab-df-quickchart {\n",
              "      --bg-color: #E8F0FE;\n",
              "      --fill-color: #1967D2;\n",
              "      --hover-bg-color: #E2EBFA;\n",
              "      --hover-fill-color: #174EA6;\n",
              "      --disabled-fill-color: #AAA;\n",
              "      --disabled-bg-color: #DDD;\n",
              "  }\n",
              "\n",
              "  [theme=dark] .colab-df-quickchart {\n",
              "      --bg-color: #3B4455;\n",
              "      --fill-color: #D2E3FC;\n",
              "      --hover-bg-color: #434B5C;\n",
              "      --hover-fill-color: #FFFFFF;\n",
              "      --disabled-bg-color: #3B4455;\n",
              "      --disabled-fill-color: #666;\n",
              "  }\n",
              "\n",
              "  .colab-df-quickchart {\n",
              "    background-color: var(--bg-color);\n",
              "    border: none;\n",
              "    border-radius: 50%;\n",
              "    cursor: pointer;\n",
              "    display: none;\n",
              "    fill: var(--fill-color);\n",
              "    height: 32px;\n",
              "    padding: 0;\n",
              "    width: 32px;\n",
              "  }\n",
              "\n",
              "  .colab-df-quickchart:hover {\n",
              "    background-color: var(--hover-bg-color);\n",
              "    box-shadow: 0 1px 2px rgba(60, 64, 67, 0.3), 0 1px 3px 1px rgba(60, 64, 67, 0.15);\n",
              "    fill: var(--button-hover-fill-color);\n",
              "  }\n",
              "\n",
              "  .colab-df-quickchart-complete:disabled,\n",
              "  .colab-df-quickchart-complete:disabled:hover {\n",
              "    background-color: var(--disabled-bg-color);\n",
              "    fill: var(--disabled-fill-color);\n",
              "    box-shadow: none;\n",
              "  }\n",
              "\n",
              "  .colab-df-spinner {\n",
              "    border: 2px solid var(--fill-color);\n",
              "    border-color: transparent;\n",
              "    border-bottom-color: var(--fill-color);\n",
              "    animation:\n",
              "      spin 1s steps(1) infinite;\n",
              "  }\n",
              "\n",
              "  @keyframes spin {\n",
              "    0% {\n",
              "      border-color: transparent;\n",
              "      border-bottom-color: var(--fill-color);\n",
              "      border-left-color: var(--fill-color);\n",
              "    }\n",
              "    20% {\n",
              "      border-color: transparent;\n",
              "      border-left-color: var(--fill-color);\n",
              "      border-top-color: var(--fill-color);\n",
              "    }\n",
              "    30% {\n",
              "      border-color: transparent;\n",
              "      border-left-color: var(--fill-color);\n",
              "      border-top-color: var(--fill-color);\n",
              "      border-right-color: var(--fill-color);\n",
              "    }\n",
              "    40% {\n",
              "      border-color: transparent;\n",
              "      border-right-color: var(--fill-color);\n",
              "      border-top-color: var(--fill-color);\n",
              "    }\n",
              "    60% {\n",
              "      border-color: transparent;\n",
              "      border-right-color: var(--fill-color);\n",
              "    }\n",
              "    80% {\n",
              "      border-color: transparent;\n",
              "      border-right-color: var(--fill-color);\n",
              "      border-bottom-color: var(--fill-color);\n",
              "    }\n",
              "    90% {\n",
              "      border-color: transparent;\n",
              "      border-bottom-color: var(--fill-color);\n",
              "    }\n",
              "  }\n",
              "</style>\n",
              "\n",
              "      <script>\n",
              "        async function quickchart(key) {\n",
              "          const quickchartButtonEl =\n",
              "            document.querySelector('#' + key + ' button');\n",
              "          quickchartButtonEl.disabled = true;  // To prevent multiple clicks.\n",
              "          quickchartButtonEl.classList.add('colab-df-spinner');\n",
              "          try {\n",
              "            const charts = await google.colab.kernel.invokeFunction(\n",
              "                'suggestCharts', [key], {});\n",
              "          } catch (error) {\n",
              "            console.error('Error during call to suggestCharts:', error);\n",
              "          }\n",
              "          quickchartButtonEl.classList.remove('colab-df-spinner');\n",
              "          quickchartButtonEl.classList.add('colab-df-quickchart-complete');\n",
              "        }\n",
              "        (() => {\n",
              "          let quickchartButtonEl =\n",
              "            document.querySelector('#df-44815ef5-f29f-42c0-ba14-c47898426050 button');\n",
              "          quickchartButtonEl.style.display =\n",
              "            google.colab.kernel.accessAllowed ? 'block' : 'none';\n",
              "        })();\n",
              "      </script>\n",
              "    </div>\n",
              "\n",
              "    </div>\n",
              "  </div>\n"
            ],
            "application/vnd.google.colaboratory.intrinsic+json": {
              "type": "dataframe",
              "summary": "{\n  \"name\": \"gene_table_not_expressed[0][:5]\",\n  \"rows\": 5,\n  \"fields\": [\n    {\n      \"column\": \"TxStart\",\n      \"properties\": {\n        \"dtype\": \"number\",\n        \"std\": 5483807,\n        \"min\": 69090,\n        \"max\": 11249397,\n        \"num_unique_values\": 5,\n        \"samples\": [\n          621058,\n          11249397,\n          910578\n        ],\n        \"semantic_type\": \"\",\n        \"description\": \"\"\n      }\n    },\n    {\n      \"column\": \"TxEnd\",\n      \"properties\": {\n        \"dtype\": \"number\",\n        \"std\": 5484817,\n        \"min\": 70008,\n        \"max\": 11256038,\n        \"num_unique_values\": 5,\n        \"samples\": [\n          622053,\n          11256038,\n          917497\n        ],\n        \"semantic_type\": \"\",\n        \"description\": \"\"\n      }\n    }\n  ]\n}"
            }
          },
          "metadata": {},
          "execution_count": 30
        }
      ],
      "source": [
        "# Preview the first few lines of 'gene_table_not_expressed'\n",
        "gene_table_not_expressed[0][:5]"
      ]
    },
    {
      "cell_type": "markdown",
      "metadata": {
        "id": "fLaBTIsK091A"
      },
      "source": [
        "<br>\n",
        "\n",
        "Now, let's extract the chromatin state sequences from promoter regions associated with highly expressed and not-expressed genes.\n"
      ]
    },
    {
      "cell_type": "code",
      "execution_count": 31,
      "metadata": {
        "colab": {
          "base_uri": "https://localhost:8080/"
        },
        "id": "7xEBSGSLvTbJ",
        "outputId": "2bbca957-b13c-42b8-af85-335486c10cfa"
      },
      "outputs": [
        {
          "output_type": "stream",
          "name": "stdout",
          "text": [
            "Extracting the gene file ...\n",
            "Done!\n",
            "Matching to the chromatin state sequence data ...\n",
            "Done!\n",
            "Extracting the gene file ...\n",
            "Done!\n",
            "Matching to the chromatin state sequence data ...\n",
            "Done!\n"
          ]
        }
      ],
      "source": [
        "# Locate the refFlat files for highly-expressed and not-expressed genes on Colab\n",
        "highly_exp_gene_file='/content/gene_highly_expressed.refFlat'\n",
        "not_exp_gene_file='/content/gene_not_expressed.refFlat'\n",
        "\n",
        "# Change 'up_num' and 'down_num' to adjust the upstream and downstream regions and define your own promoter regions\n",
        "# Don't change \"unit=200\" as it represents the default base pair length for chromatin annotation, which remains constant for this test.\n",
        "prom_highly_expressed=crb.extProm_wrt_g_exp(highly_exp_gene_file, df, up_num=2000, down_num=4000,unit=200)\n",
        "prom_not_expressed=crb.extProm_wrt_g_exp(not_exp_gene_file, df, up_num=2000, down_num=4000,unit=200)"
      ]
    },
    {
      "cell_type": "markdown",
      "metadata": {
        "id": "o8FO9j592Ndq"
      },
      "source": [
        "<br>\n",
        "\n",
        "🤩 We can't wait to explore how chromatin state sequence patterns differ between promoter regions of ✅ **highly expressed genes** (`RPKM > 50`) and ❌ **not-expressed genes** (`RPKM = 0`)! Let's dive in! 🌊🤿\n",
        "\n",
        "<br>"
      ]
    },
    {
      "cell_type": "code",
      "execution_count": 32,
      "metadata": {
        "colab": {
          "base_uri": "https://localhost:8080/"
        },
        "id": "xr1DbdjQ1u6d",
        "outputId": "2bfc317c-40be-43d8-d7fd-af11fcbc23f8"
      },
      "outputs": [
        {
          "output_type": "stream",
          "name": "stdout",
          "text": [
            "\u001b[1m\u001b[38;2;0;100;0mE\u001b[38;2;255;255;255m\u001b[38;2;0;100;0mE\u001b[38;2;255;255;255m\u001b[38;2;0;100;0mE\u001b[38;2;255;255;255m\u001b[38;2;0;100;0mE\u001b[38;2;255;255;255m\u001b[38;2;0;100;0mE\u001b[38;2;255;255;255m\u001b[38;2;255;255;0mG\u001b[38;2;255;255;255m\u001b[38;2;255;0;0mA\u001b[38;2;255;255;255m\u001b[38;2;255;0;0mA\u001b[38;2;255;255;255m\u001b[38;2;255;0;0mA\u001b[38;2;255;255;255m\u001b[38;2;255;0;0mA\u001b[38;2;255;255;255m\u001b[38;2;255;0;0mA\u001b[38;2;255;255;255m\u001b[38;2;255;0;0mA\u001b[38;2;255;255;255m\u001b[38;2;255;0;0mA\u001b[38;2;255;255;255m\u001b[38;2;255;0;0mA\u001b[38;2;255;255;255m\u001b[38;2;255;0;0mA\u001b[38;2;255;255;255m\u001b[38;2;255;69;0mB\u001b[38;2;255;255;255m\u001b[38;2;255;69;0mB\u001b[38;2;255;255;255m\u001b[38;2;255;255;0mG\u001b[38;2;255;255;255m\u001b[38;2;255;255;0mG\u001b[38;2;255;255;255m\u001b[38;2;255;255;0mG\u001b[38;2;255;255;255m\u001b[38;2;255;255;0mG\u001b[38;2;255;255;255m\u001b[38;2;255;255;0mG\u001b[38;2;255;255;255m\u001b[38;2;194;225;5mF\u001b[38;2;255;255;255m\u001b[38;2;194;225;5mF\u001b[38;2;255;255;255m\u001b[38;2;194;225;5mF\u001b[38;2;255;255;255m\u001b[38;2;194;225;5mF\u001b[38;2;255;255;255m\u001b[38;2;194;225;5mF\u001b[38;2;255;255;255m\u001b[38;2;194;225;5mF\u001b[38;2;255;255;255m\u001b[38;2;194;225;5mF\u001b[38;2;255;255;255m\u001b[38;2;194;225;5mF\u001b[38;2;255;255;255m\u001b[0;0m\n",
            "\u001b[1m\u001b[38;2;255;255;0mG\u001b[38;2;255;255;255m\u001b[38;2;255;255;0mG\u001b[38;2;255;255;255m\u001b[38;2;0;100;0mE\u001b[38;2;255;255;255m\u001b[38;2;0;100;0mE\u001b[38;2;255;255;255m\u001b[38;2;0;100;0mE\u001b[38;2;255;255;255m\u001b[38;2;0;100;0mE\u001b[38;2;255;255;255m\u001b[38;2;0;100;0mE\u001b[38;2;255;255;255m\u001b[38;2;0;100;0mE\u001b[38;2;255;255;255m\u001b[38;2;0;128;0mD\u001b[38;2;255;255;255m\u001b[38;2;0;128;0mD\u001b[38;2;255;255;255m\u001b[38;2;0;128;0mD\u001b[38;2;255;255;255m\u001b[38;2;0;128;0mD\u001b[38;2;255;255;255m\u001b[38;2;0;128;0mD\u001b[38;2;255;255;255m\u001b[38;2;0;128;0mD\u001b[38;2;255;255;255m\u001b[38;2;0;128;0mD\u001b[38;2;255;255;255m\u001b[38;2;0;128;0mD\u001b[38;2;255;255;255m\u001b[38;2;0;128;0mD\u001b[38;2;255;255;255m\u001b[38;2;0;128;0mD\u001b[38;2;255;255;255m\u001b[38;2;0;128;0mD\u001b[38;2;255;255;255m\u001b[38;2;0;128;0mD\u001b[38;2;255;255;255m\u001b[38;2;0;128;0mD\u001b[38;2;255;255;255m\u001b[38;2;0;128;0mD\u001b[38;2;255;255;255m\u001b[38;2;0;128;0mD\u001b[38;2;255;255;255m\u001b[38;2;0;128;0mD\u001b[38;2;255;255;255m\u001b[38;2;0;128;0mD\u001b[38;2;255;255;255m\u001b[38;2;0;128;0mD\u001b[38;2;255;255;255m\u001b[38;2;0;128;0mD\u001b[38;2;255;255;255m\u001b[38;2;0;128;0mD\u001b[38;2;255;255;255m\u001b[38;2;0;128;0mD\u001b[38;2;255;255;255m\u001b[38;2;0;128;0mD\u001b[38;2;255;255;255m\u001b[0;0m\n",
            "\u001b[1m\u001b[38;2;0;100;0mE\u001b[38;2;255;255;255m\u001b[38;2;0;100;0mE\u001b[38;2;255;255;255m\u001b[38;2;0;100;0mE\u001b[38;2;255;255;255m\u001b[38;2;0;100;0mE\u001b[38;2;255;255;255m\u001b[38;2;0;100;0mE\u001b[38;2;255;255;255m\u001b[38;2;0;100;0mE\u001b[38;2;255;255;255m\u001b[38;2;0;100;0mE\u001b[38;2;255;255;255m\u001b[38;2;0;100;0mE\u001b[38;2;255;255;255m\u001b[38;2;0;100;0mE\u001b[38;2;255;255;255m\u001b[38;2;0;100;0mE\u001b[38;2;255;255;255m\u001b[38;2;0;100;0mE\u001b[38;2;255;255;255m\u001b[38;2;0;128;0mD\u001b[38;2;255;255;255m\u001b[38;2;0;128;0mD\u001b[38;2;255;255;255m\u001b[38;2;0;128;0mD\u001b[38;2;255;255;255m\u001b[38;2;0;128;0mD\u001b[38;2;255;255;255m\u001b[38;2;0;128;0mD\u001b[38;2;255;255;255m\u001b[38;2;0;128;0mD\u001b[38;2;255;255;255m\u001b[38;2;0;128;0mD\u001b[38;2;255;255;255m\u001b[38;2;0;128;0mD\u001b[38;2;255;255;255m\u001b[38;2;0;128;0mD\u001b[38;2;255;255;255m\u001b[38;2;0;128;0mD\u001b[38;2;255;255;255m\u001b[38;2;0;128;0mD\u001b[38;2;255;255;255m\u001b[38;2;0;128;0mD\u001b[38;2;255;255;255m\u001b[38;2;0;128;0mD\u001b[38;2;255;255;255m\u001b[38;2;0;128;0mD\u001b[38;2;255;255;255m\u001b[38;2;0;128;0mD\u001b[38;2;255;255;255m\u001b[38;2;0;128;0mD\u001b[38;2;255;255;255m\u001b[38;2;0;128;0mD\u001b[38;2;255;255;255m\u001b[38;2;0;128;0mD\u001b[38;2;255;255;255m\u001b[38;2;0;128;0mD\u001b[38;2;255;255;255m\u001b[0;0m\n",
            "\u001b[1m\u001b[38;2;240;240;240mO\u001b[38;2;255;255;255m\u001b[38;2;240;240;240mO\u001b[38;2;255;255;255m\u001b[38;2;240;240;240mO\u001b[38;2;255;255;255m\u001b[38;2;240;240;240mO\u001b[38;2;255;255;255m\u001b[38;2;240;240;240mO\u001b[38;2;255;255;255m\u001b[38;2;255;0;0mA\u001b[38;2;255;255;255m\u001b[38;2;255;0;0mA\u001b[38;2;255;255;255m\u001b[38;2;255;0;0mA\u001b[38;2;255;255;255m\u001b[38;2;255;0;0mA\u001b[38;2;255;255;255m\u001b[38;2;255;0;0mA\u001b[38;2;255;255;255m\u001b[38;2;255;0;0mA\u001b[38;2;255;255;255m\u001b[38;2;255;0;0mA\u001b[38;2;255;255;255m\u001b[38;2;255;0;0mA\u001b[38;2;255;255;255m\u001b[38;2;255;0;0mA\u001b[38;2;255;255;255m\u001b[38;2;255;0;0mA\u001b[38;2;255;255;255m\u001b[38;2;0;100;0mE\u001b[38;2;255;255;255m\u001b[38;2;0;100;0mE\u001b[38;2;255;255;255m\u001b[38;2;0;128;0mD\u001b[38;2;255;255;255m\u001b[38;2;0;128;0mD\u001b[38;2;255;255;255m\u001b[38;2;0;128;0mD\u001b[38;2;255;255;255m\u001b[38;2;0;128;0mD\u001b[38;2;255;255;255m\u001b[38;2;0;128;0mD\u001b[38;2;255;255;255m\u001b[38;2;0;128;0mD\u001b[38;2;255;255;255m\u001b[38;2;0;128;0mD\u001b[38;2;255;255;255m\u001b[38;2;0;128;0mD\u001b[38;2;255;255;255m\u001b[38;2;0;128;0mD\u001b[38;2;255;255;255m\u001b[38;2;0;128;0mD\u001b[38;2;255;255;255m\u001b[38;2;0;128;0mD\u001b[38;2;255;255;255m\u001b[38;2;0;128;0mD\u001b[38;2;255;255;255m\u001b[38;2;0;128;0mD\u001b[38;2;255;255;255m\u001b[0;0m\n",
            "\u001b[1m\u001b[38;2;0;128;0mD\u001b[38;2;255;255;255m\u001b[38;2;0;128;0mD\u001b[38;2;255;255;255m\u001b[38;2;0;128;0mD\u001b[38;2;255;255;255m\u001b[38;2;0;128;0mD\u001b[38;2;255;255;255m\u001b[38;2;0;128;0mD\u001b[38;2;255;255;255m\u001b[38;2;0;128;0mD\u001b[38;2;255;255;255m\u001b[38;2;0;128;0mD\u001b[38;2;255;255;255m\u001b[38;2;0;128;0mD\u001b[38;2;255;255;255m\u001b[38;2;0;128;0mD\u001b[38;2;255;255;255m\u001b[38;2;0;128;0mD\u001b[38;2;255;255;255m\u001b[38;2;0;128;0mD\u001b[38;2;255;255;255m\u001b[38;2;0;128;0mD\u001b[38;2;255;255;255m\u001b[38;2;0;128;0mD\u001b[38;2;255;255;255m\u001b[38;2;0;128;0mD\u001b[38;2;255;255;255m\u001b[38;2;0;128;0mD\u001b[38;2;255;255;255m\u001b[38;2;0;128;0mD\u001b[38;2;255;255;255m\u001b[38;2;0;128;0mD\u001b[38;2;255;255;255m\u001b[38;2;0;128;0mD\u001b[38;2;255;255;255m\u001b[38;2;0;128;0mD\u001b[38;2;255;255;255m\u001b[38;2;0;128;0mD\u001b[38;2;255;255;255m\u001b[38;2;0;128;0mD\u001b[38;2;255;255;255m\u001b[38;2;0;128;0mD\u001b[38;2;255;255;255m\u001b[38;2;0;128;0mD\u001b[38;2;255;255;255m\u001b[38;2;0;128;0mD\u001b[38;2;255;255;255m\u001b[38;2;0;128;0mD\u001b[38;2;255;255;255m\u001b[38;2;0;128;0mD\u001b[38;2;255;255;255m\u001b[38;2;0;128;0mD\u001b[38;2;255;255;255m\u001b[38;2;0;128;0mD\u001b[38;2;255;255;255m\u001b[38;2;0;128;0mD\u001b[38;2;255;255;255m\u001b[38;2;0;128;0mD\u001b[38;2;255;255;255m\u001b[0;0m\n",
            "\u001b[1m\u001b[38;2;0;128;0mD\u001b[38;2;255;255;255m\u001b[38;2;0;128;0mD\u001b[38;2;255;255;255m\u001b[38;2;0;128;0mD\u001b[38;2;255;255;255m\u001b[38;2;0;128;0mD\u001b[38;2;255;255;255m\u001b[38;2;0;128;0mD\u001b[38;2;255;255;255m\u001b[38;2;0;128;0mD\u001b[38;2;255;255;255m\u001b[38;2;0;128;0mD\u001b[38;2;255;255;255m\u001b[38;2;0;128;0mD\u001b[38;2;255;255;255m\u001b[38;2;0;128;0mD\u001b[38;2;255;255;255m\u001b[38;2;0;128;0mD\u001b[38;2;255;255;255m\u001b[38;2;0;128;0mD\u001b[38;2;255;255;255m\u001b[38;2;0;128;0mD\u001b[38;2;255;255;255m\u001b[38;2;0;128;0mD\u001b[38;2;255;255;255m\u001b[38;2;0;128;0mD\u001b[38;2;255;255;255m\u001b[38;2;0;128;0mD\u001b[38;2;255;255;255m\u001b[38;2;0;128;0mD\u001b[38;2;255;255;255m\u001b[38;2;0;128;0mD\u001b[38;2;255;255;255m\u001b[38;2;0;128;0mD\u001b[38;2;255;255;255m\u001b[38;2;0;128;0mD\u001b[38;2;255;255;255m\u001b[38;2;0;128;0mD\u001b[38;2;255;255;255m\u001b[38;2;0;128;0mD\u001b[38;2;255;255;255m\u001b[38;2;0;128;0mD\u001b[38;2;255;255;255m\u001b[38;2;0;128;0mD\u001b[38;2;255;255;255m\u001b[38;2;0;128;0mD\u001b[38;2;255;255;255m\u001b[38;2;0;128;0mD\u001b[38;2;255;255;255m\u001b[38;2;0;128;0mD\u001b[38;2;255;255;255m\u001b[38;2;0;128;0mD\u001b[38;2;255;255;255m\u001b[38;2;0;128;0mD\u001b[38;2;255;255;255m\u001b[38;2;0;128;0mD\u001b[38;2;255;255;255m\u001b[38;2;0;128;0mD\u001b[38;2;255;255;255m\u001b[0;0m\n",
            "\u001b[1m\u001b[38;2;0;100;0mE\u001b[38;2;255;255;255m\u001b[38;2;0;100;0mE\u001b[38;2;255;255;255m\u001b[38;2;0;100;0mE\u001b[38;2;255;255;255m\u001b[38;2;0;100;0mE\u001b[38;2;255;255;255m\u001b[38;2;0;100;0mE\u001b[38;2;255;255;255m\u001b[38;2;255;0;0mA\u001b[38;2;255;255;255m\u001b[38;2;255;0;0mA\u001b[38;2;255;255;255m\u001b[38;2;255;0;0mA\u001b[38;2;255;255;255m\u001b[38;2;255;0;0mA\u001b[38;2;255;255;255m\u001b[38;2;255;0;0mA\u001b[38;2;255;255;255m\u001b[38;2;255;0;0mA\u001b[38;2;255;255;255m\u001b[38;2;255;0;0mA\u001b[38;2;255;255;255m\u001b[38;2;255;0;0mA\u001b[38;2;255;255;255m\u001b[38;2;255;0;0mA\u001b[38;2;255;255;255m\u001b[38;2;255;0;0mA\u001b[38;2;255;255;255m\u001b[38;2;50;205;50mC\u001b[38;2;255;255;255m\u001b[38;2;50;205;50mC\u001b[38;2;255;255;255m\u001b[38;2;0;128;0mD\u001b[38;2;255;255;255m\u001b[38;2;0;128;0mD\u001b[38;2;255;255;255m\u001b[38;2;0;128;0mD\u001b[38;2;255;255;255m\u001b[38;2;0;128;0mD\u001b[38;2;255;255;255m\u001b[38;2;0;128;0mD\u001b[38;2;255;255;255m\u001b[38;2;0;128;0mD\u001b[38;2;255;255;255m\u001b[38;2;0;128;0mD\u001b[38;2;255;255;255m\u001b[38;2;0;128;0mD\u001b[38;2;255;255;255m\u001b[38;2;0;128;0mD\u001b[38;2;255;255;255m\u001b[38;2;0;128;0mD\u001b[38;2;255;255;255m\u001b[38;2;0;128;0mD\u001b[38;2;255;255;255m\u001b[38;2;0;128;0mD\u001b[38;2;255;255;255m\u001b[38;2;0;128;0mD\u001b[38;2;255;255;255m\u001b[0;0m\n",
            "\u001b[1m\u001b[38;2;240;240;240mO\u001b[38;2;255;255;255m\u001b[38;2;240;240;240mO\u001b[38;2;255;255;255m\u001b[38;2;240;240;240mO\u001b[38;2;255;255;255m\u001b[38;2;240;240;240mO\u001b[38;2;255;255;255m\u001b[38;2;240;240;240mO\u001b[38;2;255;255;255m\u001b[38;2;240;240;240mO\u001b[38;2;255;255;255m\u001b[38;2;255;255;0mG\u001b[38;2;255;255;255m\u001b[38;2;255;69;0mB\u001b[38;2;255;255;255m\u001b[38;2;255;0;0mA\u001b[38;2;255;255;255m\u001b[38;2;255;0;0mA\u001b[38;2;255;255;255m\u001b[38;2;255;0;0mA\u001b[38;2;255;255;255m\u001b[38;2;255;0;0mA\u001b[38;2;255;255;255m\u001b[38;2;255;0;0mA\u001b[38;2;255;255;255m\u001b[38;2;255;0;0mA\u001b[38;2;255;255;255m\u001b[38;2;255;0;0mA\u001b[38;2;255;255;255m\u001b[38;2;255;0;0mA\u001b[38;2;255;255;255m\u001b[38;2;50;205;50mC\u001b[38;2;255;255;255m\u001b[38;2;50;205;50mC\u001b[38;2;255;255;255m\u001b[38;2;0;128;0mD\u001b[38;2;255;255;255m\u001b[38;2;0;128;0mD\u001b[38;2;255;255;255m\u001b[38;2;0;128;0mD\u001b[38;2;255;255;255m\u001b[38;2;0;128;0mD\u001b[38;2;255;255;255m\u001b[38;2;0;128;0mD\u001b[38;2;255;255;255m\u001b[38;2;0;128;0mD\u001b[38;2;255;255;255m\u001b[38;2;0;128;0mD\u001b[38;2;255;255;255m\u001b[38;2;0;128;0mD\u001b[38;2;255;255;255m\u001b[38;2;0;128;0mD\u001b[38;2;255;255;255m\u001b[38;2;0;128;0mD\u001b[38;2;255;255;255m\u001b[38;2;0;128;0mD\u001b[38;2;255;255;255m\u001b[38;2;0;128;0mD\u001b[38;2;255;255;255m\u001b[0;0m\n",
            "\u001b[1m\u001b[38;2;255;255;0mG\u001b[38;2;255;255;255m\u001b[38;2;255;255;0mG\u001b[38;2;255;255;255m\u001b[38;2;255;255;0mG\u001b[38;2;255;255;255m\u001b[38;2;255;255;0mG\u001b[38;2;255;255;255m\u001b[38;2;255;255;0mG\u001b[38;2;255;255;255m\u001b[38;2;255;255;0mG\u001b[38;2;255;255;255m\u001b[38;2;255;255;0mG\u001b[38;2;255;255;255m\u001b[38;2;255;255;0mG\u001b[38;2;255;255;255m\u001b[38;2;255;255;0mG\u001b[38;2;255;255;255m\u001b[38;2;194;225;5mF\u001b[38;2;255;255;255m\u001b[38;2;0;128;0mD\u001b[38;2;255;255;255m\u001b[38;2;0;128;0mD\u001b[38;2;255;255;255m\u001b[38;2;0;128;0mD\u001b[38;2;255;255;255m\u001b[38;2;0;128;0mD\u001b[38;2;255;255;255m\u001b[38;2;0;128;0mD\u001b[38;2;255;255;255m\u001b[38;2;0;128;0mD\u001b[38;2;255;255;255m\u001b[38;2;0;128;0mD\u001b[38;2;255;255;255m\u001b[38;2;0;128;0mD\u001b[38;2;255;255;255m\u001b[38;2;0;128;0mD\u001b[38;2;255;255;255m\u001b[38;2;0;128;0mD\u001b[38;2;255;255;255m\u001b[38;2;0;128;0mD\u001b[38;2;255;255;255m\u001b[38;2;0;128;0mD\u001b[38;2;255;255;255m\u001b[38;2;0;128;0mD\u001b[38;2;255;255;255m\u001b[38;2;0;128;0mD\u001b[38;2;255;255;255m\u001b[38;2;0;128;0mD\u001b[38;2;255;255;255m\u001b[38;2;0;128;0mD\u001b[38;2;255;255;255m\u001b[38;2;0;128;0mD\u001b[38;2;255;255;255m\u001b[38;2;0;128;0mD\u001b[38;2;255;255;255m\u001b[38;2;194;225;5mF\u001b[38;2;255;255;255m\u001b[38;2;194;225;5mF\u001b[38;2;255;255;255m\u001b[0;0m\n",
            "\u001b[1m\u001b[38;2;0;128;0mD\u001b[38;2;255;255;255m\u001b[38;2;0;128;0mD\u001b[38;2;255;255;255m\u001b[38;2;0;128;0mD\u001b[38;2;255;255;255m\u001b[38;2;0;128;0mD\u001b[38;2;255;255;255m\u001b[38;2;0;128;0mD\u001b[38;2;255;255;255m\u001b[38;2;0;128;0mD\u001b[38;2;255;255;255m\u001b[38;2;0;128;0mD\u001b[38;2;255;255;255m\u001b[38;2;0;128;0mD\u001b[38;2;255;255;255m\u001b[38;2;0;128;0mD\u001b[38;2;255;255;255m\u001b[38;2;0;128;0mD\u001b[38;2;255;255;255m\u001b[38;2;0;128;0mD\u001b[38;2;255;255;255m\u001b[38;2;0;128;0mD\u001b[38;2;255;255;255m\u001b[38;2;0;128;0mD\u001b[38;2;255;255;255m\u001b[38;2;0;128;0mD\u001b[38;2;255;255;255m\u001b[38;2;0;128;0mD\u001b[38;2;255;255;255m\u001b[38;2;0;128;0mD\u001b[38;2;255;255;255m\u001b[38;2;0;128;0mD\u001b[38;2;255;255;255m\u001b[38;2;0;128;0mD\u001b[38;2;255;255;255m\u001b[38;2;0;128;0mD\u001b[38;2;255;255;255m\u001b[38;2;0;128;0mD\u001b[38;2;255;255;255m\u001b[38;2;0;128;0mD\u001b[38;2;255;255;255m\u001b[38;2;0;128;0mD\u001b[38;2;255;255;255m\u001b[38;2;0;128;0mD\u001b[38;2;255;255;255m\u001b[38;2;0;128;0mD\u001b[38;2;255;255;255m\u001b[38;2;0;128;0mD\u001b[38;2;255;255;255m\u001b[38;2;0;128;0mD\u001b[38;2;255;255;255m\u001b[38;2;0;128;0mD\u001b[38;2;255;255;255m\u001b[38;2;0;128;0mD\u001b[38;2;255;255;255m\u001b[38;2;0;128;0mD\u001b[38;2;255;255;255m\u001b[38;2;0;128;0mD\u001b[38;2;255;255;255m\u001b[0;0m\n",
            "\u001b[1m\u001b[38;2;255;255;0mG\u001b[38;2;255;255;255m\u001b[38;2;189;183;107mL\u001b[38;2;255;255;255m\u001b[38;2;189;183;107mL\u001b[38;2;255;255;255m\u001b[38;2;189;183;107mL\u001b[38;2;255;255;255m\u001b[38;2;189;183;107mL\u001b[38;2;255;255;255m\u001b[38;2;189;183;107mL\u001b[38;2;255;255;255m\u001b[38;2;189;183;107mL\u001b[38;2;255;255;255m\u001b[38;2;255;69;0mB\u001b[38;2;255;255;255m\u001b[38;2;255;69;0mB\u001b[38;2;255;255;255m\u001b[38;2;255;0;0mA\u001b[38;2;255;255;255m\u001b[38;2;255;0;0mA\u001b[38;2;255;255;255m\u001b[38;2;255;0;0mA\u001b[38;2;255;255;255m\u001b[38;2;255;0;0mA\u001b[38;2;255;255;255m\u001b[38;2;255;0;0mA\u001b[38;2;255;255;255m\u001b[38;2;255;0;0mA\u001b[38;2;255;255;255m\u001b[38;2;255;0;0mA\u001b[38;2;255;255;255m\u001b[38;2;255;0;0mA\u001b[38;2;255;255;255m\u001b[38;2;255;0;0mA\u001b[38;2;255;255;255m\u001b[38;2;255;69;0mB\u001b[38;2;255;255;255m\u001b[38;2;255;0;0mA\u001b[38;2;255;255;255m\u001b[38;2;255;69;0mB\u001b[38;2;255;255;255m\u001b[38;2;255;69;0mB\u001b[38;2;255;255;255m\u001b[38;2;255;69;0mB\u001b[38;2;255;255;255m\u001b[38;2;255;69;0mB\u001b[38;2;255;255;255m\u001b[38;2;255;255;0mG\u001b[38;2;255;255;255m\u001b[38;2;255;255;0mG\u001b[38;2;255;255;255m\u001b[38;2;255;255;0mG\u001b[38;2;255;255;255m\u001b[38;2;255;255;0mG\u001b[38;2;255;255;255m\u001b[38;2;255;255;0mG\u001b[38;2;255;255;255m\u001b[38;2;255;255;0mG\u001b[38;2;255;255;255m\u001b[0;0m\n",
            "\u001b[1m\u001b[38;2;0;100;0mE\u001b[38;2;255;255;255m\u001b[38;2;0;100;0mE\u001b[38;2;255;255;255m\u001b[38;2;0;100;0mE\u001b[38;2;255;255;255m\u001b[38;2;0;100;0mE\u001b[38;2;255;255;255m\u001b[38;2;0;100;0mE\u001b[38;2;255;255;255m\u001b[38;2;0;100;0mE\u001b[38;2;255;255;255m\u001b[38;2;0;100;0mE\u001b[38;2;255;255;255m\u001b[38;2;0;100;0mE\u001b[38;2;255;255;255m\u001b[38;2;0;100;0mE\u001b[38;2;255;255;255m\u001b[38;2;0;100;0mE\u001b[38;2;255;255;255m\u001b[38;2;0;100;0mE\u001b[38;2;255;255;255m\u001b[38;2;0;100;0mE\u001b[38;2;255;255;255m\u001b[38;2;0;100;0mE\u001b[38;2;255;255;255m\u001b[38;2;194;225;5mF\u001b[38;2;255;255;255m\u001b[38;2;194;225;5mF\u001b[38;2;255;255;255m\u001b[38;2;194;225;5mF\u001b[38;2;255;255;255m\u001b[38;2;0;128;0mD\u001b[38;2;255;255;255m\u001b[38;2;0;128;0mD\u001b[38;2;255;255;255m\u001b[38;2;0;128;0mD\u001b[38;2;255;255;255m\u001b[38;2;0;128;0mD\u001b[38;2;255;255;255m\u001b[38;2;0;128;0mD\u001b[38;2;255;255;255m\u001b[38;2;0;128;0mD\u001b[38;2;255;255;255m\u001b[38;2;0;128;0mD\u001b[38;2;255;255;255m\u001b[38;2;0;128;0mD\u001b[38;2;255;255;255m\u001b[38;2;0;128;0mD\u001b[38;2;255;255;255m\u001b[38;2;0;128;0mD\u001b[38;2;255;255;255m\u001b[38;2;0;128;0mD\u001b[38;2;255;255;255m\u001b[38;2;0;128;0mD\u001b[38;2;255;255;255m\u001b[38;2;0;128;0mD\u001b[38;2;255;255;255m\u001b[38;2;0;128;0mD\u001b[38;2;255;255;255m\u001b[0;0m\n",
            "\u001b[1m\u001b[38;2;0;100;0mE\u001b[38;2;255;255;255m\u001b[38;2;255;255;0mG\u001b[38;2;255;255;255m\u001b[38;2;0;100;0mE\u001b[38;2;255;255;255m\u001b[38;2;0;100;0mE\u001b[38;2;255;255;255m\u001b[38;2;0;100;0mE\u001b[38;2;255;255;255m\u001b[38;2;0;100;0mE\u001b[38;2;255;255;255m\u001b[38;2;194;225;5mF\u001b[38;2;255;255;255m\u001b[38;2;194;225;5mF\u001b[38;2;255;255;255m\u001b[38;2;0;100;0mE\u001b[38;2;255;255;255m\u001b[38;2;0;100;0mE\u001b[38;2;255;255;255m\u001b[38;2;0;128;0mD\u001b[38;2;255;255;255m\u001b[38;2;0;128;0mD\u001b[38;2;255;255;255m\u001b[38;2;0;128;0mD\u001b[38;2;255;255;255m\u001b[38;2;0;128;0mD\u001b[38;2;255;255;255m\u001b[38;2;0;128;0mD\u001b[38;2;255;255;255m\u001b[38;2;0;128;0mD\u001b[38;2;255;255;255m\u001b[38;2;0;128;0mD\u001b[38;2;255;255;255m\u001b[38;2;0;128;0mD\u001b[38;2;255;255;255m\u001b[38;2;0;128;0mD\u001b[38;2;255;255;255m\u001b[38;2;0;128;0mD\u001b[38;2;255;255;255m\u001b[38;2;0;128;0mD\u001b[38;2;255;255;255m\u001b[38;2;0;128;0mD\u001b[38;2;255;255;255m\u001b[38;2;0;128;0mD\u001b[38;2;255;255;255m\u001b[38;2;0;128;0mD\u001b[38;2;255;255;255m\u001b[38;2;194;225;5mF\u001b[38;2;255;255;255m\u001b[38;2;194;225;5mF\u001b[38;2;255;255;255m\u001b[38;2;194;225;5mF\u001b[38;2;255;255;255m\u001b[38;2;0;128;0mD\u001b[38;2;255;255;255m\u001b[38;2;0;128;0mD\u001b[38;2;255;255;255m\u001b[38;2;0;128;0mD\u001b[38;2;255;255;255m\u001b[0;0m\n",
            "\u001b[1m\u001b[38;2;0;100;0mE\u001b[38;2;255;255;255m\u001b[38;2;0;100;0mE\u001b[38;2;255;255;255m\u001b[38;2;0;100;0mE\u001b[38;2;255;255;255m\u001b[38;2;0;100;0mE\u001b[38;2;255;255;255m\u001b[38;2;0;100;0mE\u001b[38;2;255;255;255m\u001b[38;2;255;255;0mG\u001b[38;2;255;255;255m\u001b[38;2;255;255;0mG\u001b[38;2;255;255;255m\u001b[38;2;255;255;0mG\u001b[38;2;255;255;255m\u001b[38;2;255;255;0mG\u001b[38;2;255;255;255m\u001b[38;2;255;255;0mG\u001b[38;2;255;255;255m\u001b[38;2;255;255;0mG\u001b[38;2;255;255;255m\u001b[38;2;0;100;0mE\u001b[38;2;255;255;255m\u001b[38;2;0;100;0mE\u001b[38;2;255;255;255m\u001b[38;2;0;100;0mE\u001b[38;2;255;255;255m\u001b[38;2;255;255;0mG\u001b[38;2;255;255;255m\u001b[38;2;255;255;0mG\u001b[38;2;255;255;255m\u001b[38;2;255;255;0mG\u001b[38;2;255;255;255m\u001b[38;2;194;225;5mF\u001b[38;2;255;255;255m\u001b[38;2;194;225;5mF\u001b[38;2;255;255;255m\u001b[38;2;0;100;0mE\u001b[38;2;255;255;255m\u001b[38;2;0;100;0mE\u001b[38;2;255;255;255m\u001b[38;2;0;100;0mE\u001b[38;2;255;255;255m\u001b[38;2;255;255;0mG\u001b[38;2;255;255;255m\u001b[38;2;255;255;0mG\u001b[38;2;255;255;255m\u001b[38;2;255;255;0mG\u001b[38;2;255;255;255m\u001b[38;2;255;255;0mG\u001b[38;2;255;255;255m\u001b[38;2;255;255;0mG\u001b[38;2;255;255;255m\u001b[38;2;0;100;0mE\u001b[38;2;255;255;255m\u001b[38;2;0;100;0mE\u001b[38;2;255;255;255m\u001b[38;2;0;128;0mD\u001b[38;2;255;255;255m\u001b[0;0m\n",
            "\u001b[1m\u001b[38;2;0;128;0mD\u001b[38;2;255;255;255m\u001b[38;2;0;128;0mD\u001b[38;2;255;255;255m\u001b[38;2;0;128;0mD\u001b[38;2;255;255;255m\u001b[38;2;0;128;0mD\u001b[38;2;255;255;255m\u001b[38;2;0;128;0mD\u001b[38;2;255;255;255m\u001b[38;2;0;128;0mD\u001b[38;2;255;255;255m\u001b[38;2;0;128;0mD\u001b[38;2;255;255;255m\u001b[38;2;0;128;0mD\u001b[38;2;255;255;255m\u001b[38;2;0;128;0mD\u001b[38;2;255;255;255m\u001b[38;2;0;128;0mD\u001b[38;2;255;255;255m\u001b[38;2;0;128;0mD\u001b[38;2;255;255;255m\u001b[38;2;0;128;0mD\u001b[38;2;255;255;255m\u001b[38;2;0;128;0mD\u001b[38;2;255;255;255m\u001b[38;2;0;128;0mD\u001b[38;2;255;255;255m\u001b[38;2;0;128;0mD\u001b[38;2;255;255;255m\u001b[38;2;0;128;0mD\u001b[38;2;255;255;255m\u001b[38;2;0;128;0mD\u001b[38;2;255;255;255m\u001b[38;2;0;128;0mD\u001b[38;2;255;255;255m\u001b[38;2;0;128;0mD\u001b[38;2;255;255;255m\u001b[38;2;0;128;0mD\u001b[38;2;255;255;255m\u001b[38;2;0;128;0mD\u001b[38;2;255;255;255m\u001b[38;2;0;128;0mD\u001b[38;2;255;255;255m\u001b[38;2;0;128;0mD\u001b[38;2;255;255;255m\u001b[38;2;0;128;0mD\u001b[38;2;255;255;255m\u001b[38;2;0;128;0mD\u001b[38;2;255;255;255m\u001b[38;2;0;128;0mD\u001b[38;2;255;255;255m\u001b[38;2;0;128;0mD\u001b[38;2;255;255;255m\u001b[38;2;0;128;0mD\u001b[38;2;255;255;255m\u001b[38;2;0;128;0mD\u001b[38;2;255;255;255m\u001b[38;2;0;128;0mD\u001b[38;2;255;255;255m\u001b[0;0m\n",
            "\u001b[1m\u001b[38;2;192;192;192mN\u001b[38;2;255;255;255m\u001b[38;2;128;128;128mM\u001b[38;2;255;255;255m\u001b[38;2;128;128;128mM\u001b[38;2;255;255;255m\u001b[38;2;128;128;128mM\u001b[38;2;255;255;255m\u001b[38;2;128;128;128mM\u001b[38;2;255;255;255m\u001b[38;2;189;183;107mL\u001b[38;2;255;255;255m\u001b[38;2;189;183;107mL\u001b[38;2;255;255;255m\u001b[38;2;233;150;122mK\u001b[38;2;255;255;255m\u001b[38;2;233;150;122mK\u001b[38;2;255;255;255m\u001b[38;2;205;92;92mJ\u001b[38;2;255;255;255m\u001b[38;2;255;0;0mA\u001b[38;2;255;255;255m\u001b[38;2;255;0;0mA\u001b[38;2;255;255;255m\u001b[38;2;255;0;0mA\u001b[38;2;255;255;255m\u001b[38;2;255;0;0mA\u001b[38;2;255;255;255m\u001b[38;2;255;0;0mA\u001b[38;2;255;255;255m\u001b[38;2;255;0;0mA\u001b[38;2;255;255;255m\u001b[38;2;255;69;0mB\u001b[38;2;255;255;255m\u001b[38;2;255;69;0mB\u001b[38;2;255;255;255m\u001b[38;2;255;255;0mG\u001b[38;2;255;255;255m\u001b[38;2;255;255;0mG\u001b[38;2;255;255;255m\u001b[38;2;255;255;0mG\u001b[38;2;255;255;255m\u001b[38;2;255;255;0mG\u001b[38;2;255;255;255m\u001b[38;2;255;255;0mG\u001b[38;2;255;255;255m\u001b[38;2;255;255;0mG\u001b[38;2;255;255;255m\u001b[38;2;255;255;0mG\u001b[38;2;255;255;255m\u001b[38;2;255;255;0mG\u001b[38;2;255;255;255m\u001b[38;2;255;255;0mG\u001b[38;2;255;255;255m\u001b[38;2;255;255;0mG\u001b[38;2;255;255;255m\u001b[38;2;0;100;0mE\u001b[38;2;255;255;255m\u001b[38;2;0;100;0mE\u001b[38;2;255;255;255m\u001b[0;0m\n",
            "\u001b[1m\u001b[38;2;0;100;0mE\u001b[38;2;255;255;255m\u001b[38;2;0;100;0mE\u001b[38;2;255;255;255m\u001b[38;2;0;100;0mE\u001b[38;2;255;255;255m\u001b[38;2;0;100;0mE\u001b[38;2;255;255;255m\u001b[38;2;0;100;0mE\u001b[38;2;255;255;255m\u001b[38;2;0;100;0mE\u001b[38;2;255;255;255m\u001b[38;2;0;100;0mE\u001b[38;2;255;255;255m\u001b[38;2;255;255;0mG\u001b[38;2;255;255;255m\u001b[38;2;255;0;0mA\u001b[38;2;255;255;255m\u001b[38;2;255;0;0mA\u001b[38;2;255;255;255m\u001b[38;2;255;0;0mA\u001b[38;2;255;255;255m\u001b[38;2;255;0;0mA\u001b[38;2;255;255;255m\u001b[38;2;255;0;0mA\u001b[38;2;255;255;255m\u001b[38;2;255;0;0mA\u001b[38;2;255;255;255m\u001b[38;2;255;0;0mA\u001b[38;2;255;255;255m\u001b[38;2;255;0;0mA\u001b[38;2;255;255;255m\u001b[38;2;255;0;0mA\u001b[38;2;255;255;255m\u001b[38;2;255;0;0mA\u001b[38;2;255;255;255m\u001b[38;2;255;0;0mA\u001b[38;2;255;255;255m\u001b[38;2;0;100;0mE\u001b[38;2;255;255;255m\u001b[38;2;0;100;0mE\u001b[38;2;255;255;255m\u001b[38;2;0;100;0mE\u001b[38;2;255;255;255m\u001b[38;2;0;100;0mE\u001b[38;2;255;255;255m\u001b[38;2;0;100;0mE\u001b[38;2;255;255;255m\u001b[38;2;0;100;0mE\u001b[38;2;255;255;255m\u001b[38;2;0;100;0mE\u001b[38;2;255;255;255m\u001b[38;2;0;100;0mE\u001b[38;2;255;255;255m\u001b[38;2;0;100;0mE\u001b[38;2;255;255;255m\u001b[38;2;0;100;0mE\u001b[38;2;255;255;255m\u001b[38;2;0;100;0mE\u001b[38;2;255;255;255m\u001b[0;0m\n",
            "\u001b[1m\u001b[38;2;240;240;240mO\u001b[38;2;255;255;255m\u001b[38;2;240;240;240mO\u001b[38;2;255;255;255m\u001b[38;2;0;100;0mE\u001b[38;2;255;255;255m\u001b[38;2;0;100;0mE\u001b[38;2;255;255;255m\u001b[38;2;240;240;240mO\u001b[38;2;255;255;255m\u001b[38;2;255;0;0mA\u001b[38;2;255;255;255m\u001b[38;2;255;0;0mA\u001b[38;2;255;255;255m\u001b[38;2;255;0;0mA\u001b[38;2;255;255;255m\u001b[38;2;255;0;0mA\u001b[38;2;255;255;255m\u001b[38;2;255;0;0mA\u001b[38;2;255;255;255m\u001b[38;2;255;0;0mA\u001b[38;2;255;255;255m\u001b[38;2;255;0;0mA\u001b[38;2;255;255;255m\u001b[38;2;255;0;0mA\u001b[38;2;255;255;255m\u001b[38;2;255;0;0mA\u001b[38;2;255;255;255m\u001b[38;2;255;0;0mA\u001b[38;2;255;255;255m\u001b[38;2;255;0;0mA\u001b[38;2;255;255;255m\u001b[38;2;255;0;0mA\u001b[38;2;255;255;255m\u001b[38;2;255;0;0mA\u001b[38;2;255;255;255m\u001b[38;2;255;0;0mA\u001b[38;2;255;255;255m\u001b[38;2;255;0;0mA\u001b[38;2;255;255;255m\u001b[38;2;255;0;0mA\u001b[38;2;255;255;255m\u001b[38;2;102;205;170mH\u001b[38;2;255;255;255m\u001b[38;2;102;205;170mH\u001b[38;2;255;255;255m\u001b[38;2;102;205;170mH\u001b[38;2;255;255;255m\u001b[38;2;102;205;170mH\u001b[38;2;255;255;255m\u001b[38;2;102;205;170mH\u001b[38;2;255;255;255m\u001b[38;2;102;205;170mH\u001b[38;2;255;255;255m\u001b[38;2;0;100;0mE\u001b[38;2;255;255;255m\u001b[38;2;0;100;0mE\u001b[38;2;255;255;255m\u001b[38;2;0;100;0mE\u001b[38;2;255;255;255m\u001b[0;0m\n",
            "\u001b[1m\u001b[38;2;255;69;0mB\u001b[38;2;255;255;255m\u001b[38;2;255;69;0mB\u001b[38;2;255;255;255m\u001b[38;2;255;69;0mB\u001b[38;2;255;255;255m\u001b[38;2;255;69;0mB\u001b[38;2;255;255;255m\u001b[38;2;255;69;0mB\u001b[38;2;255;255;255m\u001b[38;2;255;69;0mB\u001b[38;2;255;255;255m\u001b[38;2;255;69;0mB\u001b[38;2;255;255;255m\u001b[38;2;50;205;50mC\u001b[38;2;255;255;255m\u001b[38;2;50;205;50mC\u001b[38;2;255;255;255m\u001b[38;2;50;205;50mC\u001b[38;2;255;255;255m\u001b[38;2;50;205;50mC\u001b[38;2;255;255;255m\u001b[38;2;50;205;50mC\u001b[38;2;255;255;255m\u001b[38;2;50;205;50mC\u001b[38;2;255;255;255m\u001b[38;2;255;0;0mA\u001b[38;2;255;255;255m\u001b[38;2;255;0;0mA\u001b[38;2;255;255;255m\u001b[38;2;255;0;0mA\u001b[38;2;255;255;255m\u001b[38;2;255;0;0mA\u001b[38;2;255;255;255m\u001b[38;2;255;0;0mA\u001b[38;2;255;255;255m\u001b[38;2;255;0;0mA\u001b[38;2;255;255;255m\u001b[0;0m\n",
            "\u001b[1m\u001b[38;2;0;128;0mD\u001b[38;2;255;255;255m\u001b[38;2;0;128;0mD\u001b[38;2;255;255;255m\u001b[38;2;0;100;0mE\u001b[38;2;255;255;255m\u001b[38;2;0;100;0mE\u001b[38;2;255;255;255m\u001b[38;2;0;100;0mE\u001b[38;2;255;255;255m\u001b[38;2;0;100;0mE\u001b[38;2;255;255;255m\u001b[38;2;0;100;0mE\u001b[38;2;255;255;255m\u001b[38;2;0;100;0mE\u001b[38;2;255;255;255m\u001b[38;2;255;69;0mB\u001b[38;2;255;255;255m\u001b[38;2;255;69;0mB\u001b[38;2;255;255;255m\u001b[38;2;255;69;0mB\u001b[38;2;255;255;255m\u001b[38;2;255;0;0mA\u001b[38;2;255;255;255m\u001b[38;2;255;0;0mA\u001b[38;2;255;255;255m\u001b[38;2;255;0;0mA\u001b[38;2;255;255;255m\u001b[38;2;255;0;0mA\u001b[38;2;255;255;255m\u001b[38;2;255;0;0mA\u001b[38;2;255;255;255m\u001b[38;2;255;0;0mA\u001b[38;2;255;255;255m\u001b[38;2;255;69;0mB\u001b[38;2;255;255;255m\u001b[38;2;255;69;0mB\u001b[38;2;255;255;255m\u001b[38;2;255;255;0mG\u001b[38;2;255;255;255m\u001b[38;2;194;225;5mF\u001b[38;2;255;255;255m\u001b[38;2;194;225;5mF\u001b[38;2;255;255;255m\u001b[38;2;194;225;5mF\u001b[38;2;255;255;255m\u001b[38;2;194;225;5mF\u001b[38;2;255;255;255m\u001b[38;2;0;128;0mD\u001b[38;2;255;255;255m\u001b[38;2;0;128;0mD\u001b[38;2;255;255;255m\u001b[38;2;0;128;0mD\u001b[38;2;255;255;255m\u001b[38;2;0;128;0mD\u001b[38;2;255;255;255m\u001b[38;2;0;128;0mD\u001b[38;2;255;255;255m\u001b[38;2;0;100;0mE\u001b[38;2;255;255;255m\u001b[0;0m\n",
            "\u001b[1m\u001b[38;2;0;100;0mE\u001b[38;2;255;255;255m\u001b[38;2;255;255;0mG\u001b[38;2;255;255;255m\u001b[38;2;255;69;0mB\u001b[38;2;255;255;255m\u001b[38;2;255;69;0mB\u001b[38;2;255;255;255m\u001b[38;2;255;69;0mB\u001b[38;2;255;255;255m\u001b[38;2;255;0;0mA\u001b[38;2;255;255;255m\u001b[38;2;255;0;0mA\u001b[38;2;255;255;255m\u001b[38;2;255;0;0mA\u001b[38;2;255;255;255m\u001b[38;2;255;0;0mA\u001b[38;2;255;255;255m\u001b[38;2;255;0;0mA\u001b[38;2;255;255;255m\u001b[38;2;255;0;0mA\u001b[38;2;255;255;255m\u001b[38;2;255;0;0mA\u001b[38;2;255;255;255m\u001b[38;2;255;0;0mA\u001b[38;2;255;255;255m\u001b[38;2;255;0;0mA\u001b[38;2;255;255;255m\u001b[38;2;255;0;0mA\u001b[38;2;255;255;255m\u001b[38;2;255;0;0mA\u001b[38;2;255;255;255m\u001b[38;2;255;0;0mA\u001b[38;2;255;255;255m\u001b[38;2;255;0;0mA\u001b[38;2;255;255;255m\u001b[38;2;255;0;0mA\u001b[38;2;255;255;255m\u001b[38;2;255;0;0mA\u001b[38;2;255;255;255m\u001b[38;2;255;69;0mB\u001b[38;2;255;255;255m\u001b[38;2;0;100;0mE\u001b[38;2;255;255;255m\u001b[38;2;0;128;0mD\u001b[38;2;255;255;255m\u001b[38;2;0;128;0mD\u001b[38;2;255;255;255m\u001b[38;2;0;128;0mD\u001b[38;2;255;255;255m\u001b[38;2;0;128;0mD\u001b[38;2;255;255;255m\u001b[38;2;0;128;0mD\u001b[38;2;255;255;255m\u001b[38;2;0;128;0mD\u001b[38;2;255;255;255m\u001b[38;2;0;128;0mD\u001b[38;2;255;255;255m\u001b[38;2;0;128;0mD\u001b[38;2;255;255;255m\u001b[0;0m\n",
            "\u001b[1m\u001b[38;2;255;255;0mG\u001b[38;2;255;255;255m\u001b[38;2;255;255;0mG\u001b[38;2;255;255;255m\u001b[38;2;255;255;0mG\u001b[38;2;255;255;255m\u001b[38;2;255;255;0mG\u001b[38;2;255;255;255m\u001b[38;2;255;255;0mG\u001b[38;2;255;255;255m\u001b[38;2;255;255;0mG\u001b[38;2;255;255;255m\u001b[38;2;255;255;0mG\u001b[38;2;255;255;255m\u001b[38;2;255;0;0mA\u001b[38;2;255;255;255m\u001b[38;2;255;0;0mA\u001b[38;2;255;255;255m\u001b[38;2;255;0;0mA\u001b[38;2;255;255;255m\u001b[38;2;255;0;0mA\u001b[38;2;255;255;255m\u001b[38;2;255;0;0mA\u001b[38;2;255;255;255m\u001b[38;2;255;0;0mA\u001b[38;2;255;255;255m\u001b[38;2;255;0;0mA\u001b[38;2;255;255;255m\u001b[38;2;255;0;0mA\u001b[38;2;255;255;255m\u001b[38;2;255;0;0mA\u001b[38;2;255;255;255m\u001b[38;2;255;0;0mA\u001b[38;2;255;255;255m\u001b[38;2;255;0;0mA\u001b[38;2;255;255;255m\u001b[38;2;255;0;0mA\u001b[38;2;255;255;255m\u001b[38;2;255;0;0mA\u001b[38;2;255;255;255m\u001b[38;2;255;0;0mA\u001b[38;2;255;255;255m\u001b[38;2;255;0;0mA\u001b[38;2;255;255;255m\u001b[38;2;255;69;0mB\u001b[38;2;255;255;255m\u001b[38;2;255;0;0mA\u001b[38;2;255;255;255m\u001b[38;2;255;0;0mA\u001b[38;2;255;255;255m\u001b[38;2;255;255;0mG\u001b[38;2;255;255;255m\u001b[38;2;255;255;0mG\u001b[38;2;255;255;255m\u001b[38;2;255;255;0mG\u001b[38;2;255;255;255m\u001b[38;2;255;255;0mG\u001b[38;2;255;255;255m\u001b[38;2;255;255;0mG\u001b[38;2;255;255;255m\u001b[0;0m\n",
            "\u001b[1m\u001b[38;2;192;192;192mN\u001b[38;2;255;255;255m\u001b[38;2;192;192;192mN\u001b[38;2;255;255;255m\u001b[38;2;192;192;192mN\u001b[38;2;255;255;255m\u001b[38;2;192;192;192mN\u001b[38;2;255;255;255m\u001b[38;2;192;192;192mN\u001b[38;2;255;255;255m\u001b[38;2;192;192;192mN\u001b[38;2;255;255;255m\u001b[38;2;189;183;107mL\u001b[38;2;255;255;255m\u001b[38;2;189;183;107mL\u001b[38;2;255;255;255m\u001b[38;2;255;69;0mB\u001b[38;2;255;255;255m\u001b[38;2;255;0;0mA\u001b[38;2;255;255;255m\u001b[38;2;255;0;0mA\u001b[38;2;255;255;255m\u001b[38;2;255;0;0mA\u001b[38;2;255;255;255m\u001b[38;2;255;0;0mA\u001b[38;2;255;255;255m\u001b[38;2;255;0;0mA\u001b[38;2;255;255;255m\u001b[38;2;255;0;0mA\u001b[38;2;255;255;255m\u001b[38;2;255;0;0mA\u001b[38;2;255;255;255m\u001b[38;2;0;100;0mE\u001b[38;2;255;255;255m\u001b[38;2;0;100;0mE\u001b[38;2;255;255;255m\u001b[38;2;0;100;0mE\u001b[38;2;255;255;255m\u001b[38;2;0;100;0mE\u001b[38;2;255;255;255m\u001b[38;2;0;100;0mE\u001b[38;2;255;255;255m\u001b[38;2;0;100;0mE\u001b[38;2;255;255;255m\u001b[38;2;0;100;0mE\u001b[38;2;255;255;255m\u001b[38;2;0;100;0mE\u001b[38;2;255;255;255m\u001b[38;2;0;100;0mE\u001b[38;2;255;255;255m\u001b[38;2;0;100;0mE\u001b[38;2;255;255;255m\u001b[38;2;0;100;0mE\u001b[38;2;255;255;255m\u001b[38;2;0;100;0mE\u001b[38;2;255;255;255m\u001b[38;2;0;100;0mE\u001b[38;2;255;255;255m\u001b[38;2;0;100;0mE\u001b[38;2;255;255;255m\u001b[0;0m\n",
            "\u001b[1m\u001b[38;2;240;240;240mO\u001b[38;2;255;255;255m\u001b[38;2;240;240;240mO\u001b[38;2;255;255;255m\u001b[38;2;240;240;240mO\u001b[38;2;255;255;255m\u001b[38;2;240;240;240mO\u001b[38;2;255;255;255m\u001b[38;2;240;240;240mO\u001b[38;2;255;255;255m\u001b[38;2;240;240;240mO\u001b[38;2;255;255;255m\u001b[38;2;240;240;240mO\u001b[38;2;255;255;255m\u001b[38;2;240;240;240mO\u001b[38;2;255;255;255m\u001b[38;2;240;240;240mO\u001b[38;2;255;255;255m\u001b[38;2;240;240;240mO\u001b[38;2;255;255;255m\u001b[38;2;240;240;240mO\u001b[38;2;255;255;255m\u001b[38;2;240;240;240mO\u001b[38;2;255;255;255m\u001b[38;2;240;240;240mO\u001b[38;2;255;255;255m\u001b[38;2;240;240;240mO\u001b[38;2;255;255;255m\u001b[38;2;240;240;240mO\u001b[38;2;255;255;255m\u001b[38;2;240;240;240mO\u001b[38;2;255;255;255m\u001b[38;2;240;240;240mO\u001b[38;2;255;255;255m\u001b[38;2;240;240;240mO\u001b[38;2;255;255;255m\u001b[38;2;240;240;240mO\u001b[38;2;255;255;255m\u001b[38;2;240;240;240mO\u001b[38;2;255;255;255m\u001b[38;2;240;240;240mO\u001b[38;2;255;255;255m\u001b[38;2;240;240;240mO\u001b[38;2;255;255;255m\u001b[38;2;240;240;240mO\u001b[38;2;255;255;255m\u001b[38;2;240;240;240mO\u001b[38;2;255;255;255m\u001b[38;2;240;240;240mO\u001b[38;2;255;255;255m\u001b[38;2;240;240;240mO\u001b[38;2;255;255;255m\u001b[38;2;240;240;240mO\u001b[38;2;255;255;255m\u001b[38;2;240;240;240mO\u001b[38;2;255;255;255m\u001b[38;2;240;240;240mO\u001b[38;2;255;255;255m\u001b[38;2;240;240;240mO\u001b[38;2;255;255;255m\u001b[0;0m\n",
            "\u001b[1m\u001b[38;2;0;128;0mD\u001b[38;2;255;255;255m\u001b[38;2;0;128;0mD\u001b[38;2;255;255;255m\u001b[38;2;0;128;0mD\u001b[38;2;255;255;255m\u001b[38;2;0;128;0mD\u001b[38;2;255;255;255m\u001b[38;2;0;128;0mD\u001b[38;2;255;255;255m\u001b[38;2;0;128;0mD\u001b[38;2;255;255;255m\u001b[38;2;0;128;0mD\u001b[38;2;255;255;255m\u001b[38;2;0;128;0mD\u001b[38;2;255;255;255m\u001b[38;2;0;100;0mE\u001b[38;2;255;255;255m\u001b[38;2;0;100;0mE\u001b[38;2;255;255;255m\u001b[38;2;255;255;0mG\u001b[38;2;255;255;255m\u001b[38;2;255;69;0mB\u001b[38;2;255;255;255m\u001b[38;2;255;69;0mB\u001b[38;2;255;255;255m\u001b[38;2;255;0;0mA\u001b[38;2;255;255;255m\u001b[38;2;255;0;0mA\u001b[38;2;255;255;255m\u001b[38;2;255;0;0mA\u001b[38;2;255;255;255m\u001b[38;2;255;0;0mA\u001b[38;2;255;255;255m\u001b[38;2;255;0;0mA\u001b[38;2;255;255;255m\u001b[38;2;255;69;0mB\u001b[38;2;255;255;255m\u001b[38;2;255;255;0mG\u001b[38;2;255;255;255m\u001b[38;2;255;255;0mG\u001b[38;2;255;255;255m\u001b[38;2;255;255;0mG\u001b[38;2;255;255;255m\u001b[0;0m\n"
          ]
        }
      ],
      "source": [
        "# Print the chromatin state patterns of the first 25 promoters associated with highly-expressed genes on chromosome 1\n",
        "for i in range(25):\n",
        "  entry_high=prom_highly_expressed[0][i]\n",
        "  crb.colored_css_str_as_is(entry_high)"
      ]
    },
    {
      "cell_type": "code",
      "execution_count": 33,
      "metadata": {
        "colab": {
          "base_uri": "https://localhost:8080/"
        },
        "id": "TSfDB2z516lC",
        "outputId": "997c2ca4-7a32-4d49-ff53-b75d2c503155"
      },
      "outputs": [
        {
          "output_type": "stream",
          "name": "stdout",
          "text": [
            "\u001b[1m\u001b[38;2;240;240;240mO\u001b[38;2;255;255;255m\u001b[38;2;240;240;240mO\u001b[38;2;255;255;255m\u001b[38;2;240;240;240mO\u001b[38;2;255;255;255m\u001b[38;2;240;240;240mO\u001b[38;2;255;255;255m\u001b[38;2;240;240;240mO\u001b[38;2;255;255;255m\u001b[38;2;240;240;240mO\u001b[38;2;255;255;255m\u001b[38;2;240;240;240mO\u001b[38;2;255;255;255m\u001b[38;2;240;240;240mO\u001b[38;2;255;255;255m\u001b[38;2;240;240;240mO\u001b[38;2;255;255;255m\u001b[38;2;240;240;240mO\u001b[38;2;255;255;255m\u001b[38;2;240;240;240mO\u001b[38;2;255;255;255m\u001b[38;2;240;240;240mO\u001b[38;2;255;255;255m\u001b[38;2;240;240;240mO\u001b[38;2;255;255;255m\u001b[38;2;240;240;240mO\u001b[38;2;255;255;255m\u001b[38;2;240;240;240mO\u001b[38;2;255;255;255m\u001b[0;0m\n",
            "\u001b[1m\u001b[38;2;240;240;240mO\u001b[38;2;255;255;255m\u001b[38;2;240;240;240mO\u001b[38;2;255;255;255m\u001b[38;2;240;240;240mO\u001b[38;2;255;255;255m\u001b[38;2;240;240;240mO\u001b[38;2;255;255;255m\u001b[38;2;240;240;240mO\u001b[38;2;255;255;255m\u001b[38;2;240;240;240mO\u001b[38;2;255;255;255m\u001b[38;2;240;240;240mO\u001b[38;2;255;255;255m\u001b[38;2;240;240;240mO\u001b[38;2;255;255;255m\u001b[38;2;240;240;240mO\u001b[38;2;255;255;255m\u001b[38;2;240;240;240mO\u001b[38;2;255;255;255m\u001b[38;2;240;240;240mO\u001b[38;2;255;255;255m\u001b[38;2;240;240;240mO\u001b[38;2;255;255;255m\u001b[38;2;240;240;240mO\u001b[38;2;255;255;255m\u001b[38;2;240;240;240mO\u001b[38;2;255;255;255m\u001b[38;2;240;240;240mO\u001b[38;2;255;255;255m\u001b[0;0m\n",
            "\u001b[1m\u001b[38;2;192;192;192mN\u001b[38;2;255;255;255m\u001b[38;2;192;192;192mN\u001b[38;2;255;255;255m\u001b[38;2;192;192;192mN\u001b[38;2;255;255;255m\u001b[38;2;192;192;192mN\u001b[38;2;255;255;255m\u001b[38;2;192;192;192mN\u001b[38;2;255;255;255m\u001b[38;2;192;192;192mN\u001b[38;2;255;255;255m\u001b[38;2;192;192;192mN\u001b[38;2;255;255;255m\u001b[38;2;192;192;192mN\u001b[38;2;255;255;255m\u001b[38;2;192;192;192mN\u001b[38;2;255;255;255m\u001b[38;2;192;192;192mN\u001b[38;2;255;255;255m\u001b[38;2;192;192;192mN\u001b[38;2;255;255;255m\u001b[38;2;192;192;192mN\u001b[38;2;255;255;255m\u001b[38;2;189;183;107mL\u001b[38;2;255;255;255m\u001b[38;2;255;69;0mB\u001b[38;2;255;255;255m\u001b[38;2;255;69;0mB\u001b[38;2;255;255;255m\u001b[38;2;255;69;0mB\u001b[38;2;255;255;255m\u001b[38;2;255;255;0mG\u001b[38;2;255;255;255m\u001b[38;2;192;192;192mN\u001b[38;2;255;255;255m\u001b[38;2;192;192;192mN\u001b[38;2;255;255;255m\u001b[38;2;192;192;192mN\u001b[38;2;255;255;255m\u001b[38;2;192;192;192mN\u001b[38;2;255;255;255m\u001b[38;2;192;192;192mN\u001b[38;2;255;255;255m\u001b[38;2;192;192;192mN\u001b[38;2;255;255;255m\u001b[38;2;192;192;192mN\u001b[38;2;255;255;255m\u001b[38;2;192;192;192mN\u001b[38;2;255;255;255m\u001b[38;2;192;192;192mN\u001b[38;2;255;255;255m\u001b[38;2;192;192;192mN\u001b[38;2;255;255;255m\u001b[38;2;192;192;192mN\u001b[38;2;255;255;255m\u001b[38;2;192;192;192mN\u001b[38;2;255;255;255m\u001b[38;2;192;192;192mN\u001b[38;2;255;255;255m\u001b[0;0m\n",
            "\u001b[1m\u001b[38;2;128;128;128mM\u001b[38;2;255;255;255m\u001b[38;2;128;128;128mM\u001b[38;2;255;255;255m\u001b[38;2;128;128;128mM\u001b[38;2;255;255;255m\u001b[38;2;128;128;128mM\u001b[38;2;255;255;255m\u001b[38;2;205;92;92mJ\u001b[38;2;255;255;255m\u001b[38;2;205;92;92mJ\u001b[38;2;255;255;255m\u001b[38;2;205;92;92mJ\u001b[38;2;255;255;255m\u001b[38;2;205;92;92mJ\u001b[38;2;255;255;255m\u001b[38;2;205;92;92mJ\u001b[38;2;255;255;255m\u001b[38;2;205;92;92mJ\u001b[38;2;255;255;255m\u001b[38;2;205;92;92mJ\u001b[38;2;255;255;255m\u001b[38;2;233;150;122mK\u001b[38;2;255;255;255m\u001b[38;2;233;150;122mK\u001b[38;2;255;255;255m\u001b[38;2;128;128;128mM\u001b[38;2;255;255;255m\u001b[38;2;128;128;128mM\u001b[38;2;255;255;255m\u001b[38;2;128;128;128mM\u001b[38;2;255;255;255m\u001b[38;2;128;128;128mM\u001b[38;2;255;255;255m\u001b[38;2;128;128;128mM\u001b[38;2;255;255;255m\u001b[38;2;128;128;128mM\u001b[38;2;255;255;255m\u001b[38;2;128;128;128mM\u001b[38;2;255;255;255m\u001b[0;0m\n",
            "\u001b[1m\u001b[38;2;0;100;0mE\u001b[38;2;255;255;255m\u001b[38;2;0;100;0mE\u001b[38;2;255;255;255m\u001b[38;2;0;100;0mE\u001b[38;2;255;255;255m\u001b[38;2;0;100;0mE\u001b[38;2;255;255;255m\u001b[38;2;0;100;0mE\u001b[38;2;255;255;255m\u001b[38;2;0;100;0mE\u001b[38;2;255;255;255m\u001b[38;2;0;100;0mE\u001b[38;2;255;255;255m\u001b[38;2;0;100;0mE\u001b[38;2;255;255;255m\u001b[38;2;0;100;0mE\u001b[38;2;255;255;255m\u001b[38;2;0;100;0mE\u001b[38;2;255;255;255m\u001b[38;2;0;100;0mE\u001b[38;2;255;255;255m\u001b[38;2;0;100;0mE\u001b[38;2;255;255;255m\u001b[38;2;0;128;0mD\u001b[38;2;255;255;255m\u001b[38;2;0;128;0mD\u001b[38;2;255;255;255m\u001b[38;2;0;128;0mD\u001b[38;2;255;255;255m\u001b[38;2;0;128;0mD\u001b[38;2;255;255;255m\u001b[38;2;0;128;0mD\u001b[38;2;255;255;255m\u001b[38;2;0;128;0mD\u001b[38;2;255;255;255m\u001b[38;2;0;128;0mD\u001b[38;2;255;255;255m\u001b[38;2;0;128;0mD\u001b[38;2;255;255;255m\u001b[38;2;0;128;0mD\u001b[38;2;255;255;255m\u001b[38;2;0;128;0mD\u001b[38;2;255;255;255m\u001b[38;2;0;128;0mD\u001b[38;2;255;255;255m\u001b[38;2;0;128;0mD\u001b[38;2;255;255;255m\u001b[38;2;0;128;0mD\u001b[38;2;255;255;255m\u001b[38;2;0;128;0mD\u001b[38;2;255;255;255m\u001b[38;2;0;128;0mD\u001b[38;2;255;255;255m\u001b[38;2;0;128;0mD\u001b[38;2;255;255;255m\u001b[38;2;0;128;0mD\u001b[38;2;255;255;255m\u001b[38;2;0;128;0mD\u001b[38;2;255;255;255m\u001b[0;0m\n",
            "\u001b[1m\u001b[38;2;0;128;0mD\u001b[38;2;255;255;255m\u001b[38;2;0;128;0mD\u001b[38;2;255;255;255m\u001b[38;2;0;128;0mD\u001b[38;2;255;255;255m\u001b[38;2;0;128;0mD\u001b[38;2;255;255;255m\u001b[38;2;0;128;0mD\u001b[38;2;255;255;255m\u001b[38;2;0;128;0mD\u001b[38;2;255;255;255m\u001b[38;2;0;128;0mD\u001b[38;2;255;255;255m\u001b[38;2;0;128;0mD\u001b[38;2;255;255;255m\u001b[38;2;0;128;0mD\u001b[38;2;255;255;255m\u001b[38;2;0;128;0mD\u001b[38;2;255;255;255m\u001b[38;2;0;128;0mD\u001b[38;2;255;255;255m\u001b[38;2;0;128;0mD\u001b[38;2;255;255;255m\u001b[38;2;0;128;0mD\u001b[38;2;255;255;255m\u001b[38;2;0;128;0mD\u001b[38;2;255;255;255m\u001b[38;2;0;128;0mD\u001b[38;2;255;255;255m\u001b[38;2;0;128;0mD\u001b[38;2;255;255;255m\u001b[38;2;0;128;0mD\u001b[38;2;255;255;255m\u001b[38;2;0;128;0mD\u001b[38;2;255;255;255m\u001b[38;2;0;128;0mD\u001b[38;2;255;255;255m\u001b[38;2;0;128;0mD\u001b[38;2;255;255;255m\u001b[0;0m\n",
            "\u001b[1m\u001b[38;2;240;240;240mO\u001b[38;2;255;255;255m\u001b[38;2;240;240;240mO\u001b[38;2;255;255;255m\u001b[38;2;240;240;240mO\u001b[38;2;255;255;255m\u001b[38;2;240;240;240mO\u001b[38;2;255;255;255m\u001b[38;2;240;240;240mO\u001b[38;2;255;255;255m\u001b[38;2;240;240;240mO\u001b[38;2;255;255;255m\u001b[38;2;240;240;240mO\u001b[38;2;255;255;255m\u001b[38;2;240;240;240mO\u001b[38;2;255;255;255m\u001b[38;2;240;240;240mO\u001b[38;2;255;255;255m\u001b[38;2;240;240;240mO\u001b[38;2;255;255;255m\u001b[38;2;240;240;240mO\u001b[38;2;255;255;255m\u001b[38;2;240;240;240mO\u001b[38;2;255;255;255m\u001b[38;2;138;145;208mI\u001b[38;2;255;255;255m\u001b[38;2;138;145;208mI\u001b[38;2;255;255;255m\u001b[38;2;138;145;208mI\u001b[38;2;255;255;255m\u001b[38;2;138;145;208mI\u001b[38;2;255;255;255m\u001b[38;2;138;145;208mI\u001b[38;2;255;255;255m\u001b[38;2;138;145;208mI\u001b[38;2;255;255;255m\u001b[38;2;138;145;208mI\u001b[38;2;255;255;255m\u001b[38;2;138;145;208mI\u001b[38;2;255;255;255m\u001b[38;2;138;145;208mI\u001b[38;2;255;255;255m\u001b[38;2;138;145;208mI\u001b[38;2;255;255;255m\u001b[38;2;138;145;208mI\u001b[38;2;255;255;255m\u001b[38;2;138;145;208mI\u001b[38;2;255;255;255m\u001b[38;2;138;145;208mI\u001b[38;2;255;255;255m\u001b[38;2;138;145;208mI\u001b[38;2;255;255;255m\u001b[38;2;138;145;208mI\u001b[38;2;255;255;255m\u001b[38;2;138;145;208mI\u001b[38;2;255;255;255m\u001b[38;2;138;145;208mI\u001b[38;2;255;255;255m\u001b[38;2;138;145;208mI\u001b[38;2;255;255;255m\u001b[0;0m\n",
            "\u001b[1m\u001b[38;2;240;240;240mO\u001b[38;2;255;255;255m\u001b[38;2;240;240;240mO\u001b[38;2;255;255;255m\u001b[38;2;240;240;240mO\u001b[38;2;255;255;255m\u001b[38;2;240;240;240mO\u001b[38;2;255;255;255m\u001b[38;2;240;240;240mO\u001b[38;2;255;255;255m\u001b[38;2;240;240;240mO\u001b[38;2;255;255;255m\u001b[38;2;240;240;240mO\u001b[38;2;255;255;255m\u001b[38;2;240;240;240mO\u001b[38;2;255;255;255m\u001b[38;2;240;240;240mO\u001b[38;2;255;255;255m\u001b[38;2;240;240;240mO\u001b[38;2;255;255;255m\u001b[38;2;240;240;240mO\u001b[38;2;255;255;255m\u001b[38;2;240;240;240mO\u001b[38;2;255;255;255m\u001b[38;2;240;240;240mO\u001b[38;2;255;255;255m\u001b[38;2;240;240;240mO\u001b[38;2;255;255;255m\u001b[38;2;240;240;240mO\u001b[38;2;255;255;255m\u001b[38;2;240;240;240mO\u001b[38;2;255;255;255m\u001b[38;2;138;145;208mI\u001b[38;2;255;255;255m\u001b[38;2;138;145;208mI\u001b[38;2;255;255;255m\u001b[38;2;138;145;208mI\u001b[38;2;255;255;255m\u001b[38;2;138;145;208mI\u001b[38;2;255;255;255m\u001b[38;2;138;145;208mI\u001b[38;2;255;255;255m\u001b[38;2;138;145;208mI\u001b[38;2;255;255;255m\u001b[38;2;138;145;208mI\u001b[38;2;255;255;255m\u001b[38;2;138;145;208mI\u001b[38;2;255;255;255m\u001b[38;2;138;145;208mI\u001b[38;2;255;255;255m\u001b[38;2;138;145;208mI\u001b[38;2;255;255;255m\u001b[38;2;138;145;208mI\u001b[38;2;255;255;255m\u001b[38;2;138;145;208mI\u001b[38;2;255;255;255m\u001b[38;2;138;145;208mI\u001b[38;2;255;255;255m\u001b[38;2;138;145;208mI\u001b[38;2;255;255;255m\u001b[0;0m\n",
            "\u001b[1m\u001b[38;2;138;145;208mI\u001b[38;2;255;255;255m\u001b[38;2;138;145;208mI\u001b[38;2;255;255;255m\u001b[38;2;138;145;208mI\u001b[38;2;255;255;255m\u001b[38;2;240;240;240mO\u001b[38;2;255;255;255m\u001b[38;2;240;240;240mO\u001b[38;2;255;255;255m\u001b[38;2;240;240;240mO\u001b[38;2;255;255;255m\u001b[38;2;240;240;240mO\u001b[38;2;255;255;255m\u001b[38;2;240;240;240mO\u001b[38;2;255;255;255m\u001b[38;2;240;240;240mO\u001b[38;2;255;255;255m\u001b[38;2;240;240;240mO\u001b[38;2;255;255;255m\u001b[38;2;240;240;240mO\u001b[38;2;255;255;255m\u001b[38;2;138;145;208mI\u001b[38;2;255;255;255m\u001b[38;2;138;145;208mI\u001b[38;2;255;255;255m\u001b[38;2;138;145;208mI\u001b[38;2;255;255;255m\u001b[38;2;138;145;208mI\u001b[38;2;255;255;255m\u001b[38;2;138;145;208mI\u001b[38;2;255;255;255m\u001b[38;2;138;145;208mI\u001b[38;2;255;255;255m\u001b[0;0m\n",
            "\u001b[1m\u001b[38;2;138;145;208mI\u001b[38;2;255;255;255m\u001b[38;2;138;145;208mI\u001b[38;2;255;255;255m\u001b[38;2;138;145;208mI\u001b[38;2;255;255;255m\u001b[38;2;138;145;208mI\u001b[38;2;255;255;255m\u001b[38;2;138;145;208mI\u001b[38;2;255;255;255m\u001b[38;2;138;145;208mI\u001b[38;2;255;255;255m\u001b[38;2;138;145;208mI\u001b[38;2;255;255;255m\u001b[38;2;138;145;208mI\u001b[38;2;255;255;255m\u001b[38;2;138;145;208mI\u001b[38;2;255;255;255m\u001b[38;2;138;145;208mI\u001b[38;2;255;255;255m\u001b[38;2;138;145;208mI\u001b[38;2;255;255;255m\u001b[38;2;138;145;208mI\u001b[38;2;255;255;255m\u001b[38;2;138;145;208mI\u001b[38;2;255;255;255m\u001b[38;2;138;145;208mI\u001b[38;2;255;255;255m\u001b[38;2;138;145;208mI\u001b[38;2;255;255;255m\u001b[38;2;138;145;208mI\u001b[38;2;255;255;255m\u001b[38;2;138;145;208mI\u001b[38;2;255;255;255m\u001b[38;2;138;145;208mI\u001b[38;2;255;255;255m\u001b[38;2;138;145;208mI\u001b[38;2;255;255;255m\u001b[38;2;138;145;208mI\u001b[38;2;255;255;255m\u001b[38;2;138;145;208mI\u001b[38;2;255;255;255m\u001b[38;2;138;145;208mI\u001b[38;2;255;255;255m\u001b[38;2;138;145;208mI\u001b[38;2;255;255;255m\u001b[38;2;138;145;208mI\u001b[38;2;255;255;255m\u001b[38;2;138;145;208mI\u001b[38;2;255;255;255m\u001b[38;2;138;145;208mI\u001b[38;2;255;255;255m\u001b[38;2;138;145;208mI\u001b[38;2;255;255;255m\u001b[38;2;138;145;208mI\u001b[38;2;255;255;255m\u001b[38;2;138;145;208mI\u001b[38;2;255;255;255m\u001b[38;2;138;145;208mI\u001b[38;2;255;255;255m\u001b[0;0m\n",
            "\u001b[1m\u001b[38;2;240;240;240mO\u001b[38;2;255;255;255m\u001b[38;2;240;240;240mO\u001b[38;2;255;255;255m\u001b[38;2;240;240;240mO\u001b[38;2;255;255;255m\u001b[38;2;240;240;240mO\u001b[38;2;255;255;255m\u001b[38;2;240;240;240mO\u001b[38;2;255;255;255m\u001b[38;2;240;240;240mO\u001b[38;2;255;255;255m\u001b[38;2;240;240;240mO\u001b[38;2;255;255;255m\u001b[38;2;240;240;240mO\u001b[38;2;255;255;255m\u001b[38;2;240;240;240mO\u001b[38;2;255;255;255m\u001b[38;2;240;240;240mO\u001b[38;2;255;255;255m\u001b[38;2;240;240;240mO\u001b[38;2;255;255;255m\u001b[38;2;240;240;240mO\u001b[38;2;255;255;255m\u001b[38;2;138;145;208mI\u001b[38;2;255;255;255m\u001b[38;2;138;145;208mI\u001b[38;2;255;255;255m\u001b[38;2;138;145;208mI\u001b[38;2;255;255;255m\u001b[38;2;138;145;208mI\u001b[38;2;255;255;255m\u001b[38;2;138;145;208mI\u001b[38;2;255;255;255m\u001b[38;2;138;145;208mI\u001b[38;2;255;255;255m\u001b[38;2;138;145;208mI\u001b[38;2;255;255;255m\u001b[38;2;138;145;208mI\u001b[38;2;255;255;255m\u001b[38;2;138;145;208mI\u001b[38;2;255;255;255m\u001b[38;2;138;145;208mI\u001b[38;2;255;255;255m\u001b[38;2;138;145;208mI\u001b[38;2;255;255;255m\u001b[38;2;138;145;208mI\u001b[38;2;255;255;255m\u001b[38;2;138;145;208mI\u001b[38;2;255;255;255m\u001b[38;2;138;145;208mI\u001b[38;2;255;255;255m\u001b[38;2;138;145;208mI\u001b[38;2;255;255;255m\u001b[38;2;138;145;208mI\u001b[38;2;255;255;255m\u001b[38;2;138;145;208mI\u001b[38;2;255;255;255m\u001b[38;2;138;145;208mI\u001b[38;2;255;255;255m\u001b[0;0m\n",
            "\u001b[1m\u001b[38;2;240;240;240mO\u001b[38;2;255;255;255m\u001b[38;2;240;240;240mO\u001b[38;2;255;255;255m\u001b[38;2;240;240;240mO\u001b[38;2;255;255;255m\u001b[38;2;240;240;240mO\u001b[38;2;255;255;255m\u001b[38;2;240;240;240mO\u001b[38;2;255;255;255m\u001b[38;2;240;240;240mO\u001b[38;2;255;255;255m\u001b[38;2;240;240;240mO\u001b[38;2;255;255;255m\u001b[38;2;240;240;240mO\u001b[38;2;255;255;255m\u001b[38;2;240;240;240mO\u001b[38;2;255;255;255m\u001b[38;2;240;240;240mO\u001b[38;2;255;255;255m\u001b[38;2;240;240;240mO\u001b[38;2;255;255;255m\u001b[38;2;240;240;240mO\u001b[38;2;255;255;255m\u001b[38;2;240;240;240mO\u001b[38;2;255;255;255m\u001b[38;2;240;240;240mO\u001b[38;2;255;255;255m\u001b[38;2;240;240;240mO\u001b[38;2;255;255;255m\u001b[38;2;240;240;240mO\u001b[38;2;255;255;255m\u001b[38;2;240;240;240mO\u001b[38;2;255;255;255m\u001b[38;2;240;240;240mO\u001b[38;2;255;255;255m\u001b[38;2;240;240;240mO\u001b[38;2;255;255;255m\u001b[38;2;240;240;240mO\u001b[38;2;255;255;255m\u001b[38;2;240;240;240mO\u001b[38;2;255;255;255m\u001b[38;2;240;240;240mO\u001b[38;2;255;255;255m\u001b[38;2;240;240;240mO\u001b[38;2;255;255;255m\u001b[38;2;240;240;240mO\u001b[38;2;255;255;255m\u001b[38;2;240;240;240mO\u001b[38;2;255;255;255m\u001b[38;2;240;240;240mO\u001b[38;2;255;255;255m\u001b[38;2;240;240;240mO\u001b[38;2;255;255;255m\u001b[38;2;240;240;240mO\u001b[38;2;255;255;255m\u001b[38;2;240;240;240mO\u001b[38;2;255;255;255m\u001b[38;2;240;240;240mO\u001b[38;2;255;255;255m\u001b[0;0m\n",
            "\u001b[1m\u001b[38;2;240;240;240mO\u001b[38;2;255;255;255m\u001b[38;2;240;240;240mO\u001b[38;2;255;255;255m\u001b[38;2;240;240;240mO\u001b[38;2;255;255;255m\u001b[38;2;240;240;240mO\u001b[38;2;255;255;255m\u001b[38;2;240;240;240mO\u001b[38;2;255;255;255m\u001b[38;2;240;240;240mO\u001b[38;2;255;255;255m\u001b[38;2;240;240;240mO\u001b[38;2;255;255;255m\u001b[38;2;240;240;240mO\u001b[38;2;255;255;255m\u001b[38;2;240;240;240mO\u001b[38;2;255;255;255m\u001b[38;2;240;240;240mO\u001b[38;2;255;255;255m\u001b[38;2;240;240;240mO\u001b[38;2;255;255;255m\u001b[38;2;240;240;240mO\u001b[38;2;255;255;255m\u001b[38;2;240;240;240mO\u001b[38;2;255;255;255m\u001b[38;2;240;240;240mO\u001b[38;2;255;255;255m\u001b[38;2;240;240;240mO\u001b[38;2;255;255;255m\u001b[38;2;240;240;240mO\u001b[38;2;255;255;255m\u001b[38;2;240;240;240mO\u001b[38;2;255;255;255m\u001b[38;2;240;240;240mO\u001b[38;2;255;255;255m\u001b[38;2;240;240;240mO\u001b[38;2;255;255;255m\u001b[38;2;240;240;240mO\u001b[38;2;255;255;255m\u001b[38;2;240;240;240mO\u001b[38;2;255;255;255m\u001b[38;2;240;240;240mO\u001b[38;2;255;255;255m\u001b[38;2;240;240;240mO\u001b[38;2;255;255;255m\u001b[38;2;240;240;240mO\u001b[38;2;255;255;255m\u001b[38;2;240;240;240mO\u001b[38;2;255;255;255m\u001b[38;2;138;145;208mI\u001b[38;2;255;255;255m\u001b[38;2;138;145;208mI\u001b[38;2;255;255;255m\u001b[38;2;138;145;208mI\u001b[38;2;255;255;255m\u001b[38;2;138;145;208mI\u001b[38;2;255;255;255m\u001b[38;2;240;240;240mO\u001b[38;2;255;255;255m\u001b[0;0m\n",
            "\u001b[1m\u001b[38;2;240;240;240mO\u001b[38;2;255;255;255m\u001b[38;2;240;240;240mO\u001b[38;2;255;255;255m\u001b[38;2;240;240;240mO\u001b[38;2;255;255;255m\u001b[38;2;240;240;240mO\u001b[38;2;255;255;255m\u001b[38;2;240;240;240mO\u001b[38;2;255;255;255m\u001b[38;2;240;240;240mO\u001b[38;2;255;255;255m\u001b[38;2;240;240;240mO\u001b[38;2;255;255;255m\u001b[38;2;240;240;240mO\u001b[38;2;255;255;255m\u001b[38;2;240;240;240mO\u001b[38;2;255;255;255m\u001b[38;2;240;240;240mO\u001b[38;2;255;255;255m\u001b[38;2;240;240;240mO\u001b[38;2;255;255;255m\u001b[38;2;240;240;240mO\u001b[38;2;255;255;255m\u001b[38;2;240;240;240mO\u001b[38;2;255;255;255m\u001b[38;2;240;240;240mO\u001b[38;2;255;255;255m\u001b[38;2;240;240;240mO\u001b[38;2;255;255;255m\u001b[38;2;240;240;240mO\u001b[38;2;255;255;255m\u001b[38;2;240;240;240mO\u001b[38;2;255;255;255m\u001b[38;2;240;240;240mO\u001b[38;2;255;255;255m\u001b[38;2;240;240;240mO\u001b[38;2;255;255;255m\u001b[38;2;240;240;240mO\u001b[38;2;255;255;255m\u001b[38;2;240;240;240mO\u001b[38;2;255;255;255m\u001b[38;2;240;240;240mO\u001b[38;2;255;255;255m\u001b[38;2;240;240;240mO\u001b[38;2;255;255;255m\u001b[38;2;240;240;240mO\u001b[38;2;255;255;255m\u001b[38;2;240;240;240mO\u001b[38;2;255;255;255m\u001b[38;2;240;240;240mO\u001b[38;2;255;255;255m\u001b[38;2;240;240;240mO\u001b[38;2;255;255;255m\u001b[38;2;240;240;240mO\u001b[38;2;255;255;255m\u001b[38;2;240;240;240mO\u001b[38;2;255;255;255m\u001b[38;2;240;240;240mO\u001b[38;2;255;255;255m\u001b[0;0m\n",
            "\u001b[1m\u001b[38;2;240;240;240mO\u001b[38;2;255;255;255m\u001b[38;2;240;240;240mO\u001b[38;2;255;255;255m\u001b[38;2;240;240;240mO\u001b[38;2;255;255;255m\u001b[38;2;240;240;240mO\u001b[38;2;255;255;255m\u001b[38;2;240;240;240mO\u001b[38;2;255;255;255m\u001b[38;2;240;240;240mO\u001b[38;2;255;255;255m\u001b[38;2;240;240;240mO\u001b[38;2;255;255;255m\u001b[38;2;240;240;240mO\u001b[38;2;255;255;255m\u001b[38;2;240;240;240mO\u001b[38;2;255;255;255m\u001b[38;2;240;240;240mO\u001b[38;2;255;255;255m\u001b[38;2;240;240;240mO\u001b[38;2;255;255;255m\u001b[38;2;240;240;240mO\u001b[38;2;255;255;255m\u001b[38;2;240;240;240mO\u001b[38;2;255;255;255m\u001b[38;2;240;240;240mO\u001b[38;2;255;255;255m\u001b[38;2;240;240;240mO\u001b[38;2;255;255;255m\u001b[38;2;240;240;240mO\u001b[38;2;255;255;255m\u001b[38;2;240;240;240mO\u001b[38;2;255;255;255m\u001b[38;2;240;240;240mO\u001b[38;2;255;255;255m\u001b[38;2;240;240;240mO\u001b[38;2;255;255;255m\u001b[38;2;240;240;240mO\u001b[38;2;255;255;255m\u001b[38;2;240;240;240mO\u001b[38;2;255;255;255m\u001b[38;2;240;240;240mO\u001b[38;2;255;255;255m\u001b[38;2;240;240;240mO\u001b[38;2;255;255;255m\u001b[38;2;240;240;240mO\u001b[38;2;255;255;255m\u001b[0;0m\n",
            "\u001b[1m\u001b[38;2;240;240;240mO\u001b[38;2;255;255;255m\u001b[38;2;240;240;240mO\u001b[38;2;255;255;255m\u001b[38;2;240;240;240mO\u001b[38;2;255;255;255m\u001b[38;2;240;240;240mO\u001b[38;2;255;255;255m\u001b[38;2;240;240;240mO\u001b[38;2;255;255;255m\u001b[38;2;240;240;240mO\u001b[38;2;255;255;255m\u001b[38;2;240;240;240mO\u001b[38;2;255;255;255m\u001b[38;2;240;240;240mO\u001b[38;2;255;255;255m\u001b[38;2;240;240;240mO\u001b[38;2;255;255;255m\u001b[38;2;240;240;240mO\u001b[38;2;255;255;255m\u001b[38;2;240;240;240mO\u001b[38;2;255;255;255m\u001b[38;2;240;240;240mO\u001b[38;2;255;255;255m\u001b[38;2;240;240;240mO\u001b[38;2;255;255;255m\u001b[0;0m\n",
            "\u001b[1m\u001b[38;2;240;240;240mO\u001b[38;2;255;255;255m\u001b[38;2;240;240;240mO\u001b[38;2;255;255;255m\u001b[38;2;240;240;240mO\u001b[38;2;255;255;255m\u001b[38;2;240;240;240mO\u001b[38;2;255;255;255m\u001b[38;2;240;240;240mO\u001b[38;2;255;255;255m\u001b[38;2;240;240;240mO\u001b[38;2;255;255;255m\u001b[38;2;240;240;240mO\u001b[38;2;255;255;255m\u001b[38;2;240;240;240mO\u001b[38;2;255;255;255m\u001b[38;2;240;240;240mO\u001b[38;2;255;255;255m\u001b[38;2;240;240;240mO\u001b[38;2;255;255;255m\u001b[38;2;240;240;240mO\u001b[38;2;255;255;255m\u001b[38;2;240;240;240mO\u001b[38;2;255;255;255m\u001b[38;2;240;240;240mO\u001b[38;2;255;255;255m\u001b[38;2;240;240;240mO\u001b[38;2;255;255;255m\u001b[38;2;240;240;240mO\u001b[38;2;255;255;255m\u001b[38;2;240;240;240mO\u001b[38;2;255;255;255m\u001b[38;2;240;240;240mO\u001b[38;2;255;255;255m\u001b[38;2;138;145;208mI\u001b[38;2;255;255;255m\u001b[38;2;138;145;208mI\u001b[38;2;255;255;255m\u001b[38;2;138;145;208mI\u001b[38;2;255;255;255m\u001b[38;2;138;145;208mI\u001b[38;2;255;255;255m\u001b[38;2;138;145;208mI\u001b[38;2;255;255;255m\u001b[38;2;138;145;208mI\u001b[38;2;255;255;255m\u001b[38;2;138;145;208mI\u001b[38;2;255;255;255m\u001b[38;2;138;145;208mI\u001b[38;2;255;255;255m\u001b[38;2;138;145;208mI\u001b[38;2;255;255;255m\u001b[0;0m\n",
            "\u001b[1m\u001b[38;2;240;240;240mO\u001b[38;2;255;255;255m\u001b[38;2;240;240;240mO\u001b[38;2;255;255;255m\u001b[38;2;240;240;240mO\u001b[38;2;255;255;255m\u001b[38;2;240;240;240mO\u001b[38;2;255;255;255m\u001b[38;2;240;240;240mO\u001b[38;2;255;255;255m\u001b[38;2;240;240;240mO\u001b[38;2;255;255;255m\u001b[38;2;240;240;240mO\u001b[38;2;255;255;255m\u001b[38;2;240;240;240mO\u001b[38;2;255;255;255m\u001b[38;2;240;240;240mO\u001b[38;2;255;255;255m\u001b[38;2;240;240;240mO\u001b[38;2;255;255;255m\u001b[38;2;240;240;240mO\u001b[38;2;255;255;255m\u001b[38;2;240;240;240mO\u001b[38;2;255;255;255m\u001b[38;2;240;240;240mO\u001b[38;2;255;255;255m\u001b[38;2;240;240;240mO\u001b[38;2;255;255;255m\u001b[38;2;240;240;240mO\u001b[38;2;255;255;255m\u001b[38;2;240;240;240mO\u001b[38;2;255;255;255m\u001b[38;2;240;240;240mO\u001b[38;2;255;255;255m\u001b[38;2;240;240;240mO\u001b[38;2;255;255;255m\u001b[38;2;240;240;240mO\u001b[38;2;255;255;255m\u001b[38;2;240;240;240mO\u001b[38;2;255;255;255m\u001b[38;2;240;240;240mO\u001b[38;2;255;255;255m\u001b[38;2;240;240;240mO\u001b[38;2;255;255;255m\u001b[38;2;240;240;240mO\u001b[38;2;255;255;255m\u001b[38;2;240;240;240mO\u001b[38;2;255;255;255m\u001b[38;2;240;240;240mO\u001b[38;2;255;255;255m\u001b[38;2;240;240;240mO\u001b[38;2;255;255;255m\u001b[38;2;240;240;240mO\u001b[38;2;255;255;255m\u001b[0;0m\n",
            "\u001b[1m\u001b[38;2;240;240;240mO\u001b[38;2;255;255;255m\u001b[38;2;240;240;240mO\u001b[38;2;255;255;255m\u001b[38;2;240;240;240mO\u001b[38;2;255;255;255m\u001b[38;2;240;240;240mO\u001b[38;2;255;255;255m\u001b[38;2;240;240;240mO\u001b[38;2;255;255;255m\u001b[38;2;240;240;240mO\u001b[38;2;255;255;255m\u001b[38;2;240;240;240mO\u001b[38;2;255;255;255m\u001b[38;2;240;240;240mO\u001b[38;2;255;255;255m\u001b[38;2;240;240;240mO\u001b[38;2;255;255;255m\u001b[38;2;240;240;240mO\u001b[38;2;255;255;255m\u001b[38;2;240;240;240mO\u001b[38;2;255;255;255m\u001b[38;2;240;240;240mO\u001b[38;2;255;255;255m\u001b[38;2;240;240;240mO\u001b[38;2;255;255;255m\u001b[38;2;240;240;240mO\u001b[38;2;255;255;255m\u001b[38;2;240;240;240mO\u001b[38;2;255;255;255m\u001b[38;2;240;240;240mO\u001b[38;2;255;255;255m\u001b[38;2;240;240;240mO\u001b[38;2;255;255;255m\u001b[38;2;240;240;240mO\u001b[38;2;255;255;255m\u001b[38;2;240;240;240mO\u001b[38;2;255;255;255m\u001b[38;2;240;240;240mO\u001b[38;2;255;255;255m\u001b[38;2;240;240;240mO\u001b[38;2;255;255;255m\u001b[38;2;240;240;240mO\u001b[38;2;255;255;255m\u001b[38;2;240;240;240mO\u001b[38;2;255;255;255m\u001b[38;2;240;240;240mO\u001b[38;2;255;255;255m\u001b[38;2;240;240;240mO\u001b[38;2;255;255;255m\u001b[38;2;240;240;240mO\u001b[38;2;255;255;255m\u001b[38;2;240;240;240mO\u001b[38;2;255;255;255m\u001b[38;2;240;240;240mO\u001b[38;2;255;255;255m\u001b[38;2;240;240;240mO\u001b[38;2;255;255;255m\u001b[38;2;240;240;240mO\u001b[38;2;255;255;255m\u001b[0;0m\n",
            "\u001b[1m\u001b[38;2;240;240;240mO\u001b[38;2;255;255;255m\u001b[38;2;240;240;240mO\u001b[38;2;255;255;255m\u001b[38;2;240;240;240mO\u001b[38;2;255;255;255m\u001b[38;2;240;240;240mO\u001b[38;2;255;255;255m\u001b[38;2;240;240;240mO\u001b[38;2;255;255;255m\u001b[38;2;240;240;240mO\u001b[38;2;255;255;255m\u001b[38;2;240;240;240mO\u001b[38;2;255;255;255m\u001b[38;2;240;240;240mO\u001b[38;2;255;255;255m\u001b[38;2;240;240;240mO\u001b[38;2;255;255;255m\u001b[38;2;240;240;240mO\u001b[38;2;255;255;255m\u001b[38;2;240;240;240mO\u001b[38;2;255;255;255m\u001b[38;2;240;240;240mO\u001b[38;2;255;255;255m\u001b[38;2;240;240;240mO\u001b[38;2;255;255;255m\u001b[38;2;240;240;240mO\u001b[38;2;255;255;255m\u001b[38;2;240;240;240mO\u001b[38;2;255;255;255m\u001b[38;2;240;240;240mO\u001b[38;2;255;255;255m\u001b[38;2;240;240;240mO\u001b[38;2;255;255;255m\u001b[38;2;240;240;240mO\u001b[38;2;255;255;255m\u001b[38;2;240;240;240mO\u001b[38;2;255;255;255m\u001b[38;2;240;240;240mO\u001b[38;2;255;255;255m\u001b[38;2;240;240;240mO\u001b[38;2;255;255;255m\u001b[38;2;240;240;240mO\u001b[38;2;255;255;255m\u001b[38;2;240;240;240mO\u001b[38;2;255;255;255m\u001b[38;2;240;240;240mO\u001b[38;2;255;255;255m\u001b[38;2;240;240;240mO\u001b[38;2;255;255;255m\u001b[38;2;240;240;240mO\u001b[38;2;255;255;255m\u001b[38;2;240;240;240mO\u001b[38;2;255;255;255m\u001b[38;2;240;240;240mO\u001b[38;2;255;255;255m\u001b[38;2;240;240;240mO\u001b[38;2;255;255;255m\u001b[38;2;240;240;240mO\u001b[38;2;255;255;255m\u001b[0;0m\n",
            "\u001b[1m\u001b[38;2;240;240;240mO\u001b[38;2;255;255;255m\u001b[38;2;240;240;240mO\u001b[38;2;255;255;255m\u001b[38;2;240;240;240mO\u001b[38;2;255;255;255m\u001b[38;2;240;240;240mO\u001b[38;2;255;255;255m\u001b[38;2;240;240;240mO\u001b[38;2;255;255;255m\u001b[38;2;240;240;240mO\u001b[38;2;255;255;255m\u001b[38;2;240;240;240mO\u001b[38;2;255;255;255m\u001b[38;2;240;240;240mO\u001b[38;2;255;255;255m\u001b[38;2;240;240;240mO\u001b[38;2;255;255;255m\u001b[38;2;240;240;240mO\u001b[38;2;255;255;255m\u001b[38;2;240;240;240mO\u001b[38;2;255;255;255m\u001b[38;2;240;240;240mO\u001b[38;2;255;255;255m\u001b[38;2;240;240;240mO\u001b[38;2;255;255;255m\u001b[38;2;240;240;240mO\u001b[38;2;255;255;255m\u001b[38;2;240;240;240mO\u001b[38;2;255;255;255m\u001b[38;2;240;240;240mO\u001b[38;2;255;255;255m\u001b[38;2;240;240;240mO\u001b[38;2;255;255;255m\u001b[38;2;240;240;240mO\u001b[38;2;255;255;255m\u001b[38;2;240;240;240mO\u001b[38;2;255;255;255m\u001b[38;2;240;240;240mO\u001b[38;2;255;255;255m\u001b[38;2;240;240;240mO\u001b[38;2;255;255;255m\u001b[38;2;240;240;240mO\u001b[38;2;255;255;255m\u001b[38;2;240;240;240mO\u001b[38;2;255;255;255m\u001b[38;2;240;240;240mO\u001b[38;2;255;255;255m\u001b[38;2;240;240;240mO\u001b[38;2;255;255;255m\u001b[38;2;240;240;240mO\u001b[38;2;255;255;255m\u001b[38;2;240;240;240mO\u001b[38;2;255;255;255m\u001b[38;2;240;240;240mO\u001b[38;2;255;255;255m\u001b[38;2;240;240;240mO\u001b[38;2;255;255;255m\u001b[38;2;240;240;240mO\u001b[38;2;255;255;255m\u001b[0;0m\n",
            "\u001b[1m\u001b[38;2;240;240;240mO\u001b[38;2;255;255;255m\u001b[38;2;240;240;240mO\u001b[38;2;255;255;255m\u001b[38;2;240;240;240mO\u001b[38;2;255;255;255m\u001b[38;2;240;240;240mO\u001b[38;2;255;255;255m\u001b[38;2;240;240;240mO\u001b[38;2;255;255;255m\u001b[38;2;240;240;240mO\u001b[38;2;255;255;255m\u001b[38;2;240;240;240mO\u001b[38;2;255;255;255m\u001b[38;2;240;240;240mO\u001b[38;2;255;255;255m\u001b[38;2;240;240;240mO\u001b[38;2;255;255;255m\u001b[38;2;240;240;240mO\u001b[38;2;255;255;255m\u001b[38;2;240;240;240mO\u001b[38;2;255;255;255m\u001b[38;2;240;240;240mO\u001b[38;2;255;255;255m\u001b[38;2;240;240;240mO\u001b[38;2;255;255;255m\u001b[38;2;240;240;240mO\u001b[38;2;255;255;255m\u001b[38;2;240;240;240mO\u001b[38;2;255;255;255m\u001b[38;2;240;240;240mO\u001b[38;2;255;255;255m\u001b[38;2;240;240;240mO\u001b[38;2;255;255;255m\u001b[38;2;240;240;240mO\u001b[38;2;255;255;255m\u001b[38;2;240;240;240mO\u001b[38;2;255;255;255m\u001b[38;2;240;240;240mO\u001b[38;2;255;255;255m\u001b[38;2;240;240;240mO\u001b[38;2;255;255;255m\u001b[38;2;240;240;240mO\u001b[38;2;255;255;255m\u001b[38;2;240;240;240mO\u001b[38;2;255;255;255m\u001b[38;2;240;240;240mO\u001b[38;2;255;255;255m\u001b[38;2;240;240;240mO\u001b[38;2;255;255;255m\u001b[38;2;240;240;240mO\u001b[38;2;255;255;255m\u001b[38;2;240;240;240mO\u001b[38;2;255;255;255m\u001b[38;2;240;240;240mO\u001b[38;2;255;255;255m\u001b[38;2;240;240;240mO\u001b[38;2;255;255;255m\u001b[38;2;240;240;240mO\u001b[38;2;255;255;255m\u001b[0;0m\n",
            "\u001b[1m\u001b[38;2;240;240;240mO\u001b[38;2;255;255;255m\u001b[38;2;240;240;240mO\u001b[38;2;255;255;255m\u001b[38;2;240;240;240mO\u001b[38;2;255;255;255m\u001b[38;2;240;240;240mO\u001b[38;2;255;255;255m\u001b[38;2;240;240;240mO\u001b[38;2;255;255;255m\u001b[38;2;240;240;240mO\u001b[38;2;255;255;255m\u001b[38;2;240;240;240mO\u001b[38;2;255;255;255m\u001b[38;2;240;240;240mO\u001b[38;2;255;255;255m\u001b[38;2;240;240;240mO\u001b[38;2;255;255;255m\u001b[38;2;240;240;240mO\u001b[38;2;255;255;255m\u001b[38;2;240;240;240mO\u001b[38;2;255;255;255m\u001b[38;2;240;240;240mO\u001b[38;2;255;255;255m\u001b[38;2;240;240;240mO\u001b[38;2;255;255;255m\u001b[38;2;240;240;240mO\u001b[38;2;255;255;255m\u001b[38;2;240;240;240mO\u001b[38;2;255;255;255m\u001b[38;2;240;240;240mO\u001b[38;2;255;255;255m\u001b[38;2;240;240;240mO\u001b[38;2;255;255;255m\u001b[38;2;240;240;240mO\u001b[38;2;255;255;255m\u001b[38;2;240;240;240mO\u001b[38;2;255;255;255m\u001b[38;2;240;240;240mO\u001b[38;2;255;255;255m\u001b[38;2;240;240;240mO\u001b[38;2;255;255;255m\u001b[38;2;240;240;240mO\u001b[38;2;255;255;255m\u001b[38;2;240;240;240mO\u001b[38;2;255;255;255m\u001b[38;2;240;240;240mO\u001b[38;2;255;255;255m\u001b[0;0m\n",
            "\u001b[1m\u001b[38;2;240;240;240mO\u001b[38;2;255;255;255m\u001b[38;2;240;240;240mO\u001b[38;2;255;255;255m\u001b[38;2;240;240;240mO\u001b[38;2;255;255;255m\u001b[38;2;240;240;240mO\u001b[38;2;255;255;255m\u001b[38;2;240;240;240mO\u001b[38;2;255;255;255m\u001b[38;2;240;240;240mO\u001b[38;2;255;255;255m\u001b[38;2;240;240;240mO\u001b[38;2;255;255;255m\u001b[38;2;240;240;240mO\u001b[38;2;255;255;255m\u001b[38;2;240;240;240mO\u001b[38;2;255;255;255m\u001b[38;2;240;240;240mO\u001b[38;2;255;255;255m\u001b[38;2;240;240;240mO\u001b[38;2;255;255;255m\u001b[38;2;240;240;240mO\u001b[38;2;255;255;255m\u001b[38;2;240;240;240mO\u001b[38;2;255;255;255m\u001b[38;2;240;240;240mO\u001b[38;2;255;255;255m\u001b[38;2;240;240;240mO\u001b[38;2;255;255;255m\u001b[38;2;240;240;240mO\u001b[38;2;255;255;255m\u001b[38;2;240;240;240mO\u001b[38;2;255;255;255m\u001b[38;2;240;240;240mO\u001b[38;2;255;255;255m\u001b[38;2;240;240;240mO\u001b[38;2;255;255;255m\u001b[38;2;240;240;240mO\u001b[38;2;255;255;255m\u001b[38;2;240;240;240mO\u001b[38;2;255;255;255m\u001b[38;2;240;240;240mO\u001b[38;2;255;255;255m\u001b[38;2;240;240;240mO\u001b[38;2;255;255;255m\u001b[38;2;240;240;240mO\u001b[38;2;255;255;255m\u001b[38;2;240;240;240mO\u001b[38;2;255;255;255m\u001b[0;0m\n",
            "\u001b[1m\u001b[38;2;240;240;240mO\u001b[38;2;255;255;255m\u001b[38;2;240;240;240mO\u001b[38;2;255;255;255m\u001b[38;2;240;240;240mO\u001b[38;2;255;255;255m\u001b[38;2;240;240;240mO\u001b[38;2;255;255;255m\u001b[38;2;240;240;240mO\u001b[38;2;255;255;255m\u001b[38;2;240;240;240mO\u001b[38;2;255;255;255m\u001b[38;2;240;240;240mO\u001b[38;2;255;255;255m\u001b[38;2;240;240;240mO\u001b[38;2;255;255;255m\u001b[38;2;240;240;240mO\u001b[38;2;255;255;255m\u001b[38;2;240;240;240mO\u001b[38;2;255;255;255m\u001b[38;2;240;240;240mO\u001b[38;2;255;255;255m\u001b[38;2;240;240;240mO\u001b[38;2;255;255;255m\u001b[38;2;240;240;240mO\u001b[38;2;255;255;255m\u001b[38;2;240;240;240mO\u001b[38;2;255;255;255m\u001b[38;2;240;240;240mO\u001b[38;2;255;255;255m\u001b[38;2;240;240;240mO\u001b[38;2;255;255;255m\u001b[38;2;240;240;240mO\u001b[38;2;255;255;255m\u001b[38;2;240;240;240mO\u001b[38;2;255;255;255m\u001b[38;2;240;240;240mO\u001b[38;2;255;255;255m\u001b[38;2;240;240;240mO\u001b[38;2;255;255;255m\u001b[38;2;240;240;240mO\u001b[38;2;255;255;255m\u001b[38;2;240;240;240mO\u001b[38;2;255;255;255m\u001b[38;2;240;240;240mO\u001b[38;2;255;255;255m\u001b[38;2;240;240;240mO\u001b[38;2;255;255;255m\u001b[38;2;240;240;240mO\u001b[38;2;255;255;255m\u001b[38;2;240;240;240mO\u001b[38;2;255;255;255m\u001b[38;2;240;240;240mO\u001b[38;2;255;255;255m\u001b[38;2;240;240;240mO\u001b[38;2;255;255;255m\u001b[38;2;240;240;240mO\u001b[38;2;255;255;255m\u001b[38;2;240;240;240mO\u001b[38;2;255;255;255m\u001b[0;0m\n"
          ]
        }
      ],
      "source": [
        "# Print the chromatin state patterns of the first 25 promoters associated with not-expressed genes on chromosome 1\n",
        "for i in range(25):\n",
        "  entry_not=prom_not_expressed[0][i]\n",
        "  crb.colored_css_str_as_is(entry_not)"
      ]
    },
    {
      "cell_type": "markdown",
      "metadata": {
        "id": "Q__Tw-SopnQf"
      },
      "source": [
        "\n",
        "Can you spot any differences? 🕵️✨\n",
        "\n",
        "<br>\n",
        "\n",
        "🤔 What do you think the key differences are? Which chromatin state predominantly appears in the promoter regions of ✅ **highly expressed** and ❌ **not-expressed genes**, respectively?\n",
        "\n",
        "<br>\n",
        "\n",
        "⚠️️️️ Note that the promoter region can be shorter than the designated length when the transcription end site (`TxEnd`) is too close to the transcription start site (`TxStart`).\n",
        "\n",
        "In such cases, instead of extending the full 2kb upstream and 4kb downstream (or your customized distances), the function adjusts the promoter boundary to stay within the gene body. This prevents extracting sequences beyond the gene's annotated region, which can happen when genes have shorter intergenic distances or overlapping genes nearby.\n",
        "\n"
      ]
    },
    {
      "cell_type": "markdown",
      "metadata": {
        "id": "P3oEpB8H9enc"
      },
      "source": [
        "Now, we process the data to prepare it for fine-tuning **ChromBERT**🪄✨\n",
        "\n",
        "First, finalize the lists and save them to files."
      ]
    },
    {
      "cell_type": "code",
      "execution_count": 34,
      "metadata": {
        "colab": {
          "base_uri": "https://localhost:8080/"
        },
        "id": "XL9rMYVI88YH",
        "outputId": "467ea464-048f-4f4b-ee40-27fac9b47f0d"
      },
      "outputs": [
        {
          "output_type": "stream",
          "name": "stdout",
          "text": [
            "Finalizing the list ...\n",
            "Done!\n",
            "Finalizing the list ...\n",
            "Done!\n"
          ]
        }
      ],
      "source": [
        "# K-merize the data and exclude entries containing \"OOOO\"\n",
        "high_exp_final_prom_extracted=crb.process_prom_list(prom_highly_expressed, k=4, low_signal=\"O\")\n",
        "not_exp_final_prom_extracted=crb.process_prom_list(prom_not_expressed, k=4, low_signal=\"O\")"
      ]
    },
    {
      "cell_type": "code",
      "execution_count": 35,
      "metadata": {
        "colab": {
          "base_uri": "https://localhost:8080/"
        },
        "id": "OjbQt82H_Fnw",
        "outputId": "0c947c2f-4194-4a42-aab7-0211c6adde5d"
      },
      "outputs": [
        {
          "output_type": "stream",
          "name": "stdout",
          "text": [
            "File saved as /content/high_exp_prom.txt\n",
            "File saved as /content/not_exp_prom.txt\n"
          ]
        }
      ],
      "source": [
        "# Save to a file\n",
        "with open(\"/content/high_exp_prom.txt\", \"w\") as f1:\n",
        "    f1.write(\"\\n\".join(high_exp_final_prom_extracted))\n",
        "print(\"File saved as /content/high_exp_prom.txt\")\n",
        "\n",
        "with open(\"/content/not_exp_prom.txt\", \"w\") as f2:\n",
        "    f2.write(\"\\n\".join(not_exp_final_prom_extracted))\n",
        "print(\"File saved as /content/not_exp_prom.txt\")"
      ]
    },
    {
      "cell_type": "markdown",
      "metadata": {
        "id": "jg1nMYlCBCvI"
      },
      "source": [
        "<br>\n",
        "\n",
        "Second, we will use the `process_save_TF` function to generate fine-tuning data for **ChromBERT**. This function processes k-merized chromatin state sequences from two classes (e.g., ✅ `highly expressed` vs. ❌ `not-expressed`), balances the dataset, and shuffles it before splitting into training (`train.tsv`) and validation (`dev.tsv`) files.\n",
        "\n",
        "<br>\n",
        "\n",
        "⚠️️️️ **Important Note**\n",
        "\n",
        "The **order of input paths** matters! The first file should be the promoter region of interest, and the second file should be the comparison group.\n",
        "\n",
        "- Example: If you want to analyze the chromatin state sequence patterns in the promoter regions of ✅ `highly expressed genes`, place `/content/high_exp_prom.txt` first and ❌ `not-expressed genes` `/content/not_exp_prom.txt` second.\n",
        "\n",
        "<br>"
      ]
    },
    {
      "cell_type": "code",
      "execution_count": 36,
      "metadata": {
        "colab": {
          "base_uri": "https://localhost:8080/"
        },
        "id": "yTiqcq82APuE",
        "outputId": "76298be4-d045-4e4d-f0d3-275bba7c0f3b"
      },
      "outputs": [
        {
          "output_type": "stream",
          "name": "stdout",
          "text": [
            "class 1 has 1206 elements.\n",
            "class 2 has 797 elements.\n",
            "Fine-tuning data are saved at /content/.\n"
          ]
        }
      ],
      "source": [
        "# Create fine tuning data\n",
        "# <len_tr> determines the length of 'train.tsv', while <len_dev> determines the length of 'dev.tsv'.\n",
        "crb.process_save_TF('/content/high_exp_prom.txt', '/content/not_exp_prom.txt', '/content/', k=4, len_tr=1000, len_dev=100)"
      ]
    },
    {
      "cell_type": "markdown",
      "metadata": {
        "id": "UWz7CVtSFBVZ"
      },
      "source": [
        " 🔎 Click on the file icon on the left 📂 to check if the fine-tuning data files, `train.tsv` and `dev.tsv`, have been generated.\n"
      ]
    },
    {
      "cell_type": "markdown",
      "metadata": {
        "id": "7w5wp0Y5IZM0"
      },
      "source": [
        "<br>\n",
        "\n",
        "⛳ **Customizing Your Own Fine-Tuning Dataset**🏌️\n",
        "\n",
        "The classification task presented here is just one possible approach to fine-tuning **ChromBERT**. If you want to fine-tune the model for a different task, you can prepare your own dataset. For example:\n",
        "\n",
        "- 🧪🫧 Cell Type-Specific Classification ➡️ Train a model to distinguish between **cell type 1** vs. **cell type 2** based on chromatin state sequences.\n",
        "\n",
        "- 🧪🫧 Differential Gene Expression ➡️ Define expression categories with different RPKM thresholds for fine-tuning (e.g., **low** (`RPKM>1`) vs. **high expression** (`RPKM>50`)).\n",
        "\n",
        "If you choose to create your own fine-tuning dataset, ensure that it follows the same sequence-label format so it can be used directly with **ChromBERT**.\n",
        "\n",
        "<br>"
      ]
    },
    {
      "cell_type": "markdown",
      "metadata": {
        "id": "Zmm07uDBOtDM"
      },
      "source": [
        "## Run Fine-tuning\n",
        "\n",
        "For fine-tuning, we recommend using your local machine rather than Colab, for the same reasons as pretraining. If you want to test your own fine-tuning data created above, make sure to download your file by clicking on the file icon 📂 on the left and save it locally.\n",
        "\n",
        "Once your data is ready, proceed to the fine-tuning section in the **ChromBERT** GitHub repository linked below. Follow the instructions there to continue with fine-tuning! 🚀✨\n",
        "\n",
        "<br>\n",
        "\n",
        "- Github repository: [![Github](https://img.shields.io/static/v1.svg?logo=github&label=Repo&message=Github&color=olive)](https://github.com/caocao0525/ChromBERT)\n",
        "\n",
        "\n",
        "<br>\n",
        "\n",
        "<!-- <p align=\"center\">\n",
        "  <a href=\"https://colab.research.google.com/drive/1X725dCfi9m8IZNW_42IrgI04TlQebyCb?usp=sharing#scrollTo=10gABVz9VZ4v\">\n",
        "    <img src=\"https://colab.research.google.com/assets/colab-badge.svg\" alt=\"Open In Colab\">\n",
        "  </a>\n",
        "</p> -->\n",
        "\n",
        "<!-- <p align=\"center\">\n",
        "  <a href=\"https://colab.research.google.com/drive/1DF_1JoAFrJEmDN45B25v-PJfArpHrcSD#scrollTo=rB90JG-X0Jiv\">\n",
        "    <img src=\"https://colab.research.google.com/assets/colab-badge.svg\" alt=\"Open In Colab\">\n",
        "  </a>\n",
        "</p>\n",
        "\n",
        "<br><br> -->"
      ]
    },
    {
      "cell_type": "markdown",
      "source": [
        "<br>\n",
        "\n",
        "---\n",
        "\n",
        "# 5. Motif Detection and Clustering\n",
        "\n",
        "One of the most notable features of **ChromBERT** is its ability to detect motif-like patterns in chromatin state sequences within regions of interest. This allows for the identification of specific patterns that uniquely appear in certain classes during classification tasks by focusing on the areas with high attention scores in the attention matrix produced during the prediction process.\n",
        "\n",
        "Unlike static DNA sequences, chromatin state sequences can vary in position and length. **ChromBERT** addresses this with a Dynamic Time Warping (DTW) scheme to cluster the motifs with similar characteristics, providing a more consolidated insight for users.\n",
        "\n",
        "<br>\n",
        "\n",
        "🤔 What is DTW by the way?\n",
        "\n",
        "🧑‍🏫 Dynamic Time Warping (DTW) is a classic algorithm originally developed for speech recognition. Its strength lies in comparing sequences that may be similar in shape but misaligned in time — for example, two people saying the same phrase at different speeds.\n",
        "\n",
        "DTW works by computing an optimal alignment between two sequences by warping their time axes to minimize the distance between them.\n",
        "It constructs a cost matrix that measures how similar each point in one sequence is to every point in the other, then finds the least-cost path through this matrix.\n",
        "\n",
        "<br>\n",
        "\n",
        "<figure>\n",
        "<img src=\"https://github.com/caocao0525/ChromBERT/blob/chrombert-py311-extended/colab/colab_data/dtw_fig.jpg?raw=true\" alt=\"Input Embedding\" width=\"600\"/>\n",
        "<figcaption>Fig. 5: Dynamic Time Warping for Speech Recognition</figcaption>\n",
        "</figure>\n",
        "\n",
        "<br>\n",
        "\n",
        "📣 In speech recognition, this lets the system recognize the same word spoken quickly or slowly by different people — the core shape of the sound pattern remains, but the timing varies.\n",
        "\n",
        "🧬 In ChromBERT, DTW serves a similar role — aligning chromatin state motifs that may appear in different positions or lengths across sequences. This makes motif clustering more flexible and robust to biological variability.\n",
        "\n",
        "<br>"
      ],
      "metadata": {
        "id": "bvVMqF0roTH-"
      }
    },
    {
      "cell_type": "markdown",
      "source": [
        "## Motif Detection\n",
        "\n",
        "To proceed with motif detection, first complete fine-tuning for classification and run prediction on your local machine by following the instructions in the GitHub repository below:\n",
        "\n",
        "<br>\n",
        "\n",
        "- Github repository: [![Github](https://img.shields.io/static/v1.svg?logo=github&label=Repo&message=Github&color=olive)](https://github.com/caocao0525/ChromBERT)\n",
        "\n",
        "\n",
        "<br>\n",
        "\n",
        "\n",
        "\n",
        "<!-- Like DNA motifs in DNABERT <small>(Y. Ji, et al., 2021)</small>, chromatin state motifs in our study are identified as recurring patterns of chromatin states distinct to a certain category in binary classification. We used the same parameters as DNABERT to detect these motifs.\n",
        "\n",
        "- First, we identified regions with high attention scores from the attention matrix. We set a threshold defined as a score above the matrix's mean and more than ten times the minimum score. These high-scoring regions were considered motif candidates and further filtered using a p-value of `0.05` to confirm significant enrichment in one class.\n",
        "\n",
        "- Motifs are defined as sequences longer than four chromatin states (around `800` bps) and appear at least three times exclusively in the target class. Unlike DNA motifs, which are compared with existing libraries, our chromatin state motifs were collected without such comparisons due to the absence of a relevant library. -->"
      ],
      "metadata": {
        "id": "KoNJSoO2oY-3"
      }
    },
    {
      "cell_type": "markdown",
      "source": [
        "🙌 Once you've completed motif finding by running the `motif_prom.sh` script, let's take a look at where **ChromBERT** places attention in the sequence data — this serves as the foundation for the downstream motif discovery. This section is designed to support your intuition and understanding of how the model works internally. If you prefer to jump straight into clustering, feel free to skip ahead to the motif clustering section:\n",
        "([Jump to Motif Clustering](#Motif-Clustering))\n",
        "\n",
        "<br>\n",
        "\n",
        "\n",
        "In this tutorial, we'll examine which parts of a chromatin state sequence are most influential for predicting high gene expression (in the task RPKM=0 vs. RPKM>50), using attention scores from **ChromBERT**. These results are taken from the `training/examples/prom/predict_result` directory, which you would obtain after completing your own training and prediction steps. You're encouraged to apply the same analysis to your own results.\n",
        "\n",
        "💡 To upload your files to Colab, click the file icon 📂 on the left sidebar. Once uploaded, they will appear under the `/content`.\n",
        "\n",
        "<br>\n",
        "\n",
        "* 🗂️ Files used in this tutorial\n",
        "\n",
        "  1. From `training/examples/prom/predict_result`:\n",
        "  \n",
        "   * `atten.npy` — Attention matrix extracted from **ChromBERT** during inference. Each row corresponds to a sequence in `dev.tsv`.\n",
        "\n",
        "   * `pred_results.npy` — Predicted probabilities for each input sequence. These values represent the model's confidence that a given sequence belongs to class 1 (i.e., high-expression).\n",
        "\n",
        "  2. From `training/examples/prom/ft_data`:\n",
        "  \n",
        "   * `dev.tsv` — Chromatin state sequences and their binary expression labels used for validation during fine-tuning.\n",
        "\n",
        "<br>\n",
        "\n",
        "* 📥 Download the files"
      ],
      "metadata": {
        "id": "elq34S_Ho4yQ"
      }
    },
    {
      "cell_type": "code",
      "source": [
        "# These are pre-generated files from prediction proces. You are encouraged to apply to your own results.\n",
        "# atten.npy\n",
        "!wget https://raw.githubusercontent.com/caocao0525/ChromBERT/chrombert-py311-extended/colab/colab_data/test_files/atten.npy\n",
        "# pred_results.npy\n",
        "!wget https://raw.githubusercontent.com/caocao0525/ChromBERT/chrombert-py311-extended/colab/colab_data/test_files/pred_results.npy\n",
        "# Download dev.tsv under a clear name to avoid conflicts with previous runs\n",
        "# Note: The original filename is 'dev.tsv' in the repository.\n",
        "!wget -O dev_demo.tsv https://raw.githubusercontent.com/caocao0525/ChromBERT/chrombert-py311-extended/colab/colab_data/test_files/dev.tsv"
      ],
      "metadata": {
        "id": "2qzw9W7VPvLh",
        "colab": {
          "base_uri": "https://localhost:8080/"
        },
        "collapsed": true,
        "outputId": "a9140245-9806-4e72-a924-0fd3e01a68f7"
      },
      "execution_count": 37,
      "outputs": [
        {
          "output_type": "stream",
          "name": "stdout",
          "text": [
            "--2025-05-16 08:52:16--  https://raw.githubusercontent.com/caocao0525/ChromBERT/chrombert-py311-extended/colab/colab_data/test_files/atten.npy\n",
            "Resolving raw.githubusercontent.com (raw.githubusercontent.com)... 185.199.110.133, 185.199.109.133, 185.199.111.133, ...\n",
            "Connecting to raw.githubusercontent.com (raw.githubusercontent.com)|185.199.110.133|:443... connected.\n",
            "HTTP request sent, awaiting response... 200 OK\n",
            "Length: 648128 (633K) [application/octet-stream]\n",
            "Saving to: ‘atten.npy’\n",
            "\n",
            "atten.npy           100%[===================>] 632.94K  --.-KB/s    in 0.06s   \n",
            "\n",
            "2025-05-16 08:52:17 (11.1 MB/s) - ‘atten.npy’ saved [648128/648128]\n",
            "\n",
            "--2025-05-16 08:52:17--  https://raw.githubusercontent.com/caocao0525/ChromBERT/chrombert-py311-extended/colab/colab_data/test_files/pred_results.npy\n",
            "Resolving raw.githubusercontent.com (raw.githubusercontent.com)... 185.199.108.133, 185.199.109.133, 185.199.110.133, ...\n",
            "Connecting to raw.githubusercontent.com (raw.githubusercontent.com)|185.199.108.133|:443... connected.\n",
            "HTTP request sent, awaiting response... 200 OK\n",
            "Length: 4128 (4.0K) [application/octet-stream]\n",
            "Saving to: ‘pred_results.npy’\n",
            "\n",
            "pred_results.npy    100%[===================>]   4.03K  --.-KB/s    in 0s      \n",
            "\n",
            "2025-05-16 08:52:17 (54.2 MB/s) - ‘pred_results.npy’ saved [4128/4128]\n",
            "\n",
            "--2025-05-16 08:52:17--  https://raw.githubusercontent.com/caocao0525/ChromBERT/chrombert-py311-extended/colab/colab_data/test_files/dev.tsv\n",
            "Resolving raw.githubusercontent.com (raw.githubusercontent.com)... 185.199.111.133, 185.199.110.133, 185.199.108.133, ...\n",
            "Connecting to raw.githubusercontent.com (raw.githubusercontent.com)|185.199.111.133|:443... connected.\n",
            "HTTP request sent, awaiting response... 200 OK\n",
            "Length: 116575 (114K) [text/plain]\n",
            "Saving to: ‘dev_demo.tsv’\n",
            "\n",
            "dev_demo.tsv        100%[===================>] 113.84K  --.-KB/s    in 0.03s   \n",
            "\n",
            "2025-05-16 08:52:17 (4.39 MB/s) - ‘dev_demo.tsv’ saved [116575/116575]\n",
            "\n"
          ]
        }
      ]
    },
    {
      "cell_type": "code",
      "source": [
        "import numpy as np\n",
        "import pandas as pd\n",
        "attention_mat_raw=np.load('/content/atten.npy')\n",
        "attention_mat= attention_mat_raw[:, :30]  # 30 positions = 6kb promoter (2k up + 4k down)\n",
        "prediction_mat=np.load('/content/pred_results.npy')\n",
        "dev_mat=pd.read_csv('/content/dev_demo.tsv', sep='\\t')"
      ],
      "metadata": {
        "id": "SYalq4JiPtYj"
      },
      "execution_count": 38,
      "outputs": []
    },
    {
      "cell_type": "markdown",
      "source": [
        "<br>\n",
        "\n",
        "* 📊 Quick check the performance of **ChromBERT**"
      ],
      "metadata": {
        "id": "7G2BHAx50kzm"
      }
    },
    {
      "cell_type": "code",
      "source": [
        "crb.plot_chrombert_eval(prediction_path='/content/pred_results.npy',dev_path='/content/dev_demo.tsv')"
      ],
      "metadata": {
        "colab": {
          "base_uri": "https://localhost:8080/",
          "height": 407
        },
        "id": "YKldg7_e5JuC",
        "outputId": "2747287e-a6d3-461f-8bdb-7d8f0dae75f5"
      },
      "execution_count": 39,
      "outputs": [
        {
          "output_type": "display_data",
          "data": {
            "text/plain": [
              "<Figure size 900x400 with 3 Axes>"
            ],
            "image/png": "[encoded data removed]"
          },
          "metadata": {}
        }
      ]
    },
    {
      "cell_type": "markdown",
      "source": [
        "<br>\n",
        "\n",
        "* 🧩 Attention Matrix: Let's take a look at how **ChromBERT** distributed attention across the sequences!\n"
      ],
      "metadata": {
        "id": "RI2_auchvyZx"
      }
    },
    {
      "cell_type": "code",
      "source": [
        "import seaborn as sns\n",
        "import matplotlib.pyplot as plt\n",
        "plt.figure(figsize=(5, 4))\n",
        "sns.heatmap(attention_mat[:30,:], cmap=\"viridis\") # Visualize attention for the first 30 sequences; you can change the range to explore more or fewer entries\n",
        "plt.title(\"Attention matrix\")\n",
        "plt.xlabel(\"Position\")\n",
        "plt.ylabel(\"Sequences\");"
      ],
      "metadata": {
        "colab": {
          "base_uri": "https://localhost:8080/",
          "height": 410
        },
        "id": "8ExDAHHetK7O",
        "outputId": "e56b8905-f811-480b-f91b-c5f09442d5a8"
      },
      "execution_count": 40,
      "outputs": [
        {
          "output_type": "display_data",
          "data": {
            "text/plain": [
              "<Figure size 500x400 with 2 Axes>"
            ],
            "image/png": "[encoded data removed]"
          },
          "metadata": {}
        }
      ]
    },
    {
      "cell_type": "markdown",
      "source": [
        "<br>\n",
        "\n",
        "🤔 Curious how \"**high**\" is high attention? Let's take a look at the attention score distribution to guide our threshold setting:"
      ],
      "metadata": {
        "id": "-hSolwEs-9WM"
      }
    },
    {
      "cell_type": "code",
      "source": [
        "plt.figure(figsize=(5, 4))\n",
        "sns.histplot(attention_mat.flatten(),bins=30,kde=True, color='teal', ec='white')\n",
        "plt.xlabel(\"Attention Score\")\n",
        "plt.ylabel(\"Frequency\")\n",
        "plt.title(\"Distribution of Attention Values\");"
      ],
      "metadata": {
        "colab": {
          "base_uri": "https://localhost:8080/",
          "height": 410
        },
        "id": "s0mKMgjY9l-6",
        "outputId": "75547691-3b6d-427d-d72d-efee8d581d54"
      },
      "execution_count": 41,
      "outputs": [
        {
          "output_type": "display_data",
          "data": {
            "text/plain": [
              "<Figure size 500x400 with 1 Axes>"
            ],
            "image/png": "[encoded data removed]"
          },
          "metadata": {}
        }
      ]
    },
    {
      "cell_type": "markdown",
      "source": [
        "<br>\n",
        "\n",
        "* 🎯 Based on the distribution, we'll define **high attention** as the top 7% of scores — these are the standout positions that **ChromBERT** really focused on.\n",
        "We'll use the 93rd percentile as a threshold — but feel free to choose your own cutoff depending on how strict (or generous) you want to be! 😉"
      ],
      "metadata": {
        "id": "PXUy-PCXA28a"
      }
    },
    {
      "cell_type": "code",
      "source": [
        "threshold = np.floor(np.percentile(attention_mat, 93) * 100) / 100\n",
        "print(f\"Threshold set at the 93rd percentile (floored): {threshold}\")"
      ],
      "metadata": {
        "colab": {
          "base_uri": "https://localhost:8080/"
        },
        "id": "QasB2ov9-25w",
        "outputId": "85b4790f-6d94-4e6c-9807-cb462e3926c1"
      },
      "execution_count": 42,
      "outputs": [
        {
          "output_type": "stream",
          "name": "stdout",
          "text": [
            "Threshold set at the 93rd percentile (floored): 0.33\n"
          ]
        }
      ]
    },
    {
      "cell_type": "markdown",
      "source": [
        "<br>\n",
        "\n",
        "* 📊 With the `threshold` value you just set, we can now extract sequences that contain positions with attention scores above that threshold.\n",
        "(📌 Note: This step is for visualization only — for actual motif discovery, you can simply run `motif_prom.sh` under `training/motif/prom`.)\n",
        "\n",
        "* 💡 This function identifies where high attention scores appear in the matrix — it shows the row, position, score, and the corresponding sequence.\n",
        "It's a great way to explore which parts of the sequence **ChromBERT** focused on most.\n",
        "\n",
        "<br>"
      ],
      "metadata": {
        "id": "i751QFMOCl4k"
      }
    },
    {
      "cell_type": "code",
      "source": [
        "crb.prom_motif_vis_on_mat(dev_path='/content/dev_demo.tsv', atten_path='/content/atten.npy', target_len=30, threshold=0.33, fig_w=8, fig_h=1.5)"
      ],
      "metadata": {
        "colab": {
          "base_uri": "https://localhost:8080/",
          "height": 806
        },
        "id": "Em_rSLPNzdQL",
        "outputId": "3c8bb9d1-5d90-4093-ffac-d28acb21874d"
      },
      "execution_count": 44,
      "outputs": [
        {
          "output_type": "stream",
          "name": "stdout",
          "text": [
            "Matched no. 392: High attention at columns [20, 21, 22, 23, 24]\n",
            "Scores: [0.33627597 0.45291554 0.33154291 0.41967245 0.38797966]\n",
            "Sequence: EEEEDDDDDDDDDDDDDDDDDEEEEDDDDD\n",
            "\n",
            "\n"
          ]
        },
        {
          "output_type": "display_data",
          "data": {
            "text/plain": [
              "<Figure size 800x150 with 2 Axes>"
            ],
            "image/png": "[encoded data removed]"
          },
          "metadata": {}
        },
        {
          "output_type": "stream",
          "name": "stdout",
          "text": [
            "\n",
            "......................................................................\n",
            "\n",
            "Matched no. 782: High attention at columns [4, 5, 6, 7, 8]\n",
            "Scores: [0.34490503 0.35707678 0.35193129 0.35879569 0.34313758]\n",
            "Sequence: IIIIIIIIIIOOOOOOOOOOOOOOOOO\n",
            "\n",
            "\n"
          ]
        },
        {
          "output_type": "display_data",
          "data": {
            "text/plain": [
              "<Figure size 800x150 with 2 Axes>"
            ],
            "image/png": "[encoded data removed]"
          },
          "metadata": {}
        },
        {
          "output_type": "stream",
          "name": "stdout",
          "text": [
            "\n",
            "......................................................................\n",
            "\n",
            "Matched no. 969: High attention at columns [1, 2, 3, 4, 5]\n",
            "Scores: [0.34492619 0.42982724 0.36822163 0.4322742  0.34516681]\n",
            "Sequence: EEEEEGOOOOOO\n",
            "\n",
            "\n"
          ]
        },
        {
          "output_type": "display_data",
          "data": {
            "text/plain": [
              "<Figure size 800x150 with 2 Axes>"
            ],
            "image/png": "[encoded data removed]"
          },
          "metadata": {}
        },
        {
          "output_type": "stream",
          "name": "stdout",
          "text": [
            "\n",
            "......................................................................\n",
            "\n"
          ]
        }
      ]
    },
    {
      "cell_type": "markdown",
      "source": [
        "✅ That's it for exploring where **ChromBERT** is paying attention!\n",
        "\n",
        "This visual inspection helps build intuition around what kinds of patterns the model might be focusing on — especially in sequences associated with highly expressed genes 🧬\n",
        "\n",
        "Now that we've seen the attention scores in action, let's move on to the main event, motif clustering! 🔥\n",
        "\n",
        "<br>\n"
      ],
      "metadata": {
        "id": "JxtlmYs0D9qr"
      }
    },
    {
      "cell_type": "markdown",
      "source": [
        "<a name=\"Motif-Clustering\"></a>\n",
        "\n",
        "## Motif Clustering"
      ],
      "metadata": {
        "id": "EljPCymOr3NF"
      }
    },
    {
      "cell_type": "markdown",
      "source": [
        "<br>\n",
        "\n",
        "\n",
        "\n",
        "* 📥 Download the detected motif file `init_df.csv`\n",
        "\n",
        "You can find your generated `init_df.csv` at `/training/motif/result`"
      ],
      "metadata": {
        "id": "3m9CfpLenKpE"
      }
    },
    {
      "cell_type": "code",
      "source": [
        "# motif csv\n",
        "!wget -O init_df.csv https://raw.githubusercontent.com/caocao0525/ChromBERT/chrombert-py311-extended/colab/colab_data/test_files/init_concat.csv"
      ],
      "metadata": {
        "collapsed": true,
        "id": "phcff9h3DoJR",
        "outputId": "13a51eee-d2a6-473c-9ba4-c172aefe3131",
        "colab": {
          "base_uri": "https://localhost:8080/"
        }
      },
      "execution_count": 45,
      "outputs": [
        {
          "output_type": "stream",
          "name": "stdout",
          "text": [
            "--2025-05-16 08:52:51--  https://raw.githubusercontent.com/caocao0525/ChromBERT/chrombert-py311-extended/colab/colab_data/test_files/init_concat.csv\n",
            "Resolving raw.githubusercontent.com (raw.githubusercontent.com)... 185.199.108.133, 185.199.109.133, 185.199.110.133, ...\n",
            "Connecting to raw.githubusercontent.com (raw.githubusercontent.com)|185.199.108.133|:443... connected.\n",
            "HTTP request sent, awaiting response... 200 OK\n",
            "Length: 5513 (5.4K) [text/plain]\n",
            "Saving to: ‘init_df.csv’\n",
            "\n",
            "\rinit_df.csv           0%[                    ]       0  --.-KB/s               \rinit_df.csv         100%[===================>]   5.38K  --.-KB/s    in 0s      \n",
            "\n",
            "2025-05-16 08:52:51 (48.3 MB/s) - ‘init_df.csv’ saved [5513/5513]\n",
            "\n"
          ]
        }
      ]
    },
    {
      "cell_type": "markdown",
      "source": [
        "<br>\n",
        "\n",
        "🏄 Before diving into the clustering process, let's take a quick look at the data.\n",
        "Here's what each column in the result file represents:\n",
        "\n",
        "* `motif`: The detected chromatin state motif\n",
        "* `N`: Total number of sequences\n",
        "* `K`: Number of positive sequences (e.g., those associated with highly expressed genes)\n",
        "* `n`: Total number of times this motif appears across all sequences\n",
        "* `x`: Number of times this motif appears in the positive sequences\n",
        "* `p`: P-value measuring the statistical significance of the motif's enrichment in the positive set"
      ],
      "metadata": {
        "id": "2Q7If11QH_kS"
      }
    },
    {
      "cell_type": "code",
      "source": [
        "import pandas as pd\n",
        "init_df=pd.read_csv('/content/init_df.csv')\n",
        "init_df.head(10)"
      ],
      "metadata": {
        "colab": {
          "base_uri": "https://localhost:8080/",
          "height": 359
        },
        "id": "0EGFfO7XHVRp",
        "outputId": "97e367c9-abfd-4230-9f33-bd1113f385bd"
      },
      "execution_count": 47,
      "outputs": [
        {
          "output_type": "execute_result",
          "data": {
            "text/plain": [
              "   Unnamed: 0      motif     N    K    n    x             p\n",
              "0           0     EEEEEE  1000  500  350  244  2.282236e-20\n",
              "1           1     DDDEEE  1000  500   62   49  1.216714e-06\n",
              "2           2      EEEEE  1000  500  387  271  2.645214e-24\n",
              "3           3      BBGGG  1000  500   58   46  2.242258e-06\n",
              "4           4    EEEEEEE  1000  500  306  212  2.632763e-16\n",
              "5           5      AAAAA  1000  500  267  210  5.032911e-29\n",
              "6           6     DEEEEE  1000  500   51   38  2.239695e-04\n",
              "7           7      ABBBB  1000  500   58   51  4.372554e-10\n",
              "8           8  EEEEEEEEE  1000  500  242  163  3.286223e-10\n",
              "9           9    DEEEEEE  1000  500   45   35  8.950093e-05"
            ],
            "text/html": [
              "\n",
              "  <div id=\"df-9014fc3f-e9fc-4747-8e37-f6527b4055fc\" class=\"colab-df-container\">\n",
              "    <div>\n",
              "<style scoped>\n",
              "    .dataframe tbody tr th:only-of-type {\n",
              "        vertical-align: middle;\n",
              "    }\n",
              "\n",
              "    .dataframe tbody tr th {\n",
              "        vertical-align: top;\n",
              "    }\n",
              "\n",
              "    .dataframe thead th {\n",
              "        text-align: right;\n",
              "    }\n",
              "</style>\n",
              "<table border=\"1\" class=\"dataframe\">\n",
              "  <thead>\n",
              "    <tr style=\"text-align: right;\">\n",
              "      <th></th>\n",
              "      <th>Unnamed: 0</th>\n",
              "      <th>motif</th>\n",
              "      <th>N</th>\n",
              "      <th>K</th>\n",
              "      <th>n</th>\n",
              "      <th>x</th>\n",
              "      <th>p</th>\n",
              "    </tr>\n",
              "  </thead>\n",
              "  <tbody>\n",
              "    <tr>\n",
              "      <th>0</th>\n",
              "      <td>0</td>\n",
              "      <td>EEEEEE</td>\n",
              "      <td>1000</td>\n",
              "      <td>500</td>\n",
              "      <td>350</td>\n",
              "      <td>244</td>\n",
              "      <td>2.282236e-20</td>\n",
              "    </tr>\n",
              "    <tr>\n",
              "      <th>1</th>\n",
              "      <td>1</td>\n",
              "      <td>DDDEEE</td>\n",
              "      <td>1000</td>\n",
              "      <td>500</td>\n",
              "      <td>62</td>\n",
              "      <td>49</td>\n",
              "      <td>1.216714e-06</td>\n",
              "    </tr>\n",
              "    <tr>\n",
              "      <th>2</th>\n",
              "      <td>2</td>\n",
              "      <td>EEEEE</td>\n",
              "      <td>1000</td>\n",
              "      <td>500</td>\n",
              "      <td>387</td>\n",
              "      <td>271</td>\n",
              "      <td>2.645214e-24</td>\n",
              "    </tr>\n",
              "    <tr>\n",
              "      <th>3</th>\n",
              "      <td>3</td>\n",
              "      <td>BBGGG</td>\n",
              "      <td>1000</td>\n",
              "      <td>500</td>\n",
              "      <td>58</td>\n",
              "      <td>46</td>\n",
              "      <td>2.242258e-06</td>\n",
              "    </tr>\n",
              "    <tr>\n",
              "      <th>4</th>\n",
              "      <td>4</td>\n",
              "      <td>EEEEEEE</td>\n",
              "      <td>1000</td>\n",
              "      <td>500</td>\n",
              "      <td>306</td>\n",
              "      <td>212</td>\n",
              "      <td>2.632763e-16</td>\n",
              "    </tr>\n",
              "    <tr>\n",
              "      <th>5</th>\n",
              "      <td>5</td>\n",
              "      <td>AAAAA</td>\n",
              "      <td>1000</td>\n",
              "      <td>500</td>\n",
              "      <td>267</td>\n",
              "      <td>210</td>\n",
              "      <td>5.032911e-29</td>\n",
              "    </tr>\n",
              "    <tr>\n",
              "      <th>6</th>\n",
              "      <td>6</td>\n",
              "      <td>DEEEEE</td>\n",
              "      <td>1000</td>\n",
              "      <td>500</td>\n",
              "      <td>51</td>\n",
              "      <td>38</td>\n",
              "      <td>2.239695e-04</td>\n",
              "    </tr>\n",
              "    <tr>\n",
              "      <th>7</th>\n",
              "      <td>7</td>\n",
              "      <td>ABBBB</td>\n",
              "      <td>1000</td>\n",
              "      <td>500</td>\n",
              "      <td>58</td>\n",
              "      <td>51</td>\n",
              "      <td>4.372554e-10</td>\n",
              "    </tr>\n",
              "    <tr>\n",
              "      <th>8</th>\n",
              "      <td>8</td>\n",
              "      <td>EEEEEEEEE</td>\n",
              "      <td>1000</td>\n",
              "      <td>500</td>\n",
              "      <td>242</td>\n",
              "      <td>163</td>\n",
              "      <td>3.286223e-10</td>\n",
              "    </tr>\n",
              "    <tr>\n",
              "      <th>9</th>\n",
              "      <td>9</td>\n",
              "      <td>DEEEEEE</td>\n",
              "      <td>1000</td>\n",
              "      <td>500</td>\n",
              "      <td>45</td>\n",
              "      <td>35</td>\n",
              "      <td>8.950093e-05</td>\n",
              "    </tr>\n",
              "  </tbody>\n",
              "</table>\n",
              "</div>\n",
              "    <div class=\"colab-df-buttons\">\n",
              "\n",
              "  <div class=\"colab-df-container\">\n",
              "    <button class=\"colab-df-convert\" onclick=\"convertToInteractive('df-9014fc3f-e9fc-4747-8e37-f6527b4055fc')\"\n",
              "            title=\"Convert this dataframe to an interactive table.\"\n",
              "            style=\"display:none;\">\n",
              "\n",
              "  <svg xmlns=\"http://www.w3.org/2000/svg\" height=\"24px\" viewBox=\"0 -960 960 960\">\n",
              "    <path d=\"M120-120v-720h720v720H120Zm60-500h600v-160H180v160Zm220 220h160v-160H400v160Zm0 220h160v-160H400v160ZM180-400h160v-160H180v160Zm440 0h160v-160H620v160ZM180-180h160v-160H180v160Zm440 0h160v-160H620v160Z\"/>\n",
              "  </svg>\n",
              "    </button>\n",
              "\n",
              "  <style>\n",
              "    .colab-df-container {\n",
              "      display:flex;\n",
              "      gap: 12px;\n",
              "    }\n",
              "\n",
              "    .colab-df-convert {\n",
              "      background-color: #E8F0FE;\n",
              "      border: none;\n",
              "      border-radius: 50%;\n",
              "      cursor: pointer;\n",
              "      display: none;\n",
              "      fill: #1967D2;\n",
              "      height: 32px;\n",
              "      padding: 0 0 0 0;\n",
              "      width: 32px;\n",
              "    }\n",
              "\n",
              "    .colab-df-convert:hover {\n",
              "      background-color: #E2EBFA;\n",
              "      box-shadow: 0px 1px 2px rgba(60, 64, 67, 0.3), 0px 1px 3px 1px rgba(60, 64, 67, 0.15);\n",
              "      fill: #174EA6;\n",
              "    }\n",
              "\n",
              "    .colab-df-buttons div {\n",
              "      margin-bottom: 4px;\n",
              "    }\n",
              "\n",
              "    [theme=dark] .colab-df-convert {\n",
              "      background-color: #3B4455;\n",
              "      fill: #D2E3FC;\n",
              "    }\n",
              "\n",
              "    [theme=dark] .colab-df-convert:hover {\n",
              "      background-color: #434B5C;\n",
              "      box-shadow: 0px 1px 3px 1px rgba(0, 0, 0, 0.15);\n",
              "      filter: drop-shadow(0px 1px 2px rgba(0, 0, 0, 0.3));\n",
              "      fill: #FFFFFF;\n",
              "    }\n",
              "  </style>\n",
              "\n",
              "    <script>\n",
              "      const buttonEl =\n",
              "        document.querySelector('#df-9014fc3f-e9fc-4747-8e37-f6527b4055fc button.colab-df-convert');\n",
              "      buttonEl.style.display =\n",
              "        google.colab.kernel.accessAllowed ? 'block' : 'none';\n",
              "\n",
              "      async function convertToInteractive(key) {\n",
              "        const element = document.querySelector('#df-9014fc3f-e9fc-4747-8e37-f6527b4055fc');\n",
              "        const dataTable =\n",
              "          await google.colab.kernel.invokeFunction('convertToInteractive',\n",
              "                                                    [key], {});\n",
              "        if (!dataTable) return;\n",
              "\n",
              "        const docLinkHtml = 'Like what you see? Visit the ' +\n",
              "          '<a target=\"_blank\" href=https://colab.research.google.com/notebooks/data_table.ipynb>data table notebook</a>'\n",
              "          + ' to learn more about interactive tables.';\n",
              "        element.innerHTML = '';\n",
              "        dataTable['output_type'] = 'display_data';\n",
              "        await google.colab.output.renderOutput(dataTable, element);\n",
              "        const docLink = document.createElement('div');\n",
              "        docLink.innerHTML = docLinkHtml;\n",
              "        element.appendChild(docLink);\n",
              "      }\n",
              "    </script>\n",
              "  </div>\n",
              "\n",
              "\n",
              "    <div id=\"df-984d9bd9-e83f-428e-8f4c-d61093ec6c3e\">\n",
              "      <button class=\"colab-df-quickchart\" onclick=\"quickchart('df-984d9bd9-e83f-428e-8f4c-d61093ec6c3e')\"\n",
              "                title=\"Suggest charts\"\n",
              "                style=\"display:none;\">\n",
              "\n",
              "<svg xmlns=\"http://www.w3.org/2000/svg\" height=\"24px\"viewBox=\"0 0 24 24\"\n",
              "     width=\"24px\">\n",
              "    <g>\n",
              "        <path d=\"M19 3H5c-1.1 0-2 .9-2 2v14c0 1.1.9 2 2 2h14c1.1 0 2-.9 2-2V5c0-1.1-.9-2-2-2zM9 17H7v-7h2v7zm4 0h-2V7h2v10zm4 0h-2v-4h2v4z\"/>\n",
              "    </g>\n",
              "</svg>\n",
              "      </button>\n",
              "\n",
              "<style>\n",
              "  .colab-df-quickchart {\n",
              "      --bg-color: #E8F0FE;\n",
              "      --fill-color: #1967D2;\n",
              "      --hover-bg-color: #E2EBFA;\n",
              "      --hover-fill-color: #174EA6;\n",
              "      --disabled-fill-color: #AAA;\n",
              "      --disabled-bg-color: #DDD;\n",
              "  }\n",
              "\n",
              "  [theme=dark] .colab-df-quickchart {\n",
              "      --bg-color: #3B4455;\n",
              "      --fill-color: #D2E3FC;\n",
              "      --hover-bg-color: #434B5C;\n",
              "      --hover-fill-color: #FFFFFF;\n",
              "      --disabled-bg-color: #3B4455;\n",
              "      --disabled-fill-color: #666;\n",
              "  }\n",
              "\n",
              "  .colab-df-quickchart {\n",
              "    background-color: var(--bg-color);\n",
              "    border: none;\n",
              "    border-radius: 50%;\n",
              "    cursor: pointer;\n",
              "    display: none;\n",
              "    fill: var(--fill-color);\n",
              "    height: 32px;\n",
              "    padding: 0;\n",
              "    width: 32px;\n",
              "  }\n",
              "\n",
              "  .colab-df-quickchart:hover {\n",
              "    background-color: var(--hover-bg-color);\n",
              "    box-shadow: 0 1px 2px rgba(60, 64, 67, 0.3), 0 1px 3px 1px rgba(60, 64, 67, 0.15);\n",
              "    fill: var(--button-hover-fill-color);\n",
              "  }\n",
              "\n",
              "  .colab-df-quickchart-complete:disabled,\n",
              "  .colab-df-quickchart-complete:disabled:hover {\n",
              "    background-color: var(--disabled-bg-color);\n",
              "    fill: var(--disabled-fill-color);\n",
              "    box-shadow: none;\n",
              "  }\n",
              "\n",
              "  .colab-df-spinner {\n",
              "    border: 2px solid var(--fill-color);\n",
              "    border-color: transparent;\n",
              "    border-bottom-color: var(--fill-color);\n",
              "    animation:\n",
              "      spin 1s steps(1) infinite;\n",
              "  }\n",
              "\n",
              "  @keyframes spin {\n",
              "    0% {\n",
              "      border-color: transparent;\n",
              "      border-bottom-color: var(--fill-color);\n",
              "      border-left-color: var(--fill-color);\n",
              "    }\n",
              "    20% {\n",
              "      border-color: transparent;\n",
              "      border-left-color: var(--fill-color);\n",
              "      border-top-color: var(--fill-color);\n",
              "    }\n",
              "    30% {\n",
              "      border-color: transparent;\n",
              "      border-left-color: var(--fill-color);\n",
              "      border-top-color: var(--fill-color);\n",
              "      border-right-color: var(--fill-color);\n",
              "    }\n",
              "    40% {\n",
              "      border-color: transparent;\n",
              "      border-right-color: var(--fill-color);\n",
              "      border-top-color: var(--fill-color);\n",
              "    }\n",
              "    60% {\n",
              "      border-color: transparent;\n",
              "      border-right-color: var(--fill-color);\n",
              "    }\n",
              "    80% {\n",
              "      border-color: transparent;\n",
              "      border-right-color: var(--fill-color);\n",
              "      border-bottom-color: var(--fill-color);\n",
              "    }\n",
              "    90% {\n",
              "      border-color: transparent;\n",
              "      border-bottom-color: var(--fill-color);\n",
              "    }\n",
              "  }\n",
              "</style>\n",
              "\n",
              "      <script>\n",
              "        async function quickchart(key) {\n",
              "          const quickchartButtonEl =\n",
              "            document.querySelector('#' + key + ' button');\n",
              "          quickchartButtonEl.disabled = true;  // To prevent multiple clicks.\n",
              "          quickchartButtonEl.classList.add('colab-df-spinner');\n",
              "          try {\n",
              "            const charts = await google.colab.kernel.invokeFunction(\n",
              "                'suggestCharts', [key], {});\n",
              "          } catch (error) {\n",
              "            console.error('Error during call to suggestCharts:', error);\n",
              "          }\n",
              "          quickchartButtonEl.classList.remove('colab-df-spinner');\n",
              "          quickchartButtonEl.classList.add('colab-df-quickchart-complete');\n",
              "        }\n",
              "        (() => {\n",
              "          let quickchartButtonEl =\n",
              "            document.querySelector('#df-984d9bd9-e83f-428e-8f4c-d61093ec6c3e button');\n",
              "          quickchartButtonEl.style.display =\n",
              "            google.colab.kernel.accessAllowed ? 'block' : 'none';\n",
              "        })();\n",
              "      </script>\n",
              "    </div>\n",
              "\n",
              "    </div>\n",
              "  </div>\n"
            ],
            "application/vnd.google.colaboratory.intrinsic+json": {
              "type": "dataframe",
              "variable_name": "init_df",
              "summary": "{\n  \"name\": \"init_df\",\n  \"rows\": 116,\n  \"fields\": [\n    {\n      \"column\": \"Unnamed: 0\",\n      \"properties\": {\n        \"dtype\": \"number\",\n        \"std\": 33,\n        \"min\": 0,\n        \"max\": 115,\n        \"num_unique_values\": 116,\n        \"samples\": [\n          83,\n          4,\n          42\n        ],\n        \"semantic_type\": \"\",\n        \"description\": \"\"\n      }\n    },\n    {\n      \"column\": \"motif\",\n      \"properties\": {\n        \"dtype\": \"string\",\n        \"num_unique_values\": 98,\n        \"samples\": [\n          \"EEEED\",\n          \"EEEEEEEEEDDD\",\n          \"FFCCC\"\n        ],\n        \"semantic_type\": \"\",\n        \"description\": \"\"\n      }\n    },\n    {\n      \"column\": \"N\",\n      \"properties\": {\n        \"dtype\": \"number\",\n        \"std\": 0,\n        \"min\": 1000,\n        \"max\": 1000,\n        \"num_unique_values\": 1,\n        \"samples\": [\n          1000\n        ],\n        \"semantic_type\": \"\",\n        \"description\": \"\"\n      }\n    },\n    {\n      \"column\": \"K\",\n      \"properties\": {\n        \"dtype\": \"number\",\n        \"std\": 4,\n        \"min\": 500,\n        \"max\": 511,\n        \"num_unique_values\": 3,\n        \"samples\": [\n          500\n        ],\n        \"semantic_type\": \"\",\n        \"description\": \"\"\n      }\n    },\n    {\n      \"column\": \"n\",\n      \"properties\": {\n        \"dtype\": \"number\",\n        \"std\": 86,\n        \"min\": 10,\n        \"max\": 387,\n        \"num_unique_values\": 79,\n        \"samples\": [\n          96\n        ],\n        \"semantic_type\": \"\",\n        \"description\": \"\"\n      }\n    },\n    {\n      \"column\": \"x\",\n      \"properties\": {\n        \"dtype\": \"number\",\n        \"std\": 62,\n        \"min\": 10,\n        \"max\": 271,\n        \"num_unique_values\": 73,\n        \"samples\": [\n          212\n        ],\n        \"semantic_type\": \"\",\n        \"description\": \"\"\n      }\n    },\n    {\n      \"column\": \"p\",\n      \"properties\": {\n        \"dtype\": \"number\",\n        \"std\": 0.000261653705346094,\n        \"min\": 1.999306848545443e-35,\n        \"max\": 0.0011623317398474,\n        \"num_unique_values\": 112,\n        \"samples\": [\n          5.2528279220136695e-08\n        ],\n        \"semantic_type\": \"\",\n        \"description\": \"\"\n      }\n    }\n  ]\n}"
            }
          },
          "metadata": {},
          "execution_count": 47
        }
      ]
    },
    {
      "cell_type": "markdown",
      "source": [
        "<br>\n",
        "\n",
        "🐬💦 Now we're ready to dive into motif clustering!\n",
        "\n",
        "First, we'll create a matrix that serves as the foundational data structure for clustering.\n",
        "\n",
        "You can generate it by running the following code:"
      ],
      "metadata": {
        "id": "2uIKKk1In5XL"
      }
    },
    {
      "cell_type": "code",
      "source": [
        "df_sequences=crb.motif_init2df(input_path='/content/init_df.csv')"
      ],
      "metadata": {
        "id": "VJbr8E8Fnrjw"
      },
      "execution_count": 48,
      "outputs": []
    },
    {
      "cell_type": "markdown",
      "source": [
        "<br>\n",
        "\n",
        "The created DataFrame contains the positions of chromatin states within each detected motif, with each column representing a motif instance. To apply DTW, chromatin states `A` to `O` have been numerically converted to values from `1` to `15`.\n",
        "\n",
        "<br>"
      ],
      "metadata": {
        "id": "KS0gG1HFsNLq"
      }
    },
    {
      "cell_type": "code",
      "source": [
        "df_sequences"
      ],
      "metadata": {
        "id": "XpTlzYefnxXD",
        "outputId": "1dbdbf7b-4c74-476a-9311-c1375ecdc8b6",
        "colab": {
          "base_uri": "https://localhost:8080/",
          "height": 450
        }
      },
      "execution_count": 49,
      "outputs": [
        {
          "output_type": "execute_result",
          "data": {
            "text/plain": [
              "   position     0     1     2     3     4     5     6     7     8  ...   106  \\\n",
              "0     Pos 1     5     4     5     2     5     1     4     1     5  ...     7   \n",
              "1     Pos 2     5     4     5     2     5     1     5     2     5  ...     2   \n",
              "2     Pos 3     5     4     5     7     5     1     5     2     5  ...     1   \n",
              "3     Pos 4     5     5     5     7     5     1     5     2     5  ...     1   \n",
              "4     Pos 5     5     5     5     7     5     1     5     2     5  ...     1   \n",
              "5     Pos 6     5     5  <NA>  <NA>     5  <NA>     5  <NA>     5  ...     1   \n",
              "6     Pos 7  <NA>  <NA>  <NA>  <NA>     5  <NA>  <NA>  <NA>     5  ...  <NA>   \n",
              "7     Pos 8  <NA>  <NA>  <NA>  <NA>  <NA>  <NA>  <NA>  <NA>     5  ...  <NA>   \n",
              "8     Pos 9  <NA>  <NA>  <NA>  <NA>  <NA>  <NA>  <NA>  <NA>     5  ...  <NA>   \n",
              "9    Pos 10  <NA>  <NA>  <NA>  <NA>  <NA>  <NA>  <NA>  <NA>  <NA>  ...  <NA>   \n",
              "10   Pos 11  <NA>  <NA>  <NA>  <NA>  <NA>  <NA>  <NA>  <NA>  <NA>  ...  <NA>   \n",
              "11   Pos 12  <NA>  <NA>  <NA>  <NA>  <NA>  <NA>  <NA>  <NA>  <NA>  ...  <NA>   \n",
              "\n",
              "     107   108   109   110   111   112   113   114   115  \n",
              "0      3     7     2     1     6     6     1     2     1  \n",
              "1      3     7     2     1     6     6     1     2     1  \n",
              "2      3     2     1     1     4     3     1     1     1  \n",
              "3      3     1     1     1     4     3     1     1     1  \n",
              "4      3     1     1     1     4     3     1     1     1  \n",
              "5      6     1  <NA>     5  <NA>  <NA>     3     1     1  \n",
              "6   <NA>  <NA>  <NA>     5  <NA>  <NA>     3  <NA>     1  \n",
              "7   <NA>  <NA>  <NA>     5  <NA>  <NA>     3  <NA>  <NA>  \n",
              "8   <NA>  <NA>  <NA>  <NA>  <NA>  <NA>     3  <NA>  <NA>  \n",
              "9   <NA>  <NA>  <NA>  <NA>  <NA>  <NA>     3  <NA>  <NA>  \n",
              "10  <NA>  <NA>  <NA>  <NA>  <NA>  <NA>  <NA>  <NA>  <NA>  \n",
              "11  <NA>  <NA>  <NA>  <NA>  <NA>  <NA>  <NA>  <NA>  <NA>  \n",
              "\n",
              "[12 rows x 117 columns]"
            ],
            "text/html": [
              "\n",
              "  <div id=\"df-0329f241-8b7f-475c-871e-16b9358789b9\" class=\"colab-df-container\">\n",
              "    <div>\n",
              "<style scoped>\n",
              "    .dataframe tbody tr th:only-of-type {\n",
              "        vertical-align: middle;\n",
              "    }\n",
              "\n",
              "    .dataframe tbody tr th {\n",
              "        vertical-align: top;\n",
              "    }\n",
              "\n",
              "    .dataframe thead th {\n",
              "        text-align: right;\n",
              "    }\n",
              "</style>\n",
              "<table border=\"1\" class=\"dataframe\">\n",
              "  <thead>\n",
              "    <tr style=\"text-align: right;\">\n",
              "      <th></th>\n",
              "      <th>position</th>\n",
              "      <th>0</th>\n",
              "      <th>1</th>\n",
              "      <th>2</th>\n",
              "      <th>3</th>\n",
              "      <th>4</th>\n",
              "      <th>5</th>\n",
              "      <th>6</th>\n",
              "      <th>7</th>\n",
              "      <th>8</th>\n",
              "      <th>...</th>\n",
              "      <th>106</th>\n",
              "      <th>107</th>\n",
              "      <th>108</th>\n",
              "      <th>109</th>\n",
              "      <th>110</th>\n",
              "      <th>111</th>\n",
              "      <th>112</th>\n",
              "      <th>113</th>\n",
              "      <th>114</th>\n",
              "      <th>115</th>\n",
              "    </tr>\n",
              "  </thead>\n",
              "  <tbody>\n",
              "    <tr>\n",
              "      <th>0</th>\n",
              "      <td>Pos 1</td>\n",
              "      <td>5</td>\n",
              "      <td>4</td>\n",
              "      <td>5</td>\n",
              "      <td>2</td>\n",
              "      <td>5</td>\n",
              "      <td>1</td>\n",
              "      <td>4</td>\n",
              "      <td>1</td>\n",
              "      <td>5</td>\n",
              "      <td>...</td>\n",
              "      <td>7</td>\n",
              "      <td>3</td>\n",
              "      <td>7</td>\n",
              "      <td>2</td>\n",
              "      <td>1</td>\n",
              "      <td>6</td>\n",
              "      <td>6</td>\n",
              "      <td>1</td>\n",
              "      <td>2</td>\n",
              "      <td>1</td>\n",
              "    </tr>\n",
              "    <tr>\n",
              "      <th>1</th>\n",
              "      <td>Pos 2</td>\n",
              "      <td>5</td>\n",
              "      <td>4</td>\n",
              "      <td>5</td>\n",
              "      <td>2</td>\n",
              "      <td>5</td>\n",
              "      <td>1</td>\n",
              "      <td>5</td>\n",
              "      <td>2</td>\n",
              "      <td>5</td>\n",
              "      <td>...</td>\n",
              "      <td>2</td>\n",
              "      <td>3</td>\n",
              "      <td>7</td>\n",
              "      <td>2</td>\n",
              "      <td>1</td>\n",
              "      <td>6</td>\n",
              "      <td>6</td>\n",
              "      <td>1</td>\n",
              "      <td>2</td>\n",
              "      <td>1</td>\n",
              "    </tr>\n",
              "    <tr>\n",
              "      <th>2</th>\n",
              "      <td>Pos 3</td>\n",
              "      <td>5</td>\n",
              "      <td>4</td>\n",
              "      <td>5</td>\n",
              "      <td>7</td>\n",
              "      <td>5</td>\n",
              "      <td>1</td>\n",
              "      <td>5</td>\n",
              "      <td>2</td>\n",
              "      <td>5</td>\n",
              "      <td>...</td>\n",
              "      <td>1</td>\n",
              "      <td>3</td>\n",
              "      <td>2</td>\n",
              "      <td>1</td>\n",
              "      <td>1</td>\n",
              "      <td>4</td>\n",
              "      <td>3</td>\n",
              "      <td>1</td>\n",
              "      <td>1</td>\n",
              "      <td>1</td>\n",
              "    </tr>\n",
              "    <tr>\n",
              "      <th>3</th>\n",
              "      <td>Pos 4</td>\n",
              "      <td>5</td>\n",
              "      <td>5</td>\n",
              "      <td>5</td>\n",
              "      <td>7</td>\n",
              "      <td>5</td>\n",
              "      <td>1</td>\n",
              "      <td>5</td>\n",
              "      <td>2</td>\n",
              "      <td>5</td>\n",
              "      <td>...</td>\n",
              "      <td>1</td>\n",
              "      <td>3</td>\n",
              "      <td>1</td>\n",
              "      <td>1</td>\n",
              "      <td>1</td>\n",
              "      <td>4</td>\n",
              "      <td>3</td>\n",
              "      <td>1</td>\n",
              "      <td>1</td>\n",
              "      <td>1</td>\n",
              "    </tr>\n",
              "    <tr>\n",
              "      <th>4</th>\n",
              "      <td>Pos 5</td>\n",
              "      <td>5</td>\n",
              "      <td>5</td>\n",
              "      <td>5</td>\n",
              "      <td>7</td>\n",
              "      <td>5</td>\n",
              "      <td>1</td>\n",
              "      <td>5</td>\n",
              "      <td>2</td>\n",
              "      <td>5</td>\n",
              "      <td>...</td>\n",
              "      <td>1</td>\n",
              "      <td>3</td>\n",
              "      <td>1</td>\n",
              "      <td>1</td>\n",
              "      <td>1</td>\n",
              "      <td>4</td>\n",
              "      <td>3</td>\n",
              "      <td>1</td>\n",
              "      <td>1</td>\n",
              "      <td>1</td>\n",
              "    </tr>\n",
              "    <tr>\n",
              "      <th>5</th>\n",
              "      <td>Pos 6</td>\n",
              "      <td>5</td>\n",
              "      <td>5</td>\n",
              "      <td>&lt;NA&gt;</td>\n",
              "      <td>&lt;NA&gt;</td>\n",
              "      <td>5</td>\n",
              "      <td>&lt;NA&gt;</td>\n",
              "      <td>5</td>\n",
              "      <td>&lt;NA&gt;</td>\n",
              "      <td>5</td>\n",
              "      <td>...</td>\n",
              "      <td>1</td>\n",
              "      <td>6</td>\n",
              "      <td>1</td>\n",
              "      <td>&lt;NA&gt;</td>\n",
              "      <td>5</td>\n",
              "      <td>&lt;NA&gt;</td>\n",
              "      <td>&lt;NA&gt;</td>\n",
              "      <td>3</td>\n",
              "      <td>1</td>\n",
              "      <td>1</td>\n",
              "    </tr>\n",
              "    <tr>\n",
              "      <th>6</th>\n",
              "      <td>Pos 7</td>\n",
              "      <td>&lt;NA&gt;</td>\n",
              "      <td>&lt;NA&gt;</td>\n",
              "      <td>&lt;NA&gt;</td>\n",
              "      <td>&lt;NA&gt;</td>\n",
              "      <td>5</td>\n",
              "      <td>&lt;NA&gt;</td>\n",
              "      <td>&lt;NA&gt;</td>\n",
              "      <td>&lt;NA&gt;</td>\n",
              "      <td>5</td>\n",
              "      <td>...</td>\n",
              "      <td>&lt;NA&gt;</td>\n",
              "      <td>&lt;NA&gt;</td>\n",
              "      <td>&lt;NA&gt;</td>\n",
              "      <td>&lt;NA&gt;</td>\n",
              "      <td>5</td>\n",
              "      <td>&lt;NA&gt;</td>\n",
              "      <td>&lt;NA&gt;</td>\n",
              "      <td>3</td>\n",
              "      <td>&lt;NA&gt;</td>\n",
              "      <td>1</td>\n",
              "    </tr>\n",
              "    <tr>\n",
              "      <th>7</th>\n",
              "      <td>Pos 8</td>\n",
              "      <td>&lt;NA&gt;</td>\n",
              "      <td>&lt;NA&gt;</td>\n",
              "      <td>&lt;NA&gt;</td>\n",
              "      <td>&lt;NA&gt;</td>\n",
              "      <td>&lt;NA&gt;</td>\n",
              "      <td>&lt;NA&gt;</td>\n",
              "      <td>&lt;NA&gt;</td>\n",
              "      <td>&lt;NA&gt;</td>\n",
              "      <td>5</td>\n",
              "      <td>...</td>\n",
              "      <td>&lt;NA&gt;</td>\n",
              "      <td>&lt;NA&gt;</td>\n",
              "      <td>&lt;NA&gt;</td>\n",
              "      <td>&lt;NA&gt;</td>\n",
              "      <td>5</td>\n",
              "      <td>&lt;NA&gt;</td>\n",
              "      <td>&lt;NA&gt;</td>\n",
              "      <td>3</td>\n",
              "      <td>&lt;NA&gt;</td>\n",
              "      <td>&lt;NA&gt;</td>\n",
              "    </tr>\n",
              "    <tr>\n",
              "      <th>8</th>\n",
              "      <td>Pos 9</td>\n",
              "      <td>&lt;NA&gt;</td>\n",
              "      <td>&lt;NA&gt;</td>\n",
              "      <td>&lt;NA&gt;</td>\n",
              "      <td>&lt;NA&gt;</td>\n",
              "      <td>&lt;NA&gt;</td>\n",
              "      <td>&lt;NA&gt;</td>\n",
              "      <td>&lt;NA&gt;</td>\n",
              "      <td>&lt;NA&gt;</td>\n",
              "      <td>5</td>\n",
              "      <td>...</td>\n",
              "      <td>&lt;NA&gt;</td>\n",
              "      <td>&lt;NA&gt;</td>\n",
              "      <td>&lt;NA&gt;</td>\n",
              "      <td>&lt;NA&gt;</td>\n",
              "      <td>&lt;NA&gt;</td>\n",
              "      <td>&lt;NA&gt;</td>\n",
              "      <td>&lt;NA&gt;</td>\n",
              "      <td>3</td>\n",
              "      <td>&lt;NA&gt;</td>\n",
              "      <td>&lt;NA&gt;</td>\n",
              "    </tr>\n",
              "    <tr>\n",
              "      <th>9</th>\n",
              "      <td>Pos 10</td>\n",
              "      <td>&lt;NA&gt;</td>\n",
              "      <td>&lt;NA&gt;</td>\n",
              "      <td>&lt;NA&gt;</td>\n",
              "      <td>&lt;NA&gt;</td>\n",
              "      <td>&lt;NA&gt;</td>\n",
              "      <td>&lt;NA&gt;</td>\n",
              "      <td>&lt;NA&gt;</td>\n",
              "      <td>&lt;NA&gt;</td>\n",
              "      <td>&lt;NA&gt;</td>\n",
              "      <td>...</td>\n",
              "      <td>&lt;NA&gt;</td>\n",
              "      <td>&lt;NA&gt;</td>\n",
              "      <td>&lt;NA&gt;</td>\n",
              "      <td>&lt;NA&gt;</td>\n",
              "      <td>&lt;NA&gt;</td>\n",
              "      <td>&lt;NA&gt;</td>\n",
              "      <td>&lt;NA&gt;</td>\n",
              "      <td>3</td>\n",
              "      <td>&lt;NA&gt;</td>\n",
              "      <td>&lt;NA&gt;</td>\n",
              "    </tr>\n",
              "    <tr>\n",
              "      <th>10</th>\n",
              "      <td>Pos 11</td>\n",
              "      <td>&lt;NA&gt;</td>\n",
              "      <td>&lt;NA&gt;</td>\n",
              "      <td>&lt;NA&gt;</td>\n",
              "      <td>&lt;NA&gt;</td>\n",
              "      <td>&lt;NA&gt;</td>\n",
              "      <td>&lt;NA&gt;</td>\n",
              "      <td>&lt;NA&gt;</td>\n",
              "      <td>&lt;NA&gt;</td>\n",
              "      <td>&lt;NA&gt;</td>\n",
              "      <td>...</td>\n",
              "      <td>&lt;NA&gt;</td>\n",
              "      <td>&lt;NA&gt;</td>\n",
              "      <td>&lt;NA&gt;</td>\n",
              "      <td>&lt;NA&gt;</td>\n",
              "      <td>&lt;NA&gt;</td>\n",
              "      <td>&lt;NA&gt;</td>\n",
              "      <td>&lt;NA&gt;</td>\n",
              "      <td>&lt;NA&gt;</td>\n",
              "      <td>&lt;NA&gt;</td>\n",
              "      <td>&lt;NA&gt;</td>\n",
              "    </tr>\n",
              "    <tr>\n",
              "      <th>11</th>\n",
              "      <td>Pos 12</td>\n",
              "      <td>&lt;NA&gt;</td>\n",
              "      <td>&lt;NA&gt;</td>\n",
              "      <td>&lt;NA&gt;</td>\n",
              "      <td>&lt;NA&gt;</td>\n",
              "      <td>&lt;NA&gt;</td>\n",
              "      <td>&lt;NA&gt;</td>\n",
              "      <td>&lt;NA&gt;</td>\n",
              "      <td>&lt;NA&gt;</td>\n",
              "      <td>&lt;NA&gt;</td>\n",
              "      <td>...</td>\n",
              "      <td>&lt;NA&gt;</td>\n",
              "      <td>&lt;NA&gt;</td>\n",
              "      <td>&lt;NA&gt;</td>\n",
              "      <td>&lt;NA&gt;</td>\n",
              "      <td>&lt;NA&gt;</td>\n",
              "      <td>&lt;NA&gt;</td>\n",
              "      <td>&lt;NA&gt;</td>\n",
              "      <td>&lt;NA&gt;</td>\n",
              "      <td>&lt;NA&gt;</td>\n",
              "      <td>&lt;NA&gt;</td>\n",
              "    </tr>\n",
              "  </tbody>\n",
              "</table>\n",
              "<p>12 rows × 117 columns</p>\n",
              "</div>\n",
              "    <div class=\"colab-df-buttons\">\n",
              "\n",
              "  <div class=\"colab-df-container\">\n",
              "    <button class=\"colab-df-convert\" onclick=\"convertToInteractive('df-0329f241-8b7f-475c-871e-16b9358789b9')\"\n",
              "            title=\"Convert this dataframe to an interactive table.\"\n",
              "            style=\"display:none;\">\n",
              "\n",
              "  <svg xmlns=\"http://www.w3.org/2000/svg\" height=\"24px\" viewBox=\"0 -960 960 960\">\n",
              "    <path d=\"M120-120v-720h720v720H120Zm60-500h600v-160H180v160Zm220 220h160v-160H400v160Zm0 220h160v-160H400v160ZM180-400h160v-160H180v160Zm440 0h160v-160H620v160ZM180-180h160v-160H180v160Zm440 0h160v-160H620v160Z\"/>\n",
              "  </svg>\n",
              "    </button>\n",
              "\n",
              "  <style>\n",
              "    .colab-df-container {\n",
              "      display:flex;\n",
              "      gap: 12px;\n",
              "    }\n",
              "\n",
              "    .colab-df-convert {\n",
              "      background-color: #E8F0FE;\n",
              "      border: none;\n",
              "      border-radius: 50%;\n",
              "      cursor: pointer;\n",
              "      display: none;\n",
              "      fill: #1967D2;\n",
              "      height: 32px;\n",
              "      padding: 0 0 0 0;\n",
              "      width: 32px;\n",
              "    }\n",
              "\n",
              "    .colab-df-convert:hover {\n",
              "      background-color: #E2EBFA;\n",
              "      box-shadow: 0px 1px 2px rgba(60, 64, 67, 0.3), 0px 1px 3px 1px rgba(60, 64, 67, 0.15);\n",
              "      fill: #174EA6;\n",
              "    }\n",
              "\n",
              "    .colab-df-buttons div {\n",
              "      margin-bottom: 4px;\n",
              "    }\n",
              "\n",
              "    [theme=dark] .colab-df-convert {\n",
              "      background-color: #3B4455;\n",
              "      fill: #D2E3FC;\n",
              "    }\n",
              "\n",
              "    [theme=dark] .colab-df-convert:hover {\n",
              "      background-color: #434B5C;\n",
              "      box-shadow: 0px 1px 3px 1px rgba(0, 0, 0, 0.15);\n",
              "      filter: drop-shadow(0px 1px 2px rgba(0, 0, 0, 0.3));\n",
              "      fill: #FFFFFF;\n",
              "    }\n",
              "  </style>\n",
              "\n",
              "    <script>\n",
              "      const buttonEl =\n",
              "        document.querySelector('#df-0329f241-8b7f-475c-871e-16b9358789b9 button.colab-df-convert');\n",
              "      buttonEl.style.display =\n",
              "        google.colab.kernel.accessAllowed ? 'block' : 'none';\n",
              "\n",
              "      async function convertToInteractive(key) {\n",
              "        const element = document.querySelector('#df-0329f241-8b7f-475c-871e-16b9358789b9');\n",
              "        const dataTable =\n",
              "          await google.colab.kernel.invokeFunction('convertToInteractive',\n",
              "                                                    [key], {});\n",
              "        if (!dataTable) return;\n",
              "\n",
              "        const docLinkHtml = 'Like what you see? Visit the ' +\n",
              "          '<a target=\"_blank\" href=https://colab.research.google.com/notebooks/data_table.ipynb>data table notebook</a>'\n",
              "          + ' to learn more about interactive tables.';\n",
              "        element.innerHTML = '';\n",
              "        dataTable['output_type'] = 'display_data';\n",
              "        await google.colab.output.renderOutput(dataTable, element);\n",
              "        const docLink = document.createElement('div');\n",
              "        docLink.innerHTML = docLinkHtml;\n",
              "        element.appendChild(docLink);\n",
              "      }\n",
              "    </script>\n",
              "  </div>\n",
              "\n",
              "\n",
              "    <div id=\"df-23a257a7-fd33-4f11-9fc3-bb9041bfb224\">\n",
              "      <button class=\"colab-df-quickchart\" onclick=\"quickchart('df-23a257a7-fd33-4f11-9fc3-bb9041bfb224')\"\n",
              "                title=\"Suggest charts\"\n",
              "                style=\"display:none;\">\n",
              "\n",
              "<svg xmlns=\"http://www.w3.org/2000/svg\" height=\"24px\"viewBox=\"0 0 24 24\"\n",
              "     width=\"24px\">\n",
              "    <g>\n",
              "        <path d=\"M19 3H5c-1.1 0-2 .9-2 2v14c0 1.1.9 2 2 2h14c1.1 0 2-.9 2-2V5c0-1.1-.9-2-2-2zM9 17H7v-7h2v7zm4 0h-2V7h2v10zm4 0h-2v-4h2v4z\"/>\n",
              "    </g>\n",
              "</svg>\n",
              "      </button>\n",
              "\n",
              "<style>\n",
              "  .colab-df-quickchart {\n",
              "      --bg-color: #E8F0FE;\n",
              "      --fill-color: #1967D2;\n",
              "      --hover-bg-color: #E2EBFA;\n",
              "      --hover-fill-color: #174EA6;\n",
              "      --disabled-fill-color: #AAA;\n",
              "      --disabled-bg-color: #DDD;\n",
              "  }\n",
              "\n",
              "  [theme=dark] .colab-df-quickchart {\n",
              "      --bg-color: #3B4455;\n",
              "      --fill-color: #D2E3FC;\n",
              "      --hover-bg-color: #434B5C;\n",
              "      --hover-fill-color: #FFFFFF;\n",
              "      --disabled-bg-color: #3B4455;\n",
              "      --disabled-fill-color: #666;\n",
              "  }\n",
              "\n",
              "  .colab-df-quickchart {\n",
              "    background-color: var(--bg-color);\n",
              "    border: none;\n",
              "    border-radius: 50%;\n",
              "    cursor: pointer;\n",
              "    display: none;\n",
              "    fill: var(--fill-color);\n",
              "    height: 32px;\n",
              "    padding: 0;\n",
              "    width: 32px;\n",
              "  }\n",
              "\n",
              "  .colab-df-quickchart:hover {\n",
              "    background-color: var(--hover-bg-color);\n",
              "    box-shadow: 0 1px 2px rgba(60, 64, 67, 0.3), 0 1px 3px 1px rgba(60, 64, 67, 0.15);\n",
              "    fill: var(--button-hover-fill-color);\n",
              "  }\n",
              "\n",
              "  .colab-df-quickchart-complete:disabled,\n",
              "  .colab-df-quickchart-complete:disabled:hover {\n",
              "    background-color: var(--disabled-bg-color);\n",
              "    fill: var(--disabled-fill-color);\n",
              "    box-shadow: none;\n",
              "  }\n",
              "\n",
              "  .colab-df-spinner {\n",
              "    border: 2px solid var(--fill-color);\n",
              "    border-color: transparent;\n",
              "    border-bottom-color: var(--fill-color);\n",
              "    animation:\n",
              "      spin 1s steps(1) infinite;\n",
              "  }\n",
              "\n",
              "  @keyframes spin {\n",
              "    0% {\n",
              "      border-color: transparent;\n",
              "      border-bottom-color: var(--fill-color);\n",
              "      border-left-color: var(--fill-color);\n",
              "    }\n",
              "    20% {\n",
              "      border-color: transparent;\n",
              "      border-left-color: var(--fill-color);\n",
              "      border-top-color: var(--fill-color);\n",
              "    }\n",
              "    30% {\n",
              "      border-color: transparent;\n",
              "      border-left-color: var(--fill-color);\n",
              "      border-top-color: var(--fill-color);\n",
              "      border-right-color: var(--fill-color);\n",
              "    }\n",
              "    40% {\n",
              "      border-color: transparent;\n",
              "      border-right-color: var(--fill-color);\n",
              "      border-top-color: var(--fill-color);\n",
              "    }\n",
              "    60% {\n",
              "      border-color: transparent;\n",
              "      border-right-color: var(--fill-color);\n",
              "    }\n",
              "    80% {\n",
              "      border-color: transparent;\n",
              "      border-right-color: var(--fill-color);\n",
              "      border-bottom-color: var(--fill-color);\n",
              "    }\n",
              "    90% {\n",
              "      border-color: transparent;\n",
              "      border-bottom-color: var(--fill-color);\n",
              "    }\n",
              "  }\n",
              "</style>\n",
              "\n",
              "      <script>\n",
              "        async function quickchart(key) {\n",
              "          const quickchartButtonEl =\n",
              "            document.querySelector('#' + key + ' button');\n",
              "          quickchartButtonEl.disabled = true;  // To prevent multiple clicks.\n",
              "          quickchartButtonEl.classList.add('colab-df-spinner');\n",
              "          try {\n",
              "            const charts = await google.colab.kernel.invokeFunction(\n",
              "                'suggestCharts', [key], {});\n",
              "          } catch (error) {\n",
              "            console.error('Error during call to suggestCharts:', error);\n",
              "          }\n",
              "          quickchartButtonEl.classList.remove('colab-df-spinner');\n",
              "          quickchartButtonEl.classList.add('colab-df-quickchart-complete');\n",
              "        }\n",
              "        (() => {\n",
              "          let quickchartButtonEl =\n",
              "            document.querySelector('#df-23a257a7-fd33-4f11-9fc3-bb9041bfb224 button');\n",
              "          quickchartButtonEl.style.display =\n",
              "            google.colab.kernel.accessAllowed ? 'block' : 'none';\n",
              "        })();\n",
              "      </script>\n",
              "    </div>\n",
              "\n",
              "  <div id=\"id_9ef43fa6-f103-4372-8830-38a6009c17bd\">\n",
              "    <style>\n",
              "      .colab-df-generate {\n",
              "        background-color: #E8F0FE;\n",
              "        border: none;\n",
              "        border-radius: 50%;\n",
              "        cursor: pointer;\n",
              "        display: none;\n",
              "        fill: #1967D2;\n",
              "        height: 32px;\n",
              "        padding: 0 0 0 0;\n",
              "        width: 32px;\n",
              "      }\n",
              "\n",
              "      .colab-df-generate:hover {\n",
              "        background-color: #E2EBFA;\n",
              "        box-shadow: 0px 1px 2px rgba(60, 64, 67, 0.3), 0px 1px 3px 1px rgba(60, 64, 67, 0.15);\n",
              "        fill: #174EA6;\n",
              "      }\n",
              "\n",
              "      [theme=dark] .colab-df-generate {\n",
              "        background-color: #3B4455;\n",
              "        fill: #D2E3FC;\n",
              "      }\n",
              "\n",
              "      [theme=dark] .colab-df-generate:hover {\n",
              "        background-color: #434B5C;\n",
              "        box-shadow: 0px 1px 3px 1px rgba(0, 0, 0, 0.15);\n",
              "        filter: drop-shadow(0px 1px 2px rgba(0, 0, 0, 0.3));\n",
              "        fill: #FFFFFF;\n",
              "      }\n",
              "    </style>\n",
              "    <button class=\"colab-df-generate\" onclick=\"generateWithVariable('df_sequences')\"\n",
              "            title=\"Generate code using this dataframe.\"\n",
              "            style=\"display:none;\">\n",
              "\n",
              "  <svg xmlns=\"http://www.w3.org/2000/svg\" height=\"24px\"viewBox=\"0 0 24 24\"\n",
              "       width=\"24px\">\n",
              "    <path d=\"M7,19H8.4L18.45,9,17,7.55,7,17.6ZM5,21V16.75L18.45,3.32a2,2,0,0,1,2.83,0l1.4,1.43a1.91,1.91,0,0,1,.58,1.4,1.91,1.91,0,0,1-.58,1.4L9.25,21ZM18.45,9,17,7.55Zm-12,3A5.31,5.31,0,0,0,4.9,8.1,5.31,5.31,0,0,0,1,6.5,5.31,5.31,0,0,0,4.9,4.9,5.31,5.31,0,0,0,6.5,1,5.31,5.31,0,0,0,8.1,4.9,5.31,5.31,0,0,0,12,6.5,5.46,5.46,0,0,0,6.5,12Z\"/>\n",
              "  </svg>\n",
              "    </button>\n",
              "    <script>\n",
              "      (() => {\n",
              "      const buttonEl =\n",
              "        document.querySelector('#id_9ef43fa6-f103-4372-8830-38a6009c17bd button.colab-df-generate');\n",
              "      buttonEl.style.display =\n",
              "        google.colab.kernel.accessAllowed ? 'block' : 'none';\n",
              "\n",
              "      buttonEl.onclick = () => {\n",
              "        google.colab.notebook.generateWithVariable('df_sequences');\n",
              "      }\n",
              "      })();\n",
              "    </script>\n",
              "  </div>\n",
              "\n",
              "    </div>\n",
              "  </div>\n"
            ],
            "application/vnd.google.colaboratory.intrinsic+json": {
              "type": "dataframe",
              "variable_name": "df_sequences"
            }
          },
          "metadata": {},
          "execution_count": 49
        }
      ]
    },
    {
      "cell_type": "markdown",
      "source": [
        "<br>\n",
        "\n",
        "🧶 To explore similarities among motifs, we use **Dynamic Time Warping (DTW)** to measure distances between chromatin state sequences and apply **agglomerative clustering** to build a dendrogram.\n",
        "\n",
        "<br>\n",
        "\n",
        "The arguments for the function below are:\n",
        "\n",
        "* `categorical`:\n",
        "  * If `True`, treats chromatin states as categorical labels—differences between any two distinct values are treated equally.\n",
        "\n",
        "  * If `False`, treats values as numeric, so closer numbers (e.g., 1 and 2) are considered more similar than distant ones (e.g., 1 and 15).\n",
        "\n",
        "* `fillna_method`: How to handle NaN values caused by padding shorter sequences. Use `ffill` to forward-fill or `0` to fill with zeros.\n",
        "\n",
        "* `linkage_method`: The linkage criterion used in agglomerative clustering. Common options include `complete`, `average`, `ward`, etc. See [SciPy documentation](https://docs.scipy.org/doc/scipy/reference/generated/scipy.cluster.hierarchy.linkage.html) for details.\n",
        "\n",
        "* `threshold`: The distance threshold for cutting the dendrogram to estimate the number of clusters. A higher value merges more branches; a lower value splits more finely."
      ],
      "metadata": {
        "id": "S2f_PJT-G94b"
      }
    },
    {
      "cell_type": "code",
      "source": [
        "# dendrogram\n",
        "y_pred= crb.motif_init2pred_with_dendrogram(input_path='/content/init_df.csv', categorical=False, fillna_method='ffill', linkage_method='complete', threshold=35)"
      ],
      "metadata": {
        "id": "lIY8-PveEZJC",
        "colab": {
          "base_uri": "https://localhost:8080/",
          "height": 683
        },
        "outputId": "ff6235e3-1014-423c-95e7-52eb27e2f9c0"
      },
      "execution_count": 50,
      "outputs": [
        {
          "output_type": "stream",
          "name": "stdout",
          "text": [
            "DTW computation time: 10.7524 seconds\n"
          ]
        },
        {
          "output_type": "display_data",
          "data": {
            "text/plain": [
              "<Figure size 800x600 with 1 Axes>"
            ],
            "image/png": "[encoded data removed]"
          },
          "metadata": {}
        },
        {
          "output_type": "stream",
          "name": "stdout",
          "text": [
            "Estimated number of clusters: 13\n",
            "Clustering Duration: 0:00:00.512584\n",
            "Number of cluster estimated by dendrogram with designated threshold 35: [13] clusters\n",
            "Min distance: 0.0\n",
            "Max distance: 27.055498516937366\n",
            "Median distance: 6.48074069840786\n"
          ]
        }
      ]
    },
    {
      "cell_type": "markdown",
      "source": [
        "<br>\n",
        "\n",
        "🤔 **How does `thershold` work?**\n",
        "\n",
        "Since the ideal number of clusters is unknown, the **dendrogram** provides a visual guide for estimating cluster structure. The threshold value (e.g., 35) controls how high we cut the tree 🪚🌲: a higher threshold results in fewer, larger clusters, while a lower threshold creates more, smaller clusters. This step is a preliminary guide for cluster selection before applying final clustering.\n",
        "\n",
        "<br>\n",
        "\n",
        "📊 **Clustering Output**: `y_pred`\n",
        "\n",
        "The variable `y_pred` contains the predicted cluster labels for each motif, returned as a NumPy array. Each number corresponds to a cluster index assigned based on DTW-based agglomerative clustering.\n",
        "\n",
        "<br>"
      ],
      "metadata": {
        "id": "yW3p989HWJrN"
      }
    },
    {
      "cell_type": "code",
      "source": [
        "y_pred"
      ],
      "metadata": {
        "id": "ije-EZorWCzb",
        "outputId": "16b4b3b0-fd84-4e08-ed29-4cb4a79df1a5",
        "colab": {
          "base_uri": "https://localhost:8080/"
        }
      },
      "execution_count": 51,
      "outputs": [
        {
          "output_type": "execute_result",
          "data": {
            "text/plain": [
              "array([ 3,  5,  3,  7,  3,  8,  5,  9,  3,  5,  9,  5,  3,  3,  6,  3,  5,\n",
              "        5, 12,  5,  3,  5,  3,  5,  3, 13,  9,  5, 12, 11, 10,  3, 11,  3,\n",
              "        5,  6,  3, 10,  5,  1,  5,  5, 13, 13,  9,  3,  5, 10,  5,  6,  6,\n",
              "        6,  5,  9,  5,  1, 11,  9,  5,  3,  3,  3,  9,  3,  9,  9,  5, 13,\n",
              "        8,  5,  6, 11,  5,  9, 11,  3,  9,  9,  8, 10,  5,  9,  5,  6,  6,\n",
              "        8, 13,  5,  3,  3,  5,  5,  9,  2,  9, 10, 11,  5, 10,  9,  5, 10,\n",
              "        3,  4,  6, 10, 11,  4, 11,  9, 10,  3,  4,  9,  9,  8],\n",
              "      dtype=int32)"
            ]
          },
          "metadata": {},
          "execution_count": 51
        }
      ]
    },
    {
      "cell_type": "markdown",
      "source": [
        "<br>\n",
        "\n",
        "**DTW Distance Matrix**\n",
        "\n",
        "🏃‍➡️ If you want to quickly obtain the `dtw_distance_matrix` and `y_pred` after deciding on the number of clusters from the dendrogram, run `motif_init2pred_test` to generate them.\n"
      ],
      "metadata": {
        "id": "X6Pbr8nXjLm7"
      }
    },
    {
      "cell_type": "code",
      "source": [
        "dtw_distance_matrix, y_pred=crb.motif_init2pred(input_path='/content/init_df.csv', categorical=False, fillna_method=\"ffill\", n_clusters=11, linkage_method=\"complete\")\n",
        "dtw_distance_matrix"
      ],
      "metadata": {
        "id": "1ePEz-rIagmt",
        "outputId": "65cab5d0-55f3-4f41-adeb-6f653316e5d1",
        "colab": {
          "base_uri": "https://localhost:8080/"
        }
      },
      "execution_count": 52,
      "outputs": [
        {
          "output_type": "stream",
          "name": "stdout",
          "text": [
            "DTW computation time: 7.803940057754517 seconds\n",
            "Clustering Duration: 0:00:00.002263\n"
          ]
        },
        {
          "output_type": "execute_result",
          "data": {
            "text/plain": [
              "array([[ 0.        ,  1.73205081,  0.        , ..., 10.39230485,\n",
              "        11.66190379, 13.85640646],\n",
              "       [ 1.73205081,  0.        ,  1.73205081, ...,  9.        ,\n",
              "        10.72380529, 13.07669683],\n",
              "       [ 0.        ,  1.73205081,  0.        , ..., 10.39230485,\n",
              "        11.66190379, 13.85640646],\n",
              "       ...,\n",
              "       [10.39230485,  9.        , 10.39230485, ...,  0.        ,\n",
              "         2.82842712,  5.29150262],\n",
              "       [11.66190379, 10.72380529, 11.66190379, ...,  2.82842712,\n",
              "         0.        ,  1.41421356],\n",
              "       [13.85640646, 13.07669683, 13.85640646, ...,  5.29150262,\n",
              "         1.41421356,  0.        ]])"
            ]
          },
          "metadata": {},
          "execution_count": 52
        }
      ]
    },
    {
      "cell_type": "markdown",
      "source": [
        "🎨 Also, if you're interested in how motifs group together based on similarity, this heatmap shows their DTW distances — darker areas mean more similar motifs, and the order reflects clustering structure."
      ],
      "metadata": {
        "id": "FkeIKCC-bIoq"
      }
    },
    {
      "cell_type": "code",
      "source": [
        "import matplotlib.pyplot as plt\n",
        "import seaborn as sns\n",
        "import warnings\n",
        "from scipy.cluster.hierarchy import leaves_list, linkage, ClusterWarning\n",
        "with warnings.catch_warnings():\n",
        "    warnings.simplefilter(\"ignore\", category=ClusterWarning)\n",
        "    linkage_matrix = linkage(dtw_distance_matrix, method='complete')\n",
        "    ordered_indices = leaves_list(linkage_matrix)\n",
        "    reordered_matrix = dtw_distance_matrix[ordered_indices][:, ordered_indices]\n",
        "\n",
        "plt.figure(figsize=(6, 5))\n",
        "sns.heatmap(reordered_matrix, cmap='viridis', square=True)\n",
        "plt.title('Cluster-Reordered DTW Distance Matrix')\n",
        "plt.xlabel('Motif Index (reordered)')\n",
        "plt.ylabel('Motif Index (reordered)')\n",
        "plt.show()"
      ],
      "metadata": {
        "id": "YSoOEcIDbRGs",
        "outputId": "57def048-77af-465a-eea3-41a474719329",
        "colab": {
          "base_uri": "https://localhost:8080/",
          "height": 487
        }
      },
      "execution_count": 54,
      "outputs": [
        {
          "output_type": "display_data",
          "data": {
            "text/plain": [
              "<Figure size 600x500 with 2 Axes>"
            ],
            "image/png": "[encoded data removed]"
          },
          "metadata": {}
        }
      ]
    },
    {
      "cell_type": "markdown",
      "source": [
        "Here, each value indicates the cluster assignment of a motif (i.e., the column in the input matrix). Motifs with the same number belong to the same cluster and are considered to share similar chromatin state transition patterns.\n",
        "\n"
      ],
      "metadata": {
        "id": "ARP061MuWare"
      }
    },
    {
      "cell_type": "markdown",
      "source": [
        "<br>\n",
        "\n",
        "**🎨 Cluster Visualization**\n",
        "\n",
        "This graph-based view shows how chromatin state motifs are grouped based on their similarity. Each node represents a motif, and motifs assigned to the same cluster are visualized together within a colored bubble. The letters show the chromatin state sequences, and their position in the layout reflects the result of similarity-based clustering.\n",
        "\n",
        "The result image is automatically saved as `cluster_result.pdf`. You can view it by clicking the file icon on the left sidebar.\n",
        "\n",
        "<br>"
      ],
      "metadata": {
        "id": "yieNL22c27mB"
      }
    },
    {
      "cell_type": "code",
      "source": [
        "crb.motif_init2cluster_vis(input_path='/content/init_df.csv', categorical=False, n_clusters=11, fillna_method=\"ffill\", linkage_method=\"complete\", random_state=2, font_scale=0.0035,font_v_scale=10, fig_w=12, fig_h=8, node_size=1000, node_dist=0.05)"
      ],
      "metadata": {
        "id": "MMI_qeUUv-S0",
        "outputId": "cfb0890d-2839-4e62-c8b8-a011a7374bfd",
        "colab": {
          "base_uri": "https://localhost:8080/",
          "height": 704
        }
      },
      "execution_count": 55,
      "outputs": [
        {
          "output_type": "stream",
          "name": "stdout",
          "text": [
            "DTW computation time: 7.501561164855957 seconds\n",
            "Clustering Duration: 0:00:00.002207\n",
            "11\n"
          ]
        },
        {
          "output_type": "display_data",
          "data": {
            "text/plain": [
              "<Figure size 1200x800 with 1 Axes>"
            ],
            "image/png": "[encoded data removed]"
          },
          "metadata": {}
        }
      ]
    },
    {
      "cell_type": "markdown",
      "source": [
        "🔧 You can adjust the visualization parameters below to improve clarity or explore different clustering outcomes:\n",
        "\n",
        "* Visualization Parameters Overview\n",
        "\n",
        "  - `input_path`: Path to input motif CSV\n",
        "  - `categorical`: Set to `True` for categorical comparison, `False` for numerical.\n",
        "  - `n_clusters`: Number of clusters to form\n",
        "  - `fillna_method`: Fill method for missing values (e.g., `\"ffill\"`)\n",
        "  - `linkage_method`: Clustering method like `\"complete\"` or `\"average\"`\n",
        "  - `random_state`: Controls layout reproducibility\n",
        "  - `font_scale`: Controls motif letter size in nodes\n",
        "  - `font_v_scale`: Adjusts vertical spacing of letters\n",
        "  - `fig_w`, `fig_h`: Size of the entire figure\n",
        "  - `node_size`: Base size of nodes\n",
        "  - `node_dist`: Controls node spacing in the layout\n",
        "\n",
        "\n",
        "<br><br>\n",
        "\n",
        "**🎨 UMAP-Based Cluster Visualization**\n",
        "\n",
        "To explore the overall structure of motif clusters in a more intuitive 2D layout, we use UMAP (Uniform Manifold Approximation and Projection). This reduces the high-dimensional DTW distance matrix to two dimensions while preserving meaningful relationships between motifs.\n",
        "\n",
        "Each point represents a motif, and colors indicate the cluster assignments from agglomerative clustering. This plot helps you visually assess how distinct (or overlapping) the clusters are."
      ],
      "metadata": {
        "id": "My4mJjDEWSU-"
      }
    },
    {
      "cell_type": "code",
      "execution_count": 56,
      "metadata": {
        "id": "W7oHvL9XOu8X",
        "colab": {
          "base_uri": "https://localhost:8080/",
          "height": 527
        },
        "outputId": "973bf49b-ef39-4058-cc6c-f25be1d29296"
      },
      "outputs": [
        {
          "output_type": "stream",
          "name": "stdout",
          "text": [
            "DTW computation time: 7.781802654266357 seconds\n",
            "Clustering Duration: 0:00:00.001952\n"
          ]
        },
        {
          "output_type": "display_data",
          "data": {
            "text/plain": [
              "<Figure size 800x500 with 2 Axes>"
            ],
            "image/png": "[encoded data removed]"
          },
          "metadata": {}
        }
      ],
      "source": [
        "crb.motif_init2umap(input_path='/content/init_df.csv', categorical=False,  n_clusters=11, fillna_method=\"ffill\", linkage_method=\"complete\", n_neighbors=5, min_dist=0.3, random_state=2)"
      ]
    },
    {
      "cell_type": "markdown",
      "source": [
        "* 🔧 Key Parameters\n",
        "\n",
        "  * `n_neighbors`: Controls how local or global the structure of the data is.\n",
        "Smaller values emphasize local cluster shape; larger values highlight global patterns.\n",
        "\n",
        "  * `min_dist`: Controls how tightly UMAP is allowed to pack points together.\n",
        "Smaller values reveal finer substructures, while larger values spread out the clusters.\n",
        "\n",
        "  * `n_clusters`: Number of clusters from hierarchical clustering (used for coloring).\n"
      ],
      "metadata": {
        "id": "qE3GGwoR_Sgx"
      }
    },
    {
      "cell_type": "markdown",
      "source": [
        "<br><br>\n",
        "\n",
        "----\n",
        "\n",
        "\n",
        "<br><br>\n",
        "\n",
        "\n",
        "**💫 Wrapping Up**\n",
        "\n",
        "🥳 Congratulations on completing the tutorial! 🎉\n",
        "\n",
        "You've now walked through the full pipeline — from data download and curation, to sequence preprocessing for pretraining, followed by fine-tuning, and finally visualizing motifs and their clustering.\n",
        "\n",
        "This end-to-end workflow empowers you to explore chromatin state patterns in a structured and interpretable way.\n",
        "\n",
        "Feel free to adjust parameters, test on your own datasets, or extend the pipeline with custom modules. Whether you're aiming for predictive modeling or biological insight, you're now equipped to take ChromBERT further.\n",
        "\n",
        "Thanks for exploring with us — and happy clustering! 🧬✨\n",
        "\n",
        "\n",
        "💮\n",
        "\n",
        "<br>\n",
        "\n",
        "-----"
      ],
      "metadata": {
        "id": "3XARoDGhBSfE"
      }
    }
  ],
  "metadata": {
    "colab": {
      "provenance": []
    },
    "kernelspec": {
      "display_name": "Python 3",
      "name": "python3"
    },
    "language_info": {
      "name": "python"
    }
  },
  "nbformat": 4,
  "nbformat_minor": 0
}